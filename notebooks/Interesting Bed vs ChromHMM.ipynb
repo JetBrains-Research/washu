{
 "cells": [
  {
   "cell_type": "code",
   "execution_count": null,
   "metadata": {
    "ExecuteTime": {
     "end_time": "2017-10-10T19:41:12.564198Z",
     "start_time": "2017-10-10T19:41:11.672651Z"
    },
    "collapsed": true
   },
   "outputs": [],
   "source": [
    "from pathlib import Path\n",
    "from itertools import chain\n",
    "import subprocess \n",
    "import os\n",
    "\n",
    "import pandas as pd\n",
    "import matplotlib.pyplot as plt\n",
    "import numpy as np \n",
    "from IPython.display import display\n",
    "import pybedtools"
   ]
  },
  {
   "cell_type": "code",
   "execution_count": null,
   "metadata": {
    "ExecuteTime": {
     "end_time": "2017-10-10T19:41:13.317080Z",
     "start_time": "2017-10-10T19:41:13.312869Z"
    },
    "collapsed": true
   },
   "outputs": [],
   "source": [
    "#results_dir = Path(\"/mnt/stripe/bio/experiments/aging/loci_of_interest.tables\")\n",
    "results_dir = Path(\"/Volumes/BigData/bio/experiments/aging/loci_of_interest.tables\")\n",
    "results_dir.mkdir(exist_ok=True)\n",
    "\n",
    "# sorted root:\n",
    "# sorted_root = Path(\"/mnt/stripe/bio/experiments/aging/loci.sorted\")\n",
    "sorted_root = Path(\"/Volumes/BigData/bio/experiments/aging/loci.sorted\")\n",
    "\n",
    "THREADS_N = 8"
   ]
  },
  {
   "cell_type": "markdown",
   "metadata": {},
   "source": [
    "# Cleanup"
   ]
  },
  {
   "cell_type": "code",
   "execution_count": null,
   "metadata": {
    "ExecuteTime": {
     "end_time": "2017-10-10T19:41:13.663918Z",
     "start_time": "2017-10-10T19:41:13.660793Z"
    },
    "collapsed": true
   },
   "outputs": [],
   "source": [
    "#pybedtools.set_tempdir(\"/tmp\")\n",
    "pybedtools.cleanup()\n",
    "# !rm {sorted_root}\n",
    "# !rm {results_dir}"
   ]
  },
  {
   "cell_type": "markdown",
   "metadata": {},
   "source": [
    "# Known annotations"
   ]
  },
  {
   "cell_type": "code",
   "execution_count": null,
   "metadata": {
    "ExecuteTime": {
     "end_time": "2017-10-11T10:40:32.854021Z",
     "start_time": "2017-10-11T10:40:32.813392Z"
    },
    "collapsed": true
   },
   "outputs": [],
   "source": [
    "#root = Path(\"/mnt/stripe/bio/raw-data/aging/loci_of_interest\")\n",
    "loci_root = Path(\"/Volumes/BigData/bio/raw-data/aging/loci_of_interest\")\n",
    "\n",
    "#macs2_peaks_root = Path(\"/mnt/stripe/bio/experiments/aging/peak_calling\")\n",
    "macs2_peaks_root = Path(\"/Volumes/BigData/bio/experiments/aging/peak_calling\") # *.*Peak\n",
    "\n",
    "# zinbra_peaks_root = Path(\"/mnt/stripe/bio/experiments/configs/Y20O20/peaks/\")\n",
    "zinbra_peaks_root = Path(\"/Volumes/BigData/bio/experiments/configs/Y20O20/peaks\") # *.bed\n",
    "\n",
    "signal_root = Path(\"/mnt/stripe/bio/experiments/signal\")\n",
    "\n",
    "chromhmm_root = loci_root / \"chromhmm\""
   ]
  },
  {
   "cell_type": "markdown",
   "metadata": {},
   "source": [
    "## ChromHMM"
   ]
  },
  {
   "cell_type": "code",
   "execution_count": null,
   "metadata": {
    "ExecuteTime": {
     "end_time": "2017-10-10T19:41:16.289288Z",
     "start_time": "2017-10-10T19:41:16.251639Z"
    }
   },
   "outputs": [],
   "source": [
    "chromhmm_paths = list(chromhmm_root.glob('*.bed'))\n",
    "chromhmm_paths.sort(key=lambda p: int(p.name.split(\".\")[2].split(\"_\")[0]))\n",
    "\n",
    "CHROMHMM_ST_MAP = {\n",
    "    \"1_TssA\": \"Active TSS\",\n",
    "    \"2_TssFlnk\": \"Flanking TSS\",\n",
    "    \"3_TssFlnkU\": \"Flanking TSS Upstream\",\n",
    "    \"4_TssFlnkD\": \"Flanking TSS Downstream\",\n",
    "    \"5_Tx\": \"Strong transcription\",\n",
    "    \"6_TxWk\": \"Weak transcription\",\n",
    "    \"7_EnhG1\": \"Genic enhancer1\",\n",
    "    \"8_EnhG2\": \"Genic enhancer2\",\n",
    "    \"9_EnhA1\": \"Active Enhancer 1\",\n",
    "    \"10_EnhA2\": \"Active Enhancer 2\",\n",
    "    \"11_EnhWk\": \"Weak Enhancer\",\n",
    "    \"12_ZNF_Rpts\": \"ZNF genes & repeats\",\n",
    "    \"13_Het\": \"Heterochromatin\",\n",
    "    \"14_TssBiv\": \"Bivalent/Poised TSS\",\n",
    "    \"15_EnhBiv\": \"Bivalent Enhancer\",\n",
    "    \"16_ReprPC\": \"Repressed PolyComb\",\n",
    "    \"17_ReprPCWk\": \"Weak Repressed PolyComb\",\n",
    "    \"18_Quies\": \"Quiescent/Low\",\n",
    "}\n",
    "\n",
    "def chromhmm_state_descr(s):\n",
    "    chunks = s.split(\".\")\n",
    "    if len(chunks) <= 2:\n",
    "        return s\n",
    "    return CHROMHMM_ST_MAP.get(chunks[2], s)\n",
    "\n",
    "for i, p in enumerate(chromhmm_paths):\n",
    "    print(chromhmm_state_descr(p.name), \"->\", p)"
   ]
  },
  {
   "cell_type": "markdown",
   "metadata": {},
   "source": [
    "## Loci"
   ]
  },
  {
   "cell_type": "code",
   "execution_count": null,
   "metadata": {
    "ExecuteTime": {
     "end_time": "2017-10-10T19:41:17.860718Z",
     "start_time": "2017-10-10T19:41:17.834830Z"
    },
    "scrolled": true
   },
   "outputs": [],
   "source": [
    "loci_paths = sorted([p for p in loci_root.glob('**/*.bed') if not str(p).startswith(str(chromhmm_root))])\n",
    "for i, p in enumerate(loci_paths):\n",
    "    print(p)"
   ]
  },
  {
   "cell_type": "markdown",
   "metadata": {},
   "source": [
    "## Peaks"
   ]
  },
  {
   "cell_type": "code",
   "execution_count": null,
   "metadata": {
    "ExecuteTime": {
     "end_time": "2017-10-10T19:41:19.387645Z",
     "start_time": "2017-10-10T19:41:19.355532Z"
    }
   },
   "outputs": [],
   "source": [
    "def donor_order_id(path):\n",
    "    chunks = path.name.split('_')\n",
    "    cands = list(filter(lambda s: len(s) > 2 and (s.startswith(\"OD\") or s.startswith(\"YD\")), chunks))\n",
    "    if len(cands) > 0:\n",
    "        donor_id = cands[0]\n",
    "        return (donor_id[:2], int(donor_id[2:]))\n",
    "    else:\n",
    "        return (path.name, 0)\n",
    "    \n",
    "\n",
    "def collect_peaks(peaks_roots):\n",
    "    result = {}\n",
    "    for peaks_root in [x for x in peaks_roots.iterdir() if x.is_dir()]:\n",
    "        print(\"Peaks:\", peaks_root)\n",
    "\n",
    "        peaks = list(chain(peaks_root.glob(\"**/*.bed\"), peaks_root.glob(\"**/*.*Peak\")))\n",
    "        # e.g. \n",
    "        # * OD_OD14_H3K27ac_hg19_1.0E-6_peaks.bed\n",
    "        # * OD8_k27ac_hg19_broad_peaks.broadPeak\n",
    "        # * zinbra_weak_consensus.bed\n",
    "        peaks.sort(key=donor_order_id)\n",
    "        print(len(peaks))    \n",
    "        print(*[str(p) for p in peaks], sep=\"\\n\")\n",
    "        result[peaks_root.name] = peaks\n",
    "    return result"
   ]
  },
  {
   "cell_type": "code",
   "execution_count": null,
   "metadata": {
    "ExecuteTime": {
     "end_time": "2017-10-10T19:41:19.549789Z",
     "start_time": "2017-10-10T19:41:19.533509Z"
    }
   },
   "outputs": [],
   "source": [
    "macs2_peaks_by_histmod = collect_peaks(macs2_peaks_root)"
   ]
  },
  {
   "cell_type": "code",
   "execution_count": null,
   "metadata": {
    "ExecuteTime": {
     "end_time": "2017-10-10T19:41:19.989408Z",
     "start_time": "2017-10-10T19:41:19.973122Z"
    }
   },
   "outputs": [],
   "source": [
    "zinbra_peaks_by_histmod = collect_peaks(zinbra_peaks_root)"
   ]
  },
  {
   "cell_type": "markdown",
   "metadata": {},
   "source": [
    "## Summary"
   ]
  },
  {
   "cell_type": "code",
   "execution_count": null,
   "metadata": {
    "ExecuteTime": {
     "end_time": "2017-10-10T19:41:21.226235Z",
     "start_time": "2017-10-10T19:41:21.222648Z"
    }
   },
   "outputs": [],
   "source": [
    "all_loci = loci_paths + chromhmm_paths"
   ]
  },
  {
   "cell_type": "markdown",
   "metadata": {},
   "source": [
    "# Code"
   ]
  },
  {
   "cell_type": "code",
   "execution_count": null,
   "metadata": {
    "ExecuteTime": {
     "end_time": "2017-10-10T19:41:23.985605Z",
     "start_time": "2017-10-10T19:41:23.865256Z"
    }
   },
   "outputs": [],
   "source": [
    "!which bedtools"
   ]
  },
  {
   "cell_type": "code",
   "execution_count": null,
   "metadata": {
    "ExecuteTime": {
     "end_time": "2017-10-10T19:41:24.593172Z",
     "start_time": "2017-10-10T19:41:24.573749Z"
    },
    "collapsed": true
   },
   "outputs": [],
   "source": [
    "# bedtrace.py\n",
    "def run(commands, stdin=None, stdout=subprocess.PIPE, stderr=subprocess.PIPE):\n",
    "    \"\"\"Launches pipe of commands given stdin and final stdout, stderr\"\"\"\n",
    "    processes = []\n",
    "    _stdin = stdin\n",
    "    for i, cmd in enumerate(commands):\n",
    "        if i < len(commands) - 1:\n",
    "            _stdout = subprocess.PIPE\n",
    "        else:\n",
    "            _stdout = stdout\n",
    "            \n",
    "        p = subprocess.Popen(cmd, stdin=_stdin, stdout=_stdout,\n",
    "                             stderr=stderr)\n",
    "        processes.append(p)\n",
    "        _stdin = p.stdout\n",
    "\n",
    "    for i in range(0, len(processes)):\n",
    "        if i < len(processes) - 1:\n",
    "            # Allow p1 to receive a SIGPIPE if p2 exits.\n",
    "            processes[i].stdout.close()\n",
    "        else:\n",
    "            return processes[i].communicate()"
   ]
  },
  {
   "cell_type": "code",
   "execution_count": null,
   "metadata": {
    "ExecuteTime": {
     "end_time": "2017-10-10T22:18:49.394666Z",
     "start_time": "2017-10-10T22:18:49.355275Z"
    },
    "collapsed": true
   },
   "outputs": [],
   "source": [
    "def as_sorted_bedtool(p: Path, root: Path, sorted_root: Path):\n",
    "#     if not str(p).startswith(str(root)):\n",
    "#         # TODO: Not implemented, e.g peaks files\n",
    "#         stderr = run(([\"sort\", \"-c\", \"-k1,1\", \"-k2,2n\", str(p)],))[1]\n",
    "#         assert len(stderr) == 0, \"File: {}\\nError:\\n{}\".format(p, stderr)\n",
    "#         return pybedtools.bedtool.BedTool(str(p))\n",
    "    \n",
    "    sorted_p = sorted_root / p.relative_to(root)\n",
    "    sorted_p = sorted_p.parent / (sorted_p.stem + \".sorted.bed\")\n",
    "\n",
    "    if not sorted_p.exists():\n",
    "        sorted_p.parent.mkdir(exist_ok=True, parents=True)\n",
    "        \n",
    "        # Do not resort file if already sorted:\n",
    "        stderr = run(([\"sort\", \"-c\", \"-k1,1\", \"-k2,2n\", str(p)],))[1]\n",
    "        is_sorted = (len(stderr) == 0)\n",
    "        \n",
    "        bt = pybedtools.bedtool.BedTool(str(p))\n",
    "        if not is_sorted:\n",
    "            print(\"Sorting: \", str(p))\n",
    "            # By some reason BedTool.sort() fails to sort cds.csv\n",
    "            # bt.sort().saveas(sorted_p)\n",
    "            #stderr = run(([\"sort\", \"-c\", \"-k1,1\", \"-k2,2n\", str(sorted_p)],))[1]\n",
    "            #assert len(stderr) == 0, \"Expected to be sorted: {}\\nError:\\n{}\".format(sorted_p, stderr)\n",
    "            with open(str(sorted_p), \"w\") as f:\n",
    "                run(([\"sort\", \"-k1,1\", \"-k2,2n\", str(p)],), stdout=f)\n",
    "            print(\"  [Done]\", str(sorted_p))\n",
    "        else:   \n",
    "            # just copy file\n",
    "            bt.saveas(sorted_p)\n",
    "        \n",
    "    return pybedtools.bedtool.BedTool(str(sorted_p))"
   ]
  },
  {
   "cell_type": "code",
   "execution_count": null,
   "metadata": {
    "ExecuteTime": {
     "end_time": "2017-10-10T22:26:32.411998Z",
     "start_time": "2017-10-10T22:26:32.338287Z"
    }
   },
   "outputs": [],
   "source": [
    "from multiprocessing import Pool, TimeoutError\n",
    "\n",
    "# def run_bedtools_uniq_wc(ij, a, b):\n",
    "#     output = run(([\"cat\", a.intersect(b, wa=True).fn], [\"uniq\"], [\"wc\", \"-l\"]))\n",
    "#     return (ij, int(output[0].decode().strip()))\n",
    "\n",
    "def run_bedtools_uniq_wc(ij, a: pybedtools.BedTool, b: pybedtools.BedTool):\n",
    "#     a = as_sorted_bedtool(a)\n",
    "#     b = as_sorted_bedtool(b)\n",
    "    output = run(([\"cat\", a.intersect(b, wa=True).fn], [\"uniq\"], [\"wc\", \"-l\"]))\n",
    "    return (ij, int(output[0].decode().strip()))\n",
    "\n",
    "# def run_bedtools_jaccard(ij, a, b):\n",
    "#     output = run(([\"bedtools\", \"jaccard\", \"-a\", a, \"-b\", b], [\"cut\", \"-f\", \"3\"]))\n",
    "#     stdout = output[0].decode().strip()\n",
    "#     lines = stdout.split(\"\\n\")\n",
    "#     assert len(lines) == 2, lines\n",
    "#     assert lines[0] == \"jaccard\"\n",
    "#     return (ij, int(lines[1]))\n",
    "\n",
    "def run_bedtools_jaccard(ij, a: pybedtools.BedTool, b: pybedtools.BedTool):\n",
    "#     a = as_sorted_bedtool(a)\n",
    "#     b = as_sorted_bedtool(b)\n",
    "    return (ij, a.jaccard(b)[\"jaccard\"])\n",
    "\n",
    "def calc_intersection_table(a_paths, b_paths, path_to_bt, threads=4, timeout_hours=10, jaccard=False):   \n",
    "    path_pairs = []\n",
    "    for i, a in enumerate(a_paths, 0):\n",
    "        for j, b in enumerate(b_paths, 1):\n",
    "            path_pairs.append(((i,j), path_to_bt[a], path_to_bt[b]))\n",
    "\n",
    "    metric = run_bedtools_jaccard if jaccard else run_bedtools_uniq_wc\n",
    "    pool = Pool(processes=threads) \n",
    "    multiple_results = [pool.apply_async(metric, \n",
    "                                         (ij, a, b)) for ij, a, b in path_pairs]\n",
    "    values = [res.get(timeout=3600*timeout_hours) for res in multiple_results]\n",
    "    \n",
    "    x = np.zeros((len(a_paths), 1 + len(b_paths)), np.float32)\n",
    "    for (i,j), value in values:\n",
    "        x[i, j] = value\n",
    "    \n",
    "    for i, a in enumerate(a_paths, 0):\n",
    "        output = run(([\"cat\", a],[\"wc\", \"-l\"],))\n",
    "        x[i, 0] = int(output[0].decode().strip())\n",
    "               \n",
    "    df = pd.DataFrame(x,\n",
    "                      index=[f.name for f in a_paths],\n",
    "                      columns=[\"total\"] + [f.name for f in b_paths])\n",
    "    return df"
   ]
  },
  {
   "cell_type": "code",
   "execution_count": null,
   "metadata": {
    "ExecuteTime": {
     "end_time": "2017-10-10T19:41:26.226730Z",
     "start_time": "2017-10-10T19:41:26.203909Z"
    }
   },
   "outputs": [],
   "source": [
    "def plot_heatmap(title, df, path=None, autoscale=False, label_fun=None, figsize=(10,10)):\n",
    "    plt.figure(figsize=figsize) # or: plt.pcolor(df)\n",
    "    # ax=plt.subplot()\n",
    "    \n",
    "    if autoscale:\n",
    "        vmin, vmax = None, None\n",
    "    else:\n",
    "        vmin, vmax = 0, 1\n",
    "        \n",
    "    plt.imshow(df, aspect='auto', cmap=\"viridis\", interpolation=\"nearest\", vmin=vmin, vmax=vmax)\n",
    "    \n",
    "    plt.xticks(np.arange(0, len(df.columns), 1),\n",
    "               df.columns if label_fun is None else [label_fun(s) for s in df.columns],\n",
    "               rotation='vertical')\n",
    "    plt.yticks(np.arange(0, len(df.index), 1),\n",
    "               df.index if label_fun is None else [label_fun(s) for s in df.index])\n",
    "    plt.colorbar(orientation='vertical')\n",
    "    plt.title(title)\n",
    "    if path is None:        \n",
    "        plt.show()\n",
    "    else:\n",
    "        pp.savefig()"
   ]
  },
  {
   "cell_type": "code",
   "execution_count": null,
   "metadata": {
    "ExecuteTime": {
     "end_time": "2017-10-10T22:24:24.467057Z",
     "start_time": "2017-10-10T22:24:24.455373Z"
    },
    "collapsed": true
   },
   "outputs": [],
   "source": [
    "def load_intersection_table(beds, loci, path_to_bt, result_path, threads=4, jaccard=False):\n",
    "    if result_path.exists():\n",
    "        df = pd.DataFrame.from_csv(result_path)\n",
    "        print(\"Loaded: \", result_path)\n",
    "    else:\n",
    "        print(\"Calculating: \", result_path)\n",
    "        df = calc_intersection_table(beds, loci, path_to_bt, threads=threads, jaccard=jaccard) \n",
    "        df.to_csv(str(result_path))\n",
    "        print(\"  Saved: \", result_path)\n",
    "        \n",
    "    return df"
   ]
  },
  {
   "cell_type": "code",
   "execution_count": null,
   "metadata": {
    "ExecuteTime": {
     "end_time": "2017-10-10T19:41:27.111379Z",
     "start_time": "2017-10-10T19:41:27.107513Z"
    }
   },
   "outputs": [],
   "source": [
    "def normalize(df):\n",
    "    return df.divide(df[\"total\"], axis=0).drop(\"total\", axis=1)"
   ]
  },
  {
   "cell_type": "code",
   "execution_count": null,
   "metadata": {
    "ExecuteTime": {
     "end_time": "2017-10-10T22:27:13.623971Z",
     "start_time": "2017-10-10T22:27:13.593523Z"
    }
   },
   "outputs": [],
   "source": [
    "def process_intersection(beds, loci, path_to_bt, results_dir, tag, figsize=(10,10)):\n",
    "    df_bl = load_intersection_table(beds, loci, path_to_bt, \n",
    "                                    results_dir / \"{}_bl.csv\".format(tag), threads=THREADS_N)\n",
    "    display(df_bl.head(5))\n",
    "    \n",
    "    df_lb = load_intersection_table(loci, beds, path_to_bt,\n",
    "                                    results_dir / \"{}_lb.csv\".format(tag), threads=THREADS_N)\n",
    "    display(df_lb.head(5))\n",
    "    \n",
    "    df_n_bl = normalize(df_bl)\n",
    "    display(df_n_bl.head(5))\n",
    "\n",
    "    df_n_lb = normalize(df_lb).T\n",
    "    display(df_n_lb.head(5))\n",
    "\n",
    "    df_jaccard = load_intersection_table(beds, loci, path_to_bt, \n",
    "                                         results_dir / \"{}_js.csv\".format(tag), threads=THREADS_N,\n",
    "                                         jaccard = True)\n",
    "    df_jaccard = df_jaccard.drop(\"total\", axis=1)\n",
    "    display(df_jaccard.head(5))\n",
    "    \n",
    "    plot_heatmap(\"Metrics: # intervals from row file intersecting any interval from column file\",\n",
    "                 df_n_bl, autoscale=False, label_fun=chromhmm_state_descr, figsize=figsize)\n",
    "    plot_heatmap(\"Metrics: # intervals from col file intersecting any interval from row file\",\n",
    "                 df_n_lb, autoscale=False, label_fun=chromhmm_state_descr, figsize=figsize)\n",
    "    plot_heatmap(\"Metrics: Geometric mean for intersectiong intervals\",\n",
    "                 np.sqrt(df_n_bl*df_n_lb), autoscale=False, label_fun=chromhmm_state_descr, figsize=figsize)\n",
    "    plot_heatmap(\"Metrics: Jaccard\",\n",
    "                 df_jaccard, autoscale=True, label_fun=chromhmm_state_descr, figsize=figsize)"
   ]
  },
  {
   "cell_type": "markdown",
   "metadata": {
    "heading_collapsed": true
   },
   "source": [
    "# TMP"
   ]
  },
  {
   "cell_type": "code",
   "execution_count": null,
   "metadata": {
    "ExecuteTime": {
     "end_time": "2017-10-10T23:15:04.074859Z",
     "start_time": "2017-10-10T23:15:01.486472Z"
    },
    "hidden": true
   },
   "outputs": [],
   "source": [
    "#! rm /Volumes/BigData/bio/experiments/aging/loci_of_interest.tables/chromhmm_bl.csv\n",
    "#! rm /Volumes/BigData/bio/experiments/aging/loci_of_interest.tables/chromhmm_lb.csv\n",
    "#! rm /Volumes/BigData/bio/experiments/aging/loci_of_interest.tables/chromhmm_js.csv\n",
    "print(\"Ensure files sorted...\")\n",
    "mapping = {p:as_sorted_bedtool(p, loci_root, sorted_root / \"loci_of_interest\") for p in chromhmm_paths}\n",
    "print(\"[Done]\")\n",
    "\n",
    "process_intersection(chromhmm_paths, chromhmm_paths, mapping, results_dir, \"chromhmm\", figsize=(8,8))"
   ]
  },
  {
   "cell_type": "markdown",
   "metadata": {
    "ExecuteTime": {
     "end_time": "2017-10-10T14:31:55.944678Z",
     "start_time": "2017-10-10T14:31:55.941977Z"
    }
   },
   "source": [
    "# Loci vs Loci"
   ]
  },
  {
   "cell_type": "code",
   "execution_count": null,
   "metadata": {
    "ExecuteTime": {
     "end_time": "2017-10-11T06:04:40.843550Z",
     "start_time": "2017-10-11T06:04:30.253331Z"
    },
    "scrolled": false
   },
   "outputs": [],
   "source": [
    "print(\"Ensure files sorted...\")\n",
    "mapping = {p:as_sorted_bedtool(p, loci_root, sorted_root / \"loci_of_interest\") for p in loci_paths}\n",
    "print(\"[Done]\")\n",
    "\n",
    "process_intersection(loci_paths, loci_paths, mapping, results_dir, \"loci.csv\", figsize=(12,15))"
   ]
  },
  {
   "cell_type": "markdown",
   "metadata": {},
   "source": [
    "# Loci vs ChromHMM"
   ]
  },
  {
   "cell_type": "code",
   "execution_count": null,
   "metadata": {
    "ExecuteTime": {
     "end_time": "2017-10-10T22:42:50.937473Z",
     "start_time": "2017-10-10T22:42:45.501648Z"
    },
    "scrolled": true
   },
   "outputs": [],
   "source": [
    "print(\"Ensure files sorted...\")\n",
    "mapping = {p:as_sorted_bedtool(p, loci_root, sorted_root / \"loci_of_interest\") for p in loci_paths}\n",
    "mapping.update({p:as_sorted_bedtool(p, loci_root, sorted_root / \"loci_of_interest\") for p in chromhmm_paths})\n",
    "print(\"[Done]\")\n",
    "\n",
    "process_intersection(loci_paths, chromhmm_paths, mapping, results_dir, \"loci_chromhmm\", figsize=(8, 15))"
   ]
  },
  {
   "cell_type": "markdown",
   "metadata": {
    "ExecuteTime": {
     "end_time": "2017-10-10T14:32:34.287847Z",
     "start_time": "2017-10-10T14:32:34.284244Z"
    }
   },
   "source": [
    "# ChromHMM vs ChromHMM"
   ]
  },
  {
   "cell_type": "code",
   "execution_count": null,
   "metadata": {
    "ExecuteTime": {
     "end_time": "2017-10-10T22:42:45.499542Z",
     "start_time": "2017-10-10T22:42:42.864510Z"
    }
   },
   "outputs": [],
   "source": [
    "print(\"Ensure files sorted...\")\n",
    "mapping = {p:as_sorted_bedtool(p, loci_root, sorted_root / \"loci_of_interest\") for p in chromhmm_paths}\n",
    "print(\"[Done]\")\n",
    "process_intersection(chromhmm_paths, chromhmm_paths, mapping, results_dir, \"chromhmm\", figsize=(8,8))"
   ]
  },
  {
   "cell_type": "markdown",
   "metadata": {},
   "source": [
    "# Zinbra vs Loci"
   ]
  },
  {
   "cell_type": "markdown",
   "metadata": {},
   "source": [
    "## Consensus peaks"
   ]
  },
  {
   "cell_type": "code",
   "execution_count": null,
   "metadata": {
    "ExecuteTime": {
     "end_time": "2017-10-10T22:42:12.456443Z",
     "start_time": "2017-10-10T22:42:12.451626Z"
    },
    "collapsed": true
   },
   "outputs": [],
   "source": [
    "consensus_peaks = []\n",
    "for mod, peaks in zinbra_peaks_by_histmod.items():\n",
    "    consensus_peaks.extend([p for p in peaks if \"consensus\" in p.name])"
   ]
  },
  {
   "cell_type": "code",
   "execution_count": null,
   "metadata": {
    "ExecuteTime": {
     "end_time": "2017-10-10T22:42:12.463390Z",
     "start_time": "2017-10-10T22:42:12.458411Z"
    }
   },
   "outputs": [],
   "source": [
    "consensus_peaks"
   ]
  },
  {
   "cell_type": "code",
   "execution_count": null,
   "metadata": {
    "ExecuteTime": {
     "end_time": "2017-10-10T22:42:42.862175Z",
     "start_time": "2017-10-10T22:42:12.465374Z"
    }
   },
   "outputs": [],
   "source": [
    "print(\"Ensure files sorted...\")\n",
    "mapping = {}\n",
    "for p in consensus_peaks:\n",
    "    mapping[p] = as_sorted_bedtool(p, zinbra_peaks_root, sorted_root / \"zinbra\")\n",
    "for p in all_loci:\n",
    "    mapping[p] = as_sorted_bedtool(p, loci_root, sorted_root / \"loci_of_interest\")\n",
    "print(\"[Done]\")\n",
    "\n",
    "process_intersection(consensus_peaks, all_loci, mapping, results_dir, \"zinbra_consensus\", figsize=(12,8))"
   ]
  },
  {
   "cell_type": "markdown",
   "metadata": {},
   "source": [
    "## All Hist mods:"
   ]
  },
  {
   "cell_type": "code",
   "execution_count": null,
   "metadata": {
    "ExecuteTime": {
     "end_time": "2017-10-10T22:42:12.449270Z",
     "start_time": "2017-10-10T22:29:09.399157Z"
    },
    "scrolled": false
   },
   "outputs": [],
   "source": [
    "print(\"Ensure files sorted...\")\n",
    "mapping = {}\n",
    "for mod, peaks in zinbra_peaks_by_histmod.items():\n",
    "    for p in peaks:\n",
    "        mapping[p] = as_sorted_bedtool(p, zinbra_peaks_root, sorted_root / \"zinbra\")\n",
    "for p in all_loci:\n",
    "    mapping[p] = as_sorted_bedtool(p, loci_root, sorted_root / \"loci_of_interest\")\n",
    "print(\"[Done]\")\n",
    "\n",
    "for mod, peaks in zinbra_peaks_by_histmod.items():\n",
    "    process_intersection(peaks, all_loci, mapping, results_dir, \"zinbra_{}\".format(mod), figsize=(17,10))"
   ]
  },
  {
   "cell_type": "markdown",
   "metadata": {},
   "source": [
    "# Macs vs Loci"
   ]
  },
  {
   "cell_type": "markdown",
   "metadata": {},
   "source": [
    "## All Hist mods:"
   ]
  },
  {
   "cell_type": "code",
   "execution_count": null,
   "metadata": {
    "ExecuteTime": {
     "end_time": "2017-10-10T22:27:36.868386Z",
     "start_time": "2017-10-10T22:27:27.968083Z"
    },
    "scrolled": false
   },
   "outputs": [],
   "source": [
    "print(\"Ensure files sorted...\")\n",
    "mapping = {}\n",
    "for mod, peaks in macs2_peaks_by_histmod.items():\n",
    "    for p in peaks:\n",
    "        mapping[p] = as_sorted_bedtool(p, macs2_peaks_root, sorted_root / \"macs2\")\n",
    "for p in all_loci:\n",
    "    mapping[p] = as_sorted_bedtool(p, loci_root, sorted_root / \"loci_of_interest\")\n",
    "print(\"[Done]\")\n",
    "\n",
    "for mod, peaks in macs2_peaks_by_histmod.items():\n",
    "    process_intersection(peaks, all_loci, mapping, results_dir, \"macs2_{}\".format(mod), figsize=(17,10))\n"
   ]
  },
  {
   "cell_type": "markdown",
   "metadata": {},
   "source": [
    "# Signal (coverage) vs loci"
   ]
  },
  {
   "cell_type": "code",
   "execution_count": null,
   "metadata": {
    "ExecuteTime": {
     "end_time": "2017-10-11T10:41:16.085317Z",
     "start_time": "2017-10-11T10:41:16.074572Z"
    }
   },
   "outputs": [],
   "source": [
    "signal_root"
   ]
  },
  {
   "cell_type": "code",
   "execution_count": null,
   "metadata": {
    "ExecuteTime": {
     "end_time": "2017-10-11T10:41:20.968819Z",
     "start_time": "2017-10-11T10:41:20.965502Z"
    },
    "collapsed": true
   },
   "outputs": [],
   "source": [
    "# todo"
   ]
  },
  {
   "cell_type": "markdown",
   "metadata": {},
   "source": [
    "# TODO\n",
    "\n",
    "heatmaps\n",
    "\n",
    "* Have:\n",
    "    * loci vs loci\n",
    "    * loci vs ChromHMM\n",
    "    * Hist.mod consensus vs loci,chromHMM\n",
    "    * Peaks in hist.mod every donor (OD*, YD*) vs loci,chromHMM\n",
    "\n",
    "* Todo:\n",
    "  * raw i-th donor(OD*, YD*) coverage vs loci,chromHMM\n",
    "  * [Y, O]x[Hist mod] consensus vs loci,chromHMM \n",
    "  * Y-O diff vs loci,chromHMM\n"
   ]
  },
  {
   "cell_type": "code",
   "execution_count": null,
   "metadata": {
    "collapsed": true
   },
   "outputs": [],
   "source": []
  }
 ],
 "metadata": {
  "kernelspec": {
   "display_name": "Python 3",
   "language": "python",
   "name": "python3"
  },
  "language_info": {
   "codemirror_mode": {
    "name": "ipython",
    "version": 3
   },
   "file_extension": ".py",
   "mimetype": "text/x-python",
   "name": "python",
   "nbconvert_exporter": "python",
   "pygments_lexer": "ipython3",
   "version": "3.6.1"
  },
  "toc": {
   "colors": {
    "hover_highlight": "#DAA520",
    "navigate_num": "#000000",
    "navigate_text": "#333333",
    "running_highlight": "#FF0000",
    "selected_highlight": "#FFD700",
    "sidebar_border": "#EEEEEE",
    "wrapper_background": "#FFFFFF"
   },
   "moveMenuLeft": true,
   "nav_menu": {
    "height": "48px",
    "width": "252px"
   },
   "navigate_menu": true,
   "number_sections": true,
   "sideBar": true,
   "threshold": 4,
   "toc_cell": false,
   "toc_section_display": "block",
   "toc_window_display": true,
   "widenNotebook": false
  }
 },
 "nbformat": 4,
 "nbformat_minor": 2
}
