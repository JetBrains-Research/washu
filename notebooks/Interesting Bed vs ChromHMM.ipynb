{
 "cells": [
  {
   "cell_type": "code",
   "execution_count": 1,
   "metadata": {
    "ExecuteTime": {
     "end_time": "2017-11-10T20:29:11.315799Z",
     "start_time": "2017-11-10T20:29:11.311627Z"
    },
    "collapsed": true
   },
   "outputs": [],
   "source": [
    "import os, sys\n",
    "from pathlib import Path\n",
    "\n",
    "sys.path.insert(0, os.path.expanduser(\"~/work/washu\"))"
   ]
  },
  {
   "cell_type": "code",
   "execution_count": 2,
   "metadata": {
    "ExecuteTime": {
     "end_time": "2017-11-10T20:29:12.788834Z",
     "start_time": "2017-11-10T20:29:11.853668Z"
    }
   },
   "outputs": [
    {
     "name": "stderr",
     "output_type": "stream",
     "text": [
      "/Users/romeo/anaconda/envs/aging3/lib/python3.6/site-packages/IPython/html.py:14: ShimWarning: The `IPython.html` package has been deprecated since IPython 4.0. You should import from `notebook` instead. `IPython.html.widgets` has moved to `ipywidgets`.\n",
      "  \"`IPython.html.widgets` has moved to `ipywidgets`.\", ShimWarning)\n"
     ]
    }
   ],
   "source": [
    "from IPython.display import display\n",
    "import matplotlib.pyplot as plt\n",
    "import seaborn as sns\n",
    "\n",
    "import pandas as pd\n",
    "import numpy as np \n"
   ]
  },
  {
   "cell_type": "code",
   "execution_count": 3,
   "metadata": {
    "ExecuteTime": {
     "end_time": "2017-11-10T20:29:12.891476Z",
     "start_time": "2017-11-10T20:29:12.876473Z"
    }
   },
   "outputs": [],
   "source": [
    "#from scripts.util import run\n",
    "import reports.bed_metrics as bm\n",
    "import reports.loci_of_interest as loi"
   ]
  },
  {
   "cell_type": "markdown",
   "metadata": {},
   "source": [
    "------------------------------"
   ]
  },
  {
   "cell_type": "code",
   "execution_count": 4,
   "metadata": {
    "ExecuteTime": {
     "end_time": "2017-11-10T20:29:12.984159Z",
     "start_time": "2017-11-10T20:29:12.981073Z"
    },
    "collapsed": true
   },
   "outputs": [],
   "source": [
    "from itertools import chain"
   ]
  },
  {
   "cell_type": "code",
   "execution_count": 5,
   "metadata": {
    "ExecuteTime": {
     "end_time": "2017-11-10T20:29:13.079043Z",
     "start_time": "2017-11-10T20:29:13.072020Z"
    },
    "collapsed": true
   },
   "outputs": [],
   "source": [
    "from pathlib import Path\n",
    "from itertools import chain\n",
    "import subprocess \n",
    "import os\n",
    "from collections import defaultdict\n",
    "import itertools\n",
    "\n",
    "import numpy as np \n",
    "\n"
   ]
  },
  {
   "cell_type": "markdown",
   "metadata": {},
   "source": [
    "------------------------------"
   ]
  },
  {
   "cell_type": "code",
   "execution_count": 6,
   "metadata": {
    "ExecuteTime": {
     "end_time": "2017-11-10T20:29:13.186370Z",
     "start_time": "2017-11-10T20:29:13.177190Z"
    }
   },
   "outputs": [],
   "source": [
    "results_dir = Path(\"/mnt/stripe/bio/experiments/aging/loci_of_interest.tables\")\n",
    "sorted_root = Path(\"/mnt/stripe/bio/experiments/aging/loci.sorted\")\n",
    "THREADS_N = 32\n",
    "\n",
    "# results_dir = Path(\"/Volumes/BigData/bio/experiments/aging/loci_of_interest.tables\")\n",
    "# sorted_root = Path(\"/Volumes/BigData/bio/experiments/aging/loci.sorted\")\n",
    "# THREADS_N = 8\n",
    "\n",
    "results_dir.mkdir(exist_ok=True)"
   ]
  },
  {
   "cell_type": "markdown",
   "metadata": {},
   "source": [
    "# Cleanup"
   ]
  },
  {
   "cell_type": "code",
   "execution_count": 7,
   "metadata": {
    "ExecuteTime": {
     "end_time": "2017-11-10T20:29:13.548373Z",
     "start_time": "2017-11-10T20:29:13.545627Z"
    }
   },
   "outputs": [],
   "source": [
    "# !rm -rf {sorted_root}\n",
    "# !rm -rf {results_dir}"
   ]
  },
  {
   "cell_type": "markdown",
   "metadata": {},
   "source": [
    "# Known annotations"
   ]
  },
  {
   "cell_type": "code",
   "execution_count": 8,
   "metadata": {
    "ExecuteTime": {
     "end_time": "2017-11-10T20:29:13.979555Z",
     "start_time": "2017-11-10T20:29:13.973795Z"
    }
   },
   "outputs": [],
   "source": [
    "# data_root = Path(\"/Volumes/BigData/bio\")\n",
    "data_root = Path(\"/mnt/stripe/bio\")\n",
    "\n",
    "loci_root = data_root / \"raw-data/aging/loci_of_interest\"\n",
    "signal_root = data_root / \"experiments/signal\"\n",
    "\n",
    "exclude_outliers = False\n",
    "golden_peaks_root = data_root / \"experiments/aging/peak_calling\"\n",
    "zinbra_peaks_root = data_root / \"experiments/configs/Y20O20{}\".format(\n",
    "    \"\" if exclude_outliers else \"_full\"\n",
    ")\n"
   ]
  },
  {
   "cell_type": "code",
   "execution_count": 9,
   "metadata": {
    "ExecuteTime": {
     "end_time": "2017-11-10T20:29:14.602337Z",
     "start_time": "2017-11-10T20:29:14.189608Z"
    }
   },
   "outputs": [
    {
     "data": {
      "text/plain": [
       "['None',\n",
       " 'chipseq_diff_loci',\n",
       " 'chromhmm',\n",
       " 'default',\n",
       " 'enhancers',\n",
       " 'golden_consensus',\n",
       " 'interesting_pathways',\n",
       " 'od_yd_difference_regions',\n",
       " 'other_pathways',\n",
       " 'regulatory',\n",
       " 'repeats',\n",
       " 'rna_diff',\n",
       " 'tfs',\n",
       " 'zinbra_consensus']"
      ]
     },
     "execution_count": 9,
     "metadata": {},
     "output_type": "execute_result"
    }
   ],
   "source": [
    "loi_dict = loi.collect_loci(loci_root)\n",
    "sorted([str(k) for k in loi_dict.keys()])"
   ]
  },
  {
   "cell_type": "code",
   "execution_count": 10,
   "metadata": {
    "ExecuteTime": {
     "end_time": "2017-11-10T20:29:15.930085Z",
     "start_time": "2017-11-10T20:29:15.795984Z"
    }
   },
   "outputs": [
    {
     "name": "stdout",
     "output_type": "stream",
     "text": [
      "cd14_enhancer_atlas_CD14+.hg19.bed\r\n",
      "\u001b[34mchipseq_diff_loci\u001b[m\u001b[m\r\n",
      "\u001b[34mchromhmm\u001b[m\u001b[m\r\n",
      "cpg_clock_1000_hg19.bed\r\n",
      "cpg_clock_hg19.bed\r\n",
      "cpg_islands_clock_hg19.bed\r\n",
      "\u001b[34menhancers\u001b[m\u001b[m\r\n",
      "\u001b[34mgolden_consensus\u001b[m\u001b[m\r\n",
      "\u001b[34minteresting_pathways\u001b[m\u001b[m\r\n",
      "lengths.csv\r\n",
      "mirna_human.bed\r\n",
      "\u001b[34mod_yd_difference_regions\u001b[m\u001b[m\r\n",
      "\u001b[34mother_pathways\u001b[m\u001b[m\r\n",
      "\u001b[34mregulatory\u001b[m\u001b[m\r\n",
      "\u001b[34mrepeats\u001b[m\u001b[m\r\n",
      "\u001b[34mrna_diff\u001b[m\u001b[m\r\n",
      "\u001b[34mtfs\u001b[m\u001b[m\r\n",
      "ucne_conserved_coord.hg19.bed\r\n",
      "ucsc_cpgIslandExt.hg19.bed\r\n",
      "washu_german_rrbs_filtered_dmrs_all_10.hg19.bed\r\n",
      "\u001b[34mzinbra_consensus\u001b[m\u001b[m\r\n"
     ]
    }
   ],
   "source": [
    "!ls {loci_root}"
   ]
  },
  {
   "cell_type": "code",
   "execution_count": 11,
   "metadata": {
    "ExecuteTime": {
     "end_time": "2017-11-10T20:29:17.230235Z",
     "start_time": "2017-11-10T20:29:17.098172Z"
    }
   },
   "outputs": [
    {
     "name": "stdout",
     "output_type": "stream",
     "text": [
      "\u001b[34mpeaks\u001b[m\u001b[m  \u001b[34msignal\u001b[m\u001b[m \u001b[34munique\u001b[m\u001b[m\r\n"
     ]
    }
   ],
   "source": [
    "!ls {zinbra_peaks_root}"
   ]
  },
  {
   "cell_type": "code",
   "execution_count": 12,
   "metadata": {
    "ExecuteTime": {
     "end_time": "2017-11-10T20:29:18.527383Z",
     "start_time": "2017-11-10T20:29:18.383863Z"
    }
   },
   "outputs": [
    {
     "name": "stdout",
     "output_type": "stream",
     "text": [
      "\u001b[34mH3K27ac\u001b[m\u001b[m                          \u001b[31mcustom_sicer_peaks_frip.sh\u001b[m\u001b[m\r\n",
      "\u001b[34mH3K27me3\u001b[m\u001b[m                         \u001b[34menhancers\u001b[m\u001b[m\r\n",
      "\u001b[34mH3K36me3\u001b[m\u001b[m                         intersection.pdf\r\n",
      "\u001b[34mH3K4me1\u001b[m\u001b[m                          intersection_.pdf\r\n",
      "\u001b[34mH3K4me3\u001b[m\u001b[m                          median_cons.sh\r\n",
      "H3K4me3.pdf                      search_results_test2.csv\r\n",
      "cpg_islands_clock_hg19.bed       weak_cons.sh\r\n",
      "\u001b[31mcustom_macs_narrow_peaks_frip.sh\u001b[m\u001b[m\r\n"
     ]
    }
   ],
   "source": [
    "!ls {golden_peaks_root}"
   ]
  },
  {
   "cell_type": "markdown",
   "metadata": {},
   "source": [
    "## ChromHMM"
   ]
  },
  {
   "cell_type": "code",
   "execution_count": 13,
   "metadata": {
    "ExecuteTime": {
     "end_time": "2017-11-10T20:29:19.707153Z",
     "start_time": "2017-11-10T20:29:19.687511Z"
    }
   },
   "outputs": [
    {
     "name": "stdout",
     "output_type": "stream",
     "text": [
      "Active TSS (1_TssA) -> /mnt/stripe/bio/raw-data/aging/loci_of_interest/chromhmm/cd14_chromhmm.hg19.1_TssA.bed\n",
      "Flanking TSS (2_TssFlnk) -> /mnt/stripe/bio/raw-data/aging/loci_of_interest/chromhmm/cd14_chromhmm.hg19.2_TssFlnk.bed\n",
      "Flanking TSS Upstream (3_TssFlnkU) -> /mnt/stripe/bio/raw-data/aging/loci_of_interest/chromhmm/cd14_chromhmm.hg19.3_TssFlnkU.bed\n",
      "Flanking TSS Downstream (4_TssFlnkD) -> /mnt/stripe/bio/raw-data/aging/loci_of_interest/chromhmm/cd14_chromhmm.hg19.4_TssFlnkD.bed\n",
      "Strong transcription (5_Tx) -> /mnt/stripe/bio/raw-data/aging/loci_of_interest/chromhmm/cd14_chromhmm.hg19.5_Tx.bed\n",
      "Weak transcription (6_TxWk) -> /mnt/stripe/bio/raw-data/aging/loci_of_interest/chromhmm/cd14_chromhmm.hg19.6_TxWk.bed\n",
      "Genic enhancer1 (7_EnhG1) -> /mnt/stripe/bio/raw-data/aging/loci_of_interest/chromhmm/cd14_chromhmm.hg19.7_EnhG1.bed\n",
      "Genic enhancer2 (8_EnhG2) -> /mnt/stripe/bio/raw-data/aging/loci_of_interest/chromhmm/cd14_chromhmm.hg19.8_EnhG2.bed\n",
      "Active Enhancer 1 (9_EnhA1) -> /mnt/stripe/bio/raw-data/aging/loci_of_interest/chromhmm/cd14_chromhmm.hg19.9_EnhA1.bed\n",
      "Active Enhancer 2 (10_EnhA2) -> /mnt/stripe/bio/raw-data/aging/loci_of_interest/chromhmm/cd14_chromhmm.hg19.10_EnhA2.bed\n",
      "Weak Enhancer (11_EnhWk) -> /mnt/stripe/bio/raw-data/aging/loci_of_interest/chromhmm/cd14_chromhmm.hg19.11_EnhWk.bed\n",
      "ZNF genes & repeats (12_ZNF_Rpts) -> /mnt/stripe/bio/raw-data/aging/loci_of_interest/chromhmm/cd14_chromhmm.hg19.12_ZNF_Rpts.bed\n",
      "Heterochromatin (13_Het) -> /mnt/stripe/bio/raw-data/aging/loci_of_interest/chromhmm/cd14_chromhmm.hg19.13_Het.bed\n",
      "Bivalent/Poised TSS (14_TssBiv) -> /mnt/stripe/bio/raw-data/aging/loci_of_interest/chromhmm/cd14_chromhmm.hg19.14_TssBiv.bed\n",
      "Bivalent Enhancer (15_EnhBiv) -> /mnt/stripe/bio/raw-data/aging/loci_of_interest/chromhmm/cd14_chromhmm.hg19.15_EnhBiv.bed\n",
      "Repressed PolyComb (16_ReprPC) -> /mnt/stripe/bio/raw-data/aging/loci_of_interest/chromhmm/cd14_chromhmm.hg19.16_ReprPC.bed\n",
      "Weak Repressed PolyComb (17_ReprPCWk) -> /mnt/stripe/bio/raw-data/aging/loci_of_interest/chromhmm/cd14_chromhmm.hg19.17_ReprPCWk.bed\n",
      "Quiescent/Low (18_Quies) -> /mnt/stripe/bio/raw-data/aging/loci_of_interest/chromhmm/cd14_chromhmm.hg19.18_Quies.bed\n"
     ]
    }
   ],
   "source": [
    "for i, p in enumerate(loi_dict[\"chromhmm\"]):\n",
    "    print(loi.chromhmm_state_descr(p.name), \"->\", p)"
   ]
  },
  {
   "cell_type": "markdown",
   "metadata": {},
   "source": [
    "## Basic Loci"
   ]
  },
  {
   "cell_type": "markdown",
   "metadata": {},
   "source": [
    "Cannot include all files from dir, because list is too big and heatmap becomes unreadable. Let's keep curated list\n",
    "of loci by rules:\n",
    "* root folder top level *.bed files\n",
    "* subfoldes: \"enchancers\", \"tfs\", \"regulatory\", \"weak_consensus\", \"zinbra_consensus\""
   ]
  },
  {
   "cell_type": "code",
   "execution_count": 14,
   "metadata": {
    "ExecuteTime": {
     "end_time": "2017-11-10T20:29:20.887591Z",
     "start_time": "2017-11-10T20:29:20.881459Z"
    }
   },
   "outputs": [
    {
     "data": {
      "text/plain": [
       "[PosixPath('/mnt/stripe/bio/raw-data/aging/loci_of_interest/enhancers/CTCF.bed'),\n",
       " PosixPath('/mnt/stripe/bio/raw-data/aging/loci_of_interest/golden_consensus/H3K27ac_golden_ODS_weak_consensus.bed'),\n",
       " PosixPath('/mnt/stripe/bio/raw-data/aging/loci_of_interest/golden_consensus/H3K27ac_golden_YDS_weak_consensus.bed'),\n",
       " PosixPath('/mnt/stripe/bio/raw-data/aging/loci_of_interest/golden_consensus/H3K27ac_golden_weak_consensus.bed'),\n",
       " PosixPath('/mnt/stripe/bio/raw-data/aging/loci_of_interest/zinbra_consensus/H3K27ac_zinbra_ODS_weak_consensus.bed'),\n",
       " PosixPath('/mnt/stripe/bio/raw-data/aging/loci_of_interest/zinbra_consensus/H3K27ac_zinbra_YDS_weak_consensus.bed'),\n",
       " PosixPath('/mnt/stripe/bio/raw-data/aging/loci_of_interest/zinbra_consensus/H3K27ac_zinbra_weak_consensus.bed'),\n",
       " PosixPath('/mnt/stripe/bio/raw-data/aging/loci_of_interest/golden_consensus/H3K27me3_golden_ODS_weak_consensus.bed'),\n",
       " PosixPath('/mnt/stripe/bio/raw-data/aging/loci_of_interest/golden_consensus/H3K27me3_golden_YDS_weak_consensus.bed'),\n",
       " PosixPath('/mnt/stripe/bio/raw-data/aging/loci_of_interest/golden_consensus/H3K27me3_golden_weak_consensus.bed'),\n",
       " PosixPath('/mnt/stripe/bio/raw-data/aging/loci_of_interest/zinbra_consensus/H3K27me3_zinbra_ODS_weak_consensus.bed'),\n",
       " PosixPath('/mnt/stripe/bio/raw-data/aging/loci_of_interest/zinbra_consensus/H3K27me3_zinbra_YDS_weak_consensus.bed'),\n",
       " PosixPath('/mnt/stripe/bio/raw-data/aging/loci_of_interest/zinbra_consensus/H3K27me3_zinbra_weak_consensus.bed'),\n",
       " PosixPath('/mnt/stripe/bio/raw-data/aging/loci_of_interest/golden_consensus/H3K36me3_golden_ODS_weak_consensus.bed'),\n",
       " PosixPath('/mnt/stripe/bio/raw-data/aging/loci_of_interest/golden_consensus/H3K36me3_golden_YDS_weak_consensus.bed'),\n",
       " PosixPath('/mnt/stripe/bio/raw-data/aging/loci_of_interest/golden_consensus/H3K36me3_golden_weak_consensus.bed'),\n",
       " PosixPath('/mnt/stripe/bio/raw-data/aging/loci_of_interest/zinbra_consensus/H3K36me3_zinbra_ODS_weak_consensus.bed'),\n",
       " PosixPath('/mnt/stripe/bio/raw-data/aging/loci_of_interest/zinbra_consensus/H3K36me3_zinbra_YDS_weak_consensus.bed'),\n",
       " PosixPath('/mnt/stripe/bio/raw-data/aging/loci_of_interest/zinbra_consensus/H3K36me3_zinbra_weak_consensus.bed'),\n",
       " PosixPath('/mnt/stripe/bio/raw-data/aging/loci_of_interest/golden_consensus/H3K4me1_golden_ODS_weak_consensus.bed'),\n",
       " PosixPath('/mnt/stripe/bio/raw-data/aging/loci_of_interest/golden_consensus/H3K4me1_golden_YDS_weak_consensus.bed'),\n",
       " PosixPath('/mnt/stripe/bio/raw-data/aging/loci_of_interest/golden_consensus/H3K4me1_golden_weak_consensus.bed'),\n",
       " PosixPath('/mnt/stripe/bio/raw-data/aging/loci_of_interest/zinbra_consensus/H3K4me1_zinbra_ODS_weak_consensus.bed'),\n",
       " PosixPath('/mnt/stripe/bio/raw-data/aging/loci_of_interest/zinbra_consensus/H3K4me1_zinbra_YDS_weak_consensus.bed'),\n",
       " PosixPath('/mnt/stripe/bio/raw-data/aging/loci_of_interest/zinbra_consensus/H3K4me1_zinbra_weak_consensus.bed'),\n",
       " PosixPath('/mnt/stripe/bio/raw-data/aging/loci_of_interest/golden_consensus/H3K4me3_golden_ODS_weak_consensus.bed'),\n",
       " PosixPath('/mnt/stripe/bio/raw-data/aging/loci_of_interest/golden_consensus/H3K4me3_golden_YDS_weak_consensus.bed'),\n",
       " PosixPath('/mnt/stripe/bio/raw-data/aging/loci_of_interest/golden_consensus/H3K4me3_golden_weak_consensus.bed'),\n",
       " PosixPath('/mnt/stripe/bio/raw-data/aging/loci_of_interest/zinbra_consensus/H3K4me3_zinbra_ODS_weak_consensus.bed'),\n",
       " PosixPath('/mnt/stripe/bio/raw-data/aging/loci_of_interest/zinbra_consensus/H3K4me3_zinbra_YDS_weak_consensus.bed'),\n",
       " PosixPath('/mnt/stripe/bio/raw-data/aging/loci_of_interest/zinbra_consensus/H3K4me3_zinbra_weak_consensus.bed'),\n",
       " PosixPath('/mnt/stripe/bio/raw-data/aging/loci_of_interest/enhancers/K27acDist10kbTssNotIntCTCF.bed'),\n",
       " PosixPath('/mnt/stripe/bio/raw-data/aging/loci_of_interest/enhancers/K27acDist3kbTss.bed'),\n",
       " PosixPath('/mnt/stripe/bio/raw-data/aging/loci_of_interest/enhancers/K4me1Dist10kbTss.bed'),\n",
       " PosixPath('/mnt/stripe/bio/raw-data/aging/loci_of_interest/enhancers/K4me1Dist1kbTss.bed'),\n",
       " PosixPath('/mnt/stripe/bio/raw-data/aging/loci_of_interest/enhancers/K4me1Dist3kbTssNotIntCTCF.bed'),\n",
       " PosixPath('/mnt/stripe/bio/raw-data/aging/loci_of_interest/enhancers/K4me1IntK27ac.bed'),\n",
       " PosixPath('/mnt/stripe/bio/raw-data/aging/loci_of_interest/enhancers/K4me1IntK27acDist10kbTss.bed'),\n",
       " PosixPath('/mnt/stripe/bio/raw-data/aging/loci_of_interest/enhancers/K4me1IntK27acDist3kbTssNotIntCTCF.bed'),\n",
       " PosixPath('/mnt/stripe/bio/raw-data/aging/loci_of_interest/cd14_enhancer_atlas_CD14+.hg19.bed'),\n",
       " PosixPath('/mnt/stripe/bio/raw-data/aging/loci_of_interest/tfs/cd14_tf_IRF_GSM1057025_hg19_q0.05_narrow.bed'),\n",
       " PosixPath('/mnt/stripe/bio/raw-data/aging/loci_of_interest/tfs/cd14_tf_PU.1-IFN-y_GSM1681424_hg19_q0.05_narrow.bed'),\n",
       " PosixPath('/mnt/stripe/bio/raw-data/aging/loci_of_interest/tfs/cd14_tf_PU.1-IL4_GSM1681426_hg19_q0.05_narrow.bed'),\n",
       " PosixPath('/mnt/stripe/bio/raw-data/aging/loci_of_interest/tfs/cd14_tf_PU.1-TPP_GSM1681425_hg19_q0.05_narrow.bed'),\n",
       " PosixPath('/mnt/stripe/bio/raw-data/aging/loci_of_interest/tfs/cd14_tf_PU.1-baseline_GSM1681423_hg19_q0.05_narrow.bed'),\n",
       " PosixPath('/mnt/stripe/bio/raw-data/aging/loci_of_interest/tfs/cd14_tf_STAT1_GSM1057011_hg19_q0.05_narrow.bed'),\n",
       " PosixPath('/mnt/stripe/bio/raw-data/aging/loci_of_interest/tfs/cd14_tf_STAT1_GSM1057014_hg19_q0.05_narrow.bed'),\n",
       " PosixPath('/mnt/stripe/bio/raw-data/aging/loci_of_interest/regulatory/cds.bed'),\n",
       " PosixPath('/mnt/stripe/bio/raw-data/aging/loci_of_interest/cpg_clock_1000_hg19.bed'),\n",
       " PosixPath('/mnt/stripe/bio/raw-data/aging/loci_of_interest/cpg_clock_hg19.bed'),\n",
       " PosixPath('/mnt/stripe/bio/raw-data/aging/loci_of_interest/cpg_islands_clock_hg19.bed'),\n",
       " PosixPath('/mnt/stripe/bio/raw-data/aging/loci_of_interest/regulatory/exons.bed'),\n",
       " PosixPath('/mnt/stripe/bio/raw-data/aging/loci_of_interest/regulatory/genome_rnd10_bin1000_18000.hg19.bed'),\n",
       " PosixPath('/mnt/stripe/bio/raw-data/aging/loci_of_interest/regulatory/genome_rnd10_bin1000_80000.hg19.bed'),\n",
       " PosixPath('/mnt/stripe/bio/raw-data/aging/loci_of_interest/regulatory/introns.bed'),\n",
       " PosixPath('/mnt/stripe/bio/raw-data/aging/loci_of_interest/mirna_human.bed'),\n",
       " PosixPath('/mnt/stripe/bio/raw-data/aging/loci_of_interest/repeats/repeats_DNA.bed'),\n",
       " PosixPath('/mnt/stripe/bio/raw-data/aging/loci_of_interest/repeats/repeats_DNA?.bed'),\n",
       " PosixPath('/mnt/stripe/bio/raw-data/aging/loci_of_interest/repeats/repeats_LINE.bed'),\n",
       " PosixPath('/mnt/stripe/bio/raw-data/aging/loci_of_interest/repeats/repeats_LINE?.bed'),\n",
       " PosixPath('/mnt/stripe/bio/raw-data/aging/loci_of_interest/repeats/repeats_LTR.bed'),\n",
       " PosixPath('/mnt/stripe/bio/raw-data/aging/loci_of_interest/repeats/repeats_LTR?.bed'),\n",
       " PosixPath('/mnt/stripe/bio/raw-data/aging/loci_of_interest/repeats/repeats_Low_complexity.bed'),\n",
       " PosixPath('/mnt/stripe/bio/raw-data/aging/loci_of_interest/repeats/repeats_Other.bed'),\n",
       " PosixPath('/mnt/stripe/bio/raw-data/aging/loci_of_interest/repeats/repeats_RC.bed'),\n",
       " PosixPath('/mnt/stripe/bio/raw-data/aging/loci_of_interest/repeats/repeats_RNA.bed'),\n",
       " PosixPath('/mnt/stripe/bio/raw-data/aging/loci_of_interest/repeats/repeats_SINE.bed'),\n",
       " PosixPath('/mnt/stripe/bio/raw-data/aging/loci_of_interest/repeats/repeats_SINE?.bed'),\n",
       " PosixPath('/mnt/stripe/bio/raw-data/aging/loci_of_interest/repeats/repeats_Satellite.bed'),\n",
       " PosixPath('/mnt/stripe/bio/raw-data/aging/loci_of_interest/repeats/repeats_Simple_repeat.bed'),\n",
       " PosixPath('/mnt/stripe/bio/raw-data/aging/loci_of_interest/repeats/repeats_Unknown.bed'),\n",
       " PosixPath('/mnt/stripe/bio/raw-data/aging/loci_of_interest/repeats/repeats_Unknown?.bed'),\n",
       " PosixPath('/mnt/stripe/bio/raw-data/aging/loci_of_interest/repeats/repeats_rRNA.bed'),\n",
       " PosixPath('/mnt/stripe/bio/raw-data/aging/loci_of_interest/repeats/repeats_scRNA.bed'),\n",
       " PosixPath('/mnt/stripe/bio/raw-data/aging/loci_of_interest/repeats/repeats_snRNA.bed'),\n",
       " PosixPath('/mnt/stripe/bio/raw-data/aging/loci_of_interest/repeats/repeats_srpRNA.bed'),\n",
       " PosixPath('/mnt/stripe/bio/raw-data/aging/loci_of_interest/repeats/repeats_tRNA.bed'),\n",
       " PosixPath('/mnt/stripe/bio/raw-data/aging/loci_of_interest/regulatory/tes[-2000..2000].bed'),\n",
       " PosixPath('/mnt/stripe/bio/raw-data/aging/loci_of_interest/regulatory/tes[-4000..4000].bed'),\n",
       " PosixPath('/mnt/stripe/bio/raw-data/aging/loci_of_interest/regulatory/tes[2500..5000].bed'),\n",
       " PosixPath('/mnt/stripe/bio/raw-data/aging/loci_of_interest/regulatory/transcript.bed'),\n",
       " PosixPath('/mnt/stripe/bio/raw-data/aging/loci_of_interest/regulatory/tss[-2000..2000].bed'),\n",
       " PosixPath('/mnt/stripe/bio/raw-data/aging/loci_of_interest/regulatory/tss[-4000..4000].bed'),\n",
       " PosixPath('/mnt/stripe/bio/raw-data/aging/loci_of_interest/regulatory/tss[-5000..-2500].bed'),\n",
       " PosixPath('/mnt/stripe/bio/raw-data/aging/loci_of_interest/ucne_conserved_coord.hg19.bed'),\n",
       " PosixPath('/mnt/stripe/bio/raw-data/aging/loci_of_interest/ucsc_cpgIslandExt.hg19.bed'),\n",
       " PosixPath('/mnt/stripe/bio/raw-data/aging/loci_of_interest/regulatory/utr3.bed'),\n",
       " PosixPath('/mnt/stripe/bio/raw-data/aging/loci_of_interest/regulatory/utr5.bed'),\n",
       " PosixPath('/mnt/stripe/bio/raw-data/aging/loci_of_interest/washu_german_rrbs_filtered_dmrs_all_10.hg19.bed')]"
      ]
     },
     "execution_count": 14,
     "metadata": {},
     "output_type": "execute_result"
    }
   ],
   "source": [
    "loi_dict[\"default\"]"
   ]
  },
  {
   "cell_type": "markdown",
   "metadata": {},
   "source": [
    "## Peaks"
   ]
  },
  {
   "cell_type": "code",
   "execution_count": 15,
   "metadata": {
    "ExecuteTime": {
     "end_time": "2017-11-10T20:29:22.165962Z",
     "start_time": "2017-11-10T20:29:22.056169Z"
    },
    "collapsed": true
   },
   "outputs": [],
   "source": [
    "peaks_dict = {\n",
    "    \"zinbra\": loi._collect_zinbra_peaks(zinbra_peaks_root),\n",
    "    \"golden\": loi._collect_golden_peaks(golden_peaks_root, exclude_outliers)\n",
    "}"
   ]
  },
  {
   "cell_type": "code",
   "execution_count": 16,
   "metadata": {
    "ExecuteTime": {
     "end_time": "2017-11-10T20:29:23.363634Z",
     "start_time": "2017-11-10T20:29:23.357958Z"
    },
    "collapsed": true
   },
   "outputs": [],
   "source": [
    "def peaks_info(peaks_dict, tool):\n",
    "    tool_peaks_dict = peaks_dict[tool]\n",
    "    for hist in sorted(tool_peaks_dict.keys()):\n",
    "        peaks = tool_peaks_dict[hist]\n",
    "        print(\"Peaks:\", hist, len(peaks))\n",
    "        print(\"\\n\".join(str(f) for f in peaks))    "
   ]
  },
  {
   "cell_type": "code",
   "execution_count": 17,
   "metadata": {
    "ExecuteTime": {
     "end_time": "2017-11-10T20:29:24.557566Z",
     "start_time": "2017-11-10T20:29:24.547848Z"
    }
   },
   "outputs": [
    {
     "name": "stdout",
     "output_type": "stream",
     "text": [
      "Peaks: H3K27ac 40\n",
      "/mnt/stripe/bio/experiments/aging/peak_calling/H3K27ac/bed_all/OD10_k27ac_hg19_broad_peaks.broadPeak\n",
      "/mnt/stripe/bio/experiments/aging/peak_calling/H3K27ac/bed_all/OD11_k27ac_hg19_broad_peaks.broadPeak\n",
      "/mnt/stripe/bio/experiments/aging/peak_calling/H3K27ac/bed_all/OD12_k27ac_hg19_broad_peaks.broadPeak\n",
      "/mnt/stripe/bio/experiments/aging/peak_calling/H3K27ac/bed_all/OD13_k27ac_hg19_broad_peaks.broadPeak\n",
      "/mnt/stripe/bio/experiments/aging/peak_calling/H3K27ac/bed_all/OD14_k27ac_hg19_broad_peaks.broadPeak\n",
      "/mnt/stripe/bio/experiments/aging/peak_calling/H3K27ac/bed_all/OD15_k27ac_hg19_broad_peaks.broadPeak\n",
      "/mnt/stripe/bio/experiments/aging/peak_calling/H3K27ac/bed_all/OD16_k27ac_hg19_broad_peaks.broadPeak\n",
      "/mnt/stripe/bio/experiments/aging/peak_calling/H3K27ac/bed_all/OD17_k27ac_hg19_broad_peaks.broadPeak\n",
      "/mnt/stripe/bio/experiments/aging/peak_calling/H3K27ac/bed_all/OD18_k27ac_hg19_broad_peaks.broadPeak\n",
      "/mnt/stripe/bio/experiments/aging/peak_calling/H3K27ac/bed_all/OD19_k27ac_hg19_broad_peaks.broadPeak\n",
      "/mnt/stripe/bio/experiments/aging/peak_calling/H3K27ac/bed_all/OD1_k27ac_hg19_broad_peaks.broadPeak\n",
      "/mnt/stripe/bio/experiments/aging/peak_calling/H3K27ac/bed_all/OD20_k27ac_hg19_broad_peaks.broadPeak\n",
      "/mnt/stripe/bio/experiments/aging/peak_calling/H3K27ac/bed_all/OD2_k27ac_hg19_broad_peaks.broadPeak\n",
      "/mnt/stripe/bio/experiments/aging/peak_calling/H3K27ac/bed_all/OD3_k27ac_hg19_broad_peaks.broadPeak\n",
      "/mnt/stripe/bio/experiments/aging/peak_calling/H3K27ac/bed_all/OD4_k27ac_hg19_broad_peaks.broadPeak\n",
      "/mnt/stripe/bio/experiments/aging/peak_calling/H3K27ac/bed_all/OD5_k27ac_hg19_broad_peaks.broadPeak\n",
      "/mnt/stripe/bio/experiments/aging/peak_calling/H3K27ac/bed_all/OD6_k27ac_hg19_broad_peaks.broadPeak\n",
      "/mnt/stripe/bio/experiments/aging/peak_calling/H3K27ac/bed_all/OD7_k27ac_hg19_broad_peaks.broadPeak\n",
      "/mnt/stripe/bio/experiments/aging/peak_calling/H3K27ac/bed_all/OD8_k27ac_hg19_broad_peaks.broadPeak\n",
      "/mnt/stripe/bio/experiments/aging/peak_calling/H3K27ac/bed_all/OD9_k27ac_hg19_broad_peaks.broadPeak\n",
      "/mnt/stripe/bio/experiments/aging/peak_calling/H3K27ac/bed_all/YD10_k27ac_hg19_broad_peaks.broadPeak\n",
      "/mnt/stripe/bio/experiments/aging/peak_calling/H3K27ac/bed_all/YD11_k27ac_hg19_broad_peaks.broadPeak\n",
      "/mnt/stripe/bio/experiments/aging/peak_calling/H3K27ac/bed_all/YD12_k27ac_hg19_broad_peaks.broadPeak\n",
      "/mnt/stripe/bio/experiments/aging/peak_calling/H3K27ac/bed_all/YD14_k27ac_hg19_broad_peaks.broadPeak\n",
      "/mnt/stripe/bio/experiments/aging/peak_calling/H3K27ac/bed_all/YD15_k27ac_hg19_broad_peaks.broadPeak\n",
      "/mnt/stripe/bio/experiments/aging/peak_calling/H3K27ac/bed_all/YD16_k27ac_hg19_broad_peaks.broadPeak\n",
      "/mnt/stripe/bio/experiments/aging/peak_calling/H3K27ac/bed_all/YD17_k27ac_hg19_broad_peaks.broadPeak\n",
      "/mnt/stripe/bio/experiments/aging/peak_calling/H3K27ac/bed_all/YD18_k27ac_hg19_broad_peaks.broadPeak\n",
      "/mnt/stripe/bio/experiments/aging/peak_calling/H3K27ac/bed_all/YD19_k27ac_hg19_broad_peaks.broadPeak\n",
      "/mnt/stripe/bio/experiments/aging/peak_calling/H3K27ac/bed_all/YD1_k27ac_hg19_broad_peaks.broadPeak\n",
      "/mnt/stripe/bio/experiments/aging/peak_calling/H3K27ac/bed_all/YD20_k27ac_hg19_broad_peaks.broadPeak\n",
      "/mnt/stripe/bio/experiments/aging/peak_calling/H3K27ac/bed_all/YD21_k27ac_hg19_broad_peaks.broadPeak\n",
      "/mnt/stripe/bio/experiments/aging/peak_calling/H3K27ac/bed_all/YD2_k27ac_hg19_broad_peaks.broadPeak\n",
      "/mnt/stripe/bio/experiments/aging/peak_calling/H3K27ac/bed_all/YD3_k27ac_hg19_broad_peaks.broadPeak\n",
      "/mnt/stripe/bio/experiments/aging/peak_calling/H3K27ac/bed_all/YD4_k27ac_hg19_broad_peaks.broadPeak\n",
      "/mnt/stripe/bio/experiments/aging/peak_calling/H3K27ac/bed_all/YD5_k27ac_hg19_broad_peaks.broadPeak\n",
      "/mnt/stripe/bio/experiments/aging/peak_calling/H3K27ac/bed_all/YD6_k27ac_hg19_broad_peaks.broadPeak\n",
      "/mnt/stripe/bio/experiments/aging/peak_calling/H3K27ac/bed_all/YD7_k27ac_hg19_broad_peaks.broadPeak\n",
      "/mnt/stripe/bio/experiments/aging/peak_calling/H3K27ac/bed_all/YD8_k27ac_hg19_broad_peaks.broadPeak\n",
      "/mnt/stripe/bio/experiments/aging/peak_calling/H3K27ac/bed_all/YD9_k27ac_hg19_broad_peaks.broadPeak\n",
      "Peaks: H3K27me3 40\n",
      "/mnt/stripe/bio/experiments/aging/peak_calling/H3K27me3/bed_all/OD10_k27me3_hg19_broad_peaks.broadPeak\n",
      "/mnt/stripe/bio/experiments/aging/peak_calling/H3K27me3/bed_all/OD11_k27me3_hg19_broad_peaks.broadPeak\n",
      "/mnt/stripe/bio/experiments/aging/peak_calling/H3K27me3/bed_all/OD12_k27me3_hg19_broad_peaks.broadPeak\n",
      "/mnt/stripe/bio/experiments/aging/peak_calling/H3K27me3/bed_all/OD13_k27me3_hg19_broad_peaks.broadPeak\n",
      "/mnt/stripe/bio/experiments/aging/peak_calling/H3K27me3/bed_all/OD14_k27me3_hg19_broad_peaks.broadPeak\n",
      "/mnt/stripe/bio/experiments/aging/peak_calling/H3K27me3/bed_all/OD15_k27me3_hg19_broad_peaks.broadPeak\n",
      "/mnt/stripe/bio/experiments/aging/peak_calling/H3K27me3/bed_all/OD16_k27me3_hg19_broad_peaks.broadPeak\n",
      "/mnt/stripe/bio/experiments/aging/peak_calling/H3K27me3/bed_all/OD17_k27me3_hg19_broad_peaks.broadPeak\n",
      "/mnt/stripe/bio/experiments/aging/peak_calling/H3K27me3/bed_all/OD18_k27me3_hg19_broad_peaks.broadPeak\n",
      "/mnt/stripe/bio/experiments/aging/peak_calling/H3K27me3/bed_all/OD19_k27me3_hg19_broad_peaks.broadPeak\n",
      "/mnt/stripe/bio/experiments/aging/peak_calling/H3K27me3/bed_all/OD1_k27me3_hg19_broad_peaks.broadPeak\n",
      "/mnt/stripe/bio/experiments/aging/peak_calling/H3K27me3/bed_all/OD20_k27me3_hg19_broad_peaks.broadPeak\n",
      "/mnt/stripe/bio/experiments/aging/peak_calling/H3K27me3/bed_all/OD2_k27me3_hg19_broad_peaks.broadPeak\n",
      "/mnt/stripe/bio/experiments/aging/peak_calling/H3K27me3/bed_all/OD3_k27me3_hg19_broad_peaks.broadPeak\n",
      "/mnt/stripe/bio/experiments/aging/peak_calling/H3K27me3/bed_all/OD4_k27me3_hg19_broad_peaks.broadPeak\n",
      "/mnt/stripe/bio/experiments/aging/peak_calling/H3K27me3/bed_all/OD5_k27me3_hg19_broad_peaks.broadPeak\n",
      "/mnt/stripe/bio/experiments/aging/peak_calling/H3K27me3/bed_all/OD6_k27me3_hg19_broad_peaks.broadPeak\n",
      "/mnt/stripe/bio/experiments/aging/peak_calling/H3K27me3/bed_all/OD7_k27me3_hg19_broad_peaks.broadPeak\n",
      "/mnt/stripe/bio/experiments/aging/peak_calling/H3K27me3/bed_all/OD8_k27me3_hg19_broad_peaks.broadPeak\n",
      "/mnt/stripe/bio/experiments/aging/peak_calling/H3K27me3/bed_all/OD9_k27me3_hg19_broad_peaks.broadPeak\n",
      "/mnt/stripe/bio/experiments/aging/peak_calling/H3K27me3/bed_all/YD10_k27me3_hg19_broad_peaks.broadPeak\n",
      "/mnt/stripe/bio/experiments/aging/peak_calling/H3K27me3/bed_all/YD11_k27me3_hg19_broad_peaks.broadPeak\n",
      "/mnt/stripe/bio/experiments/aging/peak_calling/H3K27me3/bed_all/YD12_k27me3_hg19_broad_peaks.broadPeak\n",
      "/mnt/stripe/bio/experiments/aging/peak_calling/H3K27me3/bed_all/YD14_k27me3_hg19_broad_peaks.broadPeak\n",
      "/mnt/stripe/bio/experiments/aging/peak_calling/H3K27me3/bed_all/YD15_k27me3_hg19_broad_peaks.broadPeak\n",
      "/mnt/stripe/bio/experiments/aging/peak_calling/H3K27me3/bed_all/YD16_k27me3_hg19_broad_peaks.broadPeak\n",
      "/mnt/stripe/bio/experiments/aging/peak_calling/H3K27me3/bed_all/YD17_k27me3_hg19_broad_peaks.broadPeak\n",
      "/mnt/stripe/bio/experiments/aging/peak_calling/H3K27me3/bed_all/YD18_k27me3_hg19_broad_peaks.broadPeak\n",
      "/mnt/stripe/bio/experiments/aging/peak_calling/H3K27me3/bed_all/YD19_k27me3_hg19_broad_peaks.broadPeak\n",
      "/mnt/stripe/bio/experiments/aging/peak_calling/H3K27me3/bed_all/YD1_k27me3_hg19_broad_peaks.broadPeak\n",
      "/mnt/stripe/bio/experiments/aging/peak_calling/H3K27me3/bed_all/YD20_k27me3_hg19_broad_peaks.broadPeak\n",
      "/mnt/stripe/bio/experiments/aging/peak_calling/H3K27me3/bed_all/YD21_k27me3_hg19_broad_peaks.broadPeak\n",
      "/mnt/stripe/bio/experiments/aging/peak_calling/H3K27me3/bed_all/YD2_k27me3_hg19_broad_peaks.broadPeak\n",
      "/mnt/stripe/bio/experiments/aging/peak_calling/H3K27me3/bed_all/YD3_k27me3_hg19_broad_peaks.broadPeak\n",
      "/mnt/stripe/bio/experiments/aging/peak_calling/H3K27me3/bed_all/YD4_k27me3_hg19_broad_peaks.broadPeak\n",
      "/mnt/stripe/bio/experiments/aging/peak_calling/H3K27me3/bed_all/YD5_k27me3_hg19_broad_peaks.broadPeak\n",
      "/mnt/stripe/bio/experiments/aging/peak_calling/H3K27me3/bed_all/YD6_k27me3_hg19_broad_peaks.broadPeak\n",
      "/mnt/stripe/bio/experiments/aging/peak_calling/H3K27me3/bed_all/YD7_k27me3_hg19_broad_peaks.broadPeak\n",
      "/mnt/stripe/bio/experiments/aging/peak_calling/H3K27me3/bed_all/YD8_k27me3_hg19_broad_peaks.broadPeak\n",
      "/mnt/stripe/bio/experiments/aging/peak_calling/H3K27me3/bed_all/YD9_k27me3_hg19_broad_peaks.broadPeak\n",
      "Peaks: H3K36me3 39\n",
      "/mnt/stripe/bio/experiments/aging/peak_calling/H3K36me3/bed_all/OD10_k36me3_hg19-W200-G1000-FDR1E-6-island.bed\n",
      "/mnt/stripe/bio/experiments/aging/peak_calling/H3K36me3/bed_all/OD11_k36me3_hg19-W200-G1000-FDR1E-6-island.bed\n",
      "/mnt/stripe/bio/experiments/aging/peak_calling/H3K36me3/bed_all/OD12_k36me3_hg19-W200-G1000-FDR1E-6-island.bed\n",
      "/mnt/stripe/bio/experiments/aging/peak_calling/H3K36me3/bed_all/OD13_k36me3_hg19-W200-G1000-FDR1E-6-island.bed\n",
      "/mnt/stripe/bio/experiments/aging/peak_calling/H3K36me3/bed_all/OD14_k36me3_hg19-W200-G1000-FDR1E-6-island.bed\n",
      "/mnt/stripe/bio/experiments/aging/peak_calling/H3K36me3/bed_all/OD15_k36me3_hg19-W200-G1000-FDR1E-6-island.bed\n",
      "/mnt/stripe/bio/experiments/aging/peak_calling/H3K36me3/bed_all/OD16_k36me3_hg19-W200-G1000-FDR1E-6-island.bed\n",
      "/mnt/stripe/bio/experiments/aging/peak_calling/H3K36me3/bed_all/OD17_k36me3_hg19-W200-G1000-FDR1E-6-island.bed\n",
      "/mnt/stripe/bio/experiments/aging/peak_calling/H3K36me3/bed_all/OD18_k36me3_hg19-W200-G1000-FDR1E-6-island.bed\n",
      "/mnt/stripe/bio/experiments/aging/peak_calling/H3K36me3/bed_all/OD19_k36me3_hg19-W200-G1000-FDR1E-6-island.bed\n",
      "/mnt/stripe/bio/experiments/aging/peak_calling/H3K36me3/bed_all/OD1_k36me3_hg19-W200-G1000-FDR1E-6-island.bed\n",
      "/mnt/stripe/bio/experiments/aging/peak_calling/H3K36me3/bed_all/OD20_k36me3_hg19-W200-G1000-FDR1E-6-island.bed\n",
      "/mnt/stripe/bio/experiments/aging/peak_calling/H3K36me3/bed_all/OD2_k36me3_hg19-W200-G1000-FDR1E-6-island.bed\n",
      "/mnt/stripe/bio/experiments/aging/peak_calling/H3K36me3/bed_all/OD3_k36me3_hg19-W200-G1000-FDR1E-6-island.bed\n",
      "/mnt/stripe/bio/experiments/aging/peak_calling/H3K36me3/bed_all/OD4_k36me3_hg19-W200-G1000-FDR1E-6-island.bed\n",
      "/mnt/stripe/bio/experiments/aging/peak_calling/H3K36me3/bed_all/OD5_k36me3_hg19-W200-G1000-FDR1E-6-island.bed\n",
      "/mnt/stripe/bio/experiments/aging/peak_calling/H3K36me3/bed_all/OD6_k36me3_hg19-W200-G1000-FDR1E-6-island.bed\n",
      "/mnt/stripe/bio/experiments/aging/peak_calling/H3K36me3/bed_all/OD7_k36me3_hg19-W200-G1000-FDR1E-6-island.bed\n",
      "/mnt/stripe/bio/experiments/aging/peak_calling/H3K36me3/bed_all/OD8_k36me3_hg19-W200-G1000-FDR1E-6-island.bed\n",
      "/mnt/stripe/bio/experiments/aging/peak_calling/H3K36me3/bed_all/OD9_k36me3_hg19-W200-G1000-FDR1E-6-island.bed\n",
      "/mnt/stripe/bio/experiments/aging/peak_calling/H3K36me3/bed_all/YD10_k36me3_hg19-W200-G1000-FDR1E-6-island.bed\n",
      "/mnt/stripe/bio/experiments/aging/peak_calling/H3K36me3/bed_all/YD11_k36me3_hg19-W200-G1000-FDR1E-6-island.bed\n",
      "/mnt/stripe/bio/experiments/aging/peak_calling/H3K36me3/bed_all/YD12_k36me3_hg19-W200-G1000-FDR1E-6-island.bed\n",
      "/mnt/stripe/bio/experiments/aging/peak_calling/H3K36me3/bed_all/YD14_k36me3_hg19-W200-G1000-FDR1E-6-island.bed\n",
      "/mnt/stripe/bio/experiments/aging/peak_calling/H3K36me3/bed_all/YD15_k36me3_hg19-W200-G1000-FDR1E-6-island.bed\n",
      "/mnt/stripe/bio/experiments/aging/peak_calling/H3K36me3/bed_all/YD16_k36me3_hg19-W200-G1000-FDR1E-6-island.bed\n",
      "/mnt/stripe/bio/experiments/aging/peak_calling/H3K36me3/bed_all/YD17_k36me3_hg19-W200-G1000-FDR1E-6-island.bed\n",
      "/mnt/stripe/bio/experiments/aging/peak_calling/H3K36me3/bed_all/YD18_k36me3_hg19-W200-G1000-FDR1E-6-island.bed\n",
      "/mnt/stripe/bio/experiments/aging/peak_calling/H3K36me3/bed_all/YD19_k36me3_hg19-W200-G1000-FDR1E-6-island.bed\n",
      "/mnt/stripe/bio/experiments/aging/peak_calling/H3K36me3/bed_all/YD1_k36me3_hg19-W200-G1000-FDR1E-6-island.bed\n",
      "/mnt/stripe/bio/experiments/aging/peak_calling/H3K36me3/bed_all/YD20_k36me3_hg19-W200-G1000-FDR1E-6-island.bed\n",
      "/mnt/stripe/bio/experiments/aging/peak_calling/H3K36me3/bed_all/YD21_k36me3_hg19-W200-G1000-FDR1E-6-island.bed\n",
      "/mnt/stripe/bio/experiments/aging/peak_calling/H3K36me3/bed_all/YD2_k36me3_hg19-W200-G1000-FDR1E-6-island.bed\n",
      "/mnt/stripe/bio/experiments/aging/peak_calling/H3K36me3/bed_all/YD3_k36me3_hg19-W200-G1000-FDR1E-6-island.bed\n",
      "/mnt/stripe/bio/experiments/aging/peak_calling/H3K36me3/bed_all/YD4_k36me3_hg19-W200-G1000-FDR1E-6-island.bed\n",
      "/mnt/stripe/bio/experiments/aging/peak_calling/H3K36me3/bed_all/YD5_k36me3_hg19-W200-G1000-FDR1E-6-island.bed\n",
      "/mnt/stripe/bio/experiments/aging/peak_calling/H3K36me3/bed_all/YD6_k36me3_hg19-W200-G1000-FDR1E-6-island.bed\n",
      "/mnt/stripe/bio/experiments/aging/peak_calling/H3K36me3/bed_all/YD8_k36me3_hg19-W200-G1000-FDR1E-6-island.bed\n",
      "/mnt/stripe/bio/experiments/aging/peak_calling/H3K36me3/bed_all/YD9_k36me3_hg19-W200-G1000-FDR1E-6-island.bed\n",
      "Peaks: H3K4me1 32\n",
      "/mnt/stripe/bio/experiments/aging/peak_calling/H3K4me1/bed_all/OD10_k4me1_hg19_broad_peaks.broadPeak\n",
      "/mnt/stripe/bio/experiments/aging/peak_calling/H3K4me1/bed_all/OD11_k4me1_hg19_broad_peaks.broadPeak\n",
      "/mnt/stripe/bio/experiments/aging/peak_calling/H3K4me1/bed_all/OD12_k4me1_hg19_broad_peaks.broadPeak\n",
      "/mnt/stripe/bio/experiments/aging/peak_calling/H3K4me1/bed_all/OD13_k4me1_hg19_broad_peaks.broadPeak\n",
      "/mnt/stripe/bio/experiments/aging/peak_calling/H3K4me1/bed_all/OD14_k4me1_hg19_broad_peaks.broadPeak\n",
      "/mnt/stripe/bio/experiments/aging/peak_calling/H3K4me1/bed_all/OD15_k4me1_hg19_broad_peaks.broadPeak\n",
      "/mnt/stripe/bio/experiments/aging/peak_calling/H3K4me1/bed_all/OD16_k4me1_hg19_broad_peaks.broadPeak\n",
      "/mnt/stripe/bio/experiments/aging/peak_calling/H3K4me1/bed_all/OD17_k4me1_hg19_broad_peaks.broadPeak\n",
      "/mnt/stripe/bio/experiments/aging/peak_calling/H3K4me1/bed_all/OD18_k4me1_hg19_broad_peaks.broadPeak\n",
      "/mnt/stripe/bio/experiments/aging/peak_calling/H3K4me1/bed_all/OD19_k4me1_hg19_broad_peaks.broadPeak\n",
      "/mnt/stripe/bio/experiments/aging/peak_calling/H3K4me1/bed_all/OD20_k4me1_hg19_broad_peaks.broadPeak\n",
      "/mnt/stripe/bio/experiments/aging/peak_calling/H3K4me1/bed_all/OD4_k4me1_hg19_broad_peaks.broadPeak\n",
      "/mnt/stripe/bio/experiments/aging/peak_calling/H3K4me1/bed_all/OD5_k4me1_hg19_broad_peaks.broadPeak\n",
      "/mnt/stripe/bio/experiments/aging/peak_calling/H3K4me1/bed_all/OD6_k4me1_hg19_broad_peaks.broadPeak\n",
      "/mnt/stripe/bio/experiments/aging/peak_calling/H3K4me1/bed_all/OD7_k4me1_hg19_broad_peaks.broadPeak\n",
      "/mnt/stripe/bio/experiments/aging/peak_calling/H3K4me1/bed_all/OD8_k4me1_hg19_broad_peaks.broadPeak\n",
      "/mnt/stripe/bio/experiments/aging/peak_calling/H3K4me1/bed_all/OD9_k4me1_hg19_broad_peaks.broadPeak\n",
      "/mnt/stripe/bio/experiments/aging/peak_calling/H3K4me1/bed_all/YD10_k4me1_hg19_broad_peaks.broadPeak\n",
      "/mnt/stripe/bio/experiments/aging/peak_calling/H3K4me1/bed_all/YD11_k4me1_hg19_broad_peaks.broadPeak\n",
      "/mnt/stripe/bio/experiments/aging/peak_calling/H3K4me1/bed_all/YD12_k4me1_hg19_broad_peaks.broadPeak\n",
      "/mnt/stripe/bio/experiments/aging/peak_calling/H3K4me1/bed_all/YD14_k4me1_hg19_broad_peaks.broadPeak\n",
      "/mnt/stripe/bio/experiments/aging/peak_calling/H3K4me1/bed_all/YD15_k4me1_hg19_broad_peaks.broadPeak\n",
      "/mnt/stripe/bio/experiments/aging/peak_calling/H3K4me1/bed_all/YD16_k4me1_hg19_broad_peaks.broadPeak\n",
      "/mnt/stripe/bio/experiments/aging/peak_calling/H3K4me1/bed_all/YD17_k4me1_hg19_broad_peaks.broadPeak\n",
      "/mnt/stripe/bio/experiments/aging/peak_calling/H3K4me1/bed_all/YD18_k4me1_hg19_broad_peaks.broadPeak\n",
      "/mnt/stripe/bio/experiments/aging/peak_calling/H3K4me1/bed_all/YD19_k4me1_hg19_broad_peaks.broadPeak\n",
      "/mnt/stripe/bio/experiments/aging/peak_calling/H3K4me1/bed_all/YD20_k4me1_hg19_broad_peaks.broadPeak\n",
      "/mnt/stripe/bio/experiments/aging/peak_calling/H3K4me1/bed_all/YD5_k4me1_hg19_broad_peaks.broadPeak\n",
      "/mnt/stripe/bio/experiments/aging/peak_calling/H3K4me1/bed_all/YD6_k4me1_hg19_broad_peaks.broadPeak\n",
      "/mnt/stripe/bio/experiments/aging/peak_calling/H3K4me1/bed_all/YD7_k4me1_hg19_broad_peaks.broadPeak\n",
      "/mnt/stripe/bio/experiments/aging/peak_calling/H3K4me1/bed_all/YD8_k4me1_hg19_broad_peaks.broadPeak\n",
      "/mnt/stripe/bio/experiments/aging/peak_calling/H3K4me1/bed_all/YD9_k4me1_hg19_broad_peaks.broadPeak\n",
      "Peaks: H3K4me3 40\n",
      "/mnt/stripe/bio/experiments/aging/peak_calling/H3K4me3/bed_all/OD10_k4me3_hg19_fdr_peaks.narrowPeak\n",
      "/mnt/stripe/bio/experiments/aging/peak_calling/H3K4me3/bed_all/OD11_k4me3_hg19_fdr_peaks.narrowPeak\n",
      "/mnt/stripe/bio/experiments/aging/peak_calling/H3K4me3/bed_all/OD12_k4me3_hg19_fdr_peaks.narrowPeak\n",
      "/mnt/stripe/bio/experiments/aging/peak_calling/H3K4me3/bed_all/OD13_k4me3_hg19_fdr_peaks.narrowPeak\n",
      "/mnt/stripe/bio/experiments/aging/peak_calling/H3K4me3/bed_all/OD14_k4me3_hg19_fdr_peaks.narrowPeak\n",
      "/mnt/stripe/bio/experiments/aging/peak_calling/H3K4me3/bed_all/OD15_k4me3_hg19_fdr_peaks.narrowPeak\n",
      "/mnt/stripe/bio/experiments/aging/peak_calling/H3K4me3/bed_all/OD16_k4me3_hg19_fdr_peaks.narrowPeak\n",
      "/mnt/stripe/bio/experiments/aging/peak_calling/H3K4me3/bed_all/OD17_k4me3_hg19_fdr_peaks.narrowPeak\n",
      "/mnt/stripe/bio/experiments/aging/peak_calling/H3K4me3/bed_all/OD18_k4me3_hg19_fdr_peaks.narrowPeak\n",
      "/mnt/stripe/bio/experiments/aging/peak_calling/H3K4me3/bed_all/OD19_k4me3_hg19_fdr_peaks.narrowPeak\n",
      "/mnt/stripe/bio/experiments/aging/peak_calling/H3K4me3/bed_all/OD1_k4me3_hg19_fdr_peaks.narrowPeak\n",
      "/mnt/stripe/bio/experiments/aging/peak_calling/H3K4me3/bed_all/OD20_k4me3_hg19_fdr_peaks.narrowPeak\n",
      "/mnt/stripe/bio/experiments/aging/peak_calling/H3K4me3/bed_all/OD2_k4me3_hg19_fdr_peaks.narrowPeak\n",
      "/mnt/stripe/bio/experiments/aging/peak_calling/H3K4me3/bed_all/OD3_k4me3_hg19_fdr_peaks.narrowPeak\n",
      "/mnt/stripe/bio/experiments/aging/peak_calling/H3K4me3/bed_all/OD4_k4me3_hg19_fdr_peaks.narrowPeak\n",
      "/mnt/stripe/bio/experiments/aging/peak_calling/H3K4me3/bed_all/OD5_k4me3_hg19_fdr_peaks.narrowPeak\n",
      "/mnt/stripe/bio/experiments/aging/peak_calling/H3K4me3/bed_all/OD6_k4me3_hg19_fdr_peaks.narrowPeak\n",
      "/mnt/stripe/bio/experiments/aging/peak_calling/H3K4me3/bed_all/OD7_k4me3_hg19_fdr_peaks.narrowPeak\n",
      "/mnt/stripe/bio/experiments/aging/peak_calling/H3K4me3/bed_all/OD8_k4me3_hg19_fdr_peaks.narrowPeak\n",
      "/mnt/stripe/bio/experiments/aging/peak_calling/H3K4me3/bed_all/OD9_k4me3_hg19_fdr_peaks.narrowPeak\n",
      "/mnt/stripe/bio/experiments/aging/peak_calling/H3K4me3/bed_all/YD10_k4me3_hg19_fdr_peaks.narrowPeak\n",
      "/mnt/stripe/bio/experiments/aging/peak_calling/H3K4me3/bed_all/YD11_k4me3_hg19_fdr_peaks.narrowPeak\n",
      "/mnt/stripe/bio/experiments/aging/peak_calling/H3K4me3/bed_all/YD12_k4me3_hg19_fdr_peaks.narrowPeak\n",
      "/mnt/stripe/bio/experiments/aging/peak_calling/H3K4me3/bed_all/YD14_k4me3_hg19_fdr_peaks.narrowPeak\n",
      "/mnt/stripe/bio/experiments/aging/peak_calling/H3K4me3/bed_all/YD15_k4me3_hg19_fdr_peaks.narrowPeak\n",
      "/mnt/stripe/bio/experiments/aging/peak_calling/H3K4me3/bed_all/YD16_k4me3_hg19_fdr_peaks.narrowPeak\n",
      "/mnt/stripe/bio/experiments/aging/peak_calling/H3K4me3/bed_all/YD17_k4me3_hg19_fdr_peaks.narrowPeak\n",
      "/mnt/stripe/bio/experiments/aging/peak_calling/H3K4me3/bed_all/YD18_k4me3_hg19_fdr_peaks.narrowPeak\n",
      "/mnt/stripe/bio/experiments/aging/peak_calling/H3K4me3/bed_all/YD19_k4me3_hg19_fdr_peaks.narrowPeak\n",
      "/mnt/stripe/bio/experiments/aging/peak_calling/H3K4me3/bed_all/YD1_k4me3_hg19_fdr_peaks.narrowPeak\n",
      "/mnt/stripe/bio/experiments/aging/peak_calling/H3K4me3/bed_all/YD20_k4me3_hg19_fdr_peaks.narrowPeak\n",
      "/mnt/stripe/bio/experiments/aging/peak_calling/H3K4me3/bed_all/YD21_k4me3_hg19_fdr_peaks.narrowPeak\n",
      "/mnt/stripe/bio/experiments/aging/peak_calling/H3K4me3/bed_all/YD2_k4me3_hg19_fdr_peaks.narrowPeak\n",
      "/mnt/stripe/bio/experiments/aging/peak_calling/H3K4me3/bed_all/YD3_k4me3_hg19_fdr_peaks.narrowPeak\n",
      "/mnt/stripe/bio/experiments/aging/peak_calling/H3K4me3/bed_all/YD4_k4me3_hg19_fdr_peaks.narrowPeak\n",
      "/mnt/stripe/bio/experiments/aging/peak_calling/H3K4me3/bed_all/YD5_k4me3_hg19_fdr_peaks.narrowPeak\n",
      "/mnt/stripe/bio/experiments/aging/peak_calling/H3K4me3/bed_all/YD6_k4me3_hg19_fdr_peaks.narrowPeak\n",
      "/mnt/stripe/bio/experiments/aging/peak_calling/H3K4me3/bed_all/YD7_k4me3_hg19_fdr_peaks.narrowPeak\n",
      "/mnt/stripe/bio/experiments/aging/peak_calling/H3K4me3/bed_all/YD8_k4me3_hg19_fdr_peaks.narrowPeak\n",
      "/mnt/stripe/bio/experiments/aging/peak_calling/H3K4me3/bed_all/YD9_k4me3_hg19_fdr_peaks.narrowPeak\n"
     ]
    }
   ],
   "source": [
    "peaks_info(peaks_dict, \"golden\")"
   ]
  },
  {
   "cell_type": "code",
   "execution_count": 18,
   "metadata": {
    "ExecuteTime": {
     "end_time": "2017-11-10T20:29:25.753572Z",
     "start_time": "2017-11-10T20:29:25.744385Z"
    }
   },
   "outputs": [
    {
     "name": "stdout",
     "output_type": "stream",
     "text": [
      "Peaks: H3K27ac 40\n",
      "/mnt/stripe/bio/experiments/configs/Y20O20_full/peaks/H3K27ac/OD_OD10_H3K27ac_hg19_1.0E-6_peaks.bed\n",
      "/mnt/stripe/bio/experiments/configs/Y20O20_full/peaks/H3K27ac/OD_OD11_H3K27ac_hg19_1.0E-6_peaks.bed\n",
      "/mnt/stripe/bio/experiments/configs/Y20O20_full/peaks/H3K27ac/OD_OD12_H3K27ac_hg19_1.0E-6_peaks.bed\n",
      "/mnt/stripe/bio/experiments/configs/Y20O20_full/peaks/H3K27ac/OD_OD13_H3K27ac_hg19_1.0E-6_peaks.bed\n",
      "/mnt/stripe/bio/experiments/configs/Y20O20_full/peaks/H3K27ac/OD_OD14_H3K27ac_hg19_1.0E-6_peaks.bed\n",
      "/mnt/stripe/bio/experiments/configs/Y20O20_full/peaks/H3K27ac/OD_OD15_H3K27ac_hg19_1.0E-6_peaks.bed\n",
      "/mnt/stripe/bio/experiments/configs/Y20O20_full/peaks/H3K27ac/OD_OD16_H3K27ac_hg19_1.0E-6_peaks.bed\n",
      "/mnt/stripe/bio/experiments/configs/Y20O20_full/peaks/H3K27ac/OD_OD17_H3K27ac_hg19_1.0E-6_peaks.bed\n",
      "/mnt/stripe/bio/experiments/configs/Y20O20_full/peaks/H3K27ac/OD_OD18_H3K27ac_hg19_1.0E-6_peaks.bed\n",
      "/mnt/stripe/bio/experiments/configs/Y20O20_full/peaks/H3K27ac/OD_OD19_H3K27ac_hg19_1.0E-6_peaks.bed\n",
      "/mnt/stripe/bio/experiments/configs/Y20O20_full/peaks/H3K27ac/OD_OD1_H3K27ac_hg19_1.0E-6_peaks.bed\n",
      "/mnt/stripe/bio/experiments/configs/Y20O20_full/peaks/H3K27ac/OD_OD20_H3K27ac_hg19_1.0E-6_peaks.bed\n",
      "/mnt/stripe/bio/experiments/configs/Y20O20_full/peaks/H3K27ac/OD_OD2_H3K27ac_hg19_1.0E-6_peaks.bed\n",
      "/mnt/stripe/bio/experiments/configs/Y20O20_full/peaks/H3K27ac/OD_OD3_H3K27ac_hg19_1.0E-6_peaks.bed\n",
      "/mnt/stripe/bio/experiments/configs/Y20O20_full/peaks/H3K27ac/OD_OD4_H3K27ac_hg19_1.0E-6_peaks.bed\n",
      "/mnt/stripe/bio/experiments/configs/Y20O20_full/peaks/H3K27ac/OD_OD5_H3K27ac_hg19_1.0E-6_peaks.bed\n",
      "/mnt/stripe/bio/experiments/configs/Y20O20_full/peaks/H3K27ac/OD_OD6_H3K27ac_hg19_1.0E-6_peaks.bed\n",
      "/mnt/stripe/bio/experiments/configs/Y20O20_full/peaks/H3K27ac/OD_OD7_H3K27ac_hg19_1.0E-6_peaks.bed\n",
      "/mnt/stripe/bio/experiments/configs/Y20O20_full/peaks/H3K27ac/OD_OD8_H3K27ac_hg19_1.0E-6_peaks.bed\n",
      "/mnt/stripe/bio/experiments/configs/Y20O20_full/peaks/H3K27ac/OD_OD9_H3K27ac_hg19_1.0E-6_peaks.bed\n",
      "/mnt/stripe/bio/experiments/configs/Y20O20_full/peaks/H3K27ac/YD_YD10_H3K27ac_hg19_1.0E-6_peaks.bed\n",
      "/mnt/stripe/bio/experiments/configs/Y20O20_full/peaks/H3K27ac/YD_YD11_H3K27ac_hg19_1.0E-6_peaks.bed\n",
      "/mnt/stripe/bio/experiments/configs/Y20O20_full/peaks/H3K27ac/YD_YD12_H3K27ac_hg19_1.0E-6_peaks.bed\n",
      "/mnt/stripe/bio/experiments/configs/Y20O20_full/peaks/H3K27ac/YD_YD14_H3K27ac_hg19_1.0E-6_peaks.bed\n",
      "/mnt/stripe/bio/experiments/configs/Y20O20_full/peaks/H3K27ac/YD_YD15_H3K27ac_hg19_1.0E-6_peaks.bed\n",
      "/mnt/stripe/bio/experiments/configs/Y20O20_full/peaks/H3K27ac/YD_YD16_H3K27ac_hg19_1.0E-6_peaks.bed\n",
      "/mnt/stripe/bio/experiments/configs/Y20O20_full/peaks/H3K27ac/YD_YD17_H3K27ac_hg19_1.0E-6_peaks.bed\n",
      "/mnt/stripe/bio/experiments/configs/Y20O20_full/peaks/H3K27ac/YD_YD18_H3K27ac_hg19_1.0E-6_peaks.bed\n",
      "/mnt/stripe/bio/experiments/configs/Y20O20_full/peaks/H3K27ac/YD_YD19_H3K27ac_hg19_1.0E-6_peaks.bed\n",
      "/mnt/stripe/bio/experiments/configs/Y20O20_full/peaks/H3K27ac/YD_YD1_H3K27ac_hg19_1.0E-6_peaks.bed\n",
      "/mnt/stripe/bio/experiments/configs/Y20O20_full/peaks/H3K27ac/YD_YD20_H3K27ac_hg19_1.0E-6_peaks.bed\n",
      "/mnt/stripe/bio/experiments/configs/Y20O20_full/peaks/H3K27ac/YD_YD21_H3K27ac_hg19_1.0E-6_peaks.bed\n",
      "/mnt/stripe/bio/experiments/configs/Y20O20_full/peaks/H3K27ac/YD_YD2_H3K27ac_hg19_1.0E-6_peaks.bed\n",
      "/mnt/stripe/bio/experiments/configs/Y20O20_full/peaks/H3K27ac/YD_YD3_H3K27ac_hg19_1.0E-6_peaks.bed\n",
      "/mnt/stripe/bio/experiments/configs/Y20O20_full/peaks/H3K27ac/YD_YD4_H3K27ac_hg19_1.0E-6_peaks.bed\n",
      "/mnt/stripe/bio/experiments/configs/Y20O20_full/peaks/H3K27ac/YD_YD5_H3K27ac_hg19_1.0E-6_peaks.bed\n",
      "/mnt/stripe/bio/experiments/configs/Y20O20_full/peaks/H3K27ac/YD_YD6_H3K27ac_hg19_1.0E-6_peaks.bed\n",
      "/mnt/stripe/bio/experiments/configs/Y20O20_full/peaks/H3K27ac/YD_YD7_H3K27ac_hg19_1.0E-6_peaks.bed\n",
      "/mnt/stripe/bio/experiments/configs/Y20O20_full/peaks/H3K27ac/YD_YD8_H3K27ac_hg19_1.0E-6_peaks.bed\n",
      "/mnt/stripe/bio/experiments/configs/Y20O20_full/peaks/H3K27ac/YD_YD9_H3K27ac_hg19_1.0E-6_peaks.bed\n",
      "Peaks: H3K27me3 40\n",
      "/mnt/stripe/bio/experiments/configs/Y20O20_full/peaks/H3K27me3/OD_OD10_H3K27me3_hg19_1.0E-6_peaks.bed\n",
      "/mnt/stripe/bio/experiments/configs/Y20O20_full/peaks/H3K27me3/OD_OD11_H3K27me3_hg19_1.0E-6_peaks.bed\n",
      "/mnt/stripe/bio/experiments/configs/Y20O20_full/peaks/H3K27me3/OD_OD12_H3K27me3_hg19_1.0E-6_peaks.bed\n",
      "/mnt/stripe/bio/experiments/configs/Y20O20_full/peaks/H3K27me3/OD_OD13_H3K27me3_hg19_1.0E-6_peaks.bed\n",
      "/mnt/stripe/bio/experiments/configs/Y20O20_full/peaks/H3K27me3/OD_OD14_H3K27me3_hg19_1.0E-6_peaks.bed\n",
      "/mnt/stripe/bio/experiments/configs/Y20O20_full/peaks/H3K27me3/OD_OD15_H3K27me3_hg19_1.0E-6_peaks.bed\n",
      "/mnt/stripe/bio/experiments/configs/Y20O20_full/peaks/H3K27me3/OD_OD16_H3K27me3_hg19_1.0E-6_peaks.bed\n",
      "/mnt/stripe/bio/experiments/configs/Y20O20_full/peaks/H3K27me3/OD_OD17_H3K27me3_hg19_1.0E-6_peaks.bed\n",
      "/mnt/stripe/bio/experiments/configs/Y20O20_full/peaks/H3K27me3/OD_OD18_H3K27me3_hg19_1.0E-6_peaks.bed\n",
      "/mnt/stripe/bio/experiments/configs/Y20O20_full/peaks/H3K27me3/OD_OD19_H3K27me3_hg19_1.0E-6_peaks.bed\n",
      "/mnt/stripe/bio/experiments/configs/Y20O20_full/peaks/H3K27me3/OD_OD1_H3K27me3_hg19_1.0E-6_peaks.bed\n",
      "/mnt/stripe/bio/experiments/configs/Y20O20_full/peaks/H3K27me3/OD_OD20_H3K27me3_hg19_1.0E-6_peaks.bed\n",
      "/mnt/stripe/bio/experiments/configs/Y20O20_full/peaks/H3K27me3/OD_OD2_H3K27me3_hg19_1.0E-6_peaks.bed\n",
      "/mnt/stripe/bio/experiments/configs/Y20O20_full/peaks/H3K27me3/OD_OD3_H3K27me3_hg19_1.0E-6_peaks.bed\n",
      "/mnt/stripe/bio/experiments/configs/Y20O20_full/peaks/H3K27me3/OD_OD4_H3K27me3_hg19_1.0E-6_peaks.bed\n",
      "/mnt/stripe/bio/experiments/configs/Y20O20_full/peaks/H3K27me3/OD_OD5_H3K27me3_hg19_1.0E-6_peaks.bed\n",
      "/mnt/stripe/bio/experiments/configs/Y20O20_full/peaks/H3K27me3/OD_OD6_H3K27me3_hg19_1.0E-6_peaks.bed\n",
      "/mnt/stripe/bio/experiments/configs/Y20O20_full/peaks/H3K27me3/OD_OD7_H3K27me3_hg19_1.0E-6_peaks.bed\n",
      "/mnt/stripe/bio/experiments/configs/Y20O20_full/peaks/H3K27me3/OD_OD8_H3K27me3_hg19_1.0E-6_peaks.bed\n",
      "/mnt/stripe/bio/experiments/configs/Y20O20_full/peaks/H3K27me3/OD_OD9_H3K27me3_hg19_1.0E-6_peaks.bed\n",
      "/mnt/stripe/bio/experiments/configs/Y20O20_full/peaks/H3K27me3/YD_YD10_H3K27me3_hg19_1.0E-6_peaks.bed\n",
      "/mnt/stripe/bio/experiments/configs/Y20O20_full/peaks/H3K27me3/YD_YD11_H3K27me3_hg19_1.0E-6_peaks.bed\n",
      "/mnt/stripe/bio/experiments/configs/Y20O20_full/peaks/H3K27me3/YD_YD12_H3K27me3_hg19_1.0E-6_peaks.bed\n",
      "/mnt/stripe/bio/experiments/configs/Y20O20_full/peaks/H3K27me3/YD_YD14_H3K27me3_hg19_1.0E-6_peaks.bed\n",
      "/mnt/stripe/bio/experiments/configs/Y20O20_full/peaks/H3K27me3/YD_YD15_H3K27me3_hg19_1.0E-6_peaks.bed\n",
      "/mnt/stripe/bio/experiments/configs/Y20O20_full/peaks/H3K27me3/YD_YD16_H3K27me3_hg19_1.0E-6_peaks.bed\n",
      "/mnt/stripe/bio/experiments/configs/Y20O20_full/peaks/H3K27me3/YD_YD17_H3K27me3_hg19_1.0E-6_peaks.bed\n",
      "/mnt/stripe/bio/experiments/configs/Y20O20_full/peaks/H3K27me3/YD_YD18_H3K27me3_hg19_1.0E-6_peaks.bed\n",
      "/mnt/stripe/bio/experiments/configs/Y20O20_full/peaks/H3K27me3/YD_YD19_H3K27me3_hg19_1.0E-6_peaks.bed\n",
      "/mnt/stripe/bio/experiments/configs/Y20O20_full/peaks/H3K27me3/YD_YD1_H3K27me3_hg19_1.0E-6_peaks.bed\n",
      "/mnt/stripe/bio/experiments/configs/Y20O20_full/peaks/H3K27me3/YD_YD20_H3K27me3_hg19_1.0E-6_peaks.bed\n",
      "/mnt/stripe/bio/experiments/configs/Y20O20_full/peaks/H3K27me3/YD_YD21_H3K27me3_hg19_1.0E-6_peaks.bed\n",
      "/mnt/stripe/bio/experiments/configs/Y20O20_full/peaks/H3K27me3/YD_YD2_H3K27me3_hg19_1.0E-6_peaks.bed\n",
      "/mnt/stripe/bio/experiments/configs/Y20O20_full/peaks/H3K27me3/YD_YD3_H3K27me3_hg19_1.0E-6_peaks.bed\n",
      "/mnt/stripe/bio/experiments/configs/Y20O20_full/peaks/H3K27me3/YD_YD4_H3K27me3_hg19_1.0E-6_peaks.bed\n",
      "/mnt/stripe/bio/experiments/configs/Y20O20_full/peaks/H3K27me3/YD_YD5_H3K27me3_hg19_1.0E-6_peaks.bed\n",
      "/mnt/stripe/bio/experiments/configs/Y20O20_full/peaks/H3K27me3/YD_YD6_H3K27me3_hg19_1.0E-6_peaks.bed\n",
      "/mnt/stripe/bio/experiments/configs/Y20O20_full/peaks/H3K27me3/YD_YD7_H3K27me3_hg19_1.0E-6_peaks.bed\n",
      "/mnt/stripe/bio/experiments/configs/Y20O20_full/peaks/H3K27me3/YD_YD8_H3K27me3_hg19_1.0E-6_peaks.bed\n",
      "/mnt/stripe/bio/experiments/configs/Y20O20_full/peaks/H3K27me3/YD_YD9_H3K27me3_hg19_1.0E-6_peaks.bed\n",
      "Peaks: H3K36me3 39\n",
      "/mnt/stripe/bio/experiments/configs/Y20O20_full/peaks/H3K36me3/OD_OD10_H3K36me3_hg19_1.0E-6_peaks.bed\n",
      "/mnt/stripe/bio/experiments/configs/Y20O20_full/peaks/H3K36me3/OD_OD11_H3K36me3_hg19_1.0E-6_peaks.bed\n",
      "/mnt/stripe/bio/experiments/configs/Y20O20_full/peaks/H3K36me3/OD_OD12_H3K36me3_hg19_1.0E-6_peaks.bed\n",
      "/mnt/stripe/bio/experiments/configs/Y20O20_full/peaks/H3K36me3/OD_OD13_H3K36me3_hg19_1.0E-6_peaks.bed\n",
      "/mnt/stripe/bio/experiments/configs/Y20O20_full/peaks/H3K36me3/OD_OD14_H3K36me3_hg19_1.0E-6_peaks.bed\n",
      "/mnt/stripe/bio/experiments/configs/Y20O20_full/peaks/H3K36me3/OD_OD15_H3K36me3_hg19_1.0E-6_peaks.bed\n",
      "/mnt/stripe/bio/experiments/configs/Y20O20_full/peaks/H3K36me3/OD_OD16_H3K36me3_hg19_1.0E-6_peaks.bed\n",
      "/mnt/stripe/bio/experiments/configs/Y20O20_full/peaks/H3K36me3/OD_OD17_H3K36me3_hg19_1.0E-6_peaks.bed\n",
      "/mnt/stripe/bio/experiments/configs/Y20O20_full/peaks/H3K36me3/OD_OD18_H3K36me3_hg19_1.0E-6_peaks.bed\n",
      "/mnt/stripe/bio/experiments/configs/Y20O20_full/peaks/H3K36me3/OD_OD19_H3K36me3_hg19_1.0E-6_peaks.bed\n",
      "/mnt/stripe/bio/experiments/configs/Y20O20_full/peaks/H3K36me3/OD_OD1_H3K36me3_hg19_1.0E-6_peaks.bed\n",
      "/mnt/stripe/bio/experiments/configs/Y20O20_full/peaks/H3K36me3/OD_OD20_H3K36me3_hg19_1.0E-6_peaks.bed\n",
      "/mnt/stripe/bio/experiments/configs/Y20O20_full/peaks/H3K36me3/OD_OD2_H3K36me3_hg19_1.0E-6_peaks.bed\n",
      "/mnt/stripe/bio/experiments/configs/Y20O20_full/peaks/H3K36me3/OD_OD3_H3K36me3_hg19_1.0E-6_peaks.bed\n",
      "/mnt/stripe/bio/experiments/configs/Y20O20_full/peaks/H3K36me3/OD_OD4_H3K36me3_hg19_1.0E-6_peaks.bed\n",
      "/mnt/stripe/bio/experiments/configs/Y20O20_full/peaks/H3K36me3/OD_OD5_H3K36me3_hg19_1.0E-6_peaks.bed\n",
      "/mnt/stripe/bio/experiments/configs/Y20O20_full/peaks/H3K36me3/OD_OD6_H3K36me3_hg19_1.0E-6_peaks.bed\n",
      "/mnt/stripe/bio/experiments/configs/Y20O20_full/peaks/H3K36me3/OD_OD7_H3K36me3_hg19_1.0E-6_peaks.bed\n",
      "/mnt/stripe/bio/experiments/configs/Y20O20_full/peaks/H3K36me3/OD_OD8_H3K36me3_hg19_1.0E-6_peaks.bed\n",
      "/mnt/stripe/bio/experiments/configs/Y20O20_full/peaks/H3K36me3/OD_OD9_H3K36me3_hg19_1.0E-6_peaks.bed\n",
      "/mnt/stripe/bio/experiments/configs/Y20O20_full/peaks/H3K36me3/YD_YD10_H3K36me3_hg19_1.0E-6_peaks.bed\n",
      "/mnt/stripe/bio/experiments/configs/Y20O20_full/peaks/H3K36me3/YD_YD11_H3K36me3_hg19_1.0E-6_peaks.bed\n",
      "/mnt/stripe/bio/experiments/configs/Y20O20_full/peaks/H3K36me3/YD_YD12_H3K36me3_hg19_1.0E-6_peaks.bed\n",
      "/mnt/stripe/bio/experiments/configs/Y20O20_full/peaks/H3K36me3/YD_YD14_H3K36me3_hg19_1.0E-6_peaks.bed\n",
      "/mnt/stripe/bio/experiments/configs/Y20O20_full/peaks/H3K36me3/YD_YD15_H3K36me3_hg19_1.0E-6_peaks.bed\n",
      "/mnt/stripe/bio/experiments/configs/Y20O20_full/peaks/H3K36me3/YD_YD16_H3K36me3_hg19_1.0E-6_peaks.bed\n",
      "/mnt/stripe/bio/experiments/configs/Y20O20_full/peaks/H3K36me3/YD_YD17_H3K36me3_hg19_1.0E-6_peaks.bed\n",
      "/mnt/stripe/bio/experiments/configs/Y20O20_full/peaks/H3K36me3/YD_YD18_H3K36me3_hg19_1.0E-6_peaks.bed\n",
      "/mnt/stripe/bio/experiments/configs/Y20O20_full/peaks/H3K36me3/YD_YD19_H3K36me3_hg19_1.0E-6_peaks.bed\n",
      "/mnt/stripe/bio/experiments/configs/Y20O20_full/peaks/H3K36me3/YD_YD1_H3K36me3_hg19_1.0E-6_peaks.bed\n",
      "/mnt/stripe/bio/experiments/configs/Y20O20_full/peaks/H3K36me3/YD_YD20_H3K36me3_hg19_1.0E-6_peaks.bed\n",
      "/mnt/stripe/bio/experiments/configs/Y20O20_full/peaks/H3K36me3/YD_YD21_H3K36me3_hg19_1.0E-6_peaks.bed\n",
      "/mnt/stripe/bio/experiments/configs/Y20O20_full/peaks/H3K36me3/YD_YD2_H3K36me3_hg19_1.0E-6_peaks.bed\n",
      "/mnt/stripe/bio/experiments/configs/Y20O20_full/peaks/H3K36me3/YD_YD3_H3K36me3_hg19_1.0E-6_peaks.bed\n",
      "/mnt/stripe/bio/experiments/configs/Y20O20_full/peaks/H3K36me3/YD_YD4_H3K36me3_hg19_1.0E-6_peaks.bed\n",
      "/mnt/stripe/bio/experiments/configs/Y20O20_full/peaks/H3K36me3/YD_YD5_H3K36me3_hg19_1.0E-6_peaks.bed\n",
      "/mnt/stripe/bio/experiments/configs/Y20O20_full/peaks/H3K36me3/YD_YD6_H3K36me3_hg19_1.0E-6_peaks.bed\n",
      "/mnt/stripe/bio/experiments/configs/Y20O20_full/peaks/H3K36me3/YD_YD8_H3K36me3_hg19_1.0E-6_peaks.bed\n",
      "/mnt/stripe/bio/experiments/configs/Y20O20_full/peaks/H3K36me3/YD_YD9_H3K36me3_hg19_1.0E-6_peaks.bed\n",
      "Peaks: H3K4me1 32\n",
      "/mnt/stripe/bio/experiments/configs/Y20O20_full/peaks/H3K4me1/OD_OD10_H3K4me1_hg19_1.0E-6_peaks.bed\n",
      "/mnt/stripe/bio/experiments/configs/Y20O20_full/peaks/H3K4me1/OD_OD11_H3K4me1_hg19_1.0E-6_peaks.bed\n",
      "/mnt/stripe/bio/experiments/configs/Y20O20_full/peaks/H3K4me1/OD_OD12_H3K4me1_hg19_1.0E-6_peaks.bed\n",
      "/mnt/stripe/bio/experiments/configs/Y20O20_full/peaks/H3K4me1/OD_OD13_H3K4me1_hg19_1.0E-6_peaks.bed\n",
      "/mnt/stripe/bio/experiments/configs/Y20O20_full/peaks/H3K4me1/OD_OD14_H3K4me1_hg19_1.0E-6_peaks.bed\n",
      "/mnt/stripe/bio/experiments/configs/Y20O20_full/peaks/H3K4me1/OD_OD15_H3K4me1_hg19_1.0E-6_peaks.bed\n",
      "/mnt/stripe/bio/experiments/configs/Y20O20_full/peaks/H3K4me1/OD_OD16_H3K4me1_hg19_1.0E-6_peaks.bed\n",
      "/mnt/stripe/bio/experiments/configs/Y20O20_full/peaks/H3K4me1/OD_OD17_H3K4me1_hg19_1.0E-6_peaks.bed\n",
      "/mnt/stripe/bio/experiments/configs/Y20O20_full/peaks/H3K4me1/OD_OD18_H3K4me1_hg19_1.0E-6_peaks.bed\n",
      "/mnt/stripe/bio/experiments/configs/Y20O20_full/peaks/H3K4me1/OD_OD19_H3K4me1_hg19_1.0E-6_peaks.bed\n",
      "/mnt/stripe/bio/experiments/configs/Y20O20_full/peaks/H3K4me1/OD_OD20_H3K4me1_hg19_1.0E-6_peaks.bed\n",
      "/mnt/stripe/bio/experiments/configs/Y20O20_full/peaks/H3K4me1/OD_OD4_H3K4me1_hg19_1.0E-6_peaks.bed\n",
      "/mnt/stripe/bio/experiments/configs/Y20O20_full/peaks/H3K4me1/OD_OD5_H3K4me1_hg19_1.0E-6_peaks.bed\n",
      "/mnt/stripe/bio/experiments/configs/Y20O20_full/peaks/H3K4me1/OD_OD6_H3K4me1_hg19_1.0E-6_peaks.bed\n",
      "/mnt/stripe/bio/experiments/configs/Y20O20_full/peaks/H3K4me1/OD_OD7_H3K4me1_hg19_1.0E-6_peaks.bed\n",
      "/mnt/stripe/bio/experiments/configs/Y20O20_full/peaks/H3K4me1/OD_OD8_H3K4me1_hg19_1.0E-6_peaks.bed\n",
      "/mnt/stripe/bio/experiments/configs/Y20O20_full/peaks/H3K4me1/OD_OD9_H3K4me1_hg19_1.0E-6_peaks.bed\n",
      "/mnt/stripe/bio/experiments/configs/Y20O20_full/peaks/H3K4me1/YD_YD10_H3K4me1_hg19_1.0E-6_peaks.bed\n",
      "/mnt/stripe/bio/experiments/configs/Y20O20_full/peaks/H3K4me1/YD_YD11_H3K4me1_hg19_1.0E-6_peaks.bed\n",
      "/mnt/stripe/bio/experiments/configs/Y20O20_full/peaks/H3K4me1/YD_YD12_H3K4me1_hg19_1.0E-6_peaks.bed\n",
      "/mnt/stripe/bio/experiments/configs/Y20O20_full/peaks/H3K4me1/YD_YD14_H3K4me1_hg19_1.0E-6_peaks.bed\n",
      "/mnt/stripe/bio/experiments/configs/Y20O20_full/peaks/H3K4me1/YD_YD15_H3K4me1_hg19_1.0E-6_peaks.bed\n",
      "/mnt/stripe/bio/experiments/configs/Y20O20_full/peaks/H3K4me1/YD_YD16_H3K4me1_hg19_1.0E-6_peaks.bed\n",
      "/mnt/stripe/bio/experiments/configs/Y20O20_full/peaks/H3K4me1/YD_YD17_H3K4me1_hg19_1.0E-6_peaks.bed\n",
      "/mnt/stripe/bio/experiments/configs/Y20O20_full/peaks/H3K4me1/YD_YD18_H3K4me1_hg19_1.0E-6_peaks.bed\n",
      "/mnt/stripe/bio/experiments/configs/Y20O20_full/peaks/H3K4me1/YD_YD19_H3K4me1_hg19_1.0E-6_peaks.bed\n",
      "/mnt/stripe/bio/experiments/configs/Y20O20_full/peaks/H3K4me1/YD_YD20_H3K4me1_hg19_1.0E-6_peaks.bed\n",
      "/mnt/stripe/bio/experiments/configs/Y20O20_full/peaks/H3K4me1/YD_YD5_H3K4me1_hg19_1.0E-6_peaks.bed\n",
      "/mnt/stripe/bio/experiments/configs/Y20O20_full/peaks/H3K4me1/YD_YD6_H3K4me1_hg19_1.0E-6_peaks.bed\n",
      "/mnt/stripe/bio/experiments/configs/Y20O20_full/peaks/H3K4me1/YD_YD7_H3K4me1_hg19_1.0E-6_peaks.bed\n",
      "/mnt/stripe/bio/experiments/configs/Y20O20_full/peaks/H3K4me1/YD_YD8_H3K4me1_hg19_1.0E-6_peaks.bed\n",
      "/mnt/stripe/bio/experiments/configs/Y20O20_full/peaks/H3K4me1/YD_YD9_H3K4me1_hg19_1.0E-6_peaks.bed\n",
      "Peaks: H3K4me3 40\n",
      "/mnt/stripe/bio/experiments/configs/Y20O20_full/peaks/H3K4me3/OD_OD10_H3K4me3_hg19_1.0E-6_peaks.bed\n",
      "/mnt/stripe/bio/experiments/configs/Y20O20_full/peaks/H3K4me3/OD_OD11_H3K4me3_hg19_1.0E-6_peaks.bed\n",
      "/mnt/stripe/bio/experiments/configs/Y20O20_full/peaks/H3K4me3/OD_OD12_H3K4me3_hg19_1.0E-6_peaks.bed\n",
      "/mnt/stripe/bio/experiments/configs/Y20O20_full/peaks/H3K4me3/OD_OD13_H3K4me3_hg19_1.0E-6_peaks.bed\n",
      "/mnt/stripe/bio/experiments/configs/Y20O20_full/peaks/H3K4me3/OD_OD14_H3K4me3_hg19_1.0E-6_peaks.bed\n",
      "/mnt/stripe/bio/experiments/configs/Y20O20_full/peaks/H3K4me3/OD_OD15_H3K4me3_hg19_1.0E-6_peaks.bed\n",
      "/mnt/stripe/bio/experiments/configs/Y20O20_full/peaks/H3K4me3/OD_OD16_H3K4me3_hg19_1.0E-6_peaks.bed\n",
      "/mnt/stripe/bio/experiments/configs/Y20O20_full/peaks/H3K4me3/OD_OD17_H3K4me3_hg19_1.0E-6_peaks.bed\n",
      "/mnt/stripe/bio/experiments/configs/Y20O20_full/peaks/H3K4me3/OD_OD18_H3K4me3_hg19_1.0E-6_peaks.bed\n",
      "/mnt/stripe/bio/experiments/configs/Y20O20_full/peaks/H3K4me3/OD_OD19_H3K4me3_hg19_1.0E-6_peaks.bed\n",
      "/mnt/stripe/bio/experiments/configs/Y20O20_full/peaks/H3K4me3/OD_OD1_H3K4me3_hg19_1.0E-6_peaks.bed\n",
      "/mnt/stripe/bio/experiments/configs/Y20O20_full/peaks/H3K4me3/OD_OD20_H3K4me3_hg19_1.0E-6_peaks.bed\n",
      "/mnt/stripe/bio/experiments/configs/Y20O20_full/peaks/H3K4me3/OD_OD2_H3K4me3_hg19_1.0E-6_peaks.bed\n",
      "/mnt/stripe/bio/experiments/configs/Y20O20_full/peaks/H3K4me3/OD_OD3_H3K4me3_hg19_1.0E-6_peaks.bed\n",
      "/mnt/stripe/bio/experiments/configs/Y20O20_full/peaks/H3K4me3/OD_OD4_H3K4me3_hg19_1.0E-6_peaks.bed\n",
      "/mnt/stripe/bio/experiments/configs/Y20O20_full/peaks/H3K4me3/OD_OD5_H3K4me3_hg19_1.0E-6_peaks.bed\n",
      "/mnt/stripe/bio/experiments/configs/Y20O20_full/peaks/H3K4me3/OD_OD6_H3K4me3_hg19_1.0E-6_peaks.bed\n",
      "/mnt/stripe/bio/experiments/configs/Y20O20_full/peaks/H3K4me3/OD_OD7_H3K4me3_hg19_1.0E-6_peaks.bed\n",
      "/mnt/stripe/bio/experiments/configs/Y20O20_full/peaks/H3K4me3/OD_OD8_H3K4me3_hg19_1.0E-6_peaks.bed\n",
      "/mnt/stripe/bio/experiments/configs/Y20O20_full/peaks/H3K4me3/OD_OD9_H3K4me3_hg19_1.0E-6_peaks.bed\n",
      "/mnt/stripe/bio/experiments/configs/Y20O20_full/peaks/H3K4me3/YD_YD10_H3K4me3_hg19_1.0E-6_peaks.bed\n",
      "/mnt/stripe/bio/experiments/configs/Y20O20_full/peaks/H3K4me3/YD_YD11_H3K4me3_hg19_1.0E-6_peaks.bed\n",
      "/mnt/stripe/bio/experiments/configs/Y20O20_full/peaks/H3K4me3/YD_YD12_H3K4me3_hg19_1.0E-6_peaks.bed\n",
      "/mnt/stripe/bio/experiments/configs/Y20O20_full/peaks/H3K4me3/YD_YD14_H3K4me3_hg19_1.0E-6_peaks.bed\n",
      "/mnt/stripe/bio/experiments/configs/Y20O20_full/peaks/H3K4me3/YD_YD15_H3K4me3_hg19_1.0E-6_peaks.bed\n",
      "/mnt/stripe/bio/experiments/configs/Y20O20_full/peaks/H3K4me3/YD_YD16_H3K4me3_hg19_1.0E-6_peaks.bed\n",
      "/mnt/stripe/bio/experiments/configs/Y20O20_full/peaks/H3K4me3/YD_YD17_H3K4me3_hg19_1.0E-6_peaks.bed\n",
      "/mnt/stripe/bio/experiments/configs/Y20O20_full/peaks/H3K4me3/YD_YD18_H3K4me3_hg19_1.0E-6_peaks.bed\n",
      "/mnt/stripe/bio/experiments/configs/Y20O20_full/peaks/H3K4me3/YD_YD19_H3K4me3_hg19_1.0E-6_peaks.bed\n",
      "/mnt/stripe/bio/experiments/configs/Y20O20_full/peaks/H3K4me3/YD_YD1_H3K4me3_hg19_1.0E-6_peaks.bed\n",
      "/mnt/stripe/bio/experiments/configs/Y20O20_full/peaks/H3K4me3/YD_YD20_H3K4me3_hg19_1.0E-6_peaks.bed\n",
      "/mnt/stripe/bio/experiments/configs/Y20O20_full/peaks/H3K4me3/YD_YD21_H3K4me3_hg19_1.0E-6_peaks.bed\n",
      "/mnt/stripe/bio/experiments/configs/Y20O20_full/peaks/H3K4me3/YD_YD2_H3K4me3_hg19_1.0E-6_peaks.bed\n",
      "/mnt/stripe/bio/experiments/configs/Y20O20_full/peaks/H3K4me3/YD_YD3_H3K4me3_hg19_1.0E-6_peaks.bed\n",
      "/mnt/stripe/bio/experiments/configs/Y20O20_full/peaks/H3K4me3/YD_YD4_H3K4me3_hg19_1.0E-6_peaks.bed\n",
      "/mnt/stripe/bio/experiments/configs/Y20O20_full/peaks/H3K4me3/YD_YD5_H3K4me3_hg19_1.0E-6_peaks.bed\n",
      "/mnt/stripe/bio/experiments/configs/Y20O20_full/peaks/H3K4me3/YD_YD6_H3K4me3_hg19_1.0E-6_peaks.bed\n",
      "/mnt/stripe/bio/experiments/configs/Y20O20_full/peaks/H3K4me3/YD_YD7_H3K4me3_hg19_1.0E-6_peaks.bed\n",
      "/mnt/stripe/bio/experiments/configs/Y20O20_full/peaks/H3K4me3/YD_YD8_H3K4me3_hg19_1.0E-6_peaks.bed\n",
      "/mnt/stripe/bio/experiments/configs/Y20O20_full/peaks/H3K4me3/YD_YD9_H3K4me3_hg19_1.0E-6_peaks.bed\n"
     ]
    }
   ],
   "source": [
    "peaks_info(peaks_dict, \"zinbra\")"
   ]
  },
  {
   "cell_type": "markdown",
   "metadata": {},
   "source": [
    "## Consensus"
   ]
  },
  {
   "cell_type": "code",
   "execution_count": 19,
   "metadata": {
    "ExecuteTime": {
     "end_time": "2017-11-10T20:29:26.977857Z",
     "start_time": "2017-11-10T20:29:26.972307Z"
    }
   },
   "outputs": [
    {
     "data": {
      "text/plain": [
       "[PosixPath('/mnt/stripe/bio/raw-data/aging/loci_of_interest/zinbra_consensus/H3K27ac_zinbra_ODS_weak_consensus.bed'),\n",
       " PosixPath('/mnt/stripe/bio/raw-data/aging/loci_of_interest/zinbra_consensus/H3K27ac_zinbra_YDS_weak_consensus.bed'),\n",
       " PosixPath('/mnt/stripe/bio/raw-data/aging/loci_of_interest/zinbra_consensus/H3K27ac_zinbra_weak_consensus.bed'),\n",
       " PosixPath('/mnt/stripe/bio/raw-data/aging/loci_of_interest/zinbra_consensus/H3K27me3_zinbra_ODS_weak_consensus.bed'),\n",
       " PosixPath('/mnt/stripe/bio/raw-data/aging/loci_of_interest/zinbra_consensus/H3K27me3_zinbra_YDS_weak_consensus.bed'),\n",
       " PosixPath('/mnt/stripe/bio/raw-data/aging/loci_of_interest/zinbra_consensus/H3K27me3_zinbra_weak_consensus.bed'),\n",
       " PosixPath('/mnt/stripe/bio/raw-data/aging/loci_of_interest/zinbra_consensus/H3K36me3_zinbra_ODS_weak_consensus.bed'),\n",
       " PosixPath('/mnt/stripe/bio/raw-data/aging/loci_of_interest/zinbra_consensus/H3K36me3_zinbra_YDS_weak_consensus.bed'),\n",
       " PosixPath('/mnt/stripe/bio/raw-data/aging/loci_of_interest/zinbra_consensus/H3K36me3_zinbra_weak_consensus.bed'),\n",
       " PosixPath('/mnt/stripe/bio/raw-data/aging/loci_of_interest/zinbra_consensus/H3K4me1_zinbra_ODS_weak_consensus.bed'),\n",
       " PosixPath('/mnt/stripe/bio/raw-data/aging/loci_of_interest/zinbra_consensus/H3K4me1_zinbra_YDS_weak_consensus.bed'),\n",
       " PosixPath('/mnt/stripe/bio/raw-data/aging/loci_of_interest/zinbra_consensus/H3K4me1_zinbra_weak_consensus.bed'),\n",
       " PosixPath('/mnt/stripe/bio/raw-data/aging/loci_of_interest/zinbra_consensus/H3K4me3_zinbra_ODS_weak_consensus.bed'),\n",
       " PosixPath('/mnt/stripe/bio/raw-data/aging/loci_of_interest/zinbra_consensus/H3K4me3_zinbra_YDS_weak_consensus.bed'),\n",
       " PosixPath('/mnt/stripe/bio/raw-data/aging/loci_of_interest/zinbra_consensus/H3K4me3_zinbra_weak_consensus.bed')]"
      ]
     },
     "execution_count": 19,
     "metadata": {},
     "output_type": "execute_result"
    }
   ],
   "source": [
    "loi_dict[\"zinbra_consensus\"]"
   ]
  },
  {
   "cell_type": "code",
   "execution_count": 20,
   "metadata": {
    "ExecuteTime": {
     "end_time": "2017-11-10T20:29:28.192515Z",
     "start_time": "2017-11-10T20:29:28.187655Z"
    }
   },
   "outputs": [
    {
     "data": {
      "text/plain": [
       "[PosixPath('/mnt/stripe/bio/raw-data/aging/loci_of_interest/golden_consensus/H3K27ac_golden_ODS_weak_consensus.bed'),\n",
       " PosixPath('/mnt/stripe/bio/raw-data/aging/loci_of_interest/golden_consensus/H3K27ac_golden_YDS_weak_consensus.bed'),\n",
       " PosixPath('/mnt/stripe/bio/raw-data/aging/loci_of_interest/golden_consensus/H3K27ac_golden_weak_consensus.bed'),\n",
       " PosixPath('/mnt/stripe/bio/raw-data/aging/loci_of_interest/golden_consensus/H3K27me3_golden_ODS_weak_consensus.bed'),\n",
       " PosixPath('/mnt/stripe/bio/raw-data/aging/loci_of_interest/golden_consensus/H3K27me3_golden_YDS_weak_consensus.bed'),\n",
       " PosixPath('/mnt/stripe/bio/raw-data/aging/loci_of_interest/golden_consensus/H3K27me3_golden_weak_consensus.bed'),\n",
       " PosixPath('/mnt/stripe/bio/raw-data/aging/loci_of_interest/golden_consensus/H3K36me3_golden_ODS_weak_consensus.bed'),\n",
       " PosixPath('/mnt/stripe/bio/raw-data/aging/loci_of_interest/golden_consensus/H3K36me3_golden_YDS_weak_consensus.bed'),\n",
       " PosixPath('/mnt/stripe/bio/raw-data/aging/loci_of_interest/golden_consensus/H3K36me3_golden_weak_consensus.bed'),\n",
       " PosixPath('/mnt/stripe/bio/raw-data/aging/loci_of_interest/golden_consensus/H3K4me1_golden_ODS_weak_consensus.bed'),\n",
       " PosixPath('/mnt/stripe/bio/raw-data/aging/loci_of_interest/golden_consensus/H3K4me1_golden_YDS_weak_consensus.bed'),\n",
       " PosixPath('/mnt/stripe/bio/raw-data/aging/loci_of_interest/golden_consensus/H3K4me1_golden_weak_consensus.bed'),\n",
       " PosixPath('/mnt/stripe/bio/raw-data/aging/loci_of_interest/golden_consensus/H3K4me3_golden_ODS_weak_consensus.bed'),\n",
       " PosixPath('/mnt/stripe/bio/raw-data/aging/loci_of_interest/golden_consensus/H3K4me3_golden_YDS_weak_consensus.bed'),\n",
       " PosixPath('/mnt/stripe/bio/raw-data/aging/loci_of_interest/golden_consensus/H3K4me3_golden_weak_consensus.bed')]"
      ]
     },
     "execution_count": 20,
     "metadata": {},
     "output_type": "execute_result"
    }
   ],
   "source": [
    "loi_dict[\"golden_consensus\"]"
   ]
  },
  {
   "cell_type": "markdown",
   "metadata": {},
   "source": [
    "# Code"
   ]
  },
  {
   "cell_type": "code",
   "execution_count": 21,
   "metadata": {
    "ExecuteTime": {
     "end_time": "2017-11-10T20:29:29.492014Z",
     "start_time": "2017-11-10T20:29:29.369487Z"
    }
   },
   "outputs": [
    {
     "name": "stdout",
     "output_type": "stream",
     "text": [
      "/Users/romeo/anaconda/envs/aging3/bin/bedtools\r\n"
     ]
    }
   ],
   "source": [
    "!which bedtools"
   ]
  },
  {
   "cell_type": "code",
   "execution_count": 34,
   "metadata": {
    "ExecuteTime": {
     "end_time": "2017-10-26T16:04:20.140740Z",
     "start_time": "2017-10-26T16:04:19.999470Z"
    },
    "code_folding": [
     0,
     5
    ],
    "collapsed": true
   },
   "outputs": [],
   "source": [
    "def process_intersection(beds, loci, path_to_bt, results_dir, tag,\n",
    "                         figsize=(10,10), col_cluster=False, row_cluster=True,\n",
    "                         all_metrics=0,\n",
    "                         **kw):\n",
    "    \n",
    "    def load_intersection_table(beds, loci, path_to_bt, result_path, **kw):\n",
    "        if result_path.exists():\n",
    "            df = pd.DataFrame.from_csv(result_path)\n",
    "            print(\"Loaded: \", result_path)\n",
    "        else:\n",
    "            print(\"Calculating: \", result_path)\n",
    "            df = bm.bed_metric_table(beds, loci, **kw)\n",
    "            result_path.parent.mkdir(parents=True, exist_ok=True)\n",
    "            df.to_csv(str(result_path))\n",
    "            print(\"  Saved: \", result_path)\n",
    "\n",
    "        return df\n",
    "\n",
    "\n",
    "    dfs_n = []\n",
    "    df_bl = load_intersection_table(beds, loci, path_to_bt, \n",
    "                                    results_dir / \"{}_bl.csv\".format(tag), threads=THREADS_N)\n",
    "    display(df_bl.head(3))\n",
    "    dfs_n.append(df_bl)\n",
    "\n",
    "    if all_metrics > 0:\n",
    "        df_lb = load_intersection_table(loci, beds, path_to_bt,\n",
    "                                        results_dir / \"{}_lb.csv\".format(tag), threads=THREADS_N)\n",
    "        display(df_lb.head(3))\n",
    "        dfs_n.append(df_lb)\n",
    "\n",
    "    if all_metrics > 1:\n",
    "        df_mq = np.sqrt(df_bl*df_lb.T)\n",
    "        dfs_n.append(df_mq)\n",
    "        \n",
    "    if all_metrics > 2:\n",
    "        df_jaccard = load_intersection_table(beds, loci, path_to_bt, \n",
    "                                             results_dir / \"{}_js.csv\".format(tag), threads=THREADS_N,\n",
    "                                             jaccard = True)\n",
    "        display(df_jaccard.head(3))\n",
    "        dfs_n.append(df_jaccard)\n",
    "    \n",
    "    def inner_chromhmm_or_donor(name):\n",
    "        if \"row_donors\" in kw:\n",
    "            chunks = name.split('_')\n",
    "            cands = list(filter(\n",
    "                lambda s: len(s) > 2 and (s.startswith(\"OD\") or s.startswith(\"YD\")) and s[2] != \"S\",\n",
    "                chunks))\n",
    "            \n",
    "            if len(cands) > 0:\n",
    "                return cands[0]\n",
    "            \n",
    "        return chromhmm_state_descr(name)\n",
    "    \n",
    "    # row_color_fun=bm.heatmap_donor_color_fun(),\n",
    "    bm.plot_metric_heatmap(\n",
    "        \"Metrics: # intervals from row file intersecting any interval from column file\",\n",
    "        df_bl, figsize=figsize,\n",
    "        col_label_fun=inner_chromhmm_or_donor, row_label_fun=inner_chromhmm_or_donor,\n",
    "        col_cluster=col_cluster, row_cluster=row_cluster, **kw\n",
    "    )\n",
    "\n",
    "    if all_metrics > 0:\n",
    "        bm.plot_metric_heatmap(\n",
    "            \"Metrics: # intervals from col file intersecting any interval from row file\",\n",
    "            df_lb, figsize=figsize,\n",
    "            col_label_fun=inner_chromhmm_or_donor, row_label_fun=inner_chromhmm_or_donor,\n",
    "            col_cluster=col_cluster, row_cluster=row_cluster, **kw\n",
    "        )\n",
    "\n",
    "    \n",
    "    if all_metrics > 1:\n",
    "        bm.plot_metric_heatmap(\n",
    "           \"Metrics: Geometric mean for intersectiong intervals\",\n",
    "            df_mq, figsize=figsize,\n",
    "            col_label_fun=inner_chromhmm_or_donor, row_label_fun=inner_chromhmm_or_donor,\n",
    "            col_cluster=col_cluster, row_cluster=row_cluster, **kw\n",
    "        )\n",
    "\n",
    "    if all_metrics > 2:\n",
    "        bm.plot_metric_heatmap(\n",
    "           \"Metrics: Jaccard\", df_jaccard, figsize=figsize,\n",
    "            vmin=None, vmax=None,\n",
    "            col_label_fun=inner_chromhmm_or_donor, row_label_fun=inner_chromhmm_or_donor,\n",
    "            col_cluster=col_cluster, row_cluster=row_cluster, **kw\n",
    "        )\n",
    "    return dfs_n\n"
   ]
  },
  {
   "cell_type": "code",
   "execution_count": 27,
   "metadata": {
    "ExecuteTime": {
     "end_time": "2017-10-26T10:17:40.007853Z",
     "start_time": "2017-10-26T10:17:39.935594Z"
    },
    "code_folding": [
     0
    ],
    "collapsed": true
   },
   "outputs": [],
   "source": [
    "def check_interests_loci_folder(folder_name,):\n",
    "    paths = sorted([p for p in (loci_root / folder_name).glob('**/*.bed')])\n",
    "    suffix = folder_name\n",
    "    print(\"Paths: #\", len(paths))\n",
    "\n",
    "    # ChromHMM\n",
    "    print(\"Ensure files sorted...\")\n",
    "    mapping = {p:as_sorted(p, loci_root, sorted_root / \"loci_of_interest\") for p in paths}\n",
    "    mapping.update({p:as_sorted(p, loci_root, sorted_root / \"loci_of_interest\") for p in chromhmm_paths})\n",
    "    print(\"[Done]\")\n",
    "    process_intersection(paths, chromhmm_paths, mapping, results_dir, \"{}_chromhmm\".format(suffix), figsize=(8,8),\n",
    "                         all_metrics=1)\n",
    "    \n",
    "    # Consensus: Y+O\n",
    "    consensus_paths = sorted(\n",
    "        [p for p in (zinbra_conensus_paths + golden_conensus_paths) if \"DS\" not in p.name],\n",
    "        key=lambda p: p.name\n",
    "    )\n",
    "    print(\"Ensure files sorted...\")\n",
    "    mapping = {p:as_sorted(p, loci_root, sorted_root / \"loci_of_interest\") for p in paths}\n",
    "    mapping.update({p:as_sorted(p, loci_root, sorted_root / \"loci_of_interest\") for p in consensus_paths})\n",
    "    print(\"[Done]\")\n",
    "    process_intersection(paths, consensus_paths, mapping, results_dir, \"{}_consensus_short\".format(suffix),\n",
    "                         figsize=(8,8), row_cluster=True, col_cluster=False,\n",
    "                         all_metrics=1)\n",
    "\n",
    "    # Consensus: Y,O\n",
    "    consensus_paths = sorted(\n",
    "        [p for p in (zinbra_conensus_paths + golden_conensus_paths) if \"DS\" in p.name], #ODS, YDS\n",
    "        key=lambda p: p.name\n",
    "    )\n",
    "    print(\"Ensure files sorted...\")\n",
    "    mapping = {p:as_sorted(p, loci_root, sorted_root / \"loci_of_interest\") for p in paths}\n",
    "    mapping.update({p:as_sorted(p, loci_root, sorted_root / \"loci_of_interest\") for p in consensus_paths})\n",
    "    print(\"[Done]\")\n",
    "    process_intersection(paths, consensus_paths, mapping, results_dir, \"{}_consensus\".format(suffix),\n",
    "                         figsize=(12,8), row_cluster=True, col_cluster=False)\n",
    "\n",
    "    # Loci\n",
    "    print(\"Ensure files sorted...\")\n",
    "    mapping = {p:as_sorted(p, loci_root, sorted_root / \"loci_of_interest\") for p in paths}\n",
    "    mapping.update({p:as_sorted(p, loci_root, sorted_root / \"loci_of_interest\") for p in loci_paths})\n",
    "    print(\"[Done]\")\n",
    "    process_intersection(paths, loci_paths, mapping, results_dir, \"{}_loci\".format(suffix), figsize=(20,8),\n",
    "                         all_metrics=1)"
   ]
  },
  {
   "cell_type": "markdown",
   "metadata": {},
   "source": [
    "# TMP"
   ]
  },
  {
   "cell_type": "code",
   "execution_count": 22,
   "metadata": {
    "ExecuteTime": {
     "end_time": "2017-11-10T20:29:30.831212Z",
     "start_time": "2017-11-10T20:29:30.697149Z"
    }
   },
   "outputs": [],
   "source": [
    "!rm {results_dir}/tmp0_loci*"
   ]
  },
  {
   "cell_type": "code",
   "execution_count": 23,
   "metadata": {
    "ExecuteTime": {
     "end_time": "2017-11-10T20:29:32.083498Z",
     "start_time": "2017-11-10T20:29:32.076940Z"
    }
   },
   "outputs": [
    {
     "data": {
      "text/plain": [
       "[PosixPath('/mnt/stripe/bio/raw-data/aging/loci_of_interest/enhancers/CTCF.bed'),\n",
       " PosixPath('/mnt/stripe/bio/raw-data/aging/loci_of_interest/golden_consensus/H3K27ac_golden_ODS_weak_consensus.bed'),\n",
       " PosixPath('/mnt/stripe/bio/raw-data/aging/loci_of_interest/golden_consensus/H3K27ac_golden_YDS_weak_consensus.bed'),\n",
       " PosixPath('/mnt/stripe/bio/raw-data/aging/loci_of_interest/golden_consensus/H3K27ac_golden_weak_consensus.bed'),\n",
       " PosixPath('/mnt/stripe/bio/raw-data/aging/loci_of_interest/zinbra_consensus/H3K27ac_zinbra_ODS_weak_consensus.bed'),\n",
       " PosixPath('/mnt/stripe/bio/raw-data/aging/loci_of_interest/zinbra_consensus/H3K27ac_zinbra_YDS_weak_consensus.bed')]"
      ]
     },
     "execution_count": 23,
     "metadata": {},
     "output_type": "execute_result"
    }
   ],
   "source": [
    "tmp_loci_paths = loi_dict[\"default\"][0:6]\n",
    "tmp_loci_paths"
   ]
  },
  {
   "cell_type": "code",
   "execution_count": 24,
   "metadata": {
    "ExecuteTime": {
     "end_time": "2017-11-10T20:29:41.004194Z",
     "start_time": "2017-11-10T20:29:35.937858Z"
    },
    "scrolled": true
   },
   "outputs": [
    {
     "name": "stdout",
     "output_type": "stream",
     "text": [
      "Metrics results saved to: /mnt/stripe/bio/experiments/aging/loci_of_interest.tables/tmp0_loci.csv\n"
     ]
    },
    {
     "name": "stderr",
     "output_type": "stream",
     "text": [
      "/Users/romeo/anaconda/envs/aging3/lib/python3.6/site-packages/matplotlib/cbook.py:136: MatplotlibDeprecationWarning: The axisbg attribute was deprecated in version 2.0. Use facecolor instead.\n",
      "  warnings.warn(message, mplDeprecation, stacklevel=1)\n"
     ]
    },
    {
     "data": {
      "image/png": "[encoded data removed]",
      "text/plain": [
       "<matplotlib.figure.Figure at 0x112cfa400>"
      ]
     },
     "metadata": {},
     "output_type": "display_data"
    }
   ],
   "source": [
    "bm.process_intersection_metric(tmp_loci_paths, tmp_loci_paths, results_dir / \"tmp0_loci.csv\", \n",
    "                               figsize=(5,5), threads=THREADS_N)"
   ]
  },
  {
   "cell_type": "markdown",
   "metadata": {},
   "source": [
    "# Chose Metrics"
   ]
  },
  {
   "cell_type": "code",
   "execution_count": 28,
   "metadata": {
    "ExecuteTime": {
     "end_time": "2017-11-13T11:48:12.317424Z",
     "start_time": "2017-11-13T11:48:12.309679Z"
    }
   },
   "outputs": [
    {
     "data": {
      "text/plain": [
       "34"
      ]
     },
     "execution_count": 28,
     "metadata": {},
     "output_type": "execute_result"
    }
   ],
   "source": [
    "paths = [loci_root / fname for fname in (\n",
    "    \"ucsc_cpgIslandExt.hg19.bed\", \n",
    "    \"ucne_conserved_coord.hg19.bed\", \n",
    "    \"washu_german_rrbs_filtered_dmrs_all_10.hg19.bed\", \n",
    "    \"cpg_islands_clock_hg19.bed\",\n",
    "    \"cpg_clock_1000_hg19.bed\"\n",
    ")]\n",
    "paths.extend(loi_dict[\"regulatory\"])\n",
    "paths.extend(loi_dict[\"golden_median_consensus\"])\n",
    "len(paths)"
   ]
  },
  {
   "cell_type": "code",
   "execution_count": null,
   "metadata": {
    "collapsed": true
   },
   "outputs": [],
   "source": [
    "bm.process_intersection_metric(paths, paths, results_dir / \"demoloci.csv\", figsize=(5,5), threads=THREADS_N)"
   ]
  },
  {
   "cell_type": "code",
   "execution_count": null,
   "metadata": {
    "collapsed": true
   },
   "outputs": [],
   "source": [
    "bm.process_intersection_metric(paths, paths, results_dir / \"demoloci_jc.csv\", jaccard=True, \n",
    "                               figsize=(5,5), threads=THREADS_N)"
   ]
  },
  {
   "cell_type": "code",
   "execution_count": 31,
   "metadata": {
    "ExecuteTime": {
     "end_time": "2017-11-13T12:05:40.530130Z",
     "start_time": "2017-11-13T12:05:40.526778Z"
    },
    "collapsed": true
   },
   "outputs": [],
   "source": [
    "#TODO #TODO #TODO #TODO #TODO #TODO #TODO #TODO #TODO #TODO #TODO #TODO "
   ]
  },
  {
   "cell_type": "code",
   "execution_count": null,
   "metadata": {
    "collapsed": true
   },
   "outputs": [],
   "source": [
    "paths = [loci_root / fname for fname in (\n",
    "    \"ucsc_cpgIslandExt.hg19.bed\", \"ucne_conserved_coord.hg19.bed\", \n",
    "    \"washu_german_rrbs_filtered_dmrs_all_10.hg19.bed\", \n",
    "    \"cpg_islands_clock_hg19.bed\", \"cpg_clock_1000_hg19.bed\"\n",
    ")]\n",
    "paths.extend(p for p in (loci_root / \"regulatory\").glob(\"*.bed\"))\n",
    "paths.extend(p for p in (loci_root / \"golden_consensus\").glob(\"*.bed\") if \"DS\" not in p.name)\n",
    "paths = sorted(paths, key=lambda p: p.name)\n",
    "print(\"Ensure files sorted...\")\n",
    "mapping = {p:as_sorted(p, loci_root, sorted_root / \"loci_of_interest\") for p in paths}\n",
    "print(\"[Done]\")\n",
    "\n",
    "process_intersection(paths, paths, mapping, results_dir, \"demoloci\", figsize=(10,10),\n",
    "                     col_cluster=False, row_cluster=False, all_metrics=4)\n",
    "None"
   ]
  },
  {
   "cell_type": "code",
   "execution_count": null,
   "metadata": {
    "collapsed": true
   },
   "outputs": [],
   "source": [
    "print(\"Ensure files sorted...\")\n",
    "mapping = {p:as_sorted(p, loci_root, sorted_root / \"loci_of_interest\") for p in loci_paths}\n",
    "print(\"[Done]\")\n",
    "\n",
    "process_intersection(loci_paths, loci_paths, mapping, results_dir, \"loci\", figsize=(15,15),\n",
    "                     col_cluster=True,\n",
    "                     all_metrics=4)\n",
    "None"
   ]
  },
  {
   "cell_type": "markdown",
   "metadata": {},
   "source": [
    "## Demo loci vs Loci\n"
   ]
  },
  {
   "cell_type": "code",
   "execution_count": 38,
   "metadata": {
    "ExecuteTime": {
     "end_time": "2017-10-26T10:10:36.618719Z",
     "start_time": "2017-10-26T10:09:57.050265Z"
    }
   },
   "outputs": [
    {
     "name": "stdout",
     "output_type": "stream",
     "text": [
      "Ensure files sorted...\n",
      "[Done]\n",
      "Calculating:  /Volumes/BigData/bio/experiments/aging/loci_of_interest.tables/demoloci_bl.csv\n"
     ]
    },
    {
     "name": "stderr",
     "output_type": "stream",
     "text": [
      "Process ForkPoolWorker-22:\n",
      "Process ForkPoolWorker-20:\n",
      "Process ForkPoolWorker-21:\n",
      "Process ForkPoolWorker-19:\n",
      "Process ForkPoolWorker-18:\n",
      "Process ForkPoolWorker-17:\n",
      "Process ForkPoolWorker-23:\n",
      "Process ForkPoolWorker-24:\n",
      "Traceback (most recent call last):\n",
      "Traceback (most recent call last):\n",
      "Traceback (most recent call last):\n",
      "Traceback (most recent call last):\n",
      "Traceback (most recent call last):\n",
      "Traceback (most recent call last):\n",
      "Traceback (most recent call last):\n",
      "Traceback (most recent call last):\n",
      "  File \"/Users/romeo/anaconda/envs/aging3/lib/python3.6/multiprocessing/process.py\", line 249, in _bootstrap\n",
      "    self.run()\n",
      "  File \"/Users/romeo/anaconda/envs/aging3/lib/python3.6/multiprocessing/process.py\", line 249, in _bootstrap\n",
      "    self.run()\n",
      "  File \"/Users/romeo/anaconda/envs/aging3/lib/python3.6/multiprocessing/process.py\", line 249, in _bootstrap\n",
      "    self.run()\n",
      "  File \"/Users/romeo/anaconda/envs/aging3/lib/python3.6/multiprocessing/process.py\", line 249, in _bootstrap\n",
      "    self.run()\n",
      "  File \"/Users/romeo/anaconda/envs/aging3/lib/python3.6/multiprocessing/process.py\", line 249, in _bootstrap\n",
      "    self.run()\n",
      "  File \"/Users/romeo/anaconda/envs/aging3/lib/python3.6/multiprocessing/process.py\", line 249, in _bootstrap\n",
      "    self.run()\n",
      "  File \"/Users/romeo/anaconda/envs/aging3/lib/python3.6/multiprocessing/process.py\", line 93, in run\n",
      "    self._target(*self._args, **self._kwargs)\n",
      "  File \"/Users/romeo/anaconda/envs/aging3/lib/python3.6/multiprocessing/process.py\", line 249, in _bootstrap\n",
      "    self.run()\n",
      "  File \"/Users/romeo/anaconda/envs/aging3/lib/python3.6/multiprocessing/process.py\", line 93, in run\n",
      "    self._target(*self._args, **self._kwargs)\n"
     ]
    },
    {
     "ename": "KeyboardInterrupt",
     "evalue": "",
     "output_type": "error",
     "traceback": [
      "\u001b[0;31m---------------------------------------------------------------------------\u001b[0m",
      "\u001b[0;31mKeyboardInterrupt\u001b[0m                         Traceback (most recent call last)",
      "\u001b[0;32m<ipython-input-38-0ddb3df1c82c>\u001b[0m in \u001b[0;36m<module>\u001b[0;34m()\u001b[0m\n\u001b[1;32m     13\u001b[0m \u001b[0;34m\u001b[0m\u001b[0m\n\u001b[1;32m     14\u001b[0m process_intersection(paths, paths, mapping, results_dir, \"demoloci\", figsize=(10,10),\n\u001b[0;32m---> 15\u001b[0;31m                      col_cluster=False, row_cluster=False, all_metrics=0)\n\u001b[0m\u001b[1;32m     16\u001b[0m \u001b[0;32mNone\u001b[0m\u001b[0;34m\u001b[0m\u001b[0m\n",
      "\u001b[0;32m<ipython-input-27-8577bc2cd314>\u001b[0m in \u001b[0;36mprocess_intersection\u001b[0;34m(beds, loci, path_to_bt, results_dir, tag, figsize, col_cluster, row_cluster, all_metrics, **kw)\u001b[0m\n\u001b[1;32m      5\u001b[0m     \u001b[0mdfs_n\u001b[0m \u001b[0;34m=\u001b[0m \u001b[0;34m[\u001b[0m\u001b[0;34m]\u001b[0m\u001b[0;34m\u001b[0m\u001b[0m\n\u001b[1;32m      6\u001b[0m     df_bl = load_intersection_table(beds, loci, path_to_bt, \n\u001b[0;32m----> 7\u001b[0;31m                                     results_dir / \"{}_bl.csv\".format(tag), threads=THREADS_N)\n\u001b[0m\u001b[1;32m      8\u001b[0m     \u001b[0mdisplay\u001b[0m\u001b[0;34m(\u001b[0m\u001b[0mdf_bl\u001b[0m\u001b[0;34m.\u001b[0m\u001b[0mhead\u001b[0m\u001b[0;34m(\u001b[0m\u001b[0;36m3\u001b[0m\u001b[0;34m)\u001b[0m\u001b[0;34m)\u001b[0m\u001b[0;34m\u001b[0m\u001b[0m\n\u001b[1;32m      9\u001b[0m \u001b[0;34m\u001b[0m\u001b[0m\n",
      "\u001b[0;32m<ipython-input-25-88cca1a7e3e5>\u001b[0m in \u001b[0;36mload_intersection_table\u001b[0;34m(beds, loci, path_to_bt, result_path, threads, jaccard)\u001b[0m\n\u001b[1;32m      6\u001b[0m         \u001b[0mprint\u001b[0m\u001b[0;34m(\u001b[0m\u001b[0;34m\"Calculating: \"\u001b[0m\u001b[0;34m,\u001b[0m \u001b[0mresult_path\u001b[0m\u001b[0;34m)\u001b[0m\u001b[0;34m\u001b[0m\u001b[0m\n\u001b[1;32m      7\u001b[0m         \u001b[0;31m#df = calc_intersection_table(beds, loci, path_to_bt, threads=threads, jaccard=jaccard)\u001b[0m\u001b[0;34m\u001b[0m\u001b[0;34m\u001b[0m\u001b[0m\n\u001b[0;32m----> 8\u001b[0;31m         \u001b[0mdf\u001b[0m \u001b[0;34m=\u001b[0m \u001b[0mintersections_table\u001b[0m\u001b[0;34m(\u001b[0m\u001b[0mbeds\u001b[0m\u001b[0;34m,\u001b[0m \u001b[0mloci\u001b[0m\u001b[0;34m,\u001b[0m \u001b[0mthreads\u001b[0m\u001b[0;34m=\u001b[0m\u001b[0mthreads\u001b[0m\u001b[0;34m,\u001b[0m \u001b[0mjaccard\u001b[0m\u001b[0;34m=\u001b[0m\u001b[0mjaccard\u001b[0m\u001b[0;34m)\u001b[0m\u001b[0;34m\u001b[0m\u001b[0m\n\u001b[0m\u001b[1;32m      9\u001b[0m         \u001b[0mresult_path\u001b[0m\u001b[0;34m.\u001b[0m\u001b[0mparent\u001b[0m\u001b[0;34m.\u001b[0m\u001b[0mmkdir\u001b[0m\u001b[0;34m(\u001b[0m\u001b[0mparents\u001b[0m\u001b[0;34m=\u001b[0m\u001b[0;32mTrue\u001b[0m\u001b[0;34m,\u001b[0m \u001b[0mexist_ok\u001b[0m\u001b[0;34m=\u001b[0m\u001b[0;32mTrue\u001b[0m\u001b[0;34m)\u001b[0m\u001b[0;34m\u001b[0m\u001b[0m\n\u001b[1;32m     10\u001b[0m         \u001b[0mdf\u001b[0m\u001b[0;34m.\u001b[0m\u001b[0mto_csv\u001b[0m\u001b[0;34m(\u001b[0m\u001b[0mstr\u001b[0m\u001b[0;34m(\u001b[0m\u001b[0mresult_path\u001b[0m\u001b[0;34m)\u001b[0m\u001b[0;34m)\u001b[0m\u001b[0;34m\u001b[0m\u001b[0m\n",
      "\u001b[0;32m/Users/romeo/work/washu/reports/bed_metrics.py\u001b[0m in \u001b[0;36mintersections_table\u001b[0;34m(a_paths, b_paths, jaccard, threads, timeout_hours)\u001b[0m\n\u001b[1;32m     59\u001b[0m                         path_pairs]\n\u001b[1;32m     60\u001b[0m     values = [res.get(timeout=3600 * timeout_hours) for res in\n\u001b[0;32m---> 61\u001b[0;31m               multiple_results]\n\u001b[0m\u001b[1;32m     62\u001b[0m \u001b[0;34m\u001b[0m\u001b[0m\n\u001b[1;32m     63\u001b[0m     \u001b[0mx\u001b[0m \u001b[0;34m=\u001b[0m \u001b[0mnp\u001b[0m\u001b[0;34m.\u001b[0m\u001b[0mzeros\u001b[0m\u001b[0;34m(\u001b[0m\u001b[0;34m(\u001b[0m\u001b[0mlen\u001b[0m\u001b[0;34m(\u001b[0m\u001b[0ma_paths\u001b[0m\u001b[0;34m)\u001b[0m\u001b[0;34m,\u001b[0m \u001b[0mlen\u001b[0m\u001b[0;34m(\u001b[0m\u001b[0mb_paths\u001b[0m\u001b[0;34m)\u001b[0m\u001b[0;34m)\u001b[0m\u001b[0;34m,\u001b[0m \u001b[0mnp\u001b[0m\u001b[0;34m.\u001b[0m\u001b[0mfloat32\u001b[0m\u001b[0;34m)\u001b[0m\u001b[0;34m\u001b[0m\u001b[0m\n",
      "\u001b[0;32m/Users/romeo/work/washu/reports/bed_metrics.py\u001b[0m in \u001b[0;36m<listcomp>\u001b[0;34m(.0)\u001b[0m\n\u001b[1;32m     58\u001b[0m                                          (a, b, ij)) for a, b, ij in\n\u001b[1;32m     59\u001b[0m                         path_pairs]\n\u001b[0;32m---> 60\u001b[0;31m     values = [res.get(timeout=3600 * timeout_hours) for res in\n\u001b[0m\u001b[1;32m     61\u001b[0m               multiple_results]\n\u001b[1;32m     62\u001b[0m \u001b[0;34m\u001b[0m\u001b[0m\n",
      "\u001b[0;32m/Users/romeo/anaconda/envs/aging3/lib/python3.6/multiprocessing/pool.py\u001b[0m in \u001b[0;36mget\u001b[0;34m(self, timeout)\u001b[0m\n\u001b[1;32m    600\u001b[0m \u001b[0;34m\u001b[0m\u001b[0m\n\u001b[1;32m    601\u001b[0m     \u001b[0;32mdef\u001b[0m \u001b[0mget\u001b[0m\u001b[0;34m(\u001b[0m\u001b[0mself\u001b[0m\u001b[0;34m,\u001b[0m \u001b[0mtimeout\u001b[0m\u001b[0;34m=\u001b[0m\u001b[0;32mNone\u001b[0m\u001b[0;34m)\u001b[0m\u001b[0;34m:\u001b[0m\u001b[0;34m\u001b[0m\u001b[0m\n\u001b[0;32m--> 602\u001b[0;31m         \u001b[0mself\u001b[0m\u001b[0;34m.\u001b[0m\u001b[0mwait\u001b[0m\u001b[0;34m(\u001b[0m\u001b[0mtimeout\u001b[0m\u001b[0;34m)\u001b[0m\u001b[0;34m\u001b[0m\u001b[0m\n\u001b[0m\u001b[1;32m    603\u001b[0m         \u001b[0;32mif\u001b[0m \u001b[0;32mnot\u001b[0m \u001b[0mself\u001b[0m\u001b[0;34m.\u001b[0m\u001b[0mready\u001b[0m\u001b[0;34m(\u001b[0m\u001b[0;34m)\u001b[0m\u001b[0;34m:\u001b[0m\u001b[0;34m\u001b[0m\u001b[0m\n\u001b[1;32m    604\u001b[0m             \u001b[0;32mraise\u001b[0m \u001b[0mTimeoutError\u001b[0m\u001b[0;34m\u001b[0m\u001b[0m\n",
      "\u001b[0;32m/Users/romeo/anaconda/envs/aging3/lib/python3.6/multiprocessing/pool.py\u001b[0m in \u001b[0;36mwait\u001b[0;34m(self, timeout)\u001b[0m\n\u001b[1;32m    597\u001b[0m \u001b[0;34m\u001b[0m\u001b[0m\n\u001b[1;32m    598\u001b[0m     \u001b[0;32mdef\u001b[0m \u001b[0mwait\u001b[0m\u001b[0;34m(\u001b[0m\u001b[0mself\u001b[0m\u001b[0;34m,\u001b[0m \u001b[0mtimeout\u001b[0m\u001b[0;34m=\u001b[0m\u001b[0;32mNone\u001b[0m\u001b[0;34m)\u001b[0m\u001b[0;34m:\u001b[0m\u001b[0;34m\u001b[0m\u001b[0m\n\u001b[0;32m--> 599\u001b[0;31m         \u001b[0mself\u001b[0m\u001b[0;34m.\u001b[0m\u001b[0m_event\u001b[0m\u001b[0;34m.\u001b[0m\u001b[0mwait\u001b[0m\u001b[0;34m(\u001b[0m\u001b[0mtimeout\u001b[0m\u001b[0;34m)\u001b[0m\u001b[0;34m\u001b[0m\u001b[0m\n\u001b[0m\u001b[1;32m    600\u001b[0m \u001b[0;34m\u001b[0m\u001b[0m\n\u001b[1;32m    601\u001b[0m     \u001b[0;32mdef\u001b[0m \u001b[0mget\u001b[0m\u001b[0;34m(\u001b[0m\u001b[0mself\u001b[0m\u001b[0;34m,\u001b[0m \u001b[0mtimeout\u001b[0m\u001b[0;34m=\u001b[0m\u001b[0;32mNone\u001b[0m\u001b[0;34m)\u001b[0m\u001b[0;34m:\u001b[0m\u001b[0;34m\u001b[0m\u001b[0m\n",
      "\u001b[0;32m/Users/romeo/anaconda/envs/aging3/lib/python3.6/threading.py\u001b[0m in \u001b[0;36mwait\u001b[0;34m(self, timeout)\u001b[0m\n\u001b[1;32m    549\u001b[0m             \u001b[0msignaled\u001b[0m \u001b[0;34m=\u001b[0m \u001b[0mself\u001b[0m\u001b[0;34m.\u001b[0m\u001b[0m_flag\u001b[0m\u001b[0;34m\u001b[0m\u001b[0m\n\u001b[1;32m    550\u001b[0m             \u001b[0;32mif\u001b[0m \u001b[0;32mnot\u001b[0m \u001b[0msignaled\u001b[0m\u001b[0;34m:\u001b[0m\u001b[0;34m\u001b[0m\u001b[0m\n\u001b[0;32m--> 551\u001b[0;31m                 \u001b[0msignaled\u001b[0m \u001b[0;34m=\u001b[0m \u001b[0mself\u001b[0m\u001b[0;34m.\u001b[0m\u001b[0m_cond\u001b[0m\u001b[0;34m.\u001b[0m\u001b[0mwait\u001b[0m\u001b[0;34m(\u001b[0m\u001b[0mtimeout\u001b[0m\u001b[0;34m)\u001b[0m\u001b[0;34m\u001b[0m\u001b[0m\n\u001b[0m\u001b[1;32m    552\u001b[0m             \u001b[0;32mreturn\u001b[0m \u001b[0msignaled\u001b[0m\u001b[0;34m\u001b[0m\u001b[0m\n\u001b[1;32m    553\u001b[0m \u001b[0;34m\u001b[0m\u001b[0m\n",
      "\u001b[0;32m/Users/romeo/anaconda/envs/aging3/lib/python3.6/threading.py\u001b[0m in \u001b[0;36mwait\u001b[0;34m(self, timeout)\u001b[0m\n\u001b[1;32m    297\u001b[0m             \u001b[0;32melse\u001b[0m\u001b[0;34m:\u001b[0m\u001b[0;34m\u001b[0m\u001b[0m\n\u001b[1;32m    298\u001b[0m                 \u001b[0;32mif\u001b[0m \u001b[0mtimeout\u001b[0m \u001b[0;34m>\u001b[0m \u001b[0;36m0\u001b[0m\u001b[0;34m:\u001b[0m\u001b[0;34m\u001b[0m\u001b[0m\n\u001b[0;32m--> 299\u001b[0;31m                     \u001b[0mgotit\u001b[0m \u001b[0;34m=\u001b[0m \u001b[0mwaiter\u001b[0m\u001b[0;34m.\u001b[0m\u001b[0macquire\u001b[0m\u001b[0;34m(\u001b[0m\u001b[0;32mTrue\u001b[0m\u001b[0;34m,\u001b[0m \u001b[0mtimeout\u001b[0m\u001b[0;34m)\u001b[0m\u001b[0;34m\u001b[0m\u001b[0m\n\u001b[0m\u001b[1;32m    300\u001b[0m                 \u001b[0;32melse\u001b[0m\u001b[0;34m:\u001b[0m\u001b[0;34m\u001b[0m\u001b[0m\n\u001b[1;32m    301\u001b[0m                     \u001b[0mgotit\u001b[0m \u001b[0;34m=\u001b[0m \u001b[0mwaiter\u001b[0m\u001b[0;34m.\u001b[0m\u001b[0macquire\u001b[0m\u001b[0;34m(\u001b[0m\u001b[0;32mFalse\u001b[0m\u001b[0;34m)\u001b[0m\u001b[0;34m\u001b[0m\u001b[0m\n",
      "\u001b[0;31mKeyboardInterrupt\u001b[0m: "
     ]
    },
    {
     "name": "stderr",
     "output_type": "stream",
     "text": [
      "  File \"/Users/romeo/anaconda/envs/aging3/lib/python3.6/multiprocessing/process.py\", line 93, in run\n",
      "    self._target(*self._args, **self._kwargs)\n",
      "  File \"/Users/romeo/anaconda/envs/aging3/lib/python3.6/multiprocessing/process.py\", line 93, in run\n",
      "    self._target(*self._args, **self._kwargs)\n",
      "  File \"/Users/romeo/anaconda/envs/aging3/lib/python3.6/multiprocessing/process.py\", line 93, in run\n",
      "    self._target(*self._args, **self._kwargs)\n",
      "  File \"/Users/romeo/anaconda/envs/aging3/lib/python3.6/multiprocessing/process.py\", line 93, in run\n",
      "    self._target(*self._args, **self._kwargs)\n",
      "  File \"/Users/romeo/anaconda/envs/aging3/lib/python3.6/multiprocessing/process.py\", line 93, in run\n",
      "    self._target(*self._args, **self._kwargs)\n",
      "  File \"/Users/romeo/anaconda/envs/aging3/lib/python3.6/multiprocessing/pool.py\", line 119, in worker\n",
      "    result = (True, func(*args, **kwds))\n",
      "  File \"/Users/romeo/anaconda/envs/aging3/lib/python3.6/multiprocessing/pool.py\", line 119, in worker\n",
      "    result = (True, func(*args, **kwds))\n",
      "  File \"/Users/romeo/anaconda/envs/aging3/lib/python3.6/multiprocessing/pool.py\", line 119, in worker\n",
      "    result = (True, func(*args, **kwds))\n",
      "  File \"/Users/romeo/anaconda/envs/aging3/lib/python3.6/multiprocessing/pool.py\", line 119, in worker\n",
      "    result = (True, func(*args, **kwds))\n",
      "  File \"/Users/romeo/work/washu/reports/bed_metrics.py\", line 24, in _run_metric_intersection\n",
      "    [\"uniq\"], [\"wc\", \"-l\"]))\n",
      "  File \"/Users/romeo/anaconda/envs/aging3/lib/python3.6/multiprocessing/pool.py\", line 119, in worker\n",
      "    result = (True, func(*args, **kwds))\n",
      "  File \"/Users/romeo/work/washu/scripts/util.py\", line 215, in run\n",
      "    out, err = sp.communicate()\n",
      "  File \"/Users/romeo/work/washu/reports/bed_metrics.py\", line 24, in _run_metric_intersection\n",
      "    [\"uniq\"], [\"wc\", \"-l\"]))\n",
      "  File \"/Users/romeo/anaconda/envs/aging3/lib/python3.6/multiprocessing/pool.py\", line 119, in worker\n",
      "    result = (True, func(*args, **kwds))\n",
      "  File \"/Users/romeo/work/washu/reports/bed_metrics.py\", line 24, in _run_metric_intersection\n",
      "    [\"uniq\"], [\"wc\", \"-l\"]))\n",
      "  File \"/Users/romeo/anaconda/envs/aging3/lib/python3.6/subprocess.py\", line 836, in communicate\n",
      "    stdout, stderr = self._communicate(input, endtime, timeout)\n",
      "  File \"/Users/romeo/work/washu/reports/bed_metrics.py\", line 24, in _run_metric_intersection\n",
      "    [\"uniq\"], [\"wc\", \"-l\"]))\n",
      "  File \"/Users/romeo/work/washu/reports/bed_metrics.py\", line 24, in _run_metric_intersection\n",
      "    [\"uniq\"], [\"wc\", \"-l\"]))\n",
      "  File \"/Users/romeo/work/washu/scripts/util.py\", line 215, in run\n",
      "    out, err = sp.communicate()\n",
      "  File \"/Users/romeo/anaconda/envs/aging3/lib/python3.6/subprocess.py\", line 1496, in _communicate\n",
      "    ready = selector.select(timeout)\n",
      "  File \"/Users/romeo/work/washu/scripts/util.py\", line 215, in run\n",
      "    out, err = sp.communicate()\n",
      "  File \"/Users/romeo/work/washu/scripts/util.py\", line 215, in run\n",
      "    out, err = sp.communicate()\n",
      "  File \"/Users/romeo/work/washu/reports/bed_metrics.py\", line 24, in _run_metric_intersection\n",
      "    [\"uniq\"], [\"wc\", \"-l\"]))\n",
      "  File \"/Users/romeo/work/washu/scripts/util.py\", line 215, in run\n",
      "    out, err = sp.communicate()\n",
      "  File \"/Users/romeo/anaconda/envs/aging3/lib/python3.6/selectors.py\", line 376, in select\n",
      "    fd_event_list = self._poll.poll(timeout)\n",
      "  File \"/Users/romeo/anaconda/envs/aging3/lib/python3.6/subprocess.py\", line 836, in communicate\n",
      "    stdout, stderr = self._communicate(input, endtime, timeout)\n",
      "  File \"/Users/romeo/anaconda/envs/aging3/lib/python3.6/subprocess.py\", line 836, in communicate\n",
      "    stdout, stderr = self._communicate(input, endtime, timeout)\n",
      "KeyboardInterrupt\n",
      "  File \"/Users/romeo/anaconda/envs/aging3/lib/python3.6/subprocess.py\", line 1496, in _communicate\n",
      "    ready = selector.select(timeout)\n",
      "  File \"/Users/romeo/anaconda/envs/aging3/lib/python3.6/subprocess.py\", line 836, in communicate\n",
      "    stdout, stderr = self._communicate(input, endtime, timeout)\n",
      "  File \"/Users/romeo/anaconda/envs/aging3/lib/python3.6/subprocess.py\", line 836, in communicate\n",
      "    stdout, stderr = self._communicate(input, endtime, timeout)\n",
      "  File \"/Users/romeo/work/washu/scripts/util.py\", line 215, in run\n",
      "    out, err = sp.communicate()\n",
      "  File \"/Users/romeo/anaconda/envs/aging3/lib/python3.6/subprocess.py\", line 1496, in _communicate\n",
      "    ready = selector.select(timeout)\n",
      "  File \"/Users/romeo/anaconda/envs/aging3/lib/python3.6/subprocess.py\", line 1496, in _communicate\n",
      "    ready = selector.select(timeout)\n",
      "  File \"/Users/romeo/anaconda/envs/aging3/lib/python3.6/selectors.py\", line 376, in select\n",
      "    fd_event_list = self._poll.poll(timeout)\n",
      "  File \"/Users/romeo/anaconda/envs/aging3/lib/python3.6/subprocess.py\", line 836, in communicate\n",
      "    stdout, stderr = self._communicate(input, endtime, timeout)\n",
      "  File \"/Users/romeo/anaconda/envs/aging3/lib/python3.6/subprocess.py\", line 1496, in _communicate\n",
      "    ready = selector.select(timeout)\n",
      "  File \"/Users/romeo/anaconda/envs/aging3/lib/python3.6/selectors.py\", line 376, in select\n",
      "    fd_event_list = self._poll.poll(timeout)\n",
      "KeyboardInterrupt\n",
      "  File \"/Users/romeo/anaconda/envs/aging3/lib/python3.6/selectors.py\", line 376, in select\n",
      "    fd_event_list = self._poll.poll(timeout)\n",
      "  File \"/Users/romeo/anaconda/envs/aging3/lib/python3.6/selectors.py\", line 376, in select\n",
      "    fd_event_list = self._poll.poll(timeout)\n",
      "KeyboardInterrupt\n",
      "  File \"/Users/romeo/anaconda/envs/aging3/lib/python3.6/subprocess.py\", line 1496, in _communicate\n",
      "    ready = selector.select(timeout)\n",
      "  File \"/Users/romeo/anaconda/envs/aging3/lib/python3.6/multiprocessing/pool.py\", line 119, in worker\n",
      "    result = (True, func(*args, **kwds))\n",
      "KeyboardInterrupt\n",
      "  File \"/Users/romeo/anaconda/envs/aging3/lib/python3.6/selectors.py\", line 376, in select\n",
      "    fd_event_list = self._poll.poll(timeout)\n",
      "KeyboardInterrupt\n",
      "KeyboardInterrupt\n",
      "  File \"/Users/romeo/work/washu/reports/bed_metrics.py\", line 24, in _run_metric_intersection\n",
      "    [\"uniq\"], [\"wc\", \"-l\"]))\n",
      "  File \"/Users/romeo/anaconda/envs/aging3/lib/python3.6/multiprocessing/process.py\", line 249, in _bootstrap\n",
      "    self.run()\n",
      "  File \"/Users/romeo/work/washu/scripts/util.py\", line 215, in run\n",
      "    out, err = sp.communicate()\n",
      "  File \"/Users/romeo/anaconda/envs/aging3/lib/python3.6/multiprocessing/process.py\", line 93, in run\n",
      "    self._target(*self._args, **self._kwargs)\n",
      "  File \"/Users/romeo/anaconda/envs/aging3/lib/python3.6/subprocess.py\", line 836, in communicate\n",
      "    stdout, stderr = self._communicate(input, endtime, timeout)\n",
      "  File \"/Users/romeo/anaconda/envs/aging3/lib/python3.6/multiprocessing/pool.py\", line 119, in worker\n",
      "    result = (True, func(*args, **kwds))\n",
      "  File \"/Users/romeo/work/washu/reports/bed_metrics.py\", line 24, in _run_metric_intersection\n",
      "    [\"uniq\"], [\"wc\", \"-l\"]))\n",
      "  File \"/Users/romeo/anaconda/envs/aging3/lib/python3.6/subprocess.py\", line 1496, in _communicate\n",
      "    ready = selector.select(timeout)\n",
      "  File \"/Users/romeo/anaconda/envs/aging3/lib/python3.6/selectors.py\", line 376, in select\n",
      "    fd_event_list = self._poll.poll(timeout)\n",
      "KeyboardInterrupt\n",
      "  File \"/Users/romeo/work/washu/scripts/util.py\", line 215, in run\n",
      "    out, err = sp.communicate()\n",
      "  File \"/Users/romeo/anaconda/envs/aging3/lib/python3.6/subprocess.py\", line 836, in communicate\n",
      "    stdout, stderr = self._communicate(input, endtime, timeout)\n",
      "  File \"/Users/romeo/anaconda/envs/aging3/lib/python3.6/subprocess.py\", line 1496, in _communicate\n",
      "    ready = selector.select(timeout)\n",
      "  File \"/Users/romeo/anaconda/envs/aging3/lib/python3.6/selectors.py\", line 376, in select\n",
      "    fd_event_list = self._poll.poll(timeout)\n",
      "KeyboardInterrupt\n"
     ]
    }
   ],
   "source": [
    "paths = [loci_root / fname for fname in (\n",
    "    \"ucsc_cpgIslandExt.hg19.bed\", \"ucne_conserved_coord.hg19.bed\", \n",
    "    \"washu_german_rrbs_filtered_dmrs_all_10.hg19.bed\", \n",
    "    \"cpg_islands_clock_hg19.bed\", \"cpg_clock_1000_hg19.bed\"\n",
    ")]\n",
    "paths.extend(p for p in (loci_root / \"regulatory\").glob(\"*.bed\"))\n",
    "paths.extend(p for p in (loci_root / \"golden_consensus\").glob(\"*.bed\") if \"DS\" not in p.name)\n",
    "paths = sorted(paths, key=lambda p: p.name)\n",
    "print(\"Ensure files sorted...\")\n",
    "#mapping = {p:as_sorted(p, loci_root, sorted_root / \"loci_of_interest\") for p in paths}\n",
    "mapping = {p:p for p in paths}\n",
    "print(\"[Done]\")\n",
    "\n",
    "process_intersection(paths, paths, mapping, results_dir, \"demoloci\", figsize=(10,10),\n",
    "                     col_cluster=False, row_cluster=False, all_metrics=0)\n",
    "None"
   ]
  },
  {
   "cell_type": "markdown",
   "metadata": {
    "ExecuteTime": {
     "end_time": "2017-10-10T14:31:55.944678Z",
     "start_time": "2017-10-10T14:31:55.941977Z"
    }
   },
   "source": [
    "## Loci vs Loci"
   ]
  },
  {
   "cell_type": "code",
   "execution_count": null,
   "metadata": {
    "ExecuteTime": {
     "end_time": "2017-10-12T09:46:14.396321Z",
     "start_time": "2017-10-12T09:25:33.123699Z"
    },
    "collapsed": true,
    "scrolled": false
   },
   "outputs": [],
   "source": [
    "print(\"Ensure files sorted...\")\n",
    "mapping = {p:as_sorted(p, loci_root, sorted_root / \"loci_of_interest\") for p in loci_paths}\n",
    "print(\"[Done]\")\n",
    "\n",
    "process_intersection(loci_paths, loci_paths, mapping, results_dir, \"loci\", figsize=(15,15),\n",
    "                     col_cluster=True)\n",
    "None"
   ]
  },
  {
   "cell_type": "markdown",
   "metadata": {},
   "source": [
    "## Loci vs ChromHMM"
   ]
  },
  {
   "cell_type": "code",
   "execution_count": null,
   "metadata": {
    "ExecuteTime": {
     "end_time": "2017-10-12T09:19:08.431930Z",
     "start_time": "2017-10-12T09:19:08.407935Z"
    },
    "collapsed": true,
    "scrolled": false
   },
   "outputs": [],
   "source": [
    "print(\"Ensure files sorted...\")\n",
    "mapping = {p:as_sorted(p, loci_root, sorted_root / \"loci_of_interest\") for p in loci_paths}\n",
    "mapping.update({p:as_sorted(p, loci_root, sorted_root / \"loci_of_interest\") for p in chromhmm_paths})\n",
    "print(\"[Done]\")\n",
    "\n",
    "process_intersection(loci_paths, chromhmm_paths, mapping, results_dir, \"loci_chromhmm\", figsize=(8, 15),\n",
    "                     all_metrics=1, row_cluster=False)\n",
    "None"
   ]
  },
  {
   "cell_type": "markdown",
   "metadata": {
    "ExecuteTime": {
     "end_time": "2017-10-10T14:32:34.287847Z",
     "start_time": "2017-10-10T14:32:34.284244Z"
    }
   },
   "source": [
    "## ChromHMM vs ChromHMM"
   ]
  },
  {
   "cell_type": "code",
   "execution_count": null,
   "metadata": {
    "ExecuteTime": {
     "end_time": "2017-10-11T12:19:47.588477Z",
     "start_time": "2017-10-11T12:19:45.275497Z"
    },
    "collapsed": true
   },
   "outputs": [],
   "source": [
    "print(\"Ensure files sorted...\")\n",
    "mapping = {p:as_sorted(p, loci_root, sorted_root / \"loci_of_interest\") for p in chromhmm_paths}\n",
    "print(\"[Done]\")\n",
    "process_intersection(chromhmm_paths, chromhmm_paths, mapping, results_dir, \"chromhmm\", figsize=(8,8))\n",
    "None"
   ]
  },
  {
   "cell_type": "markdown",
   "metadata": {
    "collapsed": true
   },
   "source": [
    "## Consensus"
   ]
  },
  {
   "cell_type": "markdown",
   "metadata": {},
   "source": [
    "### vc Loci"
   ]
  },
  {
   "cell_type": "code",
   "execution_count": null,
   "metadata": {
    "collapsed": true
   },
   "outputs": [],
   "source": [
    "print(\"Ensure files sorted...\")\n",
    "mapping = {}\n",
    "consensus_paths = sorted([p for p in (zinbra_conensus_paths + golden_conensus_paths) if \"DS\" not in p.name],\n",
    "                         key=lambda p: p.name)\n",
    "for p in consensus_paths:\n",
    "    mapping[p] = as_sorted(p, loci_root, sorted_root  / \"loci_of_interest\")\n",
    "for p in all_loci:\n",
    "    mapping[p] = as_sorted(p, loci_root, sorted_root / \"loci_of_interest\")\n",
    "print(\"[Done]\")\n",
    "\n",
    "process_intersection(consensus_paths, all_loci, mapping, results_dir, \"consensus_short_vs_loci\",\n",
    "                     figsize=(20,4))\n",
    "None"
   ]
  },
  {
   "cell_type": "code",
   "execution_count": null,
   "metadata": {
    "collapsed": true
   },
   "outputs": [],
   "source": [
    "print(\"Ensure files sorted...\")\n",
    "mapping = {}\n",
    "consensus_paths = sorted(\n",
    "    [p for p in (zinbra_conensus_paths + golden_conensus_paths) if \"DS\" in p.name], #ODS, YDS\n",
    "    key=donor_order_id\n",
    ")\n",
    "for p in consensus_paths:\n",
    "    mapping[p] = as_sorted(p, loci_root, sorted_root  / \"loci_of_interest\")\n",
    "for p in all_loci:\n",
    "    mapping[p] = as_sorted(p, loci_root, sorted_root / \"loci_of_interest\")\n",
    "print(\"[Done]\")\n",
    "\n",
    "process_intersection(consensus_paths, all_loci, mapping, results_dir, \"consensus_yo_vs_loci\",\n",
    "                     figsize=(20,12), row_donors=True, col_cluster=True, row_cluster=True,\n",
    "                     all_metrics=1)\n",
    "None"
   ]
  },
  {
   "cell_type": "markdown",
   "metadata": {
    "ExecuteTime": {
     "end_time": "2017-10-18T11:26:34.527680Z",
     "start_time": "2017-10-18T11:26:34.520223Z"
    }
   },
   "source": [
    "### vs Consensus"
   ]
  },
  {
   "cell_type": "code",
   "execution_count": null,
   "metadata": {
    "ExecuteTime": {
     "end_time": "2017-10-17T15:44:08.691366Z",
     "start_time": "2017-10-17T15:43:58.488088Z"
    },
    "collapsed": true
   },
   "outputs": [],
   "source": [
    "print(\"Ensure files sorted...\")\n",
    "mapping = {}\n",
    "consensus_paths = sorted([p for p in (zinbra_conensus_paths + golden_conensus_paths) if \"DS\" not in p.name],\n",
    "                         key=lambda p: p.name)\n",
    "for p in (consensus_paths):\n",
    "    mapping[p] = as_sorted(p, loci_root, sorted_root / \"loci_of_interest\")\n",
    "print(\"[Done]\")\n",
    "\n",
    "dfs = process_intersection(consensus_paths, consensus_paths, mapping, results_dir, \"consensus_short\", figsize=(6,6),\n",
    "                     col_cluster=True)\n",
    "dfs[0]"
   ]
  },
  {
   "cell_type": "code",
   "execution_count": null,
   "metadata": {
    "ExecuteTime": {
     "end_time": "2017-10-16T22:54:41.051754Z",
     "start_time": "2017-10-16T22:54:34.664154Z"
    },
    "collapsed": true,
    "scrolled": false
   },
   "outputs": [],
   "source": [
    "print(\"Ensure files sorted...\")\n",
    "mapping = {}\n",
    "consensus_paths = sorted(\n",
    "    [p for p in (zinbra_conensus_paths + golden_conensus_paths) if \"DS\" in p.name], #ODS, YDS\n",
    "    key=lambda p: p.name\n",
    ")\n",
    "for p in (consensus_paths):\n",
    "    mapping[p] = as_sorted(p, loci_root, sorted_root / \"loci_of_interest\")\n",
    "print(\"[Done]\")\n",
    "\n",
    "process_intersection(consensus_paths, consensus_paths, mapping, results_dir, \"consensus_yo\", \n",
    "                     figsize=(10,10), row_donors=False,\n",
    "                     col_cluster=False, row_cluster=False)\n",
    "None"
   ]
  },
  {
   "cell_type": "markdown",
   "metadata": {},
   "source": [
    "## Zinbra all donors vs Loci"
   ]
  },
  {
   "cell_type": "code",
   "execution_count": null,
   "metadata": {
    "ExecuteTime": {
     "end_time": "2017-10-11T12:20:55.221079Z",
     "start_time": "2017-10-11T12:20:45.915527Z"
    },
    "collapsed": true,
    "scrolled": false
   },
   "outputs": [],
   "source": [
    "print(\"Ensure files sorted...\")\n",
    "mapping = {}\n",
    "for mod, peaks in zinbra_peaks_by_histmod.items():\n",
    "    for p in peaks:\n",
    "        mapping[p] = as_sorted(p, zinbra_peaks_root, sorted_root / \"zinbra\")\n",
    "for p in all_loci:\n",
    "    mapping[p] = as_sorted(p, loci_root, sorted_root / \"loci_of_interest\")\n",
    "print(\"[Done]\")\n",
    "\n",
    "for mod, peaks in zinbra_peaks_by_histmod.items():\n",
    "    print(mod)\n",
    "    process_intersection(peaks, all_loci, mapping, results_dir, \"zinbra_{}_vs_loci\".format(mod),\n",
    "                         figsize=(20,10), row_donors=True, \n",
    "                         col_cluster=False, row_cluster=False, all_metrics=1)\n",
    "None    "
   ]
  },
  {
   "cell_type": "markdown",
   "metadata": {},
   "source": [
    "## Golden all donors vs Loci"
   ]
  },
  {
   "cell_type": "code",
   "execution_count": null,
   "metadata": {
    "ExecuteTime": {
     "end_time": "2017-10-11T12:23:09.460510Z",
     "start_time": "2017-10-11T12:22:57.250421Z"
    },
    "collapsed": true,
    "scrolled": false
   },
   "outputs": [],
   "source": [
    "print(\"Ensure files sorted...\")\n",
    "mapping = {}\n",
    "for mod, peaks in golden_peaks_by_histmod.items():\n",
    "    for p in peaks:\n",
    "        mapping[p] = as_sorted(p, golden_peaks_root, sorted_root / \"golden\")\n",
    "for p in all_loci:\n",
    "    mapping[p] = as_sorted(p, loci_root, sorted_root / \"loci_of_interest\")\n",
    "print(\"[Done]\")\n",
    "\n",
    "for mod, peaks in golden_peaks_by_histmod.items():\n",
    "    print(mod)\n",
    "    process_intersection(peaks, all_loci, mapping, results_dir, \"golden_{}_vs_loci\".format(mod),\n",
    "                         figsize=(20,10), row_donors=True,\n",
    "                         col_cluster=False, row_cluster=False, all_metrics=1)\n",
    "None"
   ]
  },
  {
   "cell_type": "markdown",
   "metadata": {},
   "source": [
    "## Pathways"
   ]
  },
  {
   "cell_type": "markdown",
   "metadata": {},
   "source": [
    "#### Interesting"
   ]
  },
  {
   "cell_type": "code",
   "execution_count": null,
   "metadata": {
    "collapsed": true
   },
   "outputs": [],
   "source": [
    "folder_name = \"interesting_pathways\"\n",
    "paths = sorted([p for p in (loci_root / folder_name).glob('**/*.bed')])\n",
    "suffix = folder_name\n",
    "\n",
    "# Consensus Y/0:\n",
    "consensus_paths = sorted(\n",
    "    [p for p in (zinbra_conensus_paths + golden_conensus_paths) if \"DS\" in p.name], #ODS, YDS\n",
    "    key=lambda p: p.name\n",
    ")\n",
    "print(\"Ensure files sorted...\")\n",
    "mapping = {p:as_sorted(p, loci_root, sorted_root / \"loci_of_interest\") for p in paths}\n",
    "mapping.update({p:as_sorted(p, loci_root, sorted_root / \"loci_of_interest\") for p in consensus_paths})\n",
    "print(\"[Done]\")\n",
    "process_intersection(paths, consensus_paths, mapping, results_dir, \"{}_consensus\".format(suffix),\n",
    "                     figsize=(8,150), row_cluster=True, col_cluster=False,\n",
    "                     all_metrics=0)\n",
    "None"
   ]
  },
  {
   "cell_type": "markdown",
   "metadata": {},
   "source": [
    "#### Notch pathways & all donors "
   ]
  },
  {
   "cell_type": "code",
   "execution_count": null,
   "metadata": {
    "collapsed": true
   },
   "outputs": [],
   "source": [
    "notchpathways = [p for p in (loci_root / \"interesting_pathways\").glob('R-HSA-266082*.bed')]\n",
    "notchpathways.extend([p for p in (loci_root / \"interesting_pathways\").glob('R-HSA-1912399*.bed')])\n",
    "notchpathways.extend([p for p in (loci_root / \"interesting_pathways\").glob('R-HSA-264460*_cds.bed')])\n",
    "notchpathways.sort(key=lambda p: p.name)\n",
    "\n",
    "print(\"Ensure files sorted...\")\n",
    "mapping = {}\n",
    "for mod, peaks in golden_peaks_by_histmod.items():\n",
    "    for p in peaks:\n",
    "        mapping[p] = as_sorted(p, golden_peaks_root, sorted_root / \"golden\")\n",
    "for p in notchpathways:\n",
    "    mapping[p] = as_sorted(p, loci_root, sorted_root / \"loci_of_interest\")\n",
    "print(\"[Done]\")\n",
    "\n",
    "for mod, peaks in golden_peaks_by_histmod.items():\n",
    "    print(mod)\n",
    "    process_intersection(peaks, notchpathways, mapping, results_dir, \"golden_{}_vs_notch\".format(mod),\n",
    "                         figsize=(20,10), row_donors=True,\n",
    "                         col_cluster=True, row_cluster=False, all_metrics=1)\n",
    "None"
   ]
  },
  {
   "cell_type": "code",
   "execution_count": null,
   "metadata": {
    "collapsed": true
   },
   "outputs": [],
   "source": [
    "notchpathways = [p for p in (loci_root / \"interesting_pathways\").glob('R-HSA-266082*.bed')]\n",
    "notchpathways.extend([p for p in (loci_root / \"interesting_pathways\").glob('R-HSA-1912399*.bed')])\n",
    "notchpathways.extend([p for p in (loci_root / \"interesting_pathways\").glob('R-HSA-264460*_cds.bed')])\n",
    "notchpathways.sort(key=lambda p: p.name)\n",
    "\n",
    "print(\"Ensure files sorted...\")\n",
    "mapping = {}\n",
    "for mod, peaks in zinbra_peaks_by_histmod.items():\n",
    "    for p in peaks:\n",
    "        mapping[p] = as_sorted(p, zinbra_peaks_root, sorted_root / \"zinbra\")\n",
    "for p in notchpathways:\n",
    "    mapping[p] = as_sorted(p, loci_root, sorted_root / \"loci_of_interest\")\n",
    "print(\"[Done]\")\n",
    "\n",
    "for mod, peaks in zinbra_peaks_by_histmod.items():\n",
    "    print(mod)\n",
    "    process_intersection(peaks, notchpathways, mapping, results_dir, \"zinbra_{}_vs_notch\".format(mod),\n",
    "                         figsize=(20,10), row_donors=True, \n",
    "                         col_cluster=True, row_cluster=False, all_metrics=1)\n",
    "None    "
   ]
  },
  {
   "cell_type": "markdown",
   "metadata": {},
   "source": [
    "## Repeats"
   ]
  },
  {
   "cell_type": "code",
   "execution_count": null,
   "metadata": {
    "ExecuteTime": {
     "end_time": "2017-10-17T10:43:02.444028Z",
     "start_time": "2017-10-17T10:43:02.408389Z"
    },
    "collapsed": true
   },
   "outputs": [],
   "source": [
    "check_interests_loci_folder(\"repeats\")\n",
    "None"
   ]
  },
  {
   "cell_type": "markdown",
   "metadata": {},
   "source": [
    "## TFs"
   ]
  },
  {
   "cell_type": "code",
   "execution_count": null,
   "metadata": {
    "collapsed": true
   },
   "outputs": [],
   "source": [
    "check_interests_loci_folder(\"tfs\")\n",
    "None"
   ]
  },
  {
   "cell_type": "markdown",
   "metadata": {},
   "source": [
    "### By all donors (golden)"
   ]
  },
  {
   "cell_type": "code",
   "execution_count": null,
   "metadata": {
    "collapsed": true
   },
   "outputs": [],
   "source": [
    "paths = [p for p in (loci_root / \"tfs\").glob('**/*.bed')]\n",
    "\n",
    "print(\"Ensure files sorted...\")\n",
    "mapping = {}\n",
    "for mod, peaks in golden_peaks_by_histmod.items():\n",
    "    for p in peaks:\n",
    "        mapping[p] = as_sorted(p, golden_peaks_root, sorted_root / \"golden\")\n",
    "for p in paths:\n",
    "    mapping[p] = as_sorted(p, loci_root, sorted_root / \"loci_of_interest\")\n",
    "print(\"[Done]\")\n",
    "\n",
    "for mod, peaks in golden_peaks_by_histmod.items():\n",
    "    print(mod)\n",
    "    process_intersection(peaks, paths, mapping, results_dir, \"golden_{}_vs_tfs\".format(mod),\n",
    "                         figsize=(20,10), row_donors=True,\n",
    "                         col_cluster=True, row_cluster=False, all_metrics=1)\n",
    "None"
   ]
  },
  {
   "cell_type": "markdown",
   "metadata": {},
   "source": [
    "### By all donors (zinbra)"
   ]
  },
  {
   "cell_type": "code",
   "execution_count": null,
   "metadata": {
    "collapsed": true
   },
   "outputs": [],
   "source": [
    "paths = [p for p in (loci_root / \"tfs\").glob('**/*.bed')]\n",
    "\n",
    "print(\"Ensure files sorted...\")\n",
    "mapping = {}\n",
    "for mod, peaks in zinbra_peaks_by_histmod.items():\n",
    "    for p in peaks:\n",
    "        mapping[p] = as_sorted(p, zinbra_peaks_root, sorted_root / \"zinbra\")\n",
    "for p in paths:\n",
    "    mapping[p] = as_sorted(p, loci_root, sorted_root / \"loci_of_interest\")\n",
    "print(\"[Done]\")\n",
    "\n",
    "for mod, peaks in zinbra_peaks_by_histmod.items():\n",
    "    print(mod)\n",
    "    process_intersection(peaks, paths, mapping, results_dir, \"zinbra_{}_vs_tfs\".format(mod),\n",
    "                         figsize=(20,10), row_donors=True,\n",
    "                         col_cluster=True, row_cluster=False, all_metrics=1)\n",
    "None"
   ]
  },
  {
   "cell_type": "markdown",
   "metadata": {},
   "source": [
    "# Diff Peaks"
   ]
  },
  {
   "cell_type": "markdown",
   "metadata": {
    "ExecuteTime": {
     "end_time": "2017-10-17T12:30:40.029391Z",
     "start_time": "2017-10-17T12:30:40.021480Z"
    }
   },
   "source": [
    "##  ChipSeq Diff"
   ]
  },
  {
   "cell_type": "markdown",
   "metadata": {},
   "source": [
    "### vc ChromHmm, Loci, Consensus"
   ]
  },
  {
   "cell_type": "code",
   "execution_count": null,
   "metadata": {
    "ExecuteTime": {
     "end_time": "2017-10-17T12:31:47.613837Z",
     "start_time": "2017-10-17T12:31:47.607904Z"
    },
    "collapsed": true
   },
   "outputs": [],
   "source": [
    "check_interests_loci_folder(\"chipseq_diff_loci\")\n",
    "None"
   ]
  },
  {
   "cell_type": "code",
   "execution_count": null,
   "metadata": {
    "collapsed": true
   },
   "outputs": [],
   "source": [
    "###  vs ChromHMM\n",
    "\n",
    "# diff_chip_root = loci_root / \"chipseq_diff_loci\"\n",
    "# diff_chip_paths = [p for p in diff_chip_root.glob('**/*.bed')]\n",
    "\n",
    "# print(\"Ensure files sorted...\")\n",
    "# mapping = {p:as_sorted(p, loci_root, sorted_root / \"loci_of_interest\") for p in diff_chip_paths}\n",
    "# mapping.update({p:as_sorted(p, loci_root, sorted_root / \"loci_of_interest\") for p in chromhmm_paths})\n",
    "# print(\"[Done]\")\n",
    "# process_intersection(diff_chip_paths, chromhmm_paths, mapping, results_dir, \"diff_chip_chromhmm\", figsize=(8,8))\n",
    "\n",
    "### vs Loci\n",
    "# diff_chip_root = loci_root / \"chipseq_diff_loci\"\n",
    "# diff_chip_paths = [p for p in diff_chip_root.glob('**/*.bed')]\n",
    "\n",
    "# print(\"Ensure files sorted...\")\n",
    "# mapping = {p:as_sorted(p, loci_root, sorted_root / \"loci_of_interest\") for p in diff_chip_paths}\n",
    "# mapping.update({p:as_sorted(p, loci_root, sorted_root / \"loci_of_interest\") for p in loci_paths})\n",
    "# print(\"[Done]\")\n",
    "# process_intersection(diff_chip_paths, loci_paths, mapping, results_dir, \"diff_chip_loci\", figsize=(8,8))\n",
    "\n",
    "\n",
    "### vs Consensus\n",
    "# diff_chip_root = loci_root / \"chipseq_diff_loci\"\n",
    "# diff_chip_paths = [p for p in diff_chip_root.glob('**/*.bed')]\n",
    "\n",
    "# consensus_paths = zinbra_conensus_paths + golden_conensus_paths\n",
    "# print(\"Ensure files sorted...\")\n",
    "# mapping = {p:as_sorted(p, loci_root, sorted_root / \"loci_of_interest\") for p in diff_chip_paths}\n",
    "# mapping.update({p:as_sorted(p, loci_root, sorted_root / \"loci_of_interest\") for p in consensus_paths})\n",
    "# print(\"[Done]\")\n",
    "# process_intersection(diff_chip_paths, consensus_paths, mapping, results_dir, \"diff_chip_consensus\",\n",
    "#                      figsize=(8,8), row_cluster=False, col_cluster=True)\n"
   ]
  },
  {
   "cell_type": "markdown",
   "metadata": {},
   "source": [
    "### vs Repeats"
   ]
  },
  {
   "cell_type": "code",
   "execution_count": null,
   "metadata": {
    "ExecuteTime": {
     "end_time": "2017-10-17T12:30:24.550097Z",
     "start_time": "2017-10-17T12:30:20.375816Z"
    },
    "collapsed": true
   },
   "outputs": [],
   "source": [
    "diff_chip_paths = [p for p in (loci_root / \"chipseq_diff_loci\").glob('**/*.bed')]\n",
    "repeats_paths = [p for p in (loci_root / \"repeats\").glob('**/*.bed')]\n",
    "\n",
    "print(\"Ensure files sorted...\")\n",
    "mapping = {p:as_sorted(p, loci_root, sorted_root / \"loci_of_interest\") for p in diff_chip_paths}\n",
    "mapping.update({p:as_sorted(p, loci_root, sorted_root / \"loci_of_interest\") for p in repeats_paths})\n",
    "print(\"[Done]\")\n",
    "process_intersection(diff_chip_paths, repeats_paths, mapping, results_dir, \"chipseq_diff_repeats\",\n",
    "                     figsize=(8,8), row_cluster=False, col_cluster=True)\n",
    "None"
   ]
  },
  {
   "cell_type": "markdown",
   "metadata": {},
   "source": [
    "### vs all donors by golden tools"
   ]
  },
  {
   "cell_type": "code",
   "execution_count": null,
   "metadata": {
    "collapsed": true
   },
   "outputs": [],
   "source": [
    "diff_chip_paths = [p for p in (loci_root / \"chipseq_diff_loci\").glob('**/*.bed')]\n",
    "\n",
    "print(\"Ensure files sorted...\")\n",
    "mapping = {}\n",
    "for mod, peaks in golden_peaks_by_histmod.items():\n",
    "    for p in peaks:\n",
    "        mapping[p] = as_sorted(p, golden_peaks_root, sorted_root / \"golden\")\n",
    "for p in diff_chip_paths:\n",
    "    mapping[p] = as_sorted(p, loci_root, sorted_root / \"loci_of_interest\")\n",
    "print(\"[Done]\")\n",
    "\n",
    "for mod, peaks in golden_peaks_by_histmod.items():\n",
    "    print(mod)\n",
    "    process_intersection(peaks, diff_chip_paths, mapping, results_dir, \"golden_{}_vs_chipdiff\".format(mod),\n",
    "                         figsize=(20,10), row_donors=True,\n",
    "                         col_cluster=True, row_cluster=False, all_metrics=1)\n",
    "None"
   ]
  },
  {
   "cell_type": "markdown",
   "metadata": {},
   "source": [
    "### vs Diff ChipSeq"
   ]
  },
  {
   "cell_type": "code",
   "execution_count": null,
   "metadata": {
    "collapsed": true
   },
   "outputs": [],
   "source": [
    "diff_chip_paths = [p for p in (loci_root / \"chipseq_diff_loci\").glob('**/*.bed')]\n",
    "\n",
    "print(\"Ensure files sorted...\")\n",
    "mapping = {p:as_sorted(p, loci_root, sorted_root / \"loci_of_interest\") for p in diff_chip_paths}\n",
    "print(\"[Done]\")\n",
    "process_intersection(diff_chip_paths, diff_chip_paths, mapping, results_dir, \"chipseq_diff_vs_chipseq_diff\",\n",
    "                     figsize=(8,8), row_cluster=True, col_cluster=True)\n",
    "None"
   ]
  },
  {
   "cell_type": "markdown",
   "metadata": {},
   "source": [
    "## RnaSeq diff"
   ]
  },
  {
   "cell_type": "code",
   "execution_count": null,
   "metadata": {
    "collapsed": true
   },
   "outputs": [],
   "source": [
    "check_interests_loci_folder(\"rna_diff\")\n",
    "None"
   ]
  },
  {
   "cell_type": "markdown",
   "metadata": {},
   "source": [
    "# Coverage (Signal)"
   ]
  },
  {
   "cell_type": "code",
   "execution_count": null,
   "metadata": {
    "ExecuteTime": {
     "end_time": "2017-10-17T19:33:58.337849Z",
     "start_time": "2017-10-17T19:33:58.329247Z"
    },
    "collapsed": true
   },
   "outputs": [],
   "source": [
    "signal_root"
   ]
  },
  {
   "cell_type": "code",
   "execution_count": null,
   "metadata": {
    "ExecuteTime": {
     "end_time": "2017-10-17T16:04:28.379693Z",
     "start_time": "2017-10-17T16:04:28.372945Z"
    },
    "collapsed": true
   },
   "outputs": [],
   "source": [
    "signals_results_dir = results_dir / \"signals\""
   ]
  },
  {
   "cell_type": "markdown",
   "metadata": {},
   "source": [
    "## Plots"
   ]
  },
  {
   "cell_type": "code",
   "execution_count": null,
   "metadata": {
    "collapsed": true
   },
   "outputs": [],
   "source": [
    "! rm -rf {signals_results_dir}"
   ]
  },
  {
   "cell_type": "code",
   "execution_count": null,
   "metadata": {
    "ExecuteTime": {
     "end_time": "2017-10-17T16:42:08.136966Z",
     "start_time": "2017-10-17T16:42:03.321561Z"
    },
    "collapsed": true
   },
   "outputs": [],
   "source": [
    "if signals_results_dir.exists():\n",
    "    # TODO: load\n",
    "    pass\n",
    "else:\n",
    "    signal_dfs_by_datatype = {}\n",
    "    signal_dfs_by_loci = {}\n",
    "    missed_files = []\n",
    "\n",
    "    signals_results_dir.mkdir(exist_ok=True, parents=True)\n",
    "    \n",
    "    series_by_loci = defaultdict(list)\n",
    "    data_type_paths = [p for p in signal_root.iterdir() if p.is_dir()]\n",
    "    for i, data_type_path in enumerate(data_type_paths, 1):\n",
    "        data_type = data_type_path.name\n",
    "        print(\"[{}/{}] Processing: {}\".format(i, len(data_type_paths), data_type))\n",
    "\n",
    "        for norm in [\"raw\", \"rpkm\", \"rpm\"]:\n",
    "            print(\"  Normalization:\", norm)\n",
    "            series_by_datatype = []\n",
    "\n",
    "            # TODO: load from results dir?\n",
    "            for loci_path in (p for p in data_type_path.iterdir() if p.is_dir()):\n",
    "                loci = loci_path.name\n",
    "                files = [p for p in loci_path.glob(\"**/*_{}_data.csv\".format(norm))]\n",
    "\n",
    "                assert len(files) <= 1, \"{}@{} [{}] Expected one file, but was {}: {}\".format(\n",
    "                    data_type, loci, norm, len(files), files\n",
    "                )\n",
    "                if not len(files):\n",
    "                    missed_files.append(\"{}@{} [{}]\".format(data_type, loci, norm))\n",
    "                    continue\n",
    "\n",
    "                df = pd.DataFrame.from_csv(files[0] , header=None)\n",
    "                series = df.iloc[:,0]\n",
    "                series.name = loci\n",
    "\n",
    "                series_by_datatype.append(series) \n",
    "\n",
    "                series2 = series.copy()\n",
    "                series2.name = data_type\n",
    "                series_by_loci[(loci, norm)].append(series2)\n",
    "\n",
    "            if len(series_by_datatype):\n",
    "                # by data type:    \n",
    "                df = pd.DataFrame(series_by_datatype, )\n",
    "                #df.index = [f.stem for f in itertools.islice(files, 10)]\n",
    "\n",
    "                df.to_csv(str(signals_results_dir / \"signal_{}_{}.csv\".format(data_type, norm)))\n",
    "            else:\n",
    "                df = None\n",
    "            signal_dfs_by_datatype[(data_type, norm)] = df\n",
    "\n",
    "    for (loci, norm), series in series_by_loci.items():\n",
    "        if len(series):\n",
    "            df = pd.DataFrame(series, )\n",
    "            df.to_csv(str(signals_results_dir / \"signal_{}_{}\".format(loci, norm)))\n",
    "        else:\n",
    "            df = None\n",
    "        signal_dfs_by_loci[(loci, norm)] = df\n",
    "        \n",
    "    print(\"Missed files: \", len(missed_files))\n",
    "    print(\"  first 10:\", *missed_files[0:10])\n",
    "    print(\"Signal by datatype, missed records:\", str(sum(1 for v in signal_dfs_by_datatype.values() if v is None)))\n",
    "    print(\"  \", [k for k,v in signal_dfs_by_datatype.items() if v is None])\n",
    "    print(\"Signal by loci, missed records:\", str(sum(1 for v in signal_dfs_by_loci.values() if v is None)))    \n",
    "    print(\"  \", [k for k,v in signal_dfs_by_loci.items() if v is None])"
   ]
  },
  {
   "cell_type": "code",
   "execution_count": null,
   "metadata": {
    "ExecuteTime": {
     "end_time": "2017-10-13T16:08:46.867082Z",
     "start_time": "2017-10-13T16:08:46.840964Z"
    },
    "collapsed": true
   },
   "outputs": [],
   "source": [
    "signal_dfs_by_datatype[(\"H3K4me1\", \"rpkm\")].head()"
   ]
  },
  {
   "cell_type": "code",
   "execution_count": null,
   "metadata": {
    "ExecuteTime": {
     "end_time": "2017-10-13T16:09:54.202948Z",
     "start_time": "2017-10-13T16:09:54.177877Z"
    },
    "collapsed": true
   },
   "outputs": [],
   "source": [
    "signal_dfs_by_loci[(\"washu_german_rrbs_filtered_dmrs_all_10.hg19\", \"rpkm\")].head()"
   ]
  },
  {
   "cell_type": "code",
   "execution_count": null,
   "metadata": {
    "collapsed": true
   },
   "outputs": [],
   "source": [
    "def plot_donors_heatmap(title, df, path=None, autoscale=False, \n",
    "                        label_fun=None, figsize=(10,10),\n",
    "                        col_cluster=False, row_cluster=False):\n",
    "    if autoscale:\n",
    "        vmin, vmax = None, None\n",
    "    else:\n",
    "        vmin, vmax = 0, 1\n",
    "        \n",
    "    if label_fun:\n",
    "        df = df.copy()\n",
    "        df.columns = [label_fun(s) for s in df.columns]\n",
    "        df.index = [label_fun(s) for s in df.index]\n",
    "        \n",
    "    donors_colors = [\"g\" if d.lower().startswith(\"od\") else (\"b\" if d.lower().startswith(\"YD\") else \"b\")\n",
    "                     for d in df.index]\n",
    "    row_colors = pd.Series(data=donors_colors, index=df.index, name=\"age\")\n",
    "            \n",
    "    g = sns.clustermap(df,\n",
    "                       col_cluster=col_cluster, row_cluster=row_cluster,\n",
    "                       figsize=figsize, cmap=\"rainbow\",\n",
    "                       metric=\"chebyshev\",\n",
    "                       standard_scale = None,\n",
    "                       vmin=vmin, vmax=vmax,\n",
    "                       row_colors=row_colors,\n",
    "                       robust=True) #robust=True: ignore color outliers\n",
    "    plt.setp(g.ax_heatmap.get_yticklabels(), rotation=0)\n",
    "\n",
    "    plt.title(title)\n",
    "    if path is None:        \n",
    "        plt.show()\n",
    "    else:\n",
    "        pp.savefig()\n",
    "        \n",
    "def plot_signal_heatmap(tag, metric, signal_dfs, *args,\n",
    "                        col_filter_fun=None,\n",
    "                        **kw):\n",
    "\n",
    "    df = signal_dfs[(tag, metric)]\n",
    "    if df is None:\n",
    "        return\n",
    "\n",
    "    df = df.T\n",
    "        \n",
    "    # let's sort by index, not just lexicographically, but in human readable order, e.g. OD2 shoud be before OD10\n",
    "    def inner_donor_order_id(name):\n",
    "        assert (len(name) > 2 and (name.startswith(\"od\") or name.startswith(\"yd\")))\n",
    "        return (name[:2], int(name[2:]))\n",
    "\n",
    "    df = df.loc[sorted(df.index.tolist(), key=inner_donor_order_id), :]\n",
    "    \n",
    "    if col_filter_fun:\n",
    "        df = df.loc[:, [c for c in df.columns if col_filter_fun(c)]]\n",
    "\n",
    "    # Normalize by columns (by loci across all donors)\n",
    "    df = ((df - np.min(df, axis=0))/(np.max(df, axis=0) - np.min(df, axis=0)))\n",
    "    plot_donors_heatmap(\"[{}]: {}\".format(metric, tag), df, *args, **kw)"
   ]
  },
  {
   "cell_type": "code",
   "execution_count": null,
   "metadata": {
    "ExecuteTime": {
     "end_time": "2017-10-13T16:21:01.405754Z",
     "start_time": "2017-10-13T16:21:01.397817Z"
    },
    "collapsed": true
   },
   "outputs": [],
   "source": [
    "# Not pathways:{k for k,v in signal_dfs_by_loci.keys() if not k.startswith(\"R\")}"
   ]
  },
  {
   "cell_type": "markdown",
   "metadata": {},
   "source": [
    "### All signal @ CGI"
   ]
  },
  {
   "cell_type": "code",
   "execution_count": null,
   "metadata": {
    "ExecuteTime": {
     "end_time": "2017-10-13T18:07:21.509226Z",
     "start_time": "2017-10-13T18:07:18.981778Z"
    },
    "collapsed": true
   },
   "outputs": [],
   "source": [
    "for norm in [\"raw\", \"rpkm\", \"rpm\"]:\n",
    "    plot_signal_heatmap(\"ucsc_cpgIslandExt.hg19\", norm, signal_dfs_by_loci, \n",
    "                        #col_filter_fun=lambda x: x == \"meth\",\n",
    "                        row_cluster=False, col_cluster=False)"
   ]
  },
  {
   "cell_type": "markdown",
   "metadata": {},
   "source": [
    "### All signal @ (DMR, 14_TssBiv, 15_Enh_Biv)"
   ]
  },
  {
   "cell_type": "code",
   "execution_count": null,
   "metadata": {
    "ExecuteTime": {
     "end_time": "2017-10-13T16:34:20.800893Z",
     "start_time": "2017-10-13T16:34:13.634002Z"
    },
    "collapsed": true,
    "scrolled": false
   },
   "outputs": [],
   "source": [
    "for loci in ['cd14_chromhmm.hg19.14_TssBiv', 'cd14_chromhmm.hg19.15_EnhBiv', \"washu_german_rrbs_filtered_dmrs_all_10.hg19\"]:\n",
    "    for norm in [\"raw\", \"rpkm\", \"rpm\"]:\n",
    "        plot_signal_heatmap(loci, norm, signal_dfs_by_loci, \n",
    "                            col_filter_fun=lambda x: x == \"H3K4me1\",\n",
    "                            row_cluster=True, col_cluster=False)"
   ]
  },
  {
   "cell_type": "markdown",
   "metadata": {},
   "source": [
    "### H3K3me1 signal @ loci"
   ]
  },
  {
   "cell_type": "code",
   "execution_count": null,
   "metadata": {
    "ExecuteTime": {
     "end_time": "2017-10-17T17:55:05.068956Z",
     "start_time": "2017-10-17T17:55:05.042283Z"
    },
    "collapsed": true
   },
   "outputs": [],
   "source": [
    "for norm in [\"raw\", \"rpkm\", \"rpm\"]:\n",
    "    plot_signal_heatmap(\"H3K4me1\", norm, signal_dfs_by_datatype, \n",
    "                        col_filter_fun=lambda loci: not loci.startswith(\"R-HSA\"),\n",
    "                        row_cluster=False, col_cluster=True,\n",
    "                        figsize=(24, 10))"
   ]
  },
  {
   "cell_type": "markdown",
   "metadata": {},
   "source": [
    "### Every data type @ ChromHMM"
   ]
  },
  {
   "cell_type": "code",
   "execution_count": null,
   "metadata": {
    "collapsed": true
   },
   "outputs": [],
   "source": [
    "for norm in [\"raw\", \"rpkm\", \"rpm\"]:\n",
    "    for histmod in {k for k,v in signal_dfs_by_datatype.keys()}:\n",
    "        display(norm + \":\" + histmod)\n",
    "        plot_signal_heatmap(histmod, norm, signal_dfs_by_datatype, \n",
    "                            col_filter_fun=lambda loci: loci.startswith(\"cd14_chromhmm\"),\n",
    "                            row_cluster=False, col_cluster=False)"
   ]
  },
  {
   "cell_type": "markdown",
   "metadata": {},
   "source": [
    "## Stat testing"
   ]
  },
  {
   "cell_type": "code",
   "execution_count": null,
   "metadata": {
    "ExecuteTime": {
     "end_time": "2017-10-17T07:50:08.446485Z",
     "start_time": "2017-10-17T07:50:08.419959Z"
    },
    "collapsed": true
   },
   "outputs": [],
   "source": [
    "signal_root"
   ]
  },
  {
   "cell_type": "code",
   "execution_count": null,
   "metadata": {
    "ExecuteTime": {
     "end_time": "2017-10-16T14:50:13.686754Z",
     "start_time": "2017-10-16T14:46:23.463334Z"
    },
    "collapsed": true
   },
   "outputs": [],
   "source": [
    "from scipy.stats import mannwhitneyu\n",
    "from statsmodels.stats.multitest import multipletests\n",
    "\n",
    "signal_pvalues = defaultdict(list)\n",
    "missed_files = []\n",
    "problem_files = []\n",
    "ha = \"two-sided\" # 'less', 'two-sided', or 'greater'\n",
    "data_type_paths = [p for p in signal_root.iterdir() if p.is_dir()]\n",
    "for i, data_type_path in enumerate(data_type_paths, 1):\n",
    "    data_type = data_type_path.name\n",
    "    print(\"\\n[{}/{}] Processing: {}\".format(i, len(data_type_paths), data_type))\n",
    "    \n",
    "    for j, loci_path in enumerate(p for p in data_type_path.iterdir() if p.is_dir()):\n",
    "        loci = loci_path.name\n",
    "        print(\".\", end=\"\")\n",
    "\n",
    "        pvalues = {}\n",
    "        signal_normalizations = [\"raw\", \"rpkm\", \"rpm\"]\n",
    "        for norm in signal_normalizations:\n",
    "            files = [p for p in loci_path.glob(\"**/*_{}_data.csv\".format(norm))]\n",
    "            \n",
    "            assert len(files) <= 1, \"{}@{} [{}] Expected one file, but was {}: {}\".format(\n",
    "                data_type, loci, norm, len(files), files\n",
    "            )\n",
    "            if not len(files):\n",
    "                missed_files.append(\"{}@{} [{}]\".format(data_type, loci, norm))\n",
    "                continue\n",
    "            \n",
    "            file = files[0]\n",
    "            df = pd.DataFrame.from_csv(file , header=None)\n",
    "            df_ods = df.loc[[d for d in df.index if d.startswith(\"o\")],:]\n",
    "            df_yds = df.loc[[d for d in df.index if d.startswith(\"y\")],:]\n",
    "            try:\n",
    "                pvalue = mannwhitneyu(df_ods.iloc[:,0], df_yds.iloc[:,0],\n",
    "                                      alternative=ha).pvalue\n",
    "            except ValueError as e:\n",
    "                print(\"Error: {} in file:\\n{}\".format(e, file))\n",
    "                problem_files.append(file)    \n",
    "            pvalues[norm] = pvalue\n",
    "\n",
    "        signal_pvalues[\"name\"].append(\"{}@{}\".format(data_type, loci))    \n",
    "        for norm in signal_normalizations:\n",
    "            signal_pvalues[norm].append(pvalues.get(norm, np.nan)) #1.0\n",
    "\n",
    "print(\"Missed files: \", len(missed_files))\n",
    "print(\"  first 10:\", *missed_files[0:10])\n",
    "print(\"Errors occurred in files: \", len(problem_files))\n",
    "print(\"  first 10:\", *problem_files[0:10])\n",
    "\n",
    "signal_pvalues_df = pd.DataFrame.from_dict(signal_pvalues)\n",
    "signal_pvalues_df.to_csv(str(results_dir / \"signal_pvalues.csv\"))\n",
    "\n",
    "print(\"Processed hypothesis:\", len(signal_pvalues_df))\n",
    "signal_pvalues_df.head(10)"
   ]
  },
  {
   "cell_type": "code",
   "execution_count": null,
   "metadata": {
    "collapsed": true
   },
   "outputs": [],
   "source": [
    "signal_pvalues_df.index = signal_pvalues_df.name\n",
    "signal_pvalues_df.drop(\"name\", inplace=True, axis=1)\n",
    "\n",
    "print(\"Not corrected pval, first 10 lowerest pvalues:\")\n",
    "signal_pvalues_df[\"min\"] = signal_pvalues_df.min(axis=1)\n",
    "signal_pvalues_df.sort_values(by=\"min\").head(10)"
   ]
  },
  {
   "cell_type": "code",
   "execution_count": null,
   "metadata": {
    "collapsed": true
   },
   "outputs": [],
   "source": [
    "def manhattan_plot(pvalues_df, correction=\"Uncorrected\"):\n",
    "    plt.figure(figsize=(10,10))\n",
    "    for i, norm in enumerate([\"raw\", \"rpkm\", \"rpm\"], 1):\n",
    "        n = pvalues_df.shape[0]\n",
    "        ax = plt.subplot(2, 2, i)\n",
    "        #plt.plot(range(n), -np.log10(pvalues_df[\"raw\"]), marker=\".\", ls=\"\")\n",
    "        #ax.hlines(y=-np.log10(0.05), xmin=0, xmax=n, color=\"r\", linestyle='dotted')\n",
    "        ax.plot(range(n), 1/pvalues_df[norm], marker=\".\", ls=\"\")\n",
    "        ax.axhline(y=-np.log10(0.05), xmin=0, xmax=n, color=\"r\", linestyle='dotted')\n",
    "        ax.set_ylabel(\"{} pvalues (-log(p) scale )\".format(correction))\n",
    "        ax.set_yscale(\"log\")\n",
    "        ax.set_title(\"[{}] Mann whitney u test pvalues\".format(norm))\n",
    "    plt.show()"
   ]
  },
  {
   "cell_type": "code",
   "execution_count": null,
   "metadata": {
    "collapsed": true
   },
   "outputs": [],
   "source": [
    "manhattan_plot(signal_pvalues_df)"
   ]
  },
  {
   "cell_type": "code",
   "execution_count": null,
   "metadata": {
    "ExecuteTime": {
     "end_time": "2017-10-16T14:28:20.964061Z",
     "start_time": "2017-10-16T14:28:20.946406Z"
    },
    "collapsed": true
   },
   "outputs": [],
   "source": [
    "# P-values correction\n",
    "#\n",
    "# see: http://www.statsmodels.org/dev/_modules/statsmodels/stats/multitest.html\n",
    "signal_pvalues_bh_df = signal_pvalues_df.copy().drop(\"min\", axis=1)\n",
    "for c in signal_pvalues_bh_df.columns:\n",
    "    pvals = signal_pvalues_bh_df.loc[:, c]\n",
    "    pvals_not_nan_mask = ~np.isnan(pvals)\n",
    "    pvals_not_nan = pvals[pvals_not_nan_mask]\n",
    "    _reject, pvals_corrected, *_ = multipletests(pvals=pvals_not_nan, \n",
    "                                                 alpha=0.05, method=\"fdr_bh\") #fdr_bh, holm-sidak, bonferroni \n",
    "    signal_pvalues_bh_df.loc[pvals_not_nan_mask, c] = pvals_corrected\n",
    "#     _reject, pvals_corrected, *_ = multipletests(pvals=signal_pvalues_df.loc[:, c], \n",
    "#                                                  alpha=0.05, method=\"fdr_bh\")\n",
    "#     df_fdr_bh[c] = pvals_corrected\n",
    "    \n",
    "signal_pvalues_bh_df[\"min\"] = signal_pvalues_bh_df.min(axis=1, skipna=True)\n",
    "signal_pvalues_bh_sorted_df = signal_pvalues_bh_df.sort_values(by=\"min\")"
   ]
  },
  {
   "cell_type": "code",
   "execution_count": null,
   "metadata": {
    "collapsed": true
   },
   "outputs": [],
   "source": [
    "manhattan_plot(signal_pvalues_bh_sorted_df, \"Benjamini–Hochberg corrected\")"
   ]
  },
  {
   "cell_type": "code",
   "execution_count": null,
   "metadata": {
    "collapsed": true
   },
   "outputs": [],
   "source": [
    "signal_pvalues_bh_sorted_df_005 = signal_pvalues_bh_sorted_df[signal_pvalues_bh_sorted_df[\"min\"] < 0.05]\n",
    "print(\"Passing FDR 0.05 by any metric:\", len(signal_pvalues_bh_sorted_df_005))\n",
    "signal_pvalues_bh_sorted_df_005.head(10)"
   ]
  },
  {
   "cell_type": "code",
   "execution_count": null,
   "metadata": {
    "collapsed": true
   },
   "outputs": [],
   "source": [
    "signal_pvalues_df.loc[signal_pvalues_bh_sorted_df_005.head(10).index, :]"
   ]
  },
  {
   "cell_type": "code",
   "execution_count": null,
   "metadata": {
    "collapsed": true
   },
   "outputs": [],
   "source": [
    "print(\"Corrected, first 10 lowerest pvalues:\")\n",
    "display(signal_pvalues_bh_sorted_df.head(10))\n",
    "\n",
    "print(\"Same records, but original pvalues:\")\n",
    "display(signal_pvalues_df.loc[signal_pvalues_bh_sorted_df.head(10).index, :])"
   ]
  },
  {
   "cell_type": "code",
   "execution_count": null,
   "metadata": {
    "collapsed": true
   },
   "outputs": [],
   "source": [
    "np.min(signal_pvalues_bh_sorted_df[\"raw\"]), np.max(signal_pvalues_bh_sorted_df[\"raw\"])"
   ]
  },
  {
   "cell_type": "code",
   "execution_count": null,
   "metadata": {
    "collapsed": true
   },
   "outputs": [],
   "source": [
    "print(\"Corrected, dmr related pvalues:\")\n",
    "signal_pvalues_bh_sorted_df.loc[signal_pvalues_bh_sorted_df.index.str.contains(\"dmr\"), :]"
   ]
  }
 ],
 "metadata": {
  "kernelspec": {
   "display_name": "Python 3",
   "language": "python",
   "name": "python3"
  },
  "language_info": {
   "codemirror_mode": {
    "name": "ipython",
    "version": 3
   },
   "file_extension": ".py",
   "mimetype": "text/x-python",
   "name": "python",
   "nbconvert_exporter": "python",
   "pygments_lexer": "ipython3",
   "version": "3.6.1"
  },
  "toc": {
   "nav_menu": {
    "height": "48px",
    "width": "252px"
   },
   "number_sections": true,
   "sideBar": true,
   "skip_h1_title": false,
   "toc_cell": false,
   "toc_position": {
    "height": "698px",
    "left": "0px",
    "right": "1124px",
    "top": "106px",
    "width": "268px"
   },
   "toc_section_display": "block",
   "toc_window_display": true
  },
  "varInspector": {
   "cols": {
    "lenName": 16,
    "lenType": 16,
    "lenVar": 40
   },
   "kernels_config": {
    "python": {
     "delete_cmd_postfix": "",
     "delete_cmd_prefix": "del ",
     "library": "var_list.py",
     "varRefreshCmd": "print(var_dic_list())"
    },
    "r": {
     "delete_cmd_postfix": ") ",
     "delete_cmd_prefix": "rm(",
     "library": "var_list.r",
     "varRefreshCmd": "cat(var_dic_list()) "
    }
   },
   "types_to_exclude": [
    "module",
    "function",
    "builtin_function_or_method",
    "instance",
    "_Feature"
   ],
   "window_display": false
  }
 },
 "nbformat": 4,
 "nbformat_minor": 2
}
