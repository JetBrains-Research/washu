{
 "cells": [
  {
   "cell_type": "markdown",
   "metadata": {},
   "source": [
    "# Notebook K4me1 20vs20 analysis"
   ]
  },
  {
   "cell_type": "code",
   "execution_count": null,
   "metadata": {
    "collapsed": true
   },
   "outputs": [],
   "source": [
    "%matplotlib inline\n",
    "%run ~/work/washu/bed/bedtrace.py\n",
    "import matplotlib.pyplot as plt"
   ]
  },
  {
   "cell_type": "markdown",
   "metadata": {},
   "source": [
    "# Diffbind data preparation 10vs10\n",
    "Use the following cmd to prepare config for DiffBind: \n",
    "\n",
    "```\n",
    "bash ~/work/washu/analysis/diffbind_config.sh k4me1_10vs10_reseq_bams k4me1_10vs10_reseq_bams_macs_broad_0.1 |\\\n",
    "    sed 's#/home/user/nfsexport#/mnt/stripe#g' > k4me1_10vs10_reseq_diff/k4me1_10vs10_diff.csv\n",
    "```"
   ]
  },
  {
   "cell_type": "markdown",
   "metadata": {},
   "source": [
    "# Load peaks from Diffbind config"
   ]
  },
  {
   "cell_type": "code",
   "execution_count": null,
   "metadata": {
    "collapsed": false
   },
   "outputs": [],
   "source": [
    "import pandas as pd\n",
    "\n",
    "def load(path):\n",
    "    db = pd.read_csv(path, sep=',')\n",
    "\n",
    "    YDS={}\n",
    "    for index, row in db[db['Condition'] == 'Y'].iterrows():\n",
    "        peaks = row['Peaks'].replace('.xls', '.broadPeak')\n",
    "        YDS[row['SampleID']] = Bed(peaks)\n",
    "    print ('K27ac YDS: {}'.format(len(YDS)))\n",
    "    for k, v in YDS.items():\n",
    "        print('{}: {}'.format(k, v.count()))    \n",
    "\n",
    "    ODS={}\n",
    "    for index, row in db[db['Condition'] == 'O'].iterrows():\n",
    "        peaks = row['Peaks'].replace('.xls', '.broadPeak')\n",
    "        ODS[row['SampleID']] = Bed(peaks)\n",
    "    print('K27ac ODS: {}'.format(len(ODS)))\n",
    "    for k, v in ODS.items():\n",
    "        print('{}: {}'.format(k, v.count()))    \n",
    "    return YDS, ODS\n",
    "\n",
    "FOLDER='/mnt/stripe/bio/raw-data/aging/Y10OD10/chipseq/processed/k4me1_10vs10_reseq_bams_macs_broad_0.01_difference'\n",
    "K4me1_YDS, K4me1_ODS = load(FOLDER+'/k4me1_unit809.csv')"
   ]
  },
  {
   "cell_type": "markdown",
   "metadata": {},
   "source": [
    "# Peaks distribution"
   ]
  },
  {
   "cell_type": "code",
   "execution_count": null,
   "metadata": {
    "collapsed": false
   },
   "outputs": [],
   "source": [
    "import numpy as np\n",
    "\n",
    "def intersect_peaks(YDS, ODS):\n",
    "    YD_intersection = intersect(*YDS.values())\n",
    "    OD_intersection = intersect(*ODS.values())\n",
    "    YD_OD_intersection = intersect(YD_intersection, OD_intersection)\n",
    "    metapeaks({'Young donors': YD_intersection, 'Old donors': OD_intersection})\n",
    "    plt.show()\n",
    "   \n",
    "    N = len(YDS) + len(ODS)\n",
    "    ind=np.arange(N)\n",
    "\n",
    "    common_peaks = [YD_OD_intersection.count()] * N \n",
    "    group_specific = [YD_intersection.count() - YD_OD_intersection.count()] * len(YDS) +\\\n",
    "                    [OD_intersection.count() - YD_OD_intersection.count()] * len(ODS)\n",
    "    sample_specific = []\n",
    "    names = []\n",
    "    for k, v in YDS.items():\n",
    "        sample_specific.append(v.count() - YD_intersection.count())\n",
    "        names.append(k)\n",
    "    for k, v in ODS.items():\n",
    "        sample_specific.append(v.count() - OD_intersection.count())\n",
    "        names.append(k)\n",
    "    \n",
    "    plt.figure(figsize=(20,15))\n",
    "    width=0.35\n",
    "    p1 = plt.bar(ind, common_peaks, width, color='green')\n",
    "    p2 = plt.bar(ind, group_specific, width, bottom=common_peaks, color='blue')\n",
    "    p3 = plt.bar(ind, sample_specific, width, bottom=np.sum([common_peaks,group_specific], axis=0), color='red')\n",
    "    plt.ylabel('Peaks')\n",
    "    plt.xticks(ind, names)\n",
    "    plt.legend((p1[0], p2[0], p3[0]), ('Common', 'Group', 'Individual'))\n",
    "    plt.show()"
   ]
  },
  {
   "cell_type": "markdown",
   "metadata": {},
   "source": [
    "# K4me1 10vs10"
   ]
  },
  {
   "cell_type": "code",
   "execution_count": null,
   "metadata": {
    "collapsed": false
   },
   "outputs": [],
   "source": [
    "intersect_peaks(K4me1_YDS, K4me1_ODS)"
   ]
  },
  {
   "cell_type": "code",
   "execution_count": null,
   "metadata": {
    "collapsed": false
   },
   "outputs": [],
   "source": [
    "# Filter out tracks with bad quality\n",
    "intersect_peaks({k:K4me1_YDS[k] for k in K4me1_YDS.keys() if k not in ['YD14']}, K4me1_ODS)"
   ]
  },
  {
   "cell_type": "markdown",
   "metadata": {},
   "source": [
    "# VS ENCODE"
   ]
  },
  {
   "cell_type": "code",
   "execution_count": null,
   "metadata": {
    "collapsed": false
   },
   "outputs": [],
   "source": [
    "# CD14 K4me1 broad peaks accesible from IGV\n",
    "# https://www.encodeproject.org/files/ENCFF001TAJ/@@download/ENCFF001TAJ.bed.gz\n",
    "K4ME1_PEAKS = '/mnt/stripe/bio/raw-data/aging/peaks_k4me1_analysis/peaks_k4me1_macs_broad_0.1'\n",
    "ENCODE_1=Bed(K4ME1_PEAKS + '/Broad_1_ENCFF000CDL_hg19_broad_0.1_peaks.broadPeak')\n",
    "ENCODE_2=Bed(K4ME1_PEAKS + '/Broad_2_ENCFF000CDK_hg19_broad_0.1_peaks.broadPeak')\n",
    "metapeaks({'ENCODE_1': ENCODE_1, 'ENCODE_2': ENCODE_2, \n",
    "           'IGV K4me1': Bed('/Users/oleg/Desktop/peaks_k4me1/peaks_k4me1/ENCFF001TAJ.bed')})\n",
    "plt.show()           \n",
    "\n",
    "# Intersection\n",
    "YD_PEAKS = intersect(*[K4me1_YDS[k] for k in K4me1_YDS.keys() if k not in ['YD14']])\n",
    "OD_PEAKS = intersect(*K4me1_ODS.values())\n",
    "metapeaks({'ENCODE_1': ENCODE_1, 'ENCODE_2': ENCODE_2, 'YD_intersection': YD_PEAKS})\n",
    "plt.show()\n",
    "metapeaks({'ENCODE_1': ENCODE_1, 'ENCODE_2': ENCODE_2, 'OD_intersection': OD_PEAKS})\n",
    "plt.show()\n",
    "\n",
    "# Union\n",
    "YD_PEAKS_UNION = union(*[K4me1_YDS[k] for k in K4me1_YDS.keys() if k not in ['YD14']])\n",
    "OD_PEAKS_UNION = union(*K4me1_ODS.values())\n",
    "metapeaks({'OD_union': OD_PEAKS_UNION, 'YD_union': YD_PEAKS_UNION})\n",
    "plt.show()\n",
    "metapeaks({'ENCODE_1': ENCODE_1, 'ENCODE_2': ENCODE_2, \n",
    "           'YD and OD union': union(YD_PEAKS_UNION, OD_PEAKS_UNION)})\n",
    "plt.show()\n"
   ]
  },
  {
   "cell_type": "code",
   "execution_count": null,
   "metadata": {
    "collapsed": true
   },
   "outputs": [],
   "source": []
  }
 ],
 "metadata": {
  "kernelspec": {
   "display_name": "Python 3",
   "language": "python",
   "name": "python3"
  },
  "language_info": {
   "codemirror_mode": {
    "name": "ipython",
    "version": 3
   },
   "file_extension": ".py",
   "mimetype": "text/x-python",
   "name": "python",
   "nbconvert_exporter": "python",
   "pygments_lexer": "ipython3",
   "version": "3.5.1"
  }
 },
 "nbformat": 4,
 "nbformat_minor": 0
}
