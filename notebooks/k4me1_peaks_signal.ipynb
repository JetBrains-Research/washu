{
 "cells": [
  {
   "cell_type": "markdown",
   "metadata": {},
   "source": [
    "# k4me1 signal in peaks processing\n",
    "\n",
    "Pipeline for the input files:\n",
    "* Remove duplicates from BAM files\n",
    "* Build sorted BDG files\n",
    "* Launch the following to get signal in peaks\n",
    "```\n",
    "cd k4me1_20vs20_reseq_bams_unique_bws\n",
    "CMD=\"\"\n",
    "for F in $(ls *.bdg | grep -v input | grep -v YD14); do \n",
    "    NAME=${F%%_R1*}; \n",
    "    CMD=\"$CMD $NAME $F\"; \n",
    "done\n",
    "python ~/work/washu/analysis/peaks_signal.py --regions ../k4me1_20vs20_reseq_bams_peaks_union/YO_macs_broad_0.1.bed --out output --bedgraphs $CMD\n",
    "```"
   ]
  },
  {
   "cell_type": "code",
   "execution_count": 1,
   "metadata": {
    "collapsed": true
   },
   "outputs": [],
   "source": [
    "import argparse\n",
    "import os\n",
    "import pandas as pd\n",
    "import numpy as np\n",
    "from bed.bedtrace import run, Bed"
   ]
  },
  {
   "cell_type": "code",
   "execution_count": 61,
   "metadata": {
    "collapsed": true
   },
   "outputs": [],
   "source": [
    "%matplotlib inline\n",
    "import matplotlib.pyplot as plt\n",
    "from sklearn import datasets\n",
    "from sklearn.decomposition import PCA\n",
    "\n",
    "def signal_pca(signal, title):\n",
    "    pca = PCA(n_components=2)\n",
    "    signal_r = pca.fit(signal).transform(signal)\n",
    "    print('explained variance ratio: {}'.format(pca.explained_variance_ratio_))\n",
    "\n",
    "    ODS=np.asarray([n.startswith('OD') for n in signal.index])\n",
    "    YDS=np.asarray([n.startswith('YD') for n in signal.index])\n",
    "\n",
    "    plt.figure()\n",
    "    plt.scatter(signal_r[YDS, 0], signal_r[YDS, 1] , color='red', alpha=.8, label='YD')\n",
    "    plt.scatter(signal_r[ODS, 0], signal_r[ODS, 1] , color='blue', alpha=.8, label='OD')\n",
    "    plt.title(title)\n",
    "    plt.show()\n",
    "    print('\\n'.join([str(t) for t in zip(signal.index, signal_r)]))"
   ]
  },
  {
   "cell_type": "code",
   "execution_count": 62,
   "metadata": {
    "collapsed": false
   },
   "outputs": [
    {
     "name": "stdout",
     "output_type": "stream",
     "text": [
      "explained variance ratio: [ 0.6690533   0.13666314]\n"
     ]
    },
    {
     "data": {
      "image/png": "[encoded data removed]",
      "text/plain": [
       "<matplotlib.figure.Figure at 0x112969860>"
      ]
     },
     "metadata": {},
     "output_type": "display_data"
    },
    {
     "name": "stdout",
     "output_type": "stream",
     "text": [
      "('OD11', array([-175.91740438,  278.31132249]))\n",
      "('OD12', array([ -66.22424151, -120.46012235]))\n",
      "('OD13', array([ 495.63038725,  199.06382251]))\n",
      "('OD14', array([-117.10950527,  246.05096762]))\n",
      "('OD15', array([ 180.2756628 ,  229.76965936]))\n",
      "('OD16', array([-1373.90568487,   210.322131  ]))\n",
      "('OD17', array([-355.26489286, -202.69582564]))\n",
      "('OD18', array([ 591.43675136,   81.59227682]))\n",
      "('OD19', array([-177.70583885,  -10.37857318]))\n",
      "('OD20', array([ 392.837316  ,  116.45156655]))\n",
      "('OD4', array([-281.68322767,  138.76248252]))\n",
      "('OD5', array([ -70.48386068, -326.5286116 ]))\n",
      "('OD6', array([ 335.12024662,  -19.4815342 ]))\n",
      "('OD7', array([  97.70756913, -110.66392939]))\n",
      "('OD8', array([ 501.10351101, -165.22988386]))\n",
      "('OD9', array([-348.9356387 , -127.32418748]))\n",
      "('YD10', array([-321.27075358, -839.45299303]))\n",
      "('YD11', array([ 613.70383513,   39.24198274]))\n",
      "('YD12', array([ 128.25951427,  -21.32139022]))\n",
      "('YD15', array([ -96.74510914, -153.38326397]))\n",
      "('YD16', array([ 472.49841728,   53.66258712]))\n",
      "('YD17', array([ 51.01456984,  41.52541582]))\n",
      "('YD18', array([-213.06575536,  -50.9104967 ]))\n",
      "('YD19', array([ 276.38124543,   58.22823728]))\n",
      "('YD20', array([ 211.50872901,  217.47657571]))\n",
      "('YD5', array([-1368.79869574,   217.20020797]))\n",
      "('YD6', array([ 640.40259459,   79.39089474]))\n",
      "('YD7', array([-266.86714717,   31.66091686]))\n",
      "('YD8', array([ 275.1251935 , -103.29841436]))\n",
      "('YD9', array([-29.02778743,  12.41817885]))\n"
     ]
    }
   ],
   "source": [
    "FOLDER = '/Volumes/WD/scratch/artyomov_lab_aging/Y10OD10/chipseq/processed/k4me1/k4me1_peaks_signal/'\n",
    "signal_df = pd.read_csv(FOLDER + 'YO_macs_broad_0.1_rpkm.csv')\n",
    "signal = signal_df.drop(['chr', 'start', 'end', 'OD10'], axis=1).transpose()\n",
    "signal_pca(signal, 'RPKM')"
   ]
  },
  {
   "cell_type": "code",
   "execution_count": 63,
   "metadata": {
    "collapsed": false
   },
   "outputs": [
    {
     "name": "stdout",
     "output_type": "stream",
     "text": [
      "explained variance ratio: [ 0.93388025  0.0304574 ]\n"
     ]
    },
    {
     "data": {
      "image/png": "[encoded data removed]",
      "text/plain": [
       "<matplotlib.figure.Figure at 0x1130c2240>"
      ]
     },
     "metadata": {},
     "output_type": "display_data"
    },
    {
     "name": "stdout",
     "output_type": "stream",
     "text": [
      "('OD11', array([-1871.25543234,   -56.12713444]))\n",
      "('OD12', array([-193.59591998, -677.82942972]))\n",
      "('OD13', array([ 4944.09918017,   804.45100883]))\n",
      "('OD14', array([-1703.32260055,  1161.15215565]))\n",
      "('OD15', array([ 1351.41432582,   763.29399545]))\n",
      "('OD16', array([-15127.25480281,    332.35116556]))\n",
      "('OD17', array([-3842.56512686, -1366.25377346]))\n",
      "('OD18', array([ 6055.69851962,   490.4529314 ]))\n",
      "('OD19', array([-1945.12672539,  -654.17651464]))\n",
      "('OD20', array([ 4016.16532225,   722.68104392]))\n",
      "('OD4', array([-2999.20090728,   478.86239107]))\n",
      "('OD5', array([  169.34834618, -1464.44942765]))\n",
      "('OD6', array([ 3335.56856306,   589.92373613]))\n",
      "('OD7', array([ 1314.94158607,  -455.36879807]))\n",
      "('OD8', array([  5.62010132e+03,  -4.15227420e+00]))\n",
      "('OD9', array([-3432.77609299,  -886.98001315]))\n",
      "('YD10', array([-1715.33460505, -2546.3500692 ]))\n",
      "('YD11', array([ 6397.75779567,   498.64016534]))\n",
      "('YD12', array([ 1339.20756956,    70.17689964]))\n",
      "('YD15', array([-1362.92229852,  -315.90368599]))\n",
      "('YD16', array([ 4985.31966934,   626.75753585]))\n",
      "('YD17', array([ 378.21286212,  544.40188474]))\n",
      "('YD18', array([-2048.38613059, -1360.95962398]))\n",
      "('YD19', array([ 2767.80535118,   220.39171226]))\n",
      "('YD20', array([ 2034.53263228,   536.92052803]))\n",
      "('YD5', array([-15316.29341658,   2244.54176318]))\n",
      "('YD6', array([ 6654.53506901,   674.08218065]))\n",
      "('YD7', array([-2480.92044182,  -413.20463273]))\n",
      "('YD8', array([ 3073.73226496,  -172.5558876 ]))\n",
      "('YD9', array([-399.48588   , -384.76983287]))\n"
     ]
    }
   ],
   "source": [
    "signal_df = pd.read_csv(FOLDER + 'YO_macs_broad_0.1_by_mln.csv')\n",
    "signal = signal_df.drop(['chr', 'start', 'end', 'OD10'], axis=1).transpose()\n",
    "signal_pca(signal, 'By mln')"
   ]
  },
  {
   "cell_type": "code",
   "execution_count": 64,
   "metadata": {
    "collapsed": false
   },
   "outputs": [
    {
     "name": "stdout",
     "output_type": "stream",
     "text": [
      "explained variance ratio: [ 0.93388025  0.0304574 ]\n"
     ]
    },
    {
     "data": {
      "image/png": "[encoded data removed]",
      "text/plain": [
       "<matplotlib.figure.Figure at 0x112a6d048>"
      ]
     },
     "metadata": {},
     "output_type": "display_data"
    },
    {
     "name": "stdout",
     "output_type": "stream",
     "text": [
      "('OD11', array([-1871.25543234,   -56.12713444]))\n",
      "('OD12', array([-193.59591998, -677.82942972]))\n",
      "('OD13', array([ 4944.09918017,   804.45100883]))\n",
      "('OD14', array([-1703.32260055,  1161.15215565]))\n",
      "('OD15', array([ 1351.41432582,   763.29399545]))\n",
      "('OD16', array([-15127.25480281,    332.35116556]))\n",
      "('OD17', array([-3842.56512686, -1366.25377346]))\n",
      "('OD18', array([ 6055.69851962,   490.4529314 ]))\n",
      "('OD19', array([-1945.12672539,  -654.17651464]))\n",
      "('OD20', array([ 4016.16532225,   722.68104392]))\n",
      "('OD4', array([-2999.20090728,   478.86239107]))\n",
      "('OD5', array([  169.34834618, -1464.44942765]))\n",
      "('OD6', array([ 3335.56856306,   589.92373613]))\n",
      "('OD7', array([ 1314.94158607,  -455.36879807]))\n",
      "('OD8', array([  5.62010132e+03,  -4.15227420e+00]))\n",
      "('OD9', array([-3432.77609299,  -886.98001315]))\n",
      "('YD10', array([-1715.33460505, -2546.3500692 ]))\n",
      "('YD11', array([ 6397.75779567,   498.64016534]))\n",
      "('YD12', array([ 1339.20756956,    70.17689964]))\n",
      "('YD15', array([-1362.92229852,  -315.90368599]))\n",
      "('YD16', array([ 4985.31966934,   626.75753585]))\n",
      "('YD17', array([ 378.21286212,  544.40188474]))\n",
      "('YD18', array([-2048.38613059, -1360.95962398]))\n",
      "('YD19', array([ 2767.80535118,   220.39171226]))\n",
      "('YD20', array([ 2034.53263228,   536.92052803]))\n",
      "('YD5', array([-15316.29341658,   2244.54176318]))\n",
      "('YD6', array([ 6654.53506901,   674.08218065]))\n",
      "('YD7', array([-2480.92044182,  -413.20463273]))\n",
      "('YD8', array([ 3073.73226496,  -172.5558876 ]))\n",
      "('YD9', array([-399.48588   , -384.76983287]))\n"
     ]
    }
   ],
   "source": [
    "signal_df = pd.read_csv(FOLDER + 'YO_macs_broad_0.1_by_mln.csv')\n",
    "signal = signal_df.drop(['chr', 'start', 'end', 'OD10'], axis=1).transpose()\n",
    "signal_pca(signal, 'By peaks mln')"
   ]
  },
  {
   "cell_type": "code",
   "execution_count": 65,
   "metadata": {
    "collapsed": false
   },
   "outputs": [
    {
     "name": "stdout",
     "output_type": "stream",
     "text": [
      "explained variance ratio: [ 0.93588404  0.02617375]\n"
     ]
    },
    {
     "data": {
      "image/png": "[encoded data removed]",
      "text/plain": [
       "<matplotlib.figure.Figure at 0x1129dac88>"
      ]
     },
     "metadata": {},
     "output_type": "display_data"
    },
    {
     "name": "stdout",
     "output_type": "stream",
     "text": [
      "('OD11', array([-1005420.41859019,  -169119.7080173 ]))\n",
      "('OD12', array([-162732.41409232, -101193.67007841]))\n",
      "('OD13', array([ 143314.38570618,  -17738.48363356]))\n",
      "('OD14', array([-1598003.69502081,   264695.76588204]))\n",
      "('OD15', array([-970309.45529445,  -35996.25297075]))\n",
      "('OD16', array([-1416814.67090926,    12220.25090867]))\n",
      "('OD17', array([ 406869.16800146,  -41825.32883668]))\n",
      "('OD18', array([ 901751.61750773,   20330.83312494]))\n",
      "('OD19', array([-208674.07452094, -169067.2308515 ]))\n",
      "('OD20', array([ 281725.20467689,   66037.52836903]))\n",
      "('OD4', array([-642442.23397051,   31195.12670836]))\n",
      "('OD5', array([ 382363.30902117,  -21150.77144316]))\n",
      "('OD6', array([ 541231.06932474,   75652.28774449]))\n",
      "('OD7', array([ 338885.74399858,  -48007.20473314]))\n",
      "('OD8', array([ 882246.32336134,   64642.73313762]))\n",
      "('OD9', array([ 46107.91130161, -29260.06939622]))\n",
      "('YD10', array([ 664564.91760409,  -15112.61959392]))\n",
      "('YD11', array([ 997558.0073725 ,   67816.70292511]))\n",
      "('YD12', array([ 206871.1906204 ,   51445.63243534]))\n",
      "('YD15', array([ 108737.35715683,   36290.49022326]))\n",
      "('YD16', array([ 608734.60215649,   87052.39431661]))\n",
      "('YD17', array([-194578.35261255,  144842.53428533]))\n",
      "('YD18', array([-196527.94281091, -247636.46807339]))\n",
      "('YD19', array([ 272377.17061052,  -37849.92504367]))\n",
      "('YD20', array([-224653.05896568, -118213.55588619]))\n",
      "('YD5', array([-712751.16464809,  269805.58958056]))\n",
      "('YD6', array([ 915809.8487459,   43447.09988  ]))\n",
      "('YD7', array([-666840.85506737, -127883.46219078]))\n",
      "('YD8', array([ 369043.21140886,   35436.8270396 ]))\n",
      "('YD9', array([-68442.70207221, -90857.04581227]))\n"
     ]
    }
   ],
   "source": [
    "signal_df = pd.read_csv(FOLDER + 'YO_macs_broad_0.1_raw.csv')\n",
    "signal = signal_df.drop(['chr', 'start', 'end', 'OD10'], axis=1).transpose()\n",
    "signal_pca(signal, 'Raw')"
   ]
  },
  {
   "cell_type": "code",
   "execution_count": null,
   "metadata": {
    "collapsed": true
   },
   "outputs": [],
   "source": []
  }
 ],
 "metadata": {
  "kernelspec": {
   "display_name": "Python 3",
   "language": "python",
   "name": "python3"
  },
  "language_info": {
   "codemirror_mode": {
    "name": "ipython",
    "version": 3
   },
   "file_extension": ".py",
   "mimetype": "text/x-python",
   "name": "python",
   "nbconvert_exporter": "python",
   "pygments_lexer": "ipython3",
   "version": "3.5.1"
  }
 },
 "nbformat": 4,
 "nbformat_minor": 0
}
