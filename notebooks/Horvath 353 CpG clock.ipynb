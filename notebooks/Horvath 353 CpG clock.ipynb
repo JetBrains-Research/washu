{
 "cells": [
  {
   "cell_type": "code",
   "execution_count": 191,
   "metadata": {
    "ExecuteTime": {
     "end_time": "2017-10-25T12:35:25.810095Z",
     "start_time": "2017-10-25T12:35:25.806114Z"
    },
    "collapsed": true
   },
   "outputs": [],
   "source": [
    "from pathlib import Path\n",
    "import pandas as pd\n",
    "import numpy as np\n",
    "import matplotlib.pyplot as plt"
   ]
  },
  {
   "cell_type": "markdown",
   "metadata": {},
   "source": [
    "# Find consensus CpG nucleotides"
   ]
  },
  {
   "cell_type": "code",
   "execution_count": 132,
   "metadata": {
    "ExecuteTime": {
     "end_time": "2017-10-25T11:32:38.487459Z",
     "start_time": "2017-10-25T11:32:38.483201Z"
    },
    "collapsed": true
   },
   "outputs": [],
   "source": [
    "n_consensus=40\n",
    "OUTDIR = Path(\"/mnt/stripe/bio/experiments/aging/cpg_clock\")\n",
    "CPG_CLOCK_COEF_FILE = OUTDIR/\"gb-2013-14-10-r115-S3.csv\""
   ]
  },
  {
   "cell_type": "code",
   "execution_count": 140,
   "metadata": {
    "ExecuteTime": {
     "end_time": "2017-10-25T11:51:05.549442Z",
     "start_time": "2017-10-25T11:51:05.417031Z"
    }
   },
   "outputs": [
    {
     "name": "stdout",
     "output_type": "stream",
     "text": [
      "\"These coefficient values relate CpGs to a transformed version of age, i.e. the linear combination of CpGs needs to be suitably transformed.\",,,,,,,,,,,,,,,,,,,,,,\r",
      "\r\n",
      ",,,,,,,,,,,,,,,,,,,,,,\r",
      "\r\n",
      "CpGmarker,CoefficientTraining,CoefficientTrainingShrunk,varByCpG,minByCpG,maxByCpG,medianByCpG,medianByCpGYoung,medianByCpGOld,Gene_ID,GenomeBuild,Chr,MapInfo,SourceVersion,TSS_Coordinate,Gene_Strand,Symbol,Synonym,Accession,GID,Annotation,Product,Marginal Age Relationship\r",
      "\r\n",
      "(Intercept),0.695507258,0.886919795,NA,NA,NA,NA,NA,NA,,,,,,,,,,,,,,\r",
      "\r\n",
      "cg00075967,0.12933661,0.108096063,0.026,0.016,0.97,0.75,0.72,0.75,64220,36,15,72282407,36.1,72282245,-,STRA6,PP14296; FLJ12541; ,NM_022369.2,GI:21314699,synonyms: PP14296; FLJ12541,stimulated by retinoic acid gene 6 homolog,positive\r",
      "\r\n"
     ]
    }
   ],
   "source": [
    "! head -n 5 {CPG_CLOCK_COEF_FILE}"
   ]
  },
  {
   "cell_type": "code",
   "execution_count": 138,
   "metadata": {
    "ExecuteTime": {
     "end_time": "2017-10-25T11:50:20.807381Z",
     "start_time": "2017-10-25T11:50:20.674856Z"
    }
   },
   "outputs": [
    {
     "name": "stdout",
     "output_type": "stream",
     "text": [
      "chrBase\tchr\tbase\tstrand\tcoverage\tfreqC\tfreqT\tnextBase\r\n",
      "chr1.10517\tchr1\t10517\tF\t281\t0.000\t100.000\tT\r\n",
      "chr1.10502\tchr1\t10502\tF\t278\t0.000\t100.000\tT\r\n",
      "chr1.10524\tchr1\t10524\tF\t281\t0.000\t100.000\tC\r\n",
      "chr1.10541\tchr1\t10541\tF\t281\t0.000\t100.000\tC\r\n"
     ]
    }
   ],
   "source": [
    "! head -n 5 /mnt/stripe/bio/raw-data/aging/Y20O20/rrbs/data_1st_batch/chg.OD6.mincov10.txt"
   ]
  },
  {
   "cell_type": "code",
   "execution_count": 139,
   "metadata": {
    "ExecuteTime": {
     "end_time": "2017-10-25T11:50:51.444740Z",
     "start_time": "2017-10-25T11:50:51.319036Z"
    }
   },
   "outputs": [
    {
     "name": "stdout",
     "output_type": "stream",
     "text": [
      "chr15\t74495354\t74495355\tcg00075967_STRA6\t-\r\n",
      "chr17\t66303145\t66303146\tcg00374717_ARSG\t+\r\n",
      "chr12\t80085268\t80085269\tcg00864867_PAWR\t-\r\n",
      "chr7\t54827677\t54827678\tcg00945507_SEC61G\t-\r\n",
      "chr9\t131842738\t131842739\tcg01027739_DOLPP1\t+\r\n"
     ]
    }
   ],
   "source": [
    "! head -n 5 /mnt/stripe/bio/raw-data/aging/loci_of_interest/cpg_clock_hg19.bed"
   ]
  },
  {
   "cell_type": "code",
   "execution_count": 14,
   "metadata": {
    "ExecuteTime": {
     "end_time": "2017-10-25T10:01:06.294877Z",
     "start_time": "2017-10-25T10:01:06.213414Z"
    }
   },
   "outputs": [
    {
     "name": "stdout",
     "output_type": "stream",
     "text": [
      "Prepare files...\n",
      "Already exists: /mnt/stripe/bio/experiments/aging/cpg_clock/chh.YD1.mincov10.txt.bed\n",
      "Already exists: /mnt/stripe/bio/experiments/aging/cpg_clock/chh.YD10.mincov10.txt.bed\n",
      "Already exists: /mnt/stripe/bio/experiments/aging/cpg_clock/chh.YD2.mincov10.txt.bed\n",
      "Already exists: /mnt/stripe/bio/experiments/aging/cpg_clock/chg.OD1.mincov10.txt.bed\n",
      "Already exists: /mnt/stripe/bio/experiments/aging/cpg_clock/chg.OD10.mincov10.txt.bed\n",
      "Already exists: /mnt/stripe/bio/experiments/aging/cpg_clock/chg.OD2.mincov10.txt.bed\n",
      "Already exists: /mnt/stripe/bio/experiments/aging/cpg_clock/chg.OD3.mincov10.txt.bed\n",
      "Already exists: /mnt/stripe/bio/experiments/aging/cpg_clock/chg.OD4.mincov10.txt.bed\n",
      "Already exists: /mnt/stripe/bio/experiments/aging/cpg_clock/chg.OD5.mincov10.txt.bed\n",
      "Already exists: /mnt/stripe/bio/experiments/aging/cpg_clock/chg.OD6.mincov10.txt.bed\n",
      "Already exists: /mnt/stripe/bio/experiments/aging/cpg_clock/chg.OD7.mincov10.txt.bed\n",
      "Already exists: /mnt/stripe/bio/experiments/aging/cpg_clock/chg.OD8.mincov10.txt.bed\n",
      "Already exists: /mnt/stripe/bio/experiments/aging/cpg_clock/chg.OD9.mincov10.txt.bed\n",
      "Already exists: /mnt/stripe/bio/experiments/aging/cpg_clock/chg.YD1.mincov10.txt.bed\n",
      "Already exists: /mnt/stripe/bio/experiments/aging/cpg_clock/chg.YD10.mincov10.txt.bed\n",
      "Already exists: /mnt/stripe/bio/experiments/aging/cpg_clock/chg.YD2.mincov10.txt.bed\n",
      "Already exists: /mnt/stripe/bio/experiments/aging/cpg_clock/chg.YD3.mincov10.txt.bed\n",
      "Already exists: /mnt/stripe/bio/experiments/aging/cpg_clock/chg.YD4.mincov10.txt.bed\n",
      "Already exists: /mnt/stripe/bio/experiments/aging/cpg_clock/chg.YD5.mincov10.txt.bed\n",
      "Already exists: /mnt/stripe/bio/experiments/aging/cpg_clock/chg.YD6.mincov10.txt.bed\n",
      "Already exists: /mnt/stripe/bio/experiments/aging/cpg_clock/chg.YD7.mincov10.txt.bed\n",
      "Already exists: /mnt/stripe/bio/experiments/aging/cpg_clock/chg.YD8.mincov10.txt.bed\n",
      "Already exists: /mnt/stripe/bio/experiments/aging/cpg_clock/chg.YD9.mincov10.txt.bed\n",
      "Already exists: /mnt/stripe/bio/experiments/aging/cpg_clock/chh.OD1.mincov10.txt.bed\n",
      "Already exists: /mnt/stripe/bio/experiments/aging/cpg_clock/chh.OD10.mincov10.txt.bed\n",
      "Already exists: /mnt/stripe/bio/experiments/aging/cpg_clock/chh.YD3.mincov10.txt.bed\n",
      "Already exists: /mnt/stripe/bio/experiments/aging/cpg_clock/chh.OD2.mincov10.txt.bed\n",
      "Already exists: /mnt/stripe/bio/experiments/aging/cpg_clock/chh.OD3.mincov10.txt.bed\n",
      "Already exists: /mnt/stripe/bio/experiments/aging/cpg_clock/chh.YD4.mincov10.txt.bed\n",
      "Already exists: /mnt/stripe/bio/experiments/aging/cpg_clock/chh.OD4.mincov10.txt.bed\n",
      "Already exists: /mnt/stripe/bio/experiments/aging/cpg_clock/chh.OD5.mincov10.txt.bed\n",
      "Already exists: /mnt/stripe/bio/experiments/aging/cpg_clock/chh.YD5.mincov10.txt.bed\n",
      "Already exists: /mnt/stripe/bio/experiments/aging/cpg_clock/chh.OD6.mincov10.txt.bed\n",
      "Already exists: /mnt/stripe/bio/experiments/aging/cpg_clock/chh.OD7.mincov10.txt.bed\n",
      "Already exists: /mnt/stripe/bio/experiments/aging/cpg_clock/chh.YD6.mincov10.txt.bed\n",
      "Already exists: /mnt/stripe/bio/experiments/aging/cpg_clock/chh.OD8.mincov10.txt.bed\n",
      "Already exists: /mnt/stripe/bio/experiments/aging/cpg_clock/chh.OD9.mincov10.txt.bed\n",
      "Already exists: /mnt/stripe/bio/experiments/aging/cpg_clock/chh.YD7.mincov10.txt.bed\n",
      "Already exists: /mnt/stripe/bio/experiments/aging/cpg_clock/chh.YD8.mincov10.txt.bed\n",
      "Already exists: /mnt/stripe/bio/experiments/aging/cpg_clock/chh.YD9.mincov10.txt.bed\n",
      "Already exists: /mnt/stripe/bio/experiments/aging/cpg_clock/cpg.OD1.mincov10.txt.bed\n",
      "Already exists: /mnt/stripe/bio/experiments/aging/cpg_clock/cpg.OD10.mincov10.txt.bed\n",
      "Already exists: /mnt/stripe/bio/experiments/aging/cpg_clock/cpg.OD2.mincov10.txt.bed\n",
      "Already exists: /mnt/stripe/bio/experiments/aging/cpg_clock/cpg.OD3.mincov10.txt.bed\n",
      "Already exists: /mnt/stripe/bio/experiments/aging/cpg_clock/cpg.OD4.mincov10.txt.bed\n",
      "Already exists: /mnt/stripe/bio/experiments/aging/cpg_clock/cpg.OD5.mincov10.txt.bed\n",
      "Already exists: /mnt/stripe/bio/experiments/aging/cpg_clock/cpg.OD6.mincov10.txt.bed\n",
      "Already exists: /mnt/stripe/bio/experiments/aging/cpg_clock/cpg.OD7.mincov10.txt.bed\n",
      "Already exists: /mnt/stripe/bio/experiments/aging/cpg_clock/cpg.OD8.mincov10.txt.bed\n",
      "Already exists: /mnt/stripe/bio/experiments/aging/cpg_clock/cpg.OD9.mincov10.txt.bed\n",
      "Already exists: /mnt/stripe/bio/experiments/aging/cpg_clock/cpg.YD1.mincov10.txt.bed\n",
      "Already exists: /mnt/stripe/bio/experiments/aging/cpg_clock/cpg.YD10.mincov10.txt.bed\n",
      "Already exists: /mnt/stripe/bio/experiments/aging/cpg_clock/cpg.YD2.mincov10.txt.bed\n",
      "Already exists: /mnt/stripe/bio/experiments/aging/cpg_clock/cpg.YD3.mincov10.txt.bed\n",
      "Already exists: /mnt/stripe/bio/experiments/aging/cpg_clock/cpg.YD4.mincov10.txt.bed\n",
      "Already exists: /mnt/stripe/bio/experiments/aging/cpg_clock/cpg.YD5.mincov10.txt.bed\n",
      "Already exists: /mnt/stripe/bio/experiments/aging/cpg_clock/cpg.YD6.mincov10.txt.bed\n",
      "Already exists: /mnt/stripe/bio/experiments/aging/cpg_clock/cpg.YD7.mincov10.txt.bed\n",
      "Already exists: /mnt/stripe/bio/experiments/aging/cpg_clock/cpg.YD8.mincov10.txt.bed\n",
      "Already exists: /mnt/stripe/bio/experiments/aging/cpg_clock/cpg.YD9.mincov10.txt.bed\n",
      "Already exists: /mnt/stripe/bio/experiments/aging/cpg_clock/chg.OD11.mincov10.txt.bed\n",
      "Already exists: /mnt/stripe/bio/experiments/aging/cpg_clock/chg.YD20.mincov10.txt.bed\n",
      "Already exists: /mnt/stripe/bio/experiments/aging/cpg_clock/chg.OD12.mincov10.txt.bed\n",
      "Already exists: /mnt/stripe/bio/experiments/aging/cpg_clock/chg.OD13.mincov10.txt.bed\n",
      "Already exists: /mnt/stripe/bio/experiments/aging/cpg_clock/chg.OD14.mincov10.txt.bed\n",
      "Already exists: /mnt/stripe/bio/experiments/aging/cpg_clock/chg.OD15.mincov10.txt.bed\n",
      "Already exists: /mnt/stripe/bio/experiments/aging/cpg_clock/chg.OD16.mincov10.txt.bed\n",
      "Already exists: /mnt/stripe/bio/experiments/aging/cpg_clock/chg.OD17.mincov10.txt.bed\n",
      "Already exists: /mnt/stripe/bio/experiments/aging/cpg_clock/chg.OD18.mincov10.txt.bed\n",
      "Already exists: /mnt/stripe/bio/experiments/aging/cpg_clock/chg.OD19.mincov10.txt.bed\n",
      "Already exists: /mnt/stripe/bio/experiments/aging/cpg_clock/chg.OD20.mincov10.txt.bed\n",
      "Already exists: /mnt/stripe/bio/experiments/aging/cpg_clock/chg.YD11.mincov10.txt.bed\n",
      "Already exists: /mnt/stripe/bio/experiments/aging/cpg_clock/chg.YD12.mincov10.txt.bed\n",
      "Already exists: /mnt/stripe/bio/experiments/aging/cpg_clock/chg.YD14.mincov10.txt.bed\n",
      "Already exists: /mnt/stripe/bio/experiments/aging/cpg_clock/chg.YD15.mincov10.txt.bed\n",
      "Already exists: /mnt/stripe/bio/experiments/aging/cpg_clock/chg.YD16.mincov10.txt.bed\n",
      "Already exists: /mnt/stripe/bio/experiments/aging/cpg_clock/chg.YD17.mincov10.txt.bed\n",
      "Already exists: /mnt/stripe/bio/experiments/aging/cpg_clock/chg.YD18.mincov10.txt.bed\n",
      "Already exists: /mnt/stripe/bio/experiments/aging/cpg_clock/chg.YD19.mincov10.txt.bed\n",
      "Already exists: /mnt/stripe/bio/experiments/aging/cpg_clock/chg.YD21.mincov10.txt.bed\n",
      "Already exists: /mnt/stripe/bio/experiments/aging/cpg_clock/chh.OD11.mincov10.txt.bed\n",
      "Already exists: /mnt/stripe/bio/experiments/aging/cpg_clock/chh.OD12.mincov10.txt.bed\n",
      "Already exists: /mnt/stripe/bio/experiments/aging/cpg_clock/chh.OD13.mincov10.txt.bed\n",
      "Already exists: /mnt/stripe/bio/experiments/aging/cpg_clock/chh.OD14.mincov10.txt.bed\n",
      "Already exists: /mnt/stripe/bio/experiments/aging/cpg_clock/chh.OD15.mincov10.txt.bed\n",
      "Already exists: /mnt/stripe/bio/experiments/aging/cpg_clock/chh.OD16.mincov10.txt.bed\n",
      "Already exists: /mnt/stripe/bio/experiments/aging/cpg_clock/chh.OD17.mincov10.txt.bed\n",
      "Already exists: /mnt/stripe/bio/experiments/aging/cpg_clock/chh.OD18.mincov10.txt.bed\n",
      "Already exists: /mnt/stripe/bio/experiments/aging/cpg_clock/chh.OD19.mincov10.txt.bed\n",
      "Already exists: /mnt/stripe/bio/experiments/aging/cpg_clock/chh.OD20.mincov10.txt.bed\n",
      "Already exists: /mnt/stripe/bio/experiments/aging/cpg_clock/chh.YD11.mincov10.txt.bed\n",
      "Already exists: /mnt/stripe/bio/experiments/aging/cpg_clock/chh.YD12.mincov10.txt.bed\n",
      "Already exists: /mnt/stripe/bio/experiments/aging/cpg_clock/chh.YD14.mincov10.txt.bed\n",
      "Already exists: /mnt/stripe/bio/experiments/aging/cpg_clock/chh.YD15.mincov10.txt.bed\n",
      "Already exists: /mnt/stripe/bio/experiments/aging/cpg_clock/chh.YD16.mincov10.txt.bed\n",
      "Already exists: /mnt/stripe/bio/experiments/aging/cpg_clock/chh.YD17.mincov10.txt.bed\n",
      "Already exists: /mnt/stripe/bio/experiments/aging/cpg_clock/chh.YD18.mincov10.txt.bed\n",
      "Already exists: /mnt/stripe/bio/experiments/aging/cpg_clock/chh.YD19.mincov10.txt.bed\n",
      "Already exists: /mnt/stripe/bio/experiments/aging/cpg_clock/chh.YD20.mincov10.txt.bed\n",
      "Already exists: /mnt/stripe/bio/experiments/aging/cpg_clock/chh.YD21.mincov10.txt.bed\n",
      "Already exists: /mnt/stripe/bio/experiments/aging/cpg_clock/cpg.OD11.mincov10.txt.bed\n",
      "Already exists: /mnt/stripe/bio/experiments/aging/cpg_clock/cpg.OD12.mincov10.txt.bed\n",
      "Already exists: /mnt/stripe/bio/experiments/aging/cpg_clock/cpg.OD13.mincov10.txt.bed\n",
      "Already exists: /mnt/stripe/bio/experiments/aging/cpg_clock/cpg.OD14.mincov10.txt.bed\n",
      "Already exists: /mnt/stripe/bio/experiments/aging/cpg_clock/cpg.OD15.mincov10.txt.bed\n",
      "Already exists: /mnt/stripe/bio/experiments/aging/cpg_clock/cpg.OD16.mincov10.txt.bed\n",
      "Already exists: /mnt/stripe/bio/experiments/aging/cpg_clock/cpg.OD17.mincov10.txt.bed\n",
      "Already exists: /mnt/stripe/bio/experiments/aging/cpg_clock/cpg.OD18.mincov10.txt.bed\n",
      "Already exists: /mnt/stripe/bio/experiments/aging/cpg_clock/cpg.OD19.mincov10.txt.bed\n",
      "Already exists: /mnt/stripe/bio/experiments/aging/cpg_clock/cpg.OD20.mincov10.txt.bed\n",
      "Already exists: /mnt/stripe/bio/experiments/aging/cpg_clock/cpg.YD11.mincov10.txt.bed\n",
      "Already exists: /mnt/stripe/bio/experiments/aging/cpg_clock/cpg.YD12.mincov10.txt.bed\n",
      "Already exists: /mnt/stripe/bio/experiments/aging/cpg_clock/cpg.YD14.mincov10.txt.bed\n",
      "Already exists: /mnt/stripe/bio/experiments/aging/cpg_clock/cpg.YD15.mincov10.txt.bed\n",
      "Already exists: /mnt/stripe/bio/experiments/aging/cpg_clock/cpg.YD16.mincov10.txt.bed\n",
      "Already exists: /mnt/stripe/bio/experiments/aging/cpg_clock/cpg.YD17.mincov10.txt.bed\n",
      "Already exists: /mnt/stripe/bio/experiments/aging/cpg_clock/cpg.YD18.mincov10.txt.bed\n",
      "Already exists: /mnt/stripe/bio/experiments/aging/cpg_clock/cpg.YD19.mincov10.txt.bed\n",
      "Already exists: /mnt/stripe/bio/experiments/aging/cpg_clock/cpg.YD20.mincov10.txt.bed\n",
      "Already exists: /mnt/stripe/bio/experiments/aging/cpg_clock/cpg.YD21.mincov10.txt.bed\n",
      "Each file intersection:\n",
      "Already exists: /mnt/stripe/bio/experiments/aging/cpg_clock/intersection_report.txt\n",
      "Intersect all CpG files:\n",
      "Already exists: /mnt/stripe/bio/experiments/aging/cpg_clock/cpg_clock_consensus.txt\n",
      "Strong consensus CpG:       32\n",
      "75% consensus CpG:       45\n",
      "Weak consensus CpG:       57\n",
      "[Done]\n"
     ]
    }
   ],
   "source": [
    "%%bash -s \"$OUTDIR\"\n",
    "#!/usr/bin/env bash\n",
    "\n",
    "OUTDIR=$1\n",
    "CPG_CLOCK_FILE=/mnt/stripe/bio/raw-data/aging/loci_of_interest/cpg_clock_hg19.bed\n",
    "RRBS_DIR=/mnt/stripe/bio/raw-data/aging/Y20O20/rrbs\n",
    "\n",
    "mkdir -p $OUTDIR\n",
    "cd $OUTDIR\n",
    "\n",
    "echo \"Prepare files...\"\n",
    "for FILE in $(find ${RRBS_DIR} -wholename \"*/data*.mincov10*.txt\"); do\n",
    "    FILE_NAME=${FILE##*/}\n",
    "    BED=\"$OUTDIR/${FILE_NAME}.bed\"\n",
    "    if [ -f \"${BED}\" ]; then\n",
    "        echo \"Already exists: $BED\"\n",
    "    else\n",
    "        echo \"${FILE_NAME} --> ${BED} ...\"\n",
    "        cat ${FILE} | grep -v \"base\" | awk -v OFS='\\t' '{if ($4==\"F\") strand=\"+\"; else strand=\"-\";  print $2,$3,$3+1,\".\",strand }' > ${BED}\n",
    "    fi\n",
    "done\n",
    "\n",
    "echo \"Each file intersection:\"\n",
    "REPORT=\"$OUTDIR/intersection_report.txt\"\n",
    "if [ ! -f $REPORT ]; then\n",
    "    echo \"Not exists: $REPORT\"\n",
    "    echo \"\" > ${REPORT}\n",
    "    for FILE in $(find ${RRBS_DIR} -wholename \"*/data*.mincov10*.txt\"); do\n",
    "        FILE_NAME=${FILE##*/}\n",
    "        BED=\"$OUTDIR/${FILE_NAME}.bed\"\n",
    "        N=$(bedtools intersect -a ${CPG_CLOCK_FILE} -b ${BED} -wa | wc -l)\n",
    "        echo \"$FILE_NAME:$N\"\n",
    "        echo \"$FILE_NAME:$N\" >> \"${REPORT}.tmp\"\n",
    "    done\n",
    "    cat \"${REPORT}.tmp\" | sort > ${REPORT}\n",
    "    rm  \"${REPORT}.tmp\"\n",
    "else\n",
    "    echo \"Already exists: $REPORT\"\n",
    "fi\n",
    "\n",
    "echo \"Intersect all CpG files:\"\n",
    "REPORT=\"${OUTDIR}/cpg_clock_consensus.txt\"\n",
    "if [ ! -f $REPORT ]; then\n",
    "    CPG_FILES=\"\"\n",
    "    for FILE in $(find ${RRBS_DIR} -wholename \"*/data*cpg*.mincov10*.txt\"); do\n",
    "        FILE_NAME=${FILE##*/}\n",
    "        BED=\"$OUTDIR/${FILE_NAME}.bed\"\n",
    "        CPG_FILES=\"$CPG_FILES $BED\"\n",
    "    done\n",
    "\n",
    "    bedtools intersect -a ${CPG_CLOCK_FILE} -b ${CPG_FILES} -wa | sort -k1,1 -k2,2n | uniq -c > ${REPORT}\n",
    "else\n",
    "    echo \"Already exists: $REPORT\"\n",
    "fi\n",
    "\n",
    "echo \"Strong consensus CpG: $(cat ${REPORT} | awk '{if ($1 >= 40) {print}}' | wc -l)\"\n",
    "echo \"75% consensus CpG: $(cat ${REPORT} | awk '{if ($1 >= 30) {print}}' | wc -l)\"\n",
    "echo \"Weak consensus CpG: $(cat ${REPORT} | awk '{if ($1 >= 2) {print}}' | wc -l)\"\n",
    "echo \"[Done]\""
   ]
  },
  {
   "cell_type": "code",
   "execution_count": 133,
   "metadata": {
    "ExecuteTime": {
     "end_time": "2017-10-25T11:32:45.407263Z",
     "start_time": "2017-10-25T11:32:45.404018Z"
    },
    "collapsed": true
   },
   "outputs": [],
   "source": [
    "CPG_CLOCK_CONSENSUS_FILE=OUTDIR/\"cpg_clock_consensus.txt\""
   ]
  },
  {
   "cell_type": "code",
   "execution_count": 427,
   "metadata": {
    "ExecuteTime": {
     "end_time": "2017-10-25T15:15:53.622223Z",
     "start_time": "2017-10-25T15:15:53.468085Z"
    }
   },
   "outputs": [
    {
     "name": "stdout",
     "output_type": "stream",
     "text": [
      "chg.OD10.mincov10.txt:0\r\n",
      "chg.OD11.mincov10.txt:0\r\n",
      "chg.OD12.mincov10.txt:0\r\n",
      "chg.OD13.mincov10.txt:0\r\n",
      "chg.OD14.mincov10.txt:0\r\n",
      "chg.OD15.mincov10.txt:0\r\n",
      "chg.OD16.mincov10.txt:0\r\n",
      "chg.OD17.mincov10.txt:0\r\n",
      "chg.OD18.mincov10.txt:0\r\n",
      "chg.OD19.mincov10.txt:0\r\n",
      "chg.OD1.mincov10.txt:0\r\n",
      "chg.OD20.mincov10.txt:0\r\n",
      "chg.OD2.mincov10.txt:0\r\n",
      "chg.OD3.mincov10.txt:0\r\n",
      "chg.OD4.mincov10.txt:0\r\n",
      "chg.OD5.mincov10.txt:0\r\n",
      "chg.OD6.mincov10.txt:0\r\n",
      "chg.OD7.mincov10.txt:0\r\n",
      "chg.OD8.mincov10.txt:0\r\n",
      "chg.OD9.mincov10.txt:0\r\n",
      "chg.YD10.mincov10.txt:0\r\n",
      "chg.YD11.mincov10.txt:0\r\n",
      "chg.YD12.mincov10.txt:0\r\n",
      "chg.YD14.mincov10.txt:0\r\n",
      "chg.YD15.mincov10.txt:0\r\n",
      "chg.YD16.mincov10.txt:0\r\n",
      "chg.YD17.mincov10.txt:0\r\n",
      "chg.YD18.mincov10.txt:0\r\n",
      "chg.YD19.mincov10.txt:0\r\n",
      "chg.YD1.mincov10.txt:0\r\n",
      "chg.YD20.mincov10.txt:0\r\n",
      "chg.YD21.mincov10.txt:0\r\n",
      "chg.YD2.mincov10.txt:0\r\n",
      "chg.YD3.mincov10.txt:0\r\n",
      "chg.YD4.mincov10.txt:0\r\n",
      "chg.YD5.mincov10.txt:0\r\n",
      "chg.YD6.mincov10.txt:0\r\n",
      "chg.YD7.mincov10.txt:0\r\n",
      "chg.YD8.mincov10.txt:0\r\n",
      "chg.YD9.mincov10.txt:0\r\n",
      "chh.OD10.mincov10.txt:0\r\n",
      "chh.OD11.mincov10.txt:0\r\n",
      "chh.OD12.mincov10.txt:0\r\n",
      "chh.OD13.mincov10.txt:0\r\n",
      "chh.OD14.mincov10.txt:0\r\n",
      "chh.OD15.mincov10.txt:0\r\n",
      "chh.OD16.mincov10.txt:0\r\n",
      "chh.OD17.mincov10.txt:0\r\n",
      "chh.OD18.mincov10.txt:0\r\n",
      "chh.OD19.mincov10.txt:0\r\n",
      "chh.OD1.mincov10.txt:0\r\n",
      "chh.OD20.mincov10.txt:0\r\n",
      "chh.OD2.mincov10.txt:0\r\n",
      "chh.OD3.mincov10.txt:0\r\n",
      "chh.OD4.mincov10.txt:0\r\n",
      "chh.OD5.mincov10.txt:0\r\n",
      "chh.OD6.mincov10.txt:0\r\n",
      "chh.OD7.mincov10.txt:0\r\n",
      "chh.OD8.mincov10.txt:0\r\n",
      "chh.OD9.mincov10.txt:0\r\n",
      "chh.YD10.mincov10.txt:0\r\n",
      "chh.YD11.mincov10.txt:0\r\n",
      "chh.YD12.mincov10.txt:0\r\n",
      "chh.YD14.mincov10.txt:0\r\n",
      "chh.YD15.mincov10.txt:0\r\n",
      "chh.YD16.mincov10.txt:0\r\n",
      "chh.YD17.mincov10.txt:0\r\n",
      "chh.YD18.mincov10.txt:0\r\n",
      "chh.YD19.mincov10.txt:0\r\n",
      "chh.YD1.mincov10.txt:0\r\n",
      "chh.YD20.mincov10.txt:0\r\n",
      "chh.YD21.mincov10.txt:0\r\n",
      "chh.YD2.mincov10.txt:0\r\n",
      "chh.YD3.mincov10.txt:0\r\n",
      "chh.YD4.mincov10.txt:0\r\n",
      "chh.YD5.mincov10.txt:0\r\n",
      "chh.YD6.mincov10.txt:0\r\n",
      "chh.YD7.mincov10.txt:0\r\n",
      "chh.YD8.mincov10.txt:0\r\n",
      "chh.YD9.mincov10.txt:0\r\n",
      "cpg.OD10.mincov10.txt:52\r\n",
      "cpg.OD11.mincov10.txt:48\r\n",
      "cpg.OD12.mincov10.txt:46\r\n",
      "cpg.OD13.mincov10.txt:50\r\n",
      "cpg.OD14.mincov10.txt:50\r\n",
      "cpg.OD15.mincov10.txt:48\r\n",
      "cpg.OD16.mincov10.txt:48\r\n",
      "cpg.OD17.mincov10.txt:48\r\n",
      "cpg.OD18.mincov10.txt:49\r\n",
      "cpg.OD19.mincov10.txt:47\r\n",
      "cpg.OD1.mincov10.txt:48\r\n",
      "cpg.OD20.mincov10.txt:50\r\n",
      "cpg.OD2.mincov10.txt:48\r\n",
      "cpg.OD3.mincov10.txt:50\r\n",
      "cpg.OD4.mincov10.txt:47\r\n",
      "cpg.OD5.mincov10.txt:51\r\n",
      "cpg.OD6.mincov10.txt:49\r\n",
      "cpg.OD7.mincov10.txt:48\r\n",
      "cpg.OD8.mincov10.txt:49\r\n",
      "cpg.OD9.mincov10.txt:49\r\n",
      "cpg.YD10.mincov10.txt:48\r\n",
      "cpg.YD11.mincov10.txt:44\r\n",
      "cpg.YD12.mincov10.txt:50\r\n",
      "cpg.YD14.mincov10.txt:44\r\n",
      "cpg.YD15.mincov10.txt:48\r\n",
      "cpg.YD16.mincov10.txt:51\r\n",
      "cpg.YD17.mincov10.txt:51\r\n",
      "cpg.YD18.mincov10.txt:48\r\n",
      "cpg.YD19.mincov10.txt:44\r\n",
      "cpg.YD1.mincov10.txt:47\r\n",
      "cpg.YD20.mincov10.txt:50\r\n",
      "cpg.YD21.mincov10.txt:54\r\n",
      "cpg.YD2.mincov10.txt:49\r\n",
      "cpg.YD3.mincov10.txt:48\r\n",
      "cpg.YD4.mincov10.txt:49\r\n",
      "cpg.YD5.mincov10.txt:49\r\n",
      "cpg.YD6.mincov10.txt:48\r\n",
      "cpg.YD7.mincov10.txt:49\r\n",
      "cpg.YD8.mincov10.txt:51\r\n",
      "cpg.YD9.mincov10.txt:50\r\n"
     ]
    }
   ],
   "source": [
    "! cat {OUTDIR}/intersection_report.txt"
   ]
  },
  {
   "cell_type": "code",
   "execution_count": 317,
   "metadata": {
    "ExecuteTime": {
     "end_time": "2017-10-25T13:41:20.508921Z",
     "start_time": "2017-10-25T13:41:20.232134Z"
    }
   },
   "outputs": [
    {
     "name": "stdout",
     "output_type": "stream",
     "text": [
      "5\t1\r\n",
      "2\t2\r\n",
      "1\t3\r\n",
      "2\t5\r\n",
      "1\t15\r\n",
      "1\t18\r\n",
      "1\t21\r\n",
      "1\t24\r\n",
      "1\t25\r\n",
      "1\t26\r\n",
      "1\t28\r\n",
      "2\t35\r\n",
      "4\t37\r\n",
      "3\t38\r\n",
      "4\t39\r\n",
      "32\t40\r\n"
     ]
    }
   ],
   "source": [
    "! cat {OUTDIR}/cpg_clock_consensus.txt | cut -d 'c' -f 1 | sort | uniq -c | awk -v OFS='\\t' '{{ print $$1, $$2 }}' > {OUTDIR}/cpg_clock_consensus.counts.tsv\n",
    "! cat {OUTDIR}/cpg_clock_consensus.counts.tsv"
   ]
  },
  {
   "cell_type": "code",
   "execution_count": 407,
   "metadata": {
    "ExecuteTime": {
     "end_time": "2017-10-25T15:07:06.168465Z",
     "start_time": "2017-10-25T15:07:05.766310Z"
    }
   },
   "outputs": [
    {
     "name": "stdout",
     "output_type": "stream",
     "text": [
      "   5   1\n",
      "0  2   2\n",
      "1  1   3\n",
      "2  2   5\n",
      "3  1  15\n",
      "4  1  18\n"
     ]
    },
    {
     "data": {
      "image/png": "[encoded data removed]",
      "text/plain": [
       "<matplotlib.figure.Figure at 0x1199d09e8>"
      ]
     },
     "metadata": {},
     "output_type": "display_data"
    }
   ],
   "source": [
    "df_counts = pd.DataFrame.from_csv(OUTDIR/\"cpg_clock_consensus.counts.tsv\", sep=\"\\t\", index_col=None)\n",
    "print(df_counts.head())\n",
    "plt.plot(df_counts.iloc[:, 1].tolist(), df_counts.iloc[:, 0].tolist(), \"ro\")\n",
    "plt.show()"
   ]
  },
  {
   "cell_type": "code",
   "execution_count": 192,
   "metadata": {
    "ExecuteTime": {
     "end_time": "2017-10-25T12:35:50.101929Z",
     "start_time": "2017-10-25T12:35:50.041116Z"
    }
   },
   "outputs": [
    {
     "name": "stdout",
     "output_type": "stream",
     "text": [
      "Args: /mnt/stripe/bio/experiments/aging/cpg_clock/gb-2013-14-10-r115-S3.csv /mnt/stripe/bio/experiments/aging/cpg_clock/cpg_clock_consensus.txt 40 /mnt/stripe/bio/experiments/aging/cpg_clock\n",
      "Already processed: /mnt/stripe/bio/experiments/aging/cpg_clock/cpg_clock_consensus.coef.tsv\n"
     ]
    }
   ],
   "source": [
    "%%bash -s \"$CPG_CLOCK_COEF_FILE\" \"$CPG_CLOCK_CONSENSUS_FILE\" \"$n_consensus\" \"$OUTDIR\"\n",
    "echo \"Args: $@\"\n",
    "CPG_CLOCK_COEF_FILE=$1\n",
    "CPG_CLOCK_CONSENSUS_FILE=$2\n",
    "N=$3\n",
    "OUTDIR=$4\n",
    "\n",
    "mkdir -p $OUTDIR\n",
    "cd $OUTDIR\n",
    "\n",
    "DETAILED_CONS=\"${OUTDIR}/cpg_clock_consensus.detailed.txt\"\n",
    "cat ${CPG_CLOCK_CONSENSUS_FILE} | awk -F'[\\t_[:space:]]+' -v N=\"$N\" -v OFS=\"\\t\" '{ if ($2 >= N) { print $3, $4, $5, $6, $8, $7, $2}}' > ${DETAILED_CONS}\n",
    "\n",
    "# head -n 2 <(cat ${CPG_CLOCK_COEF_FILE} | grep \"^cg\" | awk -F',' -v OFS='\\t' '{print $1, $2}' | sort -k1,1)\n",
    "# head -n 2 <(sort -k4,4 ${DETAILED_CONS})\n",
    "\n",
    "RESULT=${OUTDIR}/cpg_clock_consensus.coef.tsv\n",
    "if [ -f $RESULT ]; then\n",
    "    echo \"Already processed: $RESULT\"\n",
    "else\n",
    "    # -----------------\n",
    "    # Consensus coefs:\n",
    "    echo \"\" > $RESULT\n",
    "    echo \"chr\"$'\\t'\"start\"$'\\t'\"end\"$'\\t'\"CoefficientTraining\"$'\\t'\"strand\"$'\\t'\"CpGmarker\"$'\\t'\"Symbol\"$'\\t'\"consensus\" > $RESULT\n",
    "    join -t $'\\t' -1 1 -2 4 -o 2.1,2.2,2.3,1.2,2.5,1.1,2.6,2.7 <(cat ${CPG_CLOCK_COEF_FILE} | grep \"^cg\" | awk -F',' -v OFS='\\t' '{print $1, $2}' | sort -k1,1) <(sort -k4,4 ${DETAILED_CONS}) >> ${RESULT}\n",
    "\n",
    "    echo \"Lines: $(wc -l ${RESULT})\"\n",
    "    echo \"File head:\"\n",
    "    head -n 3 ${RESULT}  \n",
    "    \n",
    "    # -----------------\n",
    "    # Each file coefs:\n",
    "    RRBS_DIR=/mnt/stripe/bio/raw-data/aging/Y20O20/rrbs\n",
    "    CONS_COEF_FILE=$OUTDIR/\"cpg_clock_consensus.coef.tsv\"\n",
    "\n",
    "    echo \"Each file intersection:\"\n",
    "    for FILE in $(find ${RRBS_DIR} -wholename \"*/data*cpg*.mincov10*.txt\"); do\n",
    "        FILE_NAME=${FILE##*/}\n",
    "        echo \"Process: $FILE_NAME\"\n",
    "\n",
    "        RESULT=\"$OUTDIR/$FILE_NAME.coef.tsv\"\n",
    "        bedtools intersect -a <(cat $FILE | awk  -v OFS='\\t' '{ if ($1 != \"chrBase\") { print $2, $3, $3+1, $5, $6}}') -b <(tail -n +2 $CONS_COEF_FILE) -wa -wb | awk -v OFS='\\t' '{print $6, $7, $8, $9, $10, $11, $12, $13, $4, $5}' > $RESULT\n",
    "    done\n",
    "fi"
   ]
  },
  {
   "cell_type": "code",
   "execution_count": 193,
   "metadata": {
    "ExecuteTime": {
     "end_time": "2017-10-25T12:36:23.283586Z",
     "start_time": "2017-10-25T12:36:23.214372Z"
    }
   },
   "outputs": [
    {
     "name": "stdout",
     "output_type": "stream",
     "text": [
      "(32, 7)\n"
     ]
    },
    {
     "data": {
      "text/html": [
       "<div>\n",
       "<style>\n",
       "    .dataframe thead tr:only-child th {\n",
       "        text-align: right;\n",
       "    }\n",
       "\n",
       "    .dataframe thead th {\n",
       "        text-align: left;\n",
       "    }\n",
       "\n",
       "    .dataframe tbody tr th {\n",
       "        vertical-align: top;\n",
       "    }\n",
       "</style>\n",
       "<table border=\"1\" class=\"dataframe\">\n",
       "  <thead>\n",
       "    <tr style=\"text-align: right;\">\n",
       "      <th></th>\n",
       "      <th>chr</th>\n",
       "      <th>start</th>\n",
       "      <th>end</th>\n",
       "      <th>CoefficientTraining</th>\n",
       "      <th>strand</th>\n",
       "      <th>Symbol</th>\n",
       "      <th>consensus</th>\n",
       "    </tr>\n",
       "    <tr>\n",
       "      <th>CpGmarker</th>\n",
       "      <th></th>\n",
       "      <th></th>\n",
       "      <th></th>\n",
       "      <th></th>\n",
       "      <th></th>\n",
       "      <th></th>\n",
       "      <th></th>\n",
       "    </tr>\n",
       "  </thead>\n",
       "  <tbody>\n",
       "    <tr>\n",
       "      <th>cg02335441</th>\n",
       "      <td>chr3</td>\n",
       "      <td>130745948</td>\n",
       "      <td>130745949</td>\n",
       "      <td>-0.171285</td>\n",
       "      <td>-</td>\n",
       "      <td>ASTE1</td>\n",
       "      <td>40</td>\n",
       "    </tr>\n",
       "    <tr>\n",
       "      <th>cg03330058</th>\n",
       "      <td>chr3</td>\n",
       "      <td>127392403</td>\n",
       "      <td>127392404</td>\n",
       "      <td>-0.064471</td>\n",
       "      <td>+</td>\n",
       "      <td>ABTB1</td>\n",
       "      <td>40</td>\n",
       "    </tr>\n",
       "    <tr>\n",
       "      <th>cg04084157</th>\n",
       "      <td>chr7</td>\n",
       "      <td>100809049</td>\n",
       "      <td>100809050</td>\n",
       "      <td>1.034144</td>\n",
       "      <td>-</td>\n",
       "      <td>VGF</td>\n",
       "      <td>40</td>\n",
       "    </tr>\n",
       "    <tr>\n",
       "      <th>cg04528819</th>\n",
       "      <td>chr7</td>\n",
       "      <td>130418315</td>\n",
       "      <td>130418316</td>\n",
       "      <td>0.771798</td>\n",
       "      <td>-</td>\n",
       "      <td>KLF14</td>\n",
       "      <td>40</td>\n",
       "    </tr>\n",
       "    <tr>\n",
       "      <th>cg06557358</th>\n",
       "      <td>chr17</td>\n",
       "      <td>32907002</td>\n",
       "      <td>32907003</td>\n",
       "      <td>-0.141331</td>\n",
       "      <td>+</td>\n",
       "      <td>LOC124842</td>\n",
       "      <td>40</td>\n",
       "    </tr>\n",
       "  </tbody>\n",
       "</table>\n",
       "</div>"
      ],
      "text/plain": [
       "              chr      start        end  CoefficientTraining strand  \\\n",
       "CpGmarker                                                             \n",
       "cg02335441   chr3  130745948  130745949            -0.171285      -   \n",
       "cg03330058   chr3  127392403  127392404            -0.064471      +   \n",
       "cg04084157   chr7  100809049  100809050             1.034144      -   \n",
       "cg04528819   chr7  130418315  130418316             0.771798      -   \n",
       "cg06557358  chr17   32907002   32907003            -0.141331      +   \n",
       "\n",
       "               Symbol  consensus  \n",
       "CpGmarker                         \n",
       "cg02335441      ASTE1         40  \n",
       "cg03330058      ABTB1         40  \n",
       "cg04084157        VGF         40  \n",
       "cg04528819      KLF14         40  \n",
       "cg06557358  LOC124842         40  "
      ]
     },
     "execution_count": 193,
     "metadata": {},
     "output_type": "execute_result"
    }
   ],
   "source": [
    "df_coef = pd.DataFrame.from_csv(OUTDIR/\"cpg_clock_consensus.coef.tsv\", sep=\"\\t\", index_col='CpGmarker')\n",
    "print(df_coef.shape)\n",
    "df_coef.head()"
   ]
  },
  {
   "cell_type": "code",
   "execution_count": 410,
   "metadata": {
    "ExecuteTime": {
     "end_time": "2017-10-25T15:09:15.701298Z",
     "start_time": "2017-10-25T15:09:15.402337Z"
    }
   },
   "outputs": [
    {
     "data": {
      "text/plain": [
       "[('OD1', -0.31243035732191998),\n",
       " ('OD10', -0.44200793653297005),\n",
       " ('OD11', -0.58204556796181006),\n",
       " ('OD12', -0.32088450062521001),\n",
       " ('OD13', -0.20387389643327999),\n",
       " ('OD14', -0.23441976367497006),\n",
       " ('OD15', -0.20430318663875002),\n",
       " ('OD16', -0.46564667212594002),\n",
       " ('OD17', -0.50690963902612007),\n",
       " ('OD18', -0.36591656326942001),\n",
       " ('OD19', -0.27613471070819007),\n",
       " ('OD2', -0.33604345989272999),\n",
       " ('OD20', -0.41105887487384996),\n",
       " ('OD3', -0.47434963261562008),\n",
       " ('OD4', -0.29805748789493003),\n",
       " ('OD5', -0.33315253104662002),\n",
       " ('OD6', -0.23277568051068001),\n",
       " ('OD7', -0.36454918035295003),\n",
       " ('OD8', -0.26609271361235004),\n",
       " ('OD9', -0.27407174174556009),\n",
       " ('YD1', -0.38760412127122001),\n",
       " ('YD10', -0.37562555820903998),\n",
       " ('YD11', -0.39989980667770997),\n",
       " ('YD12', -0.50638511746963011),\n",
       " ('YD14', -0.43400322276930003),\n",
       " ('YD15', -0.48967754616505998),\n",
       " ('YD16', -0.45627371874833),\n",
       " ('YD17', -0.25616851461392004),\n",
       " ('YD18', -0.33527120587534998),\n",
       " ('YD19', -0.54618266741601995),\n",
       " ('YD2', -0.40389500395528005),\n",
       " ('YD20', -0.51678403922935012),\n",
       " ('YD21', -0.54809114550083993),\n",
       " ('YD3', -0.45730709696516003),\n",
       " ('YD4', -0.53289799769777013),\n",
       " ('YD5', -0.46698016024769007),\n",
       " ('YD6', -0.38272342287008998),\n",
       " ('YD7', -0.39612983003200003),\n",
       " ('YD8', -0.48793723615581003),\n",
       " ('YD9', -0.59961109528747003)]"
      ]
     },
     "execution_count": 410,
     "metadata": {},
     "output_type": "execute_result"
    }
   ],
   "source": [
    "col_names = df_coef.columns.tolist() + [\"n\", \"cFreq\"]\n",
    "\n",
    "results = []\n",
    "for f in OUTDIR.glob(\"cpg.*.coef.tsv\"):\n",
    "    donor = f.name.split('.')[1]\n",
    "    df = pd.DataFrame.from_csv(f, sep=\"\\t\", index_col=5, header=None)\n",
    "    df.columns = col_names\n",
    "\n",
    "    results.append((donor, np.sum(df[\"cFreq\"]/100*df[\"CoefficientTraining\"])))\n",
    "    # results.append((donor, np.sum((1-df[\"cFreq\"]/100)*df[\"CoefficientTraining\"])))\n",
    "results.sort(key=lambda x: x[0])\n",
    "results"
   ]
  },
  {
   "cell_type": "code",
   "execution_count": 411,
   "metadata": {
    "ExecuteTime": {
     "end_time": "2017-10-25T15:09:16.694064Z",
     "start_time": "2017-10-25T15:09:16.346368Z"
    }
   },
   "outputs": [
    {
     "data": {
      "image/png": "[encoded data removed]",
      "text/plain": [
       "<matplotlib.figure.Figure at 0x11588f048>"
      ]
     },
     "metadata": {},
     "output_type": "display_data"
    }
   ],
   "source": [
    "plt.figure(figsize=(12,6))\n",
    "ods = [r for r in results if r[0].startswith(\"OD\")]\n",
    "yds = [r for r in results if r[0].startswith(\"YD\")]\n",
    "\n",
    "plt.plot(range(len(ods)), [v[1] for v in ods], 'bo')\n",
    "plt.plot(range(len(ods), len(ods) + len(yds)), [v[1] for v in yds], 'ro')\n",
    "plt.xticks(range(len(ods) + len(yds)), [v[0] for v in ods+yds], rotation='vertical')\n",
    "plt.title(\"No separation for partial applied CpG clock model\")\n",
    "\n",
    "plt.show()"
   ]
  },
  {
   "cell_type": "code",
   "execution_count": 412,
   "metadata": {
    "ExecuteTime": {
     "end_time": "2017-10-25T15:10:08.780827Z",
     "start_time": "2017-10-25T15:10:08.537428Z"
    }
   },
   "outputs": [],
   "source": [
    "col_names = df_coef.columns.tolist() + [\"n\", \"cFreq\"]\n",
    "\n",
    "results = []\n",
    "for f in OUTDIR.glob(\"cpg.*.coef.tsv\"):\n",
    "    donor = f.name.split('.')[1]\n",
    "    df = pd.DataFrame.from_csv(f, sep=\"\\t\", index_col=5, header=None)\n",
    "    df.columns = col_names\n",
    "\n",
    "    results.append((donor, (df[\"cFreq\"]/100).tolist()))\n",
    "results.sort(key=lambda x: x[0])"
   ]
  },
  {
   "cell_type": "code",
   "execution_count": 413,
   "metadata": {
    "ExecuteTime": {
     "end_time": "2017-10-25T15:10:10.269067Z",
     "start_time": "2017-10-25T15:10:10.200694Z"
    }
   },
   "outputs": [],
   "source": [
    "from sklearn.decomposition import PCA\n",
    "from sklearn import preprocessing\n",
    "\n",
    "def plot(results, outliers=None, standardization=True, log1p=False):\n",
    "    if outliers:\n",
    "        # Outliers (german)\n",
    "        results = [r for r in results if r[0] not in outliers]\n",
    "    \n",
    "    X = np.array([r[1] for r in results])\n",
    "    \n",
    "    if log1p:\n",
    "        X = np.log1p(X)\n",
    "        \n",
    "    # Standardization\n",
    "    if standardization:\n",
    "        X = preprocessing.scale(X)\n",
    "\n",
    "    donors_names = [r[0] for r in results]\n",
    "    y = np.array([0 if d.startswith(\"OD\") else 1 for d in donors_names])\n",
    "\n",
    "    pca = PCA(n_components=2)\n",
    "    X_r = pca.fit(X).transform(X)\n",
    "\n",
    "    # Percentage of variance explained for each components\n",
    "    print('explained variance ratio (first two components):', str(pca.explained_variance_ratio_))\n",
    "\n",
    "    plt.figure()\n",
    "    ax=plt.subplot()\n",
    "    colors = ['blue', 'red']\n",
    "    lw = 2\n",
    "\n",
    "    ODS = y == 0\n",
    "    YDS = y == 1\n",
    "    ax.scatter(X_r[ODS, 0], X_r[ODS, 1] , color='blue', alpha=.8, label='OD')\n",
    "    ax.scatter(X_r[YDS, 0], X_r[YDS, 1] , color='red', alpha=.8, label='YD')\n",
    "\n",
    "\n",
    "    for i, label in enumerate(donors_names):\n",
    "        ax.annotate(label, xy=(X_r[i, 0], X_r[i, 1]),\n",
    "                    fontsize=9, xytext=(5, 0),\n",
    "                    textcoords='offset points', #ha='right', va='bottom'\n",
    "                    color=colors[y[i]]\n",
    "                   )\n",
    "    plt.legend(loc='best', shadow=False, scatterpoints=1)\n",
    "    plt.title('No separation on consensus CpG sits')\n",
    "    plt.show()"
   ]
  },
  {
   "cell_type": "markdown",
   "metadata": {},
   "source": [
    "No separation on PCA =( "
   ]
  },
  {
   "cell_type": "code",
   "execution_count": 414,
   "metadata": {
    "ExecuteTime": {
     "end_time": "2017-10-25T15:10:12.054027Z",
     "start_time": "2017-10-25T15:10:11.739833Z"
    }
   },
   "outputs": [
    {
     "name": "stdout",
     "output_type": "stream",
     "text": [
      "explained variance ratio (first two components): [ 0.10536003  0.08801017]\n"
     ]
    },
    {
     "data": {
      "image/png": "[encoded data removed]",
      "text/plain": [
       "<matplotlib.figure.Figure at 0x11b7aca20>"
      ]
     },
     "metadata": {},
     "output_type": "display_data"
    }
   ],
   "source": [
    "plot(results, outliers=[\"YD8\", \"OD17\", \"OD5\"], standardization=True, log1p=False)"
   ]
  },
  {
   "cell_type": "code",
   "execution_count": 415,
   "metadata": {
    "ExecuteTime": {
     "end_time": "2017-10-25T15:10:15.314885Z",
     "start_time": "2017-10-25T15:10:14.959586Z"
    }
   },
   "outputs": [
    {
     "name": "stdout",
     "output_type": "stream",
     "text": [
      "explained variance ratio (first two components): [ 0.12207908  0.09241323]\n"
     ]
    },
    {
     "data": {
      "image/png": "[encoded data removed]",
      "text/plain": [
       "<matplotlib.figure.Figure at 0x11b809c50>"
      ]
     },
     "metadata": {},
     "output_type": "display_data"
    }
   ],
   "source": [
    "plot(results, outliers=None, standardization=True, log1p=False)"
   ]
  },
  {
   "cell_type": "code",
   "execution_count": 416,
   "metadata": {
    "ExecuteTime": {
     "end_time": "2017-10-25T15:10:24.128130Z",
     "start_time": "2017-10-25T15:10:23.824883Z"
    }
   },
   "outputs": [
    {
     "name": "stdout",
     "output_type": "stream",
     "text": [
      "explained variance ratio (first two components): [ 0.23362642  0.17651521]\n"
     ]
    },
    {
     "data": {
      "image/png": "[encoded data removed]",
      "text/plain": [
       "<matplotlib.figure.Figure at 0x11525e518>"
      ]
     },
     "metadata": {},
     "output_type": "display_data"
    }
   ],
   "source": [
    "plot(results, outliers=None, standardization=False, log1p=False)"
   ]
  },
  {
   "cell_type": "code",
   "execution_count": 417,
   "metadata": {
    "ExecuteTime": {
     "end_time": "2017-10-25T15:10:25.558920Z",
     "start_time": "2017-10-25T15:10:25.265554Z"
    }
   },
   "outputs": [
    {
     "name": "stdout",
     "output_type": "stream",
     "text": [
      "explained variance ratio (first two components): [ 0.10533194  0.08812707]\n"
     ]
    },
    {
     "data": {
      "image/png": "[encoded data removed]",
      "text/plain": [
       "<matplotlib.figure.Figure at 0x118c3f198>"
      ]
     },
     "metadata": {},
     "output_type": "display_data"
    }
   ],
   "source": [
    "plot(results, outliers=[\"YD8\", \"OD17\", \"OD5\"], standardization=True, log1p=True)"
   ]
  },
  {
   "cell_type": "code",
   "execution_count": 418,
   "metadata": {
    "ExecuteTime": {
     "end_time": "2017-10-25T15:10:30.274679Z",
     "start_time": "2017-10-25T15:10:30.202849Z"
    }
   },
   "outputs": [],
   "source": [
    "from sklearn.linear_model import LogisticRegression\n",
    "\n",
    "\n",
    "def regression_check_for(results_train, results_test):\n",
    "    print(\"Train [\", len(results_train), \"]:\", [r[0] for r in results_train])\n",
    "    print(\"Test [\", len(results_test), \"]:\", [r[0] for r in results_test])\n",
    "\n",
    "    def prepare_set(results):\n",
    "        X = np.array([r[1] for r in results])\n",
    "        X = preprocessing.scale(X)\n",
    "\n",
    "        donors_names = [r[0] for r in results]\n",
    "        y = np.array([0 if d.startswith(\"OD\") else 1 for d in donors_names])\n",
    "        return X, y, donors_names\n",
    "\n",
    "    # train set:\n",
    "    X_train, y_train, donors_train = prepare_set(results_train)\n",
    "    lr = LogisticRegression()\n",
    "    lr.fit(X_train, y_train)\n",
    "\n",
    "    # lr.predict_proba(X[0])\n",
    "    print(\"Mean accuracy training set:\", lr.score(X_train, y_train))\n",
    "\n",
    "    # test:\n",
    "    X_test, y_test, donors_test = prepare_set(results_test)\n",
    "    print(\"Mean accuracy test set:\", lr.score(X_test, y_test))\n",
    "\n",
    "    scores = lr.predict(X_test)\n",
    "    print(\"Old:\", [donors_test[i] for i, take in enumerate(scores == 0) if take])\n",
    "    print(\"Young:\", [donors_test[i] for i, take in enumerate(scores == 1) if take])    \n",
    "    \n",
    "# * test/train split by max donor id threshold: #12,18 best ;)\n",
    "def regression_check(results, outliers, threshold):\n",
    "    if outliers:\n",
    "        results = [r for r in results if r[0] not in outliers ]\n",
    "        \n",
    "    results_train = [r for r in results if int(r[0].split(\"D\")[1]) <= threshold]\n",
    "    results_test = [r for r in results if int(r[0].split(\"D\")[1]) > threshold]\n",
    "\n",
    "    return regression_check_for(results_train, results_test)"
   ]
  },
  {
   "cell_type": "code",
   "execution_count": 419,
   "metadata": {
    "ExecuteTime": {
     "end_time": "2017-10-25T15:10:31.037938Z",
     "start_time": "2017-10-25T15:10:31.025567Z"
    }
   },
   "outputs": [
    {
     "name": "stdout",
     "output_type": "stream",
     "text": [
      "Train [ 18 ]: ['OD1', 'OD10', 'OD2', 'OD3', 'OD4', 'OD6', 'OD7', 'OD8', 'OD9', 'YD1', 'YD10', 'YD2', 'YD3', 'YD4', 'YD5', 'YD6', 'YD7', 'YD9']\n",
      "Test [ 19 ]: ['OD11', 'OD12', 'OD13', 'OD14', 'OD15', 'OD16', 'OD18', 'OD19', 'OD20', 'YD11', 'YD12', 'YD14', 'YD15', 'YD16', 'YD17', 'YD18', 'YD19', 'YD20', 'YD21']\n",
      "Mean accuracy training set: 1.0\n",
      "Mean accuracy test set: 0.578947368421\n",
      "Old: ['OD12', 'OD13', 'OD14', 'OD15', 'OD19', 'YD11', 'YD14', 'YD17', 'YD18']\n",
      "Young: ['OD11', 'OD16', 'OD18', 'OD20', 'YD12', 'YD15', 'YD16', 'YD19', 'YD20', 'YD21']\n"
     ]
    }
   ],
   "source": [
    "regression_check(results, outliers=[\"YD8\", \"OD17\", \"OD5\"], threshold=10)"
   ]
  },
  {
   "cell_type": "code",
   "execution_count": 420,
   "metadata": {
    "ExecuteTime": {
     "end_time": "2017-10-25T15:10:33.052221Z",
     "start_time": "2017-10-25T15:10:33.039719Z"
    }
   },
   "outputs": [
    {
     "name": "stdout",
     "output_type": "stream",
     "text": [
      "Train [ 22 ]: ['OD1', 'OD10', 'OD11', 'OD12', 'OD2', 'OD3', 'OD4', 'OD6', 'OD7', 'OD8', 'OD9', 'YD1', 'YD10', 'YD11', 'YD12', 'YD2', 'YD3', 'YD4', 'YD5', 'YD6', 'YD7', 'YD9']\n",
      "Test [ 15 ]: ['OD13', 'OD14', 'OD15', 'OD16', 'OD18', 'OD19', 'OD20', 'YD14', 'YD15', 'YD16', 'YD17', 'YD18', 'YD19', 'YD20', 'YD21']\n",
      "Mean accuracy training set: 1.0\n",
      "Mean accuracy test set: 0.6\n",
      "Old: ['OD13', 'OD14', 'OD15', 'OD19', 'YD14', 'YD17', 'YD18']\n",
      "Young: ['OD16', 'OD18', 'OD20', 'YD15', 'YD16', 'YD19', 'YD20', 'YD21']\n"
     ]
    }
   ],
   "source": [
    "regression_check(results, outliers=[\"YD8\", \"OD17\", \"OD5\"], threshold=12)"
   ]
  },
  {
   "cell_type": "code",
   "execution_count": 421,
   "metadata": {
    "ExecuteTime": {
     "end_time": "2017-10-25T15:10:35.369512Z",
     "start_time": "2017-10-25T15:10:35.357780Z"
    }
   },
   "outputs": [
    {
     "name": "stdout",
     "output_type": "stream",
     "text": [
      "Train [ 32 ]: ['OD1', 'OD10', 'OD11', 'OD12', 'OD13', 'OD14', 'OD15', 'OD16', 'OD18', 'OD2', 'OD3', 'OD4', 'OD6', 'OD7', 'OD8', 'OD9', 'YD1', 'YD10', 'YD11', 'YD12', 'YD14', 'YD15', 'YD16', 'YD17', 'YD18', 'YD2', 'YD3', 'YD4', 'YD5', 'YD6', 'YD7', 'YD9']\n",
      "Test [ 5 ]: ['OD19', 'OD20', 'YD19', 'YD20', 'YD21']\n",
      "Mean accuracy training set: 1.0\n",
      "Mean accuracy test set: 0.6\n",
      "Old: ['OD19', 'YD19']\n",
      "Young: ['OD20', 'YD20', 'YD21']\n"
     ]
    }
   ],
   "source": [
    "regression_check(results, outliers=[\"YD8\", \"OD17\", \"OD5\"], threshold=18)"
   ]
  },
  {
   "cell_type": "code",
   "execution_count": 425,
   "metadata": {
    "ExecuteTime": {
     "end_time": "2017-10-25T15:10:43.577118Z",
     "start_time": "2017-10-25T15:10:43.557579Z"
    }
   },
   "outputs": [
    {
     "name": "stdout",
     "output_type": "stream",
     "text": [
      "Ods: 18 Yds: 19\n",
      "Train [ 28 ]: ['OD11', 'OD3', 'OD8', 'OD12', 'OD15', 'OD18', 'OD9', 'OD7', 'OD13', 'OD2', 'OD10', 'OD16', 'OD6', 'OD20', 'YD14', 'YD18', 'YD11', 'YD12', 'YD3', 'YD1', 'YD5', 'YD9', 'YD4', 'YD6', 'YD19', 'YD20', 'YD16', 'YD15']\n",
      "Test [ 9 ]: ['OD1', 'OD19', 'OD14', 'OD4', 'YD17', 'YD2', 'YD7', 'YD10', 'YD21']\n",
      "Mean accuracy training set: 1.0\n",
      "Mean accuracy test set: 0.444444444444\n",
      "Old: ['OD1', 'OD14', 'YD17', 'YD2', 'YD10']\n",
      "Young: ['OD19', 'OD4', 'YD7', 'YD21']\n"
     ]
    }
   ],
   "source": [
    "outliers=[\"YD8\", \"OD17\", \"OD5\"]\n",
    "results_ods = [r for r in results if r[0] not in outliers and r[0].startswith(\"OD\")]\n",
    "results_yds = [r for r in results if r[0] not in outliers and not r[0].startswith(\"OD\")]\n",
    "print(\"Ods:\", len(results_ods), \"Yds:\", len(results_yds))\n",
    "np.random.shuffle(results_ods)\n",
    "np.random.shuffle(results_yds)\n",
    "thr = 14\n",
    "regression_check_for(results_ods[:thr]+results_yds[:thr], results_ods[thr:]+results_yds[thr:])"
   ]
  },
  {
   "cell_type": "code",
   "execution_count": null,
   "metadata": {
    "collapsed": true
   },
   "outputs": [],
   "source": []
  }
 ],
 "metadata": {
  "kernelspec": {
   "display_name": "Python 3",
   "language": "python",
   "name": "python3"
  },
  "language_info": {
   "codemirror_mode": {
    "name": "ipython",
    "version": 3
   },
   "file_extension": ".py",
   "mimetype": "text/x-python",
   "name": "python",
   "nbconvert_exporter": "python",
   "pygments_lexer": "ipython3",
   "version": "3.6.1"
  },
  "toc": {
   "nav_menu": {},
   "number_sections": true,
   "sideBar": true,
   "skip_h1_title": false,
   "toc_cell": false,
   "toc_position": {},
   "toc_section_display": "block",
   "toc_window_display": false
  },
  "varInspector": {
   "cols": {
    "lenName": 16,
    "lenType": 16,
    "lenVar": 40
   },
   "kernels_config": {
    "python": {
     "delete_cmd_postfix": "",
     "delete_cmd_prefix": "del ",
     "library": "var_list.py",
     "varRefreshCmd": "print(var_dic_list())"
    },
    "r": {
     "delete_cmd_postfix": ") ",
     "delete_cmd_prefix": "rm(",
     "library": "var_list.r",
     "varRefreshCmd": "cat(var_dic_list()) "
    }
   },
   "types_to_exclude": [
    "module",
    "function",
    "builtin_function_or_method",
    "instance",
    "_Feature"
   ],
   "window_display": false
  }
 },
 "nbformat": 4,
 "nbformat_minor": 2
}
