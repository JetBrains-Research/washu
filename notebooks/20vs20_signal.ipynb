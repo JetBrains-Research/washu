{
 "cells": [
  {
   "cell_type": "markdown",
   "metadata": {},
   "source": [
    "# 20 vs 20 signal processing\n",
    "\n",
    "### There is 2 ways to process signal\n",
    "* Based on exact tags count using fragment size\n",
    "    UNIQUE_BAM -> PILEUP_BED -> TAGS -> intersect with given regions bed and compute intersection\n",
    "* Based on bigwigs\n",
    "    UNIQUE_BAM -> BIGWIG -> bigWigAverageOverBed\n",
    "\n",
    "### Interesting LOCI\n",
    "/mnt/stripe/bio/raw-data/aging/loci_of_interest/\n",
    "\n",
    "### Prepare BigWigs\n",
    "```\n",
    "mkdir /mnt/stripe/bio/experiments/signal\n",
    "cd /mnt/stripe/bio/experiments/signal\n",
    "mkdir H3K27ac\n",
    "cp /mnt/stripe/bio/experiments/configs/Y20O20/browsers/browser_tracks/*k27ac*_unique.bw H3K27ac\n",
    "mkdir H3K27me3\n",
    "cp /mnt/stripe/bio/experiments/configs/Y20O20/browsers/browser_tracks/*k27me3*_unique.bw H3K27me3\n",
    "mkdir H3K36me3\n",
    "cp /mnt/stripe/bio/experiments/configs/Y20O20/browsers/browser_tracks/*k36me3*_unique.bw H3K36me3\n",
    "mkdir H3K4me1\n",
    "cp /mnt/stripe/bio/experiments/configs/Y20O20/browsers/browser_tracks/*k4me1*_unique.bw H3K4me1/\n",
    "mkdir H3K4me3\n",
    "cp /mnt/stripe/bio/experiments/configs/Y20O20/browsers/browser_tracks/*k4me3*_unique.bw H3K4me3/\n",
    "mkdir meth\n",
    "cp /mnt/stripe/bio/experiments/configs/Y20O20/browsers/browser_tracks/*mlevel*.bw meth/\n",
    "```\n",
    "\n",
    "### Process signals and build PCA/graphics/diffbind scores\n",
    "```\n",
    "export PYTHONPATH=\"/mnt/stripe/washu:$PYTHONPATH\"\n",
    "DIR=/mnt/stripe/bio/experiments/signal\n",
    "for M in $(ls $DIR | grep -v log.txt); do \n",
    "    echo \"Processing $DIR/$M\"; \n",
    "    for F in $(find /mnt/stripe/bio/raw-data/aging/loci_of_interest/ -name \"*.bed\"); do \n",
    "        echo \"Processing regions $F\"; \n",
    "        N=${F%%.bed}; \n",
    "        N=${N##*/}; \n",
    "        echo $N; \n",
    "        bash /mnt/stripe/washu/parallel/signals_bw.sh $DIR/$M $F $N /mnt/stripe/bio/genomes/hg19/hg19.chrom.sizes;         done;\n",
    "done | tee log.txt\n",
    "```\n",
    "\n",
    "### Copy pngs to a single folders\n",
    "```\n",
    "# Copy results to _png\n",
    "for M in $(ls $DIR | grep -v log.txt); do \n",
    "    mkdir -p \"${M}_png\";\n",
    "    find $M/ -name \"*.png\" | xargs -i cp {} ${M}_png/\n",
    "done\n",
    "```"
   ]
  },
  {
   "cell_type": "code",
   "execution_count": null,
   "metadata": {
    "collapsed": false
   },
   "outputs": [],
   "source": [
    "%matplotlib inline\n",
    "%run ~/work/washu/scripts/signals_visualize.py"
   ]
  },
  {
   "cell_type": "markdown",
   "metadata": {},
   "source": [
    "# K27ac"
   ]
  },
  {
   "cell_type": "code",
   "execution_count": null,
   "metadata": {
    "collapsed": false,
    "scrolled": true
   },
   "outputs": [],
   "source": [
    "folder = '/mnt/stripe/bio/experiments/signal/H3K27ac'\n",
    "for f in os.listdir(folder):\n",
    "    if (os.path.isdir(os.path.join(folder, f))):\n",
    "        process(folder, f)"
   ]
  },
  {
   "cell_type": "markdown",
   "metadata": {
    "collapsed": true
   },
   "source": [
    "# K27me3"
   ]
  },
  {
   "cell_type": "code",
   "execution_count": null,
   "metadata": {
    "collapsed": false,
    "scrolled": false
   },
   "outputs": [],
   "source": [
    "folder = '/mnt/stripe/bio/experiments/signal/H3K27me3'\n",
    "for f in os.listdir(folder):\n",
    "    if (os.path.isdir(os.path.join(folder, f))):\n",
    "        process(folder, f)"
   ]
  },
  {
   "cell_type": "markdown",
   "metadata": {},
   "source": [
    "# K36me3"
   ]
  },
  {
   "cell_type": "code",
   "execution_count": null,
   "metadata": {
    "collapsed": false
   },
   "outputs": [],
   "source": [
    "folder = '/mnt/stripe/bio/experiments/signal/H3K36me3'\n",
    "for f in os.listdir(folder):\n",
    "    if (os.path.isdir(os.path.join(folder, f))):\n",
    "        process(folder, f)"
   ]
  },
  {
   "cell_type": "markdown",
   "metadata": {},
   "source": [
    "# K4me1"
   ]
  },
  {
   "cell_type": "code",
   "execution_count": null,
   "metadata": {
    "collapsed": false
   },
   "outputs": [],
   "source": [
    "folder = '/mnt/stripe/bio/experiments/signal/H3K4me1'\n",
    "for f in os.listdir(folder):\n",
    "    if (os.path.isdir(os.path.join(folder, f))):\n",
    "        process(folder, f)"
   ]
  },
  {
   "cell_type": "markdown",
   "metadata": {},
   "source": [
    "# K4me3"
   ]
  },
  {
   "cell_type": "code",
   "execution_count": null,
   "metadata": {
    "collapsed": true
   },
   "outputs": [],
   "source": [
    "folder = '/mnt/stripe/bio/experiments/signal/H3K4me3'\n",
    "for f in os.listdir(folder):\n",
    "    if (os.path.isdir(os.path.join(folder, f))):\n",
    "        process(folder, f)"
   ]
  },
  {
   "cell_type": "code",
   "execution_count": null,
   "metadata": {
    "collapsed": true
   },
   "outputs": [],
   "source": []
  }
 ],
 "metadata": {
  "kernelspec": {
   "display_name": "Python 3",
   "language": "python",
   "name": "python3"
  },
  "language_info": {
   "codemirror_mode": {
    "name": "ipython",
    "version": 3
   },
   "file_extension": ".py",
   "mimetype": "text/x-python",
   "name": "python",
   "nbconvert_exporter": "python",
   "pygments_lexer": "ipython3",
   "version": "3.5.1"
  }
 },
 "nbformat": 4,
 "nbformat_minor": 0
}
