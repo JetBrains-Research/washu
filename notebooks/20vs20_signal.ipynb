{
 "cells": [
  {
   "cell_type": "markdown",
   "metadata": {},
   "source": [
    "# 20 vs 20 signal processing\n",
    "\n",
    "### There is 2 ways to process signal\n",
    "* Based on exact tags count using fragment size\n",
    "    UNIQUE_BAM -> PILEUP_BED -> TAGS -> intersect with given regions bed and compute intersection\n",
    "* Based on bigwigs\n",
    "    UNIQUE_BAM -> BIGWIG -> bigWigAverageOverBed\n",
    "\n",
    "### Interesting LOCI\n",
    "/mnt/stripe/bio/raw-data/aging/loci_of_interest/"
   ]
  },
  {
   "cell_type": "markdown",
   "metadata": {},
   "source": [
    "# Prepare BigWigs\n",
    "```\n",
    "mkdir /mnt/stripe/bio/experiments/signal\n",
    "cd /mnt/stripe/bio/experiments/signal\n",
    "mkdir H3K27ac\n",
    "cp /mnt/stripe/bio/experiments/configs/Y20O20/browsers/browser_tracks/*k27ac*_unique.bw H3K27ac\n",
    "cp /mnt/stripe/bio/experiments/configs/Y20O20/browsers/browser_tracks/*input*_unique.bw H3K27ac\n",
    "mkdir H3K27me3\n",
    "cp /mnt/stripe/bio/experiments/configs/Y20O20/browsers/browser_tracks/*k27me3*_unique.bw H3K27me3\n",
    "cp /mnt/stripe/bio/experiments/configs/Y20O20/browsers/browser_tracks/*input*_unique.bw H3K27me3\n",
    "mkdir H3K36me3\n",
    "cp /mnt/stripe/bio/experiments/configs/Y20O20/browsers/browser_tracks/*k36me3*_unique.bw H3K36me3\n",
    "cp /mnt/stripe/bio/experiments/configs/Y20O20/browsers/browser_tracks/*input*_unique.bw H3K36me3\n",
    "mkdir H3K4me1\n",
    "cp /mnt/stripe/bio/experiments/configs/Y20O20/browsers/browser_tracks/*k4me1*_unique.bw H3K4me1\n",
    "cp /mnt/stripe/bio/experiments/configs/Y20O20/browsers/browser_tracks/*input*_unique.bw H3K4me1\n",
    "mkdir H3K4me3\n",
    "cp /mnt/stripe/bio/experiments/configs/Y20O20/browsers/browser_tracks/*k4me3*_unique.bw H3K4me3\n",
    "cp /mnt/stripe/bio/experiments/configs/Y20O20/browsers/browser_tracks/*input*_unique.bw H3K4me3\n",
    "mkdir meth\n",
    "cp /mnt/stripe/bio/experiments/configs/Y20O20/browsers/browser_tracks/*meth*.bw meth/\n",
    "# Remove outliers\n",
    "rm meth/*od5* meth/*od17* meth/*yd9*\n",
    "mkdir rnaseq\n",
    "cp /mnt/stripe/bio/experiments/configs/Y20O20/browsers/browser_tracks/*transcription* rnaseq\n",
    "mkdir mirna\n",
    "cp /mnt/stripe/bio/experiments/configs/Y20O20/browsers/browser_tracks/*mirna* mirna\n",
    "```"
   ]
  },
  {
   "cell_type": "markdown",
   "metadata": {},
   "source": [
    "# Process signals and build PCA/graphics/diffbind scores\n",
    "```\n",
    "export PYTHONPATH=\"/mnt/stripe/washu:$PYTHONPATH\"\n",
    "DIR=/mnt/stripe/bio/experiments/signal\n",
    "cd $DIR\n",
    "for M in $(find . -maxdepth 1  -type d | grep '/' | sed 's#./##g'); do \n",
    "    echo \"Processing $DIR/$M\"; \n",
    "    for F in $(find /mnt/stripe/bio/raw-data/aging/loci_of_interest/ -name \"*.bed\"); do \n",
    "        echo \"Processing regions $F\"; \n",
    "        N=${F%%.bed}; \n",
    "        N=${N##*/}; \n",
    "        echo $N; \n",
    "        if [ ! -d $DIR/$M/$N ]; then\n",
    "            bash /mnt/stripe/washu/parallel/signals_bw.sh $DIR/$M $F $N /mnt/stripe/bio/genomes/hg19/hg19.chrom.sizes;\n",
    "        fi;\n",
    "    done;\n",
    "done | tee log.txt\n",
    "```\n"
   ]
  },
  {
   "cell_type": "markdown",
   "metadata": {},
   "source": [
    "### Create summary fit error table\n",
    "```\n",
    "T=$'\\t'; \n",
    "for F in $(find . -name \"*_fit_error.csv\"); do \n",
    "    N=$(echo $F | sed 's#\\./##g'); \n",
    "    M=${N%%/*}; \n",
    "    R=${N##*/}; \n",
    "    echo $M; echo $R; \n",
    "    L=$(cat $F | tr ',' '\\t'); \n",
    "    echo \"$M$T$R$T$L\" >> result.tsv.tmp; \n",
    "done\n",
    "echo \"modification${T}file${T}e${T}e_scaled${T}e_log${T}e_scaled_log${T}e_min\" > result.tsv\n",
    "cat result.tsv.tmp | awk -v OFS='\\t' '{min=$3; for(j=4;j<=6;j++){min=($j<min)?$j:min}; print($1,$2,$3,$4,$5,$6,min)}' >> result.tsv\n",
    "# Cleanup\n",
    "rm result.tsv.tmp\n",
    "```"
   ]
  },
  {
   "cell_type": "markdown",
   "metadata": {},
   "source": [
    "# Signals over weak consensus to mark outliers\n",
    "\n",
    "## Copy all the unique.bw\n",
    "```\n",
    "mkdir /mnt/stripe/bio/experiments/signal_outliers\n",
    "cd /mnt/stripe/bio/experiments/signal_outliers\n",
    "mkdir h3k27ac\n",
    "cp /mnt/stripe/bio/experiments/configs/Y20O20/browsers/browser/*k27ac*unique*.bw h3k27ac/\n",
    "mkdir h3k27me3\n",
    "cp /mnt/stripe/bio/experiments/configs/Y20O20/browsers/browser/*k27me3*unique*.bw h3k27me/\n",
    "mkdir h3k36me3\n",
    "cp /mnt/stripe/bio/experiments/configs/Y20O20/browsers/browser/*k36me3*unique*.bw h3k36me3/\n",
    "mkdir h3k4me1\n",
    "cp /mnt/stripe/bio/experiments/configs/Y20O20/browsers/browser/*k4me1*unique*.bw h3k4me1/\n",
    "mkdir h3k4me3\n",
    "cp /mnt/stripe/bio/experiments/configs/Y20O20/browsers/browser/*k4me3*unique*.bw h3k4me3/\n",
    "```\n",
    "\n",
    "## Copy weak consensus\n",
    "```\n",
    "cp /mnt/stripe/bio/raw-data/aging/loci_of_interest/golden_consensus/* .\n",
    "cp /mnt/stripe/bio/raw-data/aging/loci_of_interest/zinbra_consensus/* .\n",
    "```\n",
    "\n",
    "\n",
    "## Launch PCA\n",
    "```\n",
    "export PYTHONPATH=\"/mnt/stripe/washu:$PYTHONPATH\"\n",
    "DIR=/mnt/stripe/bio/experiments/signal_outliers\n",
    "cd $DIR\n",
    "for M in $(find . -maxdepth 1  -type d | grep '/' | sed 's#\\./##g'); do \n",
    "    echo \"Processing $DIR/$M\"; \n",
    "    for F in $(find $DIR -iname \"*$M*.bed\"); do \n",
    "        echo \"Processing regions $F\"; \n",
    "        N=${F%%.bed}; \n",
    "        N=${N##*/}; \n",
    "        echo $N; \n",
    "        if [ ! -d $DIR/$M/$N ]; then\n",
    "            bash /mnt/stripe/washu/parallel/signals_bw.sh $DIR/$M $F $N /mnt/stripe/bio/genomes/hg19/hg19.chrom.sizes;\n",
    "        fi;\n",
    "    done;\n",
    "done | tee log.txt```"
   ]
  },
  {
   "cell_type": "code",
   "execution_count": null,
   "metadata": {
    "collapsed": true
   },
   "outputs": [],
   "source": []
  }
 ],
 "metadata": {
  "kernelspec": {
   "display_name": "Python 3",
   "language": "python",
   "name": "python3"
  },
  "language_info": {
   "codemirror_mode": {
    "name": "ipython",
    "version": 3
   },
   "file_extension": ".py",
   "mimetype": "text/x-python",
   "name": "python",
   "nbconvert_exporter": "python",
   "pygments_lexer": "ipython3",
   "version": "3.5.1"
  }
 },
 "nbformat": 4,
 "nbformat_minor": 0
}
