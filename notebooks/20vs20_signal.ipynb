{
 "cells": [
  {
   "cell_type": "markdown",
   "metadata": {},
   "source": [
    "# 20 vs 20 signal processing\n",
    "\n",
    "### There is 2 ways to process signal\n",
    "* Based on exact tags count using fragment size\n",
    "    UNIQUE_BAM -> PILEUP_BED -> TAGS -> intersect with given regions bed and compute intersection\n",
    "* Based on bigwigs\n",
    "    UNIQUE_BAM -> BIGWIG -> bigWigAverageOverBed\n",
    "\n",
    "### Interesting LOCI\n",
    "/mnt/stripe/bio/raw-data/aging/loci_of_interest/"
   ]
  },
  {
   "cell_type": "markdown",
   "metadata": {},
   "source": [
    "# Prepare BigWigs\n",
    "```\n",
    "mkdir H3K27ac\n",
    "ls /mnt/stripe/bio/experiments/configs/Y20O20/browsers/data_browser/*k27ac*_unique.bw | xargs -I {} ln -s {} H3K27ac/\n",
    "ls /mnt/stripe/bio/experiments/configs/Y20O20/browsers/data_browser/*input*_unique.bw | xargs -I {} ln -s {} H3K27ac/\n",
    "mkdir H3K27me3\n",
    "ls /mnt/stripe/bio/experiments/configs/Y20O20/browsers/data_browser/*k27me3*_unique.bw | xargs -I {} ln -s {} H3K27me3/\n",
    "ls /mnt/stripe/bio/experiments/configs/Y20O20/browsers/data_browser/*input*_unique.bw | xargs -I {} ln -s {} H3K27me3/\n",
    "mkdir H3K36me3\n",
    "ls /mnt/stripe/bio/experiments/configs/Y20O20/browsers/data_browser/*k36me3*_unique.bw | xargs -I {} ln -s {} H3K36me3/\n",
    "ls /mnt/stripe/bio/experiments/configs/Y20O20/browsers/data_browser/*input*_unique.bw | xargs -I {} ln -s {} H3K36me3/\n",
    "mkdir H3K4me1\n",
    "ls /mnt/stripe/bio/experiments/configs/Y20O20/browsers/data_browser/*k4me1*_unique.bw | xargs -I {} ln -s {} H3K4me1/\n",
    "ls /mnt/stripe/bio/experiments/configs/Y20O20/browsers/data_browser/*input*_unique.bw | xargs -I {} ln -s {} H3K4me1/\n",
    "mkdir H3K4me3\n",
    "ls /mnt/stripe/bio/experiments/configs/Y20O20/browsers/data_browser/*k4me3*_unique.bw | xargs -I {} ln -s {} H3K4me3/\n",
    "ls /mnt/stripe/bio/experiments/configs/Y20O20/browsers/data_browser/*input*_unique.bw | xargs -I {} ln -s {} H3K4me3/\n",
    "mkdir meth\n",
    "ls /mnt/stripe/bio/experiments/configs/Y20O20/browsers/data_browser/*meth*.bw | xargs -I {} ln -s {} meth/\n",
    "# Remove outliers\n",
    "rm meth/*od5* meth/*od17* meth/*yd9*\n",
    "mkdir rnaseq\n",
    "ls /mnt/stripe/bio/experiments/configs/Y20O20/browsers/data_browser/*transcription*.bw | xargs -I {} ln -s {} rnaseq/\n",
    "mkdir mirna\n",
    "ls /mnt/stripe/bio/experiments/configs/Y20O20/browsers/data_browser/*mirna*.bw | xargs -I {} ln -s {} mirna/\n",
    "```"
   ]
  },
  {
   "cell_type": "markdown",
   "metadata": {},
   "source": [
    "# Process signals and build PCA/graphics/diffbind scores\n",
    "```\n",
    "export PYTHONPATH=\"/mnt/stripe/washu:$PYTHONPATH\"\n",
    "DIR=/mnt/stripe/bio/experiments/signal\n",
    "cd $DIR\n",
    "DIR=$(pwd)\n",
    "export WASHU_PARALLELISM=16\n",
    "for M in $(find . -maxdepth 1  -type d | grep '/' | sed 's#./##g'); do\n",
    "    echo \"Processing $M\"; \n",
    "    cd $DIR/$M\n",
    "    PEAKS=$(find /mnt/stripe/bio/experiments/aging/peak_calling/ -name \"${M}_golden_weak_consensus.bed\")\n",
    "    echo \"Peaks: $PEAKS\";\n",
    "    for F in $(find /mnt/stripe/bio/raw-data/aging/loci_of_interest/ -name \"*.bed\" | grep -v -E \"pathway|repeat\"); do \n",
    "        echo \"Processing regions $F\"; \n",
    "        N=${F%%.bed}; \n",
    "        N=${N##*/}; \n",
    "        if [ ! -d $DIR/$M/$N ]; then\n",
    "            time bash /mnt/stripe/washu/parallel/signals_bw.sh $DIR/$M $F $N /mnt/stripe/bio/genomes/hg19/hg19.chrom.sizes $PEAKS;\n",
    "        fi;\n",
    "    done;\n",
    "done | tee log.txt\n",
    "```\n"
   ]
  },
  {
   "cell_type": "markdown",
   "metadata": {},
   "source": [
    "### Create summary fit error table\n",
    "```\n",
    "T=$'\\t'; \n",
    "for F in $(find . -name \"*_fit_error.csv\"); do \n",
    "    N=$(echo $F | sed 's#\\./##g'); \n",
    "    M=${N%%/*}; \n",
    "    R=${N##*/}; \n",
    "    echo $M; echo $R; \n",
    "    L=$(cat $F | tr ',' '\\t'); \n",
    "    echo \"$M$T$R$T$L\" >> result.tsv.tmp; \n",
    "done\n",
    "echo \"modification${T}file${T}e${T}e_scaled${T}e_log${T}e_scaled_log${T}e_min\" > result.tsv\n",
    "cat result.tsv.tmp | awk -v OFS='\\t' '{min=$3; for(j=4;j<=6;j++){min=($j<min)?$j:min}; print($1,$2,$3,$4,$5,$6,min)}' >> result.tsv\n",
    "# Cleanup\n",
    "rm result.tsv.tmp\n",
    "```"
   ]
  },
  {
   "cell_type": "markdown",
   "metadata": {},
   "source": [
    "# Tests over weak consensus to find differential regions\n",
    "\n",
    "* Prepare all the bw files beforehead\n",
    "* Process signal based on golden standard weak consensus peaks \n",
    "* Launch statistics tests on \n",
    "\n",
    "## Compute signal\n",
    "```\n",
    "export PYTHONPATH=\"/mnt/stripe/washu:$PYTHONPATH\"\n",
    "DIR=/mnt/stripe/bio/experiments/signal_diff\n",
    "cd $DIR\n",
    "DIR=$(pwd)\n",
    "for M in $(find . -maxdepth 1  -type d | grep '/' | sed 's#\\./##g'); do \n",
    "    echo \"Processing $M\"; \n",
    "    cd $DIR/$M;\n",
    "    PEAKS=$(find /mnt/stripe/bio/experiments/aging/peak_calling/ -name \"${M}_golden_weak_consensus.bed\" | head -1)\n",
    "    N=${PEAKS%%.bed}; \n",
    "    N=${N##*/}; \n",
    "    bash /mnt/stripe/washu/parallel/signals_bw.sh $DIR/$M $PEAKS $N /mnt/stripe/bio/genomes/hg19/hg19.chrom.sizes $PEAKS;\n",
    "done | tee log.txt```"
   ]
  },
  {
   "cell_type": "markdown",
   "metadata": {
    "collapsed": true
   },
   "source": [
    "# Stat tests"
   ]
  },
  {
   "cell_type": "code",
   "execution_count": 3,
   "metadata": {
    "collapsed": false,
    "scrolled": false
   },
   "outputs": [],
   "source": [
    "%matplotlib inline\n",
    "from scipy.stats import mannwhitneyu\n",
    "from statsmodels.sandbox.stats.multicomp import multipletests\n",
    "import os\n",
    "import pandas as pd\n",
    "import numpy as np\n",
    "import matplotlib.pyplot as plt\n",
    "from scripts.util import *\n",
    "\n",
    "def test(X,Y):\n",
    "        try:\n",
    "            # Use only when the number of observation in each sample is > 20 \n",
    "            # and you have 2 independent samples of ranks. Mann-Whitney U is\n",
    "            # significant if the u-obtained is LESS THAN or equal to the critical value of U\n",
    "            return mannwhitneyu(X, Y).pvalue \n",
    "        except:\n",
    "            return 1.0\n",
    "def stat_test(folder, id, alpha):\n",
    "    for signal_type in ['raw', 'rpm', 'rpkm', 'rpm_peaks', 'scores']:\n",
    "        f = os.path.join(folder, '{0}/{0}_{1}.tsv'.format(id, signal_type))\n",
    "        print('Processing:', f)\n",
    "        try:\n",
    "            df = pd.read_csv(f, sep='\\t')\n",
    "            ods = [c for c in df.columns.values if is_od(c)]\n",
    "            yds = [c for c in df.columns.values if is_yd(c)]\n",
    "            pvals = np.array([test(row[ods], row[yds]) for _,row in df.iterrows()])\n",
    "            res = multipletests(pvals, alpha, \"fdr_bh\")\n",
    "            h0_rejects = res[0]\n",
    "            pvals_adj = res[1]\n",
    "            print(\"FDR={}: {}\".format(alpha, sum(h0_rejects)))\n",
    "            if sum(h0_rejects) > 0:\n",
    "                plt.figure(figsize=(10, 5))\n",
    "                ax = plt.subplot(1,2,1)\n",
    "                ax.hist(pvals, bins=30)\n",
    "                ax.set_title(\"[{}] P-values (no correction)\".format(signal_type))\n",
    "                ax = plt.subplot(1,2,2)\n",
    "                ax.hist(pvals_adj, bins=30)\n",
    "                ax.set_title(\"[{}] P-values (adjusted)\".format(signal_type))\n",
    "                plt.show()\n",
    "\n",
    "        except FileNotFoundError:\n",
    "            print('File not found:', f)"
   ]
  },
  {
   "cell_type": "code",
   "execution_count": 5,
   "metadata": {
    "collapsed": false
   },
   "outputs": [
    {
     "name": "stdout",
     "output_type": "stream",
     "text": [
      "Processing: /mnt/stripe/bio/experiments/signal_diff/H3K27ac/H3K27ac_golden_weak_consensus/H3K27ac_golden_weak_consensus_raw.tsv\n",
      "File not found: /mnt/stripe/bio/experiments/signal_diff/H3K27ac/H3K27ac_golden_weak_consensus/H3K27ac_golden_weak_consensus_raw.tsv\n",
      "Processing: /mnt/stripe/bio/experiments/signal_diff/H3K27ac/H3K27ac_golden_weak_consensus/H3K27ac_golden_weak_consensus_rpm.tsv\n",
      "File not found: /mnt/stripe/bio/experiments/signal_diff/H3K27ac/H3K27ac_golden_weak_consensus/H3K27ac_golden_weak_consensus_rpm.tsv\n",
      "Processing: /mnt/stripe/bio/experiments/signal_diff/H3K27ac/H3K27ac_golden_weak_consensus/H3K27ac_golden_weak_consensus_rpkm.tsv\n",
      "File not found: /mnt/stripe/bio/experiments/signal_diff/H3K27ac/H3K27ac_golden_weak_consensus/H3K27ac_golden_weak_consensus_rpkm.tsv\n",
      "Processing: /mnt/stripe/bio/experiments/signal_diff/H3K27ac/H3K27ac_golden_weak_consensus/H3K27ac_golden_weak_consensus_rpm_peaks.tsv\n",
      "File not found: /mnt/stripe/bio/experiments/signal_diff/H3K27ac/H3K27ac_golden_weak_consensus/H3K27ac_golden_weak_consensus_rpm_peaks.tsv\n",
      "Processing: /mnt/stripe/bio/experiments/signal_diff/H3K27me3/H3K27me3_golden_weak_consensus/H3K27me3_golden_weak_consensus_raw.tsv\n",
      "File not found: /mnt/stripe/bio/experiments/signal_diff/H3K27me3/H3K27me3_golden_weak_consensus/H3K27me3_golden_weak_consensus_raw.tsv\n",
      "Processing: /mnt/stripe/bio/experiments/signal_diff/H3K27me3/H3K27me3_golden_weak_consensus/H3K27me3_golden_weak_consensus_rpm.tsv\n",
      "File not found: /mnt/stripe/bio/experiments/signal_diff/H3K27me3/H3K27me3_golden_weak_consensus/H3K27me3_golden_weak_consensus_rpm.tsv\n",
      "Processing: /mnt/stripe/bio/experiments/signal_diff/H3K27me3/H3K27me3_golden_weak_consensus/H3K27me3_golden_weak_consensus_rpkm.tsv\n",
      "File not found: /mnt/stripe/bio/experiments/signal_diff/H3K27me3/H3K27me3_golden_weak_consensus/H3K27me3_golden_weak_consensus_rpkm.tsv\n",
      "Processing: /mnt/stripe/bio/experiments/signal_diff/H3K27me3/H3K27me3_golden_weak_consensus/H3K27me3_golden_weak_consensus_rpm_peaks.tsv\n",
      "File not found: /mnt/stripe/bio/experiments/signal_diff/H3K27me3/H3K27me3_golden_weak_consensus/H3K27me3_golden_weak_consensus_rpm_peaks.tsv\n",
      "Processing: /mnt/stripe/bio/experiments/signal_diff/H3K4me1/H3K4me1_golden_weak_consensus/H3K4me1_golden_weak_consensus_raw.tsv\n",
      "File not found: /mnt/stripe/bio/experiments/signal_diff/H3K4me1/H3K4me1_golden_weak_consensus/H3K4me1_golden_weak_consensus_raw.tsv\n",
      "Processing: /mnt/stripe/bio/experiments/signal_diff/H3K4me1/H3K4me1_golden_weak_consensus/H3K4me1_golden_weak_consensus_rpm.tsv\n",
      "File not found: /mnt/stripe/bio/experiments/signal_diff/H3K4me1/H3K4me1_golden_weak_consensus/H3K4me1_golden_weak_consensus_rpm.tsv\n",
      "Processing: /mnt/stripe/bio/experiments/signal_diff/H3K4me1/H3K4me1_golden_weak_consensus/H3K4me1_golden_weak_consensus_rpkm.tsv\n",
      "File not found: /mnt/stripe/bio/experiments/signal_diff/H3K4me1/H3K4me1_golden_weak_consensus/H3K4me1_golden_weak_consensus_rpkm.tsv\n",
      "Processing: /mnt/stripe/bio/experiments/signal_diff/H3K4me1/H3K4me1_golden_weak_consensus/H3K4me1_golden_weak_consensus_rpm_peaks.tsv\n",
      "File not found: /mnt/stripe/bio/experiments/signal_diff/H3K4me1/H3K4me1_golden_weak_consensus/H3K4me1_golden_weak_consensus_rpm_peaks.tsv\n",
      "Processing: /mnt/stripe/bio/experiments/signal_diff/H3K4me3/H3K4me3_golden_weak_consensus/H3K4me3_golden_weak_consensus_raw.tsv\n",
      "File not found: /mnt/stripe/bio/experiments/signal_diff/H3K4me3/H3K4me3_golden_weak_consensus/H3K4me3_golden_weak_consensus_raw.tsv\n",
      "Processing: /mnt/stripe/bio/experiments/signal_diff/H3K4me3/H3K4me3_golden_weak_consensus/H3K4me3_golden_weak_consensus_rpm.tsv\n",
      "File not found: /mnt/stripe/bio/experiments/signal_diff/H3K4me3/H3K4me3_golden_weak_consensus/H3K4me3_golden_weak_consensus_rpm.tsv\n",
      "Processing: /mnt/stripe/bio/experiments/signal_diff/H3K4me3/H3K4me3_golden_weak_consensus/H3K4me3_golden_weak_consensus_rpkm.tsv\n",
      "File not found: /mnt/stripe/bio/experiments/signal_diff/H3K4me3/H3K4me3_golden_weak_consensus/H3K4me3_golden_weak_consensus_rpkm.tsv\n",
      "Processing: /mnt/stripe/bio/experiments/signal_diff/H3K4me3/H3K4me3_golden_weak_consensus/H3K4me3_golden_weak_consensus_rpm_peaks.tsv\n",
      "File not found: /mnt/stripe/bio/experiments/signal_diff/H3K4me3/H3K4me3_golden_weak_consensus/H3K4me3_golden_weak_consensus_rpm_peaks.tsv\n",
      "Processing: /mnt/stripe/bio/experiments/signal_diff/H3K36me3/H3K36me3_golden_weak_consensus/H3K36me3_golden_weak_consensus_raw.tsv\n",
      "File not found: /mnt/stripe/bio/experiments/signal_diff/H3K36me3/H3K36me3_golden_weak_consensus/H3K36me3_golden_weak_consensus_raw.tsv\n",
      "Processing: /mnt/stripe/bio/experiments/signal_diff/H3K36me3/H3K36me3_golden_weak_consensus/H3K36me3_golden_weak_consensus_rpm.tsv\n",
      "File not found: /mnt/stripe/bio/experiments/signal_diff/H3K36me3/H3K36me3_golden_weak_consensus/H3K36me3_golden_weak_consensus_rpm.tsv\n",
      "Processing: /mnt/stripe/bio/experiments/signal_diff/H3K36me3/H3K36me3_golden_weak_consensus/H3K36me3_golden_weak_consensus_rpkm.tsv\n",
      "File not found: /mnt/stripe/bio/experiments/signal_diff/H3K36me3/H3K36me3_golden_weak_consensus/H3K36me3_golden_weak_consensus_rpkm.tsv\n",
      "Processing: /mnt/stripe/bio/experiments/signal_diff/H3K36me3/H3K36me3_golden_weak_consensus/H3K36me3_golden_weak_consensus_rpm_peaks.tsv\n",
      "File not found: /mnt/stripe/bio/experiments/signal_diff/H3K36me3/H3K36me3_golden_weak_consensus/H3K36me3_golden_weak_consensus_rpm_peaks.tsv\n"
     ]
    }
   ],
   "source": [
    "for m in ['H3K27ac', 'H3K27me3', 'H3K4me1', 'H3K4me3', 'H3K36me3']:\n",
    "    stat_test('/mnt/stripe/bio/experiments/signal_diff/{}'.format(m), \n",
    "              '{}_golden_weak_consensus'.format(m), \n",
    "              0.05)"
   ]
  },
  {
   "cell_type": "code",
   "execution_count": null,
   "metadata": {
    "collapsed": true
   },
   "outputs": [],
   "source": []
  }
 ],
 "metadata": {
  "kernelspec": {
   "display_name": "Python 3",
   "language": "python",
   "name": "python3"
  },
  "language_info": {
   "codemirror_mode": {
    "name": "ipython",
    "version": 3
   },
   "file_extension": ".py",
   "mimetype": "text/x-python",
   "name": "python",
   "nbconvert_exporter": "python",
   "pygments_lexer": "ipython3",
   "version": "3.5.1"
  }
 },
 "nbformat": 4,
 "nbformat_minor": 0
}
