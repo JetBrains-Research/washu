{
 "cells": [
  {
   "cell_type": "markdown",
   "metadata": {},
   "source": [
    "# 20 vs 20 signal processing\n",
    "\n",
    "## 2 ways to process signal\n",
    "* Based on exact tags count using fragment size\n",
    "    UNIQUE_BAM -> PILEUP_BED -> TAGS -> intersect with given regions bed and compute intersection\n",
    "* Based on bigwigs\n",
    "    UNIQUE_BAM -> BIGWIG -> bigWigAverageOverBed\n",
    "    \n",
    "### Unique BAM -> TAGS\n",
    "```\n",
    "./gradlew integration:shadowJar && java -cp integration/build/libs/integration-dev.jar org.jetbrains.bio.experiments.histones.UniqueBamsExperiment Y20O20\n",
    "\n",
    "cd /mnt/stripe/bio/experiments/configs/Y20O20/unique\n",
    "for D in $(ls . | grep -v yaml); do \n",
    "    echo $(pwd)/$D; \n",
    "    bash /mnt/stripe/washu/parallel/tags_bigwig.sh /mnt/stripe/bio/genomes/hg19/hg19.chrom.sizes 150 $(pwd)/$D; \n",
    "done\n",
    "```\n",
    "\n",
    "## Interesting LOCI\n",
    "* Manual generated `/mnt/stripe/bio/raw-data/aging/loci_of_interest/`\n",
    "* Auto generated `/mnt/stripe/bio/experiments/loci_of_interest/`\n",
    "* Consensus peaks `/mnt/stripe/bio/raw-data/aging/loci_of_interest/weak_consensus/`"
   ]
  },
  {
   "cell_type": "markdown",
   "metadata": {},
   "source": [
    "# Prepare BigWigs\n",
    "```\n",
    "# Prepare data\n",
    "for M in H3K27ac H3K27me3 H3K36me3 H3K4me1 H3K4me3; do \n",
    "    echo $M; \n",
    "    mkdir $M; \n",
    "    ls /mnt/stripe/bio/experiments/configs/Y20O20/unique_tags_bw/$M/*.bw | xargs -I {} ln -s {} $M/; \n",
    "    # In case we have input separated processed\n",
    "    # ls /mnt/stripe/bio/experiments/configs/Y20O20/unique_tags_bw/input/*.bw xargs -I {} ln -s {} $M/;\n",
    "done\n",
    "```"
   ]
  },
  {
   "cell_type": "markdown",
   "metadata": {},
   "source": [
    "# Process signals and build PCA\n",
    "```\n",
    "export PYTHONPATH=\"/mnt/stripe/washu:$PYTHONPATH\"\n",
    "DIR=/mnt/stripe/bio/experiments/signal\n",
    "cd $DIR\n",
    "DIR=$(pwd)\n",
    "export WASHU_PARALLELISM=16\n",
    "for M in $(find . -maxdepth 1  -type d | grep '/' | sed 's#./##g'); do\n",
    "    echo \"Processing $M\"; \n",
    "    cd $DIR/$M\n",
    "#    PEAKS=$(find /mnt/stripe/bio/experiments/aging/peak_calling/ -name \"${M}_golden_weak_consensus.bed\")\n",
    "#    echo \"Peaks: $PEAKS\";\n",
    "    for F in $(find /mnt/stripe/bio/raw-data/aging/loci_of_interest/ -name \"*.bed\" | grep -v -E \"pathway|repeat\"); do \n",
    "        echo \"Processing regions $F\"; \n",
    "        N=${F%%.bed}; \n",
    "        N=${N##*/}; \n",
    "        if [ ! -d $DIR/$M/$N ]; then\n",
    "            time bash /mnt/stripe/washu/parallel/signals_bw.sh $DIR/$M $F $N /mnt/stripe/bio/genomes/hg19/hg19.chrom.sizes $PEAKS;\n",
    "        fi;\n",
    "    done;\n",
    "done | tee log.txt\n",
    "\n",
    "# Create report\n",
    "bash ~/work/washu/reports/signals_report.sh ${DIR} ${DIR}/report.tsv\n",
    "```\n"
   ]
  },
  {
   "cell_type": "markdown",
   "metadata": {},
   "source": [
    "# Tests over consensus peaks to find differential regions\n",
    "\n",
    "* Process signal based on consensus peaks \n",
    "* Launch statistics tests on \n",
    "\n",
    "## Compute signal over weak consensus\n",
    "```\n",
    "# Compute signal on weak consensus\n",
    "cd /mnt/stripe/bio/experiments/signal_weak_consensus_peaks\n",
    "\n",
    "export PYTHONPATH=\"/mnt/stripe/washu:$PYTHONPATH\"\n",
    "DIR=$(pwd)\n",
    "export WASHU_PARALLELISM=20\n",
    "for M in $(find . -maxdepth 1  -type d | grep '/' | sed 's#./##g'); do\n",
    "    echo \"Processing $M\"; \n",
    "    cd $DIR/$M\n",
    "    for F in $(find /mnt/stripe/bio/raw-data/aging/loci_of_interest/weak_consensus/ -name \"*$M*.bed\" | grep -vE '[YO]D'); do \n",
    "        echo \"Processing $M regions $F\"; \n",
    "        N=${F%%.bed}; \n",
    "        N=${N##*/}; \n",
    "        if [ ! -d $DIR/$M/$N ]; then\n",
    "            time bash /mnt/stripe/washu/parallel/signals_bw.sh $DIR/$M $F $N /mnt/stripe/bio/genomes/hg19/hg19.chrom.sizes;\n",
    "        fi;\n",
    "    done;\n",
    "done | tee log.txt\n",
    "\n",
    "# Create report\n",
    "bash ~/work/washu/reports/signals_report.sh ${DIR} ${DIR}/report.tsv\n",
    "```"
   ]
  },
  {
   "cell_type": "code",
   "execution_count": 1,
   "metadata": {
    "collapsed": false,
    "scrolled": false
   },
   "outputs": [],
   "source": [
    "%matplotlib inline\n",
    "import glob\n",
    "from scipy.stats import mannwhitneyu\n",
    "from statsmodels.sandbox.stats.multicomp import multipletests\n",
    "import os\n",
    "import pandas as pd\n",
    "import numpy as np\n",
    "import matplotlib.pyplot as plt\n",
    "import re\n",
    "from scripts.util import *\n",
    "\n",
    "def test_pvals(x, y):\n",
    "    try:\n",
    "        # Mann-Whitney U test     \n",
    "        return mannwhitneyu(x, y).pvalue\n",
    "    except ValueError:\n",
    "        return 1.0\n",
    "\n",
    "def stat_test(folder, m, alpha):\n",
    "    folder = os.path.join(folder, m)\n",
    "    for signal_type in ['raw', 'rpm', 'rpkm', 'scores', 'scores_tmm']:\n",
    "        for f in glob.glob('{}/*/{}*{}.tsv'.format(folder, m, signal_type)):\n",
    "            print('Processing', m, re.sub('[^/]*/', '', f))\n",
    "            df = pd.read_csv(f, sep='\\t')\n",
    "            ods = [c for c in df.columns.values if is_od(c)]\n",
    "            yds = [c for c in df.columns.values if is_yd(c)]\n",
    "            pvals = np.array([test_pvals(row[ods], row[yds]) for _,row in df.iterrows()])\n",
    "            res = multipletests(pvals, alpha, \"fdr_bh\")\n",
    "            h0_rejects = res[0]\n",
    "            pvals_adj = res[1]\n",
    "            print(\"FDR={}: {}\".format(alpha, sum(h0_rejects)))\n",
    "            if sum(h0_rejects) > 0:\n",
    "                plt.figure(figsize=(10, 5))\n",
    "                ax = plt.subplot(1,2,1)\n",
    "                ax.hist(pvals, bins=30)\n",
    "                ax.set_title(\"{} P-values (no correction)\".format(f))\n",
    "                ax = plt.subplot(1,2,2)\n",
    "                ax.hist(pvals_adj, bins=30)\n",
    "                ax.set_title(\"{} P-values (adjusted)\".format(f))\n",
    "                plt.show()\n"
   ]
  },
  {
   "cell_type": "markdown",
   "metadata": {},
   "source": [
    "# Actual diff"
   ]
  },
  {
   "cell_type": "code",
   "execution_count": 5,
   "metadata": {
    "collapsed": false,
    "scrolled": false
   },
   "outputs": [
    {
     "name": "stdout",
     "output_type": "stream",
     "text": [
      "Processing H3K27ac H3K27ac_zinbra_weak_consensus_raw.tsv\n",
      "FDR=0.05: 0\n",
      "Processing H3K27ac H3K27ac_macs2_weak_consensus_raw.tsv\n",
      "FDR=0.05: 0\n",
      "Processing H3K27ac H3K27ac_zinbra_weak_consensus_rpm.tsv\n",
      "FDR=0.05: 0\n",
      "Processing H3K27ac H3K27ac_macs2_weak_consensus_rpm.tsv\n",
      "FDR=0.05: 0\n",
      "Processing H3K27ac H3K27ac_zinbra_weak_consensus_rpkm.tsv\n",
      "FDR=0.05: 0\n",
      "Processing H3K27ac H3K27ac_macs2_weak_consensus_rpkm.tsv\n",
      "FDR=0.05: 0\n",
      "Processing H3K27ac H3K27ac_zinbra_weak_consensus_scores.tsv\n",
      "FDR=0.05: 0\n",
      "Processing H3K27ac H3K27ac_macs2_weak_consensus_scores.tsv\n",
      "FDR=0.05: 0\n",
      "Processing H3K27ac H3K27ac_zinbra_weak_consensus_scores_tmm.tsv\n",
      "FDR=0.05: 0\n",
      "Processing H3K27ac H3K27ac_macs2_weak_consensus_scores_tmm.tsv\n",
      "FDR=0.05: 0\n",
      "Processing H3K27me3 H3K27me3_zinbra_weak_consensus_raw.tsv\n",
      "FDR=0.05: 0\n",
      "Processing H3K27me3 H3K27me3_macs2_weak_consensus_raw.tsv\n",
      "FDR=0.05: 0\n",
      "Processing H3K27me3 H3K27me3_sicer_weak_consensus_raw.tsv\n",
      "FDR=0.05: 0\n",
      "Processing H3K27me3 H3K27me3_zinbra_weak_consensus_rpm.tsv\n",
      "FDR=0.05: 0\n",
      "Processing H3K27me3 H3K27me3_macs2_weak_consensus_rpm.tsv\n",
      "FDR=0.05: 0\n",
      "Processing H3K27me3 H3K27me3_sicer_weak_consensus_rpm.tsv\n",
      "FDR=0.05: 0\n",
      "Processing H3K27me3 H3K27me3_zinbra_weak_consensus_rpkm.tsv\n",
      "FDR=0.05: 0\n",
      "Processing H3K27me3 H3K27me3_macs2_weak_consensus_rpkm.tsv\n",
      "FDR=0.05: 0\n",
      "Processing H3K27me3 H3K27me3_sicer_weak_consensus_rpkm.tsv\n",
      "FDR=0.05: 0\n",
      "Processing H3K27me3 H3K27me3_zinbra_weak_consensus_scores.tsv\n",
      "FDR=0.05: 0\n",
      "Processing H3K27me3 H3K27me3_macs2_weak_consensus_scores.tsv\n",
      "FDR=0.05: 0\n",
      "Processing H3K27me3 H3K27me3_sicer_weak_consensus_scores.tsv\n",
      "FDR=0.05: 0\n",
      "Processing H3K27me3 H3K27me3_zinbra_weak_consensus_scores_tmm.tsv\n",
      "FDR=0.05: 0\n",
      "Processing H3K27me3 H3K27me3_macs2_weak_consensus_scores_tmm.tsv\n",
      "FDR=0.05: 0\n",
      "Processing H3K27me3 H3K27me3_sicer_weak_consensus_scores_tmm.tsv\n",
      "FDR=0.05: 0\n",
      "Processing H3K4me1 H3K4me1_zinbra_weak_consensus_raw.tsv\n",
      "FDR=0.05: 0\n",
      "Processing H3K4me1 H3K4me1_macs2_weak_consensus_raw.tsv\n",
      "FDR=0.05: 0\n",
      "Processing H3K4me1 H3K4me1_zinbra_weak_consensus_rpm.tsv\n",
      "FDR=0.05: 0\n",
      "Processing H3K4me1 H3K4me1_macs2_weak_consensus_rpm.tsv\n",
      "FDR=0.05: 0\n",
      "Processing H3K4me1 H3K4me1_zinbra_weak_consensus_rpkm.tsv\n",
      "FDR=0.05: 0\n",
      "Processing H3K4me1 H3K4me1_macs2_weak_consensus_rpkm.tsv\n",
      "FDR=0.05: 0\n",
      "Processing H3K4me1 H3K4me1_zinbra_weak_consensus_scores.tsv\n",
      "FDR=0.05: 0\n",
      "Processing H3K4me1 H3K4me1_macs2_weak_consensus_scores.tsv\n",
      "FDR=0.05: 0\n",
      "Processing H3K4me1 H3K4me1_zinbra_weak_consensus_scores_tmm.tsv\n",
      "FDR=0.05: 0\n",
      "Processing H3K4me1 H3K4me1_macs2_weak_consensus_scores_tmm.tsv\n",
      "FDR=0.05: 0\n",
      "Processing H3K4me3 H3K4me3_zinbra_weak_consensus_raw.tsv\n",
      "FDR=0.05: 0\n",
      "Processing H3K4me3 H3K4me3_macs2_weak_consensus_raw.tsv\n",
      "FDR=0.05: 0\n",
      "Processing H3K4me3 H3K4me3_zinbra_weak_consensus_rpm.tsv\n",
      "FDR=0.05: 0\n",
      "Processing H3K4me3 H3K4me3_macs2_weak_consensus_rpm.tsv\n",
      "FDR=0.05: 0\n",
      "Processing H3K4me3 H3K4me3_zinbra_weak_consensus_rpkm.tsv\n",
      "FDR=0.05: 0\n",
      "Processing H3K4me3 H3K4me3_macs2_weak_consensus_rpkm.tsv\n",
      "FDR=0.05: 0\n",
      "Processing H3K4me3 H3K4me3_zinbra_weak_consensus_scores.tsv\n",
      "FDR=0.05: 0\n",
      "Processing H3K4me3 H3K4me3_macs2_weak_consensus_scores.tsv\n",
      "FDR=0.05: 0\n",
      "Processing H3K4me3 H3K4me3_zinbra_weak_consensus_scores_tmm.tsv\n",
      "FDR=0.05: 0\n",
      "Processing H3K4me3 H3K4me3_macs2_weak_consensus_scores_tmm.tsv\n",
      "FDR=0.05: 0\n",
      "Processing H3K36me3 H3K36me3_zinbra_weak_consensus_raw.tsv\n",
      "FDR=0.05: 0\n",
      "Processing H3K36me3 H3K36me3_macs2_weak_consensus_raw.tsv\n",
      "FDR=0.05: 0\n",
      "Processing H3K36me3 H3K36me3_sicer_weak_consensus_raw.tsv\n",
      "FDR=0.05: 0\n",
      "Processing H3K36me3 H3K36me3_zinbra_weak_consensus_rpm.tsv\n",
      "FDR=0.05: 0\n",
      "Processing H3K36me3 H3K36me3_macs2_weak_consensus_rpm.tsv\n",
      "FDR=0.05: 0\n",
      "Processing H3K36me3 H3K36me3_sicer_weak_consensus_rpm.tsv\n",
      "FDR=0.05: 0\n",
      "Processing H3K36me3 H3K36me3_zinbra_weak_consensus_rpkm.tsv\n",
      "FDR=0.05: 0\n",
      "Processing H3K36me3 H3K36me3_macs2_weak_consensus_rpkm.tsv\n",
      "FDR=0.05: 0\n",
      "Processing H3K36me3 H3K36me3_sicer_weak_consensus_rpkm.tsv\n",
      "FDR=0.05: 0\n",
      "Processing H3K36me3 H3K36me3_zinbra_weak_consensus_scores.tsv\n",
      "FDR=0.05: 0\n",
      "Processing H3K36me3 H3K36me3_macs2_weak_consensus_scores.tsv\n",
      "FDR=0.05: 0\n",
      "Processing H3K36me3 H3K36me3_sicer_weak_consensus_scores.tsv\n",
      "FDR=0.05: 0\n",
      "Processing H3K36me3 H3K36me3_zinbra_weak_consensus_scores_tmm.tsv\n",
      "FDR=0.05: 0\n",
      "Processing H3K36me3 H3K36me3_macs2_weak_consensus_scores_tmm.tsv\n",
      "FDR=0.05: 0\n",
      "Processing H3K36me3 H3K36me3_sicer_weak_consensus_scores_tmm.tsv\n",
      "FDR=0.05: 0\n"
     ]
    }
   ],
   "source": [
    "for m in ['H3K27ac', 'H3K27me3', 'H3K4me1', 'H3K4me3', 'H3K36me3']:\n",
    "    stat_test('/mnt/stripe/bio/experiments/signal_weak_consensus_peaks', m, 0.05)"
   ]
  },
  {
   "cell_type": "markdown",
   "metadata": {},
   "source": [
    "# K27ac testing with logFC"
   ]
  },
  {
   "cell_type": "code",
   "execution_count": 73,
   "metadata": {
    "collapsed": false
   },
   "outputs": [],
   "source": [
    "import re\n",
    "# Let's investigate one case for H3K27ac manually.\n",
    "df = pd.read_csv('/mnt/stripe/bio/experiments/signal_weak_consensus_peaks/\\\n",
    "H3K27ac/H3K27ac_macs2_weak_consensus/H3K27ac_macs2_weak_consensus_scores.tsv', sep='\\t')\n",
    "# Drop contigs\n",
    "df = df.loc[[bool(re.match('chr[0-9XYM]+$', c)) for c in df['chr']]]\n",
    "\n",
    "ods = [c for c in df.columns.values if is_od(c)]\n",
    "yds = [c for c in df.columns.values if is_yd(c)]\n",
    "pvals = np.array([test_pvals(row[ods], row[yds]) for _,row in df.iterrows()])\n",
    "alpha=0.05\n",
    "res = multipletests(pvals, alpha, \"fdr_bh\")\n",
    "h0_rejects = res[0]\n",
    "pvals_adj = res[1]\n",
    "print(\"FDR={}: {}\".format(alpha, sum(h0_rejects)))"
   ]
  },
  {
   "cell_type": "markdown",
   "metadata": {},
   "source": [
    "# Top 10 smallest P-value"
   ]
  },
  {
   "cell_type": "code",
   "execution_count": 87,
   "metadata": {
    "collapsed": false
   },
   "outputs": [
    {
     "name": "stdout",
     "output_type": "stream",
     "text": [
      "         chr      start        end     yd_mean  od_mean     logfc      pval  \\\n",
      "811     chr1   32644179   32644211    1.000000     1.70  0.530628  0.000056   \n",
      "2819    chr1  167442010  167442163    2.833333     1.30 -0.779090  0.000324   \n",
      "549     chr1   26597462   26597542    2.166667     1.00 -0.773190  0.000552   \n",
      "10783  chr13   50726553   50726729    6.444444    12.40  0.654478  0.000775   \n",
      "35469   chr7   94138962   94139931   59.666667    48.80 -0.201043  0.319940   \n",
      "2762    chr1  161932110  161932474    6.388889    12.65  0.683097  0.001804   \n",
      "38317   chr9   79145315   79145978   15.722222    19.30  0.205030  0.040681   \n",
      "3616    chr1  224010975  224011129    3.500000     6.00  0.538997  0.002109   \n",
      "9329   chr12   89661377   89661684    5.333333    10.05  0.633596  0.002195   \n",
      "26612   chr3   46036307   46038317  219.388889   231.30  0.052870  0.284267   \n",
      "\n",
      "       pval_adj  \n",
      "811    0.501615  \n",
      "2819   0.501615  \n",
      "549    0.501615  \n",
      "10783  0.501615  \n",
      "35469  0.501615  \n",
      "2762   0.501615  \n",
      "38317  0.501615  \n",
      "3616   0.501615  \n",
      "9329   0.501615  \n",
      "26612  0.501615  \n"
     ]
    }
   ],
   "source": [
    "df['pval']=pvals\n",
    "df['pval_adj']=pvals_adj\n",
    "df['od_mean']=df[ods].mean(axis=1).to_frame('od_mean')['od_mean']\n",
    "df['yd_mean']=df[yds].mean(axis=1).to_frame('yd_mean')['yd_mean']\n",
    "df['logfc']=np.log(df['od_mean'] / df['yd_mean'])\n",
    "COLUMNS=['chr', 'start', 'end', 'yd_mean', 'od_mean', 'logfc', 'pval', 'pval_adj']\n",
    "print(df.loc[pvals.argsort()[:10]][COLUMNS])"
   ]
  },
  {
   "cell_type": "markdown",
   "metadata": {},
   "source": [
    "# Top 10 largest absolute log FC\n",
    "**NOTE**: number 1 is the only DiffBind result for K27ac!"
   ]
  },
  {
   "cell_type": "code",
   "execution_count": 88,
   "metadata": {
    "collapsed": false
   },
   "outputs": [
    {
     "name": "stdout",
     "output_type": "stream",
     "text": [
      "         chr      start        end     yd_mean  od_mean     logfc      pval  \\\n",
      "8073   chr12    6240074    6241307    1.833333    49.65  3.298863  0.018814   \n",
      "7398   chr11   86306575   86307063   12.166667     1.30 -2.236336  0.051997   \n",
      "7616   chr11  115127019  115127515   13.444444     2.55 -1.662473  0.077028   \n",
      "8290   chr12   10707143   10708041   24.611111     5.85 -1.436756  0.064534   \n",
      "39304   chr9  134500615  134500631    1.222222     1.10 -0.105361  0.159899   \n",
      "22143   chr2  153031410  153033105  325.333333   344.95  0.058549  0.294305   \n",
      "8280   chr12   10460552   10460838    6.222222     1.65 -1.327352  0.437663   \n",
      "39438   chr9  139538135  139540152  203.055556   218.85  0.074907  0.309566   \n",
      "14020  chr16    1381973    1382229    6.500000     1.80 -1.284016  0.016030   \n",
      "7358   chr11   85461390   85461698    8.222222     2.30 -1.273931  0.339140   \n",
      "\n",
      "       pval_adj  \n",
      "8073   0.501615  \n",
      "7398   0.501615  \n",
      "7616   0.501615  \n",
      "8290   0.501615  \n",
      "39304  0.501615  \n",
      "22143  0.501615  \n",
      "8280   0.501615  \n",
      "39438  0.501615  \n",
      "14020  0.501615  \n",
      "7358   0.501615  \n"
     ]
    }
   ],
   "source": [
    "print(df.loc[np.abs(df['logfc']).argsort()[::-1][:10]][COLUMNS])"
   ]
  },
  {
   "cell_type": "code",
   "execution_count": null,
   "metadata": {
    "collapsed": true
   },
   "outputs": [],
   "source": []
  }
 ],
 "metadata": {
  "kernelspec": {
   "display_name": "Python 3",
   "language": "python",
   "name": "python3"
  },
  "language_info": {
   "codemirror_mode": {
    "name": "ipython",
    "version": 3
   },
   "file_extension": ".py",
   "mimetype": "text/x-python",
   "name": "python",
   "nbconvert_exporter": "python",
   "pygments_lexer": "ipython3",
   "version": "3.5.1"
  }
 },
 "nbformat": 4,
 "nbformat_minor": 0
}
