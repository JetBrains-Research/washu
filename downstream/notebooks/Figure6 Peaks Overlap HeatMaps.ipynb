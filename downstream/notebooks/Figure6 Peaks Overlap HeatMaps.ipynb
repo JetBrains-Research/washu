{
 "cells": [
  {
   "cell_type": "markdown",
   "metadata": {},
   "source": [
    "# Figure6 Donors Overlap HeatMaps\n",
    "\n",
    "** Plots **\n",
    "* ** Overlap ** consistency heatmap\n",
    "    * ZINBRA Tuned\n",
    "    * ZINBRA Default\n",
    "    * Golden (MACS2 + SICER) Default\n",
    "* ** Jaccard ** consistency heatmap\n",
    "    * ZINBRA Tuned\n",
    "    * ZINBRA Default\n",
    "    * Golden (MACS2 + SICER) Default\n",
    "\n",
    "* Out of scope: ZINBRA No Input; ZINBRA Split\n",
    "\n",
    "** Input** : \n",
    "* Peak Calling Summary - aging.tsv"
   ]
  },
  {
   "cell_type": "markdown",
   "metadata": {},
   "source": [
    "# Overlap: Y20O20, Zinbra"
   ]
  },
  {
   "cell_type": "code",
   "execution_count": 45,
   "metadata": {
    "ExecuteTime": {
     "end_time": "2018-02-26T14:54:02.720825Z",
     "start_time": "2018-02-26T14:54:02.476904Z"
    }
   },
   "outputs": [
    {
     "name": "stdout",
     "output_type": "stream",
     "text": [
      "/Users/romeo/work/washu\n",
      "/Users/romeo/work/washu:\n"
     ]
    }
   ],
   "source": [
    "# Ensure project configured\n",
    "! echo $WASHU_ROOT\n",
    "! echo $PYTHONPATH"
   ]
  },
  {
   "cell_type": "code",
   "execution_count": 103,
   "metadata": {
    "ExecuteTime": {
     "end_time": "2018-02-27T09:14:31.455197Z",
     "start_time": "2018-02-27T09:14:31.370813Z"
    },
    "collapsed": true
   },
   "outputs": [],
   "source": [
    "from collections import OrderedDict, Counter\n",
    "from itertools import repeat\n",
    "import os\n",
    "\n",
    "import pandas as pd\n",
    "from pathlib import Path\n",
    "\n",
    "import downstream.bed_metrics as bm\n",
    "import downstream.loci_of_interest as loi\n",
    "\n",
    "%matplotlib inline\n",
    "%config InlineBackend.figure_format='retina'\n",
    "from IPython.display import display\n",
    "import matplotlib.pyplot as plt\n",
    "from matplotlib.backends.backend_pdf import PdfPages\n",
    "\n",
    "N_THREADS = 8\n",
    "CLEAR_CACHE = False"
   ]
  },
  {
   "cell_type": "code",
   "execution_count": 50,
   "metadata": {
    "ExecuteTime": {
     "end_time": "2018-02-26T14:57:51.994441Z",
     "start_time": "2018-02-26T14:57:51.933930Z"
    }
   },
   "outputs": [
    {
     "data": {
      "text/html": [
       "<div>\n",
       "<style scoped>\n",
       "    .dataframe tbody tr th:only-of-type {\n",
       "        vertical-align: middle;\n",
       "    }\n",
       "\n",
       "    .dataframe tbody tr th {\n",
       "        vertical-align: top;\n",
       "    }\n",
       "\n",
       "    .dataframe thead th {\n",
       "        text-align: right;\n",
       "    }\n",
       "</style>\n",
       "<table border=\"1\" class=\"dataframe\">\n",
       "  <thead>\n",
       "    <tr style=\"text-align: right;\">\n",
       "      <th></th>\n",
       "      <th>donor</th>\n",
       "      <th>modification</th>\n",
       "      <th>tool</th>\n",
       "      <th>peaks</th>\n",
       "      <th>length</th>\n",
       "      <th>FRiP</th>\n",
       "      <th>procedure</th>\n",
       "      <th>params</th>\n",
       "      <th>file</th>\n",
       "      <th>tags</th>\n",
       "      <th>duplicates</th>\n",
       "      <th>Status</th>\n",
       "    </tr>\n",
       "  </thead>\n",
       "  <tbody>\n",
       "    <tr>\n",
       "      <th>0</th>\n",
       "      <td>OD1</td>\n",
       "      <td>H3K27ac</td>\n",
       "      <td>MACS2</td>\n",
       "      <td>21843</td>\n",
       "      <td>25197959</td>\n",
       "      <td>16.0923</td>\n",
       "      <td>default</td>\n",
       "      <td>--broad --broad-cutoff 1.0E-4</td>\n",
       "      <td>/mnt/stripe/bio/experiments/aging/peak_calling...</td>\n",
       "      <td>31047948</td>\n",
       "      <td>0.14</td>\n",
       "      <td>NaN</td>\n",
       "    </tr>\n",
       "    <tr>\n",
       "      <th>1</th>\n",
       "      <td>OD1</td>\n",
       "      <td>H3K27ac</td>\n",
       "      <td>MACS2</td>\n",
       "      <td>21843</td>\n",
       "      <td>25197959</td>\n",
       "      <td>16.0923</td>\n",
       "      <td>tuned</td>\n",
       "      <td>--broad --broad-cutoff 1.0E-4</td>\n",
       "      <td>/mnt/stripe/bio/experiments/configs/Y20O20/ben...</td>\n",
       "      <td>31047948</td>\n",
       "      <td>0.14</td>\n",
       "      <td>NaN</td>\n",
       "    </tr>\n",
       "    <tr>\n",
       "      <th>2</th>\n",
       "      <td>OD1</td>\n",
       "      <td>H3K27ac</td>\n",
       "      <td>ZINBRA</td>\n",
       "      <td>20927</td>\n",
       "      <td>27474600</td>\n",
       "      <td>16.4653</td>\n",
       "      <td>default</td>\n",
       "      <td>--fdr 1.0E-6 --gap 5</td>\n",
       "      <td>/mnt/stripe/bio/experiments/aging/peak_calling...</td>\n",
       "      <td>31047948</td>\n",
       "      <td>0.14</td>\n",
       "      <td>NaN</td>\n",
       "    </tr>\n",
       "    <tr>\n",
       "      <th>3</th>\n",
       "      <td>OD1</td>\n",
       "      <td>H3K27ac</td>\n",
       "      <td>ZINBRA</td>\n",
       "      <td>24760</td>\n",
       "      <td>37517000</td>\n",
       "      <td>18.2379</td>\n",
       "      <td>tuned</td>\n",
       "      <td>--fdr 1.0E-4 --gap 2</td>\n",
       "      <td>/mnt/stripe/bio/experiments/configs/Y20O20/ben...</td>\n",
       "      <td>31047948</td>\n",
       "      <td>0.14</td>\n",
       "      <td>NaN</td>\n",
       "    </tr>\n",
       "    <tr>\n",
       "      <th>4</th>\n",
       "      <td>OD10</td>\n",
       "      <td>H3K27ac</td>\n",
       "      <td>MACS2</td>\n",
       "      <td>30860</td>\n",
       "      <td>39691972</td>\n",
       "      <td>28.9157</td>\n",
       "      <td>default</td>\n",
       "      <td>--broad --broad-cutoff 1.0E-4</td>\n",
       "      <td>/mnt/stripe/bio/experiments/aging/peak_calling...</td>\n",
       "      <td>41258333</td>\n",
       "      <td>0.30</td>\n",
       "      <td>NaN</td>\n",
       "    </tr>\n",
       "  </tbody>\n",
       "</table>\n",
       "</div>"
      ],
      "text/plain": [
       "  donor modification    tool  peaks    length     FRiP procedure  \\\n",
       "0   OD1      H3K27ac   MACS2  21843  25197959  16.0923   default   \n",
       "1   OD1      H3K27ac   MACS2  21843  25197959  16.0923     tuned   \n",
       "2   OD1      H3K27ac  ZINBRA  20927  27474600  16.4653   default   \n",
       "3   OD1      H3K27ac  ZINBRA  24760  37517000  18.2379     tuned   \n",
       "4  OD10      H3K27ac   MACS2  30860  39691972  28.9157   default   \n",
       "\n",
       "                          params  \\\n",
       "0  --broad --broad-cutoff 1.0E-4   \n",
       "1  --broad --broad-cutoff 1.0E-4   \n",
       "2           --fdr 1.0E-6 --gap 5   \n",
       "3           --fdr 1.0E-4 --gap 2   \n",
       "4  --broad --broad-cutoff 1.0E-4   \n",
       "\n",
       "                                                file      tags  duplicates  \\\n",
       "0  /mnt/stripe/bio/experiments/aging/peak_calling...  31047948        0.14   \n",
       "1  /mnt/stripe/bio/experiments/configs/Y20O20/ben...  31047948        0.14   \n",
       "2  /mnt/stripe/bio/experiments/aging/peak_calling...  31047948        0.14   \n",
       "3  /mnt/stripe/bio/experiments/configs/Y20O20/ben...  31047948        0.14   \n",
       "4  /mnt/stripe/bio/experiments/aging/peak_calling...  41258333        0.30   \n",
       "\n",
       "  Status  \n",
       "0    NaN  \n",
       "1    NaN  \n",
       "2    NaN  \n",
       "3    NaN  \n",
       "4    NaN  "
      ]
     },
     "execution_count": 50,
     "metadata": {},
     "output_type": "execute_result"
    }
   ],
   "source": [
    "donors_df = pd.read_csv(\"/mnt/stripe/bio/experiments/figures/Peak Calling Summary - aging.tsv\", sep='\\t')\n",
    "donors_df.head()"
   ]
  },
  {
   "cell_type": "code",
   "execution_count": 51,
   "metadata": {
    "ExecuteTime": {
     "end_time": "2018-02-26T14:57:54.528468Z",
     "start_time": "2018-02-26T14:57:54.522865Z"
    }
   },
   "outputs": [
    {
     "data": {
      "text/plain": [
       "'/mnt/stripe/bio/experiments/aging/peak_calling/H3K27ac/macs_broad/OD1_k27ac_hg19_broad_peaks.broadPeak'"
      ]
     },
     "execution_count": 51,
     "metadata": {},
     "output_type": "execute_result"
    }
   ],
   "source": [
    "# File path example:\n",
    "donors_df.loc[0, \"file\"]"
   ]
  },
  {
   "cell_type": "code",
   "execution_count": 55,
   "metadata": {
    "ExecuteTime": {
     "end_time": "2018-02-26T14:59:51.521451Z",
     "start_time": "2018-02-26T14:59:51.503209Z"
    }
   },
   "outputs": [
    {
     "data": {
      "text/html": [
       "<div>\n",
       "<style scoped>\n",
       "    .dataframe tbody tr th:only-of-type {\n",
       "        vertical-align: middle;\n",
       "    }\n",
       "\n",
       "    .dataframe tbody tr th {\n",
       "        vertical-align: top;\n",
       "    }\n",
       "\n",
       "    .dataframe thead th {\n",
       "        text-align: right;\n",
       "    }\n",
       "</style>\n",
       "<table border=\"1\" class=\"dataframe\">\n",
       "  <thead>\n",
       "    <tr style=\"text-align: right;\">\n",
       "      <th></th>\n",
       "      <th>donor</th>\n",
       "      <th>modification</th>\n",
       "      <th>tool</th>\n",
       "      <th>peaks</th>\n",
       "      <th>length</th>\n",
       "      <th>FRiP</th>\n",
       "      <th>procedure</th>\n",
       "      <th>params</th>\n",
       "      <th>file</th>\n",
       "      <th>tags</th>\n",
       "      <th>duplicates</th>\n",
       "      <th>Status</th>\n",
       "    </tr>\n",
       "  </thead>\n",
       "  <tbody>\n",
       "    <tr>\n",
       "      <th>144</th>\n",
       "      <td>YD6</td>\n",
       "      <td>H3K27ac</td>\n",
       "      <td>MACS2</td>\n",
       "      <td>6462</td>\n",
       "      <td>4512432</td>\n",
       "      <td>1.553960</td>\n",
       "      <td>default</td>\n",
       "      <td>--broad --broad-cutoff 1.0E-4</td>\n",
       "      <td>/mnt/stripe/bio/experiments/aging/peak_calling...</td>\n",
       "      <td>43279118</td>\n",
       "      <td>0.07</td>\n",
       "      <td>Failed</td>\n",
       "    </tr>\n",
       "    <tr>\n",
       "      <th>145</th>\n",
       "      <td>YD6</td>\n",
       "      <td>H3K27ac</td>\n",
       "      <td>MACS2</td>\n",
       "      <td>9327</td>\n",
       "      <td>7185293</td>\n",
       "      <td>2.161770</td>\n",
       "      <td>tuned</td>\n",
       "      <td>--broad --broad-cutoff 0.01</td>\n",
       "      <td>/mnt/stripe/bio/experiments/configs/Y20O20/ben...</td>\n",
       "      <td>43279118</td>\n",
       "      <td>0.07</td>\n",
       "      <td>Failed</td>\n",
       "    </tr>\n",
       "    <tr>\n",
       "      <th>146</th>\n",
       "      <td>YD6</td>\n",
       "      <td>H3K27ac</td>\n",
       "      <td>ZINBRA</td>\n",
       "      <td>1794</td>\n",
       "      <td>14473800</td>\n",
       "      <td>0.468753</td>\n",
       "      <td>default</td>\n",
       "      <td>--fdr 1.0E-6 --gap 5</td>\n",
       "      <td>/mnt/stripe/bio/experiments/aging/peak_calling...</td>\n",
       "      <td>43279118</td>\n",
       "      <td>0.07</td>\n",
       "      <td>Failed</td>\n",
       "    </tr>\n",
       "    <tr>\n",
       "      <th>147</th>\n",
       "      <td>YD6</td>\n",
       "      <td>H3K27ac</td>\n",
       "      <td>ZINBRA</td>\n",
       "      <td>17511</td>\n",
       "      <td>15848000</td>\n",
       "      <td>3.444020</td>\n",
       "      <td>tuned</td>\n",
       "      <td>--fdr 1.0E-4 --gap 10</td>\n",
       "      <td>/mnt/stripe/bio/experiments/configs/Y20O20/ben...</td>\n",
       "      <td>43279118</td>\n",
       "      <td>0.07</td>\n",
       "      <td>Failed</td>\n",
       "    </tr>\n",
       "  </tbody>\n",
       "</table>\n",
       "</div>"
      ],
      "text/plain": [
       "    donor modification    tool  peaks    length      FRiP procedure  \\\n",
       "144   YD6      H3K27ac   MACS2   6462   4512432  1.553960   default   \n",
       "145   YD6      H3K27ac   MACS2   9327   7185293  2.161770     tuned   \n",
       "146   YD6      H3K27ac  ZINBRA   1794  14473800  0.468753   default   \n",
       "147   YD6      H3K27ac  ZINBRA  17511  15848000  3.444020     tuned   \n",
       "\n",
       "                            params  \\\n",
       "144  --broad --broad-cutoff 1.0E-4   \n",
       "145    --broad --broad-cutoff 0.01   \n",
       "146           --fdr 1.0E-6 --gap 5   \n",
       "147          --fdr 1.0E-4 --gap 10   \n",
       "\n",
       "                                                  file      tags  duplicates  \\\n",
       "144  /mnt/stripe/bio/experiments/aging/peak_calling...  43279118        0.07   \n",
       "145  /mnt/stripe/bio/experiments/configs/Y20O20/ben...  43279118        0.07   \n",
       "146  /mnt/stripe/bio/experiments/aging/peak_calling...  43279118        0.07   \n",
       "147  /mnt/stripe/bio/experiments/configs/Y20O20/ben...  43279118        0.07   \n",
       "\n",
       "     Status  \n",
       "144  Failed  \n",
       "145  Failed  \n",
       "146  Failed  \n",
       "147  Failed  "
      ]
     },
     "execution_count": 55,
     "metadata": {},
     "output_type": "execute_result"
    }
   ],
   "source": [
    "donors_df[(donors_df.modification == \"H3K27ac\") & (donors_df.donor == \"YD6\")]"
   ]
  },
  {
   "cell_type": "code",
   "execution_count": 117,
   "metadata": {
    "ExecuteTime": {
     "end_time": "2018-02-27T11:18:45.894748Z",
     "start_time": "2018-02-27T11:18:45.642123Z"
    }
   },
   "outputs": [],
   "source": [
    "def color_annotator_hist(label):\n",
    "    chunks = list(label.split(\"_\"))\n",
    "    hist, _donor, _tool = chunks\n",
    "    color = {'H3K4me1':'lightblue', 'H3K4me3':'red', 'H3K27ac':'black',\n",
    "             'H3K27me3':'green', 'H3K36me3':'lightgray'}[hist]\n",
    "\n",
    "    return ((\"Histone\", color),)\n",
    "\n",
    "def build_donros_heatmap(donors_df, tools_config, title, metric_df_path, *, \n",
    "                         tuned = True, overlap_metric = True, hide_failed_tracks = False,\n",
    "                         row_cluster=False, plot_path = None, threads = 4):\n",
    "    procedure = \"tuned\" if tuned else \"default\"\n",
    "    \n",
    "    hists = tools_config.keys()\n",
    "    \n",
    "    # Collect data: -----------------------------------\n",
    "    all_paths = []\n",
    "    all_labels = []\n",
    "    all_passed = []\n",
    "    print(\"Input Data:\".format(\" only passed tracks\" if hide_failed_tracks else \"\"))\n",
    "    for h in hists:\n",
    "        tool = tools_config[h]\n",
    "        mask = (donors_df.modification == h) & (donors_df.tool == tool) & (donors_df.procedure == procedure)\n",
    "        \n",
    "        paths = [Path(p) for p in donors_df[mask].file]\n",
    "        labels = [\"{}_{}_{}\".format(h, d, tool) for d in donors_df[mask].donor]\n",
    "        passed = donors_df[mask].Status != \"Failed\"\n",
    "        print(\"  {}: {} {} [passed: {}, failed: {}]\".format(h, procedure, tool, sum(passed), sum(~passed)))\n",
    "        \n",
    "        all_paths.extend(paths)\n",
    "        all_labels.extend(labels)\n",
    "        all_passed.extend(passed)\n",
    "        \n",
    "    # Metric: -----------------------------------\n",
    "    print(\"\\nMetrics table:\")\n",
    "    print(metric_df_path)\n",
    "    if CLEAR_CACHE:\n",
    "        if os.path.exists(metric_df_path):\n",
    "            os.remove(metric_df_path)\n",
    "            \n",
    "    df = bm.load_or_build_metrics_table(all_paths, all_paths, Path(str(metric_df_path)),\n",
    "                                        jaccard=not overlap_metric, threads=threads)\n",
    "    assert df.index.tolist() == df.columns.tolist()\n",
    "    df.index = all_labels\n",
    "    df.columns = all_labels\n",
    "\n",
    "    if hide_failed_tracks:\n",
    "        df = df.loc[all_passed, all_passed]\n",
    "\n",
    "    # Plot: -----------------------------------\n",
    "    metrics = \"Jaccard\" if not overlap_metric else \"Overlap\"\n",
    "    annotator = color_annotator_hist\n",
    "    \n",
    "    g = bm.plot_metric_heatmap(metrics, #IM: {}\".format(df_path.name), \n",
    "                               df,\n",
    "                               save_to=plot_path,\n",
    "                               row_cluster=row_cluster, \n",
    "                               col_cluster=False,\n",
    "                               row_color_annotator=annotator,\n",
    "                               col_color_annotator=annotator,\n",
    "                               row_colors_ratio=0.025, col_colors_ratio=0.025,\n",
    "                               # todo y/o\n",
    "                               figsize=(10, 10), cbar=False,\n",
    "                               show_or_save_plot=False)\n",
    "\n",
    "    # replace donors names with hist modifications:\n",
    "    filtered_labels = df.columns \n",
    "    hist_donors_cnt = Counter()\n",
    "    for l in filtered_labels:\n",
    "        hist = l.split(\"_\")[0]\n",
    "        hist_donors_cnt[hist] += 1\n",
    "    \n",
    "    hist_donors_counts = [hist_donors_cnt[h] for h in hists]\n",
    "    \n",
    "    ticks = [sum(hist_donors_counts[0:k]) + hist_donors_counts[k]/2 for k in range(len(hist_donors_counts))]\n",
    "    g.ax_heatmap.set_xticks(ticks)\n",
    "    g.ax_heatmap.set_xticklabels(hists, rotation=\"horizontal\", horizontalalignment = 'center')\n",
    "    g.ax_heatmap.set_yticks(ticks)\n",
    "    g.ax_heatmap.set_yticklabels(hists, rotation=\"vertical\", verticalalignment = 'center')\n",
    "\n",
    "    plt.setp(g.ax_heatmap.get_yticklabels(), rotation=90)\n",
    "    \n",
    "    # Turn off annotations\n",
    "    g.ax_col_colors.set_yticks([])\n",
    "    g.ax_row_colors.set_xticks([])\n",
    "\n",
    "    g.ax_col_colors.set_title(title)\n",
    "    \n",
    "    # Turn off Y lables:\n",
    "    if row_cluster == True:\n",
    "        g.ax_heatmap.set_yticks([])\n",
    "        \n",
    "    bm.save_plot(plot_path)"
   ]
  },
  {
   "cell_type": "markdown",
   "metadata": {},
   "source": [
    "# Overlap"
   ]
  },
  {
   "cell_type": "markdown",
   "metadata": {},
   "source": [
    "## Tuned ZINBRA"
   ]
  },
  {
   "cell_type": "code",
   "execution_count": null,
   "metadata": {
    "collapsed": true
   },
   "outputs": [],
   "source": [
    "build_donros_heatmap(\n",
    "    donors_df,\n",
    "    OrderedDict(zip(['H3K4me1', 'H3K4me3', 'H3K27ac', 'H3K27me3', 'H3K36me3'], repeat(\"ZINBRA\"))),\n",
    "    \"Tunned ZINBRA Overlap\",\n",
    "    \"/mnt/stripe/bio/experiments/configs/benchmark/benchmark/heatmap_overlap_tunned_zinbra.csv\",\n",
    "    plot_path=\"/mnt/stripe/bio/experiments/configs/benchmark/benchmark/heatmap_overlap_tunned_zinbra.pdf\",\n",
    "    tuned = True, overlap_metric = True, \n",
    "    threads=N_THREADS, hide_failed_tracks=True\n",
    ")\n",
    "\n",
    "build_donros_heatmap(\n",
    "    donors_df,\n",
    "    OrderedDict(zip(['H3K4me1', 'H3K4me3', 'H3K27ac', 'H3K27me3', 'H3K36me3'], repeat(\"ZINBRA\"))),\n",
    "    \"Tunned ZINBRA Overlap\",\n",
    "    \"/mnt/stripe/bio/experiments/configs/benchmark/benchmark/heatmap_overlap_tunned_zinbra.csv\",\n",
    "    tuned = True, overlap_metric = True,\n",
    "    threads=N_THREADS, hide_failed_tracks=True\n",
    ")"
   ]
  },
  {
   "cell_type": "markdown",
   "metadata": {},
   "source": [
    "## Default ZINBRA"
   ]
  },
  {
   "cell_type": "code",
   "execution_count": null,
   "metadata": {
    "collapsed": true
   },
   "outputs": [],
   "source": [
    "build_donros_heatmap(\n",
    "    donors_df,\n",
    "    OrderedDict(zip(['H3K4me1', 'H3K4me3', 'H3K27ac', 'H3K27me3', 'H3K36me3'], repeat(\"ZINBRA\"))),\n",
    "    \"Default ZINBRA Overlap\",\n",
    "    \"/mnt/stripe/bio/experiments/configs/benchmark/benchmark/heatmap_overlap_default_zinbra.csv\",\n",
    "    tuned = False, overlap_metric = True,\n",
    "    threads=N_THREADS, hide_failed_tracks=True\n",
    ")"
   ]
  },
  {
   "cell_type": "markdown",
   "metadata": {
    "ExecuteTime": {
     "end_time": "2018-02-27T10:01:11.428627Z",
     "start_time": "2018-02-27T10:01:11.425145Z"
    }
   },
   "source": [
    "## Default GOLDEN"
   ]
  },
  {
   "cell_type": "code",
   "execution_count": null,
   "metadata": {
    "collapsed": true
   },
   "outputs": [],
   "source": [
    "build_donros_heatmap(\n",
    "    donors_df,\n",
    "    OrderedDict([\n",
    "        *list(zip(['H3K4me1', 'H3K4me3', 'H3K27ac'], repeat(\"MACS2\"))),\n",
    "        *list(zip(['H3K27me3', 'H3K36me3'], repeat(\"SICER\")))\n",
    "    ]),\n",
    "    \"Default MACS2 & SICER Overlap\",\n",
    "    \"/mnt/stripe/bio/experiments/configs/benchmark/benchmark/heatmap_overlap_default_golden.csv\",\n",
    "    tuned = False, overlap_metric = True,\n",
    "    threads=N_THREADS, hide_failed_tracks=True\n",
    ")"
   ]
  },
  {
   "cell_type": "markdown",
   "metadata": {
    "ExecuteTime": {
     "end_time": "2018-02-27T10:01:11.362458Z",
     "start_time": "2018-02-27T10:01:11.358798Z"
    }
   },
   "source": [
    "# Jaccard"
   ]
  },
  {
   "cell_type": "markdown",
   "metadata": {},
   "source": [
    "## Tuned ZINBRA"
   ]
  },
  {
   "cell_type": "code",
   "execution_count": null,
   "metadata": {
    "collapsed": true
   },
   "outputs": [],
   "source": [
    "build_donros_heatmap(\n",
    "    donors_df,\n",
    "    OrderedDict(zip(['H3K4me1', 'H3K4me3', 'H3K27ac', 'H3K27me3', 'H3K36me3'], repeat(\"ZINBRA\"))),\n",
    "    \"Tuned ZINBRA Jaccard\",\n",
    "    \"/mnt/stripe/bio/experiments/configs/benchmark/benchmark/heatmap_jaccard_tuned_zinbra.csv\",\n",
    "    tuned = True, overlap_metric = False,\n",
    "    threads=N_THREADS, hide_failed_tracks=True\n",
    ")"
   ]
  },
  {
   "cell_type": "markdown",
   "metadata": {},
   "source": [
    "## Default ZINBRA"
   ]
  },
  {
   "cell_type": "code",
   "execution_count": null,
   "metadata": {
    "collapsed": true
   },
   "outputs": [],
   "source": [
    "build_donros_heatmap(\n",
    "    donors_df,\n",
    "    OrderedDict(zip(['H3K4me1', 'H3K4me3', 'H3K27ac', 'H3K27me3', 'H3K36me3'], repeat(\"ZINBRA\"))),\n",
    "    \"Default ZINBRA Jaccard\",\n",
    "    \"/mnt/stripe/bio/experiments/configs/benchmark/benchmark/heatmap_jaccard_default_zinbra.csv\",\n",
    "    tuned = False, overlap_metric = False,\n",
    "    threads=N_THREADS, hide_failed_tracks=True\n",
    ")"
   ]
  },
  {
   "cell_type": "markdown",
   "metadata": {},
   "source": [
    "## Default GOLDEN"
   ]
  },
  {
   "cell_type": "code",
   "execution_count": null,
   "metadata": {
    "collapsed": true
   },
   "outputs": [],
   "source": [
    "build_donros_heatmap(\n",
    "    donors_df,\n",
    "    OrderedDict([\n",
    "        *list(zip(['H3K4me1', 'H3K4me3', 'H3K27ac'], repeat(\"MACS2\"))),\n",
    "        *list(zip(['H3K27me3', 'H3K36me3'], repeat(\"SICER\")))\n",
    "    ]),\n",
    "    \"Default MACS2 & SICER Jaccard\",,\n",
    "    \"/mnt/stripe/bio/experiments/configs/benchmark/benchmark/heatmap_jaccard_default_golden.csv\",\n",
    "    tuned = False, overlap_metric = False,\n",
    "    threads=N_THREADS, hide_failed_tracks=True\n",
    ")"
   ]
  }
 ],
 "metadata": {
  "kernelspec": {
   "display_name": "Python 3",
   "language": "python",
   "name": "python3"
  },
  "language_info": {
   "codemirror_mode": {
    "name": "ipython",
    "version": 3
   },
   "file_extension": ".py",
   "mimetype": "text/x-python",
   "name": "python",
   "nbconvert_exporter": "python",
   "pygments_lexer": "ipython3",
   "version": "3.6.1"
  },
  "toc": {
   "nav_menu": {},
   "number_sections": true,
   "sideBar": true,
   "skip_h1_title": false,
   "toc_cell": false,
   "toc_position": {},
   "toc_section_display": "block",
   "toc_window_display": true
  },
  "varInspector": {
   "cols": {
    "lenName": 16,
    "lenType": 16,
    "lenVar": 40
   },
   "kernels_config": {
    "python": {
     "delete_cmd_postfix": "",
     "delete_cmd_prefix": "del ",
     "library": "var_list.py",
     "varRefreshCmd": "print(var_dic_list())"
    },
    "r": {
     "delete_cmd_postfix": ") ",
     "delete_cmd_prefix": "rm(",
     "library": "var_list.r",
     "varRefreshCmd": "cat(var_dic_list()) "
    }
   },
   "types_to_exclude": [
    "module",
    "function",
    "builtin_function_or_method",
    "instance",
    "_Feature"
   ],
   "window_display": false
  }
 },
 "nbformat": 4,
 "nbformat_minor": 2
}
