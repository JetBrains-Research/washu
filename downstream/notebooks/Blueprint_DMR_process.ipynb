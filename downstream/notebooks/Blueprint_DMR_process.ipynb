{
 "cells": [
  {
   "cell_type": "code",
   "execution_count": 65,
   "metadata": {
    "ExecuteTime": {
     "end_time": "2018-08-03T14:49:58.775277Z",
     "start_time": "2018-08-03T14:49:58.757761Z"
    }
   },
   "outputs": [],
   "source": [
    "DIR_PATH = '/mnt/stripe/bio/experiments/blueprint/data'"
   ]
  },
  {
   "cell_type": "markdown",
   "metadata": {},
   "source": [
    "# Blueprint DMR processing"
   ]
  },
  {
   "cell_type": "markdown",
   "metadata": {},
   "source": [
    "## Input: 6 methylcall files"
   ]
  },
  {
   "cell_type": "code",
   "execution_count": 62,
   "metadata": {
    "ExecuteTime": {
     "end_time": "2018-08-03T14:49:12.905952Z",
     "start_time": "2018-08-03T14:49:12.686653Z"
    },
    "scrolled": true
   },
   "outputs": [
    {
     "name": "stdout",
     "output_type": "stream",
     "text": [
      "total 6.4G\r\n",
      "drwxrwxr-x  2 user user 4.0K Jul 20 17:48 .\r\n",
      "drwxr-xr-x 12 user user 4.0K Aug  1 14:19 ..\r\n",
      "-rw-rw-r--  1 user user 1.1G Jul  9 20:39 methylcall.CpG.C000S5A1bs.GRCh38.20160531.mincov0.txt\r\n",
      "-rw-rw-r--  1 user user 1.1G Jul  9 20:43 methylcall.CpG.C0010KA2bs.GRCh38.20160531.mincov0.txt\r\n",
      "-rw-rw-r--  1 user user 1.1G Jul  9 20:37 methylcall.CpG.C001UYA3bs.GRCh38.20160531.mincov0.txt\r\n",
      "-rw-rw-r--  1 user user 1.1G Jul  9 20:35 methylcall.CpG.C004SQ51.GRCh38.20160531.mincov0.txt\r\n",
      "-rw-rw-r--  1 user user 1.1G Jul  9 20:45 methylcall.CpG.C005PS51.GRCh38.20160531.mincov0.txt\r\n",
      "-rw-rw-r--  1 user user 1.1G Jul  9 20:41 methylcall.CpG.S000RD54.GRCh38.20160531.mincov0.txt\r\n"
     ]
    }
   ],
   "source": [
    "!ls -alh $DIR_PATH/mincov0"
   ]
  },
  {
   "cell_type": "markdown",
   "metadata": {},
   "source": [
    "## Gather cytosine coverage"
   ]
  },
  {
   "cell_type": "code",
   "execution_count": null,
   "metadata": {
    "ExecuteTime": {
     "end_time": "2018-07-31T09:34:05.132249Z",
     "start_time": "2018-07-31T09:34:05.081277Z"
    }
   },
   "outputs": [],
   "source": [
    "%%R\n",
    "#gather_cytosine_data.R\n",
    "library(readr)\n",
    "library(dplyr)\n",
    "library(stringr)\n",
    "library(argparse)\n",
    "\n",
    "# parse command line arguments\n",
    "parser <- ArgumentParser()\n",
    "parser$add_argument('-d', '--inputDirectory', help = 'input directory', required = TRUE)\n",
    "parser$add_argument('-p', '--prefix', help = 'file name prefix', required = TRUE)\n",
    "parser$add_argument('-o', '--output', help = 'output file name', required = TRUE)\n",
    "args <- parser$parse_args()\n",
    "\n",
    "# get file info\n",
    "input_directory <- args$inputDirectory\n",
    "output_file <- args$output\n",
    "prefix <- args$prefix\n",
    "\n",
    "meth_files <- list.files(input_directory)\n",
    "is_initializes <- FALSE\n",
    "for (file in meth_files) {\n",
    "  print(file)\n",
    "  tag <- str_split(file, '\\\\.', simplify = T)[1, 3]\n",
    "  if (is_initializes) {\n",
    "    current_df <- read_tsv(paste0(input_directory, '/', file)) %>%\n",
    "      select(chrBase, coverage)\n",
    "    tagged_names <- c('chrBase', paste0('coverage.', tag))\n",
    "    colnames(current_df) <- tagged_names\n",
    "    df <- full_join(df, current_df, by = 'chrBase')\n",
    "  } else {\n",
    "    df <- read_tsv(paste0(input_directory, '/', file)) %>%\n",
    "      select(chrBase, coverage)\n",
    "    tagged_names <- c('chrBase', paste0('coverage.', tag))\n",
    "    colnames(df) <- tagged_names\n",
    "    is_initializes <- TRUE\n",
    "  }\n",
    "}\n",
    "\n",
    "write_tsv(df, output_file)"
   ]
  },
  {
   "cell_type": "code",
   "execution_count": 19,
   "metadata": {
    "ExecuteTime": {
     "end_time": "2018-07-31T10:02:48.916702Z",
     "start_time": "2018-07-31T09:48:03.367819Z"
    }
   },
   "outputs": [
    {
     "name": "stdout",
     "output_type": "stream",
     "text": [
      "Warning message:\n",
      "package ‘readr’ was built under R version 3.4.3 \n",
      "\n",
      "Attaching package: ‘dplyr’\n",
      "\n",
      "The following objects are masked from ‘package:stats’:\n",
      "\n",
      "    filter, lag\n",
      "\n",
      "The following objects are masked from ‘package:base’:\n",
      "\n",
      "    intersect, setdiff, setequal, union\n",
      "\n",
      "Warning message:\n",
      "package ‘dplyr’ was built under R version 3.4.3 \n",
      "Warning message:\n",
      "package ‘stringr’ was built under R version 3.4.3 \n",
      "[1] \"methylcall.CpG.C000S5A1bs.GRCh38.20160531.mincov0.txt\"\n",
      "Parsed with column specification:\n",
      "cols(\n",
      "  chrBase = col_character(),\n",
      "  chr = col_character(),\n",
      "  base = col_integer(),\n",
      "  strand = col_logical(),\n",
      "  coverage = col_integer(),\n",
      "  freqC = col_double(),\n",
      "  freqT = col_double()\n",
      ")\n",
      "[1] \"methylcall.CpG.C0010KA2bs.GRCh38.20160531.mincov0.txt\"\n",
      "Parsed with column specification:\n",
      "cols(\n",
      "  chrBase = col_character(),\n",
      "  chr = col_character(),\n",
      "  base = col_integer(),\n",
      "  strand = col_logical(),\n",
      "  coverage = col_integer(),\n",
      "  freqC = col_double(),\n",
      "  freqT = col_double()\n",
      ")\n",
      "[1] \"methylcall.CpG.C001UYA3bs.GRCh38.20160531.mincov0.txt\"\n",
      "Parsed with column specification:\n",
      "cols(\n",
      "  chrBase = col_character(),\n",
      "  chr = col_character(),\n",
      "  base = col_integer(),\n",
      "  strand = col_logical(),\n",
      "  coverage = col_integer(),\n",
      "  freqC = col_double(),\n",
      "  freqT = col_double()\n",
      ")\n",
      "[1] \"methylcall.CpG.C004SQ51.GRCh38.20160531.mincov0.txt\"\n",
      "Parsed with column specification:\n",
      "cols(\n",
      "  chrBase = col_character(),\n",
      "  chr = col_character(),\n",
      "  base = col_integer(),\n",
      "  strand = col_logical(),\n",
      "  coverage = col_integer(),\n",
      "  freqC = col_double(),\n",
      "  freqT = col_double()\n",
      ")\n",
      "[1] \"methylcall.CpG.C005PS51.GRCh38.20160531.mincov0.txt\"\n",
      "Parsed with column specification:\n",
      "cols(\n",
      "  chrBase = col_character(),\n",
      "  chr = col_character(),\n",
      "  base = col_integer(),\n",
      "  strand = col_logical(),\n",
      "  coverage = col_integer(),\n",
      "  freqC = col_double(),\n",
      "  freqT = col_double()\n",
      ")\n",
      "[1] \"methylcall.CpG.S000RD54.GRCh38.20160531.mincov0.txt\"\n",
      "Parsed with column specification:\n",
      "cols(\n",
      "  chrBase = col_character(),\n",
      "  chr = col_character(),\n",
      "  base = col_integer(),\n",
      "  strand = col_logical(),\n",
      "  coverage = col_integer(),\n",
      "  freqC = col_double(),\n",
      "  freqT = col_double()\n",
      ")\n"
     ]
    }
   ],
   "source": [
    "!Rscript --vanilla $DIR_PATH/gather_cytosine_data.R -d $DIR_PATH/mincov0 -p any -o $DIR_PATH/coverage_df_2.tsv"
   ]
  },
  {
   "cell_type": "markdown",
   "metadata": {},
   "source": [
    "## Filter cytosine coverage"
   ]
  },
  {
   "cell_type": "code",
   "execution_count": null,
   "metadata": {},
   "outputs": [],
   "source": [
    "%%R\n",
    "library(readr)\n",
    "library(dplyr)\n",
    "library(argparse)\n",
    "\n",
    "# parse command line arguments\n",
    "parser <- ArgumentParser()\n",
    "parser$add_argument('-i', '--input', help = 'input', required = TRUE)\n",
    "parser$add_argument('-o', '--output', help = 'output file name', required = TRUE)\n",
    "args <- parser$parse_args()\n",
    "\n",
    "input <- args$input\n",
    "output_file <- args$output\n",
    "\n",
    "# subset rows: mean(coverage) >= 10\n",
    "coverage_df <- read_tsv(input)\n",
    "coverage_matrix <- as.matrix(select(coverage_df, -chrBase))\n",
    "coverage_matrix[is.na(coverage_matrix)] <- 0\n",
    "covered_idx <- which(rowMeans(coverage_matrix) >= 10)\n",
    "coverage_df <- coverage_df[covered_idx, ]\n",
    "write_tsv(coverage_df, output_file)"
   ]
  },
  {
   "cell_type": "code",
   "execution_count": 22,
   "metadata": {
    "ExecuteTime": {
     "end_time": "2018-07-31T11:36:18.762489Z",
     "start_time": "2018-07-31T11:31:04.702635Z"
    }
   },
   "outputs": [
    {
     "name": "stdout",
     "output_type": "stream",
     "text": [
      "Warning message:\n",
      "package ‘readr’ was built under R version 3.4.3 \n",
      "\n",
      "Attaching package: ‘dplyr’\n",
      "\n",
      "The following objects are masked from ‘package:stats’:\n",
      "\n",
      "    filter, lag\n",
      "\n",
      "The following objects are masked from ‘package:base’:\n",
      "\n",
      "    intersect, setdiff, setequal, union\n",
      "\n",
      "Warning message:\n",
      "package ‘dplyr’ was built under R version 3.4.3 \n",
      "Parsed with column specification:\n",
      "cols(\n",
      "  chrBase = col_character(),\n",
      "  coverage.C000S5A1bs = col_integer(),\n",
      "  coverage.C0010KA2bs = col_integer(),\n",
      "  coverage.C001UYA3bs = col_integer(),\n",
      "  coverage.C004SQ51 = col_integer(),\n",
      "  coverage.C005PS51 = col_integer(),\n",
      "  coverage.S000RD54 = col_integer()\n",
      ")\n"
     ]
    }
   ],
   "source": [
    "!Rscript --vanilla $DIR_PATH/filter_mean_10.R -i $DIR_PATH/coverage_df_2.tsv -o $DIR_PATH/coverage_df_2_filtered_mean_10.tsv"
   ]
  },
  {
   "cell_type": "markdown",
   "metadata": {},
   "source": [
    "## Convert to cytosine regions"
   ]
  },
  {
   "cell_type": "code",
   "execution_count": 69,
   "metadata": {
    "ExecuteTime": {
     "end_time": "2018-08-03T14:54:45.610982Z",
     "start_time": "2018-08-03T14:51:52.674268Z"
    }
   },
   "outputs": [],
   "source": [
    "!awk -F'[.\\t]' '{if(NR!=1){print $1\"\\t\"$2\"\\t\"$2}}' /mnt/stripe/bio/experiments/blueprint/data/coverage_df_2_filtered_mean_10.tsv > /mnt/stripe/bio/experiments/blueprint/data/mean_10_covered_3.bed"
   ]
  },
  {
   "cell_type": "code",
   "execution_count": 71,
   "metadata": {
    "ExecuteTime": {
     "end_time": "2018-08-06T11:19:06.996629Z",
     "start_time": "2018-08-06T11:19:06.863519Z"
    }
   },
   "outputs": [
    {
     "name": "stdout",
     "output_type": "stream",
     "text": [
      "-rw-rw-r-- 1 user user 606M Aug  3 17:54 /mnt/stripe/bio/experiments/blueprint/data/mean_10_covered_3.bed\r\n"
     ]
    }
   ],
   "source": [
    "!ls -alh $DIR_PATH/mean_10_covered_3.bed"
   ]
  },
  {
   "cell_type": "markdown",
   "metadata": {},
   "source": [
    "## Run pipeline"
   ]
  },
  {
   "cell_type": "code",
   "execution_count": null,
   "metadata": {
    "ExecuteTime": {
     "end_time": "2018-07-31T11:47:12.171144Z",
     "start_time": "2018-07-31T11:47:12.137544Z"
    }
   },
   "outputs": [],
   "source": [
    "%%bash\n",
    "#!/bin/bash\n",
    "\n",
    "WDIR='/mnt/stripe/bio/experiments/blueprint/data/'\n",
    "cd $WDIR\n",
    "\n",
    "for full_file in $(find mincov0 -maxdepth 1 -mindepth 1 -type f);\n",
    "do\n",
    "    name=$(basename $full_file)\n",
    "    name=${name%????};\n",
    "    out_name=sorted_data/${name}.sorted.txt\n",
    "    echo $out_name\n",
    "    head -1 $full_file > $out_name\n",
    "    tail -n+2 $full_file | sed -e 's/ \\+/\\t/g' | sort -k2,2 -k3,3n  >> $out_name\n",
    "done"
   ]
  },
  {
   "cell_type": "code",
   "execution_count": 28,
   "metadata": {
    "ExecuteTime": {
     "end_time": "2018-07-31T13:10:40.767515Z",
     "start_time": "2018-07-31T11:48:22.959646Z"
    }
   },
   "outputs": [
    {
     "name": "stdout",
     "output_type": "stream",
     "text": [
      "sorted_data/methylcall.CpG.C000S5A1bs.GRCh38.20160531.mincov0.sorted.txt\n",
      "sorted_data/methylcall.CpG.C0010KA2bs.GRCh38.20160531.mincov0.sorted.txt\n",
      "sorted_data/methylcall.CpG.C001UYA3bs.GRCh38.20160531.mincov0.sorted.txt\n",
      "sorted_data/methylcall.CpG.C004SQ51.GRCh38.20160531.mincov0.sorted.txt\n",
      "sorted_data/methylcall.CpG.C005PS51.GRCh38.20160531.mincov0.sorted.txt\n",
      "sorted_data/methylcall.CpG.S000RD54.GRCh38.20160531.mincov0.sorted.txt\n"
     ]
    }
   ],
   "source": [
    "!bash $DIR_PATH/sort_data.sh"
   ]
  },
  {
   "cell_type": "code",
   "execution_count": 50,
   "metadata": {
    "ExecuteTime": {
     "end_time": "2018-08-01T11:06:01.209273Z",
     "start_time": "2018-08-01T11:06:01.093839Z"
    }
   },
   "outputs": [
    {
     "name": "stdout",
     "output_type": "stream",
     "text": [
      "total 6.4G\r\n",
      "drwxrwxr-x  2 user user 4.0K Jul 24 17:11 .\r\n",
      "drwxr-xr-x 10 user user 4.0K Aug  1 13:50 ..\r\n",
      "-rw-rw-r--  1 user user 1.1G Jul 31 15:02 methylcall.CpG.C000S5A1bs.GRCh38.20160531.mincov0.sorted.txt\r\n",
      "-rw-rw-r--  1 user user 1.1G Jul 31 15:15 methylcall.CpG.C0010KA2bs.GRCh38.20160531.mincov0.sorted.txt\r\n",
      "-rw-rw-r--  1 user user 1.1G Jul 31 15:29 methylcall.CpG.C001UYA3bs.GRCh38.20160531.mincov0.sorted.txt\r\n",
      "-rw-rw-r--  1 user user 1.1G Jul 31 15:43 methylcall.CpG.C004SQ51.GRCh38.20160531.mincov0.sorted.txt\r\n",
      "-rw-rw-r--  1 user user 1.1G Jul 31 15:56 methylcall.CpG.C005PS51.GRCh38.20160531.mincov0.sorted.txt\r\n",
      "-rw-rw-r--  1 user user 1.1G Jul 31 16:10 methylcall.CpG.S000RD54.GRCh38.20160531.mincov0.sorted.txt\r\n"
     ]
    }
   ],
   "source": [
    "!ls -alh $DIR_PATH/sorted_data"
   ]
  },
  {
   "cell_type": "code",
   "execution_count": null,
   "metadata": {},
   "outputs": [],
   "source": [
    "# prepare_methfiles.py\n",
    "import argparse\n",
    "import os\n",
    "\n",
    "# run example:\n",
    "# bash run_python3.sh scripts/python/prepare_methfiles.py '-i /scratch/shchukinai/aging/methylation/sorted_data/\n",
    "# -c /scratch/shchukinai/aging/methylation/cytosines.bed -p methylcall -s minavcov10.sorted\n",
    "# -o /scratch/shchukinai/aging/methylation/clean_methpipe/data/' methfiles\n",
    "\n",
    "def convert_line_to_methpipe_format(line):\n",
    "    id, chr, pos, strand, coverage, freqC, freqT = line.strip().split('\\t')\n",
    "    if strand == 'F':\n",
    "        strand = '+'\n",
    "    else:\n",
    "        strand = '-'\n",
    "    string = '\\t'.join([chr, pos, strand, 'CpG', str(float(freqC) / 100.0), coverage]) + '\\n'\n",
    "    return string\n",
    "\n",
    "\n",
    "def prepare_methfiles(cytosine_set, folder, prefix, suffix, output_dir):\n",
    "    # go though input directory and filter all files\n",
    "    files = [os.path.join(folder, file_name) for file_name in os.listdir(folder) if file_name.startswith(prefix)]\n",
    "    for file_name in files:\n",
    "        output_name = file_name.split('/')[-1].split('.')[:3]\n",
    "        output_name.extend([suffix, 'meth'])\n",
    "        output_name = os.path.join(output_dir, '.'.join(output_name))\n",
    "        with open(output_name, 'w') as out:\n",
    "            with open(file_name) as inp:\n",
    "                is_header = True\n",
    "                for line in inp:\n",
    "                    # skip header\n",
    "                    if is_header:\n",
    "                        is_header = False\n",
    "                        continue\n",
    "                    chr_base = line.split()[0]\n",
    "                    # skip cytosines that are not in the filtered set\n",
    "                    if chr_base not in cytosine_set:\n",
    "                        continue\n",
    "                    out.write(convert_line_to_methpipe_format(line))\n",
    "\n",
    "\n",
    "def main():\n",
    "    parser = argparse.ArgumentParser()\n",
    "    parser.add_argument('-i', '--inputDirectory', required=True, help='directory with initial sorted files')\n",
    "    parser.add_argument('-p', '--prefix', help=\"name prefix for methylation data files\", required=True)\n",
    "    parser.add_argument('-c', '--cytosine', help=\"BED file with cytosines set\", required=True)\n",
    "    parser.add_argument('-s', '--suffix', help=\"suffix to add\", required=True)\n",
    "    parser.add_argument('-o', '--outputDirectory', help='output directory')\n",
    "    args = parser.parse_args()\n",
    "\n",
    "    directory = args.inputDirectory\n",
    "    prefix = args.prefix\n",
    "    set_file = args.cytosine\n",
    "    output = args.outputDirectory\n",
    "    suffix = args.suffix\n",
    "\n",
    "    # read in cytosines to keep\n",
    "    cytosine_set = set()\n",
    "    with open(set_file) as inp:\n",
    "        for line in inp:\n",
    "            chr, start, end = line.strip().split()\n",
    "            cytosine_set.add('.'.join([chr, start]))\n",
    "\n",
    "    prepare_methfiles(cytosine_set, directory, prefix, suffix, output)\n",
    "\n",
    "\n",
    "if __name__ == \"__main__\":\n",
    "    main()"
   ]
  },
  {
   "cell_type": "code",
   "execution_count": 72,
   "metadata": {
    "ExecuteTime": {
     "end_time": "2018-08-06T11:32:27.366835Z",
     "start_time": "2018-08-06T11:20:13.574240Z"
    }
   },
   "outputs": [],
   "source": [
    "!rm -rf $DIR_PATH/prepare_output_3\n",
    "!mkdir $DIR_PATH/prepare_output_3\n",
    "!python $DIR_PATH/prepare_methfiles.py -i $DIR_PATH/sorted_data -p methylcall -s minavcov0.sorted -c $DIR_PATH/mean_10_covered_3.bed -o $DIR_PATH/prepare_output_3\n"
   ]
  },
  {
   "cell_type": "code",
   "execution_count": 73,
   "metadata": {
    "ExecuteTime": {
     "end_time": "2018-08-06T11:41:10.408787Z",
     "start_time": "2018-08-06T11:41:09.653629Z"
    }
   },
   "outputs": [],
   "source": [
    "!mv $DIR_PATH/prepare_output_3/methylcall.CpG.C005PS51.minavcov0.sorted.meth $DIR_PATH/prepare_output_3/methylcall.CpG.YD1.C005PS51.minavcov0.sorted.meth\n",
    "!mv $DIR_PATH/prepare_output_3/methylcall.CpG.S000RD54.minavcov0.sorted.meth $DIR_PATH/prepare_output_3/methylcall.CpG.YD2.S000RD54.minavcov0.sorted.meth\n",
    "\n",
    "!mv $DIR_PATH/prepare_output_3/methylcall.CpG.C000S5A1bs.minavcov0.sorted.meth $DIR_PATH/prepare_output_3/methylcall.CpG.OD1.C000S5A1bs.minavcov0.sorted.meth\n",
    "!mv $DIR_PATH/prepare_output_3/methylcall.CpG.C0010KA2bs.minavcov0.sorted.meth $DIR_PATH/prepare_output_3/methylcall.CpG.OD2.C0010KA2bs.minavcov0.sorted.meth\n",
    "!mv $DIR_PATH/prepare_output_3/methylcall.CpG.C001UYA3bs.minavcov0.sorted.meth $DIR_PATH/prepare_output_3/methylcall.CpG.OD3.C001UYA3bs.minavcov0.sorted.meth\n",
    "!mv $DIR_PATH/prepare_output_3/methylcall.CpG.C004SQ51.minavcov0.sorted.meth $DIR_PATH/prepare_output_3/methylcall.CpG.OD4.C004SQ51.minavcov0.sorted.meth\n"
   ]
  },
  {
   "cell_type": "code",
   "execution_count": 77,
   "metadata": {
    "ExecuteTime": {
     "end_time": "2018-08-06T11:43:06.779326Z",
     "start_time": "2018-08-06T11:43:06.647574Z"
    }
   },
   "outputs": [
    {
     "name": "stdout",
     "output_type": "stream",
     "text": [
      "total 4.7G\r\n",
      "drwxrwxr-x  2 user user 4.0K Aug  6 14:43 .\r\n",
      "drwxr-xr-x 14 user user 4.0K Aug  6 14:41 ..\r\n",
      "-rw-rw-r--  1 user user 800M Aug  6 14:23 methylcall.CpG.OD1.C000S5A1bs.minavcov0.sorted.meth\r\n",
      "-rw-rw-r--  1 user user 797M Aug  6 14:25 methylcall.CpG.OD2.C0010KA2bs.minavcov0.sorted.meth\r\n",
      "-rw-rw-r--  1 user user 805M Aug  6 14:26 methylcall.CpG.OD3.C001UYA3bs.minavcov0.sorted.meth\r\n",
      "-rw-rw-r--  1 user user 803M Aug  6 14:28 methylcall.CpG.OD4.C004SQ51.minavcov0.sorted.meth\r\n",
      "-rw-rw-r--  1 user user 800M Aug  6 14:30 methylcall.CpG.YD1.C005PS51.minavcov0.sorted.meth\r\n",
      "-rw-rw-r--  1 user user 805M Aug  6 14:32 methylcall.CpG.YD2.S000RD54.minavcov0.sorted.meth\r\n"
     ]
    }
   ],
   "source": [
    "!ls -alh $DIR_PATH/prepare_output_3"
   ]
  },
  {
   "cell_type": "code",
   "execution_count": null,
   "metadata": {},
   "outputs": [],
   "source": [
    "#prepare_methpipe_input.py\n",
    "import argparse\n",
    "import os\n",
    "import subprocess\n",
    "\n",
    "def main():\n",
    "    parser = argparse.ArgumentParser()\n",
    "    parser.add_argument('-i', '--inputDataDirectory', help='directory with .meth files', required=True)\n",
    "    parser.add_argument('-n', '--name', help=\"name to use for table and design\", required=True)\n",
    "    parser.add_argument('-o', '--outputDirectory', help='output directory')\n",
    "    args = parser.parse_args()\n",
    "\n",
    "    data_directory = args.inputDataDirectory\n",
    "    name_prefix = args.name\n",
    "    output_directory = args.outputDirectory\n",
    "\n",
    "    # use Methpipe to prepare table\n",
    "    table_name = os.path.join(output_directory, name_prefix + '_proportion_table.txt')\n",
    "    methfiles = [os.path.join(data_directory, file_name) for file_name in os.listdir(data_directory)]\n",
    "    #subprocess.run('module load gcc-4.7.2', shell=True)\n",
    "    subprocess.run('merge-methcounts -t ' + ' '.join(methfiles) + ' > {}'.format(table_name), shell=True)\n",
    "\n",
    "    # construct design table using proportion table header\n",
    "    with open(table_name) as inp:\n",
    "        prop_header = inp.readline().strip().split()\n",
    "    design_name = os.path.join(output_directory, name_prefix + '_design_matrix_complex.txt')\n",
    "    with open(design_name, 'w') as out:\n",
    "        out.write('\\t'.join(['base', 'case', 'batch']) + '\\n')\n",
    "        base = '1'\n",
    "        for methfile in prop_header:\n",
    "            case = '0'\n",
    "            batch = '0'\n",
    "            id = methfile.split('.')[2]\n",
    "            if id.startswith('OD'):\n",
    "                case = '1'\n",
    "            if int(id[2:]) > 10:\n",
    "                batch = '1'\n",
    "            out.write('\\t'.join([methfile, base, case, batch]) + '\\n')\n",
    "\n",
    "\n",
    "if __name__ == \"__main__\":\n",
    "    main()"
   ]
  },
  {
   "cell_type": "code",
   "execution_count": 78,
   "metadata": {
    "ExecuteTime": {
     "end_time": "2018-08-06T11:49:38.333315Z",
     "start_time": "2018-08-06T11:43:24.754303Z"
    }
   },
   "outputs": [
    {
     "name": "stdout",
     "output_type": "stream",
     "text": [
      "total 1.5G\r\n",
      "drwxrwxr-x  2 user user  111 Aug  6 14:49 .\r\n",
      "drwxr-xr-x 14 user user 4.0K Aug  6 14:43 ..\r\n",
      "-rw-rw-r--  1 user user  328 Aug  6 14:49 methpipe_input_3_design_matrix_complex.txt\r\n",
      "-rw-rw-r--  1 user user 1.5G Aug  6 14:49 methpipe_input_3_proportion_table.txt\r\n"
     ]
    }
   ],
   "source": [
    "!rm -rf $DIR_PATH/methpipe_input_3\n",
    "!mkdir $DIR_PATH/methpipe_input_3\n",
    "!python $DIR_PATH/prepare_methpipe_input.py -i $DIR_PATH/prepare_output_3/ -o $DIR_PATH/methpipe_input_3/ -n methpipe_input_3\n",
    "!ls -alh $DIR_PATH/methpipe_input_3"
   ]
  },
  {
   "cell_type": "code",
   "execution_count": null,
   "metadata": {},
   "outputs": [],
   "source": [
    "#run_methpipe.sh\n",
    "#!/bin/bash\n",
    "\n",
    "DESIGN=$1\n",
    "TABLE=$2\n",
    "OUTPUT=$3\n",
    "NAME=$4\n",
    "\n",
    "#rm ${NAME}.log\n",
    "\n",
    "WDIR=`pwd`\n",
    "ADJ_OUTPUT=\"${OUTPUT%.*}\".narrow.adjusted.bed\n",
    "REG_OUTPUT=\"${ADJ_OUTPUT%.*}\".regions.bed\n",
    "\n",
    "cd $WDIR\n",
    "radmeth regression -factor case -o $OUTPUT $DESIGN $TABLE\n",
    "radmeth adjust -bins 1:50:1 $OUTPUT > $ADJ_OUTPUT\n",
    "radmeth merge -p 0.05 $ADJ_OUTPUT > $REG_OUTPUT"
   ]
  },
  {
   "cell_type": "code",
   "execution_count": null,
   "metadata": {
    "ExecuteTime": {
     "start_time": "2018-08-06T12:05:09.078Z"
    }
   },
   "outputs": [],
   "source": [
    "!mkdir $DIR_PATH/methpipe_output_3\n",
    "!bash $DIR_PATH/run_methpipe.sh $DIR_PATH/methpipe_input_3/methpipe_input_3_design_matrix_complex.txt $DIR_PATH/methpipe_input_3/methpipe_input_3_proportion_table.txt $DIR_PATH/methpipe_output_3/clean_methpipe.bed\n",
    "!ls -alh $DIR_PATH/methpipe_output_3\n"
   ]
  },
  {
   "cell_type": "code",
   "execution_count": null,
   "metadata": {},
   "outputs": [],
   "source": []
  }
 ],
 "metadata": {
  "kernelspec": {
   "display_name": "Python 3",
   "language": "python",
   "name": "python3"
  },
  "language_info": {
   "codemirror_mode": {
    "name": "ipython",
    "version": 3
   },
   "file_extension": ".py",
   "mimetype": "text/x-python",
   "name": "python",
   "nbconvert_exporter": "python",
   "pygments_lexer": "ipython3",
   "version": "3.5.4"
  },
  "toc": {
   "nav_menu": {},
   "number_sections": true,
   "sideBar": true,
   "skip_h1_title": false,
   "toc_cell": false,
   "toc_position": {},
   "toc_section_display": "block",
   "toc_window_display": false
  }
 },
 "nbformat": 4,
 "nbformat_minor": 2
}
