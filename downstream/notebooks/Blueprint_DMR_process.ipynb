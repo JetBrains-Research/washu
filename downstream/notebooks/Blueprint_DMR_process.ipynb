{
 "cells": [
  {
   "cell_type": "code",
   "execution_count": 182,
   "metadata": {
    "ExecuteTime": {
     "end_time": "2018-08-13T13:20:37.881055Z",
     "start_time": "2018-08-13T13:20:37.300472Z"
    }
   },
   "outputs": [
    {
     "name": "stdout",
     "output_type": "stream",
     "text": [
      "/mnt/stripe/washu\r\n"
     ]
    }
   ],
   "source": [
    "!echo $WASHU_ROOT"
   ]
  },
  {
   "cell_type": "code",
   "execution_count": 183,
   "metadata": {
    "ExecuteTime": {
     "end_time": "2018-08-13T13:23:24.333249Z",
     "start_time": "2018-08-13T13:23:24.329977Z"
    }
   },
   "outputs": [],
   "source": [
    "DIR_PATH = '/mnt/stripe/bio/experiments/blueprint/data_redo'"
   ]
  },
  {
   "cell_type": "code",
   "execution_count": 561,
   "metadata": {
    "ExecuteTime": {
     "end_time": "2018-08-14T14:23:11.786066Z",
     "start_time": "2018-08-14T14:23:11.782718Z"
    }
   },
   "outputs": [],
   "source": [
    "LIFT_OVER_CHAIN_FILE = DIR_PATH + \"/hg38ToHg19.over.chain.gz\""
   ]
  },
  {
   "cell_type": "code",
   "execution_count": null,
   "metadata": {},
   "outputs": [],
   "source": [
    "%%bash -s $LIFT_OVER_CHAIN_FILE\n",
    "# conda install -c bioconda ucsc-liftover\n",
    "if [ ! -f $1 ]; then\n",
    "  wget --timestamping 'ftp://hgdownload.cse.ucsc.edu/goldenPath/hg38/liftOver/hg38ToHg19.over.chain.gz' -O $1\n",
    "fi"
   ]
  },
  {
   "cell_type": "markdown",
   "metadata": {},
   "source": [
    "# Blueprint DMR processing"
   ]
  },
  {
   "cell_type": "markdown",
   "metadata": {},
   "source": [
    "## Add OD / YD suffix"
   ]
  },
  {
   "cell_type": "code",
   "execution_count": 187,
   "metadata": {
    "ExecuteTime": {
     "end_time": "2018-08-13T15:59:40.082574Z",
     "start_time": "2018-08-13T15:59:39.523987Z"
    }
   },
   "outputs": [],
   "source": [
    "%%bash -s $DIR_PATH\n",
    "cd $1/bw\n",
    "\n",
    "# YD\n",
    "find . -name \"C005PS51.*\" | xargs -I fname bash -c 'echo fname | sed s/\\\\.\\\\//YD1./g | xargs -I nname mv fname nname'\n",
    "find . -name \"S000RD54.*\" | xargs -I fname bash -c 'echo fname | sed s/\\\\.\\\\//YD2./g | xargs -I nname mv fname nname'\n",
    "\n",
    "# OD\n",
    "find . -name \"C000S5A1bs.*\" | xargs -I fname bash -c 'echo fname | sed s/\\\\.\\\\//OD1./g | xargs -I nname mv fname nname'\n",
    "find . -name \"C0010KA2bs.*\" | xargs -I fname bash -c 'echo fname | sed s/\\\\.\\\\//OD2./g | xargs -I nname mv fname nname'\n",
    "find . -name \"C001UYA3bs.*\" | xargs -I fname bash -c 'echo fname | sed s/\\\\.\\\\//OD3./g | xargs -I nname mv fname nname'\n",
    "find . -name \"C004SQ51.*\" | xargs -I fname bash -c 'echo fname | sed s/\\\\.\\\\//OD4./g | xargs -I nname mv fname nname'"
   ]
  },
  {
   "cell_type": "markdown",
   "metadata": {},
   "source": [
    "## Convert to RRBS like output format\n",
    "In order to reuse our scripts made for RRBS data let's convert *.bw data to similar *.txt files containing columns:\n",
    "\n",
    "`chr  chrBase   base strand  coverage  freqC  freqT`"
   ]
  },
  {
   "cell_type": "code",
   "execution_count": 186,
   "metadata": {
    "ExecuteTime": {
     "end_time": "2018-08-13T15:36:24.616272Z",
     "start_time": "2018-08-13T15:36:24.317004Z"
    }
   },
   "outputs": [],
   "source": [
    "%%bash -s $DIR_PATH\n",
    "DIR_PATH=$1\n",
    "\n",
    "cd $DIR_PATH/bw\n",
    "# ensusre bigWigToWig, wig2bed tools available\n",
    "$WASHU_ROOT/downstream/preprocess_blueprint.sh\n",
    "\n",
    "mkdir -p $DIR_PATH/mincov0\n",
    "find . -name \"*.mincov0.txt\" | xargs -I fname mv fname $DIR_PATH/mincov0\n",
    "\n",
    "mkdir -p $DIR_PATH/mincov10\n",
    "find . -name \"*.mincov10.txt\" | xargs -I fname mv fname $DIR_PATH/mincov10"
   ]
  },
  {
   "cell_type": "code",
   "execution_count": 188,
   "metadata": {
    "ExecuteTime": {
     "end_time": "2018-08-13T16:06:59.388987Z",
     "start_time": "2018-08-13T16:06:58.880643Z"
    },
    "scrolled": true
   },
   "outputs": [
    {
     "name": "stdout",
     "output_type": "stream",
     "text": [
      "total 6.4G\r\n",
      "drwxrwxr-x 2 user user 4.0K Aug 13 19:06 .\r\n",
      "drwxrwxr-x 5 user user   60 Aug 13 18:36 ..\r\n",
      "-rw-rw-r-- 1 user user 1.1G Aug 13 17:14 methylcall.CpG.OD1.C000S5A1bs.GRCh38.20160531.mincov0.txt\r\n",
      "-rw-rw-r-- 1 user user 1.1G Aug 13 17:11 methylcall.CpG.OD2.C0010KA2bs.GRCh38.20160531.mincov0.txt\r\n",
      "-rw-rw-r-- 1 user user 1.1G Aug 13 17:18 methylcall.CpG.OD3.C001UYA3bs.GRCh38.20160531.mincov0.txt\r\n",
      "-rw-rw-r-- 1 user user 1.1G Aug 13 17:21 methylcall.CpG.OD4.C004SQ51.GRCh38.20160531.mincov0.txt\r\n",
      "-rw-rw-r-- 1 user user 1.1G Aug 13 17:25 methylcall.CpG.YD1.C005PS51.GRCh38.20160531.mincov0.txt\r\n",
      "-rw-rw-r-- 1 user user 1.1G Aug 13 17:29 methylcall.CpG.YD2.S000RD54.GRCh38.20160531.mincov0.txt\r\n"
     ]
    }
   ],
   "source": [
    "!ls -alh $DIR_PATH/mincov0"
   ]
  },
  {
   "cell_type": "markdown",
   "metadata": {},
   "source": [
    "## Collect cytosine coverage"
   ]
  },
  {
   "cell_type": "code",
   "execution_count": 350,
   "metadata": {
    "ExecuteTime": {
     "end_time": "2018-08-13T20:57:25.451383Z",
     "start_time": "2018-08-13T20:57:25.444400Z"
    }
   },
   "outputs": [
    {
     "name": "stdout",
     "output_type": "stream",
     "text": [
      "Overwriting /mnt/stripe/bio/experiments/blueprint/data_redo/collect_cytosine_data.py\n"
     ]
    }
   ],
   "source": [
    "%%writefile $DIR_PATH/collect_cytosine_data.py\n",
    "import pandas as pd\n",
    "from pathlib import Path\n",
    "\n",
    "def collect_cytosine_data(input_dir, result_path, tag_filter):\n",
    "    files = [f for f in Path(input_dir).glob(\"*.*\") if (tag_filter is None) or (tag_filter in f.name)]\n",
    "\n",
    "    cols = []\n",
    "    for file in Path(input_dir).glob(\"*.*\"):\n",
    "        if (tag_filter is None) or (tag_filter in file.name):\n",
    "            df = pd.read_csv(str(file), sep = \"\\t\", index_col=\"chrBase\", usecols=[\"chrBase\", \"coverage\"])\n",
    "            col = df[\"coverage\"]\n",
    "            col.name = file.stem\n",
    "            cols.append(col)\n",
    "            \n",
    "    def sorter(v):\n",
    "        chr, offset = v.split('.')\n",
    "        return chr, int(offset)\n",
    "\n",
    "    df = pd.DataFrame.from_dict({c.name: c for c in cols}, dtype=str)\n",
    "    df.ix[sorted(df.index, key=sorter)].to_csv(result_path, sep=\"\\t\", index_label=\"chrBase\", na_rep=\"NA\")\n",
    "\n",
    "if __name__ == \"__main__\":\n",
    "    import argparse\n",
    "    \n",
    "    parser = argparse.ArgumentParser()\n",
    "\n",
    "    parser.add_argument('input_dir', help = 'Directory with methylation *.txt files')\n",
    "    parser.add_argument('output', help = 'Result methylation table *.tsv file')\n",
    "    parser.add_argument('--tag', help = 'Filter methylation files with names including this tag string')\n",
    "    args = parser.parse_args()\n",
    "\n",
    "    collect_cytosine_data(args.input_dir, args.output, args.tag)"
   ]
  },
  {
   "cell_type": "code",
   "execution_count": 370,
   "metadata": {
    "ExecuteTime": {
     "end_time": "2018-08-13T22:43:54.376331Z",
     "start_time": "2018-08-13T22:43:53.572843Z"
    }
   },
   "outputs": [
    {
     "name": "stdout",
     "output_type": "stream",
     "text": [
      "usage: collect_cytosine_data.py [-h] [--tag TAG] input_dir output\r\n",
      "\r\n",
      "positional arguments:\r\n",
      "  input_dir   Directory with methylation *.txt files\r\n",
      "  output      Result methylation table *.tsv file\r\n",
      "\r\n",
      "optional arguments:\r\n",
      "  -h, --help  show this help message and exit\r\n",
      "  --tag TAG   Filter methylation files with names including this tag string\r\n"
     ]
    }
   ],
   "source": [
    "!python $DIR_PATH/collect_cytosine_data.py -h"
   ]
  },
  {
   "cell_type": "code",
   "execution_count": 351,
   "metadata": {
    "ExecuteTime": {
     "end_time": "2018-08-13T21:11:31.460528Z",
     "start_time": "2018-08-13T20:57:25.455085Z"
    }
   },
   "outputs": [],
   "source": [
    "!python $DIR_PATH/collect_cytosine_data.py $DIR_PATH/mincov0 $DIR_PATH/coverage.df.hg38.tsv"
   ]
  },
  {
   "cell_type": "code",
   "execution_count": 352,
   "metadata": {
    "ExecuteTime": {
     "end_time": "2018-08-13T21:11:31.820096Z",
     "start_time": "2018-08-13T21:11:31.463987Z"
    }
   },
   "outputs": [
    {
     "name": "stdout",
     "output_type": "stream",
     "text": [
      "chrBase\tmethylcall.CpG.OD1.C000S5A1bs.GRCh38.20160531.mincov0\tmethylcall.CpG.OD2.C0010KA2bs.GRCh38.20160531.mincov0\tmethylcall.CpG.OD3.C001UYA3bs.GRCh38.20160531.mincov0\tmethylcall.CpG.OD4.C004SQ51.GRCh38.20160531.mincov0\tmethylcall.CpG.YD1.C005PS51.GRCh38.20160531.mincov0\tmethylcall.CpG.YD2.S000RD54.GRCh38.20160531.mincov0\r\n",
      "chr1.10469\t8\t2\tNA\tNA\tNA\t5\r\n",
      "chr1.10471\t8\tNA\t6\t9\t3\t5\r\n",
      "chr1.10484\t8\tNA\t8\t10\tNA\t5\r\n",
      "chr1.10489\t8\t5\t10\t9\t3\t6\r\n",
      "chr1.10493\t8\t5\t11\t7\tNA\t7\r\n",
      "chr1.10497\t9\t6\t13\t6\tNA\t7\r\n",
      "chr1.10525\t10\t6\t10\t4\tNA\t7\r\n",
      "chr1.10531\t7\t5\t12\t4\tNA\tNA\r\n",
      "chr1.10542\t7\t5\t9\t5\tNA\tNA\r\n"
     ]
    }
   ],
   "source": [
    "!head $DIR_PATH/coverage.df.hg38.tsv"
   ]
  },
  {
   "cell_type": "markdown",
   "metadata": {},
   "source": [
    "## Filter cytosine coverage"
   ]
  },
  {
   "cell_type": "code",
   "execution_count": 353,
   "metadata": {
    "ExecuteTime": {
     "end_time": "2018-08-13T22:03:07.199085Z",
     "start_time": "2018-08-13T22:03:07.194145Z"
    }
   },
   "outputs": [
    {
     "name": "stdout",
     "output_type": "stream",
     "text": [
      "Overwriting /mnt/stripe/bio/experiments/blueprint/data_redo/filter_by_mean_cov.py\n"
     ]
    }
   ],
   "source": [
    "%%writefile $DIR_PATH/filter_by_mean_cov.py\n",
    "import pandas as pd\n",
    "\n",
    "def filter_by_mean_coverage(coverage_table_path, result_path, min_mean_coverage):\n",
    "    coverage_df = pd.read_csv(coverage_table_path, sep='\\t')\n",
    "    print(\"All cytosines number:\", coverage_df.shape[0])\n",
    "\n",
    "    # Consider cytosines covered with >= 1 reads in all samples\n",
    "    df = coverage_df.dropna()\n",
    "    # Filter by mean coverage threshold\n",
    "    df = df[df.mean(axis=1).values >= min_mean_coverage]\n",
    "    # convert float values to int:\n",
    "    data_cols = list(df.columns)[1:]\n",
    "    df.loc[:, data_cols] = df.loc[:, data_cols].astype(int)\n",
    "    print(\"Covered cytosines + mean coverage >= {} number: {}\".format(min_mean_coverage, df.shape[0]))\n",
    "    \n",
    "    df.to_csv(result_path, sep='\\t', index=False)\n",
    "\n",
    "if __name__ == \"__main__\":\n",
    "    import argparse\n",
    "    \n",
    "    parser = argparse.ArgumentParser(description=\"Filter cytosine positions covered in all donors with at least on read and with mean coverage across all donors at least given threshold\")\n",
    "    parser.add_argument('input', help = 'Coverage table by donor *.tsv path')\n",
    "    parser.add_argument('coverage', help = 'Cytosine mean coverage threshold')\n",
    "    parser.add_argument('output', help = 'Filtered table output path')\n",
    "    args = parser.parse_args()\n",
    "\n",
    "    filter_by_mean_coverage(args.input, args.output, int(args.coverage))"
   ]
  },
  {
   "cell_type": "code",
   "execution_count": 371,
   "metadata": {
    "ExecuteTime": {
     "end_time": "2018-08-13T22:44:24.898848Z",
     "start_time": "2018-08-13T22:44:23.757211Z"
    }
   },
   "outputs": [
    {
     "name": "stdout",
     "output_type": "stream",
     "text": [
      "usage: filter_by_mean_cov.py [-h] input coverage output\r\n",
      "\r\n",
      "Filter cytosine positions covered in all donors with at least on read and with\r\n",
      "mean coverage across all donors at least given threshold\r\n",
      "\r\n",
      "positional arguments:\r\n",
      "  input       Coverage table by donor *.tsv path\r\n",
      "  coverage    Cytosine mean coverage threshold\r\n",
      "  output      Filtered table output path\r\n",
      "\r\n",
      "optional arguments:\r\n",
      "  -h, --help  show this help message and exit\r\n"
     ]
    }
   ],
   "source": [
    "!python $DIR_PATH/filter_by_mean_cov.py -h"
   ]
  },
  {
   "cell_type": "code",
   "execution_count": 354,
   "metadata": {
    "ExecuteTime": {
     "end_time": "2018-08-13T22:07:39.953304Z",
     "start_time": "2018-08-13T22:03:10.629918Z"
    }
   },
   "outputs": [
    {
     "name": "stdout",
     "output_type": "stream",
     "text": [
      "All cytosines number: 28274081\n",
      "Covered cytosines + mean coverage >= 10 number: 23242924\n"
     ]
    }
   ],
   "source": [
    "!python $DIR_PATH/filter_by_mean_cov.py $DIR_PATH/coverage.df.hg38.tsv 10 $DIR_PATH/coverage.df.hg38.filtered.mean10.tsv"
   ]
  },
  {
   "cell_type": "code",
   "execution_count": 365,
   "metadata": {
    "ExecuteTime": {
     "end_time": "2018-08-13T22:41:33.457613Z",
     "start_time": "2018-08-13T22:41:33.450936Z"
    }
   },
   "outputs": [],
   "source": [
    "COVERAGE_TSV = DIR_PATH + \"/coverage.df.hg38.filtered.mean10.tsv\"\n",
    "COVERAGE_FILTER_BED = COVERAGE_TSV.replace(\".tsv\", \".offsets.txt\")"
   ]
  },
  {
   "cell_type": "code",
   "execution_count": 538,
   "metadata": {
    "ExecuteTime": {
     "end_time": "2018-08-14T10:38:40.599015Z",
     "start_time": "2018-08-14T10:37:45.288028Z"
    }
   },
   "outputs": [
    {
     "name": "stdout",
     "output_type": "stream",
     "text": [
      "Done: /mnt/stripe/bio/experiments/blueprint/data_redo/coverage.df.hg38.filtered.mean10.offsets.txt\n"
     ]
    }
   ],
   "source": [
    "%%bash -s $COVERAGE_TSV $COVERAGE_FILTER_BED\n",
    "\n",
    "# Split extract first column (\"chrN:offset\") and split it in chr number and offset\n",
    "awk -F'[.\\t]' -v OFS='\\t' '{ if(NR!=1) print $1,$2,$2+1 }' $1 > $2\n",
    "echo \"Done: $2\""
   ]
  },
  {
   "cell_type": "code",
   "execution_count": 367,
   "metadata": {
    "ExecuteTime": {
     "end_time": "2018-08-13T22:42:20.984184Z",
     "start_time": "2018-08-13T22:42:20.158406Z"
    }
   },
   "outputs": [
    {
     "name": "stdout",
     "output_type": "stream",
     "text": [
      "23242924 /mnt/stripe/bio/experiments/blueprint/data_redo/coverage.df.hg38.filtered.mean10.offsets.txt\r\n"
     ]
    }
   ],
   "source": [
    "!wc -l $COVERAGE_FILTER_BED"
   ]
  },
  {
   "cell_type": "markdown",
   "metadata": {},
   "source": [
    "## Call BackGround"
   ]
  },
  {
   "cell_type": "code",
   "execution_count": null,
   "metadata": {},
   "outputs": [],
   "source": [
    "# 50 because methpipe with window 1:50:1 ?\n",
    "# python3 scripts/python/assemble_covered_regions.py -l 50 -o assembly.test -e\n",
    "#\n",
    "# todo maybe ran methpipe merge instead of assemble_covered_regions?"
   ]
  },
  {
   "cell_type": "code",
   "execution_count": null,
   "metadata": {},
   "outputs": [],
   "source": [
    "%%bash -s $LIFT_OVER_CHAIN_FILE $DIR_PATH/coverage.df.hg38.filtered.mean10.offsets.txt $DIR_PATH/coverage.df.hg19.filtered.mean10.offsets.txt\n",
    "\n",
    "LIFT_OVER_CHAIN_FILE=$1\n",
    "FILE=$2\n",
    "OUTPUT=$3\n",
    "\n",
    "which liftOver &>/dev/null || {\n",
    "    echo \"liftOver not found!\"\n",
    "    echo \"Download: <http://hgdownload.cse.ucsc.edu/admin/exe/> or\"\n",
    "    echo \"  conda install -c bioconda ucsc-liftover\"\n",
    "    exit 1\n",
    "}\n",
    "\n",
    "liftOver $FILE $LIFT_OVER_CHAIN_FILE $OUTPUT $OUTPUT.unmapped"
   ]
  },
  {
   "cell_type": "code",
   "execution_count": null,
   "metadata": {},
   "outputs": [],
   "source": [
    "%%writefile $DIR_PATH/assemble_covered_regions.py\n",
    "from pipeline_utils import *\n",
    "\n",
    "\n",
    "def expand_region(start, end, min_length, chr_length):\n",
    "    delta = (min_length - (end - start + 1)) / 2\n",
    "    start = round(max(0, start - delta))\n",
    "    end = round(min(chr_length, end + delta))\n",
    "    return start, end\n",
    "\n",
    "\n",
    "def main():\n",
    "    parser = argparse.ArgumentParser()\n",
    "    parser.add_argument('-c', '--sorted_cytosines', required=True,\n",
    "                        help='set of cytosines (has to be sorted)')\n",
    "    parser.add_argument('-l', '--readLength', required=True,\n",
    "                        help='size of the read to use when merging')\n",
    "    parser.add_argument('-o', '--outputFile', help='output file name', required=True)\n",
    "    parser.add_argument('-e', '--expand', help='whether to expand regions to the read length',\n",
    "                        action='store_true')\n",
    "    parser.add_argument('-i', '--path_to_indexes', action=WritableDirectory, type=str,\n",
    "                        help='Path to indexes')\n",
    "    parser.add_argument('-g', '--genome', type=str, help='Genome')\n",
    "    args = parser.parse_args()\n",
    "\n",
    "    all_cytosines = args.sorted_cytosines\n",
    "    read_length = int(args.readLength)\n",
    "    output_file = args.outputFile\n",
    "    to_expand = args.expand\n",
    "    genome = args.genome\n",
    "    indexes = os.path.join(args.path_to_indexes, genome)\n",
    "\n",
    "    chrom_sizes_file = os.path.join(indexes, genome + \".chrom.sizes\")\n",
    "\n",
    "    # read chromosome sizes to not exceed length\n",
    "    chrom_sizes = {}\n",
    "    with open(chrom_sizes_file) as inp:\n",
    "        for line in inp:\n",
    "            chr, length = line.strip().split()\n",
    "            chrom_sizes[chr] = int(length)\n",
    "\n",
    "    # compile covered regions: merge cytosines that are closer than read_length\n",
    "    results = []\n",
    "    with open(all_cytosines) as inp:\n",
    "        is_initialized = False\n",
    "        for line in inp:\n",
    "            chr, start = line.strip().split()[0:2]\n",
    "            start = int(start)\n",
    "            end = start + 1\n",
    "            if not is_initialized:\n",
    "                cur_chr, cur_start, cur_end = chr, start, end\n",
    "                is_initialized = True\n",
    "                continue\n",
    "            if chr == cur_chr and start - read_length <= cur_end:\n",
    "                cur_end = end\n",
    "            else:\n",
    "                # expand small regions: region can't be smaller than read_length if flag is set\n",
    "                if to_expand and cur_end - cur_start + 1 < read_length:\n",
    "                    cur_start, cur_end = expand_region(cur_start, cur_end, read_length,\n",
    "                                                       chrom_sizes[cur_chr])\n",
    "                results.append((cur_chr, cur_start, cur_end))\n",
    "                cur_chr, cur_start, cur_end = chr, start, end\n",
    "\n",
    "    # write results to file\n",
    "    with open(output_file, 'w') as out:\n",
    "        for (chr, start, end) in results:\n",
    "            out.write('\\t'.join([chr, str(start), str(end)]) + '\\n')\n",
    "\n",
    "\n",
    "if __name__ == \"__main__\":\n",
    "    main()\n",
    "\n"
   ]
  },
  {
   "cell_type": "code",
   "execution_count": null,
   "metadata": {},
   "outputs": [],
   "source": [
    "!python $DIR_PATH/assemble_covered_regions.py -h"
   ]
  },
  {
   "cell_type": "code",
   "execution_count": null,
   "metadata": {},
   "outputs": [],
   "source": [
    "#!python $WASHU_ROOT/downstream/methylation/assemble_covered_regions.py -l 50 -e -o \n",
    "!python $DIR_PATH/assemble_covered_regions.py -l 50 -e -g hg19 -i /mnt/stripe/bio/genomes -c $DIR_PATH/coverage.df.hg19.filtered.mean10.offsets.txt -o $DIR_PATH/bp.all.covered.regions.hg19.filtered.mean10.bed"
   ]
  },
  {
   "cell_type": "code",
   "execution_count": null,
   "metadata": {},
   "outputs": [],
   "source": [
    "!sort -k1,1 -k2,3n $DIR_PATH/bp.all.covered.regions.hg19.filtered.mean10.bed > $DIR_PATH/bp.all.covered.regions.hg19.filtered.mean10.sorted.bed"
   ]
  },
  {
   "cell_type": "code",
   "execution_count": null,
   "metadata": {},
   "outputs": [],
   "source": [
    "!wc -l $DIR_PATH/bp.all.covered.regions.hg19.filtered.mean10.bed\n",
    "!wc -l $DIR_PATH/bp.all.covered.regions.hg19.filtered.mean10.sorted.bed"
   ]
  },
  {
   "cell_type": "markdown",
   "metadata": {},
   "source": [
    "# MethPipe"
   ]
  },
  {
   "cell_type": "markdown",
   "metadata": {},
   "source": [
    "## DMRs Pipeline"
   ]
  },
  {
   "cell_type": "markdown",
   "metadata": {
    "heading_collapsed": true
   },
   "source": [
    "### Sort  files"
   ]
  },
  {
   "cell_type": "code",
   "execution_count": 372,
   "metadata": {
    "ExecuteTime": {
     "end_time": "2018-08-13T22:45:54.946095Z",
     "start_time": "2018-08-13T22:45:54.941582Z"
    },
    "hidden": true
   },
   "outputs": [
    {
     "name": "stdout",
     "output_type": "stream",
     "text": [
      "Overwriting /mnt/stripe/bio/experiments/blueprint/data_redo/sort_data.sh\n"
     ]
    }
   ],
   "source": [
    "%%writefile $DIR_PATH/sort_data.sh\n",
    "#!/bin/bash\n",
    "\n",
    ">&2 echo \"sort_data $@\"\n",
    "if [ $# -lt 2 ]; then\n",
    "    echo \"Need at least 2 parameters! <METHYLOME_FILES_DIR> <OUTPUT_DIR>\"\n",
    "    exit 1\n",
    "fi\n",
    "    \n",
    "METHYLOME_FILES_DIR=$1\n",
    "OUTPUT_DIR=$2\n",
    "\n",
    "cd $WORKING_DIR\n",
    "mkdir -p $OUTPUT_DIR\n",
    "\n",
    "for F in $(find $METHYLOME_FILES_DIR -maxdepth 1 -mindepth 1 -type f);\n",
    "do\n",
    "    NAME=${F##*/}\n",
    "    NAME=${NAME%%.txt}\n",
    "    OUT_NAME=$OUTPUT_DIR/${NAME}.sorted.txt\n",
    "    head -1 $F > $OUT_NAME\n",
    "    tail -n+2 $F | sed -e 's/ \\+/\\t/g' | sort -k2,2 -k3,3n  >> $OUT_NAME\n",
    "    echo \"Done: ${OUT_NAME}\"\n",
    "done"
   ]
  },
  {
   "cell_type": "code",
   "execution_count": 359,
   "metadata": {
    "ExecuteTime": {
     "end_time": "2018-08-13T22:17:35.773457Z",
     "start_time": "2018-08-13T22:17:35.368206Z"
    },
    "hidden": true
   },
   "outputs": [],
   "source": [
    "!chmod u+x $DIR_PATH/sort_data.sh"
   ]
  },
  {
   "cell_type": "code",
   "execution_count": 347,
   "metadata": {
    "ExecuteTime": {
     "end_time": "2018-08-13T20:57:25.412672Z",
     "start_time": "2018-08-13T19:23:10.073998Z"
    },
    "hidden": true
   },
   "outputs": [
    {
     "name": "stdout",
     "output_type": "stream",
     "text": [
      "/mnt/stripe/bio/experiments/blueprint/data_redo/sorted_data/methylcall.CpG.YD1.C005PS51.GRCh38.20160531.mincov0.sorted.txt\n",
      "/mnt/stripe/bio/experiments/blueprint/data_redo/sorted_data/methylcall.CpG.YD2.S000RD54.GRCh38.20160531.mincov0.sorted.txt\n",
      "/mnt/stripe/bio/experiments/blueprint/data_redo/sorted_data/methylcall.CpG.OD1.C000S5A1bs.GRCh38.20160531.mincov0.sorted.txt\n",
      "/mnt/stripe/bio/experiments/blueprint/data_redo/sorted_data/methylcall.CpG.OD2.C0010KA2bs.GRCh38.20160531.mincov0.sorted.txt\n",
      "/mnt/stripe/bio/experiments/blueprint/data_redo/sorted_data/methylcall.CpG.OD3.C001UYA3bs.GRCh38.20160531.mincov0.sorted.txt\n",
      "/mnt/stripe/bio/experiments/blueprint/data_redo/sorted_data/methylcall.CpG.OD4.C004SQ51.GRCh38.20160531.mincov0.sorted.txt\n"
     ]
    }
   ],
   "source": [
    "!bash $DIR_PATH/sort_data.sh $DIR_PATH/mincov0 $DIR_PATH/sorted_data"
   ]
  },
  {
   "cell_type": "markdown",
   "metadata": {
    "heading_collapsed": true
   },
   "source": [
    "### Convert cytosine coverage files to *.meth format"
   ]
  },
  {
   "cell_type": "code",
   "execution_count": 380,
   "metadata": {
    "ExecuteTime": {
     "end_time": "2018-08-13T22:52:56.999157Z",
     "start_time": "2018-08-13T22:52:56.988108Z"
    },
    "hidden": true
   },
   "outputs": [
    {
     "name": "stdout",
     "output_type": "stream",
     "text": [
      "Overwriting /mnt/stripe/bio/experiments/blueprint/data_redo/prepare_methfiles.py\n"
     ]
    }
   ],
   "source": [
    "%%writefile $DIR_PATH/prepare_methfiles.py\n",
    "import argparse\n",
    "import os\n",
    "from pathlib import Path\n",
    "from itertools import islice\n",
    "\n",
    "# run example:\n",
    "# bash run_python3.sh scripts/python/prepare_methfiles.py '/methylation/sorted_data \n",
    "# /methylation/cytosines.bed /methylation/clean_methpipe/data\n",
    "# -p methylcall* -s minavcov10.sorted.meth' methfiles\n",
    "\n",
    "def convert_line_to_methpipe_format(line):\n",
    "    id, chr, pos, strand, coverage, freqC, freqT = line.strip().split('\\t')\n",
    "    strand = '+' if strand == 'F' else '-'\n",
    "    return '\\t'.join([chr, pos, strand, 'CpG', str(float(freqC) / 100.0), coverage])\n",
    "\n",
    "\n",
    "def prepare_methfiles(chr_base_set, data_path, file_pattern, suffix, output_path):\n",
    "    for f in data_path.glob(file_pattern):\n",
    "        result_path = output_path / f.with_suffix(suffix).name\n",
    "        with open(str(result_path), 'w') as out:\n",
    "            with open(str(f)) as inp:\n",
    "                # skip header (1st line)\n",
    "                for line in islice(inp, 1, None):\n",
    "                    chr_base = line.split()[0]\n",
    "                    \n",
    "                    # take only desired cytosines\n",
    "                    if chr_base in chr_base_set:\n",
    "                        out.write(convert_line_to_methpipe_format(line) + '\\n')\n",
    "\n",
    "\n",
    "def main():\n",
    "    parser = argparse.ArgumentParser()\n",
    "    parser.add_argument('input_directory', help='Directory with initial sorted files')\n",
    "    parser.add_argument('cytosine', help=\"File with filtered cytosines offsets in format 'chrName\\toffset'\")\n",
    "    parser.add_argument('output_directory', help='Output directory')\n",
    "    parser.add_argument('-s', '--suffix', help=\"Suffix to add\", default=\".meth\")\n",
    "    parser.add_argument('-p', '--pattern',\n",
    "                        help=\"Optional pattern for filtering methylation files from input dir\", \n",
    "                        default=\"*\")\n",
    "\n",
    "    args = parser.parse_args()\n",
    "\n",
    "    # read in cytosines to keep\n",
    "    chr_base_set = set()\n",
    "    with open(args.cytosine) as f:\n",
    "        for line in f:\n",
    "            # take only first 2 columns from file\n",
    "            chr, offset = line.strip().split()[0:2]\n",
    "            chr_base_set.add(\"{}.{}\".format(chr, offset))\n",
    "\n",
    "    prepare_methfiles(\n",
    "        chr_base_set,\n",
    "        Path(args.input_directory), args.pattern, \n",
    "        args.suffix, Path(args.output_directory)\n",
    "    )\n",
    "\n",
    "\n",
    "if __name__ == \"__main__\":\n",
    "    main()"
   ]
  },
  {
   "cell_type": "code",
   "execution_count": 369,
   "metadata": {
    "ExecuteTime": {
     "end_time": "2018-08-13T22:43:09.528360Z",
     "start_time": "2018-08-13T22:43:09.061172Z"
    },
    "collapsed": true,
    "hidden": true
   },
   "outputs": [
    {
     "name": "stdout",
     "output_type": "stream",
     "text": [
      "usage: prepare_methfiles.py [-h] [-s SUFFIX] [-p PATTERN]\r\n",
      "                            input_directory cytosine output_directory\r\n",
      "\r\n",
      "positional arguments:\r\n",
      "  input_directory       Directory with initial sorted files\r\n",
      "  cytosine              File with filtered cytosines offsets in format\r\n",
      "                        'chrName offset'\r\n",
      "  output_directory      Output directory\r\n",
      "\r\n",
      "optional arguments:\r\n",
      "  -h, --help            show this help message and exit\r\n",
      "  -s SUFFIX, --suffix SUFFIX\r\n",
      "                        Suffix to add\r\n",
      "  -p PATTERN, --pattern PATTERN\r\n",
      "                        Optional pattern for filtering methylation files from\r\n",
      "                        input dir\r\n"
     ]
    }
   ],
   "source": [
    "!python $DIR_PATH/prepare_methfiles.py -h"
   ]
  },
  {
   "cell_type": "code",
   "execution_count": 418,
   "metadata": {
    "ExecuteTime": {
     "end_time": "2018-08-14T07:27:48.303346Z",
     "start_time": "2018-08-14T07:27:48.294607Z"
    },
    "hidden": true
   },
   "outputs": [],
   "source": [
    "METHPIPE_WORKDIR_PATH = DIR_PATH + \"/methpipe\""
   ]
  },
  {
   "cell_type": "code",
   "execution_count": 381,
   "metadata": {
    "ExecuteTime": {
     "end_time": "2018-08-13T23:03:05.441515Z",
     "start_time": "2018-08-13T22:53:03.697700Z"
    },
    "hidden": true
   },
   "outputs": [],
   "source": [
    "!mkdir -p $METHPIPE_WORKDIR_PATH\n",
    "!python $DIR_PATH/prepare_methfiles.py $DIR_PATH/sorted_data $DIR_PATH/coverage.df.hg38.filtered.mean10.offsets.txt $METHPIPE_WORKDIR_PATH"
   ]
  },
  {
   "cell_type": "code",
   "execution_count": 421,
   "metadata": {
    "ExecuteTime": {
     "end_time": "2018-08-14T07:28:52.820799Z",
     "start_time": "2018-08-14T07:28:51.891567Z"
    },
    "hidden": true
   },
   "outputs": [
    {
     "name": "stdout",
     "output_type": "stream",
     "text": [
      "total 9.8G\r\n",
      "drwxrwxr-x 2 user user 4.0K Aug 14 03:10 .\r\n",
      "drwxrwxr-x 7 user user 4.0K Aug 14 10:25 ..\r\n",
      "-rw-rw-r-- 1 user user  412 Aug 14 02:56 design_matrix.txt\r\n",
      "-rw-rw-r-- 1 user user 1.2M Aug 14 03:10 hg38ToHg19.over.chain.gz\r\n",
      "-rw-rw-r-- 1 user user 721M Aug 14 01:58 methylcall.CpG.OD1.C000S5A1bs.GRCh38.20160531.mincov0.sorted.meth\r\n",
      "-rw-rw-r-- 1 user user 718M Aug 14 01:59 methylcall.CpG.OD2.C0010KA2bs.GRCh38.20160531.mincov0.sorted.meth\r\n",
      "-rw-rw-r-- 1 user user 725M Aug 14 02:01 methylcall.CpG.OD3.C001UYA3bs.GRCh38.20160531.mincov0.sorted.meth\r\n",
      "-rw-rw-r-- 1 user user 739M Aug 14 02:03 methylcall.CpG.OD4.C004SQ51.GRCh38.20160531.mincov0.sorted.meth\r\n",
      "-rw-rw-r-- 1 user user 745M Aug 14 01:55 methylcall.CpG.YD1.C005PS51.GRCh38.20160531.mincov0.sorted.meth\r\n",
      "-rw-rw-r-- 1 user user 725M Aug 14 01:56 methylcall.CpG.YD2.S000RD54.GRCh38.20160531.mincov0.sorted.meth\r\n",
      "-rw-rw-r-- 1 user user 1.3G Aug 14 03:28 proportion_table.hg19.txt\r\n",
      "-rw-rw-r-- 1 user user 1.5G Aug 14 03:27 proportion_table.hg19.txt.bed4\r\n",
      "-rw-rw-r-- 1 user user  11M Aug 14 03:27 proportion_table.hg19.unmapped.bed4\r\n",
      "-rw-rw-r-- 1 user user 1.3G Aug 14 02:56 proportion_table.txt\r\n",
      "-rw-rw-r-- 1 user user 1.5G Aug 14 03:25 proportion_table.txt.bed4\r\n"
     ]
    }
   ],
   "source": [
    "!ls -lah $METHPIPE_WORKDIR_PATH"
   ]
  },
  {
   "cell_type": "markdown",
   "metadata": {
    "heading_collapsed": true
   },
   "source": [
    "### Generate proportion and experiment design tables for methpipe"
   ]
  },
  {
   "cell_type": "code",
   "execution_count": 422,
   "metadata": {
    "ExecuteTime": {
     "end_time": "2018-08-14T07:29:34.631325Z",
     "start_time": "2018-08-14T07:29:34.609034Z"
    },
    "hidden": true
   },
   "outputs": [
    {
     "name": "stdout",
     "output_type": "stream",
     "text": [
      "Overwriting /mnt/stripe/bio/experiments/blueprint/data_redo/build_design_matrix.py\n"
     ]
    }
   ],
   "source": [
    "%%writefile $DIR_PATH/build_design_matrix.py\n",
    "import argparse\n",
    "import os\n",
    "import subprocess\n",
    "\n",
    "def build_design_matrix(table_path, output_path):\n",
    "    # construct design table using proportion table header\n",
    "    with open(table_path) as f:\n",
    "        prop_header = f.readline().strip().split()\n",
    "        \n",
    "    with open(output_path, 'w') as out:\n",
    "        out.write('\\t'.join(['base', 'case', 'batch']) + '\\n')\n",
    "        base = '1'\n",
    "\n",
    "        for methfile in prop_header:\n",
    "            case, batch = '0', '0'\n",
    "            \n",
    "            donor_id = methfile.split('.')[2]\n",
    "            if donor_id.startswith('OD'):\n",
    "                case = '1'\n",
    "            if int(donor_id[2:]) > 10:\n",
    "                batch = '1'\n",
    "            out.write('\\t'.join([methfile, base, case, batch]) + '\\n')\n",
    "\n",
    "\n",
    "if __name__ == \"__main__\":\n",
    "    parser = argparse.ArgumentParser(description=\"Build MethPipe design matrix using proportions table\")\n",
    "    parser.add_argument('table', help='MethPipe proportion tabls file')\n",
    "    parser.add_argument('output', help='Design matrix file name')\n",
    "    args = parser.parse_args()\n",
    "\n",
    "    build_design_matrix(args.table, args.output)"
   ]
  },
  {
   "cell_type": "code",
   "execution_count": 402,
   "metadata": {
    "ExecuteTime": {
     "end_time": "2018-08-13T23:56:02.791633Z",
     "start_time": "2018-08-13T23:49:47.027785Z"
    },
    "hidden": true
   },
   "outputs": [],
   "source": [
    "%%bash -s $METHPIPE_WORKDIR_PATH\n",
    "METHPIPE_INPUT_PATH=$1\n",
    "merge-methcounts -t $(find $METHPIPE_WORKDIR_PATH -name \"*.meth\" -printf '%p ') > $METHPIPE_WORKDIR_PATH/proportion_table.txt"
   ]
  },
  {
   "cell_type": "code",
   "execution_count": 423,
   "metadata": {
    "ExecuteTime": {
     "end_time": "2018-08-14T07:30:07.068317Z",
     "start_time": "2018-08-14T07:30:03.273112Z"
    },
    "hidden": true
   },
   "outputs": [
    {
     "name": "stdout",
     "output_type": "stream",
     "text": [
      "base\tcase\tbatch\r\n",
      "methylcall.CpG.YD1.C005PS51.GRCh38.20160531.mincov0.sorted\t1\t0\t0\r\n",
      "methylcall.CpG.YD2.S000RD54.GRCh38.20160531.mincov0.sorted\t1\t0\t0\r\n",
      "methylcall.CpG.OD1.C000S5A1bs.GRCh38.20160531.mincov0.sorted\t1\t1\t0\r\n",
      "methylcall.CpG.OD2.C0010KA2bs.GRCh38.20160531.mincov0.sorted\t1\t1\t0\r\n",
      "methylcall.CpG.OD3.C001UYA3bs.GRCh38.20160531.mincov0.sorted\t1\t1\t0\r\n",
      "methylcall.CpG.OD4.C004SQ51.GRCh38.20160531.mincov0.sorted\t1\t1\t0\r\n"
     ]
    }
   ],
   "source": [
    "!python $DIR_PATH/build_design_matrix.py $METHPIPE_WORKDIR_PATH/proportion_table.txt $METHPIPE_WORKDIR_PATH/design_matrix.txt\n",
    "!cat $METHPIPE_WORKDIR_PATH/design_matrix.txt"
   ]
  },
  {
   "cell_type": "markdown",
   "metadata": {
    "ExecuteTime": {
     "end_time": "2018-08-09T16:00:34.662304Z",
     "start_time": "2018-08-09T16:00:34.646767Z"
    },
    "heading_collapsed": true
   },
   "source": [
    "### Liftover DMRs proportion table"
   ]
  },
  {
   "cell_type": "code",
   "execution_count": 565,
   "metadata": {
    "ExecuteTime": {
     "end_time": "2018-08-14T14:38:39.073253Z",
     "start_time": "2018-08-14T14:38:39.063197Z"
    },
    "hidden": true
   },
   "outputs": [
    {
     "name": "stdout",
     "output_type": "stream",
     "text": [
      "Overwriting /mnt/stripe/bio/experiments/blueprint/data_redo/liftover_proportion_table_hg38_to_hg19.sh\n"
     ]
    }
   ],
   "source": [
    "%%writefile $DIR_PATH/liftover_proportion_table_hg38_to_hg19.sh\n",
    "#!/usr/bin/env bash\n",
    "# author: roman.chernyatchik@jetbrains.com\n",
    "\n",
    ">&2 echo \"liftover_proportion_table_hg38_to_hg19 $@\"\n",
    "if [ $# -lt 3 ]; then\n",
    "    echo \"Need at least 3 parameters! <WORKING_DIR> <PROPORTION_TABLE_PATH> <LIFTOVER_HG38_TO_HG19_CHAIN_FILE>\"\n",
    "    exit 1\n",
    "fi\n",
    "\n",
    "WORKING_DIR=$1\n",
    "PROPORTION_TABLE=$2\n",
    "LIFT_OVER_CHAIN_FILE=$3\n",
    "\n",
    "which liftOver &>/dev/null || {\n",
    "    echo \"liftOver not found!\"\n",
    "    echo \"Download: <http://hgdownload.cse.ucsc.edu/admin/exe/> or\"\n",
    "    echo \"  conda install -c bioconda ucsc-liftover\"\n",
    "    exit 1\n",
    "}\n",
    "\n",
    "PROPORTION_TABLE_NAME=${PROPORTION_TABLE##*/}   \n",
    "PROPORTION_TABLE_BED4=$WORKING_DIR/$PROPORTION_TABLE_NAME.bed4\n",
    "NEW_PREFIX=\"${WORKING_DIR}/${PROPORTION_TABLE_NAME%%.txt}.hg19\"\n",
    "\n",
    "cd $WORKING_DIR\n",
    "cat $PROPORTION_TABLE | sed s/'\\t'/';'/g | awk -F: '{ if (NR != 1) print $1,$2-1,$2,$3\":\"$4 }' > $PROPORTION_TABLE_BED4\n",
    "                     \n",
    "liftOver $PROPORTION_TABLE_BED4 $LIFT_OVER_CHAIN_FILE $NEW_PREFIX.txt.bed4 $NEW_PREFIX.unmapped.bed4\n",
    "echo \"Total cytosines: $(wc -l $PROPORTION_TABLE_BED4)\"\n",
    "echo \"Converted hg38 -> hg19 cytosines: $(wc -l  $NEW_PREFIX.txt.bed4)\"\n",
    "echo \"Unmapped hg38 -> hg19 cytosines: $(wc -l $NEW_PREFIX.unmapped.bed4)\"\n",
    "\n",
    "# convert bed4 to proportion table\n",
    "head -n 1 $PROPORTION_TABLE > $NEW_PREFIX.txt\n",
    "awk -v OFS=':' '{ print $1,$3,$4 }' $NEW_PREFIX.txt.bed4 | sed s/';'/'\\t'/g >> $NEW_PREFIX.txt"
   ]
  },
  {
   "cell_type": "code",
   "execution_count": 566,
   "metadata": {
    "ExecuteTime": {
     "end_time": "2018-08-14T14:38:39.944266Z",
     "start_time": "2018-08-14T14:38:39.554859Z"
    },
    "hidden": true
   },
   "outputs": [],
   "source": [
    "!chmod u+x $DIR_PATH/liftover_proportion_table_hg38_to_hg19.sh"
   ]
  },
  {
   "cell_type": "code",
   "execution_count": 435,
   "metadata": {
    "ExecuteTime": {
     "end_time": "2018-08-14T08:21:40.386968Z",
     "start_time": "2018-08-14T08:21:17.970426Z"
    },
    "hidden": true
   },
   "outputs": [
    {
     "name": "stdout",
     "output_type": "stream",
     "text": [
      "liftover_proportion_table_hg38_to_hg19 /mnt/stripe/bio/experiments/blueprint/data_redo/methpipe /mnt/stripe/bio/experiments/blueprint/data_redo/methpipe/proportion_table.txt\n",
      "^C\n"
     ]
    }
   ],
   "source": [
    "#!bash chmod u+x $DIR_PATH/liftover_proportion_table_hg38_to_hg19.sh\n",
    "!bash $DIR_PATH/liftover_proportion_table_hg38_to_hg19.sh $METHPIPE_WORKDIR_PATH $METHPIPE_WORKDIR_PATH/proportion_table.txt $LIFT_OVER_CHAIN_FILE"
   ]
  },
  {
   "cell_type": "markdown",
   "metadata": {},
   "source": [
    "### Call DMRs"
   ]
  },
  {
   "cell_type": "code",
   "execution_count": 456,
   "metadata": {
    "ExecuteTime": {
     "end_time": "2018-08-14T08:40:04.387329Z",
     "start_time": "2018-08-14T08:40:04.382819Z"
    }
   },
   "outputs": [
    {
     "name": "stdout",
     "output_type": "stream",
     "text": [
      "Overwriting /mnt/stripe/bio/experiments/blueprint/data_redo/run_methpipe.sh\n"
     ]
    }
   ],
   "source": [
    "%%writefile $DIR_PATH/run_methpipe.sh\n",
    "#!/bin/bash\n",
    "\n",
    ">&2 echo \"run_methpipe $@\"\n",
    "if [ $# -lt 4 ]; then\n",
    "    echo \"Need at least 4 parameters! <DESIGN> <TABLE> <OUTPUT> <NAME>\"\n",
    "    echo \"   DESIGN: MethPipe design matrix path\"\n",
    "    echo \"   TABLE:  MethPipe proportion table path\"\n",
    "    echo \"   OUTPUT: Design matrix path\"\n",
    "    echo \"   DESIGN: Design matrix path\"\n",
    "    exit 1\n",
    "fi\n",
    "    \n",
    "DESIGN=$1\n",
    "TABLE=$2\n",
    "OUTPUT=$3\n",
    "NAME=$4\n",
    "\n",
    "#rm ${NAME}.log\n",
    "\n",
    "WDIR=`pwd`\n",
    "ADJ_OUTPUT=\"${OUTPUT%.*}\".narrow.adjusted.bed\n",
    "REG_OUTPUT=\"${ADJ_OUTPUT%.*}\".regions.bed\n",
    "\n",
    "cd $WDIR\n",
    "DMC_N=$(cat $TABLE | wc -l)\n",
    "echo \"Processing  cytosines: $DMC_N\"\n",
    "echo \"Track progress using cmd:\" \n",
    "echo \"    date && LINES=\\$(wc -l $OUTPUT); echo $(python -c 'import sys; print(\"lines:\", sys.argv[1], \"completed: \", str(int(100.0*int(sys.argv[1])/23242925*1000)/1000.0) + \" %\")' $LINES)\"    \n",
    "\n",
    "echo \"[$(date)] 1. radmeth regression ...\"    \n",
    "radmeth regression -factor case -o $OUTPUT $DESIGN $TABLE\n",
    "echo \"$(date)  Done: $OUTPUT\"\n",
    "\n",
    "echo \"[$(date)] 2. radmeth adjust ...\"    \n",
    "radmeth adjust -bins 1:50:1 $OUTPUT > $ADJ_OUTPUT\n",
    "echo \"$(date)  Done: $ADJ_OUTPUT\"\n",
    "\n",
    "echo \"[$(date)] 3. radmeth adjust ...\"    \n",
    "radmeth merge -p 0.05 $ADJ_OUTPUT > $REG_OUTPUT\n",
    "echo \"$(date)  Done: $REG_OUTPUT\""
   ]
  },
  {
   "cell_type": "code",
   "execution_count": 457,
   "metadata": {
    "ExecuteTime": {
     "end_time": "2018-08-14T08:40:05.298891Z",
     "start_time": "2018-08-14T08:40:04.962807Z"
    }
   },
   "outputs": [],
   "source": [
    "!chmod u+x $DIR_PATH/run_methpipe.sh"
   ]
  },
  {
   "cell_type": "code",
   "execution_count": 458,
   "metadata": {
    "ExecuteTime": {
     "end_time": "2018-08-14T08:40:05.453793Z",
     "start_time": "2018-08-14T08:40:05.451064Z"
    }
   },
   "outputs": [],
   "source": [
    "METHPIPE_OUTPUT_PATH = METHPIPE_WORKDIR_PATH + \"/output\""
   ]
  },
  {
   "cell_type": "code",
   "execution_count": null,
   "metadata": {
    "ExecuteTime": {
     "end_time": "2018-08-01T17:07:26.279117Z",
     "start_time": "2018-08-01T17:07:26.006588Z"
    }
   },
   "outputs": [],
   "source": [
    "!mkdir -p $METHPIPE_OUTPUT_PATH\n",
    "!bash $DIR_PATH/run_methpipe.sh $METHPIPE_WORKDIR_PATH/design_matrix.txt $METHPIPE_WORKDIR_PATH/proportion_table.hg19.txt $METHPIPE_OUTPUT_PATH/dmc.hg19.bed\n",
    "!ls -alh $METHPIPE_OUTPUT_PATH"
   ]
  },
  {
   "cell_type": "markdown",
   "metadata": {},
   "source": [
    "Split DMRs in UP and DOWN:"
   ]
  },
  {
   "cell_type": "markdown",
   "metadata": {
    "ExecuteTime": {
     "end_time": "2018-08-14T08:02:13.539871Z",
     "start_time": "2018-08-14T08:02:13.510006Z"
    },
    "heading_collapsed": true
   },
   "source": [
    "#### Optional liftover\n",
    "Liftover hg38 -> hg19 if hg38 proportion table used"
   ]
  },
  {
   "cell_type": "code",
   "execution_count": 567,
   "metadata": {
    "ExecuteTime": {
     "end_time": "2018-08-14T14:39:06.164483Z",
     "start_time": "2018-08-14T14:39:06.154784Z"
    },
    "hidden": true
   },
   "outputs": [
    {
     "name": "stdout",
     "output_type": "stream",
     "text": [
      "Overwriting /mnt/stripe/bio/experiments/blueprint/data_redo/liftover_methpipe_dmrs.sh\n"
     ]
    }
   ],
   "source": [
    "%%writefile $DIR_PATH/liftover_methpipe_dmrs.sh\n",
    "#!/usr/bin/env bash\n",
    "# author: roman.chernyatchik@jetbrains.com\n",
    "\n",
    ">&2 echo \"liftover_methpipe_dmrs $@\"\n",
    "if [ $# -lt 3 ]; then\n",
    "    echo \"Need at least 3 parameters! <WORKING_DIR> <DMRS_PATH> <LIFTOVER_HG38_TO_HG19_CHAIN_FILE>\"\n",
    "    exit 1\n",
    "fi\n",
    "\n",
    "WORKING_DIR=$1\n",
    "DMRS_PATH=$2\n",
    "LIFT_OVER_CHAIN_FILE=$3\n",
    "\n",
    "which liftOver &>/dev/null || {\n",
    "    echo \"liftOver not found!\"\n",
    "    echo \"Download: <http://hgdownload.cse.ucsc.edu/admin/exe/> or\"\n",
    "    echo \"  conda install -c bioconda ucsc-liftover\"\n",
    "    exit 1\n",
    "}\n",
    "\n",
    "DMRS_NAME=${DMRS_PATH##*/}   \n",
    "DMRS_BED4=$WORKING_DIR/$DMRS_NAME.bed4\n",
    "NEW_PREFIX=\"${WORKING_DIR}/${DMRS_NAME%%.txt}.hg19\"\n",
    "\n",
    "cd $WORKING_DIR\n",
    "awk '{print $1,$2,$3,$4NR\":\"$5\":\"$6}' $DMRS_PATH > $DMRS_BED4\n",
    "                        \n",
    "liftOver $DMRS_BED4 $LIFT_OVER_CHAIN_FILE $NEW_PREFIX.bed4 $NEW_PREFIX.unmapped.bed4\n",
    "echo \"Total regions: $(wc -l $DMRS_BED4)\"\n",
    "echo \"Converted hg38 -> hg19 regions: $(wc -l  $NEW_PREFIX.bed4)\"\n",
    "echo \"Unmapped hg38 -> hg19 regions: $(wc -l $NEW_PREFIX.unmapped.bed4)\"\n",
    "\n",
    "# convert bed4 to regions\n",
    "awk -v FS=':' -v OFS='\\t' '{ print $1,$2,$3 }' $NEW_PREFIX.bed4 > $NEW_PREFIX.bed"
   ]
  },
  {
   "cell_type": "code",
   "execution_count": 463,
   "metadata": {
    "ExecuteTime": {
     "end_time": "2018-08-14T08:42:10.415632Z",
     "start_time": "2018-08-14T08:42:09.365627Z"
    },
    "hidden": true
   },
   "outputs": [
    {
     "name": "stdout",
     "output_type": "stream",
     "text": [
      "liftover_methpipe_dmrs /mnt/stripe/bio/experiments/blueprint/data/methpipe_output_4 /mnt/stripe/bio/experiments/blueprint/data/methpipe_output_4/hg38.dmc.narrow.adjusted.regions.bed\n",
      "Reading liftover chains\n",
      "Mapping coordinates\n",
      "Total regions: 63126 /mnt/stripe/bio/experiments/blueprint/data/methpipe_output_4/hg38.dmc.narrow.adjusted.regions.bed.bed4\n",
      "Converted hg38 -> hg19 regions: 62920 /mnt/stripe/bio/experiments/blueprint/data/methpipe_output_4/hg38.dmc.narrow.adjusted.regions.bed.hg19.bed4\n",
      "Unmapped hg38 -> hg19 regions: 412 /mnt/stripe/bio/experiments/blueprint/data/methpipe_output_4/hg38.dmc.narrow.adjusted.regions.bed.hg19.unmapped.bed4\n"
     ]
    }
   ],
   "source": [
    "!bash $DIR_PATH/liftover_methpipe_dmrs.sh $METHPIPE_OUTPUT_PATH $METHPIPE_OUTPUT_PATH/dmc.hg38.narrow.adjusted.regions.bed $LIFT_OVER_CHAIN_FILE"
   ]
  },
  {
   "cell_type": "markdown",
   "metadata": {
    "heading_collapsed": true
   },
   "source": [
    "#### Filter & Split in UP/DOWN"
   ]
  },
  {
   "cell_type": "code",
   "execution_count": 472,
   "metadata": {
    "ExecuteTime": {
     "end_time": "2018-08-14T09:39:13.365389Z",
     "start_time": "2018-08-14T09:39:12.920583Z"
    },
    "hidden": true
   },
   "outputs": [
    {
     "name": "stdout",
     "output_type": "stream",
     "text": [
      "total 2.7M\r\n",
      "drwxrwxr-x 2 user user   57 Aug 14 12:06 .\r\n",
      "drwxrwxr-x 3 user user 4.0K Aug 14 12:06 ..\r\n",
      "-rw-rw-r-- 1 user user 2.7M Aug 14 12:06 dmc.hg19.narrow.adjusted.regions.bed\r\n"
     ]
    }
   ],
   "source": [
    "!ls -lah $METHPIPE_OUTPUT_PATH"
   ]
  },
  {
   "cell_type": "code",
   "execution_count": 514,
   "metadata": {
    "ExecuteTime": {
     "end_time": "2018-08-14T10:20:52.268215Z",
     "start_time": "2018-08-14T10:20:52.263327Z"
    },
    "hidden": true
   },
   "outputs": [
    {
     "name": "stdout",
     "output_type": "stream",
     "text": [
      "Overwriting /mnt/stripe/bio/experiments/blueprint/data_redo/filter_dmrs.sh\n"
     ]
    }
   ],
   "source": [
    "%%writefile $DIR_PATH/filter_dmrs.sh\n",
    "\n",
    "WORKING_DIR=$1\n",
    "DMRS=$2\n",
    "PREFIX=$3\n",
    "CYTOSINES_MIN_COUNT=$4\n",
    "METHYLATION_CHANGE=$5\n",
    "\n",
    "OUTPUT_PREFIX=\"$WORKING_DIR/$PREFIX.ncyto.ge$CYTOSINES_MIN_COUNT.mch.ge${METHYLATION_CHANGE}\"\n",
    "cat $DMRS | awk -v MCH=$METHYLATION_CHANGE -v N_C=$CYTOSINES_MIN_COUNT 'function abs(v) {return v < 0 ? -v : v} {if (abs($6) >= MCH && $5 >= N_C) print}' | sort -k1,1 -k2,3n > $OUTPUT_PREFIX.bed\n",
    "echo \"Done: $OUTPUT_PREFIX.bed\"\n",
    "echo \"  Filtered $(cat $OUTPUT_PREFIX.bed | wc -l)/$(cat $DMRS | wc -l) regions where each region has >= $CYTOSINES_MIN_COUNT and abs(methylatio change) >= $METHYLATION_CHANGE\"\n",
    "awk '{ if ($6 > 0) print }' $OUTPUT_PREFIX.bed > $OUTPUT_PREFIX.up.bed\n",
    "echo \"  UP: $(cat $OUTPUT_PREFIX.up.bed | wc -l)\"\n",
    "awk '{ if ($6 < 0) print }' $OUTPUT_PREFIX.bed > $OUTPUT_PREFIX.down.bed\n",
    "echo \"  DOWN: $(cat $OUTPUT_PREFIX.down.bed | wc -l)\""
   ]
  },
  {
   "cell_type": "code",
   "execution_count": 512,
   "metadata": {
    "ExecuteTime": {
     "end_time": "2018-08-14T10:20:10.205368Z",
     "start_time": "2018-08-14T10:20:09.709768Z"
    },
    "hidden": true
   },
   "outputs": [],
   "source": [
    "!chmod u+x $DIR_PATH/filter_dmrs.sh"
   ]
  },
  {
   "cell_type": "code",
   "execution_count": 516,
   "metadata": {
    "ExecuteTime": {
     "end_time": "2018-08-14T10:21:11.360883Z",
     "start_time": "2018-08-14T10:21:09.312703Z"
    },
    "hidden": true
   },
   "outputs": [
    {
     "name": "stdout",
     "output_type": "stream",
     "text": [
      "Done: /mnt/stripe/bio/experiments/blueprint/data_redo/methpipe/output/bp.dmrs.ncyto.ge3.mch.ge0.025.bed\n",
      "  Filtered 24842/62920 regions where each region has >= 3 and abs(methylatio change) >= 0.025\n",
      "  UP: 10736\n",
      "  DOWN: 14106\n",
      "Done: /mnt/stripe/bio/experiments/blueprint/data_redo/methpipe/output/bp.dmrs.ncyto.ge3.mch.ge0.3.bed\n",
      "  Filtered 5398/62920 regions where each region has >= 3 and abs(methylatio change) >= 0.3\n",
      "  UP: 1175\n",
      "  DOWN: 4223\n",
      "Done: /mnt/stripe/bio/experiments/blueprint/data_redo/methpipe/output/bp.dmrs.ncyto.ge3.mch.ge0.5.bed\n",
      "  Filtered 851/62920 regions where each region has >= 3 and abs(methylatio change) >= 0.5\n",
      "  UP: 79\n",
      "  DOWN: 772\n"
     ]
    }
   ],
   "source": [
    "!bash $DIR_PATH/filter_dmrs.sh $METHPIPE_OUTPUT_PATH $METHPIPE_OUTPUT_PATH/dmc.hg19.narrow.adjusted.regions.bed bp.dmrs 3 0.025\n",
    "!bash $DIR_PATH/filter_dmrs.sh $METHPIPE_OUTPUT_PATH $METHPIPE_OUTPUT_PATH/dmc.hg19.narrow.adjusted.regions.bed bp.dmrs 3 0.3\n",
    "!bash $DIR_PATH/filter_dmrs.sh $METHPIPE_OUTPUT_PATH $METHPIPE_OUTPUT_PATH/dmc.hg19.narrow.adjusted.regions.bed bp.dmrs 3 0.5"
   ]
  },
  {
   "cell_type": "markdown",
   "metadata": {},
   "source": [
    "## Methylation@LOI"
   ]
  },
  {
   "cell_type": "markdown",
   "metadata": {},
   "source": [
    "First liftover to hg19 (same genome as our LOI regions)"
   ]
  },
  {
   "cell_type": "code",
   "execution_count": 614,
   "metadata": {
    "ExecuteTime": {
     "end_time": "2018-08-15T06:50:30.003711Z",
     "start_time": "2018-08-15T06:50:29.635771Z"
    }
   },
   "outputs": [],
   "source": [
    "!mkdir -p $METHPIPE_WORKDIR_PATH/hg19"
   ]
  },
  {
   "cell_type": "code",
   "execution_count": 781,
   "metadata": {
    "ExecuteTime": {
     "end_time": "2018-08-15T15:07:39.724535Z",
     "start_time": "2018-08-15T15:02:52.809215Z"
    }
   },
   "outputs": [
    {
     "name": "stdout",
     "output_type": "stream",
     "text": [
      "Converting '/mnt/stripe/bio/experiments/blueprint/data_redo/methpipe/methylcall.CpG.YD1.C005PS51.GRCh38.20160531.mincov0.sorted.meth' to hg19\n",
      "Converting '/mnt/stripe/bio/experiments/blueprint/data_redo/methpipe/methylcall.CpG.YD2.S000RD54.GRCh38.20160531.mincov0.sorted.meth' to hg19\n",
      "Converting '/mnt/stripe/bio/experiments/blueprint/data_redo/methpipe/methylcall.CpG.OD1.C000S5A1bs.GRCh38.20160531.mincov0.sorted.meth' to hg19\n",
      "Converting '/mnt/stripe/bio/experiments/blueprint/data_redo/methpipe/methylcall.CpG.OD2.C0010KA2bs.GRCh38.20160531.mincov0.sorted.meth' to hg19\n",
      "Converting '/mnt/stripe/bio/experiments/blueprint/data_redo/methpipe/methylcall.CpG.OD3.C001UYA3bs.GRCh38.20160531.mincov0.sorted.meth' to hg19\n",
      "Converting '/mnt/stripe/bio/experiments/blueprint/data_redo/methpipe/methylcall.CpG.OD4.C004SQ51.GRCh38.20160531.mincov0.sorted.meth' to hg19\n"
     ]
    }
   ],
   "source": [
    "%%bash -s $METHPIPE_WORKDIR_PATH/hg19 $METHPIPE_WORKDIR_PATH $LIFT_OVER_CHAIN_FILE\n",
    "\n",
    "WORKDIR_PATH=$1\n",
    "METH_FILES_DIR=$2\n",
    "LIFT_OVER_CHAIN_FILE=$3\n",
    "\n",
    "for METH_FILE in $(find $METH_FILES_DIR -maxdepth 1 -name \"*.sorted.meth\"); do\n",
    "    METH_FILE_NAME=${METH_FILE##*/}\n",
    "    \n",
    "    METH_FILE_HG19=\"$WORKDIR_PATH/${METH_FILE_NAME%%.sorted.meth}.hg19.sorted.meth\"\n",
    "    #if [ ! -f $METH_FILE_HG19 ]; then\n",
    "        echo \"Converting '$METH_FILE' to hg19\"\n",
    "        awk -v OFS='\\t' '{ print $1,$2,$2+1,$3\":\"$4\":\"$5\":\"$6 }' $METH_FILE > $METH_FILE.bed4\n",
    "        \n",
    "        CONVERTED_PATH=$METH_FILE_HG19.bed4\n",
    "        UNMAPPED_PATH=$METH_FILE_HG19.unmapped.bed4\n",
    "        liftOver $METH_FILE.bed4 $LIFT_OVER_CHAIN_FILE $CONVERTED_PATH $UNMAPPED_PATH\n",
    "        echo \"  $(cat $METH_FILE | wc -l): total cytosines in ${METH_FILE##*/}\"\n",
    "        echo \"  $(cat $CONVERTED_PATH | wc -l): converted hg38 -> hg19 cytosines in ${CONVERTED_PATH##*/}\"\n",
    "        echo \"  $(cat $UNMAPPED_PATH | wc -l): unmapped hg38 -> hg19 cytosines in ${UNMAPPED_PATH##*/}\"\n",
    "\n",
    "        # convert bed4 to *.meth format\n",
    "        awk -F '[\\t:]' -v OFS='\\t' '{ print $1,$3,$4,$5,$6,$7 }' $CONVERTED_PATH > $METH_FILE_HG19\n",
    "        echo \"  Done: $METH_FILE_HG19\"\n",
    "        echo\n",
    "    else\n",
    "        echo \"Already exists: $METH_FILE_HG19\"\n",
    "    fi\n",
    "done"
   ]
  },
  {
   "cell_type": "markdown",
   "metadata": {},
   "source": [
    "**roimethstat**\n",
    "\n",
    "The output format is also 6-column BED, and the score column now takes the average methylation level through the interval, weighted according to the number of reads informing about each CpG or C in the methylation file. The 4th, or ”name” column encodes several other pieces of information that can be used to filter the regions. The original name of the region in the input regions file is retained, but separated by a colon (:) are, in the following order, (1) the number of CpGs in the region, (2) the number of CpGs covered at least once, (3) the number of observations in reads indicating in the region that indicate methylation, and (4) the total number of observations from reads in the region. The methylation level is then (3) divided by (4).\n",
    "\n",
    "Works rather fast"
   ]
  },
  {
   "cell_type": "code",
   "execution_count": 796,
   "metadata": {
    "ExecuteTime": {
     "end_time": "2018-08-15T16:06:28.573428Z",
     "start_time": "2018-08-15T16:06:28.532062Z"
    },
    "code_folding": []
   },
   "outputs": [
    {
     "name": "stdout",
     "output_type": "stream",
     "text": [
      "Overwriting /mnt/stripe/bio/experiments/blueprint/data_redo/batch_roimethstat.sh\n"
     ]
    }
   ],
   "source": [
    "%%writefile $DIR_PATH/batch_roimethstat.sh\n",
    "\n",
    "METH_FILES_DIR=$1\n",
    "METH_FILE_SUFFIX_PATTERN=$2\n",
    "OUTPUT_DIR=$3\n",
    "LOI_SUFFIX=$4\n",
    "\n",
    "METH_FILES=\"$(find $METH_FILES_DIR -maxdepth 1 -name $METH_FILE_SUFFIX_PATTERN)\"\n",
    "\n",
    "process_loi() {\n",
    "  LOI_FILE=$1\n",
    "\n",
    "  for METH_FILE in $METH_FILES; do\n",
    "    METH_FILE_NAME=${METH_FILE##*/}\n",
    "\n",
    "    LOI_NAME=${LOI_FILE##*/}\n",
    "    LOI_NAME=${LOI_NAME%%$LOI_SUFFIX}\n",
    "\n",
    "    echo \"Processing:\"\n",
    "    echo \"  Methylation file: $METH_FILE\"\n",
    "    echo \"  LOI             : $LOI_FILE\"\n",
    "\n",
    "    roimethstat -o $OUTPUT_DIR/$LOI_NAME@$METH_FILE_NAME $LOI_FILE $METH_FILE\n",
    "  done\n",
    "}\n",
    "\n",
    "mkdir -p $OUTPUT_DIR\n",
    "if [[ ! -z \"${@:5}\" ]]; then\n",
    "  for F in \"${@:5}\"; do\n",
    "    process_loi \"$F\"\n",
    "  done\n",
    "else\n",
    "  while read -r line; do\n",
    "      process_loi \"$line\"\n",
    "  done\n",
    "fi"
   ]
  },
  {
   "cell_type": "markdown",
   "metadata": {
    "heading_collapsed": true
   },
   "source": [
    "### DMRS, all covered regions,  Histone modifications methylation signal:"
   ]
  },
  {
   "cell_type": "code",
   "execution_count": 775,
   "metadata": {
    "ExecuteTime": {
     "end_time": "2018-08-15T14:43:00.694044Z",
     "start_time": "2018-08-15T13:12:11.374701Z"
    },
    "hidden": true
   },
   "outputs": [
    {
     "name": "stdout",
     "output_type": "stream",
     "text": [
      "Process is terminated.\n"
     ]
    }
   ],
   "source": [
    "%%bash -s $METHPIPE_WORKDIR_PATH/hg19 $DIR_PATH $METHPIPE_OUTPUT_PATH\n",
    "METH_DIR=$1\n",
    "DIR_PATH=$2\n",
    "METHPIPE_OUTPUT_PATH=$3\n",
    "OUTPUT_DIR=$METHPIPE_OUTPUT_PATH/loi\n",
    "\n",
    "# histones\n",
    "find /mnt/stripe/bio/experiments/configs/Y20O20/loci_of_interest/weak_consensus -name \"H*_span_weak_consensus.bed\" | bash $DIR_PATH/batch_roimethstat.sh $METH_DIR \"*.sorted.meth\" $OUTPUT_DIR \"_span_weak_consensus.bed\"\n",
    "\n",
    "# CGI\n",
    "bash $DIR_PATH/batch_roimethstat.sh $METH_DIR \"*.sorted.meth\" $OUTPUT_DIR \"_span_weak_consensus.bed\" /mnt/stripe/bio/raw-data/aging/loci_of_interest/ucsc_cpgIslandExt.hg19.bed\n",
    "\n",
    "# dmrs\n",
    "find $METHPIPE_OUTPUT_PATH -name \"bp.dmrs*.bed\" | xargs -I fname bash -c 'cut -f 1-4 fname > fname.bed4'\n",
    "find $METHPIPE_OUTPUT_PATH -name \"bp.dmrs*.bed.bed4\" | bash $DIR_PATH/batch_roimethstat.sh $METH_DIR \"*.sorted.meth\" $OUTPUT_DIR \".bed.bed4\"\n",
    "\n",
    "bash $DIR_PATH/batch_roimethstat.sh $METH_DIR \"*.sorted.meth\" $OUTPUT_DIR \".sorted.bed\" $DIR_PATH/\"bp.all.covered.regions.hg19.filtered.mean10.sorted.bed\""
   ]
  },
  {
   "cell_type": "markdown",
   "metadata": {},
   "source": [
    "### Histone modifications signal in DMRs"
   ]
  },
  {
   "cell_type": "code",
   "execution_count": 805,
   "metadata": {
    "ExecuteTime": {
     "end_time": "2018-08-15T17:22:36.881569Z",
     "start_time": "2018-08-15T17:22:36.867429Z"
    },
    "code_folding": [
     0
    ]
   },
   "outputs": [
    {
     "name": "stdout",
     "output_type": "stream",
     "text": [
      "Overwriting /mnt/stripe/bio/experiments/blueprint/data_redo/intersect_file_with_loi.sh\n"
     ]
    }
   ],
   "source": [
    "%%writefile $DIR_PATH/intersect_file_with_loi.sh\n",
    "\n",
    "DMR_FILE=$1\n",
    "OUTPUT_DIR=$2\n",
    "\n",
    "process_loi() {\n",
    "  LOI_FILE=$1\n",
    "  bedtools intersect -wa -a $LOI_FILE -b $DMR_FILE > \"$OUTPUT_DIR/${LOI_FILE##*/}.${DMR_FILE##*/}\"\n",
    "}\n",
    "\n",
    "mkdir -p $OUTPUT_DIR\n",
    "if [[ ! -z \"${@:3}\" ]]; then\n",
    "  for F in \"${@:3}\"; do\n",
    "    process_loi \"$F\"\n",
    "  done\n",
    "else\n",
    "  while read -r line; do\n",
    "      process_loi \"$line\"\n",
    "  done\n",
    "fi"
   ]
  },
  {
   "cell_type": "code",
   "execution_count": 808,
   "metadata": {
    "ExecuteTime": {
     "end_time": "2018-08-15T17:26:29.421207Z",
     "start_time": "2018-08-15T17:26:29.415494Z"
    }
   },
   "outputs": [
    {
     "name": "stdout",
     "output_type": "stream",
     "text": [
      "Overwriting /mnt/stripe/bio/experiments/blueprint/data_redo/calc_meth_loi.sh\n"
     ]
    }
   ],
   "source": [
    "%%writefile $DIR_PATH/calc_meth_loi.sh\n",
    "DMRS_FILE=$1\n",
    "METH_DIR=$2\n",
    "OUTPUT_DIR=$3\n",
    "DIR_PATH=$4\n",
    "\n",
    "#Intersect: Histones & DMRs\n",
    "find /mnt/stripe/bio/experiments/configs/Y20O20/loci_of_interest/weak_consensus -name \"H*_span_weak_consensus.bed\" | bash $DIR_PATH/intersect_file_with_loi.sh $DMRS_FILE $OUTPUT_DIR\n",
    "\n",
    "# histones\n",
    "mkdir -p $OUTPUT_DIR/loi\n",
    "find $OUTPUT_DIR -maxdepth 1 -name \"H*.bed4\" | bash $DIR_PATH/batch_roimethstat.sh $METH_DIR \"*.sorted.meth\" $OUTPUT_DIR/loi \"_span_weak_consensus.bed*\""
   ]
  },
  {
   "cell_type": "code",
   "execution_count": 814,
   "metadata": {
    "ExecuteTime": {
     "end_time": "2018-08-15T17:53:23.043785Z",
     "start_time": "2018-08-15T17:43:04.583556Z"
    }
   },
   "outputs": [
    {
     "name": "stdout",
     "output_type": "stream",
     "text": [
      "Processing:\n",
      "  Methylation file: /mnt/stripe/bio/experiments/blueprint/data_redo/methpipe/hg19/methylcall.CpG.YD1.C005PS51.GRCh38.20160531.mincov0.hg19.sorted.meth\n",
      "  LOI             : /mnt/stripe/bio/experiments/blueprint/data_redo/methpipe/output/loi/hist@dmrs.0.025.down/H3K27ac_span_weak_consensus.bed.bp.dmrs.ncyto.ge3.mch.ge0.025.down.bed.bed4\n",
      "Processing:\n",
      "  Methylation file: /mnt/stripe/bio/experiments/blueprint/data_redo/methpipe/hg19/methylcall.CpG.YD2.S000RD54.GRCh38.20160531.mincov0.hg19.sorted.meth\n",
      "  LOI             : /mnt/stripe/bio/experiments/blueprint/data_redo/methpipe/output/loi/hist@dmrs.0.025.down/H3K27ac_span_weak_consensus.bed.bp.dmrs.ncyto.ge3.mch.ge0.025.down.bed.bed4\n",
      "Processing:\n",
      "  Methylation file: /mnt/stripe/bio/experiments/blueprint/data_redo/methpipe/hg19/methylcall.CpG.OD1.C000S5A1bs.GRCh38.20160531.mincov0.hg19.sorted.meth\n",
      "  LOI             : /mnt/stripe/bio/experiments/blueprint/data_redo/methpipe/output/loi/hist@dmrs.0.025.down/H3K27ac_span_weak_consensus.bed.bp.dmrs.ncyto.ge3.mch.ge0.025.down.bed.bed4\n",
      "Processing:\n",
      "  Methylation file: /mnt/stripe/bio/experiments/blueprint/data_redo/methpipe/hg19/methylcall.CpG.OD2.C0010KA2bs.GRCh38.20160531.mincov0.hg19.sorted.meth\n",
      "  LOI             : /mnt/stripe/bio/experiments/blueprint/data_redo/methpipe/output/loi/hist@dmrs.0.025.down/H3K27ac_span_weak_consensus.bed.bp.dmrs.ncyto.ge3.mch.ge0.025.down.bed.bed4\n",
      "Processing:\n",
      "  Methylation file: /mnt/stripe/bio/experiments/blueprint/data_redo/methpipe/hg19/methylcall.CpG.OD3.C001UYA3bs.GRCh38.20160531.mincov0.hg19.sorted.meth\n",
      "  LOI             : /mnt/stripe/bio/experiments/blueprint/data_redo/methpipe/output/loi/hist@dmrs.0.025.down/H3K27ac_span_weak_consensus.bed.bp.dmrs.ncyto.ge3.mch.ge0.025.down.bed.bed4\n",
      "Processing:\n",
      "  Methylation file: /mnt/stripe/bio/experiments/blueprint/data_redo/methpipe/hg19/methylcall.CpG.OD4.C004SQ51.GRCh38.20160531.mincov0.hg19.sorted.meth\n",
      "  LOI             : /mnt/stripe/bio/experiments/blueprint/data_redo/methpipe/output/loi/hist@dmrs.0.025.down/H3K27ac_span_weak_consensus.bed.bp.dmrs.ncyto.ge3.mch.ge0.025.down.bed.bed4\n",
      "Processing:\n",
      "  Methylation file: /mnt/stripe/bio/experiments/blueprint/data_redo/methpipe/hg19/methylcall.CpG.YD1.C005PS51.GRCh38.20160531.mincov0.hg19.sorted.meth\n",
      "  LOI             : /mnt/stripe/bio/experiments/blueprint/data_redo/methpipe/output/loi/hist@dmrs.0.025.down/H3K27me3_span_weak_consensus.bed.bp.dmrs.ncyto.ge3.mch.ge0.025.down.bed.bed4\n",
      "Processing:\n",
      "  Methylation file: /mnt/stripe/bio/experiments/blueprint/data_redo/methpipe/hg19/methylcall.CpG.YD2.S000RD54.GRCh38.20160531.mincov0.hg19.sorted.meth\n",
      "  LOI             : /mnt/stripe/bio/experiments/blueprint/data_redo/methpipe/output/loi/hist@dmrs.0.025.down/H3K27me3_span_weak_consensus.bed.bp.dmrs.ncyto.ge3.mch.ge0.025.down.bed.bed4\n",
      "Processing:\n",
      "  Methylation file: /mnt/stripe/bio/experiments/blueprint/data_redo/methpipe/hg19/methylcall.CpG.OD1.C000S5A1bs.GRCh38.20160531.mincov0.hg19.sorted.meth\n",
      "  LOI             : /mnt/stripe/bio/experiments/blueprint/data_redo/methpipe/output/loi/hist@dmrs.0.025.down/H3K27me3_span_weak_consensus.bed.bp.dmrs.ncyto.ge3.mch.ge0.025.down.bed.bed4\n",
      "Processing:\n",
      "  Methylation file: /mnt/stripe/bio/experiments/blueprint/data_redo/methpipe/hg19/methylcall.CpG.OD2.C0010KA2bs.GRCh38.20160531.mincov0.hg19.sorted.meth\n",
      "  LOI             : /mnt/stripe/bio/experiments/blueprint/data_redo/methpipe/output/loi/hist@dmrs.0.025.down/H3K27me3_span_weak_consensus.bed.bp.dmrs.ncyto.ge3.mch.ge0.025.down.bed.bed4\n",
      "Processing:\n",
      "  Methylation file: /mnt/stripe/bio/experiments/blueprint/data_redo/methpipe/hg19/methylcall.CpG.OD3.C001UYA3bs.GRCh38.20160531.mincov0.hg19.sorted.meth\n",
      "  LOI             : /mnt/stripe/bio/experiments/blueprint/data_redo/methpipe/output/loi/hist@dmrs.0.025.down/H3K27me3_span_weak_consensus.bed.bp.dmrs.ncyto.ge3.mch.ge0.025.down.bed.bed4\n",
      "Processing:\n",
      "  Methylation file: /mnt/stripe/bio/experiments/blueprint/data_redo/methpipe/hg19/methylcall.CpG.OD4.C004SQ51.GRCh38.20160531.mincov0.hg19.sorted.meth\n",
      "  LOI             : /mnt/stripe/bio/experiments/blueprint/data_redo/methpipe/output/loi/hist@dmrs.0.025.down/H3K27me3_span_weak_consensus.bed.bp.dmrs.ncyto.ge3.mch.ge0.025.down.bed.bed4\n",
      "Processing:\n",
      "  Methylation file: /mnt/stripe/bio/experiments/blueprint/data_redo/methpipe/hg19/methylcall.CpG.YD1.C005PS51.GRCh38.20160531.mincov0.hg19.sorted.meth\n",
      "  LOI             : /mnt/stripe/bio/experiments/blueprint/data_redo/methpipe/output/loi/hist@dmrs.0.025.down/H3K36me3_span_weak_consensus.bed.bp.dmrs.ncyto.ge3.mch.ge0.025.down.bed.bed4\n",
      "Processing:\n",
      "  Methylation file: /mnt/stripe/bio/experiments/blueprint/data_redo/methpipe/hg19/methylcall.CpG.YD2.S000RD54.GRCh38.20160531.mincov0.hg19.sorted.meth\n",
      "  LOI             : /mnt/stripe/bio/experiments/blueprint/data_redo/methpipe/output/loi/hist@dmrs.0.025.down/H3K36me3_span_weak_consensus.bed.bp.dmrs.ncyto.ge3.mch.ge0.025.down.bed.bed4\n",
      "Processing:\n",
      "  Methylation file: /mnt/stripe/bio/experiments/blueprint/data_redo/methpipe/hg19/methylcall.CpG.OD1.C000S5A1bs.GRCh38.20160531.mincov0.hg19.sorted.meth\n",
      "  LOI             : /mnt/stripe/bio/experiments/blueprint/data_redo/methpipe/output/loi/hist@dmrs.0.025.down/H3K36me3_span_weak_consensus.bed.bp.dmrs.ncyto.ge3.mch.ge0.025.down.bed.bed4\n",
      "Processing:\n",
      "  Methylation file: /mnt/stripe/bio/experiments/blueprint/data_redo/methpipe/hg19/methylcall.CpG.OD2.C0010KA2bs.GRCh38.20160531.mincov0.hg19.sorted.meth\n",
      "  LOI             : /mnt/stripe/bio/experiments/blueprint/data_redo/methpipe/output/loi/hist@dmrs.0.025.down/H3K36me3_span_weak_consensus.bed.bp.dmrs.ncyto.ge3.mch.ge0.025.down.bed.bed4\n",
      "Processing:\n",
      "  Methylation file: /mnt/stripe/bio/experiments/blueprint/data_redo/methpipe/hg19/methylcall.CpG.OD3.C001UYA3bs.GRCh38.20160531.mincov0.hg19.sorted.meth\n",
      "  LOI             : /mnt/stripe/bio/experiments/blueprint/data_redo/methpipe/output/loi/hist@dmrs.0.025.down/H3K36me3_span_weak_consensus.bed.bp.dmrs.ncyto.ge3.mch.ge0.025.down.bed.bed4\n",
      "Processing:\n",
      "  Methylation file: /mnt/stripe/bio/experiments/blueprint/data_redo/methpipe/hg19/methylcall.CpG.OD4.C004SQ51.GRCh38.20160531.mincov0.hg19.sorted.meth\n",
      "  LOI             : /mnt/stripe/bio/experiments/blueprint/data_redo/methpipe/output/loi/hist@dmrs.0.025.down/H3K36me3_span_weak_consensus.bed.bp.dmrs.ncyto.ge3.mch.ge0.025.down.bed.bed4\n",
      "Processing:\n",
      "  Methylation file: /mnt/stripe/bio/experiments/blueprint/data_redo/methpipe/hg19/methylcall.CpG.YD1.C005PS51.GRCh38.20160531.mincov0.hg19.sorted.meth\n",
      "  LOI             : /mnt/stripe/bio/experiments/blueprint/data_redo/methpipe/output/loi/hist@dmrs.0.025.down/H3K4me1_span_weak_consensus.bed.bp.dmrs.ncyto.ge3.mch.ge0.025.down.bed.bed4\n",
      "Processing:\n",
      "  Methylation file: /mnt/stripe/bio/experiments/blueprint/data_redo/methpipe/hg19/methylcall.CpG.YD2.S000RD54.GRCh38.20160531.mincov0.hg19.sorted.meth\n",
      "  LOI             : /mnt/stripe/bio/experiments/blueprint/data_redo/methpipe/output/loi/hist@dmrs.0.025.down/H3K4me1_span_weak_consensus.bed.bp.dmrs.ncyto.ge3.mch.ge0.025.down.bed.bed4\n",
      "Processing:\n",
      "  Methylation file: /mnt/stripe/bio/experiments/blueprint/data_redo/methpipe/hg19/methylcall.CpG.OD1.C000S5A1bs.GRCh38.20160531.mincov0.hg19.sorted.meth\n",
      "  LOI             : /mnt/stripe/bio/experiments/blueprint/data_redo/methpipe/output/loi/hist@dmrs.0.025.down/H3K4me1_span_weak_consensus.bed.bp.dmrs.ncyto.ge3.mch.ge0.025.down.bed.bed4\n",
      "Processing:\n",
      "  Methylation file: /mnt/stripe/bio/experiments/blueprint/data_redo/methpipe/hg19/methylcall.CpG.OD2.C0010KA2bs.GRCh38.20160531.mincov0.hg19.sorted.meth\n",
      "  LOI             : /mnt/stripe/bio/experiments/blueprint/data_redo/methpipe/output/loi/hist@dmrs.0.025.down/H3K4me1_span_weak_consensus.bed.bp.dmrs.ncyto.ge3.mch.ge0.025.down.bed.bed4\n",
      "Processing:\n",
      "  Methylation file: /mnt/stripe/bio/experiments/blueprint/data_redo/methpipe/hg19/methylcall.CpG.OD3.C001UYA3bs.GRCh38.20160531.mincov0.hg19.sorted.meth\n",
      "  LOI             : /mnt/stripe/bio/experiments/blueprint/data_redo/methpipe/output/loi/hist@dmrs.0.025.down/H3K4me1_span_weak_consensus.bed.bp.dmrs.ncyto.ge3.mch.ge0.025.down.bed.bed4\n",
      "Processing:\n",
      "  Methylation file: /mnt/stripe/bio/experiments/blueprint/data_redo/methpipe/hg19/methylcall.CpG.OD4.C004SQ51.GRCh38.20160531.mincov0.hg19.sorted.meth\n",
      "  LOI             : /mnt/stripe/bio/experiments/blueprint/data_redo/methpipe/output/loi/hist@dmrs.0.025.down/H3K4me1_span_weak_consensus.bed.bp.dmrs.ncyto.ge3.mch.ge0.025.down.bed.bed4\n"
     ]
    },
    {
     "name": "stdout",
     "output_type": "stream",
     "text": [
      "Processing:\n",
      "  Methylation file: /mnt/stripe/bio/experiments/blueprint/data_redo/methpipe/hg19/methylcall.CpG.YD1.C005PS51.GRCh38.20160531.mincov0.hg19.sorted.meth\n",
      "  LOI             : /mnt/stripe/bio/experiments/blueprint/data_redo/methpipe/output/loi/hist@dmrs.0.025.down/H3K4me3_span_weak_consensus.bed.bp.dmrs.ncyto.ge3.mch.ge0.025.down.bed.bed4\n",
      "Processing:\n",
      "  Methylation file: /mnt/stripe/bio/experiments/blueprint/data_redo/methpipe/hg19/methylcall.CpG.YD2.S000RD54.GRCh38.20160531.mincov0.hg19.sorted.meth\n",
      "  LOI             : /mnt/stripe/bio/experiments/blueprint/data_redo/methpipe/output/loi/hist@dmrs.0.025.down/H3K4me3_span_weak_consensus.bed.bp.dmrs.ncyto.ge3.mch.ge0.025.down.bed.bed4\n",
      "Processing:\n",
      "  Methylation file: /mnt/stripe/bio/experiments/blueprint/data_redo/methpipe/hg19/methylcall.CpG.OD1.C000S5A1bs.GRCh38.20160531.mincov0.hg19.sorted.meth\n",
      "  LOI             : /mnt/stripe/bio/experiments/blueprint/data_redo/methpipe/output/loi/hist@dmrs.0.025.down/H3K4me3_span_weak_consensus.bed.bp.dmrs.ncyto.ge3.mch.ge0.025.down.bed.bed4\n",
      "Processing:\n",
      "  Methylation file: /mnt/stripe/bio/experiments/blueprint/data_redo/methpipe/hg19/methylcall.CpG.OD2.C0010KA2bs.GRCh38.20160531.mincov0.hg19.sorted.meth\n",
      "  LOI             : /mnt/stripe/bio/experiments/blueprint/data_redo/methpipe/output/loi/hist@dmrs.0.025.down/H3K4me3_span_weak_consensus.bed.bp.dmrs.ncyto.ge3.mch.ge0.025.down.bed.bed4\n",
      "Processing:\n",
      "  Methylation file: /mnt/stripe/bio/experiments/blueprint/data_redo/methpipe/hg19/methylcall.CpG.OD3.C001UYA3bs.GRCh38.20160531.mincov0.hg19.sorted.meth\n",
      "  LOI             : /mnt/stripe/bio/experiments/blueprint/data_redo/methpipe/output/loi/hist@dmrs.0.025.down/H3K4me3_span_weak_consensus.bed.bp.dmrs.ncyto.ge3.mch.ge0.025.down.bed.bed4\n",
      "Processing:\n",
      "  Methylation file: /mnt/stripe/bio/experiments/blueprint/data_redo/methpipe/hg19/methylcall.CpG.OD4.C004SQ51.GRCh38.20160531.mincov0.hg19.sorted.meth\n",
      "  LOI             : /mnt/stripe/bio/experiments/blueprint/data_redo/methpipe/output/loi/hist@dmrs.0.025.down/H3K4me3_span_weak_consensus.bed.bp.dmrs.ncyto.ge3.mch.ge0.025.down.bed.bed4\n",
      "Processing:\n",
      "  Methylation file: /mnt/stripe/bio/experiments/blueprint/data_redo/methpipe/hg19/methylcall.CpG.YD1.C005PS51.GRCh38.20160531.mincov0.hg19.sorted.meth\n",
      "  LOI             : /mnt/stripe/bio/experiments/blueprint/data_redo/methpipe/output/loi/hist@dmrs.0.3.down/H3K27ac_span_weak_consensus.bed.bp.dmrs.ncyto.ge3.mch.ge0.3.down.bed.bed4\n",
      "Processing:\n",
      "  Methylation file: /mnt/stripe/bio/experiments/blueprint/data_redo/methpipe/hg19/methylcall.CpG.YD2.S000RD54.GRCh38.20160531.mincov0.hg19.sorted.meth\n",
      "  LOI             : /mnt/stripe/bio/experiments/blueprint/data_redo/methpipe/output/loi/hist@dmrs.0.3.down/H3K27ac_span_weak_consensus.bed.bp.dmrs.ncyto.ge3.mch.ge0.3.down.bed.bed4\n",
      "Processing:\n",
      "  Methylation file: /mnt/stripe/bio/experiments/blueprint/data_redo/methpipe/hg19/methylcall.CpG.OD1.C000S5A1bs.GRCh38.20160531.mincov0.hg19.sorted.meth\n",
      "  LOI             : /mnt/stripe/bio/experiments/blueprint/data_redo/methpipe/output/loi/hist@dmrs.0.3.down/H3K27ac_span_weak_consensus.bed.bp.dmrs.ncyto.ge3.mch.ge0.3.down.bed.bed4\n",
      "Processing:\n",
      "  Methylation file: /mnt/stripe/bio/experiments/blueprint/data_redo/methpipe/hg19/methylcall.CpG.OD2.C0010KA2bs.GRCh38.20160531.mincov0.hg19.sorted.meth\n",
      "  LOI             : /mnt/stripe/bio/experiments/blueprint/data_redo/methpipe/output/loi/hist@dmrs.0.3.down/H3K27ac_span_weak_consensus.bed.bp.dmrs.ncyto.ge3.mch.ge0.3.down.bed.bed4\n",
      "Processing:\n",
      "  Methylation file: /mnt/stripe/bio/experiments/blueprint/data_redo/methpipe/hg19/methylcall.CpG.OD3.C001UYA3bs.GRCh38.20160531.mincov0.hg19.sorted.meth\n",
      "  LOI             : /mnt/stripe/bio/experiments/blueprint/data_redo/methpipe/output/loi/hist@dmrs.0.3.down/H3K27ac_span_weak_consensus.bed.bp.dmrs.ncyto.ge3.mch.ge0.3.down.bed.bed4\n",
      "Processing:\n",
      "  Methylation file: /mnt/stripe/bio/experiments/blueprint/data_redo/methpipe/hg19/methylcall.CpG.OD4.C004SQ51.GRCh38.20160531.mincov0.hg19.sorted.meth\n",
      "  LOI             : /mnt/stripe/bio/experiments/blueprint/data_redo/methpipe/output/loi/hist@dmrs.0.3.down/H3K27ac_span_weak_consensus.bed.bp.dmrs.ncyto.ge3.mch.ge0.3.down.bed.bed4\n",
      "Processing:\n",
      "  Methylation file: /mnt/stripe/bio/experiments/blueprint/data_redo/methpipe/hg19/methylcall.CpG.YD1.C005PS51.GRCh38.20160531.mincov0.hg19.sorted.meth\n",
      "  LOI             : /mnt/stripe/bio/experiments/blueprint/data_redo/methpipe/output/loi/hist@dmrs.0.3.down/H3K27me3_span_weak_consensus.bed.bp.dmrs.ncyto.ge3.mch.ge0.3.down.bed.bed4\n",
      "Processing:\n",
      "  Methylation file: /mnt/stripe/bio/experiments/blueprint/data_redo/methpipe/hg19/methylcall.CpG.YD2.S000RD54.GRCh38.20160531.mincov0.hg19.sorted.meth\n",
      "  LOI             : /mnt/stripe/bio/experiments/blueprint/data_redo/methpipe/output/loi/hist@dmrs.0.3.down/H3K27me3_span_weak_consensus.bed.bp.dmrs.ncyto.ge3.mch.ge0.3.down.bed.bed4\n",
      "Processing:\n",
      "  Methylation file: /mnt/stripe/bio/experiments/blueprint/data_redo/methpipe/hg19/methylcall.CpG.OD1.C000S5A1bs.GRCh38.20160531.mincov0.hg19.sorted.meth\n",
      "  LOI             : /mnt/stripe/bio/experiments/blueprint/data_redo/methpipe/output/loi/hist@dmrs.0.3.down/H3K27me3_span_weak_consensus.bed.bp.dmrs.ncyto.ge3.mch.ge0.3.down.bed.bed4\n",
      "Processing:\n",
      "  Methylation file: /mnt/stripe/bio/experiments/blueprint/data_redo/methpipe/hg19/methylcall.CpG.OD2.C0010KA2bs.GRCh38.20160531.mincov0.hg19.sorted.meth\n",
      "  LOI             : /mnt/stripe/bio/experiments/blueprint/data_redo/methpipe/output/loi/hist@dmrs.0.3.down/H3K27me3_span_weak_consensus.bed.bp.dmrs.ncyto.ge3.mch.ge0.3.down.bed.bed4\n",
      "Processing:\n",
      "  Methylation file: /mnt/stripe/bio/experiments/blueprint/data_redo/methpipe/hg19/methylcall.CpG.OD3.C001UYA3bs.GRCh38.20160531.mincov0.hg19.sorted.meth\n",
      "  LOI             : /mnt/stripe/bio/experiments/blueprint/data_redo/methpipe/output/loi/hist@dmrs.0.3.down/H3K27me3_span_weak_consensus.bed.bp.dmrs.ncyto.ge3.mch.ge0.3.down.bed.bed4\n",
      "Processing:\n",
      "  Methylation file: /mnt/stripe/bio/experiments/blueprint/data_redo/methpipe/hg19/methylcall.CpG.OD4.C004SQ51.GRCh38.20160531.mincov0.hg19.sorted.meth\n",
      "  LOI             : /mnt/stripe/bio/experiments/blueprint/data_redo/methpipe/output/loi/hist@dmrs.0.3.down/H3K27me3_span_weak_consensus.bed.bp.dmrs.ncyto.ge3.mch.ge0.3.down.bed.bed4\n",
      "Processing:\n",
      "  Methylation file: /mnt/stripe/bio/experiments/blueprint/data_redo/methpipe/hg19/methylcall.CpG.YD1.C005PS51.GRCh38.20160531.mincov0.hg19.sorted.meth\n",
      "  LOI             : /mnt/stripe/bio/experiments/blueprint/data_redo/methpipe/output/loi/hist@dmrs.0.3.down/H3K36me3_span_weak_consensus.bed.bp.dmrs.ncyto.ge3.mch.ge0.3.down.bed.bed4\n",
      "Processing:\n",
      "  Methylation file: /mnt/stripe/bio/experiments/blueprint/data_redo/methpipe/hg19/methylcall.CpG.YD2.S000RD54.GRCh38.20160531.mincov0.hg19.sorted.meth\n",
      "  LOI             : /mnt/stripe/bio/experiments/blueprint/data_redo/methpipe/output/loi/hist@dmrs.0.3.down/H3K36me3_span_weak_consensus.bed.bp.dmrs.ncyto.ge3.mch.ge0.3.down.bed.bed4\n",
      "Processing:\n",
      "  Methylation file: /mnt/stripe/bio/experiments/blueprint/data_redo/methpipe/hg19/methylcall.CpG.OD1.C000S5A1bs.GRCh38.20160531.mincov0.hg19.sorted.meth\n",
      "  LOI             : /mnt/stripe/bio/experiments/blueprint/data_redo/methpipe/output/loi/hist@dmrs.0.3.down/H3K36me3_span_weak_consensus.bed.bp.dmrs.ncyto.ge3.mch.ge0.3.down.bed.bed4\n",
      "Processing:\n",
      "  Methylation file: /mnt/stripe/bio/experiments/blueprint/data_redo/methpipe/hg19/methylcall.CpG.OD2.C0010KA2bs.GRCh38.20160531.mincov0.hg19.sorted.meth\n",
      "  LOI             : /mnt/stripe/bio/experiments/blueprint/data_redo/methpipe/output/loi/hist@dmrs.0.3.down/H3K36me3_span_weak_consensus.bed.bp.dmrs.ncyto.ge3.mch.ge0.3.down.bed.bed4\n",
      "Processing:\n",
      "  Methylation file: /mnt/stripe/bio/experiments/blueprint/data_redo/methpipe/hg19/methylcall.CpG.OD3.C001UYA3bs.GRCh38.20160531.mincov0.hg19.sorted.meth\n",
      "  LOI             : /mnt/stripe/bio/experiments/blueprint/data_redo/methpipe/output/loi/hist@dmrs.0.3.down/H3K36me3_span_weak_consensus.bed.bp.dmrs.ncyto.ge3.mch.ge0.3.down.bed.bed4\n",
      "Processing:\n",
      "  Methylation file: /mnt/stripe/bio/experiments/blueprint/data_redo/methpipe/hg19/methylcall.CpG.OD4.C004SQ51.GRCh38.20160531.mincov0.hg19.sorted.meth\n",
      "  LOI             : /mnt/stripe/bio/experiments/blueprint/data_redo/methpipe/output/loi/hist@dmrs.0.3.down/H3K36me3_span_weak_consensus.bed.bp.dmrs.ncyto.ge3.mch.ge0.3.down.bed.bed4\n"
     ]
    },
    {
     "name": "stdout",
     "output_type": "stream",
     "text": [
      "Processing:\n",
      "  Methylation file: /mnt/stripe/bio/experiments/blueprint/data_redo/methpipe/hg19/methylcall.CpG.YD1.C005PS51.GRCh38.20160531.mincov0.hg19.sorted.meth\n",
      "  LOI             : /mnt/stripe/bio/experiments/blueprint/data_redo/methpipe/output/loi/hist@dmrs.0.3.down/H3K4me1_span_weak_consensus.bed.bp.dmrs.ncyto.ge3.mch.ge0.3.down.bed.bed4\n",
      "Processing:\n",
      "  Methylation file: /mnt/stripe/bio/experiments/blueprint/data_redo/methpipe/hg19/methylcall.CpG.YD2.S000RD54.GRCh38.20160531.mincov0.hg19.sorted.meth\n",
      "  LOI             : /mnt/stripe/bio/experiments/blueprint/data_redo/methpipe/output/loi/hist@dmrs.0.3.down/H3K4me1_span_weak_consensus.bed.bp.dmrs.ncyto.ge3.mch.ge0.3.down.bed.bed4\n",
      "Processing:\n",
      "  Methylation file: /mnt/stripe/bio/experiments/blueprint/data_redo/methpipe/hg19/methylcall.CpG.OD1.C000S5A1bs.GRCh38.20160531.mincov0.hg19.sorted.meth\n",
      "  LOI             : /mnt/stripe/bio/experiments/blueprint/data_redo/methpipe/output/loi/hist@dmrs.0.3.down/H3K4me1_span_weak_consensus.bed.bp.dmrs.ncyto.ge3.mch.ge0.3.down.bed.bed4\n",
      "Processing:\n",
      "  Methylation file: /mnt/stripe/bio/experiments/blueprint/data_redo/methpipe/hg19/methylcall.CpG.OD2.C0010KA2bs.GRCh38.20160531.mincov0.hg19.sorted.meth\n",
      "  LOI             : /mnt/stripe/bio/experiments/blueprint/data_redo/methpipe/output/loi/hist@dmrs.0.3.down/H3K4me1_span_weak_consensus.bed.bp.dmrs.ncyto.ge3.mch.ge0.3.down.bed.bed4\n",
      "Processing:\n",
      "  Methylation file: /mnt/stripe/bio/experiments/blueprint/data_redo/methpipe/hg19/methylcall.CpG.OD3.C001UYA3bs.GRCh38.20160531.mincov0.hg19.sorted.meth\n",
      "  LOI             : /mnt/stripe/bio/experiments/blueprint/data_redo/methpipe/output/loi/hist@dmrs.0.3.down/H3K4me1_span_weak_consensus.bed.bp.dmrs.ncyto.ge3.mch.ge0.3.down.bed.bed4\n",
      "Processing:\n",
      "  Methylation file: /mnt/stripe/bio/experiments/blueprint/data_redo/methpipe/hg19/methylcall.CpG.OD4.C004SQ51.GRCh38.20160531.mincov0.hg19.sorted.meth\n",
      "  LOI             : /mnt/stripe/bio/experiments/blueprint/data_redo/methpipe/output/loi/hist@dmrs.0.3.down/H3K4me1_span_weak_consensus.bed.bp.dmrs.ncyto.ge3.mch.ge0.3.down.bed.bed4\n",
      "Processing:\n",
      "  Methylation file: /mnt/stripe/bio/experiments/blueprint/data_redo/methpipe/hg19/methylcall.CpG.YD1.C005PS51.GRCh38.20160531.mincov0.hg19.sorted.meth\n",
      "  LOI             : /mnt/stripe/bio/experiments/blueprint/data_redo/methpipe/output/loi/hist@dmrs.0.3.down/H3K4me3_span_weak_consensus.bed.bp.dmrs.ncyto.ge3.mch.ge0.3.down.bed.bed4\n",
      "Processing:\n",
      "  Methylation file: /mnt/stripe/bio/experiments/blueprint/data_redo/methpipe/hg19/methylcall.CpG.YD2.S000RD54.GRCh38.20160531.mincov0.hg19.sorted.meth\n",
      "  LOI             : /mnt/stripe/bio/experiments/blueprint/data_redo/methpipe/output/loi/hist@dmrs.0.3.down/H3K4me3_span_weak_consensus.bed.bp.dmrs.ncyto.ge3.mch.ge0.3.down.bed.bed4\n",
      "Processing:\n",
      "  Methylation file: /mnt/stripe/bio/experiments/blueprint/data_redo/methpipe/hg19/methylcall.CpG.OD1.C000S5A1bs.GRCh38.20160531.mincov0.hg19.sorted.meth\n",
      "  LOI             : /mnt/stripe/bio/experiments/blueprint/data_redo/methpipe/output/loi/hist@dmrs.0.3.down/H3K4me3_span_weak_consensus.bed.bp.dmrs.ncyto.ge3.mch.ge0.3.down.bed.bed4\n",
      "Processing:\n",
      "  Methylation file: /mnt/stripe/bio/experiments/blueprint/data_redo/methpipe/hg19/methylcall.CpG.OD2.C0010KA2bs.GRCh38.20160531.mincov0.hg19.sorted.meth\n",
      "  LOI             : /mnt/stripe/bio/experiments/blueprint/data_redo/methpipe/output/loi/hist@dmrs.0.3.down/H3K4me3_span_weak_consensus.bed.bp.dmrs.ncyto.ge3.mch.ge0.3.down.bed.bed4\n",
      "Processing:\n",
      "  Methylation file: /mnt/stripe/bio/experiments/blueprint/data_redo/methpipe/hg19/methylcall.CpG.OD3.C001UYA3bs.GRCh38.20160531.mincov0.hg19.sorted.meth\n",
      "  LOI             : /mnt/stripe/bio/experiments/blueprint/data_redo/methpipe/output/loi/hist@dmrs.0.3.down/H3K4me3_span_weak_consensus.bed.bp.dmrs.ncyto.ge3.mch.ge0.3.down.bed.bed4\n",
      "Processing:\n",
      "  Methylation file: /mnt/stripe/bio/experiments/blueprint/data_redo/methpipe/hg19/methylcall.CpG.OD4.C004SQ51.GRCh38.20160531.mincov0.hg19.sorted.meth\n",
      "  LOI             : /mnt/stripe/bio/experiments/blueprint/data_redo/methpipe/output/loi/hist@dmrs.0.3.down/H3K4me3_span_weak_consensus.bed.bp.dmrs.ncyto.ge3.mch.ge0.3.down.bed.bed4\n",
      "Processing:\n",
      "  Methylation file: /mnt/stripe/bio/experiments/blueprint/data_redo/methpipe/hg19/methylcall.CpG.YD1.C005PS51.GRCh38.20160531.mincov0.hg19.sorted.meth\n",
      "  LOI             : /mnt/stripe/bio/experiments/blueprint/data_redo/methpipe/output/loi/hist@dmrs.0.3.up/H3K27ac_span_weak_consensus.bed.bp.dmrs.ncyto.ge3.mch.ge0.3.up.bed.bed4\n",
      "Processing:\n",
      "  Methylation file: /mnt/stripe/bio/experiments/blueprint/data_redo/methpipe/hg19/methylcall.CpG.YD2.S000RD54.GRCh38.20160531.mincov0.hg19.sorted.meth\n",
      "  LOI             : /mnt/stripe/bio/experiments/blueprint/data_redo/methpipe/output/loi/hist@dmrs.0.3.up/H3K27ac_span_weak_consensus.bed.bp.dmrs.ncyto.ge3.mch.ge0.3.up.bed.bed4\n",
      "Processing:\n",
      "  Methylation file: /mnt/stripe/bio/experiments/blueprint/data_redo/methpipe/hg19/methylcall.CpG.OD1.C000S5A1bs.GRCh38.20160531.mincov0.hg19.sorted.meth\n",
      "  LOI             : /mnt/stripe/bio/experiments/blueprint/data_redo/methpipe/output/loi/hist@dmrs.0.3.up/H3K27ac_span_weak_consensus.bed.bp.dmrs.ncyto.ge3.mch.ge0.3.up.bed.bed4\n",
      "Processing:\n",
      "  Methylation file: /mnt/stripe/bio/experiments/blueprint/data_redo/methpipe/hg19/methylcall.CpG.OD2.C0010KA2bs.GRCh38.20160531.mincov0.hg19.sorted.meth\n",
      "  LOI             : /mnt/stripe/bio/experiments/blueprint/data_redo/methpipe/output/loi/hist@dmrs.0.3.up/H3K27ac_span_weak_consensus.bed.bp.dmrs.ncyto.ge3.mch.ge0.3.up.bed.bed4\n",
      "Processing:\n",
      "  Methylation file: /mnt/stripe/bio/experiments/blueprint/data_redo/methpipe/hg19/methylcall.CpG.OD3.C001UYA3bs.GRCh38.20160531.mincov0.hg19.sorted.meth\n",
      "  LOI             : /mnt/stripe/bio/experiments/blueprint/data_redo/methpipe/output/loi/hist@dmrs.0.3.up/H3K27ac_span_weak_consensus.bed.bp.dmrs.ncyto.ge3.mch.ge0.3.up.bed.bed4\n",
      "Processing:\n",
      "  Methylation file: /mnt/stripe/bio/experiments/blueprint/data_redo/methpipe/hg19/methylcall.CpG.OD4.C004SQ51.GRCh38.20160531.mincov0.hg19.sorted.meth\n",
      "  LOI             : /mnt/stripe/bio/experiments/blueprint/data_redo/methpipe/output/loi/hist@dmrs.0.3.up/H3K27ac_span_weak_consensus.bed.bp.dmrs.ncyto.ge3.mch.ge0.3.up.bed.bed4\n",
      "Processing:\n",
      "  Methylation file: /mnt/stripe/bio/experiments/blueprint/data_redo/methpipe/hg19/methylcall.CpG.YD1.C005PS51.GRCh38.20160531.mincov0.hg19.sorted.meth\n",
      "  LOI             : /mnt/stripe/bio/experiments/blueprint/data_redo/methpipe/output/loi/hist@dmrs.0.3.up/H3K27me3_span_weak_consensus.bed.bp.dmrs.ncyto.ge3.mch.ge0.3.up.bed.bed4\n",
      "Processing:\n",
      "  Methylation file: /mnt/stripe/bio/experiments/blueprint/data_redo/methpipe/hg19/methylcall.CpG.YD2.S000RD54.GRCh38.20160531.mincov0.hg19.sorted.meth\n",
      "  LOI             : /mnt/stripe/bio/experiments/blueprint/data_redo/methpipe/output/loi/hist@dmrs.0.3.up/H3K27me3_span_weak_consensus.bed.bp.dmrs.ncyto.ge3.mch.ge0.3.up.bed.bed4\n",
      "Processing:\n",
      "  Methylation file: /mnt/stripe/bio/experiments/blueprint/data_redo/methpipe/hg19/methylcall.CpG.OD1.C000S5A1bs.GRCh38.20160531.mincov0.hg19.sorted.meth\n",
      "  LOI             : /mnt/stripe/bio/experiments/blueprint/data_redo/methpipe/output/loi/hist@dmrs.0.3.up/H3K27me3_span_weak_consensus.bed.bp.dmrs.ncyto.ge3.mch.ge0.3.up.bed.bed4\n",
      "Processing:\n",
      "  Methylation file: /mnt/stripe/bio/experiments/blueprint/data_redo/methpipe/hg19/methylcall.CpG.OD2.C0010KA2bs.GRCh38.20160531.mincov0.hg19.sorted.meth\n",
      "  LOI             : /mnt/stripe/bio/experiments/blueprint/data_redo/methpipe/output/loi/hist@dmrs.0.3.up/H3K27me3_span_weak_consensus.bed.bp.dmrs.ncyto.ge3.mch.ge0.3.up.bed.bed4\n",
      "Processing:\n",
      "  Methylation file: /mnt/stripe/bio/experiments/blueprint/data_redo/methpipe/hg19/methylcall.CpG.OD3.C001UYA3bs.GRCh38.20160531.mincov0.hg19.sorted.meth\n",
      "  LOI             : /mnt/stripe/bio/experiments/blueprint/data_redo/methpipe/output/loi/hist@dmrs.0.3.up/H3K27me3_span_weak_consensus.bed.bp.dmrs.ncyto.ge3.mch.ge0.3.up.bed.bed4\n",
      "Processing:\n",
      "  Methylation file: /mnt/stripe/bio/experiments/blueprint/data_redo/methpipe/hg19/methylcall.CpG.OD4.C004SQ51.GRCh38.20160531.mincov0.hg19.sorted.meth\n",
      "  LOI             : /mnt/stripe/bio/experiments/blueprint/data_redo/methpipe/output/loi/hist@dmrs.0.3.up/H3K27me3_span_weak_consensus.bed.bp.dmrs.ncyto.ge3.mch.ge0.3.up.bed.bed4\n"
     ]
    },
    {
     "name": "stdout",
     "output_type": "stream",
     "text": [
      "Processing:\n",
      "  Methylation file: /mnt/stripe/bio/experiments/blueprint/data_redo/methpipe/hg19/methylcall.CpG.YD1.C005PS51.GRCh38.20160531.mincov0.hg19.sorted.meth\n",
      "  LOI             : /mnt/stripe/bio/experiments/blueprint/data_redo/methpipe/output/loi/hist@dmrs.0.3.up/H3K36me3_span_weak_consensus.bed.bp.dmrs.ncyto.ge3.mch.ge0.3.up.bed.bed4\n",
      "Processing:\n",
      "  Methylation file: /mnt/stripe/bio/experiments/blueprint/data_redo/methpipe/hg19/methylcall.CpG.YD2.S000RD54.GRCh38.20160531.mincov0.hg19.sorted.meth\n",
      "  LOI             : /mnt/stripe/bio/experiments/blueprint/data_redo/methpipe/output/loi/hist@dmrs.0.3.up/H3K36me3_span_weak_consensus.bed.bp.dmrs.ncyto.ge3.mch.ge0.3.up.bed.bed4\n",
      "Processing:\n",
      "  Methylation file: /mnt/stripe/bio/experiments/blueprint/data_redo/methpipe/hg19/methylcall.CpG.OD1.C000S5A1bs.GRCh38.20160531.mincov0.hg19.sorted.meth\n",
      "  LOI             : /mnt/stripe/bio/experiments/blueprint/data_redo/methpipe/output/loi/hist@dmrs.0.3.up/H3K36me3_span_weak_consensus.bed.bp.dmrs.ncyto.ge3.mch.ge0.3.up.bed.bed4\n",
      "Processing:\n",
      "  Methylation file: /mnt/stripe/bio/experiments/blueprint/data_redo/methpipe/hg19/methylcall.CpG.OD2.C0010KA2bs.GRCh38.20160531.mincov0.hg19.sorted.meth\n",
      "  LOI             : /mnt/stripe/bio/experiments/blueprint/data_redo/methpipe/output/loi/hist@dmrs.0.3.up/H3K36me3_span_weak_consensus.bed.bp.dmrs.ncyto.ge3.mch.ge0.3.up.bed.bed4\n",
      "Processing:\n",
      "  Methylation file: /mnt/stripe/bio/experiments/blueprint/data_redo/methpipe/hg19/methylcall.CpG.OD3.C001UYA3bs.GRCh38.20160531.mincov0.hg19.sorted.meth\n",
      "  LOI             : /mnt/stripe/bio/experiments/blueprint/data_redo/methpipe/output/loi/hist@dmrs.0.3.up/H3K36me3_span_weak_consensus.bed.bp.dmrs.ncyto.ge3.mch.ge0.3.up.bed.bed4\n",
      "Processing:\n",
      "  Methylation file: /mnt/stripe/bio/experiments/blueprint/data_redo/methpipe/hg19/methylcall.CpG.OD4.C004SQ51.GRCh38.20160531.mincov0.hg19.sorted.meth\n",
      "  LOI             : /mnt/stripe/bio/experiments/blueprint/data_redo/methpipe/output/loi/hist@dmrs.0.3.up/H3K36me3_span_weak_consensus.bed.bp.dmrs.ncyto.ge3.mch.ge0.3.up.bed.bed4\n",
      "Processing:\n",
      "  Methylation file: /mnt/stripe/bio/experiments/blueprint/data_redo/methpipe/hg19/methylcall.CpG.YD1.C005PS51.GRCh38.20160531.mincov0.hg19.sorted.meth\n",
      "  LOI             : /mnt/stripe/bio/experiments/blueprint/data_redo/methpipe/output/loi/hist@dmrs.0.3.up/H3K4me1_span_weak_consensus.bed.bp.dmrs.ncyto.ge3.mch.ge0.3.up.bed.bed4\n",
      "Processing:\n",
      "  Methylation file: /mnt/stripe/bio/experiments/blueprint/data_redo/methpipe/hg19/methylcall.CpG.YD2.S000RD54.GRCh38.20160531.mincov0.hg19.sorted.meth\n",
      "  LOI             : /mnt/stripe/bio/experiments/blueprint/data_redo/methpipe/output/loi/hist@dmrs.0.3.up/H3K4me1_span_weak_consensus.bed.bp.dmrs.ncyto.ge3.mch.ge0.3.up.bed.bed4\n",
      "Processing:\n",
      "  Methylation file: /mnt/stripe/bio/experiments/blueprint/data_redo/methpipe/hg19/methylcall.CpG.OD1.C000S5A1bs.GRCh38.20160531.mincov0.hg19.sorted.meth\n",
      "  LOI             : /mnt/stripe/bio/experiments/blueprint/data_redo/methpipe/output/loi/hist@dmrs.0.3.up/H3K4me1_span_weak_consensus.bed.bp.dmrs.ncyto.ge3.mch.ge0.3.up.bed.bed4\n",
      "Processing:\n",
      "  Methylation file: /mnt/stripe/bio/experiments/blueprint/data_redo/methpipe/hg19/methylcall.CpG.OD2.C0010KA2bs.GRCh38.20160531.mincov0.hg19.sorted.meth\n",
      "  LOI             : /mnt/stripe/bio/experiments/blueprint/data_redo/methpipe/output/loi/hist@dmrs.0.3.up/H3K4me1_span_weak_consensus.bed.bp.dmrs.ncyto.ge3.mch.ge0.3.up.bed.bed4\n",
      "Processing:\n",
      "  Methylation file: /mnt/stripe/bio/experiments/blueprint/data_redo/methpipe/hg19/methylcall.CpG.OD3.C001UYA3bs.GRCh38.20160531.mincov0.hg19.sorted.meth\n",
      "  LOI             : /mnt/stripe/bio/experiments/blueprint/data_redo/methpipe/output/loi/hist@dmrs.0.3.up/H3K4me1_span_weak_consensus.bed.bp.dmrs.ncyto.ge3.mch.ge0.3.up.bed.bed4\n",
      "Processing:\n",
      "  Methylation file: /mnt/stripe/bio/experiments/blueprint/data_redo/methpipe/hg19/methylcall.CpG.OD4.C004SQ51.GRCh38.20160531.mincov0.hg19.sorted.meth\n",
      "  LOI             : /mnt/stripe/bio/experiments/blueprint/data_redo/methpipe/output/loi/hist@dmrs.0.3.up/H3K4me1_span_weak_consensus.bed.bp.dmrs.ncyto.ge3.mch.ge0.3.up.bed.bed4\n",
      "Processing:\n",
      "  Methylation file: /mnt/stripe/bio/experiments/blueprint/data_redo/methpipe/hg19/methylcall.CpG.YD1.C005PS51.GRCh38.20160531.mincov0.hg19.sorted.meth\n",
      "  LOI             : /mnt/stripe/bio/experiments/blueprint/data_redo/methpipe/output/loi/hist@dmrs.0.3.up/H3K4me3_span_weak_consensus.bed.bp.dmrs.ncyto.ge3.mch.ge0.3.up.bed.bed4\n",
      "Processing:\n",
      "  Methylation file: /mnt/stripe/bio/experiments/blueprint/data_redo/methpipe/hg19/methylcall.CpG.YD2.S000RD54.GRCh38.20160531.mincov0.hg19.sorted.meth\n",
      "  LOI             : /mnt/stripe/bio/experiments/blueprint/data_redo/methpipe/output/loi/hist@dmrs.0.3.up/H3K4me3_span_weak_consensus.bed.bp.dmrs.ncyto.ge3.mch.ge0.3.up.bed.bed4\n",
      "Processing:\n",
      "  Methylation file: /mnt/stripe/bio/experiments/blueprint/data_redo/methpipe/hg19/methylcall.CpG.OD1.C000S5A1bs.GRCh38.20160531.mincov0.hg19.sorted.meth\n",
      "  LOI             : /mnt/stripe/bio/experiments/blueprint/data_redo/methpipe/output/loi/hist@dmrs.0.3.up/H3K4me3_span_weak_consensus.bed.bp.dmrs.ncyto.ge3.mch.ge0.3.up.bed.bed4\n",
      "Processing:\n",
      "  Methylation file: /mnt/stripe/bio/experiments/blueprint/data_redo/methpipe/hg19/methylcall.CpG.OD2.C0010KA2bs.GRCh38.20160531.mincov0.hg19.sorted.meth\n",
      "  LOI             : /mnt/stripe/bio/experiments/blueprint/data_redo/methpipe/output/loi/hist@dmrs.0.3.up/H3K4me3_span_weak_consensus.bed.bp.dmrs.ncyto.ge3.mch.ge0.3.up.bed.bed4\n",
      "Processing:\n",
      "  Methylation file: /mnt/stripe/bio/experiments/blueprint/data_redo/methpipe/hg19/methylcall.CpG.OD3.C001UYA3bs.GRCh38.20160531.mincov0.hg19.sorted.meth\n",
      "  LOI             : /mnt/stripe/bio/experiments/blueprint/data_redo/methpipe/output/loi/hist@dmrs.0.3.up/H3K4me3_span_weak_consensus.bed.bp.dmrs.ncyto.ge3.mch.ge0.3.up.bed.bed4\n",
      "Processing:\n",
      "  Methylation file: /mnt/stripe/bio/experiments/blueprint/data_redo/methpipe/hg19/methylcall.CpG.OD4.C004SQ51.GRCh38.20160531.mincov0.hg19.sorted.meth\n",
      "  LOI             : /mnt/stripe/bio/experiments/blueprint/data_redo/methpipe/output/loi/hist@dmrs.0.3.up/H3K4me3_span_weak_consensus.bed.bp.dmrs.ncyto.ge3.mch.ge0.3.up.bed.bed4\n"
     ]
    }
   ],
   "source": [
    "!bash $DIR_PATH/calc_meth_loi.sh $METHPIPE_OUTPUT_PATH/bp.dmrs.ncyto.ge3.mch.ge0.025.down.bed.bed4 $METHPIPE_WORKDIR_PATH/hg19 $METHPIPE_OUTPUT_PATH/loi/hist@dmrs.0.025.down $DIR_PATH\n",
    "#+ !bash $DIR_PATH/calc_meth_loi.sh $METHPIPE_OUTPUT_PATH/bp.dmrs.ncyto.ge3.mch.ge0.025.up.bed.bed4 $METHPIPE_WORKDIR_PATH/hg19 $METHPIPE_OUTPUT_PATH/loi/hist@dmrs.0.025.up $DIR_PATH\n",
    "#!bash $DIR_PATH/calc_meth_loi.sh $METHPIPE_OUTPUT_PATH/bp.dmrs.ncyto.ge3.mch.ge0.025.bed.bed4 $METHPIPE_WORKDIR_PATH/hg19 $METHPIPE_OUTPUT_PATH/loi/hist@dmrs.0.025 $DIR_PATH\n",
    "\n",
    "!bash $DIR_PATH/calc_meth_loi.sh $METHPIPE_OUTPUT_PATH/bp.dmrs.ncyto.ge3.mch.ge0.3.down.bed.bed4 $METHPIPE_WORKDIR_PATH/hg19 $METHPIPE_OUTPUT_PATH/loi/hist@dmrs.0.3.down $DIR_PATH\n",
    "!bash $DIR_PATH/calc_meth_loi.sh $METHPIPE_OUTPUT_PATH/bp.dmrs.ncyto.ge3.mch.ge0.3.up.bed.bed4 $METHPIPE_WORKDIR_PATH/hg19 $METHPIPE_OUTPUT_PATH/loi/hist@dmrs.0.3.up $DIR_PATH\n",
    "#!bash $DIR_PATH/calc_meth_loi.sh $METHPIPE_OUTPUT_PATH/bp.dmrs.ncyto.ge3.mch.ge0.3.bed.bed4 $METHPIPE_WORKDIR_PATH/hg19 $METHPIPE_OUTPUT_PATH/loi/hist@dmrs.0.3 $DIR_PATH"
   ]
  },
  {
   "cell_type": "markdown",
   "metadata": {},
   "source": [
    "### Visualization"
   ]
  },
  {
   "cell_type": "code",
   "execution_count": 822,
   "metadata": {
    "ExecuteTime": {
     "end_time": "2018-08-15T18:05:55.664092Z",
     "start_time": "2018-08-15T18:05:55.372772Z"
    }
   },
   "outputs": [],
   "source": [
    "from pathlib import Path\n",
    "\n",
    "import pandas as pd\n",
    "import seaborn as sns\n",
    "import matplotlib.pyplot as plt\n",
    "from IPython.display import display\n",
    "\n",
    "def plot_loi_avg_meth_info(loi_dir, pattern, loi_remove_prefix=None, title=\"Methylation @ BP DMRs\"):\n",
    "    result_dfs = []\n",
    "    files = list(loi_dir.glob(pattern))\n",
    "    for i, file in enumerate(files, 1):\n",
    "        print(\"{}/{}: {}\".format(i, len(files), file.name))\n",
    "\n",
    "        name = file.stem\n",
    "        loi, donor = name.split('@')\n",
    "        if loi_remove_prefix:\n",
    "            loi = loi.replace(loi_remove_prefix, \"\")\n",
    "              \n",
    "        donor = donor.split(\".\")[2]\n",
    "\n",
    "        #df = pd.read_csv(file, sep=\"\\t\", usecols=[0,1,2,4], names=[\"chr\", \"start\", \"end\", \"avg_meth\"], nrows=4)\n",
    "        df = pd.read_csv(file, sep=\"\\t\", usecols=[4], names=[\"avg_meth\"])\n",
    "        df[\"id\"] = \"{}@{}\".format(donor,loi)\n",
    "        df[\"donor\"] = donor\n",
    "        df[\"loi\"] = loi\n",
    "        df[\"age\"] = donor[0:2]\n",
    "\n",
    "        result_dfs.append(df)\n",
    "\n",
    "    df = pd.concat(result_dfs, axis=0)\n",
    "\n",
    "    fig, ax = plt.subplots()\n",
    "    fig.set_size_inches(20, 5)\n",
    "    ax.set_title(title)\n",
    "    plt.xticks(rotation=90)\n",
    "    g = sns.boxplot(data=df, x = \"id\", y=\"avg_meth\", hue=\"age\", ax=ax)\n",
    "    display(g)\n",
    "\n",
    "\n",
    "    fig, ax = plt.subplots()\n",
    "    fig.set_size_inches(20, 5)\n",
    "    ax.set_title(title)\n",
    "    plt.xticks(rotation=90)\n",
    "    g = sns.boxplot(data=df, x = \"loi\", y=\"avg_meth\", hue=\"age\", ax=ax)\n",
    "    display(g)"
   ]
  },
  {
   "cell_type": "markdown",
   "metadata": {},
   "source": [
    "#### DMRs"
   ]
  },
  {
   "cell_type": "code",
   "execution_count": 778,
   "metadata": {
    "ExecuteTime": {
     "end_time": "2018-08-15T14:44:04.264726Z",
     "start_time": "2018-08-15T14:44:00.740497Z"
    }
   },
   "outputs": [
    {
     "name": "stdout",
     "output_type": "stream",
     "text": [
      "1/54: bp.dmrs.ncyto.ge3.mch.ge0.025@methylcall.CpG.YD1.C005PS51.GRCh38.20160531.mincov0.hg19.sorted.meth\n",
      "2/54: bp.dmrs.ncyto.ge3.mch.ge0.025@methylcall.CpG.YD2.S000RD54.GRCh38.20160531.mincov0.hg19.sorted.meth\n",
      "3/54: bp.dmrs.ncyto.ge3.mch.ge0.025@methylcall.CpG.OD1.C000S5A1bs.GRCh38.20160531.mincov0.hg19.sorted.meth\n",
      "4/54: bp.dmrs.ncyto.ge3.mch.ge0.025@methylcall.CpG.OD2.C0010KA2bs.GRCh38.20160531.mincov0.hg19.sorted.meth\n",
      "5/54: bp.dmrs.ncyto.ge3.mch.ge0.025@methylcall.CpG.OD3.C001UYA3bs.GRCh38.20160531.mincov0.hg19.sorted.meth\n",
      "6/54: bp.dmrs.ncyto.ge3.mch.ge0.025@methylcall.CpG.OD4.C004SQ51.GRCh38.20160531.mincov0.hg19.sorted.meth\n",
      "7/54: bp.dmrs.ncyto.ge3.mch.ge0.3@methylcall.CpG.YD1.C005PS51.GRCh38.20160531.mincov0.hg19.sorted.meth\n",
      "8/54: bp.dmrs.ncyto.ge3.mch.ge0.3@methylcall.CpG.YD2.S000RD54.GRCh38.20160531.mincov0.hg19.sorted.meth\n",
      "9/54: bp.dmrs.ncyto.ge3.mch.ge0.3@methylcall.CpG.OD1.C000S5A1bs.GRCh38.20160531.mincov0.hg19.sorted.meth\n",
      "10/54: bp.dmrs.ncyto.ge3.mch.ge0.3@methylcall.CpG.OD2.C0010KA2bs.GRCh38.20160531.mincov0.hg19.sorted.meth\n",
      "11/54: bp.dmrs.ncyto.ge3.mch.ge0.3@methylcall.CpG.OD3.C001UYA3bs.GRCh38.20160531.mincov0.hg19.sorted.meth\n",
      "12/54: bp.dmrs.ncyto.ge3.mch.ge0.3@methylcall.CpG.OD4.C004SQ51.GRCh38.20160531.mincov0.hg19.sorted.meth\n",
      "13/54: bp.dmrs.ncyto.ge3.mch.ge0.5@methylcall.CpG.YD1.C005PS51.GRCh38.20160531.mincov0.hg19.sorted.meth\n",
      "14/54: bp.dmrs.ncyto.ge3.mch.ge0.5@methylcall.CpG.YD2.S000RD54.GRCh38.20160531.mincov0.hg19.sorted.meth\n",
      "15/54: bp.dmrs.ncyto.ge3.mch.ge0.5@methylcall.CpG.OD1.C000S5A1bs.GRCh38.20160531.mincov0.hg19.sorted.meth\n",
      "16/54: bp.dmrs.ncyto.ge3.mch.ge0.5@methylcall.CpG.OD2.C0010KA2bs.GRCh38.20160531.mincov0.hg19.sorted.meth\n",
      "17/54: bp.dmrs.ncyto.ge3.mch.ge0.5@methylcall.CpG.OD3.C001UYA3bs.GRCh38.20160531.mincov0.hg19.sorted.meth\n",
      "18/54: bp.dmrs.ncyto.ge3.mch.ge0.5@methylcall.CpG.OD4.C004SQ51.GRCh38.20160531.mincov0.hg19.sorted.meth\n",
      "19/54: bp.dmrs.ncyto.ge3.mch.ge0.025.up@methylcall.CpG.YD1.C005PS51.GRCh38.20160531.mincov0.hg19.sorted.meth\n",
      "20/54: bp.dmrs.ncyto.ge3.mch.ge0.025.up@methylcall.CpG.YD2.S000RD54.GRCh38.20160531.mincov0.hg19.sorted.meth\n",
      "21/54: bp.dmrs.ncyto.ge3.mch.ge0.025.up@methylcall.CpG.OD1.C000S5A1bs.GRCh38.20160531.mincov0.hg19.sorted.meth\n",
      "22/54: bp.dmrs.ncyto.ge3.mch.ge0.025.up@methylcall.CpG.OD2.C0010KA2bs.GRCh38.20160531.mincov0.hg19.sorted.meth\n",
      "23/54: bp.dmrs.ncyto.ge3.mch.ge0.025.up@methylcall.CpG.OD3.C001UYA3bs.GRCh38.20160531.mincov0.hg19.sorted.meth\n",
      "24/54: bp.dmrs.ncyto.ge3.mch.ge0.025.up@methylcall.CpG.OD4.C004SQ51.GRCh38.20160531.mincov0.hg19.sorted.meth\n",
      "25/54: bp.dmrs.ncyto.ge3.mch.ge0.025.down@methylcall.CpG.YD1.C005PS51.GRCh38.20160531.mincov0.hg19.sorted.meth\n",
      "26/54: bp.dmrs.ncyto.ge3.mch.ge0.025.down@methylcall.CpG.YD2.S000RD54.GRCh38.20160531.mincov0.hg19.sorted.meth\n",
      "27/54: bp.dmrs.ncyto.ge3.mch.ge0.025.down@methylcall.CpG.OD1.C000S5A1bs.GRCh38.20160531.mincov0.hg19.sorted.meth\n",
      "28/54: bp.dmrs.ncyto.ge3.mch.ge0.025.down@methylcall.CpG.OD2.C0010KA2bs.GRCh38.20160531.mincov0.hg19.sorted.meth\n",
      "29/54: bp.dmrs.ncyto.ge3.mch.ge0.025.down@methylcall.CpG.OD3.C001UYA3bs.GRCh38.20160531.mincov0.hg19.sorted.meth\n",
      "30/54: bp.dmrs.ncyto.ge3.mch.ge0.025.down@methylcall.CpG.OD4.C004SQ51.GRCh38.20160531.mincov0.hg19.sorted.meth\n",
      "31/54: bp.dmrs.ncyto.ge3.mch.ge0.3.up@methylcall.CpG.YD1.C005PS51.GRCh38.20160531.mincov0.hg19.sorted.meth\n",
      "32/54: bp.dmrs.ncyto.ge3.mch.ge0.3.up@methylcall.CpG.YD2.S000RD54.GRCh38.20160531.mincov0.hg19.sorted.meth\n",
      "33/54: bp.dmrs.ncyto.ge3.mch.ge0.3.up@methylcall.CpG.OD1.C000S5A1bs.GRCh38.20160531.mincov0.hg19.sorted.meth\n",
      "34/54: bp.dmrs.ncyto.ge3.mch.ge0.3.up@methylcall.CpG.OD2.C0010KA2bs.GRCh38.20160531.mincov0.hg19.sorted.meth\n",
      "35/54: bp.dmrs.ncyto.ge3.mch.ge0.3.up@methylcall.CpG.OD3.C001UYA3bs.GRCh38.20160531.mincov0.hg19.sorted.meth\n",
      "36/54: bp.dmrs.ncyto.ge3.mch.ge0.3.up@methylcall.CpG.OD4.C004SQ51.GRCh38.20160531.mincov0.hg19.sorted.meth\n",
      "37/54: bp.dmrs.ncyto.ge3.mch.ge0.3.down@methylcall.CpG.YD1.C005PS51.GRCh38.20160531.mincov0.hg19.sorted.meth\n",
      "38/54: bp.dmrs.ncyto.ge3.mch.ge0.3.down@methylcall.CpG.YD2.S000RD54.GRCh38.20160531.mincov0.hg19.sorted.meth\n",
      "39/54: bp.dmrs.ncyto.ge3.mch.ge0.3.down@methylcall.CpG.OD1.C000S5A1bs.GRCh38.20160531.mincov0.hg19.sorted.meth\n",
      "40/54: bp.dmrs.ncyto.ge3.mch.ge0.3.down@methylcall.CpG.OD2.C0010KA2bs.GRCh38.20160531.mincov0.hg19.sorted.meth\n",
      "41/54: bp.dmrs.ncyto.ge3.mch.ge0.3.down@methylcall.CpG.OD3.C001UYA3bs.GRCh38.20160531.mincov0.hg19.sorted.meth\n",
      "42/54: bp.dmrs.ncyto.ge3.mch.ge0.3.down@methylcall.CpG.OD4.C004SQ51.GRCh38.20160531.mincov0.hg19.sorted.meth\n",
      "43/54: bp.dmrs.ncyto.ge3.mch.ge0.5.up@methylcall.CpG.YD1.C005PS51.GRCh38.20160531.mincov0.hg19.sorted.meth\n",
      "44/54: bp.dmrs.ncyto.ge3.mch.ge0.5.up@methylcall.CpG.YD2.S000RD54.GRCh38.20160531.mincov0.hg19.sorted.meth\n",
      "45/54: bp.dmrs.ncyto.ge3.mch.ge0.5.up@methylcall.CpG.OD1.C000S5A1bs.GRCh38.20160531.mincov0.hg19.sorted.meth\n",
      "46/54: bp.dmrs.ncyto.ge3.mch.ge0.5.up@methylcall.CpG.OD2.C0010KA2bs.GRCh38.20160531.mincov0.hg19.sorted.meth\n",
      "47/54: bp.dmrs.ncyto.ge3.mch.ge0.5.up@methylcall.CpG.OD3.C001UYA3bs.GRCh38.20160531.mincov0.hg19.sorted.meth\n",
      "48/54: bp.dmrs.ncyto.ge3.mch.ge0.5.up@methylcall.CpG.OD4.C004SQ51.GRCh38.20160531.mincov0.hg19.sorted.meth\n",
      "49/54: bp.dmrs.ncyto.ge3.mch.ge0.5.down@methylcall.CpG.YD1.C005PS51.GRCh38.20160531.mincov0.hg19.sorted.meth\n",
      "50/54: bp.dmrs.ncyto.ge3.mch.ge0.5.down@methylcall.CpG.YD2.S000RD54.GRCh38.20160531.mincov0.hg19.sorted.meth\n",
      "51/54: bp.dmrs.ncyto.ge3.mch.ge0.5.down@methylcall.CpG.OD1.C000S5A1bs.GRCh38.20160531.mincov0.hg19.sorted.meth\n",
      "52/54: bp.dmrs.ncyto.ge3.mch.ge0.5.down@methylcall.CpG.OD2.C0010KA2bs.GRCh38.20160531.mincov0.hg19.sorted.meth\n",
      "53/54: bp.dmrs.ncyto.ge3.mch.ge0.5.down@methylcall.CpG.OD3.C001UYA3bs.GRCh38.20160531.mincov0.hg19.sorted.meth\n",
      "54/54: bp.dmrs.ncyto.ge3.mch.ge0.5.down@methylcall.CpG.OD4.C004SQ51.GRCh38.20160531.mincov0.hg19.sorted.meth\n"
     ]
    },
    {
     "data": {
      "text/plain": [
       "<matplotlib.axes._subplots.AxesSubplot at 0x7f9639b30978>"
      ]
     },
     "metadata": {},
     "output_type": "display_data"
    },
    {
     "data": {
      "text/plain": [
       "<matplotlib.axes._subplots.AxesSubplot at 0x7f9657f2cc50>"
      ]
     },
     "metadata": {},
     "output_type": "display_data"
    },
    {
     "data": {
      "image/png": "[encoded data removed]",
      "text/plain": [
       "<matplotlib.figure.Figure at 0x7f964b630828>"
      ]
     },
     "metadata": {},
     "output_type": "display_data"
    },
    {
     "data": {
      "image/png": "[encoded data removed]",
      "text/plain": [
       "<matplotlib.figure.Figure at 0x7f9623550470>"
      ]
     },
     "metadata": {},
     "output_type": "display_data"
    }
   ],
   "source": [
    "plot_loi_avg_meth_info(Path(METHPIPE_OUTPUT_PATH) / \"loi\", \"bp.dmrs*.meth\", loi_remove_prefix=\"bp.dmrs.ncyto.ge3.mch.ge\")"
   ]
  },
  {
   "cell_type": "markdown",
   "metadata": {},
   "source": [
    "#### Histones"
   ]
  },
  {
   "cell_type": "code",
   "execution_count": 779,
   "metadata": {
    "ExecuteTime": {
     "end_time": "2018-08-15T14:44:58.829803Z",
     "start_time": "2018-08-15T14:44:12.249474Z"
    }
   },
   "outputs": [
    {
     "name": "stdout",
     "output_type": "stream",
     "text": [
      "1/30: H3K27ac@methylcall.CpG.YD1.C005PS51.GRCh38.20160531.mincov0.hg19.sorted.meth\n",
      "2/30: H3K27ac@methylcall.CpG.YD2.S000RD54.GRCh38.20160531.mincov0.hg19.sorted.meth\n",
      "3/30: H3K27ac@methylcall.CpG.OD1.C000S5A1bs.GRCh38.20160531.mincov0.hg19.sorted.meth\n",
      "4/30: H3K27ac@methylcall.CpG.OD2.C0010KA2bs.GRCh38.20160531.mincov0.hg19.sorted.meth\n",
      "5/30: H3K27ac@methylcall.CpG.OD3.C001UYA3bs.GRCh38.20160531.mincov0.hg19.sorted.meth\n",
      "6/30: H3K27ac@methylcall.CpG.OD4.C004SQ51.GRCh38.20160531.mincov0.hg19.sorted.meth\n",
      "7/30: H3K27me3@methylcall.CpG.YD1.C005PS51.GRCh38.20160531.mincov0.hg19.sorted.meth\n",
      "8/30: H3K27me3@methylcall.CpG.YD2.S000RD54.GRCh38.20160531.mincov0.hg19.sorted.meth\n",
      "9/30: H3K27me3@methylcall.CpG.OD1.C000S5A1bs.GRCh38.20160531.mincov0.hg19.sorted.meth\n",
      "10/30: H3K27me3@methylcall.CpG.OD2.C0010KA2bs.GRCh38.20160531.mincov0.hg19.sorted.meth\n",
      "11/30: H3K27me3@methylcall.CpG.OD3.C001UYA3bs.GRCh38.20160531.mincov0.hg19.sorted.meth\n",
      "12/30: H3K27me3@methylcall.CpG.OD4.C004SQ51.GRCh38.20160531.mincov0.hg19.sorted.meth\n",
      "13/30: H3K36me3@methylcall.CpG.YD1.C005PS51.GRCh38.20160531.mincov0.hg19.sorted.meth\n",
      "14/30: H3K36me3@methylcall.CpG.YD2.S000RD54.GRCh38.20160531.mincov0.hg19.sorted.meth\n",
      "15/30: H3K36me3@methylcall.CpG.OD1.C000S5A1bs.GRCh38.20160531.mincov0.hg19.sorted.meth\n",
      "16/30: H3K36me3@methylcall.CpG.OD2.C0010KA2bs.GRCh38.20160531.mincov0.hg19.sorted.meth\n",
      "17/30: H3K36me3@methylcall.CpG.OD3.C001UYA3bs.GRCh38.20160531.mincov0.hg19.sorted.meth\n",
      "18/30: H3K36me3@methylcall.CpG.OD4.C004SQ51.GRCh38.20160531.mincov0.hg19.sorted.meth\n",
      "19/30: H3K4me1@methylcall.CpG.YD1.C005PS51.GRCh38.20160531.mincov0.hg19.sorted.meth\n",
      "20/30: H3K4me1@methylcall.CpG.YD2.S000RD54.GRCh38.20160531.mincov0.hg19.sorted.meth\n",
      "21/30: H3K4me1@methylcall.CpG.OD1.C000S5A1bs.GRCh38.20160531.mincov0.hg19.sorted.meth\n",
      "22/30: H3K4me1@methylcall.CpG.OD2.C0010KA2bs.GRCh38.20160531.mincov0.hg19.sorted.meth\n",
      "23/30: H3K4me1@methylcall.CpG.OD3.C001UYA3bs.GRCh38.20160531.mincov0.hg19.sorted.meth\n",
      "24/30: H3K4me1@methylcall.CpG.OD4.C004SQ51.GRCh38.20160531.mincov0.hg19.sorted.meth\n",
      "25/30: H3K4me3@methylcall.CpG.YD1.C005PS51.GRCh38.20160531.mincov0.hg19.sorted.meth\n",
      "26/30: H3K4me3@methylcall.CpG.YD2.S000RD54.GRCh38.20160531.mincov0.hg19.sorted.meth\n",
      "27/30: H3K4me3@methylcall.CpG.OD1.C000S5A1bs.GRCh38.20160531.mincov0.hg19.sorted.meth\n",
      "28/30: H3K4me3@methylcall.CpG.OD2.C0010KA2bs.GRCh38.20160531.mincov0.hg19.sorted.meth\n",
      "29/30: H3K4me3@methylcall.CpG.OD3.C001UYA3bs.GRCh38.20160531.mincov0.hg19.sorted.meth\n",
      "30/30: H3K4me3@methylcall.CpG.OD4.C004SQ51.GRCh38.20160531.mincov0.hg19.sorted.meth\n"
     ]
    },
    {
     "data": {
      "text/plain": [
       "<matplotlib.axes._subplots.AxesSubplot at 0x7f9639aba438>"
      ]
     },
     "metadata": {},
     "output_type": "display_data"
    },
    {
     "data": {
      "text/plain": [
       "<matplotlib.axes._subplots.AxesSubplot at 0x7f9615af19b0>"
      ]
     },
     "metadata": {},
     "output_type": "display_data"
    },
    {
     "data": {
      "image/png": "[encoded data removed]",
      "text/plain": [
       "<matplotlib.figure.Figure at 0x7f9639af4208>"
      ]
     },
     "metadata": {},
     "output_type": "display_data"
    },
    {
     "data": {
      "image/png": "[encoded data removed]",
      "text/plain": [
       "<matplotlib.figure.Figure at 0x7f962dd4ad30>"
      ]
     },
     "metadata": {},
     "output_type": "display_data"
    }
   ],
   "source": [
    "plot_loi_avg_meth_info(Path(METHPIPE_OUTPUT_PATH) / \"loi\", \"H*.meth\")"
   ]
  },
  {
   "cell_type": "markdown",
   "metadata": {},
   "source": [
    "#### Histones at DMRs"
   ]
  },
  {
   "cell_type": "code",
   "execution_count": 827,
   "metadata": {
    "ExecuteTime": {
     "end_time": "2018-08-15T18:07:01.207853Z",
     "start_time": "2018-08-15T18:06:58.147101Z"
    }
   },
   "outputs": [
    {
     "name": "stdout",
     "output_type": "stream",
     "text": [
      "1/30: H3K27ac@methylcall.CpG.YD1.C005PS51.GRCh38.20160531.mincov0.hg19.sorted.meth\n",
      "2/30: H3K27ac@methylcall.CpG.YD2.S000RD54.GRCh38.20160531.mincov0.hg19.sorted.meth\n",
      "3/30: H3K27ac@methylcall.CpG.OD1.C000S5A1bs.GRCh38.20160531.mincov0.hg19.sorted.meth\n",
      "4/30: H3K27ac@methylcall.CpG.OD2.C0010KA2bs.GRCh38.20160531.mincov0.hg19.sorted.meth\n",
      "5/30: H3K27ac@methylcall.CpG.OD3.C001UYA3bs.GRCh38.20160531.mincov0.hg19.sorted.meth\n",
      "6/30: H3K27ac@methylcall.CpG.OD4.C004SQ51.GRCh38.20160531.mincov0.hg19.sorted.meth\n",
      "7/30: H3K27me3@methylcall.CpG.YD1.C005PS51.GRCh38.20160531.mincov0.hg19.sorted.meth\n",
      "8/30: H3K27me3@methylcall.CpG.YD2.S000RD54.GRCh38.20160531.mincov0.hg19.sorted.meth\n",
      "9/30: H3K27me3@methylcall.CpG.OD1.C000S5A1bs.GRCh38.20160531.mincov0.hg19.sorted.meth\n",
      "10/30: H3K27me3@methylcall.CpG.OD2.C0010KA2bs.GRCh38.20160531.mincov0.hg19.sorted.meth\n",
      "11/30: H3K27me3@methylcall.CpG.OD3.C001UYA3bs.GRCh38.20160531.mincov0.hg19.sorted.meth\n",
      "12/30: H3K27me3@methylcall.CpG.OD4.C004SQ51.GRCh38.20160531.mincov0.hg19.sorted.meth\n",
      "13/30: H3K36me3@methylcall.CpG.YD1.C005PS51.GRCh38.20160531.mincov0.hg19.sorted.meth\n",
      "14/30: H3K36me3@methylcall.CpG.YD2.S000RD54.GRCh38.20160531.mincov0.hg19.sorted.meth\n",
      "15/30: H3K36me3@methylcall.CpG.OD1.C000S5A1bs.GRCh38.20160531.mincov0.hg19.sorted.meth\n",
      "16/30: H3K36me3@methylcall.CpG.OD2.C0010KA2bs.GRCh38.20160531.mincov0.hg19.sorted.meth\n",
      "17/30: H3K36me3@methylcall.CpG.OD3.C001UYA3bs.GRCh38.20160531.mincov0.hg19.sorted.meth\n",
      "18/30: H3K36me3@methylcall.CpG.OD4.C004SQ51.GRCh38.20160531.mincov0.hg19.sorted.meth\n",
      "19/30: H3K4me1@methylcall.CpG.YD1.C005PS51.GRCh38.20160531.mincov0.hg19.sorted.meth\n",
      "20/30: H3K4me1@methylcall.CpG.YD2.S000RD54.GRCh38.20160531.mincov0.hg19.sorted.meth\n",
      "21/30: H3K4me1@methylcall.CpG.OD1.C000S5A1bs.GRCh38.20160531.mincov0.hg19.sorted.meth\n",
      "22/30: H3K4me1@methylcall.CpG.OD2.C0010KA2bs.GRCh38.20160531.mincov0.hg19.sorted.meth\n",
      "23/30: H3K4me1@methylcall.CpG.OD3.C001UYA3bs.GRCh38.20160531.mincov0.hg19.sorted.meth\n",
      "24/30: H3K4me1@methylcall.CpG.OD4.C004SQ51.GRCh38.20160531.mincov0.hg19.sorted.meth\n",
      "25/30: H3K4me3@methylcall.CpG.YD1.C005PS51.GRCh38.20160531.mincov0.hg19.sorted.meth\n",
      "26/30: H3K4me3@methylcall.CpG.YD2.S000RD54.GRCh38.20160531.mincov0.hg19.sorted.meth\n",
      "27/30: H3K4me3@methylcall.CpG.OD1.C000S5A1bs.GRCh38.20160531.mincov0.hg19.sorted.meth\n",
      "28/30: H3K4me3@methylcall.CpG.OD2.C0010KA2bs.GRCh38.20160531.mincov0.hg19.sorted.meth\n",
      "29/30: H3K4me3@methylcall.CpG.OD3.C001UYA3bs.GRCh38.20160531.mincov0.hg19.sorted.meth\n",
      "30/30: H3K4me3@methylcall.CpG.OD4.C004SQ51.GRCh38.20160531.mincov0.hg19.sorted.meth\n"
     ]
    },
    {
     "data": {
      "text/plain": [
       "<matplotlib.axes._subplots.AxesSubplot at 0x7f961acf0978>"
      ]
     },
     "metadata": {},
     "output_type": "display_data"
    },
    {
     "data": {
      "text/plain": [
       "<matplotlib.axes._subplots.AxesSubplot at 0x7f96c8e43ef0>"
      ]
     },
     "metadata": {},
     "output_type": "display_data"
    },
    {
     "data": {
      "image/png": "[encoded data removed]",
      "text/plain": [
       "<matplotlib.figure.Figure at 0x7f9623a218d0>"
      ]
     },
     "metadata": {},
     "output_type": "display_data"
    },
    {
     "data": {
      "image/png": "[encoded data removed]",
      "text/plain": [
       "<matplotlib.figure.Figure at 0x7f9642c855f8>"
      ]
     },
     "metadata": {},
     "output_type": "display_data"
    }
   ],
   "source": [
    "plot_loi_avg_meth_info(Path(METHPIPE_OUTPUT_PATH) / \"loi\" / \"hist@dmrs.0.025.up\" / \"loi\", \"H*.meth\", title=\"Methylation @ Histones in DMRs 0.025 UP\")"
   ]
  },
  {
   "cell_type": "code",
   "execution_count": 828,
   "metadata": {
    "ExecuteTime": {
     "end_time": "2018-08-15T18:07:21.025435Z",
     "start_time": "2018-08-15T18:07:16.059060Z"
    }
   },
   "outputs": [
    {
     "name": "stdout",
     "output_type": "stream",
     "text": [
      "1/30: H3K27ac@methylcall.CpG.YD1.C005PS51.GRCh38.20160531.mincov0.hg19.sorted.meth\n",
      "2/30: H3K27ac@methylcall.CpG.YD2.S000RD54.GRCh38.20160531.mincov0.hg19.sorted.meth\n",
      "3/30: H3K27ac@methylcall.CpG.OD1.C000S5A1bs.GRCh38.20160531.mincov0.hg19.sorted.meth\n",
      "4/30: H3K27ac@methylcall.CpG.OD2.C0010KA2bs.GRCh38.20160531.mincov0.hg19.sorted.meth\n",
      "5/30: H3K27ac@methylcall.CpG.OD3.C001UYA3bs.GRCh38.20160531.mincov0.hg19.sorted.meth\n",
      "6/30: H3K27ac@methylcall.CpG.OD4.C004SQ51.GRCh38.20160531.mincov0.hg19.sorted.meth\n",
      "7/30: H3K27me3@methylcall.CpG.YD1.C005PS51.GRCh38.20160531.mincov0.hg19.sorted.meth\n",
      "8/30: H3K27me3@methylcall.CpG.YD2.S000RD54.GRCh38.20160531.mincov0.hg19.sorted.meth\n",
      "9/30: H3K27me3@methylcall.CpG.OD1.C000S5A1bs.GRCh38.20160531.mincov0.hg19.sorted.meth\n",
      "10/30: H3K27me3@methylcall.CpG.OD2.C0010KA2bs.GRCh38.20160531.mincov0.hg19.sorted.meth\n",
      "11/30: H3K27me3@methylcall.CpG.OD3.C001UYA3bs.GRCh38.20160531.mincov0.hg19.sorted.meth\n",
      "12/30: H3K27me3@methylcall.CpG.OD4.C004SQ51.GRCh38.20160531.mincov0.hg19.sorted.meth\n",
      "13/30: H3K36me3@methylcall.CpG.YD1.C005PS51.GRCh38.20160531.mincov0.hg19.sorted.meth\n",
      "14/30: H3K36me3@methylcall.CpG.YD2.S000RD54.GRCh38.20160531.mincov0.hg19.sorted.meth\n",
      "15/30: H3K36me3@methylcall.CpG.OD1.C000S5A1bs.GRCh38.20160531.mincov0.hg19.sorted.meth\n",
      "16/30: H3K36me3@methylcall.CpG.OD2.C0010KA2bs.GRCh38.20160531.mincov0.hg19.sorted.meth\n",
      "17/30: H3K36me3@methylcall.CpG.OD3.C001UYA3bs.GRCh38.20160531.mincov0.hg19.sorted.meth\n",
      "18/30: H3K36me3@methylcall.CpG.OD4.C004SQ51.GRCh38.20160531.mincov0.hg19.sorted.meth\n",
      "19/30: H3K4me1@methylcall.CpG.YD1.C005PS51.GRCh38.20160531.mincov0.hg19.sorted.meth\n",
      "20/30: H3K4me1@methylcall.CpG.YD2.S000RD54.GRCh38.20160531.mincov0.hg19.sorted.meth\n",
      "21/30: H3K4me1@methylcall.CpG.OD1.C000S5A1bs.GRCh38.20160531.mincov0.hg19.sorted.meth\n",
      "22/30: H3K4me1@methylcall.CpG.OD2.C0010KA2bs.GRCh38.20160531.mincov0.hg19.sorted.meth\n",
      "23/30: H3K4me1@methylcall.CpG.OD3.C001UYA3bs.GRCh38.20160531.mincov0.hg19.sorted.meth\n",
      "24/30: H3K4me1@methylcall.CpG.OD4.C004SQ51.GRCh38.20160531.mincov0.hg19.sorted.meth\n",
      "25/30: H3K4me3@methylcall.CpG.YD1.C005PS51.GRCh38.20160531.mincov0.hg19.sorted.meth\n",
      "26/30: H3K4me3@methylcall.CpG.YD2.S000RD54.GRCh38.20160531.mincov0.hg19.sorted.meth\n",
      "27/30: H3K4me3@methylcall.CpG.OD1.C000S5A1bs.GRCh38.20160531.mincov0.hg19.sorted.meth\n",
      "28/30: H3K4me3@methylcall.CpG.OD2.C0010KA2bs.GRCh38.20160531.mincov0.hg19.sorted.meth\n",
      "29/30: H3K4me3@methylcall.CpG.OD3.C001UYA3bs.GRCh38.20160531.mincov0.hg19.sorted.meth\n",
      "30/30: H3K4me3@methylcall.CpG.OD4.C004SQ51.GRCh38.20160531.mincov0.hg19.sorted.meth\n"
     ]
    },
    {
     "data": {
      "text/plain": [
       "<matplotlib.axes._subplots.AxesSubplot at 0x7f9616c74e10>"
      ]
     },
     "metadata": {},
     "output_type": "display_data"
    },
    {
     "data": {
      "text/plain": [
       "<matplotlib.axes._subplots.AxesSubplot at 0x7f961f19ada0>"
      ]
     },
     "metadata": {},
     "output_type": "display_data"
    },
    {
     "data": {
      "image/png": "[encoded data removed]",
      "text/plain": [
       "<matplotlib.figure.Figure at 0x7f96c724d860>"
      ]
     },
     "metadata": {},
     "output_type": "display_data"
    },
    {
     "data": {
      "image/png": "[encoded data removed]",
      "text/plain": [
       "<matplotlib.figure.Figure at 0x7f96c9012828>"
      ]
     },
     "metadata": {},
     "output_type": "display_data"
    }
   ],
   "source": [
    "plot_loi_avg_meth_info(Path(METHPIPE_OUTPUT_PATH) / \"loi\" / \"hist@dmrs.0.025.down\" / \"loi\", \"H*.meth\", title = \"Methylation @ Histones in DMRs 0.025 DOWN\")"
   ]
  },
  {
   "cell_type": "code",
   "execution_count": 831,
   "metadata": {
    "ExecuteTime": {
     "end_time": "2018-08-15T18:07:43.703078Z",
     "start_time": "2018-08-15T18:07:42.365228Z"
    }
   },
   "outputs": [
    {
     "name": "stdout",
     "output_type": "stream",
     "text": [
      "1/30: H3K27ac@methylcall.CpG.YD1.C005PS51.GRCh38.20160531.mincov0.hg19.sorted.meth\n",
      "2/30: H3K27ac@methylcall.CpG.YD2.S000RD54.GRCh38.20160531.mincov0.hg19.sorted.meth\n",
      "3/30: H3K27ac@methylcall.CpG.OD1.C000S5A1bs.GRCh38.20160531.mincov0.hg19.sorted.meth\n",
      "4/30: H3K27ac@methylcall.CpG.OD2.C0010KA2bs.GRCh38.20160531.mincov0.hg19.sorted.meth\n",
      "5/30: H3K27ac@methylcall.CpG.OD3.C001UYA3bs.GRCh38.20160531.mincov0.hg19.sorted.meth\n",
      "6/30: H3K27ac@methylcall.CpG.OD4.C004SQ51.GRCh38.20160531.mincov0.hg19.sorted.meth\n",
      "7/30: H3K27me3@methylcall.CpG.YD1.C005PS51.GRCh38.20160531.mincov0.hg19.sorted.meth\n",
      "8/30: H3K27me3@methylcall.CpG.YD2.S000RD54.GRCh38.20160531.mincov0.hg19.sorted.meth\n",
      "9/30: H3K27me3@methylcall.CpG.OD1.C000S5A1bs.GRCh38.20160531.mincov0.hg19.sorted.meth\n",
      "10/30: H3K27me3@methylcall.CpG.OD2.C0010KA2bs.GRCh38.20160531.mincov0.hg19.sorted.meth\n",
      "11/30: H3K27me3@methylcall.CpG.OD3.C001UYA3bs.GRCh38.20160531.mincov0.hg19.sorted.meth\n",
      "12/30: H3K27me3@methylcall.CpG.OD4.C004SQ51.GRCh38.20160531.mincov0.hg19.sorted.meth\n",
      "13/30: H3K36me3@methylcall.CpG.YD1.C005PS51.GRCh38.20160531.mincov0.hg19.sorted.meth\n",
      "14/30: H3K36me3@methylcall.CpG.YD2.S000RD54.GRCh38.20160531.mincov0.hg19.sorted.meth\n",
      "15/30: H3K36me3@methylcall.CpG.OD1.C000S5A1bs.GRCh38.20160531.mincov0.hg19.sorted.meth\n",
      "16/30: H3K36me3@methylcall.CpG.OD2.C0010KA2bs.GRCh38.20160531.mincov0.hg19.sorted.meth\n",
      "17/30: H3K36me3@methylcall.CpG.OD3.C001UYA3bs.GRCh38.20160531.mincov0.hg19.sorted.meth\n",
      "18/30: H3K36me3@methylcall.CpG.OD4.C004SQ51.GRCh38.20160531.mincov0.hg19.sorted.meth\n",
      "19/30: H3K4me1@methylcall.CpG.YD1.C005PS51.GRCh38.20160531.mincov0.hg19.sorted.meth\n",
      "20/30: H3K4me1@methylcall.CpG.YD2.S000RD54.GRCh38.20160531.mincov0.hg19.sorted.meth\n",
      "21/30: H3K4me1@methylcall.CpG.OD1.C000S5A1bs.GRCh38.20160531.mincov0.hg19.sorted.meth\n",
      "22/30: H3K4me1@methylcall.CpG.OD2.C0010KA2bs.GRCh38.20160531.mincov0.hg19.sorted.meth\n",
      "23/30: H3K4me1@methylcall.CpG.OD3.C001UYA3bs.GRCh38.20160531.mincov0.hg19.sorted.meth\n",
      "24/30: H3K4me1@methylcall.CpG.OD4.C004SQ51.GRCh38.20160531.mincov0.hg19.sorted.meth\n",
      "25/30: H3K4me3@methylcall.CpG.YD1.C005PS51.GRCh38.20160531.mincov0.hg19.sorted.meth\n",
      "26/30: H3K4me3@methylcall.CpG.YD2.S000RD54.GRCh38.20160531.mincov0.hg19.sorted.meth\n",
      "27/30: H3K4me3@methylcall.CpG.OD1.C000S5A1bs.GRCh38.20160531.mincov0.hg19.sorted.meth\n",
      "28/30: H3K4me3@methylcall.CpG.OD2.C0010KA2bs.GRCh38.20160531.mincov0.hg19.sorted.meth\n",
      "29/30: H3K4me3@methylcall.CpG.OD3.C001UYA3bs.GRCh38.20160531.mincov0.hg19.sorted.meth\n",
      "30/30: H3K4me3@methylcall.CpG.OD4.C004SQ51.GRCh38.20160531.mincov0.hg19.sorted.meth\n"
     ]
    },
    {
     "data": {
      "text/plain": [
       "<matplotlib.axes._subplots.AxesSubplot at 0x7f96207a9a90>"
      ]
     },
     "metadata": {},
     "output_type": "display_data"
    },
    {
     "data": {
      "text/plain": [
       "<matplotlib.axes._subplots.AxesSubplot at 0x7f964236ee80>"
      ]
     },
     "metadata": {},
     "output_type": "display_data"
    },
    {
     "data": {
      "image/png": "[encoded data removed]",
      "text/plain": [
       "<matplotlib.figure.Figure at 0x7f96553ebcc0>"
      ]
     },
     "metadata": {},
     "output_type": "display_data"
    },
    {
     "data": {
      "image/png": "[encoded data removed]",
      "text/plain": [
       "<matplotlib.figure.Figure at 0x7f96215a9198>"
      ]
     },
     "metadata": {},
     "output_type": "display_data"
    }
   ],
   "source": [
    "plot_loi_avg_meth_info(Path(METHPIPE_OUTPUT_PATH) / \"loi\" / \"hist@dmrs.0.3.up\" / \"loi\", \"H*.meth\", title= \"Methylation @ Histones in DMRs 0.3 UP\")"
   ]
  },
  {
   "cell_type": "code",
   "execution_count": 830,
   "metadata": {
    "ExecuteTime": {
     "end_time": "2018-08-15T18:07:41.016965Z",
     "start_time": "2018-08-15T18:07:36.331338Z"
    }
   },
   "outputs": [
    {
     "name": "stdout",
     "output_type": "stream",
     "text": [
      "1/30: H3K27ac@methylcall.CpG.YD1.C005PS51.GRCh38.20160531.mincov0.hg19.sorted.meth\n",
      "2/30: H3K27ac@methylcall.CpG.YD2.S000RD54.GRCh38.20160531.mincov0.hg19.sorted.meth\n",
      "3/30: H3K27ac@methylcall.CpG.OD1.C000S5A1bs.GRCh38.20160531.mincov0.hg19.sorted.meth\n",
      "4/30: H3K27ac@methylcall.CpG.OD2.C0010KA2bs.GRCh38.20160531.mincov0.hg19.sorted.meth\n",
      "5/30: H3K27ac@methylcall.CpG.OD3.C001UYA3bs.GRCh38.20160531.mincov0.hg19.sorted.meth\n",
      "6/30: H3K27ac@methylcall.CpG.OD4.C004SQ51.GRCh38.20160531.mincov0.hg19.sorted.meth\n",
      "7/30: H3K27me3@methylcall.CpG.YD1.C005PS51.GRCh38.20160531.mincov0.hg19.sorted.meth\n",
      "8/30: H3K27me3@methylcall.CpG.YD2.S000RD54.GRCh38.20160531.mincov0.hg19.sorted.meth\n",
      "9/30: H3K27me3@methylcall.CpG.OD1.C000S5A1bs.GRCh38.20160531.mincov0.hg19.sorted.meth\n",
      "10/30: H3K27me3@methylcall.CpG.OD2.C0010KA2bs.GRCh38.20160531.mincov0.hg19.sorted.meth\n",
      "11/30: H3K27me3@methylcall.CpG.OD3.C001UYA3bs.GRCh38.20160531.mincov0.hg19.sorted.meth\n",
      "12/30: H3K27me3@methylcall.CpG.OD4.C004SQ51.GRCh38.20160531.mincov0.hg19.sorted.meth\n",
      "13/30: H3K36me3@methylcall.CpG.YD1.C005PS51.GRCh38.20160531.mincov0.hg19.sorted.meth\n",
      "14/30: H3K36me3@methylcall.CpG.YD2.S000RD54.GRCh38.20160531.mincov0.hg19.sorted.meth\n",
      "15/30: H3K36me3@methylcall.CpG.OD1.C000S5A1bs.GRCh38.20160531.mincov0.hg19.sorted.meth\n",
      "16/30: H3K36me3@methylcall.CpG.OD2.C0010KA2bs.GRCh38.20160531.mincov0.hg19.sorted.meth\n",
      "17/30: H3K36me3@methylcall.CpG.OD3.C001UYA3bs.GRCh38.20160531.mincov0.hg19.sorted.meth\n",
      "18/30: H3K36me3@methylcall.CpG.OD4.C004SQ51.GRCh38.20160531.mincov0.hg19.sorted.meth\n",
      "19/30: H3K4me1@methylcall.CpG.YD1.C005PS51.GRCh38.20160531.mincov0.hg19.sorted.meth\n",
      "20/30: H3K4me1@methylcall.CpG.YD2.S000RD54.GRCh38.20160531.mincov0.hg19.sorted.meth\n",
      "21/30: H3K4me1@methylcall.CpG.OD1.C000S5A1bs.GRCh38.20160531.mincov0.hg19.sorted.meth\n",
      "22/30: H3K4me1@methylcall.CpG.OD2.C0010KA2bs.GRCh38.20160531.mincov0.hg19.sorted.meth\n",
      "23/30: H3K4me1@methylcall.CpG.OD3.C001UYA3bs.GRCh38.20160531.mincov0.hg19.sorted.meth\n",
      "24/30: H3K4me1@methylcall.CpG.OD4.C004SQ51.GRCh38.20160531.mincov0.hg19.sorted.meth\n",
      "25/30: H3K4me3@methylcall.CpG.YD1.C005PS51.GRCh38.20160531.mincov0.hg19.sorted.meth\n",
      "26/30: H3K4me3@methylcall.CpG.YD2.S000RD54.GRCh38.20160531.mincov0.hg19.sorted.meth\n",
      "27/30: H3K4me3@methylcall.CpG.OD1.C000S5A1bs.GRCh38.20160531.mincov0.hg19.sorted.meth\n",
      "28/30: H3K4me3@methylcall.CpG.OD2.C0010KA2bs.GRCh38.20160531.mincov0.hg19.sorted.meth\n",
      "29/30: H3K4me3@methylcall.CpG.OD3.C001UYA3bs.GRCh38.20160531.mincov0.hg19.sorted.meth\n",
      "30/30: H3K4me3@methylcall.CpG.OD4.C004SQ51.GRCh38.20160531.mincov0.hg19.sorted.meth\n"
     ]
    },
    {
     "data": {
      "text/plain": [
       "<matplotlib.axes._subplots.AxesSubplot at 0x7f961d75ea90>"
      ]
     },
     "metadata": {},
     "output_type": "display_data"
    },
    {
     "data": {
      "text/plain": [
       "<matplotlib.axes._subplots.AxesSubplot at 0x7f9663c2d9b0>"
      ]
     },
     "metadata": {},
     "output_type": "display_data"
    },
    {
     "data": {
      "image/png": "[encoded data removed]",
      "text/plain": [
       "<matplotlib.figure.Figure at 0x7f9662a13780>"
      ]
     },
     "metadata": {},
     "output_type": "display_data"
    },
    {
     "data": {
      "image/png": "[encoded data removed]",
      "text/plain": [
       "<matplotlib.figure.Figure at 0x7f96c7d4d208>"
      ]
     },
     "metadata": {},
     "output_type": "display_data"
    }
   ],
   "source": [
    "plot_loi_avg_meth_info(Path(METHPIPE_OUTPUT_PATH) / \"loi\" / \"hist@dmrs.0.3.down\" / \"loi\", \"H*.meth\", title= \"Methylation @ Histones in DMRs 0.3 DOWN\")"
   ]
  },
  {
   "cell_type": "markdown",
   "metadata": {
    "heading_collapsed": true
   },
   "source": [
    "## TMP: Chr19 only"
   ]
  },
  {
   "cell_type": "code",
   "execution_count": null,
   "metadata": {
    "hidden": true
   },
   "outputs": [],
   "source": [
    "### %%bash -s $DIR_PATH\n",
    "DIR_PATH=$1\n",
    "SUFFIX=4_1\n",
    "INPUT_DIR=$DIR_PATH/methpipe_input_$SUFFIX\n",
    "CHR_NAME=chr19\n",
    "\n",
    "mkdir $INPUT_DIR\n",
    "cp $DIR_PATH/methpipe_input_4/methpipe_input_4_design_matrix_complex.txt ${INPUT_DIR}/design_matrix_complex.txt\n",
    "cat $DIR_PATH/methpipe_input_4/methpipe_input_4_proportion_table.txt | awk '{ if (NR==1 || \\$1 ~ /^chr19:/ ) print }' > ${INPUT_DIR}/proportion_table.txt\n",
    "\n",
    "PREP_OUTPUT_DIR=$DIR_PATH/prepare_output_$SUFFIX\n",
    "mkdir $PREP_OUTPUT_DIR\n",
    "for F in $(find $DIR_PATH/prepare_output_4 -name \"*.meth\"); do\n",
    "   awk -v chrname=$CHR_NAME '{ if (\\$1 == chrname) print }' $F > $PREP_OUTPUT_DIR/${F##*/}\n",
    "done\n",
    "\n",
    "OUTPUT_DIR=$DIR_PATH/methpipe_output_$SUFFIX\n",
    "bash $DIR_PATH/run_methpipe.sh $INPUT_DIR/design_matrix_complex.txt $INPUT_DIR/proportion_table.txt $OUTPUT_DIR/dmrs.bed\n",
    "ls -alh $OUTPUT_DIR/dmrs.bed"
   ]
  },
  {
   "cell_type": "markdown",
   "metadata": {
    "hidden": true
   },
   "source": [
    "DMRS post processing:"
   ]
  },
  {
   "cell_type": "code",
   "execution_count": null,
   "metadata": {
    "hidden": true
   },
   "outputs": [],
   "source": [
    "%%bash $DIR_PATH\n",
    "DIR_PATH=$1\n",
    "conda install -c bioconda ucsc-liftover\n",
    "wget --timestamping 'ftp://hgdownload.cse.ucsc.edu/goldenPath/hg38/liftOver/hg38ToHg19.over.chain.gz' -O $DIR_PATH/hg38ToHg19.over.chain.gz\n",
    "\n",
    "cd $DIR_PATH/methpipe_output_4_1\n",
    "awk '{print $1,$2,$3,$4NR\":\"$5\":\"$6}' clean_methpipe.narrow.adjusted.regions.bed > clean_methpipe.narrow.adjusted.regions.bed4\n",
    "liftOver clean_methpipe.narrow.adjusted.regions.bed4  $DIR_PATH/hg38ToHg19.over.chain.gz  dmrs19.bed4 dmrs_38to19.unmapped.bed4\n",
    "echo \"Converted hg38 -> hg19 regions: $(wc -l dmrs19.bed4)\"\n",
    "echo \"Unmapped hg38 -> hg19 regions: $(wc -l dmrs_38to19.unmapped.bed4)\"\n",
    "awk -v FS=':' -v OFS='\\t' '{ print $1,$2,$3 }' dmrs19.bed4 > dmrs19.bed\n",
    "\n",
    "cat dmrs19.bed | awk 'function abs(v) {return v < 0 ? -v : v} {if (abs($6) >= 0.025 && $5 >= 3) print}' | sort -nk6,7 > dmrs.ncyto.ge3.fc.ge0.025.bed\n",
    "echo \"Filtered dmrs: cytosines >=3, change >= 0.025 $( wc -l dmrs.ncyto.ge3.fc.ge0.025.bed)\"\n",
    "awk '{ if ($6 > 0) print }' dmrs.ncyto.ge3.fc.ge0.025.bed > dmrs.ncyto.ge3.fc.ge0.025up.bed\n",
    "awk '{ if ($6 < 0) print }' dmrs.ncyto.ge3.fc.ge0.025.bed > dmrs.ncyto.ge3.fc.ge0.025down.bed\n",
    "\n",
    "cat dmrs19.bed | awk 'function abs(v) {return v < 0 ? -v : v} {if (abs($6) >= 0.3 && $5 >= 3) print}' | sort -nk6,7 > dmrs.ncyto.ge3.fc.ge0.3.bed\n",
    "echo \"Filtered dmrs: cytosines >=3, change >= 0.3 $( wc -l dmrs.ncyto.ge3.fc.ge0.3.bed)\"\n",
    "awk '{ if ($6 > 0) print }' dmrs.ncyto.ge3.fc.ge0.3.bed > dmrs.ncyto.ge3.fc.ge0.03up.bed\n",
    "awk '{ if ($6 < 0) print }' dmrs.ncyto.ge3.fc.ge0.3.bed > dmrs.ncyto.ge3.fc.ge0.03down.bed\n",
    "\n",
    "cat dmrs19.bed | awk 'function abs(v) {return v < 0 ? -v : v} {if (abs($6) >= 0.5 && $5 >= 3) print}' | sort -nk6,7 > dmrs.ncyto.ge3.fc.ge0.5.bed\n",
    "echo \"Filtered dmrs: cytosines >=3, change >= 0.5 $( wc -l dmrs.ncyto.ge3.fc.ge0.5.bed)\"\n",
    "awk '{ if ($6 > 0) print }' dmrs.ncyto.ge3.fc.ge0.5.bed > dmrs.ncyto.ge3.fc.ge0.5up.bed\n",
    "awk '{ if ($6 < 0) print }' dmrs.ncyto.ge3.fc.ge0.5.bed > dmrs.ncyto.ge3.fc.ge0.5down.bed"
   ]
  },
  {
   "cell_type": "code",
   "execution_count": 88,
   "metadata": {
    "ExecuteTime": {
     "end_time": "2018-08-08T18:05:02.624355Z",
     "start_time": "2018-08-08T18:05:02.590961Z"
    },
    "hidden": true
   },
   "outputs": [
    {
     "ename": "SyntaxError",
     "evalue": "invalid syntax (<ipython-input-88-7f6bf52eddf5>, line 1)",
     "output_type": "error",
     "traceback": [
      "\u001b[0;36m  File \u001b[0;32m\"<ipython-input-88-7f6bf52eddf5>\"\u001b[0;36m, line \u001b[0;32m1\u001b[0m\n\u001b[0;31m    for F in $(find /mnt/stripe/bio/raw-data/aging/loci_of_interest/dmrs -name \"*.bed\"); do NAME=${F##*/}; echo $F\" \"$NAME; awk '{ if ($1 == \"chr19\") print }' $F > $NAME; done\u001b[0m\n\u001b[0m             ^\u001b[0m\n\u001b[0;31mSyntaxError\u001b[0m\u001b[0;31m:\u001b[0m invalid syntax\n"
     ]
    }
   ],
   "source": [
    "%%bash\n",
    "\n",
    "cd $DIR_PATH/methpipe_output_4_1\n",
    "for F in $(find /mnt/stripe/bio/raw-data/aging/loci_of_interest/dmrs -name \"*.bed\"); do NAME=${F##*/}; RESULT=\"ABF\"_$NAME; echo \"Filtering chr19 dmrs to $RESULT\"; awk '{ if ($1 == \"chr19\") print }' $F > $RESULT; done\n",
    "\n",
    "# ABF vs BluePrint\n",
    "python $WASHU_ROOT/downstream/bed_metrics.py -a dmrs.ncyto.ge3.fc.ge0.025.bed,dmrs.ncyto.ge3.fc.ge0.3.bed,dmrs.ncyto.ge3.fc.ge0.5.bed -b ABF_washu_german_rrbs_filtered_dmrs_all_10.hg19.bed,ABF_dmrs_filtered_ncyto_ge3_abs_avgdiff_ge0.025.bed,ABF_all_covered_regions_50bp.bed,ABF_cpg_minavcov10_complex_4outliers.narrow.adjusted.regions.bed -o blueprint_vs_abf_dmrs -p 20"
   ]
  },
  {
   "cell_type": "code",
   "execution_count": 128,
   "metadata": {
    "ExecuteTime": {
     "end_time": "2018-08-08T19:29:14.996643Z",
     "start_time": "2018-08-08T19:28:54.519610Z"
    },
    "hidden": true
   },
   "outputs": [
    {
     "name": "stdout",
     "output_type": "stream",
     "text": [
      "Calculating metrics:  blueprint_dmr@loci.df\n",
      "  [Saved] blueprint_dmr@loci.df\n"
     ]
    }
   ],
   "source": [
    "%%bash -s $DIR_PATH\n",
    "DIR_PATH=$1\n",
    "\n",
    "WEAK_CONS=$(find /mnt/stripe/bio/experiments/configs/Y20O20/loci_of_interest/median_consensus/ -name \"H*_span_median_consensus.bed\")\n",
    "MEDIAN_CONS=$(find /mnt/stripe/bio/experiments/configs/Y20O20/loci_of_interest/weak_consensus/ -name \"H*_span_weak_consensus.bed\")\n",
    "CHROM_HMM=$(find /mnt/stripe/bio/experiments/configs/Y20O20/loci_of_interest/cgi_chromhmm_encsr511wof -name \"*.bed\")\n",
    "\n",
    "REGIONS=$DIR_PATH/methpipe_output_4_1/regions\n",
    "mkdir -p $REGIONS\n",
    "for FILE in $WEAK_CONS $MEDIAN_CONS $CHROM_HMM; do \n",
    "    NAME=${FILE##*/}\n",
    "    RESULT=$REGIONS/$NAME\n",
    "    echo \"Filtering chr19 dmrs to $RESULT\"\n",
    "    awk '{ if ($1 == \"chr19\") print }' $FILE > $RESULT\n",
    "done\n",
    "\n",
    "cd $DIR_PATH/methpipe_output_4_1\n",
    "REGIONS=$(for F in $(find regions -name \"*.bed\"); do echo -n \"$F,\"; done)\n",
    "REGIONS=${REGIONS::-1}\n",
    "\n",
    "DMRS_BP=$(for F in $(find . -maxdepth 1 -name \"dmrs.ncyto*.bed\"); do echo -n \"$F,\"; done)\n",
    "DMRS_BP=${DMRS_BP::-1}\n",
    "\n",
    "DMRS_ABF=$(for F in $(find . -maxdepth 1 -name \"ABF_*.bed\"); do echo -n \"$F,\"; done)\n",
    "DMRS_ABF=${DMRS_ABF::-1}\n",
    "\n",
    "python $WASHU_ROOT/downstream/bed_metrics.py -a \"$DMRS_BP,$DMRS_ABF\" -b $REGIONS -o blueprint_dmr@loci -p 20 --size 20 20"
   ]
  },
  {
   "cell_type": "code",
   "execution_count": 133,
   "metadata": {
    "ExecuteTime": {
     "end_time": "2018-08-08T19:32:11.128696Z",
     "start_time": "2018-08-08T19:32:11.117630Z"
    },
    "hidden": true
   },
   "outputs": [],
   "source": [
    "#from IPython.display import IFrame\n",
    "#IFrame(DIR_PATH + \"/methpipe_output_4_1/blueprint_dmr@loci.pdf\", width=600, height=300)"
   ]
  },
  {
   "cell_type": "markdown",
   "metadata": {},
   "source": [
    "# Metilene"
   ]
  },
  {
   "cell_type": "markdown",
   "metadata": {},
   "source": [
    "### Prepare data"
   ]
  },
  {
   "cell_type": "markdown",
   "metadata": {},
   "source": [
    "Let's use `methpipe` proportions table to generate input for `metilene` tool\n",
    "\n",
    "TODO: python from filtered cytosines list and cytosines data table"
   ]
  },
  {
   "cell_type": "code",
   "execution_count": 832,
   "metadata": {
    "ExecuteTime": {
     "end_time": "2018-08-15T18:26:26.231196Z",
     "start_time": "2018-08-15T18:26:25.811944Z"
    }
   },
   "outputs": [
    {
     "name": "stdout",
     "output_type": "stream",
     "text": [
      "methylcall.CpG.YD1.C005PS51.GRCh38.20160531.mincov0.sorted\tmethylcall.CpG.YD2.S000RD54.GRCh38.20160531.mincov0.sorted\tmethylcall.CpG.OD1.C000S5A1bs.GRCh38.20160531.mincov0.sorted\tmethylcall.CpG.OD2.C0010KA2bs.GRCh38.20160531.mincov0.sorted\tmethylcall.CpG.OD3.C001UYA3bs.GRCh38.20160531.mincov0.sorted\tmethylcall.CpG.OD4.C004SQ51.GRCh38.20160531.mincov0.sorted\t\r\n",
      "chr1:11184:+:CpG\t16\t13\t11\t6\t5\t4\t7\t5\t10\t9\t18\t14\t\r\n",
      "chr1:11210:+:CpG\t18\t4\t12\t6\t5\t4\t9\t5\t14\t8\t18\t7\t\r\n",
      "chr1:11297:+:CpG\t53\t11\t13\t3\t4\t2\t10\t2\t13\t1\t18\t3\t\r\n",
      "chr1:11300:+:CpG\t53\t46\t12\t9\t6\t3\t11\t9\t14\t11\t21\t16\t\r\n",
      "chr1:11343:+:CpG\t56\t23\t15\t7\t4\t3\t7\t4\t12\t5\t20\t7\t\r\n",
      "chr1:11346:+:CpG\t62\t20\t15\t5\t4\t2\t8\t5\t13\t6\t22\t8\t\r\n",
      "chr1:11404:+:CpG\t73\t45\t8\t5\t3\t3\t6\t6\t15\t12\t20\t18\t\r\n",
      "chr1:11763:+:CpG\t20\t13\t14\t12\t10\t8\t13\t7\t15\t7\t25\t19\t\r\n",
      "chr1:11781:+:CpG\t19\t14\t16\t15\t10\t8\t12\t5\t15\t8\t23\t18\t\r\n"
     ]
    }
   ],
   "source": [
    "!head $METHPIPE_WORKDIR_PATH/proportion_table.hg19.txt"
   ]
  },
  {
   "cell_type": "code",
   "execution_count": 833,
   "metadata": {
    "ExecuteTime": {
     "end_time": "2018-08-15T18:26:28.199438Z",
     "start_time": "2018-08-15T18:26:28.184583Z"
    }
   },
   "outputs": [],
   "source": [
    "METILEN_WORKDIR_PATH=DIR_PATH + \"/metilene\""
   ]
  },
  {
   "cell_type": "code",
   "execution_count": 834,
   "metadata": {
    "ExecuteTime": {
     "end_time": "2018-08-15T18:33:10.516082Z",
     "start_time": "2018-08-15T18:27:00.990679Z"
    }
   },
   "outputs": [
    {
     "name": "stdout",
     "output_type": "stream",
     "text": [
      "chr\tpos\tmethylcall.CpG.YD1.C005PS51.GRCh38.20160531.mincov0.sorted\tmethylcall.CpG.YD2.S000RD54.GRCh38.20160531.mincov0.sorted\tmethylcall.CpG.OD1.C000S5A1bs.GRCh38.20160531.mincov0.sorted\tmethylcall.CpG.OD2.C0010KA2bs.GRCh38.20160531.mincov0.sorted\tmethylcall.CpG.OD3.C001UYA3bs.GRCh38.20160531.mincov0.sorted\tmethylcall.CpG.OD4.C004SQ51.GRCh38.20160531.mincov0.sorted\t\n",
      "chr1\t11184\t0.8125\t0.545455\t0.8\t0.714286\t0.9\t0.777778\n",
      "chr1\t11210\t0.222222\t0.5\t0.8\t0.555556\t0.571429\t0.388889\n",
      "chr1\t11297\t0.207547\t0.230769\t0.5\t0.2\t0.0769231\t0.166667\n",
      "chr1\t11300\t0.867925\t0.75\t0.5\t0.818182\t0.785714\t0.761905\n",
      "chr1\t11343\t0.410714\t0.466667\t0.75\t0.571429\t0.416667\t0.35\n",
      "chr1\t11346\t0.322581\t0.333333\t0.5\t0.625\t0.461538\t0.363636\n",
      "chr1\t11404\t0.616438\t0.625\t1\t1\t0.8\t0.9\n",
      "chr1\t11763\t0.65\t0.857143\t0.8\t0.538462\t0.466667\t0.76\n",
      "chr1\t11781\t0.736842\t0.9375\t0.8\t0.416667\t0.533333\t0.782609\n"
     ]
    }
   ],
   "source": [
    "%%bash -s $METILEN_WORKDIR_PATH $METHPIPE_WORKDIR_PATH/proportion_table.hg19.txt\n",
    "METILEN_WORKDIR_PATH=$1\n",
    "PROPORTION_TABLE=$2\n",
    "\n",
    "cd $DIR_PATH\n",
    "mkdir -p $METILEN_WORKDIR_PATH\n",
    "\n",
    "# chr pos g1_xxx g1_xx [...] g2_xxx g2_xxx\n",
    "cat $PROPORTION_TABLE | awk -v FS='[:\\t]' -v OFS='\\t' '{ if (NR==1) print \"chr\\tpos\\t\"$0; else print $1,$2,$6/$5,$8/$7,$10/$9,$12/$11,$14/$13,$16/$15}' > $METILEN_WORKDIR_PATH/metilene_methylation.hg19.tsv\n",
    "head $METILEN_WORKDIR_PATH/metilene_methylation.hg19.tsv"
   ]
  },
  {
   "cell_type": "markdown",
   "metadata": {},
   "source": [
    "## Call DMRS"
   ]
  },
  {
   "cell_type": "code",
   "execution_count": 837,
   "metadata": {
    "ExecuteTime": {
     "end_time": "2018-08-17T08:30:59.282462Z",
     "start_time": "2018-08-17T08:27:56.669717Z"
    }
   },
   "outputs": [],
   "source": [
    "%%bash -s $METILEN_WORKDIR_PATH\n",
    "METILEN_WORKDIR_PATH=$1\n",
    "\n",
    "OUTPUT=$METILEN_WORKDIR_PATH/output\n",
    "mkdir -p $OUTPUT\n",
    "cd $METILEN_WORKDIR_PATH/output\n",
    "\n",
    "# chr start stop q-value \"mean methylation difference\" CpGs \"p (MWU)\" \"p (2D KS)\" \"mean g1\" \"mean g2\"\n",
    "metilene -a methylcall.CpG.OD -b methylcall.CpG.YD -t 23 $METILEN_WORKDIR_PATH/metilene_methylation.hg19.tsv > bp.metilene.dmrs.hg19.bed 2> bp.metilene.dmrs.hg19.log"
   ]
  },
  {
   "cell_type": "markdown",
   "metadata": {},
   "source": [
    "## LOI"
   ]
  },
  {
   "cell_type": "markdown",
   "metadata": {},
   "source": [
    "h3k27me3 hangs.., h3k4me1 no results"
   ]
  },
  {
   "cell_type": "code",
   "execution_count": 838,
   "metadata": {
    "ExecuteTime": {
     "end_time": "2018-08-17T08:32:03.797741Z",
     "start_time": "2018-08-17T08:30:59.285555Z"
    }
   },
   "outputs": [],
   "source": [
    "%%bash -s $METILEN_WORKDIR_PATH\n",
    "METILEN_WORKDIR_PATH=$1\n",
    "\n",
    "OUTPUT=$METILEN_WORKDIR_PATH/output\n",
    "mkdir -p $OUTPUT\n",
    "cd $METILEN_WORKDIR_PATH/output\n",
    "\n",
    "# chr start stop q-value \"mean methylation difference\" CpGs \"p (MWU)\" \"p (2D KS)\" \"mean g1\" \"mean g2\"\n",
    "metilene -a methylcall.CpG.OD -b methylcall.CpG.YD -t 23 -f 2 -B /mnt/stripe/bio/experiments/configs/Y20O20/loci_of_interest/weak_consensus/H3K4me1_span_weak_consensus.bed $METILEN_WORKDIR_PATH/metilene_methylation.hg19.tsv > loci.bp.metilene.dmrs.hg19@h3k4me1_weak.bed  2> loci.bp.metilene.dmrs.hg19@h3k4me1_weak.log\n",
    "#metilene -a methylcall.CpG.OD -b methylcall.CpG.YD -t 23 -f 2 -B /mnt/stripe/bio/experiments/configs/Y20O20/loci_of_interest/weak_consensus/H3K27me3_span_weak_consensus.bed metilene_methylation.tsv > loci.bp.metilene.dmrs.hg19@h3k27me3_weak.bed 2> loci.bp.metilene.dmrs.hg19.hg19@h3k27me3_weak.log"
   ]
  },
  {
   "cell_type": "markdown",
   "metadata": {},
   "source": [
    "### Visualisation & Filtering"
   ]
  },
  {
   "cell_type": "code",
   "execution_count": 175,
   "metadata": {
    "ExecuteTime": {
     "end_time": "2018-08-10T12:29:05.461802Z",
     "start_time": "2018-08-10T12:27:53.699067Z"
    }
   },
   "outputs": [
    {
     "name": "stdout",
     "output_type": "stream",
     "text": [
      "DMRS count\n",
      "20723 bp.metilene.dmrs.bed\n",
      "All dmrs:\n",
      "null device \n",
      "          1 \n",
      "20695 bp.metilene.dmrs.bed_qval.1.05.bedgraph\n",
      "Filtered dmrs: qvalue <= 0.05, change >= 0.1\n",
      "null device \n",
      "          1 \n",
      "null device \n",
      "          1 \n",
      "33 loci.bp.metilene.dmrs@h3k4me1_weak.bed\n",
      "null device \n",
      "          1 \n",
      "0 loci.bp.metilene.dmrs@h3k27me3_weak.bed\n",
      "Filtered dmrs: qvalue <= 0.05, change >= 0.3\n",
      "null device \n",
      "          1 \n",
      "480 bp.metilene.dmrs.bed.ge03_qval.0.05.bedgraph\n",
      "Filtered dmrs: qvalue <= 0.1, change >= 0.3\n",
      "null device \n",
      "          1 \n",
      "513 bp.metilene.dmrs.bed.ge03_qval.0.1.bedgraph\n"
     ]
    },
    {
     "name": "stderr",
     "output_type": "stream",
     "text": [
      "[INFO]\tFri Aug 10, 15:27:54, 2018\tChecking flags\n",
      "[INFO]\tFri Aug 10, 15:27:54, 2018\tFilter DMRs.\n",
      "[INFO]\tFri Aug 10, 15:27:54, 2018\tWrote 20695 DMRs with adj. p-value<1.05, a minimum absolute difference>=0, a minimum length [CpG]>=10 and a minimum length [nt]>=0\n",
      "[INFO]\tFri Aug 10, 15:27:54, 2018\tBedgraph file containing DMR difference: /mnt/stripe/bio/experiments/blueprint/data/metilene/bp.metilene.dmrs.bed_qval.1.05.bedgraph\n",
      "[INFO]\tFri Aug 10, 15:27:54, 2018\tPlot DMR statistics.\n",
      "During startup - Warning message:\n",
      "package ‘RevoUtils’ was built under R version 3.4.3 \n",
      "Warning message:\n",
      "package ‘ggplot2’ was built under R version 3.4.3 \n",
      "[INFO]\tFri Aug 10, 15:28:12, 2018\tChecking flags\n",
      "[INFO]\tFri Aug 10, 15:28:12, 2018\tFilter DMRs.\n",
      "[INFO]\tFri Aug 10, 15:28:12, 2018\tWrote 949 DMRs with adj. p-value<0.05, a minimum absolute difference>=0.1, a minimum length [CpG]>=10 and a minimum length [nt]>=0\n",
      "[INFO]\tFri Aug 10, 15:28:12, 2018\tBedgraph file containing DMR difference: /mnt/stripe/bio/experiments/blueprint/data/metilene/bp.metilene.dmrs.bed_qval.0.05.bedgraph\n",
      "[INFO]\tFri Aug 10, 15:28:12, 2018\tPlot DMR statistics.\n",
      "During startup - Warning message:\n",
      "package ‘RevoUtils’ was built under R version 3.4.3 \n",
      "Warning message:\n",
      "package ‘ggplot2’ was built under R version 3.4.3 \n",
      "wc: bp.metilene.dmrs.bed.qval.0.05.bedgraph: No such file or directory\n",
      "[INFO]\tFri Aug 10, 15:28:24, 2018\tChecking flags\n",
      "[INFO]\tFri Aug 10, 15:28:24, 2018\tFilter DMRs.\n",
      "[INFO]\tFri Aug 10, 15:28:24, 2018\tWrote 0 DMRs with adj. p-value<0.05, a minimum absolute difference>=0.1, a minimum length [CpG]>=10 and a minimum length [nt]>=0\n",
      "[INFO]\tFri Aug 10, 15:28:24, 2018\tBedgraph file containing DMR difference: /mnt/stripe/bio/experiments/blueprint/data/metilene/loci.bp.metilene.dmrs@h3k4me1_weak.bed_qval.0.05.bedgraph\n",
      "[INFO]\tFri Aug 10, 15:28:24, 2018\tPlot DMR statistics.\n",
      "During startup - Warning message:\n",
      "package ‘RevoUtils’ was built under R version 3.4.3 \n",
      "Warning message:\n",
      "package ‘ggplot2’ was built under R version 3.4.3 \n",
      "[INFO]\tFri Aug 10, 15:28:32, 2018\tChecking flags\n",
      "[INFO]\tFri Aug 10, 15:28:32, 2018\tFilter DMRs.\n",
      "[INFO]\tFri Aug 10, 15:28:32, 2018\tWrote 0 DMRs with adj. p-value<0.05, a minimum absolute difference>=0.1, a minimum length [CpG]>=10 and a minimum length [nt]>=0\n",
      "[INFO]\tFri Aug 10, 15:28:32, 2018\tBedgraph file containing DMR difference: /mnt/stripe/bio/experiments/blueprint/data/metilene/loci.bp.metilene.dmrs@h3k27me3_weak.bed_qval.0.05.bedgraph\n",
      "[INFO]\tFri Aug 10, 15:28:32, 2018\tPlot DMR statistics.\n",
      "During startup - Warning message:\n",
      "package ‘RevoUtils’ was built under R version 3.4.3 \n",
      "Warning message:\n",
      "package ‘ggplot2’ was built under R version 3.4.3 \n",
      "[INFO]\tFri Aug 10, 15:28:42, 2018\tChecking flags\n",
      "[INFO]\tFri Aug 10, 15:28:42, 2018\tFilter DMRs.\n",
      "[INFO]\tFri Aug 10, 15:28:42, 2018\tWrote 480 DMRs with adj. p-value<0.05, a minimum absolute difference>=0.3, a minimum length [CpG]>=10 and a minimum length [nt]>=0\n",
      "[INFO]\tFri Aug 10, 15:28:42, 2018\tBedgraph file containing DMR difference: /mnt/stripe/bio/experiments/blueprint/data/metilene/bp.metilene.dmrs.bed.ge03_qval.0.05.bedgraph\n",
      "[INFO]\tFri Aug 10, 15:28:42, 2018\tPlot DMR statistics.\n",
      "During startup - Warning message:\n",
      "package ‘RevoUtils’ was built under R version 3.4.3 \n",
      "Warning message:\n",
      "package ‘ggplot2’ was built under R version 3.4.3 \n",
      "[INFO]\tFri Aug 10, 15:28:54, 2018\tChecking flags\n",
      "[INFO]\tFri Aug 10, 15:28:54, 2018\tFilter DMRs.\n",
      "[INFO]\tFri Aug 10, 15:28:54, 2018\tWrote 513 DMRs with adj. p-value<0.1, a minimum absolute difference>=0.3, a minimum length [CpG]>=10 and a minimum length [nt]>=0\n",
      "[INFO]\tFri Aug 10, 15:28:54, 2018\tBedgraph file containing DMR difference: /mnt/stripe/bio/experiments/blueprint/data/metilene/bp.metilene.dmrs.bed.ge03_qval.0.1.bedgraph\n",
      "[INFO]\tFri Aug 10, 15:28:54, 2018\tPlot DMR statistics.\n",
      "During startup - Warning message:\n",
      "package ‘RevoUtils’ was built under R version 3.4.3 \n",
      "Warning message:\n",
      "package ‘ggplot2’ was built under R version 3.4.3 \n"
     ]
    }
   ],
   "source": [
    "%%bash -s $DIR_PATH\n",
    "\n",
    "DIR_PATH=$1\n",
    "cd $DIR_PATH/metilene\n",
    "\n",
    "echo \"DMRS count\"\n",
    "wc -l bp.metilene.dmrs.bed\n",
    "\n",
    "echo \"All dmrs:\"\n",
    "#cat dmrs.bed | sort -k1,1 -k2,3n | awk -v OFS='\\t' '{ print $1,$2,$3,$5 }'  > dmrs.bedgraph # /metilene_output.pl removes incorrect intervals also\n",
    "perl /mnt/stripe/tools/metilene_v0.2-7-glibc-2.12/metilene_output.pl -q bp.metilene.dmrs.bed -o bp.metilene.dmrs.bed -a methylcall.CpG.OD -b methylcall.CpG.YD -p 1.05 -d 0\n",
    "wc -l bp.metilene.dmrs.bed_qval.1.05.bedgraph\n",
    "\n",
    "echo \"Filtered dmrs: qvalue <= 0.05, change >= 0.1\"\n",
    "perl /mnt/stripe/tools/metilene_v0.2-7-glibc-2.12/metilene_output.pl -q bp.metilene.dmrs.bed -o bp.metilene.dmrs.bed -a methylcall.CpG.OD -b methylcall.CpG.YD -p 0.05 -d 0.1\n",
    "wc -l bp.metilene.dmrs.bed.qval.0.05.bedgraph\n",
    "\n",
    "perl /mnt/stripe/tools/metilene_v0.2-7-glibc-2.12/metilene_output.pl -q loci.bp.metilene.dmrs@h3k4me1_weak.bed -o loci.bp.metilene.dmrs@h3k4me1_weak.bed -a methylcall.CpG.OD -b methylcall.CpG.YD\n",
    "wc -l loci.bp.metilene.dmrs@h3k4me1_weak.bed\n",
    "\n",
    "perl /mnt/stripe/tools/metilene_v0.2-7-glibc-2.12/metilene_output.pl -q loci.bp.metilene.dmrs@h3k27me3_weak.bed -o loci.bp.metilene.dmrs@h3k27me3_weak.bed -a methylcall.CpG.OD -b methylcall.CpG.YD\n",
    "wc -l loci.bp.metilene.dmrs@h3k27me3_weak.bed\n",
    "\n",
    "echo \"Filtered dmrs: qvalue <= 0.05, change >= 0.3\"\n",
    "perl /mnt/stripe/tools/metilene_v0.2-7-glibc-2.12/metilene_output.pl -q bp.metilene.dmrs.bed -o bp.metilene.dmrs.bed.ge03 -a methylcall.CpG.OD -b methylcall.CpG.YD -p 0.05 -d 0.3\n",
    "wc -l bp.metilene.dmrs.bed.ge03_qval.0.05.bedgraph\n",
    "\n",
    "echo \"Filtered dmrs: qvalue <= 0.1, change >= 0.3\"\n",
    "perl /mnt/stripe/tools/metilene_v0.2-7-glibc-2.12/metilene_output.pl -q bp.metilene.dmrs.bed -o bp.metilene.dmrs.bed.ge03 -a methylcall.CpG.OD -b methylcall.CpG.YD -p 0.1 -d 0.3\n",
    "wc -l bp.metilene.dmrs.bed.ge03_qval.0.1.bedgraph"
   ]
  },
  {
   "cell_type": "code",
   "execution_count": 176,
   "metadata": {
    "ExecuteTime": {
     "end_time": "2018-08-10T12:29:05.469302Z",
     "start_time": "2018-08-10T12:29:05.464585Z"
    }
   },
   "outputs": [
    {
     "name": "stdout",
     "output_type": "stream",
     "text": [
      "Overwriting /mnt/stripe/bio/experiments/blueprint/data/metilene/split_dmrs.sh\n"
     ]
    }
   ],
   "source": [
    "%%writefile $DIR_PATH/metilene/split_dmrs.sh\n",
    "\n",
    "DMRS=$1\n",
    "\n",
    "echo \"DMRs count: \"$(wc -l $DMRS)\n",
    "echo \"\"\n",
    "\n",
    "echo \"DMRs preview:\"\n",
    "head -n 3 $DMRS\n",
    "echo \"\"\n",
    "\n",
    "awk '{ if ($4 > 0) print }' $DMRS > ${DMRS}.up.bed\n",
    "echo \"Done: ${DMRS}.up.bed\"\n",
    "awk '{ if ($4 < 0) print }' $DMRS > ${DMRS}.down.bed\n",
    "echo \"Done: ${DMRS}.down.bed\""
   ]
  },
  {
   "cell_type": "code",
   "execution_count": 177,
   "metadata": {
    "ExecuteTime": {
     "end_time": "2018-08-10T12:29:12.292089Z",
     "start_time": "2018-08-10T12:29:05.471745Z"
    }
   },
   "outputs": [
    {
     "name": "stdout",
     "output_type": "stream",
     "text": [
      "DMRs count: 20695 /mnt/stripe/bio/experiments/blueprint/data/metilene/bp.metilene.dmrs.bed_qval.1.05.bedgraph\n",
      "\n",
      "DMRs preview:\n",
      "chr1\t851743\t852099\t-0.143503\n",
      "chr1\t874609\t875416\t-0.111479\n",
      "chr1\t894908\t894970\t0.132253\n",
      "\n",
      "Done: /mnt/stripe/bio/experiments/blueprint/data/metilene/bp.metilene.dmrs.bed_qval.1.05.bedgraph.up.bed\n",
      "Done: /mnt/stripe/bio/experiments/blueprint/data/metilene/bp.metilene.dmrs.bed_qval.1.05.bedgraph.down.bed\n",
      "DMRs count: 949 /mnt/stripe/bio/experiments/blueprint/data/metilene/bp.metilene.dmrs.bed_qval.0.05.bedgraph\n",
      "\n",
      "DMRs preview:\n",
      "chr1\t949716\t950076\t0.264411\n",
      "chr1\t1374730\t1375319\t0.241328\n",
      "chr1\t2047174\t2047773\t0.185203\n",
      "\n",
      "Done: /mnt/stripe/bio/experiments/blueprint/data/metilene/bp.metilene.dmrs.bed_qval.0.05.bedgraph.up.bed\n",
      "Done: /mnt/stripe/bio/experiments/blueprint/data/metilene/bp.metilene.dmrs.bed_qval.0.05.bedgraph.down.bed\n",
      "DMRs count: 480 /mnt/stripe/bio/experiments/blueprint/data/metilene/bp.metilene.dmrs.bed.ge03_qval.0.05.bedgraph\n",
      "\n",
      "DMRs preview:\n",
      "chr1\t1229111\t1229534\t0.601156\n",
      "chr1\t1229537\t1240368\t0.350963\n",
      "chr1\t3166455\t3166872\t0.343334\n",
      "\n",
      "Done: /mnt/stripe/bio/experiments/blueprint/data/metilene/bp.metilene.dmrs.bed.ge03_qval.0.05.bedgraph.up.bed\n",
      "Done: /mnt/stripe/bio/experiments/blueprint/data/metilene/bp.metilene.dmrs.bed.ge03_qval.0.05.bedgraph.down.bed\n",
      "DMRs count: 513 /mnt/stripe/bio/experiments/blueprint/data/metilene/bp.metilene.dmrs.bed.ge03_qval.0.1.bedgraph\n",
      "\n",
      "DMRs preview:\n",
      "chr1\t1229111\t1229534\t0.601156\n",
      "chr1\t1229537\t1240368\t0.350963\n",
      "chr1\t3166455\t3166872\t0.343334\n",
      "\n",
      "Done: /mnt/stripe/bio/experiments/blueprint/data/metilene/bp.metilene.dmrs.bed.ge03_qval.0.1.bedgraph.up.bed\n",
      "Done: /mnt/stripe/bio/experiments/blueprint/data/metilene/bp.metilene.dmrs.bed.ge03_qval.0.1.bedgraph.down.bed\n"
     ]
    }
   ],
   "source": [
    "!chmod u+x $DIR_PATH/metilene/split_dmrs.sh\n",
    "!$DIR_PATH/metilene/split_dmrs.sh $DIR_PATH/metilene/bp.metilene.dmrs.bed_qval.1.05.bedgraph\n",
    "!$DIR_PATH/metilene/split_dmrs.sh $DIR_PATH/metilene/bp.metilene.dmrs.bed_qval.0.05.bedgraph\n",
    "!$DIR_PATH/metilene/split_dmrs.sh $DIR_PATH/metilene/bp.metilene.dmrs.bed.ge03_qval.0.05.bedgraph\n",
    "!$DIR_PATH/metilene/split_dmrs.sh $DIR_PATH/metilene/bp.metilene.dmrs.bed.ge03_qval.0.1.bedgraph"
   ]
  },
  {
   "cell_type": "markdown",
   "metadata": {},
   "source": [
    "### Compare with chromatine"
   ]
  },
  {
   "cell_type": "code",
   "execution_count": 180,
   "metadata": {
    "ExecuteTime": {
     "end_time": "2018-08-10T12:30:24.636153Z",
     "start_time": "2018-08-10T12:30:10.167703Z"
    }
   },
   "outputs": [
    {
     "name": "stdout",
     "output_type": "stream",
     "text": [
      "Regions: /mnt/stripe/bio/experiments/configs/Y20O20/loci_of_interest/median_consensus/H3K27ac_span_median_consensus.bed,/mnt/stripe/bio/experiments/configs/Y20O20/loci_of_interest/median_consensus/H3K27me3_span_median_consensus.bed,/mnt/stripe/bio/experiments/configs/Y20O20/loci_of_interest/median_consensus/H3K36me3_span_median_consensus.bed,/mnt/stripe/bio/experiments/configs/Y20O20/loci_of_interest/median_consensus/H3K4me1_span_median_consensus.bed,/mnt/stripe/bio/experiments/configs/Y20O20/loci_of_interest/median_consensus/H3K4me3_span_median_consensus.bed,/mnt/stripe/bio/experiments/configs/Y20O20/loci_of_interest/weak_consensus/H3K27ac_span_weak_consensus.bed,/mnt/stripe/bio/experiments/configs/Y20O20/loci_of_interest/weak_consensus/H3K27me3_span_weak_consensus.bed,/mnt/stripe/bio/experiments/configs/Y20O20/loci_of_interest/weak_consensus/H3K36me3_span_weak_consensus.bed,/mnt/stripe/bio/experiments/configs/Y20O20/loci_of_interest/weak_consensus/H3K4me1_span_weak_consensus.bed,/mnt/stripe/bio/experiments/configs/Y20O20/loci_of_interest/weak_consensus/H3K4me3_span_weak_consensus.bed\n",
      "DMRs BluePrint: /mnt/stripe/bio/experiments/blueprint/data/metilene/bp.metilene.dmrs.bed.ge03_qval.0.05.bedgraph,/mnt/stripe/bio/experiments/blueprint/data/metilene/bp.metilene.dmrs.bed.ge03_qval.0.05.bedgraph.down.bed,/mnt/stripe/bio/experiments/blueprint/data/metilene/bp.metilene.dmrs.bed.ge03_qval.0.05.bedgraph.up.bed,/mnt/stripe/bio/experiments/blueprint/data/metilene/bp.metilene.dmrs.bed.ge03_qval.0.1.bedgraph,/mnt/stripe/bio/experiments/blueprint/data/metilene/bp.metilene.dmrs.bed.ge03_qval.0.1.bedgraph.down.bed,/mnt/stripe/bio/experiments/blueprint/data/metilene/bp.metilene.dmrs.bed.ge03_qval.0.1.bedgraph.up.bed,/mnt/stripe/bio/experiments/blueprint/data/metilene/bp.metilene.dmrs.bed_qval.0.05.bedgraph,/mnt/stripe/bio/experiments/blueprint/data/metilene/bp.metilene.dmrs.bed_qval.0.05.bedgraph.down.bed,/mnt/stripe/bio/experiments/blueprint/data/metilene/bp.metilene.dmrs.bed_qval.0.05.bedgraph.up.bed,/mnt/stripe/bio/experiments/blueprint/data/metilene/bp.metilene.dmrs.bed_qval.1.05.bedgraph,/mnt/stripe/bio/experiments/blueprint/data/metilene/bp.metilene.dmrs.bed_qval.1.05.bedgraph.down.bed,/mnt/stripe/bio/experiments/blueprint/data/metilene/bp.metilene.dmrs.bed_qval.1.05.bedgraph.up.bed\n",
      "DMRs ABF: /mnt/stripe/bio/raw-data/aging/loci_of_interest/dmrs/all_covered_regions_50bp.bed,/mnt/stripe/bio/raw-data/aging/loci_of_interest/dmrs/cpg_minavcov10_complex_4outliers.narrow.adjusted.regions.bed,/mnt/stripe/bio/raw-data/aging/loci_of_interest/dmrs/dmrs_filtered_ncyto_ge3_abs_avgdiff_ge0.025.bed,/mnt/stripe/bio/raw-data/aging/loci_of_interest/dmrs/dmrs_filtered_ncyto_ge3_abs_avgdiff_ge0.025_down.bed,/mnt/stripe/bio/raw-data/aging/loci_of_interest/dmrs/dmrs_filtered_ncyto_ge3_abs_avgdiff_ge0.025_up.bed,/mnt/stripe/bio/raw-data/aging/loci_of_interest/dmrs/washu_german_rrbs_filtered_dmrs_all_10.hg19.bed\n",
      "Calculating metrics:  overlap.dmr@loci.df\n",
      "  [Saved] overlap.dmr@loci.df\n"
     ]
    }
   ],
   "source": [
    "%%bash -s $DIR_PATH\n",
    "DIR_PATH=$1\n",
    "\n",
    "WEAK_CONS=$(find /mnt/stripe/bio/experiments/configs/Y20O20/loci_of_interest/median_consensus/ -name \"H*_span_median_consensus.bed\")\n",
    "MEDIAN_CONS=$(find /mnt/stripe/bio/experiments/configs/Y20O20/loci_of_interest/weak_consensus/ -name \"H*_span_weak_consensus.bed\")\n",
    "#CHROM_HMM=$(find /mnt/stripe/bio/experiments/configs/Y20O20/loci_of_interest/cgi_chromhmm_encsr511wof -name \"*.bed\")\n",
    "CHROM_HMM=\"\"\n",
    "\n",
    "REGIONS=$(for F in $WEAK_CONS $MEDIAN_CONS $CHROM_HMM; do if [ ! -z $F ]; then echo -n \"$F,\"; fi; done)\n",
    "REGIONS=${REGIONS::-1}\n",
    "echo \"Regions: $REGIONS\"\n",
    "\n",
    "DMRS_BP=$(for F in $( find $DIR_PATH/metilene -maxdepth 1 -name \"bp.*dmrs*qval*bedgraph*\" | sort); do echo -n \"$F,\"; done)\n",
    "DMRS_BP=${DMRS_BP::-1}\n",
    "echo \"DMRs BluePrint: $DMRS_BP\"\n",
    "\n",
    "DMRS_ABF=$(for F in $(find /mnt/stripe/bio/raw-data/aging/loci_of_interest/dmrs -maxdepth 1 -name \"*.bed\" | sort); do echo -n \"$F,\"; done)\n",
    "DMRS_ABF=${DMRS_ABF::-1}\n",
    "echo \"DMRs ABF: $DMRS_ABF\"\n",
    "\n",
    "cd $DIR_PATH/metilene\n",
    "python $WASHU_ROOT/downstream/bed_metrics.py -a \"$DMRS_BP,$DMRS_ABF\" -b $REGIONS -o overlap.dmr@loci -p 20 --size 22 22"
   ]
  },
  {
   "cell_type": "code",
   "execution_count": 181,
   "metadata": {
    "ExecuteTime": {
     "end_time": "2018-08-10T12:30:39.166026Z",
     "start_time": "2018-08-10T12:30:24.638878Z"
    }
   },
   "outputs": [
    {
     "name": "stdout",
     "output_type": "stream",
     "text": [
      "DMRs BluePrint: /mnt/stripe/bio/experiments/blueprint/data/metilene/bp.metilene.dmrs.bed.ge03_qval.0.05.bedgraph,/mnt/stripe/bio/experiments/blueprint/data/metilene/bp.metilene.dmrs.bed.ge03_qval.0.05.bedgraph.down.bed,/mnt/stripe/bio/experiments/blueprint/data/metilene/bp.metilene.dmrs.bed.ge03_qval.0.05.bedgraph.up.bed,/mnt/stripe/bio/experiments/blueprint/data/metilene/bp.metilene.dmrs.bed.ge03_qval.0.1.bedgraph,/mnt/stripe/bio/experiments/blueprint/data/metilene/bp.metilene.dmrs.bed.ge03_qval.0.1.bedgraph.down.bed,/mnt/stripe/bio/experiments/blueprint/data/metilene/bp.metilene.dmrs.bed.ge03_qval.0.1.bedgraph.up.bed,/mnt/stripe/bio/experiments/blueprint/data/metilene/bp.metilene.dmrs.bed_qval.0.05.bedgraph,/mnt/stripe/bio/experiments/blueprint/data/metilene/bp.metilene.dmrs.bed_qval.0.05.bedgraph.down.bed,/mnt/stripe/bio/experiments/blueprint/data/metilene/bp.metilene.dmrs.bed_qval.0.05.bedgraph.up.bed,/mnt/stripe/bio/experiments/blueprint/data/metilene/bp.metilene.dmrs.bed_qval.1.05.bedgraph,/mnt/stripe/bio/experiments/blueprint/data/metilene/bp.metilene.dmrs.bed_qval.1.05.bedgraph.down.bed,/mnt/stripe/bio/experiments/blueprint/data/metilene/bp.metilene.dmrs.bed_qval.1.05.bedgraph.up.bed\n",
      "DMRs ABF: /mnt/stripe/bio/raw-data/aging/loci_of_interest/dmrs/all_covered_regions_50bp.bed,/mnt/stripe/bio/raw-data/aging/loci_of_interest/dmrs/cpg_minavcov10_complex_4outliers.narrow.adjusted.regions.bed,/mnt/stripe/bio/raw-data/aging/loci_of_interest/dmrs/dmrs_filtered_ncyto_ge3_abs_avgdiff_ge0.025.bed,/mnt/stripe/bio/raw-data/aging/loci_of_interest/dmrs/dmrs_filtered_ncyto_ge3_abs_avgdiff_ge0.025_down.bed,/mnt/stripe/bio/raw-data/aging/loci_of_interest/dmrs/dmrs_filtered_ncyto_ge3_abs_avgdiff_ge0.025_up.bed,/mnt/stripe/bio/raw-data/aging/loci_of_interest/dmrs/washu_german_rrbs_filtered_dmrs_all_10.hg19.bed\n",
      "Calculating metrics:  overlap.dmrs.blueprint@abf.df\n",
      "  [Saved] overlap.dmrs.blueprint@abf.df\n",
      "Calculating metrics:  overlap.dmrs.abf@blueprint.df\n",
      "  [Saved] overlap.dmrs.abf@blueprint.df\n"
     ]
    }
   ],
   "source": [
    "%%bash -s $DIR_PATH\n",
    "DIR_PATH=$1\n",
    "\n",
    "DMRS_BP=$(for F in $( find $DIR_PATH/metilene -maxdepth 1  -name \"bp.*dmrs*qval*bedgraph*\" | sort); do echo -n \"$F,\"; done)\n",
    "DMRS_BP=${DMRS_BP::-1}\n",
    "echo \"DMRs BluePrint: $DMRS_BP\"\n",
    "\n",
    "DMRS_ABF=$(for F in $(find /mnt/stripe/bio/raw-data/aging/loci_of_interest/dmrs -maxdepth 1 -name \"*.bed\" | sort); do echo -n \"$F,\"; done)\n",
    "DMRS_ABF=${DMRS_ABF::-1}\n",
    "echo \"DMRs ABF: $DMRS_ABF\"\n",
    "\n",
    "cd $DIR_PATH/metilene\n",
    "python $WASHU_ROOT/downstream/bed_metrics.py -a \"$DMRS_BP\" -b\"$DMRS_ABF\" -o overlap.dmrs.blueprint@abf -p 20 --size 22 22\n",
    "python $WASHU_ROOT/downstream/bed_metrics.py -b \"$DMRS_BP\" -a\"$DMRS_ABF\" -o overlap.dmrs.abf@blueprint -p 20 --size 22 22"
   ]
  },
  {
   "cell_type": "markdown",
   "metadata": {},
   "source": [
    "# Overlap"
   ]
  },
  {
   "cell_type": "markdown",
   "metadata": {},
   "source": [
    "## TODO: Overlap DMR BP vs ABF\n",
    "## TODO: Overlap DMRS (BP, ABF) vs Consensus\n",
    "## TODO: DMRS (BP, ABF) vs ChromHmm"
   ]
  },
  {
   "cell_type": "code",
   "execution_count": null,
   "metadata": {},
   "outputs": [],
   "source": []
  }
 ],
 "metadata": {
  "kernelspec": {
   "display_name": "Python 3",
   "language": "python",
   "name": "python3"
  },
  "language_info": {
   "codemirror_mode": {
    "name": "ipython",
    "version": 3
   },
   "file_extension": ".py",
   "mimetype": "text/x-python",
   "name": "python",
   "nbconvert_exporter": "python",
   "pygments_lexer": "ipython3",
   "version": "3.5.4"
  },
  "toc": {
   "nav_menu": {},
   "number_sections": true,
   "sideBar": true,
   "skip_h1_title": false,
   "toc_cell": false,
   "toc_position": {},
   "toc_section_display": "block",
   "toc_window_display": true
  }
 },
 "nbformat": 4,
 "nbformat_minor": 2
}
