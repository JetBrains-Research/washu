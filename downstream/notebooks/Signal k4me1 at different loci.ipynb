{
 "cells": [
  {
   "cell_type": "markdown",
   "metadata": {
    "toc": "true"
   },
   "source": [
    " # Table of Contents\n",
    "<div class=\"toc\" style=\"margin-top: 1em;\"><ul class=\"toc-item\" id=\"toc-level0\"><li><span><a href=\"http://franklin.labs.intellij.net:8888/notebooks/k4me1_peaks_signal_at_different_loci.ipynb#Code\" data-toc-modified-id=\"Code-1\">Code</a></span><ul class=\"toc-item\"><li><span><a href=\"http://franklin.labs.intellij.net:8888/notebooks/k4me1_peaks_signal_at_different_loci.ipynb#PCA\" data-toc-modified-id=\"PCA-1.1\">PCA</a></span></li><li><span><a href=\"http://franklin.labs.intellij.net:8888/notebooks/k4me1_peaks_signal_at_different_loci.ipynb#Stats\" data-toc-modified-id=\"Stats-1.2\">Stats</a></span></li><li><span><a href=\"http://franklin.labs.intellij.net:8888/notebooks/k4me1_peaks_signal_at_different_loci.ipynb#Mean-By-Donor\" data-toc-modified-id=\"Mean-By-Donor-1.3\">Mean By Donor</a></span></li><li><span><a href=\"http://franklin.labs.intellij.net:8888/notebooks/k4me1_peaks_signal_at_different_loci.ipynb#Mean-By-Locus\" data-toc-modified-id=\"Mean-By-Locus-1.4\">Mean By Locus</a></span></li><li><span><a href=\"http://franklin.labs.intellij.net:8888/notebooks/k4me1_peaks_signal_at_different_loci.ipynb#Fold-Change\" data-toc-modified-id=\"Fold-Change-1.5\">Fold Change</a></span></li><li><span><a href=\"http://franklin.labs.intellij.net:8888/notebooks/k4me1_peaks_signal_at_different_loci.ipynb#FRIP\" data-toc-modified-id=\"FRIP-1.6\">FRIP</a></span></li></ul></li><li><span><a href=\"http://franklin.labs.intellij.net:8888/notebooks/k4me1_peaks_signal_at_different_loci.ipynb#Prepare-data\" data-toc-modified-id=\"Prepare-data-2\">Prepare data</a></span></li><li><span><a href=\"http://franklin.labs.intellij.net:8888/notebooks/k4me1_peaks_signal_at_different_loci.ipynb#PU.1\" data-toc-modified-id=\"PU.1-3\">PU.1</a></span><ul class=\"toc-item\"><li><span><a href=\"http://franklin.labs.intellij.net:8888/notebooks/k4me1_peaks_signal_at_different_loci.ipynb#PCA\" data-toc-modified-id=\"PCA-3.1\">PCA</a></span></li><li><span><a href=\"http://franklin.labs.intellij.net:8888/notebooks/k4me1_peaks_signal_at_different_loci.ipynb#Regions-means-histogram\" data-toc-modified-id=\"Regions-means-histogram-3.2\">Regions means histogram</a></span></li><li><span><a href=\"http://franklin.labs.intellij.net:8888/notebooks/k4me1_peaks_signal_at_different_loci.ipynb#Stat-tests\" data-toc-modified-id=\"Stat-tests-3.3\">Stat tests</a></span></li><li><span><a href=\"http://franklin.labs.intellij.net:8888/notebooks/k4me1_peaks_signal_at_different_loci.ipynb#Mean-by-Locus\" data-toc-modified-id=\"Mean-by-Locus-3.4\">Mean by Locus</a></span></li><li><span><a href=\"http://franklin.labs.intellij.net:8888/notebooks/k4me1_peaks_signal_at_different_loci.ipynb#Fold-Change\" data-toc-modified-id=\"Fold-Change-3.5\">Fold Change</a></span></li><li><span><a href=\"http://franklin.labs.intellij.net:8888/notebooks/k4me1_peaks_signal_at_different_loci.ipynb#FRiP\" data-toc-modified-id=\"FRiP-3.6\">FRiP</a></span></li></ul></li><li><span><a href=\"http://franklin.labs.intellij.net:8888/notebooks/k4me1_peaks_signal_at_different_loci.ipynb#Conservative-regions\" data-toc-modified-id=\"Conservative-regions-4\">Conservative regions</a></span><ul class=\"toc-item\"><li><span><a href=\"http://franklin.labs.intellij.net:8888/notebooks/k4me1_peaks_signal_at_different_loci.ipynb#PCA\" data-toc-modified-id=\"PCA-4.1\">PCA</a></span></li><li><span><a href=\"http://franklin.labs.intellij.net:8888/notebooks/k4me1_peaks_signal_at_different_loci.ipynb#Regions-means-histogram\" data-toc-modified-id=\"Regions-means-histogram-4.2\">Regions means histogram</a></span></li><li><span><a href=\"http://franklin.labs.intellij.net:8888/notebooks/k4me1_peaks_signal_at_different_loci.ipynb#Stat-test\" data-toc-modified-id=\"Stat-test-4.3\">Stat test</a></span></li><li><span><a href=\"http://franklin.labs.intellij.net:8888/notebooks/k4me1_peaks_signal_at_different_loci.ipynb#Mean-By-Locus\" data-toc-modified-id=\"Mean-By-Locus-4.4\">Mean By Locus</a></span></li><li><span><a href=\"http://franklin.labs.intellij.net:8888/notebooks/k4me1_peaks_signal_at_different_loci.ipynb#Fold-Change\" data-toc-modified-id=\"Fold-Change-4.5\">Fold Change</a></span></li><li><span><a href=\"http://franklin.labs.intellij.net:8888/notebooks/k4me1_peaks_signal_at_different_loci.ipynb#FRiP\" data-toc-modified-id=\"FRiP-4.6\">FRiP</a></span></li></ul></li><li><span><a href=\"http://franklin.labs.intellij.net:8888/notebooks/k4me1_peaks_signal_at_different_loci.ipynb#CpG-Islands\" data-toc-modified-id=\"CpG-Islands-5\">CpG Islands</a></span><ul class=\"toc-item\"><li><span><a href=\"http://franklin.labs.intellij.net:8888/notebooks/k4me1_peaks_signal_at_different_loci.ipynb#PCA\" data-toc-modified-id=\"PCA-5.1\">PCA</a></span></li><li><span><a href=\"http://franklin.labs.intellij.net:8888/notebooks/k4me1_peaks_signal_at_different_loci.ipynb#Regions-means-histogram\" data-toc-modified-id=\"Regions-means-histogram-5.2\">Regions means histogram</a></span></li><li><span><a href=\"http://franklin.labs.intellij.net:8888/notebooks/k4me1_peaks_signal_at_different_loci.ipynb#Stat-test\" data-toc-modified-id=\"Stat-test-5.3\">Stat test</a></span></li><li><span><a href=\"http://franklin.labs.intellij.net:8888/notebooks/k4me1_peaks_signal_at_different_loci.ipynb#Mean-By-Locus\" data-toc-modified-id=\"Mean-By-Locus-5.4\">Mean By Locus</a></span></li><li><span><a href=\"http://franklin.labs.intellij.net:8888/notebooks/k4me1_peaks_signal_at_different_loci.ipynb#Fold-Change\" data-toc-modified-id=\"Fold-Change-5.5\">Fold Change</a></span></li><li><span><a href=\"http://franklin.labs.intellij.net:8888/notebooks/k4me1_peaks_signal_at_different_loci.ipynb#FRiP\" data-toc-modified-id=\"FRiP-5.6\">FRiP</a></span></li></ul></li><li><span><a href=\"http://franklin.labs.intellij.net:8888/notebooks/k4me1_peaks_signal_at_different_loci.ipynb#RRBS-DMRs\" data-toc-modified-id=\"RRBS-DMRs-6\">RRBS DMRs</a></span><ul class=\"toc-item\"><li><span><a href=\"http://franklin.labs.intellij.net:8888/notebooks/k4me1_peaks_signal_at_different_loci.ipynb#PCA\" data-toc-modified-id=\"PCA-6.1\">PCA</a></span></li><li><span><a href=\"http://franklin.labs.intellij.net:8888/notebooks/k4me1_peaks_signal_at_different_loci.ipynb#Regions-means-histogram\" data-toc-modified-id=\"Regions-means-histogram-6.2\">Regions means histogram</a></span></li><li><span><a href=\"http://franklin.labs.intellij.net:8888/notebooks/k4me1_peaks_signal_at_different_loci.ipynb#Stat-test\" data-toc-modified-id=\"Stat-test-6.3\">Stat test</a></span></li><li><span><a href=\"http://franklin.labs.intellij.net:8888/notebooks/k4me1_peaks_signal_at_different_loci.ipynb#Mean-By-Locus\" data-toc-modified-id=\"Mean-By-Locus-6.4\">Mean By Locus</a></span></li><li><span><a href=\"http://franklin.labs.intellij.net:8888/notebooks/k4me1_peaks_signal_at_different_loci.ipynb#Fold-Change\" data-toc-modified-id=\"Fold-Change-6.5\">Fold Change</a></span></li><li><span><a href=\"http://franklin.labs.intellij.net:8888/notebooks/k4me1_peaks_signal_at_different_loci.ipynb#FRiP\" data-toc-modified-id=\"FRiP-6.6\">FRiP</a></span></li></ul></li><li><span><a href=\"http://franklin.labs.intellij.net:8888/notebooks/k4me1_peaks_signal_at_different_loci.ipynb#CTCF\" data-toc-modified-id=\"CTCF-7\">CTCF</a></span><ul class=\"toc-item\"><li><span><a href=\"http://franklin.labs.intellij.net:8888/notebooks/k4me1_peaks_signal_at_different_loci.ipynb#PCA\" data-toc-modified-id=\"PCA-7.1\">PCA</a></span></li><li><span><a href=\"http://franklin.labs.intellij.net:8888/notebooks/k4me1_peaks_signal_at_different_loci.ipynb#Regions-means-histogram\" data-toc-modified-id=\"Regions-means-histogram-7.2\">Regions means histogram</a></span></li><li><span><a href=\"http://franklin.labs.intellij.net:8888/notebooks/k4me1_peaks_signal_at_different_loci.ipynb#Stat-test\" data-toc-modified-id=\"Stat-test-7.3\">Stat test</a></span></li><li><span><a href=\"http://franklin.labs.intellij.net:8888/notebooks/k4me1_peaks_signal_at_different_loci.ipynb#Mean-By-Locus\" data-toc-modified-id=\"Mean-By-Locus-7.4\">Mean By Locus</a></span></li><li><span><a href=\"http://franklin.labs.intellij.net:8888/notebooks/k4me1_peaks_signal_at_different_loci.ipynb#Fold-Change\" data-toc-modified-id=\"Fold-Change-7.5\">Fold Change</a></span></li><li><span><a href=\"http://franklin.labs.intellij.net:8888/notebooks/k4me1_peaks_signal_at_different_loci.ipynb#FRiP\" data-toc-modified-id=\"FRiP-7.6\">FRiP</a></span></li></ul></li><li><span><a href=\"http://franklin.labs.intellij.net:8888/notebooks/k4me1_peaks_signal_at_different_loci.ipynb#Random-Genome\" data-toc-modified-id=\"Random-Genome-8\">Random Genome</a></span><ul class=\"toc-item\"><li><span><a href=\"http://franklin.labs.intellij.net:8888/notebooks/k4me1_peaks_signal_at_different_loci.ipynb#PCA\" data-toc-modified-id=\"PCA-8.1\">PCA</a></span></li><li><span><a href=\"http://franklin.labs.intellij.net:8888/notebooks/k4me1_peaks_signal_at_different_loci.ipynb#Regions-means-histogram\" data-toc-modified-id=\"Regions-means-histogram-8.2\">Regions means histogram</a></span></li><li><span><a href=\"http://franklin.labs.intellij.net:8888/notebooks/k4me1_peaks_signal_at_different_loci.ipynb#Stat-test\" data-toc-modified-id=\"Stat-test-8.3\">Stat test</a></span></li><li><span><a href=\"http://franklin.labs.intellij.net:8888/notebooks/k4me1_peaks_signal_at_different_loci.ipynb#Mean-By-Locus\" data-toc-modified-id=\"Mean-By-Locus-8.4\">Mean By Locus</a></span></li><li><span><a href=\"http://franklin.labs.intellij.net:8888/notebooks/k4me1_peaks_signal_at_different_loci.ipynb#Fold-Change\" data-toc-modified-id=\"Fold-Change-8.5\">Fold Change</a></span></li><li><span><a href=\"http://franklin.labs.intellij.net:8888/notebooks/k4me1_peaks_signal_at_different_loci.ipynb#FRiP\" data-toc-modified-id=\"FRiP-8.6\">FRiP</a></span></li></ul></li><li><span><a href=\"http://franklin.labs.intellij.net:8888/notebooks/k4me1_peaks_signal_at_different_loci.ipynb#ChromHMM-stats\" data-toc-modified-id=\"ChromHMM-stats-9\">ChromHMM stats</a></span><ul class=\"toc-item\"><li><span><a href=\"http://franklin.labs.intellij.net:8888/notebooks/k4me1_peaks_signal_at_different_loci.ipynb#PCA\" data-toc-modified-id=\"PCA-9.1\">PCA</a></span></li><li><span><a href=\"http://franklin.labs.intellij.net:8888/notebooks/k4me1_peaks_signal_at_different_loci.ipynb#Regions-means-histogram\" data-toc-modified-id=\"Regions-means-histogram-9.2\">Regions means histogram</a></span></li><li><span><a href=\"http://franklin.labs.intellij.net:8888/notebooks/k4me1_peaks_signal_at_different_loci.ipynb#Stat-test\" data-toc-modified-id=\"Stat-test-9.3\">Stat test</a></span></li><li><span><a href=\"http://franklin.labs.intellij.net:8888/notebooks/k4me1_peaks_signal_at_different_loci.ipynb#Mean-By-Locus\" data-toc-modified-id=\"Mean-By-Locus-9.4\">Mean By Locus</a></span></li><li><span><a href=\"http://franklin.labs.intellij.net:8888/notebooks/k4me1_peaks_signal_at_different_loci.ipynb#Fold-Change\" data-toc-modified-id=\"Fold-Change-9.5\">Fold Change</a></span></li><li><span><a href=\"http://franklin.labs.intellij.net:8888/notebooks/k4me1_peaks_signal_at_different_loci.ipynb#FRiP\" data-toc-modified-id=\"FRiP-9.6\">FRiP</a></span></li></ul></li><li><span><a href=\"http://franklin.labs.intellij.net:8888/notebooks/k4me1_peaks_signal_at_different_loci.ipynb#Summary\" data-toc-modified-id=\"Summary-10\">Summary</a></span><ul class=\"toc-item\"><li><span><a href=\"http://franklin.labs.intellij.net:8888/notebooks/k4me1_peaks_signal_at_different_loci.ipynb#Fold-Change\" data-toc-modified-id=\"Fold-Change-10.1\">Fold Change</a></span></li><li><span><a href=\"http://franklin.labs.intellij.net:8888/notebooks/k4me1_peaks_signal_at_different_loci.ipynb#FRiP\" data-toc-modified-id=\"FRiP-10.2\">FRiP</a></span></li><li><span><a href=\"http://franklin.labs.intellij.net:8888/notebooks/k4me1_peaks_signal_at_different_loci.ipynb#Regions-means\" data-toc-modified-id=\"Regions-means-10.3\">Regions means</a></span></li></ul></li></ul></div>"
   ]
  },
  {
   "cell_type": "markdown",
   "metadata": {},
   "source": [
    "K4me1 20vs20 deduplicated signal @ different loci\n",
    "Data: https://docs.google.com/spreadsheets/d/1obCmL1-d-P56Isc120h2dCCD-fstJxiqHDsVuDrf4RA/edit?usp=sharing"
   ]
  },
  {
   "cell_type": "markdown",
   "metadata": {},
   "source": [
    "# Code"
   ]
  },
  {
   "cell_type": "code",
   "execution_count": null,
   "metadata": {
    "ExecuteTime": {
     "end_time": "2017-06-16T19:26:39.020816Z",
     "start_time": "2017-06-16T19:26:38.996842Z"
    }
   },
   "outputs": [],
   "source": [
    "%matplotlib inline\n",
    "%config InlineBackend.figure_format = 'retina'\n",
    "from IPython.core.display import display\n",
    "\n",
    "import matplotlib.pyplot as plt\n",
    "import seaborn as sns\n",
    "\n",
    "import pandas as pd\n",
    "import numpy as np\n",
    "\n",
    "from sklearn.decomposition import PCA\n",
    "from sklearn import preprocessing\n",
    "\n",
    "from scipy.stats import mannwhitneyu #alternative : None (deprecated), ‘less’, ‘two-sided’, or ‘greater’\n",
    "\n",
    "from statsmodels.sandbox.stats.multicomp import multipletests\n",
    "\n",
    "import re"
   ]
  },
  {
   "cell_type": "code",
   "execution_count": null,
   "metadata": {
    "ExecuteTime": {
     "end_time": "2017-06-16T22:06:57.731835Z",
     "start_time": "2017-06-16T22:06:57.708425Z"
    }
   },
   "outputs": [],
   "source": [
    "FRAGMENT_SIZE = 150\n",
    "# all\n",
    "SIGNAL_TYPES = [\"raw\", \"rpkm\", \"rpm\", \"rpm_peaks\", \"rpkm_peaks\"]\n",
    "# just short least, enough in many cases\n",
    "RPKM_TYPES = [\"rpkm\", \"rpkm_peaks\"] \n",
    "# Fold Change doesn't differentiate RPKM and RPM\n",
    "LOG_FOLD_SIGNAL_TYPES = [\"raw\", \"rpm\", \"rpm_peaks\"]\n",
    "# Shorter list for slow stats\n",
    "STATS_SIGNAL_TYPES = [\"rpkm_peaks\"]\n",
    "\n",
    "SIGNAL_PEAKS=\"/scratch/artyomov_lab_aging/Y20O20/chipseq/processed/k4me1/k4me1_20vs20_reseq_bams_peaks_union/YO_macs_broad_0.1.bed\"\n",
    "SIGNAL_PEAKS_REPORT = \"/scratch/artyomov_lab_aging/Y20O20/chipseq/processed/k4me1/k4me1_20vs20_reseq_bams_macs_broad_0.1/peaks_report.csv\"\n",
    "WORK_DIR = \"/scratch/artyomov_lab_aging/Y20O20/chipseq/processed/k4me1/k4me1_20vs20_reseq_bams_unique\"\n",
    "\n",
    "def build_cmdline(region_id2file):\n",
    "    loci_ids = []\n",
    "    for region_id, regions_file in region_id2file.items():\n",
    "        # By Coverage in loci\n",
    "        # Let's turn this OFF: according to RPM fold change looks more noisy, RPM_PEAKS/RPKM_PEAKS \n",
    "        # normalization fixed bias. So I'll leave it here only if somebody want to see this results in future\n",
    "        #loci_id = region_id\n",
    "        #loci_ids.append(loci_id)\n",
    "        #print(\"~/work/washu/scripts/peaks_signals.sh {} {} {} {}\\n\".format(\n",
    "        #    WORK_DIR, FRAGMENT_SIZE, regions_file, loci_id))\n",
    "\n",
    "        # By Coverage of peaks belonging to some loci:\n",
    "        loci_id = region_id\n",
    "        loci_ids.append(loci_id)\n",
    "        print(\"~/work/washu/scripts/peaks_signals_in_loci.sh {} {} {} {} {}\\n\".format(\n",
    "            WORK_DIR, FRAGMENT_SIZE, SIGNAL_PEAKS, regions_file, loci_id))    \n",
    "        \n",
    "    return loci_ids"
   ]
  },
  {
   "cell_type": "markdown",
   "metadata": {},
   "source": [
    "## PCA"
   ]
  },
  {
   "cell_type": "code",
   "execution_count": null,
   "metadata": {
    "ExecuteTime": {
     "end_time": "2017-06-16T19:29:20.421884Z",
     "start_time": "2017-06-16T19:29:20.344435Z"
    }
   },
   "outputs": [],
   "source": [
    "def signal_pca(signal, title, ax=None):\n",
    "    pca = PCA(n_components=2)\n",
    "    X = preprocessing.scale(signal)\n",
    "    X_r = pca.fit_transform(X)\n",
    "    \n",
    "    pc1_var, pc2_var = pca.explained_variance_ratio_\n",
    "    print(\"PCA components: \", X_r.shape)\n",
    "    xlabel = \"PC1 ({:.2%})\".format(pc1_var)\n",
    "    ylabel = \"PC2 ({:.2%})\".format(pc2_var)\n",
    "\n",
    "    ODS = signal.index.str.startswith('OD')\n",
    "    YDS = signal.index.str.startswith('YD')\n",
    "\n",
    "    is_separate_plot = ax is None\n",
    "    if is_separate_plot:\n",
    "        plt.figure(figsize=(7,7))\n",
    "        ax=plt.subplot()\n",
    "\n",
    "    \n",
    "    ax.scatter(X_r[YDS, 0], X_r[YDS, 1] , color='red', alpha=.8, label='YD')\n",
    "    ax.scatter(X_r[ODS, 0], X_r[ODS, 1] , color='blue', alpha=.8, label='OD')\n",
    "    \n",
    "    for i, label in enumerate(re.sub('_R1.*', '', l) for l in signal.index):\n",
    "        ax.annotate(label, xy=(X_r[i, 0], X_r[i, 1]), \n",
    "                     fontsize=9, xytext=(5, 0),\n",
    "                     textcoords='offset points' #ha='right', va='bottom'\n",
    "                    )\n",
    "\n",
    "    ax.set_title(title)\n",
    "    ax.set_xlabel(xlabel)\n",
    "    ax.set_ylabel(ylabel)\n",
    "    ax.legend(loc='best', shadow=False)\n",
    "\n",
    "    if is_separate_plot:\n",
    "        plt.show()\n",
    "\n",
    "\n",
    "    \n",
    "def signal_pca_for_type(signal_type, results_folder, loci_id, ax=None):\n",
    "    df = pd.read_csv(results_folder + loci_id + '_' + signal_type + '.tsv', sep=\"\\t\")\n",
    "    signal = df.drop(['chr', 'start', 'end', 'OD_input_unique', 'YD_input_unique'], axis=1).T\n",
    "    \n",
    "#     signal_pca(signal, signal_type.upper() + \"@\" + loci_id, ax)\n",
    "    signal_pca(signal.applymap(lambda x: np.log2(1+x)), 'Raw LOG', ax)\n",
    "\n",
    "    return signal   "
   ]
  },
  {
   "cell_type": "code",
   "execution_count": null,
   "metadata": {
    "ExecuteTime": {
     "end_time": "2017-06-16T19:26:40.547719Z",
     "start_time": "2017-06-16T19:26:40.535270Z"
    }
   },
   "outputs": [],
   "source": [
    "def batch_signal_pca_for_type(loci_ids, signal_types, work_dir):\n",
    "    for i, loci_id in enumerate(loci_ids, 1):\n",
    "        print(\"====================================\")\n",
    "        print(\"Processing [{}]: {}/{}\".format(loci_id, i, len(loci_ids)))\n",
    "        print(\"====================================\\n\")\n",
    "\n",
    "        results_folder=\"{}/coverages/{}/\".format(work_dir, loci_id)\n",
    "\n",
    "        plt.figure(figsize=(15, 10))\n",
    "        for i, s in enumerate(signal_types, 1):\n",
    "            signal_pca_for_type(s, results_folder, loci_id, ax = plt.subplot(2, 3, i))\n",
    "        plt.suptitle(loci_id)\n",
    "        plt.show()"
   ]
  },
  {
   "cell_type": "markdown",
   "metadata": {},
   "source": [
    "## Stats"
   ]
  },
  {
   "cell_type": "code",
   "execution_count": null,
   "metadata": {
    "ExecuteTime": {
     "end_time": "2017-06-16T19:26:41.092347Z",
     "start_time": "2017-06-16T19:26:40.994209Z"
    }
   },
   "outputs": [],
   "source": [
    "def signal_stats_for_type(signal_type, results_folder, loci_id, alpha=0.05):\n",
    "    print(\"------------------------------\\n\")\n",
    "    signal_path = results_folder + loci_id + '_' + signal_type + '.tsv'\n",
    "    print(signal_type.upper(), \"signal:\", signal_path, \"\\n\")\n",
    "\n",
    "    df = pd.read_csv(signal_path, sep=\"\\t\")\n",
    "    \n",
    "    ODS=[c for c in df.columns if re.match('OD\\\\d+.*', c)]\n",
    "    print('ODS {}\\n'.format(ODS))\n",
    "\n",
    "    YDS=[c for c in df.columns if re.match('YD\\\\d+.*', c) and not re.match('YD14.*', c)]\n",
    "    print('YDS {}\\n'.format(YDS))\n",
    "    \n",
    "    def test(X,Y):\n",
    "        try:\n",
    "            # Use only when the number of observation in each sample is > 20 \n",
    "            # and you have 2 independent samples of ranks. Mann-Whitney U is\n",
    "            # significant if the u-obtained is LESS THAN or equal to the critical value of U.\n",
    "            \n",
    "            # TODO: alternative: #None, 'less’, ‘two-sided’, or ‘greater’, correction=False?\n",
    "            return mannwhitneyu(X, Y).pvalue \n",
    "        \n",
    "            # scipy.stats.wilcoxon(correction=True) or false?\n",
    "            # scipy.stats.ks_2samp(a,b)\n",
    "            # scipy.stats.ranksums: continuous data\n",
    "            \n",
    "            #TODO: maybe remove intervals, where no data in any of samples?\n",
    "        except:\n",
    "            return 1.0\n",
    "        \n",
    "    \n",
    "    pvals = np.array([test(row[ODS], row[YDS]) for _,row in df.iterrows()])\n",
    "    not_fake_pvals = pvals[pvals != 1.0]\n",
    "    \n",
    "    print(\"Test cannot handle:\", pvals.shape[0] - not_fake_pvals.shape[0], \"intervals, let's ignore them\")\n",
    "    print(\"Benjamini/Hochberg FDR ({}) correction\".format(alpha))\n",
    "\n",
    "    res = multipletests(not_fake_pvals, alpha, \"fdr_bh\")\n",
    "    h0_rejects = res[0]\n",
    "    pvals_adj = res[1]\n",
    "    print(\"  After FDR rejects H0: #{} intervals\".format(sum(h0_rejects)))\n",
    "\n",
    "    plt.figure(figsize=(14, 7))\n",
    "    ax = plt.subplot(1,2,1)\n",
    "    ax.hist(pvals, bins=30)\n",
    "    ax.set_title(\"[{}@{}] P-values (no correction)\".format(signal_type.upper(), loci_id))\n",
    "\n",
    "    \n",
    "    ax = plt.subplot(1,2,2)\n",
    "    ax.hist(pvals_adj, bins=30)\n",
    "    ax.set_title(\"[{}@{}] P-values (adjusted)\".format(signal_type.upper(), loci_id))\n",
    "\n",
    "    plt.show()\n",
    "    \n",
    "    return (df, ODS, YDS, pvals, pvals_adj, h0_rejects)"
   ]
  },
  {
   "cell_type": "code",
   "execution_count": null,
   "metadata": {
    "ExecuteTime": {
     "end_time": "2017-06-16T19:26:41.305989Z",
     "start_time": "2017-06-16T19:26:41.283876Z"
    }
   },
   "outputs": [],
   "source": [
    "def batch_stats(loci_ids, signal_types, work_dir):\n",
    "    for i, loci_id in enumerate(loci_ids, 1):\n",
    "\n",
    "        print(\"====================================\")\n",
    "        print(\"Processing [{}]: {}/{}\".format(loci_id, i, len(loci_ids)))\n",
    "        print(\"====================================\\n\")\n",
    "\n",
    "        results_folder=\"{}/coverages/{}/\".format(work_dir, loci_id)\n",
    "\n",
    "        for s in signal_types:\n",
    "            df, ODS, YDS, pvals, *_ = signal_stats_for_type(s, results_folder, loci_id)\n",
    "\n",
    "            print('Min Pvalue: {}'.format(min(pvals)))\n",
    "            row = df.iloc[np.argmin(pvals)]\n",
    "            print('  {}:{}-{}'.format(row['chr'], row['start'], row['end']))\n",
    "            print('  ODS: {}'.format(row[ODS].values))\n",
    "            print('  YDS: {}'.format(row[YDS].values))\n",
    "            print('  ODS mean: {}'.format(np.mean(row[ODS].values)))\n",
    "            print('  YDS mean: {}'.format(np.mean(row[YDS].values)))\n",
    "            print('  log2FC OD/YD: {}'.format(np.log2(np.mean(row[ODS].values/np.mean(row[YDS].values)))))"
   ]
  },
  {
   "cell_type": "markdown",
   "metadata": {},
   "source": [
    "## Mean By Donor"
   ]
  },
  {
   "cell_type": "code",
   "execution_count": null,
   "metadata": {
    "ExecuteTime": {
     "end_time": "2017-06-16T19:26:42.231106Z",
     "start_time": "2017-06-16T19:26:42.178775Z"
    }
   },
   "outputs": [],
   "source": [
    "def merge_regions(signal_type, results_folder, loci_id, ax=None, title=None):\n",
    "    df = pd.read_csv(results_folder + loci_id + '_' + signal_type + '.tsv', sep=\"\\t\")\n",
    "    signal = df.drop(['chr', 'start', 'end', 'OD_input_unique', 'YD_input_unique'], axis=1).T\n",
    "\n",
    "    mean_signal_df = signal.mean(axis=1).to_frame(\"value\")\n",
    "    mean_signal_df[\"age\"] = \"old\"\n",
    "    mean_signal_df.loc[mean_signal_df.index.str.startswith(\"Y\"), \"age\"] = \"young\"\n",
    "    \n",
    "    is_separate_plot = ax is None\n",
    "    if is_separate_plot:\n",
    "        plt.figure(figsize=(7,7))\n",
    "        ax=plt.subplot()\n",
    "    \n",
    "    age_labels = list(reversed(sorted(list(set(mean_signal_df['age'])))))\n",
    "    sns.boxplot(x=\"age\", y=\"value\", data=mean_signal_df, palette=\"Set3\", linewidth=1.0, order=age_labels, ax=ax)\n",
    "    sns.swarmplot(x=\"age\", y=\"value\", data=mean_signal_df, color=\".25\", order=age_labels, ax=ax)\n",
    "\n",
    "    mean_signal_df.head()\n",
    "    for i, age_label in enumerate(age_labels):\n",
    "        age_data = mean_signal_df[mean_signal_df['age'] == age_label]\n",
    "        for j, label in enumerate(re.sub('_R1.*', '', l) for l in age_data.index):\n",
    "            ax.annotate(label, xy=(i, age_data.iloc[j,:]['value']), \n",
    "                        fontsize=9, xytext=(5, 0),\n",
    "                        color= \"red\" if age_label == \"young\" else \"blue\",\n",
    "                        textcoords='offset points')\n",
    "\n",
    "    ax.set_title(title or \"[{}@{}] Mean value across all intervals by donor\".format(signal_type.upper(), loci_id))\n",
    "    \n",
    "    if is_separate_plot:\n",
    "        plt.show()\n",
    "    \n",
    "    return mean_signal_df"
   ]
  },
  {
   "cell_type": "code",
   "execution_count": null,
   "metadata": {
    "ExecuteTime": {
     "end_time": "2017-06-16T19:26:42.456068Z",
     "start_time": "2017-06-16T19:26:42.442233Z"
    }
   },
   "outputs": [],
   "source": [
    "def batch_merge_regions(loci_ids, signal_types, work_dir):\n",
    "    for i, loci_id in enumerate(loci_ids, 1):\n",
    "\n",
    "        print(\"====================================\")\n",
    "        print(\"Processing [{}]: {}/{}\".format(loci_id, i, len(loci_ids)))\n",
    "        print(\"====================================\\n\")\n",
    "\n",
    "        results_folder=\"{}/coverages/{}/\".format(work_dir, loci_id)\n",
    "\n",
    "        plt.figure(figsize=(15, 10))\n",
    "        for i, s in enumerate(signal_types, 1):\n",
    "            title = \"[{}@{}]\".format(s.upper(), loci_id)\n",
    "            merge_regions(s, results_folder, loci_id, plt.subplot(2, 3, i), title)\n",
    "\n",
    "        plt.suptitle(\"{}: Mean value across all intervals by donor\".format(loci_id))\n",
    "        plt.show()"
   ]
  },
  {
   "cell_type": "markdown",
   "metadata": {},
   "source": [
    "## Mean By Locus"
   ]
  },
  {
   "cell_type": "code",
   "execution_count": null,
   "metadata": {
    "ExecuteTime": {
     "end_time": "2017-06-17T23:22:22.126528Z",
     "start_time": "2017-06-17T23:22:21.987047Z"
    }
   },
   "outputs": [],
   "source": [
    "def merge_donors(signal_type, results_folder, loci_id, ax=None, title=None, hist=False):\n",
    "    df = pd.read_csv(results_folder + loci_id + '_' + signal_type + '.tsv', sep=\"\\t\")\n",
    "    \n",
    "    ODS=[c for c in df.columns if re.match('OD\\\\d+.*', c)]\n",
    "    YDS=[c for c in df.columns if re.match('YD\\\\d+.*', c) and not re.match('YD14.*', c)]\n",
    "\n",
    "    ODS_mean_signal_df = df[ODS].mean(axis=1)\n",
    "    YDS_mean_signal_df = df[YDS].mean(axis=1)\n",
    "\n",
    "    is_separate_plot = ax is None\n",
    "    if is_separate_plot:\n",
    "        plt.figure(figsize=(7,7))\n",
    "        ax=plt.subplot()\n",
    "        \n",
    "    if hist:\n",
    "        ODS_mean_signal_df = np.log1p(ODS_mean_signal_df) / np.log(10)\n",
    "        YDS_mean_signal_df = np.log1p(YDS_mean_signal_df) / np.log(10)\n",
    "\n",
    "        ax.hist(ODS_mean_signal_df, color='blue', bins=100, alpha=0.3, label=\"ODS\")\n",
    "        ax.hist(YDS_mean_signal_df, color='red', bins=100, alpha=0.3, label=\"YDS\")\n",
    "        ax.legend()\n",
    "    else:\n",
    "        ax.scatter(ODS_mean_signal_df, YDS_mean_signal_df, alpha=.3, s=1)\n",
    "        ax.set_xlabel(\"Region mean signal by ODS\")\n",
    "        ax.set_ylabel(\"Region mean signal by YDS\")\n",
    "        # x = y\n",
    "        lims = [\n",
    "            np.min([ax.get_xlim(), ax.get_ylim()]),  # min of both axes\n",
    "            np.max([ax.get_xlim(), ax.get_ylim()]),  # max of both axes\n",
    "        ]\n",
    "        # now plot both limits against eachother\n",
    "        ax.plot(lims, lims, 'r-', alpha=0.75, zorder=0, lw=1, ls='dotted')\n",
    "        ax.set_aspect('equal')\n",
    "        ax.set_xlim(lims)\n",
    "        ax.set_ylim(lims)\n",
    "        \n",
    "    ax.set_title(title or \"{}@{}{}\".format(signal_type, loc_id, \": log10(1+x)\" if hist else \"\"))\n",
    "    \n",
    "    if is_separate_plot:\n",
    "        plt.show()\n",
    "    "
   ]
  },
  {
   "cell_type": "code",
   "execution_count": null,
   "metadata": {
    "ExecuteTime": {
     "end_time": "2017-06-16T19:26:43.809941Z",
     "start_time": "2017-06-16T19:26:43.795630Z"
    }
   },
   "outputs": [],
   "source": [
    "def batch_merge_donors(loci_ids, signal_types, work_dir, hist):\n",
    "    for i, loci_id in enumerate(loci_ids, 1):\n",
    "\n",
    "        print(\"====================================\")\n",
    "        print(\"Processing [{}]: {}/{}\".format(loci_id, i, len(loci_ids)))\n",
    "        print(\"====================================\\n\")\n",
    "\n",
    "        results_folder=\"{}/coverages/{}/\".format(work_dir, loci_id)\n",
    "\n",
    "        plt.figure(figsize=(15, 10))\n",
    "        for i, s in enumerate(signal_types, 1):\n",
    "            title = \"[{}@{}]\".format(s.upper(), loci_id)\n",
    "            merge_donors(s, results_folder, loci_id, plt.subplot(2, 3, i), title, hist)\n",
    "\n",
    "        plt.suptitle(\"{}: ODS vs YDS regions mean{}\".format(loci_id, \", log10(1+x)\" if hist else \"\"))\n",
    "        plt.show()"
   ]
  },
  {
   "cell_type": "code",
   "execution_count": null,
   "metadata": {
    "ExecuteTime": {
     "end_time": "2017-06-16T19:26:44.661264Z",
     "start_time": "2017-06-16T19:26:44.650499Z"
    }
   },
   "outputs": [],
   "source": [
    "def batch_merge_donors_by_signal(loci_ids, signal_type, work_dir, hist, titles = None):\n",
    "    k = int(np.ceil(np.sqrt(len(loci_ids))))\n",
    "    plt.figure(figsize=(k*4, k*4))\n",
    "    for i, loci_id in enumerate(loci_ids, 1):\n",
    "        results_folder = \"{}/coverages/{}/\".format(work_dir, loci_id)    \n",
    "\n",
    "        merge_donors(signal_type, results_folder, loci_id, plt.subplot(k,k,i), \n",
    "                     (titles or loci_ids)[i - 1], hist)\n",
    "        \n",
    "    plt.suptitle(\"[{}] ODS vs YDS regions mean{}\".format(signal_type, \", log10(1+x)\" if hist else \"\"))\n",
    "    plt.show()"
   ]
  },
  {
   "cell_type": "markdown",
   "metadata": {},
   "source": [
    "## Fold Change"
   ]
  },
  {
   "cell_type": "code",
   "execution_count": null,
   "metadata": {
    "ExecuteTime": {
     "end_time": "2017-06-16T19:32:29.446548Z",
     "start_time": "2017-06-16T19:32:29.397102Z"
    }
   },
   "outputs": [],
   "source": [
    "def fold_change(signal_type, results_folder, loci_id, ax=None, title=None):\n",
    "    df = pd.read_csv(results_folder + loci_id + '_' + signal_type + '.tsv', sep=\"\\t\")\n",
    "    df = df.drop(['chr', 'start', 'end', 'OD_input_unique', 'YD_input_unique'], axis=1).T\n",
    "        \n",
    "    ODS = df.loc[df.index.str.startswith('OD'), :]\n",
    "    YDS = df.loc[df.index.str.startswith('YD'), :]\n",
    "\n",
    "    is_separate_plot = ax is None\n",
    "    if is_separate_plot:\n",
    "        plt.figure(figsize=(7,7))\n",
    "        ax=plt.subplot()\n",
    "\n",
    "    OY_log2_fold = np.log2(np.divide(ODS.mean(axis=0), YDS.mean(axis=0)))\n",
    "    OY_log2_fold = OY_log2_fold[np.isfinite(OY_log2_fold)]\n",
    "\n",
    "    ax.hist(OY_log2_fold.values, bins=200)\n",
    "    ax.axvline(x=0, color='r')\n",
    "    ax.set_title(title or \"[{}@{}, mean] Fold Change: log2(O/Y)\".format(signal_type.upper(), loci_id))\n",
    "    \n",
    "    if is_separate_plot:\n",
    "        plt.show()\n",
    "        \n",
    "    OY_fold = np.power(2, OY_log2_fold)\n",
    "    bias_score = np.sum(OY_fold > 1) / np.sum(OY_fold < 1) \n",
    "    minf = np.min(OY_fold)\n",
    "    p5 = np.percentile(OY_fold, 5)\n",
    "    p50 = np.median(OY_fold)\n",
    "    p95 = np.percentile(OY_fold, 95)\n",
    "    maxf = np.max(OY_fold)\n",
    "    return bias_score, minf, p5, p50, p95, maxf"
   ]
  },
  {
   "cell_type": "code",
   "execution_count": null,
   "metadata": {
    "ExecuteTime": {
     "end_time": "2017-06-16T19:32:30.944240Z",
     "start_time": "2017-06-16T19:32:30.924436Z"
    }
   },
   "outputs": [],
   "source": [
    "def batch_fold_change(loci_ids, signal_types, work_dir):\n",
    "    stats = []\n",
    "    for i, loci_id in enumerate(loci_ids, 1):\n",
    "        print(\"====================================\")\n",
    "        print(\"Processing [{}]: {}/{}\".format(loci_id, i, len(loci_ids)))\n",
    "        print(\"====================================\\n\")\n",
    "\n",
    "        results_folder=\"{}/coverages/{}/\".format(work_dir, loci_id)\n",
    "\n",
    "        plt.figure(figsize=(15, 10))\n",
    "        for i, s in enumerate(signal_types, 1):\n",
    "            title = \"[{}@{}]\".format(s, loci_id)\n",
    "            res = fold_change(s, results_folder, loci_id, plt.subplot(2, 3, i), title)\n",
    "            stats.append((\"{}@{}\".format(s, loci_id), *res))\n",
    "\n",
    "        plt.suptitle(\"{}: log2(O/Y)\".format(loci_id))\n",
    "        plt.show()\n",
    "        \n",
    "    return pd.DataFrame(stats, columns=[\"title\", \"bias_score\", \"min\", \"p5\", \"median\", \"p95\", \"max\"])    "
   ]
  },
  {
   "cell_type": "code",
   "execution_count": null,
   "metadata": {
    "ExecuteTime": {
     "end_time": "2017-06-16T19:32:31.812218Z",
     "start_time": "2017-06-16T19:32:31.796417Z"
    }
   },
   "outputs": [],
   "source": [
    "def batch_fold_change_by_signal(loci_ids, signal_type, work_dir, titles = None):\n",
    "    stats = []\n",
    "    k = int(np.ceil(np.sqrt(len(loci_ids))))\n",
    "    plt.figure(figsize=(k*4, k*4))\n",
    "    for i, loci_id in enumerate(loci_ids, 1):\n",
    "        results_folder = \"{}/coverages/{}/\".format(work_dir, loci_id)    \n",
    "\n",
    "        res = fold_change(signal_type, results_folder, loci_id,\n",
    "                          ax=plt.subplot(k,k,i),\n",
    "                          title=(titles or loci_ids)[i - 1])\n",
    "        stats.append((\"{}@{}\".format(signal_type, loci_id), *res))\n",
    "        \n",
    "    plt.suptitle(\"[{}] Log2(O/Y)\".format(signal_type))\n",
    "    plt.show()\n",
    "    return pd.DataFrame(stats, columns=[\"title\", \"bias_score\", \"min\", \"p5\", \"median\", \"p95\", \"max\"])    "
   ]
  },
  {
   "cell_type": "markdown",
   "metadata": {},
   "source": [
    "## FRIP"
   ]
  },
  {
   "cell_type": "code",
   "execution_count": null,
   "metadata": {
    "ExecuteTime": {
     "end_time": "2017-06-16T19:26:48.622114Z",
     "start_time": "2017-06-16T19:26:48.545658Z"
    }
   },
   "outputs": [],
   "source": [
    "def signal_frip(loci_id, work_dir, ax=None, title=None, outliers=None):\n",
    "    raw_df_path = '{}/coverages/{}/'.format(work_dir, loci_id) + loci_id + '_raw.tsv'\n",
    "    raw_df = pd.read_csv(raw_df_path, sep=\"\\t\")\n",
    "    outliers = outliers or [ 'OD_input_unique', 'YD_input_unique'] #'YD14_R1_hg19_unique', 'OD7_R1_hg19_unique']\n",
    "    raw_df = raw_df.drop(['chr', 'start', 'end', *outliers], axis=1)\n",
    "    \n",
    "    sizes_df_path = '{}/tags_150/sizes.tsv'.format(work_dir)\n",
    "    sizes_df = pd.read_csv(sizes_df_path, sep=\"\\t\", header=None, index_col=\"name\", names=(\"name\", \"value\"))\n",
    "    \n",
    "    donors = raw_df.columns\n",
    "    \n",
    "    reads_in_signal = np.sum(raw_df, axis=0)\n",
    "\n",
    "    frip = (reads_in_signal / sizes_df.loc[donors, \"value\"]).to_frame(name=\"frip\")\n",
    "    plot_frip(frip, loci_id, ax, title)\n",
    "    \n",
    "    return frip\n",
    "    \n",
    "def plot_frip(frip_df, loci_id, ax=None, title=None):\n",
    "    frip_df[\"age\"] = \"old\"\n",
    "    frip_df.loc[frip_df.index.str.startswith(\"Y\"), \"age\"] = \"young\"\n",
    "     \n",
    "    is_separate_plot = ax is None\n",
    "    if is_separate_plot:\n",
    "        plt.figure(figsize=(7,7))\n",
    "        ax=plt.subplot()\n",
    "\n",
    "    age_labels = list(reversed(sorted(list(set(frip_df['age'])))))\n",
    "    sns.boxplot(x=\"age\", y=\"frip\", data=frip_df, palette=\"Set3\", linewidth=1.0, order=age_labels, ax=ax)\n",
    "    sns.swarmplot(x=\"age\", y=\"frip\", data=frip_df, color=\".25\", order=age_labels, ax=ax)\n",
    "\n",
    "    for i, age_label in enumerate(age_labels):\n",
    "        age_data = frip_df[frip_df['age'] == age_label]\n",
    "        for j, label in enumerate(re.sub('_R1.*', '', l) for l in age_data.index):\n",
    "            ax.annotate(label, xy=(i, age_data.iloc[j,:]['frip']), \n",
    "                        fontsize=9, xytext=(5, 0),\n",
    "                        color= \"red\" if age_label == \"young\" else \"blue\",\n",
    "                        textcoords='offset points')\n",
    "\n",
    "    ax.set_title(title or \"{}: Signal FRiP\".format(loci_id))\n",
    "\n",
    "    if is_separate_plot:\n",
    "        plt.show()"
   ]
  },
  {
   "cell_type": "code",
   "execution_count": null,
   "metadata": {
    "ExecuteTime": {
     "end_time": "2017-06-16T19:26:48.866781Z",
     "start_time": "2017-06-16T19:26:48.857733Z"
    }
   },
   "outputs": [],
   "source": [
    "def batch_signal_frip(loci_ids, work_dir, titles = None):\n",
    "    k = int(np.ceil(np.sqrt(len(loci_ids))))\n",
    "    plt.figure(figsize=(k*5, k*5))\n",
    "\n",
    "    for i, loci_id in enumerate(loci_ids, 1):\n",
    "        signal_frip(loci_id, work_dir, plt.subplot(k,k,i), (titles or loci_ids)[i - 1])\n",
    "        \n",
    "    plt.suptitle(\"Signal FRiP\")\n",
    "    plt.show()"
   ]
  },
  {
   "cell_type": "markdown",
   "metadata": {},
   "source": [
    "\n",
    "# Prepare data"
   ]
  },
  {
   "cell_type": "code",
   "execution_count": null,
   "metadata": {
    "ExecuteTime": {
     "end_time": "2017-07-01T14:04:30.207279Z",
     "start_time": "2017-07-01T14:04:16.503114Z"
    }
   },
   "outputs": [],
   "source": [
    "from sara import geoid2srxid # optional, collects SRX ids for GSM ids\n",
    "\n",
    "data_root_path = \"/scratch/rcherniatchik/geo\"\n",
    "\n",
    "data_table = pd.read_csv(data_root_path + \"/Aging CD14+ loci of interest.tsv\", sep=\"\\t\")\n",
    "# leave filtered only\n",
    "data_table = data_table[data_table[\"take\"] == '1']\n",
    "\n",
    "# take unprocessed data\n",
    "data_table = data_table[data_table[\"path\"] == '-']\n",
    "\n",
    "# take data with input\n",
    "data_table = data_table[data_table[\"input\"].str.startswith(\"GSM\")]\n",
    "\n",
    "# Download data:\n",
    "display(data_table)\n",
    "\n",
    "data_table_to_process = data_table.loc[:, (\"signal\", \"input\", \"description\")]\n",
    "data_table_to_process[\"folder\"] = [\"_\".join((r.loci, r.cell, r.signal)) for r in data_table.itertuples()]\n",
    "gsm_mask = np.multiply(data_table_to_process[\"signal\"].str.startswith(\"GSM\"), data_table_to_process[\"input\"].str.startswith(\"GSM\"))\n",
    "data_table_to_process = data_table_to_process[gsm_mask]\n",
    "\n",
    "# SRX ids for GSM ids:\n",
    "gsm_signals = data_table_to_process[\"signal\"].tolist()\n",
    "gsm_input = data_table_to_process[\"input\"].tolist()\n",
    "print(\"Fetching srx ids...\")\n",
    "gsm2srxid = ({gsmid: geoid2srxid.fetch_srx_ids(gsmid) for gsmid in set(gsm_input + gsm_signals)})\n",
    "data_table_to_process[\"signal_srx\"] = [\";\".join(gsm2srxid[gsmid]) for gsmid in gsm_signals]\n",
    "data_table_to_process[\"input_srx\"] = [\";\".join(gsm2srxid[gsmid]) for gsmid in gsm_input]\n",
    "\n",
    "data_table_to_process.to_csv(data_root_path + \"/tf_to_process.tsv\", sep=\"\\t\", index=False)\n",
    "display(data_table_to_process)"
   ]
  },
  {
   "cell_type": "code",
   "execution_count": null,
   "metadata": {
    "ExecuteTime": {
     "end_time": "2017-07-01T14:04:47.161175Z",
     "start_time": "2017-07-01T14:04:47.144101Z"
    }
   },
   "outputs": [],
   "source": [
    "# Download data:\n",
    "data_table = pd.read_csv(\"/scratch/rcherniatchik/geo/tf_to_process.tsv\", sep=\"\\t\").iloc[[0,1],:]\n",
    "display(data_table)\n",
    "\n",
    "gsm_signals = data_table[\"signal\"].tolist()\n",
    "gsm_input = data_table[\"input\"].tolist()\n",
    "gsm_to_process = sorted(list(set(gsm_input + gsm_signals)))\n",
    "gsm_to_process"
   ]
  },
  {
   "cell_type": "code",
   "execution_count": null,
   "metadata": {
    "ExecuteTime": {
     "end_time": "2017-07-03T10:00:33.092473Z",
     "start_time": "2017-07-03T10:00:33.067241Z"
    }
   },
   "outputs": [],
   "source": [
    "gsm2srx = {}\n",
    "for r in data_table.itertuples():\n",
    "    gsm2srx[r.input] = r.input_srx\n",
    "    gsm2srx[r.signal] = r.signal_srx\n",
    "gsm_to_process = sorted(gsm2srx.keys())\n",
    "\n",
    "for gsmid in gsm_to_process:\n",
    "    srxid = gsm2srx[gsmid]\n",
    "    print(gsmid, srxid, srxid[0:6])"
   ]
  },
  {
   "cell_type": "code",
   "execution_count": null,
   "metadata": {
    "ExecuteTime": {
     "end_time": "2017-07-01T14:11:41.092614Z",
     "start_time": "2017-07-01T14:11:41.085891Z"
    }
   },
   "outputs": [],
   "source": [
    "# Download data:\n",
    "# If we have GSM <-> SRX mappings, you can use wget or rsync:\n",
    "# * rsync -azvvit --partial-dir=.rsync-partial --human-readable --progress rsync://ftp.ncbi.nlm.nih.gov/sra/sra-instant/reads/ByExp/sra/SRX/SRX102/SRX1023790 GSM1681423/sra/SRX1023790\n",
    "# * wget -nH --cut-dirs=7 -r --no-parent -nv -P /scratch/rcherniatchik/geo/GSM1681423/sra ftp://ftp.ncbi.nlm.nih.gov/sra/sra-instant/reads/ByExp/sra/SRX/SRX102/SRX1023790\n",
    "\n",
    "# a) Download SRA data:\n",
    "for gsmid in gsm_to_process:\n",
    "    # TODO: GSMID -> SRXID -> rsync download\n",
    "    None\n",
    "\n",
    "# b) Let's use sara here for faster impl:\n",
    "print(\"Cmdline:\", \n",
    "      \"cd \" + data_root_path,\n",
    "      \"sara wget {}\".format(\" \".join(gsm_to_process)),\n",
    "      sep=\"\\n   \")"
   ]
  },
  {
   "cell_type": "code",
   "execution_count": null,
   "metadata": {},
   "outputs": [],
   "source": [
    "# Pipeline:\n",
    "# $python pipeline_tf.py -d /scratch/rcherniatchik/geo/tf_to_process.tsv -o /scratch/rcherniatchik/geo"
   ]
  },
  {
   "cell_type": "code",
   "execution_count": null,
   "metadata": {
    "ExecuteTime": {
     "end_time": "2017-06-29T19:40:59.822889Z",
     "start_time": "2017-06-29T19:40:59.804218Z"
    }
   },
   "outputs": [],
   "source": [
    "# Now we need convert files to fastq and move to $data_root_path/GSMxxxx folders\n",
    "\n",
    "for gsmid in gsm_to_process:\n",
    "    # here split files should be use only if needed, auto-detection is:\n",
    "    # * single if 4, paired if 8\n",
    "    #       $(fastq-dump --maxSpotId 1 --split-spot --stdout {} 2>/dev/null | wc -l)\n",
    "    print(\"Cmdline:\", \n",
    "      \"find {0}/{1}/sra -name '*.sra' | xargs fastq-dump --log-level err --dumpbase --gzip --outdir {0}/{1} --split-files --helicos\".format(data_root_path, gsmid),\n",
    "      sep=\"\\n   \")\n",
    "    # rename files to smth like $data_id_$gsmid_SRR2016720.fastq.gz\n",
    "    print()\n",
    "    \n",
    "    # or using sara:\n",
    "    data_id = \"????\" #PU.1_CD14\n",
    "    \n",
    "    print(\"Cmdline:\", \n",
    "          \"cd {}/{}\".format(data_root_path, data_id),\n",
    "          \"sara fastq --gsm {} {} --threads 1 --download-tool none\".format(gsmid)\n",
    "      sep=\"\\n   \")\n",
    "    print()\n",
    "    \n"
   ]
  },
  {
   "cell_type": "code",
   "execution_count": null,
   "metadata": {
    "ExecuteTime": {
     "end_time": "2017-06-29T14:28:13.019039Z",
     "start_time": "2017-06-29T14:28:13.003086Z"
    }
   },
   "outputs": [],
   "source": [
    "data_root_path = \"/scratch/rcherniatchik/geo\"\n",
    "\n",
    "# Cmdline alternatives:\n",
    "# * sara wget GSM1681423\n",
    "# * rsync -azvvit --partial-dir=.rsync-partial --human-readable --progress rsync://ftp.ncbi.nlm.nih.gov/sra/sra-instant/reads/ByExp/sra/SRX/SRX102/SRX1023790 GSM1681423/sra/SRX1023790\n",
    "# * wget -nH --cut-dirs=7 -r --no-parent -nv -P /scratch/rcherniatchik/geo/GSM1681423/sra ftp://ftp.ncbi.nlm.nih.gov/sra/sra-instant/reads/ByExp/sra/SRX/SRX102/SRX1023790\n",
    "\n",
    "processing_script = []\n",
    "processing_script.append(\"sara wget {}\".format(\" \".join(gsm_to_process)))\n",
    "processing_script.append(\"#conda install -c bioconda sra-tools\")\n",
    "processing_script.append(\"\")\n",
    "for gsmid in gsm_to_process:\n",
    "    #  --dumpbase - output in 'base space' even data in SOLiD color space format\n",
    "    out_dir = \"{}/fastq\".format(data_root_path)\n",
    "    processing_script.append(\"# rsync -azvvit --partial-dir=.rsync-partial --human-readable --progress rsync://ftp.ncbi.nlm.nih.gov/sra/sra-instant/reads/ByExp/sra/SRX/SRX102/SRX1023790 GSM1681423/sra/SRX/SRX102\")\n",
    "    \n",
    "    processing_script.append(\"cd {0}; sara fastq -g {0} PU.1_CD14_IFN_Marophages --max-sdl 0 --no-progress\".format(gsmid))\n",
    "    \n",
    "    # processing_script.append(\"find {}/{}/sra -name '*.sra' | xargs fastq-dump --log-level err --dumpbase --gzip --outdir {} --split-files --helicos\".format(data_root_path, gsmid, out_dir))\n",
    "    # string length: FOO=$(zcat SRR2016716_1.fastq.gz | head -n 2 | tail -n 1); echo ${#FOO}\n",
    "    processing_script.append(\"\")\n",
    "     \n",
    "print(\"\\n\".join(processing_script))"
   ]
  },
  {
   "cell_type": "code",
   "execution_count": null,
   "metadata": {},
   "outputs": [],
   "source": []
  },
  {
   "cell_type": "code",
   "execution_count": null,
   "metadata": {
    "ExecuteTime": {
     "end_time": "2017-06-28T12:08:10.123670Z",
     "start_time": "2017-06-28T12:08:10.100970Z"
    }
   },
   "outputs": [],
   "source": [
    "for r in data_table.itertuples():\n",
    "    signal_path = \"{}/{}/sra\".format(data_root_path, r.signal)\n",
    "    input_path = \"{}/{}/sra\".format(data_root_path, r.input)\n",
    "    id = \"{}_{}_{}\".format(r.loci, r.cell, r.signal)\n",
    "    print(r.description, \":\", signal_path, input_path, id)\n",
    "    \n",
    "    # \n",
    "    # macs2 <work_dir> <genome> <chrom.sizes> <suffix> <params>"
   ]
  },
  {
   "cell_type": "markdown",
   "metadata": {},
   "source": [
    "# PU.1"
   ]
  },
  {
   "cell_type": "code",
   "execution_count": null,
   "metadata": {
    "ExecuteTime": {
     "end_time": "2017-06-16T00:33:04.090279Z",
     "start_time": "2017-06-16T00:33:04.085957Z"
    }
   },
   "outputs": [],
   "source": [
    "loci_ids = build_cmdline({\n",
    "    \"PU1_K562_GSM1940197\": \"/scratch/artyomov_lab_aging/public_data/GEO/PU.1/hg19/K562.hg19.GSM1940197_K562_SAHA_PU1_ChIP_1_peaks.bed\",\n",
    "})    "
   ]
  },
  {
   "cell_type": "markdown",
   "metadata": {},
   "source": [
    "## PCA"
   ]
  },
  {
   "cell_type": "code",
   "execution_count": null,
   "metadata": {
    "ExecuteTime": {
     "end_time": "2017-06-16T00:37:05.615842Z",
     "start_time": "2017-06-16T00:37:04.379227Z"
    },
    "scrolled": true
   },
   "outputs": [],
   "source": [
    "batch_signal_pca_for_type(loci_ids, RPKM_TYPES, WORK_DIR)\n",
    "#batch_signal_pca_for_type(loci_ids, SIGNAL_TYPES, WORK_DIR)"
   ]
  },
  {
   "cell_type": "markdown",
   "metadata": {},
   "source": [
    "## Regions means histogram"
   ]
  },
  {
   "cell_type": "code",
   "execution_count": null,
   "metadata": {
    "ExecuteTime": {
     "end_time": "2017-06-16T00:38:42.673857Z",
     "start_time": "2017-06-16T00:38:41.571715Z"
    }
   },
   "outputs": [],
   "source": [
    "batch_merge_donors(loci_ids, RPKM_TYPES, WORK_DIR, False)\n",
    "# batch_merge_donors(loci_ids, SIGNAL_TYPES, WORK_DIR, False)"
   ]
  },
  {
   "cell_type": "code",
   "execution_count": null,
   "metadata": {
    "ExecuteTime": {
     "end_time": "2017-06-15T05:55:54.346051Z",
     "start_time": "2017-06-15T05:55:46.229159Z"
    },
    "scrolled": true
   },
   "outputs": [],
   "source": [
    "batch_merge_donors(loci_ids, SIGNAL_TYPES, WORK_DIR, True)"
   ]
  },
  {
   "cell_type": "markdown",
   "metadata": {},
   "source": [
    "## Stat tests"
   ]
  },
  {
   "cell_type": "code",
   "execution_count": null,
   "metadata": {
    "ExecuteTime": {
     "end_time": "2017-06-15T05:57:18.196168Z",
     "start_time": "2017-06-15T05:55:54.348327Z"
    },
    "scrolled": false
   },
   "outputs": [],
   "source": [
    "batch_stats(loci_ids, STATS_SIGNAL_TYPES, WORK_DIR)        "
   ]
  },
  {
   "cell_type": "markdown",
   "metadata": {},
   "source": [
    "## Mean by Locus"
   ]
  },
  {
   "cell_type": "code",
   "execution_count": null,
   "metadata": {
    "ExecuteTime": {
     "end_time": "2017-06-15T18:52:24.396545Z",
     "start_time": "2017-06-15T18:52:18.171219Z"
    }
   },
   "outputs": [],
   "source": [
    "batch_merge_regions(loci_ids, SIGNAL_TYPES, WORK_DIR)"
   ]
  },
  {
   "cell_type": "markdown",
   "metadata": {
    "ExecuteTime": {
     "end_time": "2017-06-13T17:34:52.041155Z",
     "start_time": "2017-06-13T17:34:52.036107Z"
    }
   },
   "source": [
    "## Fold Change\n",
    "\n",
    "Summary signal fold change"
   ]
  },
  {
   "cell_type": "code",
   "execution_count": null,
   "metadata": {
    "ExecuteTime": {
     "end_time": "2017-06-15T05:57:28.616909Z",
     "start_time": "2017-06-15T05:57:23.524933Z"
    }
   },
   "outputs": [],
   "source": [
    "batch_fold_change(loci_ids, LOG_FOLD_SIGNAL_TYPES, WORK_DIR)"
   ]
  },
  {
   "cell_type": "markdown",
   "metadata": {},
   "source": [
    "## FRiP"
   ]
  },
  {
   "cell_type": "code",
   "execution_count": null,
   "metadata": {
    "ExecuteTime": {
     "end_time": "2017-06-15T18:54:00.480537Z",
     "start_time": "2017-06-15T18:53:59.389494Z"
    }
   },
   "outputs": [],
   "source": [
    "batch_signal_frip(loci_ids, WORK_DIR)"
   ]
  },
  {
   "cell_type": "markdown",
   "metadata": {},
   "source": [
    "# Conservative regions"
   ]
  },
  {
   "cell_type": "code",
   "execution_count": null,
   "metadata": {
    "ExecuteTime": {
     "end_time": "2017-06-16T00:48:06.418106Z",
     "start_time": "2017-06-16T00:48:06.414247Z"
    }
   },
   "outputs": [],
   "source": [
    "loci_ids = build_cmdline({\n",
    "    \"UCNE_CONSERVATIVE\": \"/scratch/artyomov_lab_aging/public_data/UCNE/hg19_UCNE_coord.bed\",\n",
    "})"
   ]
  },
  {
   "cell_type": "markdown",
   "metadata": {},
   "source": [
    "## PCA"
   ]
  },
  {
   "cell_type": "code",
   "execution_count": null,
   "metadata": {
    "ExecuteTime": {
     "end_time": "2017-06-16T00:50:09.160951Z",
     "start_time": "2017-06-16T00:50:08.186106Z"
    },
    "scrolled": false
   },
   "outputs": [],
   "source": [
    "batch_signal_pca_for_type(loci_ids, RPKM_TYPES, WORK_DIR)\n",
    "# batch_signal_pca_for_type(loci_ids, SIGNAL_TYPES, WORK_DIR)"
   ]
  },
  {
   "cell_type": "markdown",
   "metadata": {},
   "source": [
    "## Regions means histogram"
   ]
  },
  {
   "cell_type": "code",
   "execution_count": null,
   "metadata": {
    "ExecuteTime": {
     "end_time": "2017-06-16T00:49:41.048618Z",
     "start_time": "2017-06-16T00:49:40.280563Z"
    }
   },
   "outputs": [],
   "source": [
    "batch_merge_donors(loci_ids, RPKM_TYPES, WORK_DIR, False)\n",
    "# batch_merge_donors(loci_ids, SIGNAL_TYPES, WORK_DIR, False)"
   ]
  },
  {
   "cell_type": "code",
   "execution_count": null,
   "metadata": {
    "ExecuteTime": {
     "end_time": "2017-06-16T00:49:44.415048Z",
     "start_time": "2017-06-16T00:49:41.050533Z"
    }
   },
   "outputs": [],
   "source": [
    "batch_merge_donors(loci_ids, SIGNAL_TYPES, WORK_DIR, True)"
   ]
  },
  {
   "cell_type": "markdown",
   "metadata": {},
   "source": [
    "## Stat test"
   ]
  },
  {
   "cell_type": "code",
   "execution_count": null,
   "metadata": {
    "ExecuteTime": {
     "end_time": "2017-06-15T05:58:00.140527Z",
     "start_time": "2017-06-15T05:57:43.061635Z"
    }
   },
   "outputs": [],
   "source": [
    "batch_stats(loci_ids, STATS_SIGNAL_TYPES, WORK_DIR)"
   ]
  },
  {
   "cell_type": "markdown",
   "metadata": {},
   "source": [
    "## Mean By Locus"
   ]
  },
  {
   "cell_type": "code",
   "execution_count": null,
   "metadata": {
    "ExecuteTime": {
     "end_time": "2017-06-16T00:48:14.672283Z",
     "start_time": "2017-06-16T00:48:12.381024Z"
    }
   },
   "outputs": [],
   "source": [
    "batch_merge_regions(loci_ids, SIGNAL_TYPES, WORK_DIR)"
   ]
  },
  {
   "cell_type": "markdown",
   "metadata": {},
   "source": [
    "## Fold Change"
   ]
  },
  {
   "cell_type": "code",
   "execution_count": null,
   "metadata": {
    "ExecuteTime": {
     "end_time": "2017-06-16T00:48:20.954775Z",
     "start_time": "2017-06-16T00:48:18.926684Z"
    }
   },
   "outputs": [],
   "source": [
    "batch_fold_change(loci_ids, LOG_FOLD_SIGNAL_TYPES, WORK_DIR)"
   ]
  },
  {
   "cell_type": "markdown",
   "metadata": {},
   "source": [
    "## FRiP"
   ]
  },
  {
   "cell_type": "code",
   "execution_count": null,
   "metadata": {
    "ExecuteTime": {
     "end_time": "2017-06-15T18:57:36.580308Z",
     "start_time": "2017-06-15T18:57:35.387938Z"
    }
   },
   "outputs": [],
   "source": [
    "batch_signal_frip(loci_ids, WORK_DIR)"
   ]
  },
  {
   "cell_type": "markdown",
   "metadata": {},
   "source": [
    "# CpG Islands"
   ]
  },
  {
   "cell_type": "code",
   "execution_count": null,
   "metadata": {
    "ExecuteTime": {
     "end_time": "2017-06-16T19:41:11.444592Z",
     "start_time": "2017-06-16T19:41:11.440449Z"
    }
   },
   "outputs": [],
   "source": [
    "loci_ids = build_cmdline({\n",
    "    \"UCSC_CGI\": \"/scratch/artyomov_lab_aging/public_data/UCSC/cpgIslandExt.hg19.bed\",\n",
    "})"
   ]
  },
  {
   "cell_type": "markdown",
   "metadata": {},
   "source": [
    "## PCA"
   ]
  },
  {
   "cell_type": "code",
   "execution_count": null,
   "metadata": {
    "ExecuteTime": {
     "end_time": "2017-06-15T05:58:15.775905Z",
     "start_time": "2017-06-15T05:58:08.098719Z"
    },
    "scrolled": false
   },
   "outputs": [],
   "source": [
    "batch_signal_pca_for_type(loci_ids, RPKM_TYPES, WORK_DIR)\n",
    "#batch_signal_pca_for_type(loci_ids, SIGNAL_TYPES, WORK_DIR)"
   ]
  },
  {
   "cell_type": "markdown",
   "metadata": {},
   "source": [
    "## Regions means histogram"
   ]
  },
  {
   "cell_type": "code",
   "execution_count": null,
   "metadata": {
    "ExecuteTime": {
     "end_time": "2017-06-15T05:58:22.148158Z",
     "start_time": "2017-06-15T05:58:15.777584Z"
    }
   },
   "outputs": [],
   "source": [
    "batch_merge_donors(loci_ids, RPKM_TYPES, WORK_DIR, False)\n",
    "# batch_merge_donors(loci_ids, SIGNAL_TYPES, WORK_DIR, False)"
   ]
  },
  {
   "cell_type": "code",
   "execution_count": null,
   "metadata": {
    "ExecuteTime": {
     "end_time": "2017-06-15T05:58:31.528529Z",
     "start_time": "2017-06-15T05:58:22.149983Z"
    }
   },
   "outputs": [],
   "source": [
    "batch_merge_donors(loci_ids, SIGNAL_TYPES, WORK_DIR, True)"
   ]
  },
  {
   "cell_type": "markdown",
   "metadata": {},
   "source": [
    "## Stat test"
   ]
  },
  {
   "cell_type": "code",
   "execution_count": null,
   "metadata": {
    "ExecuteTime": {
     "end_time": "2017-06-15T06:00:32.832133Z",
     "start_time": "2017-06-15T05:58:31.530624Z"
    },
    "scrolled": false
   },
   "outputs": [],
   "source": [
    "batch_stats(loci_ids, STATS_SIGNAL_TYPES, WORK_DIR)"
   ]
  },
  {
   "cell_type": "markdown",
   "metadata": {},
   "source": [
    "## Mean By Locus"
   ]
  },
  {
   "cell_type": "code",
   "execution_count": null,
   "metadata": {
    "ExecuteTime": {
     "end_time": "2017-06-15T06:00:38.355635Z",
     "start_time": "2017-06-15T06:00:32.833986Z"
    }
   },
   "outputs": [],
   "source": [
    "batch_merge_regions(loci_ids, SIGNAL_TYPES, WORK_DIR)"
   ]
  },
  {
   "cell_type": "markdown",
   "metadata": {},
   "source": [
    "## Fold Change"
   ]
  },
  {
   "cell_type": "code",
   "execution_count": null,
   "metadata": {
    "ExecuteTime": {
     "end_time": "2017-06-15T06:00:43.422007Z",
     "start_time": "2017-06-15T06:00:38.357513Z"
    }
   },
   "outputs": [],
   "source": [
    "batch_fold_change(loci_ids, LOG_FOLD_SIGNAL_TYPES, WORK_DIR)"
   ]
  },
  {
   "cell_type": "markdown",
   "metadata": {},
   "source": [
    "## FRiP"
   ]
  },
  {
   "cell_type": "code",
   "execution_count": null,
   "metadata": {
    "ExecuteTime": {
     "end_time": "2017-06-15T18:57:59.036331Z",
     "start_time": "2017-06-15T18:57:57.105292Z"
    },
    "scrolled": true
   },
   "outputs": [],
   "source": [
    "batch_signal_frip(loci_ids, WORK_DIR)"
   ]
  },
  {
   "cell_type": "markdown",
   "metadata": {},
   "source": [
    "# RRBS DMRs"
   ]
  },
  {
   "cell_type": "code",
   "execution_count": null,
   "metadata": {
    "ExecuteTime": {
     "end_time": "2017-06-16T00:19:30.617566Z",
     "start_time": "2017-06-16T00:19:30.613104Z"
    }
   },
   "outputs": [],
   "source": [
    "loci_ids = build_cmdline({\n",
    "    \"RRBS_AGING_DMRS\": \"/scratch/artyomov_lab_aging/public_data/WashU_hg19/german_rrbs_filtered_dmrs_all_10.bed\",\n",
    "})"
   ]
  },
  {
   "cell_type": "markdown",
   "metadata": {},
   "source": [
    "## PCA"
   ]
  },
  {
   "cell_type": "code",
   "execution_count": null,
   "metadata": {
    "ExecuteTime": {
     "end_time": "2017-06-15T06:00:47.076414Z",
     "start_time": "2017-06-15T06:00:43.437054Z"
    },
    "scrolled": false
   },
   "outputs": [],
   "source": [
    "batch_signal_pca_for_type(loci_ids, RPKM_TYPES, WORK_DIR)\n",
    "#batch_signal_pca_for_type(loci_ids, SIGNAL_TYPES, WORK_DIR)"
   ]
  },
  {
   "cell_type": "markdown",
   "metadata": {},
   "source": [
    "## Regions means histogram\n"
   ]
  },
  {
   "cell_type": "code",
   "execution_count": null,
   "metadata": {
    "ExecuteTime": {
     "end_time": "2017-06-15T06:00:49.703929Z",
     "start_time": "2017-06-15T06:00:47.078368Z"
    }
   },
   "outputs": [],
   "source": [
    "batch_merge_donors(loci_ids, RPKM_TYPES, WORK_DIR, False)\n",
    "# batch_merge_donors(loci_ids, SIGNAL_TYPES, WORK_DIR, False)"
   ]
  },
  {
   "cell_type": "code",
   "execution_count": null,
   "metadata": {
    "ExecuteTime": {
     "end_time": "2017-06-15T06:00:55.842471Z",
     "start_time": "2017-06-15T06:00:49.706003Z"
    }
   },
   "outputs": [],
   "source": [
    "batch_merge_donors(loci_ids, SIGNAL_TYPES, WORK_DIR, True)"
   ]
  },
  {
   "cell_type": "markdown",
   "metadata": {},
   "source": [
    "## Stat test"
   ]
  },
  {
   "cell_type": "code",
   "execution_count": null,
   "metadata": {
    "ExecuteTime": {
     "end_time": "2017-06-15T06:00:59.612637Z",
     "start_time": "2017-06-15T06:00:55.844371Z"
    }
   },
   "outputs": [],
   "source": [
    "batch_stats(loci_ids, STATS_SIGNAL_TYPES, WORK_DIR)"
   ]
  },
  {
   "cell_type": "markdown",
   "metadata": {},
   "source": [
    "## Mean By Locus"
   ]
  },
  {
   "cell_type": "code",
   "execution_count": null,
   "metadata": {
    "ExecuteTime": {
     "end_time": "2017-06-15T06:01:02.948985Z",
     "start_time": "2017-06-15T06:00:59.614347Z"
    }
   },
   "outputs": [],
   "source": [
    "batch_merge_regions(loci_ids, SIGNAL_TYPES, WORK_DIR)"
   ]
  },
  {
   "cell_type": "markdown",
   "metadata": {},
   "source": [
    "## Fold Change"
   ]
  },
  {
   "cell_type": "code",
   "execution_count": null,
   "metadata": {
    "ExecuteTime": {
     "end_time": "2017-06-15T06:01:06.820736Z",
     "start_time": "2017-06-15T06:01:02.950824Z"
    }
   },
   "outputs": [],
   "source": [
    "batch_fold_change(loci_ids, LOG_FOLD_SIGNAL_TYPES, WORK_DIR)"
   ]
  },
  {
   "cell_type": "markdown",
   "metadata": {},
   "source": [
    "## FRiP"
   ]
  },
  {
   "cell_type": "code",
   "execution_count": null,
   "metadata": {
    "ExecuteTime": {
     "end_time": "2017-06-15T18:58:27.438044Z",
     "start_time": "2017-06-15T18:58:26.063076Z"
    }
   },
   "outputs": [],
   "source": [
    "batch_signal_frip(loci_ids, WORK_DIR)"
   ]
  },
  {
   "cell_type": "markdown",
   "metadata": {},
   "source": [
    "# CTCF"
   ]
  },
  {
   "cell_type": "code",
   "execution_count": null,
   "metadata": {
    "ExecuteTime": {
     "end_time": "2017-06-16T00:19:51.793909Z",
     "start_time": "2017-06-16T00:19:51.789210Z"
    }
   },
   "outputs": [],
   "source": [
    "loci_ids = build_cmdline({\n",
    "    \"CTCF_CD14-ENCFF446PEN\": \"/scratch/artyomov_lab_aging/public_data/encode/CTCF/hg19/CD14-ENCSR000ATN/ENCFF446PEN.rep1-2.hg19.bed\",\n",
    "    \"CTCF_CD14-ENCFF437LHG_IDR\": \"/scratch/artyomov_lab_aging/public_data/encode/CTCF/hg19/CD14-ENCSR000ATN/ENCFF437LHG.rep1-2.hg19.idr-opt_thr.bed\"\n",
    "})"
   ]
  },
  {
   "cell_type": "markdown",
   "metadata": {},
   "source": [
    "## PCA"
   ]
  },
  {
   "cell_type": "code",
   "execution_count": null,
   "metadata": {
    "ExecuteTime": {
     "end_time": "2017-06-15T06:01:20.573322Z",
     "start_time": "2017-06-15T06:01:06.835701Z"
    }
   },
   "outputs": [],
   "source": [
    "batch_signal_pca_for_type(loci_ids, RPKM_TYPES, WORK_DIR)\n",
    "#batch_signal_pca_for_type(loci_ids, SIGNAL_TYPES, WORK_DIR)"
   ]
  },
  {
   "cell_type": "markdown",
   "metadata": {},
   "source": [
    "## Regions means histogram"
   ]
  },
  {
   "cell_type": "code",
   "execution_count": null,
   "metadata": {
    "ExecuteTime": {
     "end_time": "2017-06-15T06:01:32.299418Z",
     "start_time": "2017-06-15T06:01:20.575306Z"
    }
   },
   "outputs": [],
   "source": [
    "batch_merge_donors(loci_ids, RPKM_TYPES, WORK_DIR, False)\n",
    "# batch_merge_donors(loci_ids, SIGNAL_TYPES, WORK_DIR, False)"
   ]
  },
  {
   "cell_type": "code",
   "execution_count": null,
   "metadata": {
    "ExecuteTime": {
     "end_time": "2017-06-15T06:01:49.395926Z",
     "start_time": "2017-06-15T06:01:32.301321Z"
    },
    "scrolled": false
   },
   "outputs": [],
   "source": [
    "batch_merge_donors(loci_ids, SIGNAL_TYPES, WORK_DIR, True)"
   ]
  },
  {
   "cell_type": "markdown",
   "metadata": {},
   "source": [
    "## Stat test"
   ]
  },
  {
   "cell_type": "code",
   "execution_count": null,
   "metadata": {
    "ExecuteTime": {
     "end_time": "2017-06-15T06:05:39.407714Z",
     "start_time": "2017-06-15T06:01:49.397970Z"
    }
   },
   "outputs": [],
   "source": [
    "batch_stats(loci_ids, STATS_SIGNAL_TYPES, WORK_DIR)"
   ]
  },
  {
   "cell_type": "markdown",
   "metadata": {},
   "source": [
    "## Mean By Locus"
   ]
  },
  {
   "cell_type": "code",
   "execution_count": null,
   "metadata": {
    "ExecuteTime": {
     "end_time": "2017-06-15T06:05:50.636268Z",
     "start_time": "2017-06-15T06:05:39.409704Z"
    }
   },
   "outputs": [],
   "source": [
    "batch_merge_regions(loci_ids, SIGNAL_TYPES, WORK_DIR)"
   ]
  },
  {
   "cell_type": "markdown",
   "metadata": {},
   "source": [
    "## Fold Change"
   ]
  },
  {
   "cell_type": "code",
   "execution_count": null,
   "metadata": {
    "ExecuteTime": {
     "end_time": "2017-06-15T06:06:00.811943Z",
     "start_time": "2017-06-15T06:05:50.638187Z"
    },
    "scrolled": false
   },
   "outputs": [],
   "source": [
    "batch_fold_change(loci_ids, LOG_FOLD_SIGNAL_TYPES, WORK_DIR)"
   ]
  },
  {
   "cell_type": "markdown",
   "metadata": {},
   "source": [
    "## FRiP"
   ]
  },
  {
   "cell_type": "code",
   "execution_count": null,
   "metadata": {
    "ExecuteTime": {
     "end_time": "2017-06-15T18:59:02.090461Z",
     "start_time": "2017-06-15T18:58:59.984070Z"
    }
   },
   "outputs": [],
   "source": [
    "batch_signal_frip(loci_ids, WORK_DIR)"
   ]
  },
  {
   "cell_type": "markdown",
   "metadata": {},
   "source": [
    "# Random Genome"
   ]
  },
  {
   "cell_type": "code",
   "execution_count": null,
   "metadata": {
    "ExecuteTime": {
     "end_time": "2017-06-16T22:31:00.094873Z",
     "start_time": "2017-06-16T22:30:56.750314Z"
    }
   },
   "outputs": [],
   "source": [
    "import numpy.random as rnd\n",
    "import os\n",
    "\n",
    "region_id2file = {}\n",
    "\n",
    "rnd.seed(10)\n",
    "for regions_count in [18000, 80000]:\n",
    "    rnd_file_name = \"genome_rnd10_bin1000_{}\".format(regions_count)\n",
    "\n",
    "    chrom_sizes_df = pd.read_csv(\"/Volumes/BigData/bio/hg19/hg19.chrom.sizes\", sep=\"\\t\", names=(\"chr\", \"size\"))\n",
    "\n",
    "    chrom2sizes = {chr: size for _,(chr, size) in chrom_sizes_df.iterrows()}\n",
    "    autosomal_chrs = list(filter(lambda e: ('_' not in e) and (e.replace(\"chr\", \"\") not in (\"M\", \"X\", \"Y\")), chrom2sizes.keys()))\n",
    "\n",
    "    rnd_locs_path = \"/scratch/artyomov_lab_aging/public_data/{}.bed\".format(rnd_file_name)\n",
    "    if not os.path.exists(rnd_locs_path):\n",
    "        n = len(autosomal_chrs)\n",
    "        with open(rnd_locs_path, 'w') as f:\n",
    "            for i in range(regions_count):\n",
    "                chr = autosomal_chrs[rnd.randint(0, n)]\n",
    "                size = chrom2sizes[chr]\n",
    "                start = rnd.randint(0, size - 1000)\n",
    "                f.write(\"{}\\t{}\\t{}\\n\".format(chr, start, start + 1000))\n",
    "                \n",
    "    region_id2file[rnd_file_name.upper()] = rnd_locs_path\n",
    "\n",
    "loci_ids = build_cmdline(region_id2file) "
   ]
  },
  {
   "cell_type": "markdown",
   "metadata": {},
   "source": [
    "## PCA"
   ]
  },
  {
   "cell_type": "code",
   "execution_count": null,
   "metadata": {
    "ExecuteTime": {
     "end_time": "2017-06-16T19:43:02.760847Z",
     "start_time": "2017-06-16T19:42:44.579698Z"
    },
    "scrolled": false
   },
   "outputs": [],
   "source": [
    "# batch_signal_pca_for_type(loci_ids, RPKM_TYPES, WORK_DIR)\n",
    "batch_signal_pca_for_type(loci_ids, SIGNAL_TYPES, WORK_DIR)"
   ]
  },
  {
   "cell_type": "markdown",
   "metadata": {},
   "source": [
    "## Regions means histogram"
   ]
  },
  {
   "cell_type": "code",
   "execution_count": null,
   "metadata": {
    "ExecuteTime": {
     "end_time": "2017-06-16T19:43:50.934433Z",
     "start_time": "2017-06-16T19:43:48.184219Z"
    }
   },
   "outputs": [],
   "source": [
    "batch_merge_donors(loci_ids, RPKM_TYPES, WORK_DIR, False)\n",
    "# batch_merge_donors(loci_ids, SIGNAL_TYPES, WORK_DIR, False)"
   ]
  },
  {
   "cell_type": "code",
   "execution_count": null,
   "metadata": {
    "ExecuteTime": {
     "end_time": "2017-06-16T19:43:59.269456Z",
     "start_time": "2017-06-16T19:43:50.936065Z"
    },
    "scrolled": true
   },
   "outputs": [],
   "source": [
    "batch_merge_donors(loci_ids, SIGNAL_TYPES, WORK_DIR, True)"
   ]
  },
  {
   "cell_type": "markdown",
   "metadata": {},
   "source": [
    "## Stat test"
   ]
  },
  {
   "cell_type": "code",
   "execution_count": null,
   "metadata": {
    "ExecuteTime": {
     "end_time": "2017-06-15T06:11:33.934381Z",
     "start_time": "2017-06-15T06:06:47.144336Z"
    },
    "scrolled": false
   },
   "outputs": [],
   "source": [
    "batch_stats(loci_ids, STATS_SIGNAL_TYPES, WORK_DIR)"
   ]
  },
  {
   "cell_type": "markdown",
   "metadata": {},
   "source": [
    "## Mean By Locus"
   ]
  },
  {
   "cell_type": "code",
   "execution_count": null,
   "metadata": {
    "ExecuteTime": {
     "end_time": "2017-06-16T19:44:10.148425Z",
     "start_time": "2017-06-16T19:44:05.430521Z"
    },
    "scrolled": false
   },
   "outputs": [],
   "source": [
    "batch_merge_regions(loci_ids, SIGNAL_TYPES, WORK_DIR)"
   ]
  },
  {
   "cell_type": "markdown",
   "metadata": {},
   "source": [
    "## Fold Change"
   ]
  },
  {
   "cell_type": "code",
   "execution_count": null,
   "metadata": {
    "ExecuteTime": {
     "end_time": "2017-06-16T19:44:21.054938Z",
     "start_time": "2017-06-16T19:44:16.725573Z"
    },
    "scrolled": false
   },
   "outputs": [],
   "source": [
    "batch_fold_change(loci_ids, LOG_FOLD_SIGNAL_TYPES, WORK_DIR)"
   ]
  },
  {
   "cell_type": "markdown",
   "metadata": {},
   "source": [
    "## FRiP"
   ]
  },
  {
   "cell_type": "code",
   "execution_count": null,
   "metadata": {
    "ExecuteTime": {
     "end_time": "2017-06-15T18:59:24.954003Z",
     "start_time": "2017-06-15T18:59:23.102505Z"
    }
   },
   "outputs": [],
   "source": [
    "batch_signal_frip(loci_ids, WORK_DIR)"
   ]
  },
  {
   "cell_type": "markdown",
   "metadata": {},
   "source": [
    "# ChromHMM stats"
   ]
  },
  {
   "cell_type": "code",
   "execution_count": null,
   "metadata": {
    "ExecuteTime": {
     "end_time": "2017-06-16T22:07:12.315941Z",
     "start_time": "2017-06-16T22:07:12.298703Z"
    }
   },
   "outputs": [],
   "source": [
    "chromhmm_st_files = ['cd14_chromhmm.hg19.10_EnhA2.bed','cd14_chromhmm.hg19.11_EnhWk.bed','cd14_chromhmm.hg19.12_ZNF_Rpts.bed','cd14_chromhmm.hg19.13_Het.bed','cd14_chromhmm.hg19.14_TssBiv.bed','cd14_chromhmm.hg19.15_EnhBiv.bed','cd14_chromhmm.hg19.16_ReprPC.bed','cd14_chromhmm.hg19.17_ReprPCWk.bed','cd14_chromhmm.hg19.18_Quies.bed','cd14_chromhmm.hg19.1_TssA.bed','cd14_chromhmm.hg19.2_TssFlnk.bed','cd14_chromhmm.hg19.3_TssFlnkU.bed','cd14_chromhmm.hg19.4_TssFlnkD.bed','cd14_chromhmm.hg19.5_Tx.bed','cd14_chromhmm.hg19.6_TxWk.bed','cd14_chromhmm.hg19.7_EnhG1.bed','cd14_chromhmm.hg19.8_EnhG2.bed','cd14_chromhmm.hg19.9_EnhA1.bed']\n",
    "chromhmm_id2name = {\"CD14_CHROMHMM_\" + f.split(\".\")[2].upper(): f for f in chromhmm_st_files}\n",
    "\n",
    "chromhmm_ids = list(chromhmm_id2name.keys())\n",
    "chromhmm_ids_order = np.argsort([int(l.split('_')[2]) for l in chromhmm_ids])\n",
    "chromhmm_ids = np.array(chromhmm_ids)[chromhmm_ids_order].tolist()\n",
    "\n",
    "loci_ids = build_cmdline({st: \"/scratch/artyomov_lab_aging/public_data/\" + chromhmm_id2name[st] for st in chromhmm_ids})"
   ]
  },
  {
   "cell_type": "code",
   "execution_count": null,
   "metadata": {
    "ExecuteTime": {
     "end_time": "2017-06-15T06:11:57.602707Z",
     "start_time": "2017-06-15T06:11:57.599075Z"
    }
   },
   "outputs": [],
   "source": [
    "loci_ids = chromhmm_ids"
   ]
  },
  {
   "cell_type": "markdown",
   "metadata": {
    "ExecuteTime": {
     "end_time": "2017-06-14T00:44:51.131046Z",
     "start_time": "2017-06-14T00:44:51.127948Z"
    }
   },
   "source": [
    "## PCA"
   ]
  },
  {
   "cell_type": "code",
   "execution_count": null,
   "metadata": {
    "ExecuteTime": {
     "end_time": "2017-06-15T06:13:12.689761Z",
     "start_time": "2017-06-15T06:11:57.604641Z"
    },
    "scrolled": true
   },
   "outputs": [],
   "source": [
    "batch_signal_pca_for_type(loci_ids, RPKM_TYPES, WORK_DIR)\n",
    "#batch_signal_pca_for_type(loci_ids, SIGNAL_TYPES, WORK_DIR)"
   ]
  },
  {
   "cell_type": "markdown",
   "metadata": {},
   "source": [
    "## Regions means histogram"
   ]
  },
  {
   "cell_type": "code",
   "execution_count": null,
   "metadata": {
    "ExecuteTime": {
     "end_time": "2017-06-15T06:14:28.012187Z",
     "start_time": "2017-06-15T06:13:12.691759Z"
    }
   },
   "outputs": [],
   "source": [
    "batch_merge_donors(loci_ids, RPKM_TYPES, WORK_DIR, False)\n",
    "# batch_merge_donors(loci_ids, SIGNAL_TYPES, WORK_DIR, False)"
   ]
  },
  {
   "cell_type": "code",
   "execution_count": null,
   "metadata": {
    "ExecuteTime": {
     "end_time": "2017-06-15T06:16:04.940955Z",
     "start_time": "2017-06-15T06:14:28.014016Z"
    }
   },
   "outputs": [],
   "source": [
    "batch_merge_donors(loci_ids, SIGNAL_TYPES, WORK_DIR, True)"
   ]
  },
  {
   "cell_type": "markdown",
   "metadata": {},
   "source": [
    "## Stat test"
   ]
  },
  {
   "cell_type": "code",
   "execution_count": null,
   "metadata": {
    "ExecuteTime": {
     "end_time": "2017-06-15T06:40:27.132854Z",
     "start_time": "2017-06-15T06:16:04.942903Z"
    }
   },
   "outputs": [],
   "source": [
    "batch_stats(loci_ids, STATS_SIGNAL_TYPES, WORK_DIR)"
   ]
  },
  {
   "cell_type": "markdown",
   "metadata": {},
   "source": [
    "## Mean By Locus"
   ]
  },
  {
   "cell_type": "code",
   "execution_count": null,
   "metadata": {
    "ExecuteTime": {
     "end_time": "2017-06-15T06:41:36.699647Z",
     "start_time": "2017-06-15T06:40:27.134724Z"
    }
   },
   "outputs": [],
   "source": [
    "#batch_merge_regions(chromhmm_ids, SIGNAL_TYPES, WORK_DIR)\n",
    "batch_merge_regions(loci_ids, SIGNAL_TYPES, WORK_DIR)"
   ]
  },
  {
   "cell_type": "markdown",
   "metadata": {},
   "source": [
    "## Fold Change"
   ]
  },
  {
   "cell_type": "code",
   "execution_count": null,
   "metadata": {
    "ExecuteTime": {
     "end_time": "2017-06-15T06:42:33.407978Z",
     "start_time": "2017-06-15T06:41:36.701699Z"
    },
    "scrolled": true
   },
   "outputs": [],
   "source": [
    "batch_fold_change(chromhmm_ids, LOG_FOLD_SIGNAL_TYPES, WORK_DIR)\n",
    "#batch_fold_change(loci_ids, SIGNAL_TYPES, WORK_DIR)"
   ]
  },
  {
   "cell_type": "code",
   "execution_count": null,
   "metadata": {
    "ExecuteTime": {
     "end_time": "2017-06-16T00:00:16.063419Z",
     "start_time": "2017-06-15T23:59:59.649848Z"
    }
   },
   "outputs": [],
   "source": [
    "batch_fold_change_by_signal([\"PEAKS_\" + l for l in chromhmm_ids],\n",
    "                  \"rpm_peaks\", WORK_DIR, \n",
    "                  [t.replace(\"PEAKS_CD14_CHROMHMM_\", \"\") for t in loci_ids])"
   ]
  },
  {
   "cell_type": "code",
   "execution_count": null,
   "metadata": {
    "ExecuteTime": {
     "end_time": "2017-06-16T00:01:20.707448Z",
     "start_time": "2017-06-16T00:01:03.973615Z"
    }
   },
   "outputs": [],
   "source": [
    "batch_fold_change_by_signal([\"PEAKS_\" + l for l in chromhmm_ids],\n",
    "                  \"rpm\", WORK_DIR, \n",
    "                  [t.replace(\"PEAKS_CD14_CHROMHMM_\", \"\") for t in loci_ids])"
   ]
  },
  {
   "cell_type": "code",
   "execution_count": null,
   "metadata": {},
   "outputs": [],
   "source": [
    "batch_fold_change_by_signal([\"PEAKS_\" + l for l in chromhmm_ids],\n",
    "                  \"raw\", WORK_DIR, \n",
    "                  [t.replace(\"PEAKS_CD14_CHROMHMM_\", \"\") for t in loci_ids])"
   ]
  },
  {
   "cell_type": "markdown",
   "metadata": {},
   "source": [
    "## FRiP"
   ]
  },
  {
   "cell_type": "code",
   "execution_count": null,
   "metadata": {
    "ExecuteTime": {
     "end_time": "2017-06-16T00:02:13.152098Z",
     "start_time": "2017-06-16T00:02:03.658989Z"
    }
   },
   "outputs": [],
   "source": [
    "batch_signal_frip([\"PEAKS_\" + l for l in chromhmm_ids], WORK_DIR, \n",
    "                  [t.replace(\"PEAKS_CD14_CHROMHMM_\", \"\") for t in loci_ids])"
   ]
  },
  {
   "cell_type": "markdown",
   "metadata": {},
   "source": [
    "# Summary\n",
    "\n",
    "* No significant changes in H3K4me1 vs CTCF, PU.1, RRBS aging DMRs, CGI, Conservative vertebates, ChromHMM stats, rand regions). Slight fold change shift: more \"OD < YD\" compared to \"OD > YD\" peaks\n",
    "\n",
    "* FRIP: On average FRiP(YDS) > FRiP(ODS) => more noise in ODS => normalization on lib size underestimates ODS coverage => ODS/YDS tends to be < 1 where ODS ~ YDS. Some additonal correction expected.\n",
    "\n",
    "* Metrics:\n",
    "    * RPKM peaks (RPM peaks) are good metrics, almost eliminates O/Y introduced by FRIP difference\n",
    "    * RPM, RPKM metrics are biased likely due to O/Y FRIP difference\n",
    "    \n",
    "* Fold change:\n",
    "    * In all loci types fold change is in [0.74, 1.16] 5%-95% interval\n",
    "    * In random regions: \n",
    "        * min=0.1, 5%=0.76, 50%=0.97, 95%=1.07, max=2.27\n",
    "        * \"#Peaks where in OD > YD\" ~ 0.5 * \"#Peaks where in OD < YD\n"
   ]
  },
  {
   "cell_type": "markdown",
   "metadata": {},
   "source": [
    "## Fold Change"
   ]
  },
  {
   "cell_type": "code",
   "execution_count": null,
   "metadata": {
    "ExecuteTime": {
     "end_time": "2017-06-15T19:23:07.333522Z",
     "start_time": "2017-06-15T19:23:07.328615Z"
    }
   },
   "outputs": [],
   "source": [
    "loci_ids = [\"CTCF_CD14-ENCFF437LHG_IDR\", \"CTCF_CD14-ENCFF446PEN\",\n",
    "            \"GENOME_RND10_BIN1000_18000\", \"GENOME_RND10_BIN1000_80000\",\n",
    "            \"PU1_K562_GSM1940197\", \"RRBS_AGING_DMRS\", \"UCNE_CONSERVATIVE\", \"UCSC_CGI\"] + chromhmm_ids\n",
    "loci_ids = [\"PEAKS_\" + l for l in loci_ids]\n",
    "titles =  [t.replace(\"CD14_CHROMHMM_\", \"\").replace(\"GENOME_\", \"\").replace(\"PEAKS_\", \"\") for t in loci_ids]"
   ]
  },
  {
   "cell_type": "code",
   "execution_count": null,
   "metadata": {
    "ExecuteTime": {
     "end_time": "2017-06-15T19:28:05.299989Z",
     "start_time": "2017-06-15T19:27:43.117998Z"
    },
    "scrolled": false
   },
   "outputs": [],
   "source": [
    "stats = batch_fold_change_by_signal(loci_ids, \"rpm_peaks\", WORK_DIR, titles)\n",
    "print(\"O/Y fold change diff:\")\n",
    "display(stats.describe().loc[(\"min\", \"max\"),:])\n",
    "display(stats)"
   ]
  },
  {
   "cell_type": "code",
   "execution_count": null,
   "metadata": {
    "ExecuteTime": {
     "end_time": "2017-06-15T19:26:48.162916Z",
     "start_time": "2017-06-15T19:26:25.995778Z"
    },
    "scrolled": false
   },
   "outputs": [],
   "source": [
    "stats = batch_fold_change(loci_ids, \"rpm\", WORK_DIR, titles)\n",
    "display(stats.describe().loc[(\"min\", \"max\"),:])\n",
    "display(stats)"
   ]
  },
  {
   "cell_type": "code",
   "execution_count": null,
   "metadata": {
    "ExecuteTime": {
     "end_time": "2017-06-15T19:27:08.197814Z",
     "start_time": "2017-06-15T19:26:48.164806Z"
    },
    "scrolled": false
   },
   "outputs": [],
   "source": [
    "stats = batch_fold_change(loci_ids, \"raw\", WORK_DIR, titles)\n",
    "display(stats.describe().loc[(\"min\", \"max\"),:])\n",
    "display(stats)"
   ]
  },
  {
   "cell_type": "markdown",
   "metadata": {},
   "source": [
    "## FRiP"
   ]
  },
  {
   "cell_type": "code",
   "execution_count": null,
   "metadata": {
    "ExecuteTime": {
     "end_time": "2017-06-15T20:39:28.355609Z",
     "start_time": "2017-06-15T20:39:26.835166Z"
    }
   },
   "outputs": [],
   "source": [
    "plot_frip(pd.read_csv(SIGNAL_PEAKS_REPORT, index_col=\"sample\"), \"macs_broad_0.1\")"
   ]
  },
  {
   "cell_type": "code",
   "execution_count": null,
   "metadata": {
    "ExecuteTime": {
     "end_time": "2017-06-16T00:03:26.916950Z",
     "start_time": "2017-06-16T00:03:26.914332Z"
    },
    "scrolled": false
   },
   "outputs": [],
   "source": [
    "# batch_signal_frip(loci_ids, WORK_DIR, titles)"
   ]
  },
  {
   "cell_type": "markdown",
   "metadata": {},
   "source": [
    "## Regions means"
   ]
  },
  {
   "cell_type": "code",
   "execution_count": null,
   "metadata": {
    "ExecuteTime": {
     "end_time": "2017-06-16T00:11:50.547759Z",
     "start_time": "2017-06-16T00:11:24.759617Z"
    }
   },
   "outputs": [],
   "source": [
    "batch_merge_donors_by_signal(loci_ids, \"rpkm\", WORK_DIR, False)"
   ]
  },
  {
   "cell_type": "code",
   "execution_count": null,
   "metadata": {
    "ExecuteTime": {
     "end_time": "2017-06-16T00:12:36.649571Z",
     "start_time": "2017-06-16T00:11:57.675664Z"
    }
   },
   "outputs": [],
   "source": [
    "batch_merge_donors_by_signal(loci_ids, \"rpkm\", WORK_DIR, True)"
   ]
  },
  {
   "cell_type": "code",
   "execution_count": null,
   "metadata": {},
   "outputs": [],
   "source": []
  }
 ],
 "metadata": {
  "kernelspec": {
   "display_name": "Python 3",
   "language": "python",
   "name": "python3"
  },
  "language_info": {
   "codemirror_mode": {
    "name": "ipython",
    "version": 3
   },
   "file_extension": ".py",
   "mimetype": "text/x-python",
   "name": "python",
   "nbconvert_exporter": "python",
   "pygments_lexer": "ipython3",
   "version": "3.5.4"
  },
  "toc": {
   "nav_menu": {
    "height": "512px",
    "width": "252px"
   },
   "number_sections": false,
   "sideBar": true,
   "skip_h1_title": false,
   "toc_cell": true,
   "toc_position": {
    "height": "782px",
    "left": "0px",
    "right": "1195px",
    "top": "106px",
    "width": "229px"
   },
   "toc_section_display": "block",
   "toc_window_display": true
  }
 },
 "nbformat": 4,
 "nbformat_minor": 2
}
