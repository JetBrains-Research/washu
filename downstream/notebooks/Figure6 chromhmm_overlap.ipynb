{
 "cells": [
  {
   "cell_type": "markdown",
   "metadata": {},
   "source": [
    "# Figure6 ChromHMM Overlap vs SPAN"
   ]
  },
  {
   "cell_type": "code",
   "execution_count": 26,
   "metadata": {
    "ExecuteTime": {
     "end_time": "2018-11-19T17:04:09.922056Z",
     "start_time": "2018-11-19T17:04:09.909475Z"
    }
   },
   "outputs": [],
   "source": [
    "import os\n",
    "\n",
    "import pandas as pd\n",
    "from pathlib import Path\n",
    "\n",
    "from IPython.display import display\n",
    "\n",
    "import downstream.bed_metrics as bm\n",
    "import downstream.loci_of_interest as loi\n",
    "\n",
    "import matplotlib\n",
    "%matplotlib inline\n",
    "import matplotlib.pyplot as plt\n",
    "\n",
    "from matplotlib.backends.backend_pdf import PdfPages\n",
    "\n",
    "N_THREADS = 8"
   ]
  },
  {
   "cell_type": "code",
   "execution_count": 27,
   "metadata": {
    "ExecuteTime": {
     "end_time": "2018-11-19T17:04:10.629141Z",
     "start_time": "2018-11-19T17:04:10.322953Z"
    }
   },
   "outputs": [
    {
     "name": "stdout",
     "output_type": "stream",
     "text": [
      "/mnt/stripe/washu\n",
      "/mnt/stripe/washu:/mnt/stripe/washu:\n"
     ]
    }
   ],
   "source": [
    "# Ensure project configured\n",
    "! echo $WASHU_ROOT\n",
    "! echo $PYTHONPATH"
   ]
  },
  {
   "cell_type": "code",
   "execution_count": 28,
   "metadata": {
    "ExecuteTime": {
     "end_time": "2018-11-19T17:04:10.903253Z",
     "start_time": "2018-11-19T17:04:10.898362Z"
    }
   },
   "outputs": [],
   "source": [
    "data_root = Path(\"/mnt/stripe/bio/experiments/configs/Y20O20\")\n",
    "loi_path = data_root / \"loci_of_interest\"\n",
    "hists = ['H3K4me1', 'H3K4me3', 'H3K27ac', 'H3K27me3', 'H3K36me3']"
   ]
  },
  {
   "cell_type": "markdown",
   "metadata": {},
   "source": [
    "This notebook builds necessary plots from the scratch the alternative is to calculate using all loci pipeline:\n",
    "\n",
    "```\n",
    "#! python /mnt/stripe/washu/downstream/reports/loci_intersection_report.py -o /mnt/stripe/bio/experiments/aging/loci_of_interest/tuned8_plots -p 24 --skip-stats --tool zinbra\n",
    "```"
   ]
  },
  {
   "cell_type": "code",
   "execution_count": 29,
   "metadata": {
    "ExecuteTime": {
     "end_time": "2018-11-19T17:04:12.443484Z",
     "start_time": "2018-11-19T17:04:12.409378Z"
    }
   },
   "outputs": [],
   "source": [
    "def build_overlap_metrics(result_pdf_path: Path, title,\n",
    "                          a_paths, a_labels, b_paths, b_labels,\n",
    "                          transpose=False,\n",
    "                          figsize=(14,14)):\n",
    "    \n",
    "    metric_df_path = str(result_pdf_path.with_suffix(\".csv\"))\n",
    "    result_pdf_path = str(result_pdf_path)\n",
    "\n",
    "    print(\"Calculating overlap metrics:\", result_pdf_path)\n",
    "\n",
    "    if os.path.exists(metric_df_path):\n",
    "        os.remove(metric_df_path)\n",
    "    \n",
    "    df = bm.bed_metric_table(a_paths, b_paths, jaccard=False, threads=N_THREADS)\n",
    "    df.to_csv(metric_df_path)\n",
    "    print(\"Overlap metrics:\", metric_df_path)\n",
    "\n",
    "    display(df.head())\n",
    "\n",
    "    df.index = a_labels\n",
    "    df.columns = b_labels\n",
    "\n",
    "    if transpose:\n",
    "        df = df.T\n",
    "\n",
    "    with PdfPages(result_pdf_path) as pdf:\n",
    "        for out in [None, pdf]:\n",
    "            bm.plot_metric_heatmap(title, df, figsize=figsize, cbar=False, save_to=out)"
   ]
  },
  {
   "cell_type": "markdown",
   "metadata": {
    "ExecuteTime": {
     "end_time": "2018-04-13T15:02:18.424745Z",
     "start_time": "2018-04-13T15:02:18.421466Z"
    }
   },
   "source": [
    "## ChromHMM"
   ]
  },
  {
   "cell_type": "code",
   "execution_count": 30,
   "metadata": {
    "ExecuteTime": {
     "end_time": "2018-11-19T17:04:13.715621Z",
     "start_time": "2018-11-19T17:04:13.708610Z"
    }
   },
   "outputs": [
    {
     "data": {
      "text/plain": [
       "PosixPath('/mnt/stripe/bio/experiments/configs/Y20O20/loci_of_interest/chromhmm_encsr907lcd/cd14_encsr907lcd_chromhmm18.hg19.10_EnhA2.bed')"
      ]
     },
     "execution_count": 30,
     "metadata": {},
     "output_type": "execute_result"
    }
   ],
   "source": [
    "chromhmm_root_path = loi_path / \"chromhmm_encsr907lcd\"\n",
    "chromhmm_title = \"ChromHMM (ENCSR907LCD)\"\n",
    "\n",
    "chromhmm_paths = list(chromhmm_root_path.glob(\"*.bed\"))\n",
    "chromhmm_paths[0]"
   ]
  },
  {
   "cell_type": "code",
   "execution_count": 31,
   "metadata": {
    "ExecuteTime": {
     "end_time": "2018-11-19T17:04:14.455521Z",
     "start_time": "2018-11-19T17:04:14.451112Z"
    }
   },
   "outputs": [],
   "source": [
    "chromhmm_paths.sort(key=lambda p: int(p.name.split(\".\")[2].split(\"_\")[0]))"
   ]
  },
  {
   "cell_type": "code",
   "execution_count": 32,
   "metadata": {
    "ExecuteTime": {
     "end_time": "2018-11-19T17:04:14.786925Z",
     "start_time": "2018-11-19T17:04:14.778382Z"
    }
   },
   "outputs": [
    {
     "data": {
      "text/plain": [
       "['TssA (1)',\n",
       " 'TssFlnk (2)',\n",
       " 'TssFlnkU (3)',\n",
       " 'TssFlnkD (4)',\n",
       " 'Tx (5)',\n",
       " 'TxWk (6)',\n",
       " 'EnhG1 (7)',\n",
       " 'EnhG2 (8)',\n",
       " 'EnhA1 (9)',\n",
       " 'EnhA2 (10)',\n",
       " 'EnhWk (11)',\n",
       " 'ZNF (12)',\n",
       " 'Het (13)',\n",
       " 'TssBiv (14)',\n",
       " 'EnhBiv (15)',\n",
       " 'ReprPC (16)',\n",
       " 'ReprPCWk (17)',\n",
       " 'Quies (18)']"
      ]
     },
     "execution_count": 32,
     "metadata": {},
     "output_type": "execute_result"
    }
   ],
   "source": [
    "# long names\n",
    "#chromhmm_labels = [\"{} ({})\".format(loi._CHROMHMM_ST_MAP[st], st.split(\"_\")[0]) for st in (p.name.split(\".\")[2] for p in chromhmm_paths)]\n",
    "# short names\n",
    "chromhmm_labels = [\"{} ({})\".format(v[1], v[0]) for v in (p.name.split(\".\")[2].split(\"_\") for p in chromhmm_paths)]\n",
    "chromhmm_labels"
   ]
  },
  {
   "cell_type": "markdown",
   "metadata": {},
   "source": [
    "\n",
    "## SPAN Tuned"
   ]
  },
  {
   "cell_type": "code",
   "execution_count": 33,
   "metadata": {
    "ExecuteTime": {
     "end_time": "2018-11-19T17:04:16.767680Z",
     "start_time": "2018-11-19T17:04:16.761516Z"
    }
   },
   "outputs": [
    {
     "data": {
      "text/plain": [
       "[PosixPath('/mnt/stripe/bio/experiments/configs/Y20O20/loci_of_interest/weak_consensus/H3K4me1_span_weak_consensus.bed'),\n",
       " PosixPath('/mnt/stripe/bio/experiments/configs/Y20O20/loci_of_interest/weak_consensus/H3K4me3_span_weak_consensus.bed'),\n",
       " PosixPath('/mnt/stripe/bio/experiments/configs/Y20O20/loci_of_interest/weak_consensus/H3K27ac_span_weak_consensus.bed'),\n",
       " PosixPath('/mnt/stripe/bio/experiments/configs/Y20O20/loci_of_interest/weak_consensus/H3K27me3_span_weak_consensus.bed'),\n",
       " PosixPath('/mnt/stripe/bio/experiments/configs/Y20O20/loci_of_interest/weak_consensus/H3K36me3_span_weak_consensus.bed')]"
      ]
     },
     "execution_count": 33,
     "metadata": {},
     "output_type": "execute_result"
    }
   ],
   "source": [
    "span_weak_cons_path = loi_path / \"weak_consensus\"\n",
    "span_paths = [span_weak_cons_path / \"{}_span_weak_consensus.bed\".format(h) for h in hists]\n",
    "span_paths"
   ]
  },
  {
   "cell_type": "markdown",
   "metadata": {
    "ExecuteTime": {
     "end_time": "2018-04-13T15:21:47.223042Z",
     "start_time": "2018-04-13T15:21:47.219758Z"
    }
   },
   "source": [
    "## Overlap Heatmap"
   ]
  },
  {
   "cell_type": "code",
   "execution_count": 34,
   "metadata": {
    "ExecuteTime": {
     "end_time": "2018-11-19T17:04:21.360916Z",
     "start_time": "2018-11-19T17:04:18.874801Z"
    }
   },
   "outputs": [
    {
     "name": "stdout",
     "output_type": "stream",
     "text": [
      "Calculating overlap metrics: /mnt/stripe/bio/experiments/configs/Y20O20/heatmap_overlap_chromhmm@weak_span.pdf\n",
      "Overlap metrics: /mnt/stripe/bio/experiments/configs/Y20O20/heatmap_overlap_chromhmm@weak_span.csv\n"
     ]
    },
    {
     "data": {
      "text/html": [
       "<div>\n",
       "<style scoped>\n",
       "    .dataframe tbody tr th:only-of-type {\n",
       "        vertical-align: middle;\n",
       "    }\n",
       "\n",
       "    .dataframe tbody tr th {\n",
       "        vertical-align: top;\n",
       "    }\n",
       "\n",
       "    .dataframe thead th {\n",
       "        text-align: right;\n",
       "    }\n",
       "</style>\n",
       "<table border=\"1\" class=\"dataframe\">\n",
       "  <thead>\n",
       "    <tr style=\"text-align: right;\">\n",
       "      <th></th>\n",
       "      <th>H3K4me1_span_weak_consensus.bed</th>\n",
       "      <th>H3K4me3_span_weak_consensus.bed</th>\n",
       "      <th>H3K27ac_span_weak_consensus.bed</th>\n",
       "      <th>H3K27me3_span_weak_consensus.bed</th>\n",
       "      <th>H3K36me3_span_weak_consensus.bed</th>\n",
       "    </tr>\n",
       "  </thead>\n",
       "  <tbody>\n",
       "    <tr>\n",
       "      <th>cd14_encsr907lcd_chromhmm18.hg19.1_TssA.bed</th>\n",
       "      <td>0.909339</td>\n",
       "      <td>0.825618</td>\n",
       "      <td>0.893661</td>\n",
       "      <td>0.014687</td>\n",
       "      <td>0.345108</td>\n",
       "    </tr>\n",
       "    <tr>\n",
       "      <th>cd14_encsr907lcd_chromhmm18.hg19.2_TssFlnk.bed</th>\n",
       "      <td>0.742424</td>\n",
       "      <td>0.541853</td>\n",
       "      <td>0.265524</td>\n",
       "      <td>0.049305</td>\n",
       "      <td>0.164680</td>\n",
       "    </tr>\n",
       "    <tr>\n",
       "      <th>cd14_encsr907lcd_chromhmm18.hg19.3_TssFlnkU.bed</th>\n",
       "      <td>0.980047</td>\n",
       "      <td>0.431467</td>\n",
       "      <td>0.798146</td>\n",
       "      <td>0.010325</td>\n",
       "      <td>0.403792</td>\n",
       "    </tr>\n",
       "    <tr>\n",
       "      <th>cd14_encsr907lcd_chromhmm18.hg19.4_TssFlnkD.bed</th>\n",
       "      <td>0.968961</td>\n",
       "      <td>0.272544</td>\n",
       "      <td>0.164338</td>\n",
       "      <td>0.022856</td>\n",
       "      <td>0.257136</td>\n",
       "    </tr>\n",
       "    <tr>\n",
       "      <th>cd14_encsr907lcd_chromhmm18.hg19.5_Tx.bed</th>\n",
       "      <td>0.287179</td>\n",
       "      <td>0.003149</td>\n",
       "      <td>0.061120</td>\n",
       "      <td>0.002146</td>\n",
       "      <td>0.987988</td>\n",
       "    </tr>\n",
       "  </tbody>\n",
       "</table>\n",
       "</div>"
      ],
      "text/plain": [
       "                                                 H3K4me1_span_weak_consensus.bed  \\\n",
       "cd14_encsr907lcd_chromhmm18.hg19.1_TssA.bed                             0.909339   \n",
       "cd14_encsr907lcd_chromhmm18.hg19.2_TssFlnk.bed                          0.742424   \n",
       "cd14_encsr907lcd_chromhmm18.hg19.3_TssFlnkU.bed                         0.980047   \n",
       "cd14_encsr907lcd_chromhmm18.hg19.4_TssFlnkD.bed                         0.968961   \n",
       "cd14_encsr907lcd_chromhmm18.hg19.5_Tx.bed                               0.287179   \n",
       "\n",
       "                                                 H3K4me3_span_weak_consensus.bed  \\\n",
       "cd14_encsr907lcd_chromhmm18.hg19.1_TssA.bed                             0.825618   \n",
       "cd14_encsr907lcd_chromhmm18.hg19.2_TssFlnk.bed                          0.541853   \n",
       "cd14_encsr907lcd_chromhmm18.hg19.3_TssFlnkU.bed                         0.431467   \n",
       "cd14_encsr907lcd_chromhmm18.hg19.4_TssFlnkD.bed                         0.272544   \n",
       "cd14_encsr907lcd_chromhmm18.hg19.5_Tx.bed                               0.003149   \n",
       "\n",
       "                                                 H3K27ac_span_weak_consensus.bed  \\\n",
       "cd14_encsr907lcd_chromhmm18.hg19.1_TssA.bed                             0.893661   \n",
       "cd14_encsr907lcd_chromhmm18.hg19.2_TssFlnk.bed                          0.265524   \n",
       "cd14_encsr907lcd_chromhmm18.hg19.3_TssFlnkU.bed                         0.798146   \n",
       "cd14_encsr907lcd_chromhmm18.hg19.4_TssFlnkD.bed                         0.164338   \n",
       "cd14_encsr907lcd_chromhmm18.hg19.5_Tx.bed                               0.061120   \n",
       "\n",
       "                                                 H3K27me3_span_weak_consensus.bed  \\\n",
       "cd14_encsr907lcd_chromhmm18.hg19.1_TssA.bed                              0.014687   \n",
       "cd14_encsr907lcd_chromhmm18.hg19.2_TssFlnk.bed                           0.049305   \n",
       "cd14_encsr907lcd_chromhmm18.hg19.3_TssFlnkU.bed                          0.010325   \n",
       "cd14_encsr907lcd_chromhmm18.hg19.4_TssFlnkD.bed                          0.022856   \n",
       "cd14_encsr907lcd_chromhmm18.hg19.5_Tx.bed                                0.002146   \n",
       "\n",
       "                                                 H3K36me3_span_weak_consensus.bed  \n",
       "cd14_encsr907lcd_chromhmm18.hg19.1_TssA.bed                              0.345108  \n",
       "cd14_encsr907lcd_chromhmm18.hg19.2_TssFlnk.bed                           0.164680  \n",
       "cd14_encsr907lcd_chromhmm18.hg19.3_TssFlnkU.bed                          0.403792  \n",
       "cd14_encsr907lcd_chromhmm18.hg19.4_TssFlnkD.bed                          0.257136  \n",
       "cd14_encsr907lcd_chromhmm18.hg19.5_Tx.bed                                0.987988  "
      ]
     },
     "metadata": {},
     "output_type": "display_data"
    },
    {
     "data": {
      "image/png": "[encoded data removed]",
      "text/plain": [
       "<matplotlib.figure.Figure at 0x7f5a5af71e48>"
      ]
     },
     "metadata": {},
     "output_type": "display_data"
    }
   ],
   "source": [
    "result_pdf_path = data_root / \"heatmap_overlap_chromhmm@weak_span.pdf\"\n",
    "\n",
    "build_overlap_metrics(\n",
    "    result_pdf_path, 'Overlap {}@SPAN weak consensus'.format(chromhmm_title),\n",
    "    chromhmm_paths, chromhmm_labels, span_paths, hists, \n",
    "    transpose=True, figsize=(18, 6))"
   ]
  },
  {
   "cell_type": "code",
   "execution_count": null,
   "metadata": {
    "ExecuteTime": {
     "end_time": "2018-11-19T16:58:22.938809Z",
     "start_time": "2018-11-19T16:58:20.431597Z"
    }
   },
   "outputs": [],
   "source": [
    "result_pdf_path = data_root / \"weak_span@heatmap_overlap_chromhmm.pdf\"\n",
    "\n",
    "build_overlap_metrics(\n",
    "    result_pdf_path, 'Overlap SPAN weak consensus@{}'.format(chromhmm_title),\n",
    "    span_paths, hists, chromhmm_paths, chromhmm_labels, figsize=(18, 6))"
   ]
  },
  {
   "cell_type": "markdown",
   "metadata": {
    "heading_collapsed": true
   },
   "source": [
    "# Golden"
   ]
  },
  {
   "cell_type": "code",
   "execution_count": null,
   "metadata": {
    "ExecuteTime": {
     "end_time": "2018-11-19T16:58:34.469216Z",
     "start_time": "2018-11-19T16:58:34.449772Z"
    },
    "hidden": true
   },
   "outputs": [],
   "source": [
    "golden_paths = []\n",
    "for h in hists:\n",
    "    folder = \"sicer\" if h == \"H3K36me3\" else \"macs_broad\"\n",
    "    golden_paths.append(data_root / \"benchmark/{0}/{1}/consensus/{0}_{1}_weak_consensus.bed\".format(h, folder))\n",
    "golden_paths"
   ]
  },
  {
   "cell_type": "code",
   "execution_count": null,
   "metadata": {
    "ExecuteTime": {
     "end_time": "2018-11-19T16:58:49.100782Z",
     "start_time": "2018-11-19T16:58:46.432615Z"
    },
    "hidden": true
   },
   "outputs": [],
   "source": [
    "result_pdf_path = data_root / \"heatmap_overlap_chromhmm@weak_golden.pdf\"\n",
    "\n",
    "build_overlap_metrics(\n",
    "    result_pdf_path, 'Overlap GOLDEN weak consensus@{}'.format(chromhmm_title),\n",
    "    chromhmm_paths, chromhmm_labels, golden_paths, hists, \n",
    "    transpose=True, figsize=(18, 6))"
   ]
  },
  {
   "cell_type": "code",
   "execution_count": null,
   "metadata": {
    "ExecuteTime": {
     "end_time": "2018-11-19T16:58:57.744153Z",
     "start_time": "2018-11-19T16:58:55.301126Z"
    },
    "hidden": true
   },
   "outputs": [],
   "source": [
    "result_pdf_path = data_root / \"weak_golden@heatmap_overlap_chromhmm.pdf\"\n",
    "\n",
    "build_overlap_metrics(\n",
    "    result_pdf_path, 'Overlap GOLDEN weak consensus@{}'.format(chromhmm_title),\n",
    "    golden_paths, hists, chromhmm_paths, chromhmm_labels, figsize=(18, 6))"
   ]
  },
  {
   "cell_type": "markdown",
   "metadata": {
    "heading_collapsed": true
   },
   "source": [
    "# Golden & SPAN"
   ]
  },
  {
   "cell_type": "code",
   "execution_count": null,
   "metadata": {
    "ExecuteTime": {
     "end_time": "2018-11-19T16:59:21.748156Z",
     "start_time": "2018-11-19T16:59:21.729360Z"
    },
    "hidden": true
   },
   "outputs": [],
   "source": [
    "tools_paths = []\n",
    "tools_labels = []\n",
    "for h in hists:\n",
    "    for folder in [\"span\", \"sicer\" if h == \"H3K36me3\" else \"macs_broad\"]:\n",
    "        tools_paths.append(data_root / \"benchmark/{0}/{1}/consensus/{0}_{1}_weak_consensus.bed\".format(h, folder))\n",
    "        tool = \"MACS2\" if folder == \"macs_broad\" else folder.upper()\n",
    "        tools_labels.append(\"{}: {}\".format(tool, h))"
   ]
  },
  {
   "cell_type": "code",
   "execution_count": null,
   "metadata": {
    "ExecuteTime": {
     "end_time": "2018-11-19T16:59:41.963438Z",
     "start_time": "2018-11-19T16:59:37.715004Z"
    },
    "hidden": true
   },
   "outputs": [],
   "source": [
    "result_pdf_path = data_root / \"heatmap_overlap_chromhmm@weak_tools.pdf\"\n",
    "\n",
    "build_overlap_metrics(\n",
    "    result_pdf_path, 'Overlap weak consensus@{}'.format(chromhmm_title),\n",
    "    chromhmm_paths, chromhmm_labels, tools_paths, tools_labels, \n",
    "    transpose=True, figsize=(14, 14))"
   ]
  },
  {
   "cell_type": "code",
   "execution_count": null,
   "metadata": {
    "hidden": true
   },
   "outputs": [],
   "source": []
  }
 ],
 "metadata": {
  "kernelspec": {
   "display_name": "Python 3",
   "language": "python",
   "name": "python3"
  },
  "language_info": {
   "codemirror_mode": {
    "name": "ipython",
    "version": 3
   },
   "file_extension": ".py",
   "mimetype": "text/x-python",
   "name": "python",
   "nbconvert_exporter": "python",
   "pygments_lexer": "ipython3",
   "version": "3.5.4"
  },
  "toc": {
   "nav_menu": {},
   "number_sections": true,
   "sideBar": true,
   "skip_h1_title": false,
   "toc_cell": false,
   "toc_position": {},
   "toc_section_display": "block",
   "toc_window_display": false
  },
  "varInspector": {
   "cols": {
    "lenName": 16,
    "lenType": 16,
    "lenVar": 40
   },
   "kernels_config": {
    "python": {
     "delete_cmd_postfix": "",
     "delete_cmd_prefix": "del ",
     "library": "var_list.py",
     "varRefreshCmd": "print(var_dic_list())"
    },
    "r": {
     "delete_cmd_postfix": ") ",
     "delete_cmd_prefix": "rm(",
     "library": "var_list.r",
     "varRefreshCmd": "cat(var_dic_list()) "
    }
   },
   "types_to_exclude": [
    "module",
    "function",
    "builtin_function_or_method",
    "instance",
    "_Feature"
   ],
   "window_display": false
  }
 },
 "nbformat": 4,
 "nbformat_minor": 2
}
