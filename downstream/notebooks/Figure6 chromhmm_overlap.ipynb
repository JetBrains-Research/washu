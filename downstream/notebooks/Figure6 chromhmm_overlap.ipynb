{
 "cells": [
  {
   "cell_type": "markdown",
   "metadata": {},
   "source": [
    "# Figure6 ChromHMM Overlap vs Zinbra"
   ]
  },
  {
   "cell_type": "code",
   "execution_count": 1,
   "metadata": {
    "ExecuteTime": {
     "end_time": "2018-09-09T22:26:19.903962Z",
     "start_time": "2018-09-09T22:26:18.556155Z"
    },
    "collapsed": true
   },
   "outputs": [],
   "source": [
    "import os\n",
    "\n",
    "import pandas as pd\n",
    "from pathlib import Path\n",
    "\n",
    "from IPython.display import display\n",
    "\n",
    "import downstream.bed_metrics as bm\n",
    "import downstream.loci_of_interest as loi\n",
    "\n",
    "import matplotlib\n",
    "%matplotlib inline\n",
    "import matplotlib.pyplot as plt\n",
    "\n",
    "from matplotlib.backends.backend_pdf import PdfPages\n",
    "\n",
    "N_THREADS = 8"
   ]
  },
  {
   "cell_type": "code",
   "execution_count": 2,
   "metadata": {
    "ExecuteTime": {
     "end_time": "2018-09-09T22:26:21.427454Z",
     "start_time": "2018-09-09T22:26:21.182958Z"
    }
   },
   "outputs": [
    {
     "name": "stdout",
     "output_type": "stream",
     "text": [
      "/Users/romeo/work/washu\n",
      "/Users/romeo/work/washu:\n"
     ]
    }
   ],
   "source": [
    "# Ensure project configured\n",
    "! echo $WASHU_ROOT\n",
    "! echo $PYTHONPATH"
   ]
  },
  {
   "cell_type": "code",
   "execution_count": 3,
   "metadata": {
    "ExecuteTime": {
     "end_time": "2018-09-09T22:26:31.484472Z",
     "start_time": "2018-09-09T22:26:31.480073Z"
    },
    "collapsed": true
   },
   "outputs": [],
   "source": [
    "data_root = Path(\"/mnt/stripe/bio/experiments/configs/Y20O20\")\n",
    "loi_path = data_root / \"loci_of_interest\"\n",
    "hists = ['H3K4me1', 'H3K4me3', 'H3K27ac', 'H3K27me3', 'H3K36me3']"
   ]
  },
  {
   "cell_type": "markdown",
   "metadata": {},
   "source": [
    "This notebook builds necessary plots from the scratch the alternative is to calculate using all loci pipeline:\n",
    "\n",
    "```\n",
    "#! python /mnt/stripe/washu/downstream/reports/loci_intersection_report.py -o /mnt/stripe/bio/experiments/aging/loci_of_interest/tuned8_plots -p 24 --skip-stats --tool zinbra\n",
    "```"
   ]
  },
  {
   "cell_type": "code",
   "execution_count": 4,
   "metadata": {
    "ExecuteTime": {
     "end_time": "2018-09-09T22:26:53.536075Z",
     "start_time": "2018-09-09T22:26:53.508188Z"
    },
    "collapsed": true
   },
   "outputs": [],
   "source": [
    "def build_overlap_metrics(result_pdf_path: Path, title,\n",
    "                          a_paths, a_labels, b_paths, b_labels,\n",
    "                          transpose=False,\n",
    "                          figsize=(14,14)):\n",
    "    \n",
    "    metric_df_path = str(result_pdf_path.with_suffix(\".csv\"))\n",
    "    result_pdf_path = str(result_pdf_path)\n",
    "\n",
    "    print(\"Calculating overlap metrics:\", result_pdf_path)\n",
    "\n",
    "    if os.path.exists(metric_df_path):\n",
    "        os.remove(metric_df_path)\n",
    "    \n",
    "    df = bm.bed_metric_table(a_paths, b_paths, jaccard=False, threads=N_THREADS)\n",
    "    df.to_csv(metric_df_path)\n",
    "\n",
    "    display(df.head())\n",
    "\n",
    "    df.index = a_labels\n",
    "    df.columns = b_labels\n",
    "\n",
    "    if transpose:\n",
    "        df = df.T\n",
    "        \n",
    "    with PdfPages(result_pdf_path) as pdf:\n",
    "        for out in [None, pdf]:\n",
    "            bm.plot_metric_heatmap(title, df, figsize=figsize, cbar=False, save_to=out)"
   ]
  },
  {
   "cell_type": "markdown",
   "metadata": {
    "ExecuteTime": {
     "end_time": "2018-04-13T15:02:18.424745Z",
     "start_time": "2018-04-13T15:02:18.421466Z"
    }
   },
   "source": [
    "## ChromHMM"
   ]
  },
  {
   "cell_type": "code",
   "execution_count": 5,
   "metadata": {
    "ExecuteTime": {
     "end_time": "2018-09-09T22:27:04.624106Z",
     "start_time": "2018-09-09T22:27:03.273433Z"
    }
   },
   "outputs": [
    {
     "data": {
      "text/plain": [
       "PosixPath('/mnt/stripe/bio/experiments/configs/Y20O20/loci_of_interest/chromhmm_encsr907lcd/cd14_encsr907lcd_chromhmm18.hg19.10_EnhA2.bed')"
      ]
     },
     "execution_count": 5,
     "metadata": {},
     "output_type": "execute_result"
    }
   ],
   "source": [
    "chromhmm_root_path = loi_path / \"chromhmm_encsr907lcd\"\n",
    "chromhmm_title = \"ChromHMM (ENCSR907LCD)\"\n",
    "\n",
    "chromhmm_paths = list(chromhmm_root_path.glob(\"*.bed\"))\n",
    "chromhmm_paths[0]"
   ]
  },
  {
   "cell_type": "code",
   "execution_count": 6,
   "metadata": {
    "ExecuteTime": {
     "end_time": "2018-09-09T22:27:09.164448Z",
     "start_time": "2018-09-09T22:27:09.160509Z"
    },
    "collapsed": true
   },
   "outputs": [],
   "source": [
    "chromhmm_paths.sort(key=lambda p: int(p.name.split(\".\")[2].split(\"_\")[0]))"
   ]
  },
  {
   "cell_type": "code",
   "execution_count": 7,
   "metadata": {
    "ExecuteTime": {
     "end_time": "2018-09-09T22:27:10.344534Z",
     "start_time": "2018-09-09T22:27:10.336489Z"
    }
   },
   "outputs": [
    {
     "data": {
      "text/plain": [
       "['TssA (1)',\n",
       " 'TssFlnk (2)',\n",
       " 'TssFlnkU (3)',\n",
       " 'TssFlnkD (4)',\n",
       " 'Tx (5)',\n",
       " 'TxWk (6)',\n",
       " 'EnhG1 (7)',\n",
       " 'EnhG2 (8)',\n",
       " 'EnhA1 (9)',\n",
       " 'EnhA2 (10)',\n",
       " 'EnhWk (11)',\n",
       " 'ZNF (12)',\n",
       " 'Het (13)',\n",
       " 'TssBiv (14)',\n",
       " 'EnhBiv (15)',\n",
       " 'ReprPC (16)',\n",
       " 'ReprPCWk (17)',\n",
       " 'Quies (18)']"
      ]
     },
     "execution_count": 7,
     "metadata": {},
     "output_type": "execute_result"
    }
   ],
   "source": [
    "# long names\n",
    "#chromhmm_labels = [\"{} ({})\".format(loi._CHROMHMM_ST_MAP[st], st.split(\"_\")[0]) for st in (p.name.split(\".\")[2] for p in chromhmm_paths)]\n",
    "# short names\n",
    "chromhmm_labels = [\"{} ({})\".format(v[1], v[0]) for v in (p.name.split(\".\")[2].split(\"_\") for p in chromhmm_paths)]\n",
    "chromhmm_labels"
   ]
  },
  {
   "cell_type": "markdown",
   "metadata": {},
   "source": [
    "\n",
    "## SPAN Tuned"
   ]
  },
  {
   "cell_type": "code",
   "execution_count": 9,
   "metadata": {
    "ExecuteTime": {
     "end_time": "2018-09-09T22:27:54.081874Z",
     "start_time": "2018-09-09T22:27:54.075887Z"
    }
   },
   "outputs": [
    {
     "data": {
      "text/plain": [
       "[PosixPath('/mnt/stripe/bio/experiments/configs/Y20O20/loci_of_interest/weak_consensus/H3K4me1_span_weak_consensus.bed'),\n",
       " PosixPath('/mnt/stripe/bio/experiments/configs/Y20O20/loci_of_interest/weak_consensus/H3K4me3_span_weak_consensus.bed'),\n",
       " PosixPath('/mnt/stripe/bio/experiments/configs/Y20O20/loci_of_interest/weak_consensus/H3K27ac_span_weak_consensus.bed'),\n",
       " PosixPath('/mnt/stripe/bio/experiments/configs/Y20O20/loci_of_interest/weak_consensus/H3K27me3_span_weak_consensus.bed'),\n",
       " PosixPath('/mnt/stripe/bio/experiments/configs/Y20O20/loci_of_interest/weak_consensus/H3K36me3_span_weak_consensus.bed')]"
      ]
     },
     "execution_count": 9,
     "metadata": {},
     "output_type": "execute_result"
    }
   ],
   "source": [
    "zinbra_weak_cons_path = loi_path / \"weak_consensus\"\n",
    "\n",
    "zinbra_paths = [zinbra_weak_cons_path / \"{}_span_weak_consensus.bed\".format(h) for h in hists]\n",
    "zinbra_paths"
   ]
  },
  {
   "cell_type": "markdown",
   "metadata": {
    "ExecuteTime": {
     "end_time": "2018-04-13T15:21:47.223042Z",
     "start_time": "2018-04-13T15:21:47.219758Z"
    }
   },
   "source": [
    "## Overlap Heatmap"
   ]
  },
  {
   "cell_type": "code",
   "execution_count": 10,
   "metadata": {
    "ExecuteTime": {
     "end_time": "2018-09-09T22:29:43.015894Z",
     "start_time": "2018-09-09T22:28:30.949282Z"
    }
   },
   "outputs": [
    {
     "name": "stdout",
     "output_type": "stream",
     "text": [
      "Calculating overlap metrics: /mnt/stripe/bio/experiments/configs/Y20O20/reports/heatmap_overlap_chromhmm@weak_span.pdf\n"
     ]
    },
    {
     "name": "stderr",
     "output_type": "stream",
     "text": [
      "Process ForkPoolWorker-8:\n",
      "Process ForkPoolWorker-5:\n",
      "Process ForkPoolWorker-6:\n",
      "Process ForkPoolWorker-7:\n",
      "Process ForkPoolWorker-1:\n",
      "Process ForkPoolWorker-3:\n",
      "Process ForkPoolWorker-2:\n",
      "Process ForkPoolWorker-4:\n"
     ]
    },
    {
     "ename": "KeyboardInterrupt",
     "evalue": "",
     "output_type": "error",
     "traceback": [
      "\u001b[0;31m---------------------------------------------------------------------------\u001b[0m",
      "\u001b[0;31mKeyboardInterrupt\u001b[0m                         Traceback (most recent call last)",
      "\u001b[0;32m<ipython-input-10-483c41ff9f64>\u001b[0m in \u001b[0;36m<module>\u001b[0;34m()\u001b[0m\n\u001b[1;32m      4\u001b[0m     \u001b[0mresult_pdf_path\u001b[0m\u001b[0;34m,\u001b[0m \u001b[0;34m'Overlap {}@SPAN weak consensus'\u001b[0m\u001b[0;34m.\u001b[0m\u001b[0mformat\u001b[0m\u001b[0;34m(\u001b[0m\u001b[0mchromhmm_title\u001b[0m\u001b[0;34m)\u001b[0m\u001b[0;34m,\u001b[0m\u001b[0;34m\u001b[0m\u001b[0m\n\u001b[1;32m      5\u001b[0m     \u001b[0mchromhmm_paths\u001b[0m\u001b[0;34m,\u001b[0m \u001b[0mchromhmm_labels\u001b[0m\u001b[0;34m,\u001b[0m \u001b[0mzinbra_paths\u001b[0m\u001b[0;34m,\u001b[0m \u001b[0mhists\u001b[0m\u001b[0;34m,\u001b[0m\u001b[0;34m\u001b[0m\u001b[0m\n\u001b[0;32m----> 6\u001b[0;31m     transpose=True, figsize=(18, 6))\n\u001b[0m",
      "\u001b[0;32m<ipython-input-4-af0b9a45ae78>\u001b[0m in \u001b[0;36mbuild_overlap_metrics\u001b[0;34m(result_pdf_path, title, a_paths, a_labels, b_paths, b_labels, transpose, figsize)\u001b[0m\n\u001b[1;32m     12\u001b[0m         \u001b[0mos\u001b[0m\u001b[0;34m.\u001b[0m\u001b[0mremove\u001b[0m\u001b[0;34m(\u001b[0m\u001b[0mmetric_df_path\u001b[0m\u001b[0;34m)\u001b[0m\u001b[0;34m\u001b[0m\u001b[0m\n\u001b[1;32m     13\u001b[0m \u001b[0;34m\u001b[0m\u001b[0m\n\u001b[0;32m---> 14\u001b[0;31m     \u001b[0mdf\u001b[0m \u001b[0;34m=\u001b[0m \u001b[0mbm\u001b[0m\u001b[0;34m.\u001b[0m\u001b[0mbed_metric_table\u001b[0m\u001b[0;34m(\u001b[0m\u001b[0ma_paths\u001b[0m\u001b[0;34m,\u001b[0m \u001b[0mb_paths\u001b[0m\u001b[0;34m,\u001b[0m \u001b[0mjaccard\u001b[0m\u001b[0;34m=\u001b[0m\u001b[0;32mFalse\u001b[0m\u001b[0;34m,\u001b[0m \u001b[0mthreads\u001b[0m\u001b[0;34m=\u001b[0m\u001b[0mN_THREADS\u001b[0m\u001b[0;34m)\u001b[0m\u001b[0;34m\u001b[0m\u001b[0m\n\u001b[0m\u001b[1;32m     15\u001b[0m     \u001b[0mdf\u001b[0m\u001b[0;34m.\u001b[0m\u001b[0mto_csv\u001b[0m\u001b[0;34m(\u001b[0m\u001b[0mmetric_df_path\u001b[0m\u001b[0;34m)\u001b[0m\u001b[0;34m\u001b[0m\u001b[0m\n\u001b[1;32m     16\u001b[0m \u001b[0;34m\u001b[0m\u001b[0m\n",
      "\u001b[0;32m/Users/romeo/work/washu/downstream/bed_metrics.py\u001b[0m in \u001b[0;36mbed_metric_table\u001b[0;34m(a_paths, b_paths, jaccard, threads, timeout_hours, **kw)\u001b[0m\n\u001b[1;32m    118\u001b[0m                             for a, b, ij in path_pairs]\n\u001b[1;32m    119\u001b[0m         values = [res.get(timeout=3600 * timeout_hours) for res in\n\u001b[0;32m--> 120\u001b[0;31m                   multiple_results]\n\u001b[0m\u001b[1;32m    121\u001b[0m \u001b[0;34m\u001b[0m\u001b[0m\n\u001b[1;32m    122\u001b[0m         \u001b[0mx\u001b[0m \u001b[0;34m=\u001b[0m \u001b[0mnp\u001b[0m\u001b[0;34m.\u001b[0m\u001b[0mzeros\u001b[0m\u001b[0;34m(\u001b[0m\u001b[0;34m(\u001b[0m\u001b[0mlen\u001b[0m\u001b[0;34m(\u001b[0m\u001b[0ma_paths\u001b[0m\u001b[0;34m)\u001b[0m\u001b[0;34m,\u001b[0m \u001b[0mlen\u001b[0m\u001b[0;34m(\u001b[0m\u001b[0mb_paths\u001b[0m\u001b[0;34m)\u001b[0m\u001b[0;34m)\u001b[0m\u001b[0;34m,\u001b[0m \u001b[0mnp\u001b[0m\u001b[0;34m.\u001b[0m\u001b[0mfloat32\u001b[0m\u001b[0;34m)\u001b[0m\u001b[0;34m\u001b[0m\u001b[0m\n",
      "\u001b[0;32m/Users/romeo/work/washu/downstream/bed_metrics.py\u001b[0m in \u001b[0;36m<listcomp>\u001b[0;34m(.0)\u001b[0m\n\u001b[1;32m    117\u001b[0m         multiple_results = [pool.apply_async(inner_metric, (a, b, ij), kw)\n\u001b[1;32m    118\u001b[0m                             for a, b, ij in path_pairs]\n\u001b[0;32m--> 119\u001b[0;31m         values = [res.get(timeout=3600 * timeout_hours) for res in\n\u001b[0m\u001b[1;32m    120\u001b[0m                   multiple_results]\n\u001b[1;32m    121\u001b[0m \u001b[0;34m\u001b[0m\u001b[0m\n",
      "\u001b[0;32m/Users/romeo/anaconda/envs/aging3/lib/python3.6/multiprocessing/pool.py\u001b[0m in \u001b[0;36mget\u001b[0;34m(self, timeout)\u001b[0m\n\u001b[1;32m    600\u001b[0m \u001b[0;34m\u001b[0m\u001b[0m\n\u001b[1;32m    601\u001b[0m     \u001b[0;32mdef\u001b[0m \u001b[0mget\u001b[0m\u001b[0;34m(\u001b[0m\u001b[0mself\u001b[0m\u001b[0;34m,\u001b[0m \u001b[0mtimeout\u001b[0m\u001b[0;34m=\u001b[0m\u001b[0;32mNone\u001b[0m\u001b[0;34m)\u001b[0m\u001b[0;34m:\u001b[0m\u001b[0;34m\u001b[0m\u001b[0m\n\u001b[0;32m--> 602\u001b[0;31m         \u001b[0mself\u001b[0m\u001b[0;34m.\u001b[0m\u001b[0mwait\u001b[0m\u001b[0;34m(\u001b[0m\u001b[0mtimeout\u001b[0m\u001b[0;34m)\u001b[0m\u001b[0;34m\u001b[0m\u001b[0m\n\u001b[0m\u001b[1;32m    603\u001b[0m         \u001b[0;32mif\u001b[0m \u001b[0;32mnot\u001b[0m \u001b[0mself\u001b[0m\u001b[0;34m.\u001b[0m\u001b[0mready\u001b[0m\u001b[0;34m(\u001b[0m\u001b[0;34m)\u001b[0m\u001b[0;34m:\u001b[0m\u001b[0;34m\u001b[0m\u001b[0m\n\u001b[1;32m    604\u001b[0m             \u001b[0;32mraise\u001b[0m \u001b[0mTimeoutError\u001b[0m\u001b[0;34m\u001b[0m\u001b[0m\n",
      "\u001b[0;32m/Users/romeo/anaconda/envs/aging3/lib/python3.6/multiprocessing/pool.py\u001b[0m in \u001b[0;36mwait\u001b[0;34m(self, timeout)\u001b[0m\n\u001b[1;32m    597\u001b[0m \u001b[0;34m\u001b[0m\u001b[0m\n\u001b[1;32m    598\u001b[0m     \u001b[0;32mdef\u001b[0m \u001b[0mwait\u001b[0m\u001b[0;34m(\u001b[0m\u001b[0mself\u001b[0m\u001b[0;34m,\u001b[0m \u001b[0mtimeout\u001b[0m\u001b[0;34m=\u001b[0m\u001b[0;32mNone\u001b[0m\u001b[0;34m)\u001b[0m\u001b[0;34m:\u001b[0m\u001b[0;34m\u001b[0m\u001b[0m\n\u001b[0;32m--> 599\u001b[0;31m         \u001b[0mself\u001b[0m\u001b[0;34m.\u001b[0m\u001b[0m_event\u001b[0m\u001b[0;34m.\u001b[0m\u001b[0mwait\u001b[0m\u001b[0;34m(\u001b[0m\u001b[0mtimeout\u001b[0m\u001b[0;34m)\u001b[0m\u001b[0;34m\u001b[0m\u001b[0m\n\u001b[0m\u001b[1;32m    600\u001b[0m \u001b[0;34m\u001b[0m\u001b[0m\n\u001b[1;32m    601\u001b[0m     \u001b[0;32mdef\u001b[0m \u001b[0mget\u001b[0m\u001b[0;34m(\u001b[0m\u001b[0mself\u001b[0m\u001b[0;34m,\u001b[0m \u001b[0mtimeout\u001b[0m\u001b[0;34m=\u001b[0m\u001b[0;32mNone\u001b[0m\u001b[0;34m)\u001b[0m\u001b[0;34m:\u001b[0m\u001b[0;34m\u001b[0m\u001b[0m\n",
      "\u001b[0;32m/Users/romeo/anaconda/envs/aging3/lib/python3.6/threading.py\u001b[0m in \u001b[0;36mwait\u001b[0;34m(self, timeout)\u001b[0m\n\u001b[1;32m    549\u001b[0m             \u001b[0msignaled\u001b[0m \u001b[0;34m=\u001b[0m \u001b[0mself\u001b[0m\u001b[0;34m.\u001b[0m\u001b[0m_flag\u001b[0m\u001b[0;34m\u001b[0m\u001b[0m\n\u001b[1;32m    550\u001b[0m             \u001b[0;32mif\u001b[0m \u001b[0;32mnot\u001b[0m \u001b[0msignaled\u001b[0m\u001b[0;34m:\u001b[0m\u001b[0;34m\u001b[0m\u001b[0m\n\u001b[0;32m--> 551\u001b[0;31m                 \u001b[0msignaled\u001b[0m \u001b[0;34m=\u001b[0m \u001b[0mself\u001b[0m\u001b[0;34m.\u001b[0m\u001b[0m_cond\u001b[0m\u001b[0;34m.\u001b[0m\u001b[0mwait\u001b[0m\u001b[0;34m(\u001b[0m\u001b[0mtimeout\u001b[0m\u001b[0;34m)\u001b[0m\u001b[0;34m\u001b[0m\u001b[0m\n\u001b[0m\u001b[1;32m    552\u001b[0m             \u001b[0;32mreturn\u001b[0m \u001b[0msignaled\u001b[0m\u001b[0;34m\u001b[0m\u001b[0m\n\u001b[1;32m    553\u001b[0m \u001b[0;34m\u001b[0m\u001b[0m\n",
      "\u001b[0;32m/Users/romeo/anaconda/envs/aging3/lib/python3.6/threading.py\u001b[0m in \u001b[0;36mwait\u001b[0;34m(self, timeout)\u001b[0m\n\u001b[1;32m    297\u001b[0m             \u001b[0;32melse\u001b[0m\u001b[0;34m:\u001b[0m\u001b[0;34m\u001b[0m\u001b[0m\n\u001b[1;32m    298\u001b[0m                 \u001b[0;32mif\u001b[0m \u001b[0mtimeout\u001b[0m \u001b[0;34m>\u001b[0m \u001b[0;36m0\u001b[0m\u001b[0;34m:\u001b[0m\u001b[0;34m\u001b[0m\u001b[0m\n\u001b[0;32m--> 299\u001b[0;31m                     \u001b[0mgotit\u001b[0m \u001b[0;34m=\u001b[0m \u001b[0mwaiter\u001b[0m\u001b[0;34m.\u001b[0m\u001b[0macquire\u001b[0m\u001b[0;34m(\u001b[0m\u001b[0;32mTrue\u001b[0m\u001b[0;34m,\u001b[0m \u001b[0mtimeout\u001b[0m\u001b[0;34m)\u001b[0m\u001b[0;34m\u001b[0m\u001b[0m\n\u001b[0m\u001b[1;32m    300\u001b[0m                 \u001b[0;32melse\u001b[0m\u001b[0;34m:\u001b[0m\u001b[0;34m\u001b[0m\u001b[0m\n\u001b[1;32m    301\u001b[0m                     \u001b[0mgotit\u001b[0m \u001b[0;34m=\u001b[0m \u001b[0mwaiter\u001b[0m\u001b[0;34m.\u001b[0m\u001b[0macquire\u001b[0m\u001b[0;34m(\u001b[0m\u001b[0;32mFalse\u001b[0m\u001b[0;34m)\u001b[0m\u001b[0;34m\u001b[0m\u001b[0m\n",
      "\u001b[0;31mKeyboardInterrupt\u001b[0m: "
     ]
    }
   ],
   "source": [
    "result_pdf_path = data_root / \"reports/heatmap_overlap_chromhmm@weak_span.pdf\"\n",
    "\n",
    "build_overlap_metrics(\n",
    "    result_pdf_path, 'Overlap {}@SPAN weak consensus'.format(chromhmm_title),\n",
    "    chromhmm_paths, chromhmm_labels, zinbra_paths, hists, \n",
    "    transpose=True, figsize=(18, 6))"
   ]
  },
  {
   "cell_type": "code",
   "execution_count": 33,
   "metadata": {
    "ExecuteTime": {
     "end_time": "2018-04-16T11:41:33.204055Z",
     "start_time": "2018-04-16T11:41:25.118434Z"
    }
   },
   "outputs": [
    {
     "name": "stdout",
     "output_type": "stream",
     "text": [
      "Calculating overlap metrics: /mnt/stripe/bio/experiments/configs/Y20O20/reports/weak_zinbra@heatmap_overlap_chromhmm.pdf\n"
     ]
    },
    {
     "data": {
      "text/html": [
       "<div>\n",
       "<style scoped>\n",
       "    .dataframe tbody tr th:only-of-type {\n",
       "        vertical-align: middle;\n",
       "    }\n",
       "\n",
       "    .dataframe tbody tr th {\n",
       "        vertical-align: top;\n",
       "    }\n",
       "\n",
       "    .dataframe thead th {\n",
       "        text-align: right;\n",
       "    }\n",
       "</style>\n",
       "<table border=\"1\" class=\"dataframe\">\n",
       "  <thead>\n",
       "    <tr style=\"text-align: right;\">\n",
       "      <th></th>\n",
       "      <th>cd14_encsr907lcd_chromhmm18.hg19.1_TssA.bed</th>\n",
       "      <th>cd14_encsr907lcd_chromhmm18.hg19.2_TssFlnk.bed</th>\n",
       "      <th>cd14_encsr907lcd_chromhmm18.hg19.3_TssFlnkU.bed</th>\n",
       "      <th>cd14_encsr907lcd_chromhmm18.hg19.4_TssFlnkD.bed</th>\n",
       "      <th>cd14_encsr907lcd_chromhmm18.hg19.5_Tx.bed</th>\n",
       "      <th>cd14_encsr907lcd_chromhmm18.hg19.6_TxWk.bed</th>\n",
       "      <th>cd14_encsr907lcd_chromhmm18.hg19.7_EnhG1.bed</th>\n",
       "      <th>cd14_encsr907lcd_chromhmm18.hg19.8_EnhG2.bed</th>\n",
       "      <th>cd14_encsr907lcd_chromhmm18.hg19.9_EnhA1.bed</th>\n",
       "      <th>cd14_encsr907lcd_chromhmm18.hg19.10_EnhA2.bed</th>\n",
       "      <th>cd14_encsr907lcd_chromhmm18.hg19.11_EnhWk.bed</th>\n",
       "      <th>cd14_encsr907lcd_chromhmm18.hg19.12_ZNF_Rpts.bed</th>\n",
       "      <th>cd14_encsr907lcd_chromhmm18.hg19.13_Het.bed</th>\n",
       "      <th>cd14_encsr907lcd_chromhmm18.hg19.14_TssBiv.bed</th>\n",
       "      <th>cd14_encsr907lcd_chromhmm18.hg19.15_EnhBiv.bed</th>\n",
       "      <th>cd14_encsr907lcd_chromhmm18.hg19.16_ReprPC.bed</th>\n",
       "      <th>cd14_encsr907lcd_chromhmm18.hg19.17_ReprPCWk.bed</th>\n",
       "      <th>cd14_encsr907lcd_chromhmm18.hg19.18_Quies.bed</th>\n",
       "    </tr>\n",
       "  </thead>\n",
       "  <tbody>\n",
       "    <tr>\n",
       "      <th>H3K4me1_zinbra_weak_consensus.bed</th>\n",
       "      <td>0.134400</td>\n",
       "      <td>0.064421</td>\n",
       "      <td>0.264563</td>\n",
       "      <td>0.241937</td>\n",
       "      <td>0.122469</td>\n",
       "      <td>0.378137</td>\n",
       "      <td>0.109925</td>\n",
       "      <td>0.044988</td>\n",
       "      <td>0.240953</td>\n",
       "      <td>0.125530</td>\n",
       "      <td>0.483069</td>\n",
       "      <td>0.009915</td>\n",
       "      <td>0.006518</td>\n",
       "      <td>0.074996</td>\n",
       "      <td>0.071155</td>\n",
       "      <td>0.064745</td>\n",
       "      <td>0.089136</td>\n",
       "      <td>0.357096</td>\n",
       "    </tr>\n",
       "    <tr>\n",
       "      <th>H3K4me3_zinbra_weak_consensus.bed</th>\n",
       "      <td>0.463532</td>\n",
       "      <td>0.175973</td>\n",
       "      <td>0.495592</td>\n",
       "      <td>0.305326</td>\n",
       "      <td>0.005299</td>\n",
       "      <td>0.035667</td>\n",
       "      <td>0.007213</td>\n",
       "      <td>0.021596</td>\n",
       "      <td>0.023065</td>\n",
       "      <td>0.008238</td>\n",
       "      <td>0.088076</td>\n",
       "      <td>0.020349</td>\n",
       "      <td>0.005299</td>\n",
       "      <td>0.238757</td>\n",
       "      <td>0.177977</td>\n",
       "      <td>0.386410</td>\n",
       "      <td>0.117508</td>\n",
       "      <td>0.041188</td>\n",
       "    </tr>\n",
       "    <tr>\n",
       "      <th>H3K27ac_zinbra_weak_consensus.bed</th>\n",
       "      <td>0.297422</td>\n",
       "      <td>0.053318</td>\n",
       "      <td>0.586580</td>\n",
       "      <td>0.116992</td>\n",
       "      <td>0.084933</td>\n",
       "      <td>0.044271</td>\n",
       "      <td>0.113331</td>\n",
       "      <td>0.084907</td>\n",
       "      <td>0.366770</td>\n",
       "      <td>0.098530</td>\n",
       "      <td>0.148606</td>\n",
       "      <td>0.005831</td>\n",
       "      <td>0.000549</td>\n",
       "      <td>0.018488</td>\n",
       "      <td>0.004942</td>\n",
       "      <td>0.002197</td>\n",
       "      <td>0.003844</td>\n",
       "      <td>0.014696</td>\n",
       "    </tr>\n",
       "    <tr>\n",
       "      <th>H3K27me3_zinbra_weak_consensus.bed</th>\n",
       "      <td>0.019039</td>\n",
       "      <td>0.034616</td>\n",
       "      <td>0.031969</td>\n",
       "      <td>0.048259</td>\n",
       "      <td>0.006516</td>\n",
       "      <td>0.015170</td>\n",
       "      <td>0.002443</td>\n",
       "      <td>0.000305</td>\n",
       "      <td>0.011505</td>\n",
       "      <td>0.001731</td>\n",
       "      <td>0.049786</td>\n",
       "      <td>0.037161</td>\n",
       "      <td>0.013236</td>\n",
       "      <td>0.424761</td>\n",
       "      <td>0.375076</td>\n",
       "      <td>0.871004</td>\n",
       "      <td>0.347689</td>\n",
       "      <td>0.014254</td>\n",
       "    </tr>\n",
       "    <tr>\n",
       "      <th>H3K36me3_zinbra_weak_consensus.bed</th>\n",
       "      <td>0.180818</td>\n",
       "      <td>0.068628</td>\n",
       "      <td>0.318609</td>\n",
       "      <td>0.221169</td>\n",
       "      <td>0.598319</td>\n",
       "      <td>0.768131</td>\n",
       "      <td>0.336339</td>\n",
       "      <td>0.176309</td>\n",
       "      <td>0.318762</td>\n",
       "      <td>0.272984</td>\n",
       "      <td>0.361559</td>\n",
       "      <td>0.108139</td>\n",
       "      <td>0.026442</td>\n",
       "      <td>0.021093</td>\n",
       "      <td>0.024990</td>\n",
       "      <td>0.040963</td>\n",
       "      <td>0.036454</td>\n",
       "      <td>0.124264</td>\n",
       "    </tr>\n",
       "  </tbody>\n",
       "</table>\n",
       "</div>"
      ],
      "text/plain": [
       "                                    cd14_encsr907lcd_chromhmm18.hg19.1_TssA.bed  \\\n",
       "H3K4me1_zinbra_weak_consensus.bed                                      0.134400   \n",
       "H3K4me3_zinbra_weak_consensus.bed                                      0.463532   \n",
       "H3K27ac_zinbra_weak_consensus.bed                                      0.297422   \n",
       "H3K27me3_zinbra_weak_consensus.bed                                     0.019039   \n",
       "H3K36me3_zinbra_weak_consensus.bed                                     0.180818   \n",
       "\n",
       "                                    cd14_encsr907lcd_chromhmm18.hg19.2_TssFlnk.bed  \\\n",
       "H3K4me1_zinbra_weak_consensus.bed                                         0.064421   \n",
       "H3K4me3_zinbra_weak_consensus.bed                                         0.175973   \n",
       "H3K27ac_zinbra_weak_consensus.bed                                         0.053318   \n",
       "H3K27me3_zinbra_weak_consensus.bed                                        0.034616   \n",
       "H3K36me3_zinbra_weak_consensus.bed                                        0.068628   \n",
       "\n",
       "                                    cd14_encsr907lcd_chromhmm18.hg19.3_TssFlnkU.bed  \\\n",
       "H3K4me1_zinbra_weak_consensus.bed                                          0.264563   \n",
       "H3K4me3_zinbra_weak_consensus.bed                                          0.495592   \n",
       "H3K27ac_zinbra_weak_consensus.bed                                          0.586580   \n",
       "H3K27me3_zinbra_weak_consensus.bed                                         0.031969   \n",
       "H3K36me3_zinbra_weak_consensus.bed                                         0.318609   \n",
       "\n",
       "                                    cd14_encsr907lcd_chromhmm18.hg19.4_TssFlnkD.bed  \\\n",
       "H3K4me1_zinbra_weak_consensus.bed                                          0.241937   \n",
       "H3K4me3_zinbra_weak_consensus.bed                                          0.305326   \n",
       "H3K27ac_zinbra_weak_consensus.bed                                          0.116992   \n",
       "H3K27me3_zinbra_weak_consensus.bed                                         0.048259   \n",
       "H3K36me3_zinbra_weak_consensus.bed                                         0.221169   \n",
       "\n",
       "                                    cd14_encsr907lcd_chromhmm18.hg19.5_Tx.bed  \\\n",
       "H3K4me1_zinbra_weak_consensus.bed                                    0.122469   \n",
       "H3K4me3_zinbra_weak_consensus.bed                                    0.005299   \n",
       "H3K27ac_zinbra_weak_consensus.bed                                    0.084933   \n",
       "H3K27me3_zinbra_weak_consensus.bed                                   0.006516   \n",
       "H3K36me3_zinbra_weak_consensus.bed                                   0.598319   \n",
       "\n",
       "                                    cd14_encsr907lcd_chromhmm18.hg19.6_TxWk.bed  \\\n",
       "H3K4me1_zinbra_weak_consensus.bed                                      0.378137   \n",
       "H3K4me3_zinbra_weak_consensus.bed                                      0.035667   \n",
       "H3K27ac_zinbra_weak_consensus.bed                                      0.044271   \n",
       "H3K27me3_zinbra_weak_consensus.bed                                     0.015170   \n",
       "H3K36me3_zinbra_weak_consensus.bed                                     0.768131   \n",
       "\n",
       "                                    cd14_encsr907lcd_chromhmm18.hg19.7_EnhG1.bed  \\\n",
       "H3K4me1_zinbra_weak_consensus.bed                                       0.109925   \n",
       "H3K4me3_zinbra_weak_consensus.bed                                       0.007213   \n",
       "H3K27ac_zinbra_weak_consensus.bed                                       0.113331   \n",
       "H3K27me3_zinbra_weak_consensus.bed                                      0.002443   \n",
       "H3K36me3_zinbra_weak_consensus.bed                                      0.336339   \n",
       "\n",
       "                                    cd14_encsr907lcd_chromhmm18.hg19.8_EnhG2.bed  \\\n",
       "H3K4me1_zinbra_weak_consensus.bed                                       0.044988   \n",
       "H3K4me3_zinbra_weak_consensus.bed                                       0.021596   \n",
       "H3K27ac_zinbra_weak_consensus.bed                                       0.084907   \n",
       "H3K27me3_zinbra_weak_consensus.bed                                      0.000305   \n",
       "H3K36me3_zinbra_weak_consensus.bed                                      0.176309   \n",
       "\n",
       "                                    cd14_encsr907lcd_chromhmm18.hg19.9_EnhA1.bed  \\\n",
       "H3K4me1_zinbra_weak_consensus.bed                                       0.240953   \n",
       "H3K4me3_zinbra_weak_consensus.bed                                       0.023065   \n",
       "H3K27ac_zinbra_weak_consensus.bed                                       0.366770   \n",
       "H3K27me3_zinbra_weak_consensus.bed                                      0.011505   \n",
       "H3K36me3_zinbra_weak_consensus.bed                                      0.318762   \n",
       "\n",
       "                                    cd14_encsr907lcd_chromhmm18.hg19.10_EnhA2.bed  \\\n",
       "H3K4me1_zinbra_weak_consensus.bed                                        0.125530   \n",
       "H3K4me3_zinbra_weak_consensus.bed                                        0.008238   \n",
       "H3K27ac_zinbra_weak_consensus.bed                                        0.098530   \n",
       "H3K27me3_zinbra_weak_consensus.bed                                       0.001731   \n",
       "H3K36me3_zinbra_weak_consensus.bed                                       0.272984   \n",
       "\n",
       "                                    cd14_encsr907lcd_chromhmm18.hg19.11_EnhWk.bed  \\\n",
       "H3K4me1_zinbra_weak_consensus.bed                                        0.483069   \n",
       "H3K4me3_zinbra_weak_consensus.bed                                        0.088076   \n",
       "H3K27ac_zinbra_weak_consensus.bed                                        0.148606   \n",
       "H3K27me3_zinbra_weak_consensus.bed                                       0.049786   \n",
       "H3K36me3_zinbra_weak_consensus.bed                                       0.361559   \n",
       "\n",
       "                                    cd14_encsr907lcd_chromhmm18.hg19.12_ZNF_Rpts.bed  \\\n",
       "H3K4me1_zinbra_weak_consensus.bed                                           0.009915   \n",
       "H3K4me3_zinbra_weak_consensus.bed                                           0.020349   \n",
       "H3K27ac_zinbra_weak_consensus.bed                                           0.005831   \n",
       "H3K27me3_zinbra_weak_consensus.bed                                          0.037161   \n",
       "H3K36me3_zinbra_weak_consensus.bed                                          0.108139   \n",
       "\n",
       "                                    cd14_encsr907lcd_chromhmm18.hg19.13_Het.bed  \\\n",
       "H3K4me1_zinbra_weak_consensus.bed                                      0.006518   \n",
       "H3K4me3_zinbra_weak_consensus.bed                                      0.005299   \n",
       "H3K27ac_zinbra_weak_consensus.bed                                      0.000549   \n",
       "H3K27me3_zinbra_weak_consensus.bed                                     0.013236   \n",
       "H3K36me3_zinbra_weak_consensus.bed                                     0.026442   \n",
       "\n",
       "                                    cd14_encsr907lcd_chromhmm18.hg19.14_TssBiv.bed  \\\n",
       "H3K4me1_zinbra_weak_consensus.bed                                         0.074996   \n",
       "H3K4me3_zinbra_weak_consensus.bed                                         0.238757   \n",
       "H3K27ac_zinbra_weak_consensus.bed                                         0.018488   \n",
       "H3K27me3_zinbra_weak_consensus.bed                                        0.424761   \n",
       "H3K36me3_zinbra_weak_consensus.bed                                        0.021093   \n",
       "\n",
       "                                    cd14_encsr907lcd_chromhmm18.hg19.15_EnhBiv.bed  \\\n",
       "H3K4me1_zinbra_weak_consensus.bed                                         0.071155   \n",
       "H3K4me3_zinbra_weak_consensus.bed                                         0.177977   \n",
       "H3K27ac_zinbra_weak_consensus.bed                                         0.004942   \n",
       "H3K27me3_zinbra_weak_consensus.bed                                        0.375076   \n",
       "H3K36me3_zinbra_weak_consensus.bed                                        0.024990   \n",
       "\n",
       "                                    cd14_encsr907lcd_chromhmm18.hg19.16_ReprPC.bed  \\\n",
       "H3K4me1_zinbra_weak_consensus.bed                                         0.064745   \n",
       "H3K4me3_zinbra_weak_consensus.bed                                         0.386410   \n",
       "H3K27ac_zinbra_weak_consensus.bed                                         0.002197   \n",
       "H3K27me3_zinbra_weak_consensus.bed                                        0.871004   \n",
       "H3K36me3_zinbra_weak_consensus.bed                                        0.040963   \n",
       "\n",
       "                                    cd14_encsr907lcd_chromhmm18.hg19.17_ReprPCWk.bed  \\\n",
       "H3K4me1_zinbra_weak_consensus.bed                                           0.089136   \n",
       "H3K4me3_zinbra_weak_consensus.bed                                           0.117508   \n",
       "H3K27ac_zinbra_weak_consensus.bed                                           0.003844   \n",
       "H3K27me3_zinbra_weak_consensus.bed                                          0.347689   \n",
       "H3K36me3_zinbra_weak_consensus.bed                                          0.036454   \n",
       "\n",
       "                                    cd14_encsr907lcd_chromhmm18.hg19.18_Quies.bed  \n",
       "H3K4me1_zinbra_weak_consensus.bed                                        0.357096  \n",
       "H3K4me3_zinbra_weak_consensus.bed                                        0.041188  \n",
       "H3K27ac_zinbra_weak_consensus.bed                                        0.014696  \n",
       "H3K27me3_zinbra_weak_consensus.bed                                       0.014254  \n",
       "H3K36me3_zinbra_weak_consensus.bed                                       0.124264  "
      ]
     },
     "metadata": {},
     "output_type": "display_data"
    },
    {
     "data": {
      "image/png": "[encoded data removed]",
      "text/plain": [
       "<matplotlib.figure.Figure at 0x11699d320>"
      ]
     },
     "metadata": {},
     "output_type": "display_data"
    }
   ],
   "source": [
    "result_pdf_path = data_root / \"reports/weak_span@heatmap_overlap_chromhmm.pdf\"\n",
    "\n",
    "build_overlap_metrics(\n",
    "    result_pdf_path, 'Overlap SPAN weak consensus@{}'.format(chromhmm_title),\n",
    "    zinbra_paths, hists, chromhmm_paths, chromhmm_labels, figsize=(18, 6))"
   ]
  },
  {
   "cell_type": "markdown",
   "metadata": {
    "heading_collapsed": true
   },
   "source": [
    "# Golden"
   ]
  },
  {
   "cell_type": "code",
   "execution_count": 35,
   "metadata": {
    "ExecuteTime": {
     "end_time": "2018-04-16T11:44:17.290481Z",
     "start_time": "2018-04-16T11:44:17.281291Z"
    },
    "hidden": true
   },
   "outputs": [
    {
     "data": {
      "text/plain": [
       "[PosixPath('/mnt/stripe/bio/experiments/configs/Y20O20/benchmark/H3K4me1/macs_broad/consensus/H3K4me1_macs_broad_weak_consensus.bed'),\n",
       " PosixPath('/mnt/stripe/bio/experiments/configs/Y20O20/benchmark/H3K4me3/macs_broad/consensus/H3K4me3_macs_broad_weak_consensus.bed'),\n",
       " PosixPath('/mnt/stripe/bio/experiments/configs/Y20O20/benchmark/H3K27ac/macs_broad/consensus/H3K27ac_macs_broad_weak_consensus.bed'),\n",
       " PosixPath('/mnt/stripe/bio/experiments/configs/Y20O20/benchmark/H3K27me3/macs_broad/consensus/H3K27me3_macs_broad_weak_consensus.bed'),\n",
       " PosixPath('/mnt/stripe/bio/experiments/configs/Y20O20/benchmark/H3K36me3/sicer/consensus/H3K36me3_sicer_weak_consensus.bed')]"
      ]
     },
     "execution_count": 35,
     "metadata": {},
     "output_type": "execute_result"
    }
   ],
   "source": [
    "golden_paths = []\n",
    "for h in hists:\n",
    "    folder = \"sicer\" if h == \"H3K36me3\" else \"macs_broad\"\n",
    "    golden_paths.append(data_root / \"benchmark/{0}/{1}/consensus/{0}_{1}_weak_consensus.bed\".format(h, folder))\n",
    "golden_paths"
   ]
  },
  {
   "cell_type": "code",
   "execution_count": 38,
   "metadata": {
    "ExecuteTime": {
     "end_time": "2018-04-16T11:45:04.080335Z",
     "start_time": "2018-04-16T11:44:54.997020Z"
    },
    "hidden": true
   },
   "outputs": [
    {
     "name": "stdout",
     "output_type": "stream",
     "text": [
      "Calculating overlap metrics: /mnt/stripe/bio/experiments/configs/Y20O20/reports/heatmap_overlap_chromhmm@weak_golden.pdf\n"
     ]
    },
    {
     "data": {
      "text/html": [
       "<div>\n",
       "<style scoped>\n",
       "    .dataframe tbody tr th:only-of-type {\n",
       "        vertical-align: middle;\n",
       "    }\n",
       "\n",
       "    .dataframe tbody tr th {\n",
       "        vertical-align: top;\n",
       "    }\n",
       "\n",
       "    .dataframe thead th {\n",
       "        text-align: right;\n",
       "    }\n",
       "</style>\n",
       "<table border=\"1\" class=\"dataframe\">\n",
       "  <thead>\n",
       "    <tr style=\"text-align: right;\">\n",
       "      <th></th>\n",
       "      <th>H3K4me1_macs_broad_weak_consensus.bed</th>\n",
       "      <th>H3K4me3_macs_broad_weak_consensus.bed</th>\n",
       "      <th>H3K27ac_macs_broad_weak_consensus.bed</th>\n",
       "      <th>H3K27me3_macs_broad_weak_consensus.bed</th>\n",
       "      <th>H3K36me3_sicer_weak_consensus.bed</th>\n",
       "    </tr>\n",
       "  </thead>\n",
       "  <tbody>\n",
       "    <tr>\n",
       "      <th>cd14_encsr907lcd_chromhmm18.hg19.1_TssA.bed</th>\n",
       "      <td>0.672430</td>\n",
       "      <td>0.817872</td>\n",
       "      <td>0.916961</td>\n",
       "      <td>0.000992</td>\n",
       "      <td>0.674785</td>\n",
       "    </tr>\n",
       "    <tr>\n",
       "      <th>cd14_encsr907lcd_chromhmm18.hg19.2_TssFlnk.bed</th>\n",
       "      <td>0.581967</td>\n",
       "      <td>0.475161</td>\n",
       "      <td>0.344511</td>\n",
       "      <td>0.006582</td>\n",
       "      <td>0.335072</td>\n",
       "    </tr>\n",
       "    <tr>\n",
       "      <th>cd14_encsr907lcd_chromhmm18.hg19.3_TssFlnkU.bed</th>\n",
       "      <td>0.965215</td>\n",
       "      <td>0.408447</td>\n",
       "      <td>0.825907</td>\n",
       "      <td>0.000592</td>\n",
       "      <td>0.713427</td>\n",
       "    </tr>\n",
       "    <tr>\n",
       "      <th>cd14_encsr907lcd_chromhmm18.hg19.4_TssFlnkD.bed</th>\n",
       "      <td>0.971358</td>\n",
       "      <td>0.161973</td>\n",
       "      <td>0.191829</td>\n",
       "      <td>0.002110</td>\n",
       "      <td>0.551066</td>\n",
       "    </tr>\n",
       "    <tr>\n",
       "      <th>cd14_encsr907lcd_chromhmm18.hg19.5_Tx.bed</th>\n",
       "      <td>0.202313</td>\n",
       "      <td>0.000307</td>\n",
       "      <td>0.041695</td>\n",
       "      <td>0.000307</td>\n",
       "      <td>0.992085</td>\n",
       "    </tr>\n",
       "  </tbody>\n",
       "</table>\n",
       "</div>"
      ],
      "text/plain": [
       "                                                 H3K4me1_macs_broad_weak_consensus.bed  \\\n",
       "cd14_encsr907lcd_chromhmm18.hg19.1_TssA.bed                                   0.672430   \n",
       "cd14_encsr907lcd_chromhmm18.hg19.2_TssFlnk.bed                                0.581967   \n",
       "cd14_encsr907lcd_chromhmm18.hg19.3_TssFlnkU.bed                               0.965215   \n",
       "cd14_encsr907lcd_chromhmm18.hg19.4_TssFlnkD.bed                               0.971358   \n",
       "cd14_encsr907lcd_chromhmm18.hg19.5_Tx.bed                                     0.202313   \n",
       "\n",
       "                                                 H3K4me3_macs_broad_weak_consensus.bed  \\\n",
       "cd14_encsr907lcd_chromhmm18.hg19.1_TssA.bed                                   0.817872   \n",
       "cd14_encsr907lcd_chromhmm18.hg19.2_TssFlnk.bed                                0.475161   \n",
       "cd14_encsr907lcd_chromhmm18.hg19.3_TssFlnkU.bed                               0.408447   \n",
       "cd14_encsr907lcd_chromhmm18.hg19.4_TssFlnkD.bed                               0.161973   \n",
       "cd14_encsr907lcd_chromhmm18.hg19.5_Tx.bed                                     0.000307   \n",
       "\n",
       "                                                 H3K27ac_macs_broad_weak_consensus.bed  \\\n",
       "cd14_encsr907lcd_chromhmm18.hg19.1_TssA.bed                                   0.916961   \n",
       "cd14_encsr907lcd_chromhmm18.hg19.2_TssFlnk.bed                                0.344511   \n",
       "cd14_encsr907lcd_chromhmm18.hg19.3_TssFlnkU.bed                               0.825907   \n",
       "cd14_encsr907lcd_chromhmm18.hg19.4_TssFlnkD.bed                               0.191829   \n",
       "cd14_encsr907lcd_chromhmm18.hg19.5_Tx.bed                                     0.041695   \n",
       "\n",
       "                                                 H3K27me3_macs_broad_weak_consensus.bed  \\\n",
       "cd14_encsr907lcd_chromhmm18.hg19.1_TssA.bed                                    0.000992   \n",
       "cd14_encsr907lcd_chromhmm18.hg19.2_TssFlnk.bed                                 0.006582   \n",
       "cd14_encsr907lcd_chromhmm18.hg19.3_TssFlnkU.bed                                0.000592   \n",
       "cd14_encsr907lcd_chromhmm18.hg19.4_TssFlnkD.bed                                0.002110   \n",
       "cd14_encsr907lcd_chromhmm18.hg19.5_Tx.bed                                      0.000307   \n",
       "\n",
       "                                                 H3K36me3_sicer_weak_consensus.bed  \n",
       "cd14_encsr907lcd_chromhmm18.hg19.1_TssA.bed                               0.674785  \n",
       "cd14_encsr907lcd_chromhmm18.hg19.2_TssFlnk.bed                            0.335072  \n",
       "cd14_encsr907lcd_chromhmm18.hg19.3_TssFlnkU.bed                           0.713427  \n",
       "cd14_encsr907lcd_chromhmm18.hg19.4_TssFlnkD.bed                           0.551066  \n",
       "cd14_encsr907lcd_chromhmm18.hg19.5_Tx.bed                                 0.992085  "
      ]
     },
     "metadata": {},
     "output_type": "display_data"
    },
    {
     "data": {
      "image/png": "[encoded data removed]",
      "text/plain": [
       "<matplotlib.figure.Figure at 0x1a21b662b0>"
      ]
     },
     "metadata": {},
     "output_type": "display_data"
    }
   ],
   "source": [
    "result_pdf_path = data_root / \"reports/heatmap_overlap_chromhmm@weak_golden.pdf\"\n",
    "\n",
    "build_overlap_metrics(\n",
    "    result_pdf_path, 'Overlap GOLDEN weak consensus@{}'.format(chromhmm_title),\n",
    "    chromhmm_paths, chromhmm_labels, golden_paths, hists, \n",
    "    transpose=True, figsize=(18, 6))"
   ]
  },
  {
   "cell_type": "code",
   "execution_count": 39,
   "metadata": {
    "ExecuteTime": {
     "end_time": "2018-04-16T11:45:52.019576Z",
     "start_time": "2018-04-16T11:45:44.053571Z"
    },
    "hidden": true
   },
   "outputs": [
    {
     "name": "stdout",
     "output_type": "stream",
     "text": [
      "Calculating overlap metrics: /mnt/stripe/bio/experiments/configs/Y20O20/reports/weak_golden@heatmap_overlap_chromhmm.pdf\n"
     ]
    },
    {
     "data": {
      "text/html": [
       "<div>\n",
       "<style scoped>\n",
       "    .dataframe tbody tr th:only-of-type {\n",
       "        vertical-align: middle;\n",
       "    }\n",
       "\n",
       "    .dataframe tbody tr th {\n",
       "        vertical-align: top;\n",
       "    }\n",
       "\n",
       "    .dataframe thead th {\n",
       "        text-align: right;\n",
       "    }\n",
       "</style>\n",
       "<table border=\"1\" class=\"dataframe\">\n",
       "  <thead>\n",
       "    <tr style=\"text-align: right;\">\n",
       "      <th></th>\n",
       "      <th>cd14_encsr907lcd_chromhmm18.hg19.1_TssA.bed</th>\n",
       "      <th>cd14_encsr907lcd_chromhmm18.hg19.2_TssFlnk.bed</th>\n",
       "      <th>cd14_encsr907lcd_chromhmm18.hg19.3_TssFlnkU.bed</th>\n",
       "      <th>cd14_encsr907lcd_chromhmm18.hg19.4_TssFlnkD.bed</th>\n",
       "      <th>cd14_encsr907lcd_chromhmm18.hg19.5_Tx.bed</th>\n",
       "      <th>cd14_encsr907lcd_chromhmm18.hg19.6_TxWk.bed</th>\n",
       "      <th>cd14_encsr907lcd_chromhmm18.hg19.7_EnhG1.bed</th>\n",
       "      <th>cd14_encsr907lcd_chromhmm18.hg19.8_EnhG2.bed</th>\n",
       "      <th>cd14_encsr907lcd_chromhmm18.hg19.9_EnhA1.bed</th>\n",
       "      <th>cd14_encsr907lcd_chromhmm18.hg19.10_EnhA2.bed</th>\n",
       "      <th>cd14_encsr907lcd_chromhmm18.hg19.11_EnhWk.bed</th>\n",
       "      <th>cd14_encsr907lcd_chromhmm18.hg19.12_ZNF_Rpts.bed</th>\n",
       "      <th>cd14_encsr907lcd_chromhmm18.hg19.13_Het.bed</th>\n",
       "      <th>cd14_encsr907lcd_chromhmm18.hg19.14_TssBiv.bed</th>\n",
       "      <th>cd14_encsr907lcd_chromhmm18.hg19.15_EnhBiv.bed</th>\n",
       "      <th>cd14_encsr907lcd_chromhmm18.hg19.16_ReprPC.bed</th>\n",
       "      <th>cd14_encsr907lcd_chromhmm18.hg19.17_ReprPCWk.bed</th>\n",
       "      <th>cd14_encsr907lcd_chromhmm18.hg19.18_Quies.bed</th>\n",
       "    </tr>\n",
       "  </thead>\n",
       "  <tbody>\n",
       "    <tr>\n",
       "      <th>H3K4me1_macs_broad_weak_consensus.bed</th>\n",
       "      <td>0.089200</td>\n",
       "      <td>0.037639</td>\n",
       "      <td>0.264395</td>\n",
       "      <td>0.210693</td>\n",
       "      <td>0.073323</td>\n",
       "      <td>0.390551</td>\n",
       "      <td>0.099326</td>\n",
       "      <td>0.038449</td>\n",
       "      <td>0.216435</td>\n",
       "      <td>0.118652</td>\n",
       "      <td>0.458756</td>\n",
       "      <td>0.005649</td>\n",
       "      <td>0.004351</td>\n",
       "      <td>0.061990</td>\n",
       "      <td>0.061771</td>\n",
       "      <td>0.057893</td>\n",
       "      <td>0.073635</td>\n",
       "      <td>0.295205</td>\n",
       "    </tr>\n",
       "    <tr>\n",
       "      <th>H3K4me3_macs_broad_weak_consensus.bed</th>\n",
       "      <td>0.436829</td>\n",
       "      <td>0.144240</td>\n",
       "      <td>0.470875</td>\n",
       "      <td>0.179182</td>\n",
       "      <td>0.000488</td>\n",
       "      <td>0.001871</td>\n",
       "      <td>0.000366</td>\n",
       "      <td>0.010739</td>\n",
       "      <td>0.001261</td>\n",
       "      <td>0.001749</td>\n",
       "      <td>0.004068</td>\n",
       "      <td>0.005654</td>\n",
       "      <td>0.000773</td>\n",
       "      <td>0.224780</td>\n",
       "      <td>0.101774</td>\n",
       "      <td>0.324886</td>\n",
       "      <td>0.002807</td>\n",
       "      <td>0.005369</td>\n",
       "    </tr>\n",
       "    <tr>\n",
       "      <th>H3K27ac_macs_broad_weak_consensus.bed</th>\n",
       "      <td>0.293888</td>\n",
       "      <td>0.064586</td>\n",
       "      <td>0.635813</td>\n",
       "      <td>0.135602</td>\n",
       "      <td>0.048433</td>\n",
       "      <td>0.040963</td>\n",
       "      <td>0.077077</td>\n",
       "      <td>0.084572</td>\n",
       "      <td>0.417172</td>\n",
       "      <td>0.101121</td>\n",
       "      <td>0.158458</td>\n",
       "      <td>0.004279</td>\n",
       "      <td>0.000915</td>\n",
       "      <td>0.021174</td>\n",
       "      <td>0.004848</td>\n",
       "      <td>0.002053</td>\n",
       "      <td>0.004106</td>\n",
       "      <td>0.023796</td>\n",
       "    </tr>\n",
       "    <tr>\n",
       "      <th>H3K27me3_macs_broad_weak_consensus.bed</th>\n",
       "      <td>0.000712</td>\n",
       "      <td>0.002903</td>\n",
       "      <td>0.001534</td>\n",
       "      <td>0.003944</td>\n",
       "      <td>0.000822</td>\n",
       "      <td>0.000986</td>\n",
       "      <td>0.000110</td>\n",
       "      <td>0.000055</td>\n",
       "      <td>0.000000</td>\n",
       "      <td>0.000000</td>\n",
       "      <td>0.002246</td>\n",
       "      <td>0.011010</td>\n",
       "      <td>0.001534</td>\n",
       "      <td>0.287412</td>\n",
       "      <td>0.247590</td>\n",
       "      <td>0.898225</td>\n",
       "      <td>0.062007</td>\n",
       "      <td>0.003287</td>\n",
       "    </tr>\n",
       "    <tr>\n",
       "      <th>H3K36me3_sicer_weak_consensus.bed</th>\n",
       "      <td>0.320086</td>\n",
       "      <td>0.117576</td>\n",
       "      <td>0.493257</td>\n",
       "      <td>0.409093</td>\n",
       "      <td>0.471734</td>\n",
       "      <td>0.754995</td>\n",
       "      <td>0.256179</td>\n",
       "      <td>0.131282</td>\n",
       "      <td>0.414213</td>\n",
       "      <td>0.295536</td>\n",
       "      <td>0.584136</td>\n",
       "      <td>0.141520</td>\n",
       "      <td>0.078384</td>\n",
       "      <td>0.072439</td>\n",
       "      <td>0.073485</td>\n",
       "      <td>0.108659</td>\n",
       "      <td>0.158584</td>\n",
       "      <td>0.533330</td>\n",
       "    </tr>\n",
       "  </tbody>\n",
       "</table>\n",
       "</div>"
      ],
      "text/plain": [
       "                                        cd14_encsr907lcd_chromhmm18.hg19.1_TssA.bed  \\\n",
       "H3K4me1_macs_broad_weak_consensus.bed                                      0.089200   \n",
       "H3K4me3_macs_broad_weak_consensus.bed                                      0.436829   \n",
       "H3K27ac_macs_broad_weak_consensus.bed                                      0.293888   \n",
       "H3K27me3_macs_broad_weak_consensus.bed                                     0.000712   \n",
       "H3K36me3_sicer_weak_consensus.bed                                          0.320086   \n",
       "\n",
       "                                        cd14_encsr907lcd_chromhmm18.hg19.2_TssFlnk.bed  \\\n",
       "H3K4me1_macs_broad_weak_consensus.bed                                         0.037639   \n",
       "H3K4me3_macs_broad_weak_consensus.bed                                         0.144240   \n",
       "H3K27ac_macs_broad_weak_consensus.bed                                         0.064586   \n",
       "H3K27me3_macs_broad_weak_consensus.bed                                        0.002903   \n",
       "H3K36me3_sicer_weak_consensus.bed                                             0.117576   \n",
       "\n",
       "                                        cd14_encsr907lcd_chromhmm18.hg19.3_TssFlnkU.bed  \\\n",
       "H3K4me1_macs_broad_weak_consensus.bed                                          0.264395   \n",
       "H3K4me3_macs_broad_weak_consensus.bed                                          0.470875   \n",
       "H3K27ac_macs_broad_weak_consensus.bed                                          0.635813   \n",
       "H3K27me3_macs_broad_weak_consensus.bed                                         0.001534   \n",
       "H3K36me3_sicer_weak_consensus.bed                                              0.493257   \n",
       "\n",
       "                                        cd14_encsr907lcd_chromhmm18.hg19.4_TssFlnkD.bed  \\\n",
       "H3K4me1_macs_broad_weak_consensus.bed                                          0.210693   \n",
       "H3K4me3_macs_broad_weak_consensus.bed                                          0.179182   \n",
       "H3K27ac_macs_broad_weak_consensus.bed                                          0.135602   \n",
       "H3K27me3_macs_broad_weak_consensus.bed                                         0.003944   \n",
       "H3K36me3_sicer_weak_consensus.bed                                              0.409093   \n",
       "\n",
       "                                        cd14_encsr907lcd_chromhmm18.hg19.5_Tx.bed  \\\n",
       "H3K4me1_macs_broad_weak_consensus.bed                                    0.073323   \n",
       "H3K4me3_macs_broad_weak_consensus.bed                                    0.000488   \n",
       "H3K27ac_macs_broad_weak_consensus.bed                                    0.048433   \n",
       "H3K27me3_macs_broad_weak_consensus.bed                                   0.000822   \n",
       "H3K36me3_sicer_weak_consensus.bed                                        0.471734   \n",
       "\n",
       "                                        cd14_encsr907lcd_chromhmm18.hg19.6_TxWk.bed  \\\n",
       "H3K4me1_macs_broad_weak_consensus.bed                                      0.390551   \n",
       "H3K4me3_macs_broad_weak_consensus.bed                                      0.001871   \n",
       "H3K27ac_macs_broad_weak_consensus.bed                                      0.040963   \n",
       "H3K27me3_macs_broad_weak_consensus.bed                                     0.000986   \n",
       "H3K36me3_sicer_weak_consensus.bed                                          0.754995   \n",
       "\n",
       "                                        cd14_encsr907lcd_chromhmm18.hg19.7_EnhG1.bed  \\\n",
       "H3K4me1_macs_broad_weak_consensus.bed                                       0.099326   \n",
       "H3K4me3_macs_broad_weak_consensus.bed                                       0.000366   \n",
       "H3K27ac_macs_broad_weak_consensus.bed                                       0.077077   \n",
       "H3K27me3_macs_broad_weak_consensus.bed                                      0.000110   \n",
       "H3K36me3_sicer_weak_consensus.bed                                           0.256179   \n",
       "\n",
       "                                        cd14_encsr907lcd_chromhmm18.hg19.8_EnhG2.bed  \\\n",
       "H3K4me1_macs_broad_weak_consensus.bed                                       0.038449   \n",
       "H3K4me3_macs_broad_weak_consensus.bed                                       0.010739   \n",
       "H3K27ac_macs_broad_weak_consensus.bed                                       0.084572   \n",
       "H3K27me3_macs_broad_weak_consensus.bed                                      0.000055   \n",
       "H3K36me3_sicer_weak_consensus.bed                                           0.131282   \n",
       "\n",
       "                                        cd14_encsr907lcd_chromhmm18.hg19.9_EnhA1.bed  \\\n",
       "H3K4me1_macs_broad_weak_consensus.bed                                       0.216435   \n",
       "H3K4me3_macs_broad_weak_consensus.bed                                       0.001261   \n",
       "H3K27ac_macs_broad_weak_consensus.bed                                       0.417172   \n",
       "H3K27me3_macs_broad_weak_consensus.bed                                      0.000000   \n",
       "H3K36me3_sicer_weak_consensus.bed                                           0.414213   \n",
       "\n",
       "                                        cd14_encsr907lcd_chromhmm18.hg19.10_EnhA2.bed  \\\n",
       "H3K4me1_macs_broad_weak_consensus.bed                                        0.118652   \n",
       "H3K4me3_macs_broad_weak_consensus.bed                                        0.001749   \n",
       "H3K27ac_macs_broad_weak_consensus.bed                                        0.101121   \n",
       "H3K27me3_macs_broad_weak_consensus.bed                                       0.000000   \n",
       "H3K36me3_sicer_weak_consensus.bed                                            0.295536   \n",
       "\n",
       "                                        cd14_encsr907lcd_chromhmm18.hg19.11_EnhWk.bed  \\\n",
       "H3K4me1_macs_broad_weak_consensus.bed                                        0.458756   \n",
       "H3K4me3_macs_broad_weak_consensus.bed                                        0.004068   \n",
       "H3K27ac_macs_broad_weak_consensus.bed                                        0.158458   \n",
       "H3K27me3_macs_broad_weak_consensus.bed                                       0.002246   \n",
       "H3K36me3_sicer_weak_consensus.bed                                            0.584136   \n",
       "\n",
       "                                        cd14_encsr907lcd_chromhmm18.hg19.12_ZNF_Rpts.bed  \\\n",
       "H3K4me1_macs_broad_weak_consensus.bed                                           0.005649   \n",
       "H3K4me3_macs_broad_weak_consensus.bed                                           0.005654   \n",
       "H3K27ac_macs_broad_weak_consensus.bed                                           0.004279   \n",
       "H3K27me3_macs_broad_weak_consensus.bed                                          0.011010   \n",
       "H3K36me3_sicer_weak_consensus.bed                                               0.141520   \n",
       "\n",
       "                                        cd14_encsr907lcd_chromhmm18.hg19.13_Het.bed  \\\n",
       "H3K4me1_macs_broad_weak_consensus.bed                                      0.004351   \n",
       "H3K4me3_macs_broad_weak_consensus.bed                                      0.000773   \n",
       "H3K27ac_macs_broad_weak_consensus.bed                                      0.000915   \n",
       "H3K27me3_macs_broad_weak_consensus.bed                                     0.001534   \n",
       "H3K36me3_sicer_weak_consensus.bed                                          0.078384   \n",
       "\n",
       "                                        cd14_encsr907lcd_chromhmm18.hg19.14_TssBiv.bed  \\\n",
       "H3K4me1_macs_broad_weak_consensus.bed                                         0.061990   \n",
       "H3K4me3_macs_broad_weak_consensus.bed                                         0.224780   \n",
       "H3K27ac_macs_broad_weak_consensus.bed                                         0.021174   \n",
       "H3K27me3_macs_broad_weak_consensus.bed                                        0.287412   \n",
       "H3K36me3_sicer_weak_consensus.bed                                             0.072439   \n",
       "\n",
       "                                        cd14_encsr907lcd_chromhmm18.hg19.15_EnhBiv.bed  \\\n",
       "H3K4me1_macs_broad_weak_consensus.bed                                         0.061771   \n",
       "H3K4me3_macs_broad_weak_consensus.bed                                         0.101774   \n",
       "H3K27ac_macs_broad_weak_consensus.bed                                         0.004848   \n",
       "H3K27me3_macs_broad_weak_consensus.bed                                        0.247590   \n",
       "H3K36me3_sicer_weak_consensus.bed                                             0.073485   \n",
       "\n",
       "                                        cd14_encsr907lcd_chromhmm18.hg19.16_ReprPC.bed  \\\n",
       "H3K4me1_macs_broad_weak_consensus.bed                                         0.057893   \n",
       "H3K4me3_macs_broad_weak_consensus.bed                                         0.324886   \n",
       "H3K27ac_macs_broad_weak_consensus.bed                                         0.002053   \n",
       "H3K27me3_macs_broad_weak_consensus.bed                                        0.898225   \n",
       "H3K36me3_sicer_weak_consensus.bed                                             0.108659   \n",
       "\n",
       "                                        cd14_encsr907lcd_chromhmm18.hg19.17_ReprPCWk.bed  \\\n",
       "H3K4me1_macs_broad_weak_consensus.bed                                           0.073635   \n",
       "H3K4me3_macs_broad_weak_consensus.bed                                           0.002807   \n",
       "H3K27ac_macs_broad_weak_consensus.bed                                           0.004106   \n",
       "H3K27me3_macs_broad_weak_consensus.bed                                          0.062007   \n",
       "H3K36me3_sicer_weak_consensus.bed                                               0.158584   \n",
       "\n",
       "                                        cd14_encsr907lcd_chromhmm18.hg19.18_Quies.bed  \n",
       "H3K4me1_macs_broad_weak_consensus.bed                                        0.295205  \n",
       "H3K4me3_macs_broad_weak_consensus.bed                                        0.005369  \n",
       "H3K27ac_macs_broad_weak_consensus.bed                                        0.023796  \n",
       "H3K27me3_macs_broad_weak_consensus.bed                                       0.003287  \n",
       "H3K36me3_sicer_weak_consensus.bed                                            0.533330  "
      ]
     },
     "metadata": {},
     "output_type": "display_data"
    },
    {
     "data": {
      "image/png": "[encoded data removed]",
      "text/plain": [
       "<matplotlib.figure.Figure at 0x1169e3f60>"
      ]
     },
     "metadata": {},
     "output_type": "display_data"
    }
   ],
   "source": [
    "result_pdf_path = data_root / \"reports/weak_golden@heatmap_overlap_chromhmm.pdf\"\n",
    "\n",
    "build_overlap_metrics(\n",
    "    result_pdf_path, 'Overlap GOLDEN weak consensus@{}'.format(chromhmm_title),\n",
    "    golden_paths, hists, chromhmm_paths, chromhmm_labels, figsize=(18, 6))"
   ]
  },
  {
   "cell_type": "markdown",
   "metadata": {
    "heading_collapsed": true
   },
   "source": [
    "# Golden & Zinbra"
   ]
  },
  {
   "cell_type": "code",
   "execution_count": 13,
   "metadata": {
    "ExecuteTime": {
     "end_time": "2018-04-16T10:55:45.022089Z",
     "start_time": "2018-04-16T10:55:45.015334Z"
    },
    "collapsed": true,
    "hidden": true
   },
   "outputs": [],
   "source": [
    "tools_paths = []\n",
    "tools_labels = []\n",
    "for h in hists:\n",
    "    for folder in [\"zinbra\", \"sicer\" if h == \"H3K36me3\" else \"macs_broad\"]:\n",
    "        tools_paths.append(data_root / \"benchmark/{0}/{1}/consensus/{0}_{1}_weak_consensus.bed\".format(h, folder))\n",
    "        tool = \"MACS2\" if folder == \"macs_broad\" else folder.upper()\n",
    "        tools_labels.append(\"{}: {}\".format(tool, h))"
   ]
  },
  {
   "cell_type": "code",
   "execution_count": 14,
   "metadata": {
    "ExecuteTime": {
     "end_time": "2018-04-16T10:55:46.541292Z",
     "start_time": "2018-04-16T10:55:46.535912Z"
    },
    "hidden": true
   },
   "outputs": [
    {
     "data": {
      "text/plain": [
       "[(PosixPath('/mnt/stripe/bio/experiments/configs/Y20O20/benchmark/H3K4me1/zinbra/consensus/H3K4me1_zinbra_weak_consensus.bed'),\n",
       "  'ZINBRA: H3K4me1'),\n",
       " (PosixPath('/mnt/stripe/bio/experiments/configs/Y20O20/benchmark/H3K4me1/macs_broad/consensus/H3K4me1_macs_broad_weak_consensus.bed'),\n",
       "  'MACS2: H3K4me1'),\n",
       " (PosixPath('/mnt/stripe/bio/experiments/configs/Y20O20/benchmark/H3K4me3/zinbra/consensus/H3K4me3_zinbra_weak_consensus.bed'),\n",
       "  'ZINBRA: H3K4me3'),\n",
       " (PosixPath('/mnt/stripe/bio/experiments/configs/Y20O20/benchmark/H3K4me3/macs_broad/consensus/H3K4me3_macs_broad_weak_consensus.bed'),\n",
       "  'MACS2: H3K4me3'),\n",
       " (PosixPath('/mnt/stripe/bio/experiments/configs/Y20O20/benchmark/H3K27ac/zinbra/consensus/H3K27ac_zinbra_weak_consensus.bed'),\n",
       "  'ZINBRA: H3K27ac'),\n",
       " (PosixPath('/mnt/stripe/bio/experiments/configs/Y20O20/benchmark/H3K27ac/macs_broad/consensus/H3K27ac_macs_broad_weak_consensus.bed'),\n",
       "  'MACS2: H3K27ac'),\n",
       " (PosixPath('/mnt/stripe/bio/experiments/configs/Y20O20/benchmark/H3K27me3/zinbra/consensus/H3K27me3_zinbra_weak_consensus.bed'),\n",
       "  'ZINBRA: H3K27me3'),\n",
       " (PosixPath('/mnt/stripe/bio/experiments/configs/Y20O20/benchmark/H3K27me3/macs_broad/consensus/H3K27me3_macs_broad_weak_consensus.bed'),\n",
       "  'MACS2: H3K27me3'),\n",
       " (PosixPath('/mnt/stripe/bio/experiments/configs/Y20O20/benchmark/H3K36me3/zinbra/consensus/H3K36me3_zinbra_weak_consensus.bed'),\n",
       "  'ZINBRA: H3K36me3'),\n",
       " (PosixPath('/mnt/stripe/bio/experiments/configs/Y20O20/benchmark/H3K36me3/sicer/consensus/H3K36me3_sicer_weak_consensus.bed'),\n",
       "  'SICER: H3K36me3')]"
      ]
     },
     "execution_count": 14,
     "metadata": {},
     "output_type": "execute_result"
    }
   ],
   "source": [
    "list(zip(tools_paths, tools_labels))"
   ]
  },
  {
   "cell_type": "code",
   "execution_count": 43,
   "metadata": {
    "ExecuteTime": {
     "end_time": "2018-04-16T11:48:02.872658Z",
     "start_time": "2018-04-16T11:47:47.854459Z"
    },
    "hidden": true
   },
   "outputs": [
    {
     "name": "stdout",
     "output_type": "stream",
     "text": [
      "Calculating overlap metrics: /mnt/stripe/bio/experiments/configs/Y20O20/reports/heatmap_overlap_chromhmm@weak_tools.pdf\n"
     ]
    },
    {
     "data": {
      "text/html": [
       "<div>\n",
       "<style scoped>\n",
       "    .dataframe tbody tr th:only-of-type {\n",
       "        vertical-align: middle;\n",
       "    }\n",
       "\n",
       "    .dataframe tbody tr th {\n",
       "        vertical-align: top;\n",
       "    }\n",
       "\n",
       "    .dataframe thead th {\n",
       "        text-align: right;\n",
       "    }\n",
       "</style>\n",
       "<table border=\"1\" class=\"dataframe\">\n",
       "  <thead>\n",
       "    <tr style=\"text-align: right;\">\n",
       "      <th></th>\n",
       "      <th>H3K4me1_zinbra_weak_consensus.bed</th>\n",
       "      <th>H3K4me1_macs_broad_weak_consensus.bed</th>\n",
       "      <th>H3K4me3_zinbra_weak_consensus.bed</th>\n",
       "      <th>H3K4me3_macs_broad_weak_consensus.bed</th>\n",
       "      <th>H3K27ac_zinbra_weak_consensus.bed</th>\n",
       "      <th>H3K27ac_macs_broad_weak_consensus.bed</th>\n",
       "      <th>H3K27me3_zinbra_weak_consensus.bed</th>\n",
       "      <th>H3K27me3_macs_broad_weak_consensus.bed</th>\n",
       "      <th>H3K36me3_zinbra_weak_consensus.bed</th>\n",
       "      <th>H3K36me3_sicer_weak_consensus.bed</th>\n",
       "    </tr>\n",
       "  </thead>\n",
       "  <tbody>\n",
       "    <tr>\n",
       "      <th>cd14_encsr907lcd_chromhmm18.hg19.1_TssA.bed</th>\n",
       "      <td>0.909339</td>\n",
       "      <td>0.672430</td>\n",
       "      <td>0.827167</td>\n",
       "      <td>0.817872</td>\n",
       "      <td>0.894714</td>\n",
       "      <td>0.916961</td>\n",
       "      <td>0.014687</td>\n",
       "      <td>0.000992</td>\n",
       "      <td>0.308793</td>\n",
       "      <td>0.674785</td>\n",
       "    </tr>\n",
       "    <tr>\n",
       "      <th>cd14_encsr907lcd_chromhmm18.hg19.2_TssFlnk.bed</th>\n",
       "      <td>0.742424</td>\n",
       "      <td>0.581967</td>\n",
       "      <td>0.551416</td>\n",
       "      <td>0.475161</td>\n",
       "      <td>0.271610</td>\n",
       "      <td>0.344511</td>\n",
       "      <td>0.049305</td>\n",
       "      <td>0.006582</td>\n",
       "      <td>0.149404</td>\n",
       "      <td>0.335072</td>\n",
       "    </tr>\n",
       "    <tr>\n",
       "      <th>cd14_encsr907lcd_chromhmm18.hg19.3_TssFlnkU.bed</th>\n",
       "      <td>0.980047</td>\n",
       "      <td>0.965215</td>\n",
       "      <td>0.434683</td>\n",
       "      <td>0.408447</td>\n",
       "      <td>0.801024</td>\n",
       "      <td>0.825907</td>\n",
       "      <td>0.010325</td>\n",
       "      <td>0.000592</td>\n",
       "      <td>0.356989</td>\n",
       "      <td>0.713427</td>\n",
       "    </tr>\n",
       "    <tr>\n",
       "      <th>cd14_encsr907lcd_chromhmm18.hg19.4_TssFlnkD.bed</th>\n",
       "      <td>0.968961</td>\n",
       "      <td>0.971358</td>\n",
       "      <td>0.284436</td>\n",
       "      <td>0.161973</td>\n",
       "      <td>0.171467</td>\n",
       "      <td>0.191829</td>\n",
       "      <td>0.022856</td>\n",
       "      <td>0.002110</td>\n",
       "      <td>0.222741</td>\n",
       "      <td>0.551066</td>\n",
       "    </tr>\n",
       "    <tr>\n",
       "      <th>cd14_encsr907lcd_chromhmm18.hg19.5_Tx.bed</th>\n",
       "      <td>0.287179</td>\n",
       "      <td>0.202313</td>\n",
       "      <td>0.003400</td>\n",
       "      <td>0.000307</td>\n",
       "      <td>0.061511</td>\n",
       "      <td>0.041695</td>\n",
       "      <td>0.002146</td>\n",
       "      <td>0.000307</td>\n",
       "      <td>0.972324</td>\n",
       "      <td>0.992085</td>\n",
       "    </tr>\n",
       "  </tbody>\n",
       "</table>\n",
       "</div>"
      ],
      "text/plain": [
       "                                                 H3K4me1_zinbra_weak_consensus.bed  \\\n",
       "cd14_encsr907lcd_chromhmm18.hg19.1_TssA.bed                               0.909339   \n",
       "cd14_encsr907lcd_chromhmm18.hg19.2_TssFlnk.bed                            0.742424   \n",
       "cd14_encsr907lcd_chromhmm18.hg19.3_TssFlnkU.bed                           0.980047   \n",
       "cd14_encsr907lcd_chromhmm18.hg19.4_TssFlnkD.bed                           0.968961   \n",
       "cd14_encsr907lcd_chromhmm18.hg19.5_Tx.bed                                 0.287179   \n",
       "\n",
       "                                                 H3K4me1_macs_broad_weak_consensus.bed  \\\n",
       "cd14_encsr907lcd_chromhmm18.hg19.1_TssA.bed                                   0.672430   \n",
       "cd14_encsr907lcd_chromhmm18.hg19.2_TssFlnk.bed                                0.581967   \n",
       "cd14_encsr907lcd_chromhmm18.hg19.3_TssFlnkU.bed                               0.965215   \n",
       "cd14_encsr907lcd_chromhmm18.hg19.4_TssFlnkD.bed                               0.971358   \n",
       "cd14_encsr907lcd_chromhmm18.hg19.5_Tx.bed                                     0.202313   \n",
       "\n",
       "                                                 H3K4me3_zinbra_weak_consensus.bed  \\\n",
       "cd14_encsr907lcd_chromhmm18.hg19.1_TssA.bed                               0.827167   \n",
       "cd14_encsr907lcd_chromhmm18.hg19.2_TssFlnk.bed                            0.551416   \n",
       "cd14_encsr907lcd_chromhmm18.hg19.3_TssFlnkU.bed                           0.434683   \n",
       "cd14_encsr907lcd_chromhmm18.hg19.4_TssFlnkD.bed                           0.284436   \n",
       "cd14_encsr907lcd_chromhmm18.hg19.5_Tx.bed                                 0.003400   \n",
       "\n",
       "                                                 H3K4me3_macs_broad_weak_consensus.bed  \\\n",
       "cd14_encsr907lcd_chromhmm18.hg19.1_TssA.bed                                   0.817872   \n",
       "cd14_encsr907lcd_chromhmm18.hg19.2_TssFlnk.bed                                0.475161   \n",
       "cd14_encsr907lcd_chromhmm18.hg19.3_TssFlnkU.bed                               0.408447   \n",
       "cd14_encsr907lcd_chromhmm18.hg19.4_TssFlnkD.bed                               0.161973   \n",
       "cd14_encsr907lcd_chromhmm18.hg19.5_Tx.bed                                     0.000307   \n",
       "\n",
       "                                                 H3K27ac_zinbra_weak_consensus.bed  \\\n",
       "cd14_encsr907lcd_chromhmm18.hg19.1_TssA.bed                               0.894714   \n",
       "cd14_encsr907lcd_chromhmm18.hg19.2_TssFlnk.bed                            0.271610   \n",
       "cd14_encsr907lcd_chromhmm18.hg19.3_TssFlnkU.bed                           0.801024   \n",
       "cd14_encsr907lcd_chromhmm18.hg19.4_TssFlnkD.bed                           0.171467   \n",
       "cd14_encsr907lcd_chromhmm18.hg19.5_Tx.bed                                 0.061511   \n",
       "\n",
       "                                                 H3K27ac_macs_broad_weak_consensus.bed  \\\n",
       "cd14_encsr907lcd_chromhmm18.hg19.1_TssA.bed                                   0.916961   \n",
       "cd14_encsr907lcd_chromhmm18.hg19.2_TssFlnk.bed                                0.344511   \n",
       "cd14_encsr907lcd_chromhmm18.hg19.3_TssFlnkU.bed                               0.825907   \n",
       "cd14_encsr907lcd_chromhmm18.hg19.4_TssFlnkD.bed                               0.191829   \n",
       "cd14_encsr907lcd_chromhmm18.hg19.5_Tx.bed                                     0.041695   \n",
       "\n",
       "                                                 H3K27me3_zinbra_weak_consensus.bed  \\\n",
       "cd14_encsr907lcd_chromhmm18.hg19.1_TssA.bed                                0.014687   \n",
       "cd14_encsr907lcd_chromhmm18.hg19.2_TssFlnk.bed                             0.049305   \n",
       "cd14_encsr907lcd_chromhmm18.hg19.3_TssFlnkU.bed                            0.010325   \n",
       "cd14_encsr907lcd_chromhmm18.hg19.4_TssFlnkD.bed                            0.022856   \n",
       "cd14_encsr907lcd_chromhmm18.hg19.5_Tx.bed                                  0.002146   \n",
       "\n",
       "                                                 H3K27me3_macs_broad_weak_consensus.bed  \\\n",
       "cd14_encsr907lcd_chromhmm18.hg19.1_TssA.bed                                    0.000992   \n",
       "cd14_encsr907lcd_chromhmm18.hg19.2_TssFlnk.bed                                 0.006582   \n",
       "cd14_encsr907lcd_chromhmm18.hg19.3_TssFlnkU.bed                                0.000592   \n",
       "cd14_encsr907lcd_chromhmm18.hg19.4_TssFlnkD.bed                                0.002110   \n",
       "cd14_encsr907lcd_chromhmm18.hg19.5_Tx.bed                                      0.000307   \n",
       "\n",
       "                                                 H3K36me3_zinbra_weak_consensus.bed  \\\n",
       "cd14_encsr907lcd_chromhmm18.hg19.1_TssA.bed                                0.308793   \n",
       "cd14_encsr907lcd_chromhmm18.hg19.2_TssFlnk.bed                             0.149404   \n",
       "cd14_encsr907lcd_chromhmm18.hg19.3_TssFlnkU.bed                            0.356989   \n",
       "cd14_encsr907lcd_chromhmm18.hg19.4_TssFlnkD.bed                            0.222741   \n",
       "cd14_encsr907lcd_chromhmm18.hg19.5_Tx.bed                                  0.972324   \n",
       "\n",
       "                                                 H3K36me3_sicer_weak_consensus.bed  \n",
       "cd14_encsr907lcd_chromhmm18.hg19.1_TssA.bed                               0.674785  \n",
       "cd14_encsr907lcd_chromhmm18.hg19.2_TssFlnk.bed                            0.335072  \n",
       "cd14_encsr907lcd_chromhmm18.hg19.3_TssFlnkU.bed                           0.713427  \n",
       "cd14_encsr907lcd_chromhmm18.hg19.4_TssFlnkD.bed                           0.551066  \n",
       "cd14_encsr907lcd_chromhmm18.hg19.5_Tx.bed                                 0.992085  "
      ]
     },
     "metadata": {},
     "output_type": "display_data"
    },
    {
     "data": {
      "image/png": "[encoded data removed]",
      "text/plain": [
       "<matplotlib.figure.Figure at 0x1169fa080>"
      ]
     },
     "metadata": {},
     "output_type": "display_data"
    }
   ],
   "source": [
    "result_pdf_path = data_root / \"reports/heatmap_overlap_chromhmm@weak_tools.pdf\"\n",
    "\n",
    "build_overlap_metrics(\n",
    "    result_pdf_path, 'Overlap weak consensus@{}'.format(chromhmm_title),\n",
    "    chromhmm_paths, chromhmm_labels, tools_paths, tools_labels, \n",
    "    transpose=True, figsize=(14, 14))"
   ]
  }
 ],
 "metadata": {
  "kernelspec": {
   "display_name": "Python 3",
   "language": "python",
   "name": "python3"
  },
  "language_info": {
   "codemirror_mode": {
    "name": "ipython",
    "version": 3
   },
   "file_extension": ".py",
   "mimetype": "text/x-python",
   "name": "python",
   "nbconvert_exporter": "python",
   "pygments_lexer": "ipython3",
   "version": "3.6.1"
  },
  "toc": {
   "nav_menu": {},
   "number_sections": true,
   "sideBar": true,
   "skip_h1_title": false,
   "toc_cell": false,
   "toc_position": {},
   "toc_section_display": "block",
   "toc_window_display": false
  },
  "varInspector": {
   "cols": {
    "lenName": 16,
    "lenType": 16,
    "lenVar": 40
   },
   "kernels_config": {
    "python": {
     "delete_cmd_postfix": "",
     "delete_cmd_prefix": "del ",
     "library": "var_list.py",
     "varRefreshCmd": "print(var_dic_list())"
    },
    "r": {
     "delete_cmd_postfix": ") ",
     "delete_cmd_prefix": "rm(",
     "library": "var_list.r",
     "varRefreshCmd": "cat(var_dic_list()) "
    }
   },
   "types_to_exclude": [
    "module",
    "function",
    "builtin_function_or_method",
    "instance",
    "_Feature"
   ],
   "window_display": false
  }
 },
 "nbformat": 4,
 "nbformat_minor": 2
}
