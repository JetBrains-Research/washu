{
 "cells": [
  {
   "cell_type": "markdown",
   "metadata": {},
   "source": [
    "# Figure6 Peaks number, average length and signal to noise ratio\n",
    "\n",
    "Peak calling tuning improvement from defaults to tuned SPAN."
   ]
  },
  {
   "cell_type": "code",
   "execution_count": null,
   "metadata": {
    "ExecuteTime": {
     "end_time": "2018-11-20T08:41:12.739851Z",
     "start_time": "2018-11-20T08:41:12.704757Z"
    }
   },
   "outputs": [],
   "source": [
    "%matplotlib inline\n",
    "%config InlineBackend.figure_format='retina'\n",
    "\n",
    "from IPython.display import display\n",
    "import pandas as pd\n",
    "\n",
    "import seaborn as sns\n",
    "sns.set_style(\"whitegrid\")\n",
    "import matplotlib.pyplot as plt\n",
    "from matplotlib.backends.backend_pdf import PdfPages\n",
    "import numpy as np\n",
    "from collections import OrderedDict, Counter\n",
    "\n",
    "AGE_PALETTE = {'Old': '#E41A1C', 'Young': '#377EB8'}\n",
    "\n",
    "TOOLS_PALETTE = {'macs2': \"#EDEDED\", 'sicer': \"#EDEDED\", 'span': '#FBE5D6'}\n",
    "\n",
    "\n",
    "df = pd.read_csv('/mnt/stripe/bio/experiments/configs/Y20O20/benchmark/Y20O20_peaks_summary_uli.tsv', \n",
    "                 sep='\\t', comment='#')\n",
    "df = df.loc[df['status'] != 'failed']"
   ]
  },
  {
   "cell_type": "markdown",
   "metadata": {},
   "source": [
    "# Graphics of peaks number across different marks and tools"
   ]
  },
  {
   "cell_type": "code",
   "execution_count": null,
   "metadata": {
    "ExecuteTime": {
     "end_time": "2018-04-23T09:07:21.905339Z",
     "start_time": "2018-04-23T09:07:20.781759Z"
    },
    "scrolled": false
   },
   "outputs": [],
   "source": [
    "toshow = OrderedDict([\n",
    "    (\"H3K27ac\", [(\"MACS2\", \"default\"), (\"SPAN\", \"tuned\")]),\n",
    "    (\"H3K27me3\", [(\"MACS2\", \"default\"), (\"SICER\", \"default\"), (\"SPAN\", \"tuned\")]),\n",
    "    (\"H3K36me3\", [(\"MACS2\", \"default\"), (\"SICER\", \"default\"), (\"SPAN\", \"tuned\")]),\n",
    "    (\"H3K4me1\", [(\"MACS2\", \"default\"), (\"SPAN\", \"tuned\")]),\n",
    "    (\"H3K4me3\", [(\"MACS2\", \"default\"), (\"SPAN\", \"tuned\")])\n",
    "])\n",
    "\n",
    "# Filter out dataframe to given combination of target, tool and procedure.\n",
    "dfs = []\n",
    "for m, tps in toshow.items():\n",
    "    for (tool, procedure) in tps:\n",
    "        dfmtp = df.loc[np.logical_and(df['tool'] == tool, \n",
    "                          np.logical_and(df['modification'] == m, \n",
    "                                         df['procedure'] == procedure))]\n",
    "        dfs.append(dfmtp)\n",
    "dft = pd.concat(dfs, axis=0)\n",
    "\n",
    "\n",
    "def plot_data(dft, value, description):\n",
    "    dft['mp'] = dft['modification'] + \" \" + dft['tool'] + \" \" + dft['procedure']\n",
    "    dft[\"age\"] = \"Young\"\n",
    "    dft.loc[dft.donor.str.startswith(\"OD\"), \"age\"] = \"Old\"\n",
    "\n",
    "    \n",
    "    ms = ['H3K27ac', 'H3K27me3', 'H3K36me3', 'H3K4me1', 'H3K4me3']\n",
    "    axs = {}\n",
    "    mpl = len(set(dft['mp']))\n",
    "    fig = plt.figure(figsize=(int(len(set(dft['mp'])) * .75), 4))\n",
    "    offset = 0\n",
    "    for m in ms:\n",
    "        data = dft.loc[dft['modification'] == m]\n",
    "        xlabels = []\n",
    "        for t in data['tool']:\n",
    "            if t not in xlabels:\n",
    "                xlabels.append(t)\n",
    "        w = len(set(data['mp']))\n",
    "        ax = plt.subplot2grid((1, mpl), (0, offset), colspan=w)\n",
    "\n",
    "        sns.barplot(data=data, \n",
    "                 x=\"tool\", y=value,\n",
    "                 ci=\"sd\", capsize=.2, errwidth=2,\n",
    "                 palette=TOOLS_PALETTE, \n",
    "                 edgecolor=\"black\",\n",
    "                 ax = ax)\n",
    "\n",
    "        sns.swarmplot(data=data,\n",
    "              x=\"tool\", y=value,\n",
    "              size=3, #5\n",
    "              hue = \"age\",\n",
    "              palette=AGE_PALETTE,\n",
    "              ax = ax)\n",
    "        ax.legend().set_visible(False)\n",
    "        axs[ax] = plt.ylim()\n",
    "        if offset > 0:\n",
    "            ax.get_yaxis().set_ticklabels([])\n",
    "            ax.set_ylabel('')\n",
    "        else:\n",
    "            ax.set_ylabel(description)\n",
    "        \n",
    "        offset += w\n",
    "        ax.set_xlabel('')\n",
    "        ax.set_title(m)\n",
    "        plt.xticks(range(0, len(xlabels)), xlabels, rotation=90)\n",
    "            \n",
    "    ymin = np.min([v[0] for v in axs.values()])\n",
    "    ymax = np.max([v[1] for v in axs.values()])\n",
    " \n",
    "    for ax in axs.keys():\n",
    "        ax.set_ylim(bottom = ymin, top = ymax)\n",
    "    plt.tight_layout()\n",
    "    \n",
    "    \n",
    "# Plot peaks number\n",
    "with PdfPages('/mnt/stripe/figures/peaks_number.pdf') as pdf:\n",
    "    plot_data(dft, 'peaks', 'Number of peaks')\n",
    "    pdf.savefig()"
   ]
  },
  {
   "cell_type": "markdown",
   "metadata": {},
   "source": [
    "# SPAN number of peaks and average length"
   ]
  },
  {
   "cell_type": "code",
   "execution_count": null,
   "metadata": {
    "ExecuteTime": {
     "end_time": "2018-11-20T09:03:10.083156Z",
     "start_time": "2018-11-20T09:03:09.368322Z"
    },
    "scrolled": false
   },
   "outputs": [],
   "source": [
    "toshow = OrderedDict([\n",
    "    (\"H3K27ac\", [(\"span\", \"tuned\")]),\n",
    "    (\"H3K27me3\", [ (\"span\", \"tuned\")]),\n",
    "    (\"H3K36me3\", [(\"span\", \"tuned\")]),\n",
    "    (\"H3K4me1\", [(\"span\", \"tuned\")]),\n",
    "    (\"H3K4me3\", [(\"span\", \"tuned\")])\n",
    "])\n",
    "\n",
    "PALETTE = {'H3K27ac': \"#FF0000\", \n",
    "           'H3K27me3': \"#9900FF\", \n",
    "           'H3K36me3': '#0000CC', \n",
    "           'H3K4me1': '#FF9900', \n",
    "           'H3K4me3': '#33CC33'}\n",
    "\n",
    "# Filter out dataframe to given combination of target, tool and procedure.\n",
    "dfs = []\n",
    "for m, tps in toshow.items():\n",
    "    for (tool, procedure) in tps:\n",
    "        dfmtp = df.loc[np.logical_and(df['tool'] == tool, \n",
    "                          np.logical_and(df['modification'] == m, \n",
    "                                         df['procedure'] == procedure))]\n",
    "        dfs.append(dfmtp)\n",
    "        \n",
    "dft = pd.concat(dfs, axis=0)\n",
    "display(dft.head())\n",
    "\n",
    "\n",
    "\n",
    "# Plot peaks number\n",
    "with PdfPages('/mnt/stripe/peaks_number.pdf') as pdf:\n",
    "    sns.barplot(x=\"modification\", y=\"peaks\", data=dft, errwidth=0, palette=PALETTE)\n",
    "    pdf.savefig()\n",
    "    plt.show()\n",
    "\n",
    "dft['avg_length'] = dft['length'] / dft['peaks']\n",
    "# Plot peaks number\n",
    "with PdfPages('/mnt/stripe/peaks_length.pdf') as pdf:\n",
    "    sns.barplot(x=\"modification\", y=\"avg_length\", data=dft, errwidth=0, palette=PALETTE)\n",
    "    pdf.savefig()\n",
    "    plt.show()"
   ]
  },
  {
   "cell_type": "markdown",
   "metadata": {},
   "source": [
    "# Average peak length by modification and tool"
   ]
  },
  {
   "cell_type": "code",
   "execution_count": null,
   "metadata": {
    "ExecuteTime": {
     "end_time": "2018-04-23T09:07:31.687564Z",
     "start_time": "2018-04-23T09:07:30.690250Z"
    }
   },
   "outputs": [],
   "source": [
    "dft['len_avg'] = dft['length'] / dft['peaks']\n",
    "dft.loc[~np.isfinite(dft[\"len_avg\"]), \"len_avg\"] = 0.0\n",
    "\n",
    "with PdfPages('/mnt/stripe/figures/peaks_length.pdf') as pdf:\n",
    "    plot_data(dft, 'len_avg', 'Average length of peak')\n",
    "    pdf.savefig()"
   ]
  },
  {
   "cell_type": "code",
   "execution_count": null,
   "metadata": {
    "ExecuteTime": {
     "end_time": "2018-04-23T09:07:34.889354Z",
     "start_time": "2018-04-23T09:07:34.815077Z"
    }
   },
   "outputs": [],
   "source": [
    "# OD14 is the highest in terms of avg peaks length, \n",
    "# it has small number of peaks with big summary length and one of the highest FRIP value\n",
    "display(dft.loc[dft['mp']=='H3K36me3 SPAN tuned'])"
   ]
  },
  {
   "cell_type": "markdown",
   "metadata": {
    "collapsed": true,
    "heading_collapsed": true
   },
   "source": [
    "# Signal to noise ratio\n",
    "\n",
    "Computed by `ChipSeqSignalToNoise` experiment.\n",
    "\n",
    "Input file: `/mnt/stripe/bio/experiments/signal_to_noise/signal_to_noise.tsv`"
   ]
  },
  {
   "cell_type": "code",
   "execution_count": null,
   "metadata": {
    "ExecuteTime": {
     "end_time": "2018-04-23T09:07:41.000313Z",
     "start_time": "2018-04-23T09:07:40.636268Z"
    },
    "hidden": true
   },
   "outputs": [],
   "source": [
    "sn_df = pd.read_csv('/mnt/stripe/bio/experiments/signal_to_noise/signal_to_noise_Y20O20.tsv', \n",
    "                    sep='\\t', names=['modification', 'cell', 'donor', 'sn', 'file'])\n",
    "\n",
    "sn_df[\"age\"] = \"Young\"\n",
    "sn_df.loc[sn_df.donor.str.startswith(\"OD\"), \"age\"] = \"Old\"\n",
    "\n",
    "sn_df_encode = pd.read_csv('/mnt/stripe/bio/experiments/signal_to_noise/signal_to_noise_cd14encode.tsv', \n",
    "                            sep='\\t', names=['modification', 'cell', 'donor', 'sn', 'file'])\n",
    "\n",
    "\n",
    "fig = plt.figure(figsize=(5, 5))\n",
    "sns.set_style(\"whitegrid\")\n",
    "\n",
    "ax = sns.barplot(data=sn_df, \n",
    "         x=\"modification\", y='sn',\n",
    "         ci=\"sd\", capsize=.2, errwidth=2,\n",
    "         color=\"lightgray\",\n",
    "         edgecolor=\"black\")\n",
    "\n",
    "ax = sns.swarmplot(data=sn_df, \n",
    "      x=\"modification\", y='sn',\n",
    "      size=3, #5\n",
    "      hue = \"age\",\n",
    "      palette=AGE_PALETTE)\n",
    "\n",
    "ax = sns.swarmplot(data=sn_df_encode, \n",
    "      x=\"modification\", y='sn',\n",
    "      size=7, #5\n",
    "      color='black')\n",
    "\n",
    "plt.xlabel('')\n",
    "plt.ylabel('signal to noise')\n",
    "\n",
    "plt.legend(bbox_to_anchor=(1.05, 1), loc=2, borderaxespad=0)\n",
    "plt.show()"
   ]
  },
  {
   "cell_type": "code",
   "execution_count": null,
   "metadata": {
    "hidden": true
   },
   "outputs": [],
   "source": []
  }
 ],
 "metadata": {
  "kernelspec": {
   "display_name": "Python 3",
   "language": "python",
   "name": "python3"
  },
  "language_info": {
   "codemirror_mode": {
    "name": "ipython",
    "version": 3
   },
   "file_extension": ".py",
   "mimetype": "text/x-python",
   "name": "python",
   "nbconvert_exporter": "python",
   "pygments_lexer": "ipython3",
   "version": "3.5.4"
  },
  "toc": {
   "nav_menu": {},
   "number_sections": true,
   "sideBar": true,
   "skip_h1_title": false,
   "toc_cell": false,
   "toc_position": {},
   "toc_section_display": "block",
   "toc_window_display": false
  }
 },
 "nbformat": 4,
 "nbformat_minor": 2
}
