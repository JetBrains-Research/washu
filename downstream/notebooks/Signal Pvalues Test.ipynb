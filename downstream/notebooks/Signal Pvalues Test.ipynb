{
 "cells": [
  {
   "cell_type": "code",
   "execution_count": 1,
   "metadata": {
    "ExecuteTime": {
     "end_time": "2018-01-25T13:57:58.693606Z",
     "start_time": "2018-01-25T13:57:57.312979Z"
    }
   },
   "outputs": [
    {
     "name": "stderr",
     "output_type": "stream",
     "text": [
      "/Users/romeo/anaconda/envs/aging3/lib/python3.6/site-packages/matplotlib/__init__.py:1405: UserWarning: \n",
      "This call to matplotlib.use() has no effect because the backend has already\n",
      "been chosen; matplotlib.use() must be called *before* pylab, matplotlib.pyplot,\n",
      "or matplotlib.backends is imported for the first time.\n",
      "\n",
      "  warnings.warn(_use_error_msg)\n"
     ]
    }
   ],
   "source": [
    "%matplotlib inline\n",
    "import matplotlib.pyplot as plt\n",
    "\n",
    "from pathlib import Path\n",
    "import pandas as pd\n",
    "import numpy as np\n",
    "import math\n",
    "\n",
    "import seaborn as sns\n",
    "\n",
    "from downstream.signals.signal_r2_permutation_test import collect_paths\n",
    "from downstream.signals.signal_pca_fit_error_pvalue_permutation_test import process"
   ]
  },
  {
   "cell_type": "code",
   "execution_count": 5,
   "metadata": {
    "ExecuteTime": {
     "end_time": "2018-01-25T14:04:58.486169Z",
     "start_time": "2018-01-25T14:04:41.830010Z"
    }
   },
   "outputs": [
    {
     "name": "stdout",
     "output_type": "stream",
     "text": [
      "Selected Paths:  1582 of 19932\n"
     ]
    }
   ],
   "source": [
    "signals_root = Path(\"/mnt/stripe/bio/experiments/signal_experiments\")"
   ]
  },
  {
   "cell_type": "code",
   "execution_count": 12,
   "metadata": {
    "ExecuteTime": {
     "end_time": "2018-01-25T14:15:03.873670Z",
     "start_time": "2018-01-25T14:15:03.850955Z"
    }
   },
   "outputs": [],
   "source": [
    "def pvalue_for(normalization):\n",
    "    simulations = 4\n",
    "    # simulations = 100001\n",
    "    threads = 8\n",
    "\n",
    "    output_path = signals_root / \"validate.{}.pvalue.{}.csv\".format(normalization, simulations)\n",
    "    print(\"Results file:\", str(output_path), \"[exists]\" if output_path.exists() else \"[not exists]\")\n",
    "\n",
    "    if not output_path.exists():\n",
    "        print(\"  calculate:\", str(output_path.name))\n",
    "\n",
    "        # Collect files:\n",
    "        paths_filter = \"_{}.tsv\".format(normalization)\n",
    "        all_paths = collect_paths(signals_root)\n",
    "        #datatypes = [\"H3K4me1\", \"H3K4me3\", \"H3K27ac\", \"H3K36me3\", \"H3K27me3\", \"meth\"]\n",
    "        paths = [p for p in all_paths if paths_filter in p.name]\n",
    "        print(\"Selected Paths: \", len(paths), \"of\", len(all_paths))\n",
    "\n",
    "        # Calc pvalues:\n",
    "        process(paths, str(output_path), seed=100, simulations=simulations, threads=threads, fdr=True)\n",
    "        \n",
    "    return output_path"
   ]
  },
  {
   "cell_type": "code",
   "execution_count": 13,
   "metadata": {
    "ExecuteTime": {
     "end_time": "2018-01-25T14:17:44.155481Z",
     "start_time": "2018-01-25T14:15:27.028818Z"
    }
   },
   "outputs": [
    {
     "name": "stdout",
     "output_type": "stream",
     "text": [
      "Results file: /mnt/stripe/bio/experiments/signal_experiments/validate.fripz.pvalue.4.csv [not exists]\n",
      "  calculate: validate.fripz.pvalue.4.csv\n",
      "Selected Paths:  1582 of 19932\n",
      "--- [1 / 1582] -----------\n",
      "Process: /mnt/stripe/bio/experiments/signal_experiments/H3K27ac/washu_german_rrbs_filtered_dmrs_all_10.hg19/washu_german_rrbs_filtered_dmrs_all_10.hg19_fripz.tsv\n",
      "[ACTUAL]: 8, [SIMUL]: [min, max] = [16, 16], [2%, 98%] = [8.64, 16.0]; 50% = 16.0, p-value: 0.2\n",
      "--- [2 / 1582] -----------\n",
      "Process: /mnt/stripe/bio/experiments/signal_experiments/H3K27ac/cd14_chromhmm18.hg19.11_EnhWk/cd14_chromhmm18.hg19.11_EnhWk_fripz.tsv\n",
      "[ACTUAL]: 16, [SIMUL]: [min, max] = [18, 18], [2%, 98%] = [16.16, 18.0]; 50% = 18.0, p-value: 0.2\n",
      "--- [3 / 1582] -----------\n",
      "Process: /mnt/stripe/bio/experiments/signal_experiments/H3K27ac/cd14_chromhmm18.hg19.13_Het/cd14_chromhmm18.hg19.13_Het_fripz.tsv\n",
      "[ACTUAL]: 15, [SIMUL]: [min, max] = [15, 15], [2%, 98%] = [15.0, 15.0]; 50% = 15.0, p-value: 1.0\n",
      "--- [4 / 1582] -----------\n",
      "Process: /mnt/stripe/bio/experiments/signal_experiments/H3K27ac/cd14_chromhmm18.hg19.15_EnhBiv/cd14_chromhmm18.hg19.15_EnhBiv_fripz.tsv\n",
      "[ACTUAL]: 16, [SIMUL]: [min, max] = [19, 19], [2%, 98%] = [16.240000000000002, 19.0]; 50% = 19.0, p-value: 0.2\n",
      "--- [5 / 1582] -----------\n",
      "Process: /mnt/stripe/bio/experiments/signal_experiments/H3K27ac/cd14_chromhmm18.hg19.17_ReprPCWk/cd14_chromhmm18.hg19.17_ReprPCWk_fripz.tsv\n",
      "[ACTUAL]: 11, [SIMUL]: [min, max] = [15, 15], [2%, 98%] = [11.32, 15.0]; 50% = 15.0, p-value: 0.2\n",
      "--- [6 / 1582] -----------\n",
      "Process: /mnt/stripe/bio/experiments/signal_experiments/H3K27ac/cd14_chromhmm18.hg19.1_TssA/cd14_chromhmm18.hg19.1_TssA_fripz.tsv\n",
      "[ACTUAL]: 17, [SIMUL]: [min, max] = [13, 13], [2%, 98%] = [13.0, 16.68]; 50% = 13.0, p-value: 1.0\n",
      "--- [7 / 1582] -----------\n",
      "Process: /mnt/stripe/bio/experiments/signal_experiments/H3K27ac/cd14_chromhmm18.hg19.3_TssFlnkU/cd14_chromhmm18.hg19.3_TssFlnkU_fripz.tsv\n",
      "[ACTUAL]: 17, [SIMUL]: [min, max] = [13, 13], [2%, 98%] = [13.0, 16.68]; 50% = 13.0, p-value: 1.0\n",
      "--- [8 / 1582] -----------\n",
      "Process: /mnt/stripe/bio/experiments/signal_experiments/H3K27ac/cd14_chromhmm18.hg19.5_Tx/cd14_chromhmm18.hg19.5_Tx_fripz.tsv\n",
      "[ACTUAL]: 16, [SIMUL]: [min, max] = [18, 18], [2%, 98%] = [16.16, 18.0]; 50% = 18.0, p-value: 0.2\n",
      "--- [9 / 1582] -----------\n",
      "Process: /mnt/stripe/bio/experiments/signal_experiments/H3K27ac/cd14_chromhmm18.hg19.7_EnhG1/cd14_chromhmm18.hg19.7_EnhG1_fripz.tsv\n",
      "[ACTUAL]: 15, [SIMUL]: [min, max] = [14, 14], [2%, 98%] = [14.0, 14.92]; 50% = 14.0, p-value: 1.0\n",
      "--- [10 / 1582] -----------\n",
      "Process: /mnt/stripe/bio/experiments/signal_experiments/H3K27ac/cd14_chromhmm18.hg19.9_EnhA1/cd14_chromhmm18.hg19.9_EnhA1_fripz.tsv\n",
      "[ACTUAL]: 14, [SIMUL]: [min, max] = [17, 17], [2%, 98%] = [14.24, 17.0]; 50% = 17.0, p-value: 0.2\n",
      "--- [11 / 1582] -----------\n",
      "Process: /mnt/stripe/bio/experiments/signal_experiments/H3K27ac/exons/exons_fripz.tsv\n"
     ]
    },
    {
     "ename": "KeyboardInterrupt",
     "evalue": "",
     "output_type": "error",
     "traceback": [
      "\u001b[0;31m---------------------------------------------------------------------------\u001b[0m",
      "\u001b[0;31mKeyboardInterrupt\u001b[0m                         Traceback (most recent call last)",
      "\u001b[0;32m<ipython-input-13-265ad4008ba7>\u001b[0m in \u001b[0;36m<module>\u001b[0;34m()\u001b[0m\n\u001b[0;32m----> 1\u001b[0;31m \u001b[0mdf_path\u001b[0m \u001b[0;34m=\u001b[0m \u001b[0mpvalue_for\u001b[0m\u001b[0;34m(\u001b[0m\u001b[0;34m\"fripz\"\u001b[0m\u001b[0;34m)\u001b[0m\u001b[0;34m\u001b[0m\u001b[0m\n\u001b[0m",
      "\u001b[0;32m<ipython-input-12-7ae470d9535a>\u001b[0m in \u001b[0;36mpvalue_for\u001b[0;34m(normalization)\u001b[0m\n\u001b[1;32m     18\u001b[0m \u001b[0;34m\u001b[0m\u001b[0m\n\u001b[1;32m     19\u001b[0m         \u001b[0;31m# Calc pvalues:\u001b[0m\u001b[0;34m\u001b[0m\u001b[0;34m\u001b[0m\u001b[0m\n\u001b[0;32m---> 20\u001b[0;31m         \u001b[0mprocess\u001b[0m\u001b[0;34m(\u001b[0m\u001b[0mpaths\u001b[0m\u001b[0;34m,\u001b[0m \u001b[0mstr\u001b[0m\u001b[0;34m(\u001b[0m\u001b[0moutput_path\u001b[0m\u001b[0;34m)\u001b[0m\u001b[0;34m,\u001b[0m \u001b[0mseed\u001b[0m\u001b[0;34m=\u001b[0m\u001b[0;36m100\u001b[0m\u001b[0;34m,\u001b[0m \u001b[0msimulations\u001b[0m\u001b[0;34m=\u001b[0m\u001b[0msimulations\u001b[0m\u001b[0;34m,\u001b[0m \u001b[0mthreads\u001b[0m\u001b[0;34m=\u001b[0m\u001b[0mthreads\u001b[0m\u001b[0;34m,\u001b[0m \u001b[0mfdr\u001b[0m\u001b[0;34m=\u001b[0m\u001b[0;32mTrue\u001b[0m\u001b[0;34m)\u001b[0m\u001b[0;34m\u001b[0m\u001b[0m\n\u001b[0m\u001b[1;32m     21\u001b[0m \u001b[0;34m\u001b[0m\u001b[0m\n\u001b[1;32m     22\u001b[0m     \u001b[0;32mreturn\u001b[0m \u001b[0moutput_path\u001b[0m\u001b[0;34m\u001b[0m\u001b[0m\n",
      "\u001b[0;32m/Users/romeo/work/washu/downstream/signals/signal_pca_fit_error_pvalue_permutation_test.py\u001b[0m in \u001b[0;36mprocess\u001b[0;34m(paths, output_path, seed, simulations, threads, fdr)\u001b[0m\n\u001b[1;32m    140\u001b[0m         \u001b[0mprint\u001b[0m\u001b[0;34m(\u001b[0m\u001b[0;34m\"--- [{} / {}] -----------\"\u001b[0m\u001b[0;34m.\u001b[0m\u001b[0mformat\u001b[0m\u001b[0;34m(\u001b[0m\u001b[0mi\u001b[0m\u001b[0;34m,\u001b[0m \u001b[0mn_paths\u001b[0m\u001b[0;34m)\u001b[0m\u001b[0;34m)\u001b[0m\u001b[0;34m\u001b[0m\u001b[0m\n\u001b[1;32m    141\u001b[0m         \u001b[0mprint\u001b[0m\u001b[0;34m(\u001b[0m\u001b[0;34m\"Process:\"\u001b[0m\u001b[0;34m,\u001b[0m \u001b[0mpath\u001b[0m\u001b[0;34m)\u001b[0m\u001b[0;34m\u001b[0m\u001b[0m\n\u001b[0;32m--> 142\u001b[0;31m         \u001b[0mpvalue\u001b[0m \u001b[0;34m=\u001b[0m \u001b[0m_process\u001b[0m\u001b[0;34m(\u001b[0m\u001b[0mpath\u001b[0m\u001b[0;34m,\u001b[0m \u001b[0msimulations\u001b[0m\u001b[0;34m=\u001b[0m\u001b[0msimulations\u001b[0m\u001b[0;34m,\u001b[0m \u001b[0mseed\u001b[0m\u001b[0;34m=\u001b[0m\u001b[0mseed\u001b[0m\u001b[0;34m,\u001b[0m \u001b[0mthreads\u001b[0m\u001b[0;34m=\u001b[0m\u001b[0mthreads\u001b[0m\u001b[0;34m)\u001b[0m\u001b[0;34m\u001b[0m\u001b[0m\n\u001b[0m\u001b[1;32m    143\u001b[0m \u001b[0;34m\u001b[0m\u001b[0m\n\u001b[1;32m    144\u001b[0m         \u001b[0mnorm\u001b[0m \u001b[0;34m=\u001b[0m \u001b[0mre\u001b[0m\u001b[0;34m.\u001b[0m\u001b[0msub\u001b[0m\u001b[0;34m(\u001b[0m\u001b[0;34m'(.*_)|(\\\\.tsv$)'\u001b[0m\u001b[0;34m,\u001b[0m \u001b[0;34m''\u001b[0m\u001b[0;34m,\u001b[0m \u001b[0mpath\u001b[0m\u001b[0;34m.\u001b[0m\u001b[0mname\u001b[0m\u001b[0;34m)\u001b[0m\u001b[0;34m\u001b[0m\u001b[0m\n",
      "\u001b[0;32m/Users/romeo/work/washu/downstream/signals/signal_pca_fit_error_pvalue_permutation_test.py\u001b[0m in \u001b[0;36m_process\u001b[0;34m(path, simulations, seed, threads, plot)\u001b[0m\n\u001b[1;32m     40\u001b[0m \u001b[0;34m\u001b[0m\u001b[0m\n\u001b[1;32m     41\u001b[0m     \u001b[0;31m##################################################\u001b[0m\u001b[0;34m\u001b[0m\u001b[0;34m\u001b[0m\u001b[0m\n\u001b[0;32m---> 42\u001b[0;31m     \u001b[0mdf\u001b[0m \u001b[0;34m=\u001b[0m \u001b[0mpd\u001b[0m\u001b[0;34m.\u001b[0m\u001b[0mread_csv\u001b[0m\u001b[0;34m(\u001b[0m\u001b[0mstr\u001b[0m\u001b[0;34m(\u001b[0m\u001b[0mpath\u001b[0m\u001b[0;34m)\u001b[0m\u001b[0;34m,\u001b[0m \u001b[0msep\u001b[0m\u001b[0;34m=\u001b[0m\u001b[0;34m'\\t'\u001b[0m\u001b[0;34m)\u001b[0m\u001b[0;34m\u001b[0m\u001b[0m\n\u001b[0m\u001b[1;32m     43\u001b[0m \u001b[0;34m\u001b[0m\u001b[0m\n\u001b[1;32m     44\u001b[0m     \u001b[0;31m##################################################\u001b[0m\u001b[0;34m\u001b[0m\u001b[0;34m\u001b[0m\u001b[0m\n",
      "\u001b[0;32m/Users/romeo/anaconda/envs/aging3/lib/python3.6/site-packages/pandas/io/parsers.py\u001b[0m in \u001b[0;36mparser_f\u001b[0;34m(filepath_or_buffer, sep, delimiter, header, names, index_col, usecols, squeeze, prefix, mangle_dupe_cols, dtype, engine, converters, true_values, false_values, skipinitialspace, skiprows, nrows, na_values, keep_default_na, na_filter, verbose, skip_blank_lines, parse_dates, infer_datetime_format, keep_date_col, date_parser, dayfirst, iterator, chunksize, compression, thousands, decimal, lineterminator, quotechar, quoting, escapechar, comment, encoding, dialect, tupleize_cols, error_bad_lines, warn_bad_lines, skipfooter, skip_footer, doublequote, delim_whitespace, as_recarray, compact_ints, use_unsigned, low_memory, buffer_lines, memory_map, float_precision)\u001b[0m\n\u001b[1;32m    653\u001b[0m                     skip_blank_lines=skip_blank_lines)\n\u001b[1;32m    654\u001b[0m \u001b[0;34m\u001b[0m\u001b[0m\n\u001b[0;32m--> 655\u001b[0;31m         \u001b[0;32mreturn\u001b[0m \u001b[0m_read\u001b[0m\u001b[0;34m(\u001b[0m\u001b[0mfilepath_or_buffer\u001b[0m\u001b[0;34m,\u001b[0m \u001b[0mkwds\u001b[0m\u001b[0;34m)\u001b[0m\u001b[0;34m\u001b[0m\u001b[0m\n\u001b[0m\u001b[1;32m    656\u001b[0m \u001b[0;34m\u001b[0m\u001b[0m\n\u001b[1;32m    657\u001b[0m     \u001b[0mparser_f\u001b[0m\u001b[0;34m.\u001b[0m\u001b[0m__name__\u001b[0m \u001b[0;34m=\u001b[0m \u001b[0mname\u001b[0m\u001b[0;34m\u001b[0m\u001b[0m\n",
      "\u001b[0;32m/Users/romeo/anaconda/envs/aging3/lib/python3.6/site-packages/pandas/io/parsers.py\u001b[0m in \u001b[0;36m_read\u001b[0;34m(filepath_or_buffer, kwds)\u001b[0m\n\u001b[1;32m    409\u001b[0m \u001b[0;34m\u001b[0m\u001b[0m\n\u001b[1;32m    410\u001b[0m     \u001b[0;32mtry\u001b[0m\u001b[0;34m:\u001b[0m\u001b[0;34m\u001b[0m\u001b[0m\n\u001b[0;32m--> 411\u001b[0;31m         \u001b[0mdata\u001b[0m \u001b[0;34m=\u001b[0m \u001b[0mparser\u001b[0m\u001b[0;34m.\u001b[0m\u001b[0mread\u001b[0m\u001b[0;34m(\u001b[0m\u001b[0mnrows\u001b[0m\u001b[0;34m)\u001b[0m\u001b[0;34m\u001b[0m\u001b[0m\n\u001b[0m\u001b[1;32m    412\u001b[0m     \u001b[0;32mfinally\u001b[0m\u001b[0;34m:\u001b[0m\u001b[0;34m\u001b[0m\u001b[0m\n\u001b[1;32m    413\u001b[0m         \u001b[0mparser\u001b[0m\u001b[0;34m.\u001b[0m\u001b[0mclose\u001b[0m\u001b[0;34m(\u001b[0m\u001b[0;34m)\u001b[0m\u001b[0;34m\u001b[0m\u001b[0m\n",
      "\u001b[0;32m/Users/romeo/anaconda/envs/aging3/lib/python3.6/site-packages/pandas/io/parsers.py\u001b[0m in \u001b[0;36mread\u001b[0;34m(self, nrows)\u001b[0m\n\u001b[1;32m    980\u001b[0m                 \u001b[0;32mraise\u001b[0m \u001b[0mValueError\u001b[0m\u001b[0;34m(\u001b[0m\u001b[0;34m'skipfooter not supported for iteration'\u001b[0m\u001b[0;34m)\u001b[0m\u001b[0;34m\u001b[0m\u001b[0m\n\u001b[1;32m    981\u001b[0m \u001b[0;34m\u001b[0m\u001b[0m\n\u001b[0;32m--> 982\u001b[0;31m         \u001b[0mret\u001b[0m \u001b[0;34m=\u001b[0m \u001b[0mself\u001b[0m\u001b[0;34m.\u001b[0m\u001b[0m_engine\u001b[0m\u001b[0;34m.\u001b[0m\u001b[0mread\u001b[0m\u001b[0;34m(\u001b[0m\u001b[0mnrows\u001b[0m\u001b[0;34m)\u001b[0m\u001b[0;34m\u001b[0m\u001b[0m\n\u001b[0m\u001b[1;32m    983\u001b[0m \u001b[0;34m\u001b[0m\u001b[0m\n\u001b[1;32m    984\u001b[0m         \u001b[0;32mif\u001b[0m \u001b[0mself\u001b[0m\u001b[0;34m.\u001b[0m\u001b[0moptions\u001b[0m\u001b[0;34m.\u001b[0m\u001b[0mget\u001b[0m\u001b[0;34m(\u001b[0m\u001b[0;34m'as_recarray'\u001b[0m\u001b[0;34m)\u001b[0m\u001b[0;34m:\u001b[0m\u001b[0;34m\u001b[0m\u001b[0m\n",
      "\u001b[0;32m/Users/romeo/anaconda/envs/aging3/lib/python3.6/site-packages/pandas/io/parsers.py\u001b[0m in \u001b[0;36mread\u001b[0;34m(self, nrows)\u001b[0m\n\u001b[1;32m   1717\u001b[0m     \u001b[0;32mdef\u001b[0m \u001b[0mread\u001b[0m\u001b[0;34m(\u001b[0m\u001b[0mself\u001b[0m\u001b[0;34m,\u001b[0m \u001b[0mnrows\u001b[0m\u001b[0;34m=\u001b[0m\u001b[0;32mNone\u001b[0m\u001b[0;34m)\u001b[0m\u001b[0;34m:\u001b[0m\u001b[0;34m\u001b[0m\u001b[0m\n\u001b[1;32m   1718\u001b[0m         \u001b[0;32mtry\u001b[0m\u001b[0;34m:\u001b[0m\u001b[0;34m\u001b[0m\u001b[0m\n\u001b[0;32m-> 1719\u001b[0;31m             \u001b[0mdata\u001b[0m \u001b[0;34m=\u001b[0m \u001b[0mself\u001b[0m\u001b[0;34m.\u001b[0m\u001b[0m_reader\u001b[0m\u001b[0;34m.\u001b[0m\u001b[0mread\u001b[0m\u001b[0;34m(\u001b[0m\u001b[0mnrows\u001b[0m\u001b[0;34m)\u001b[0m\u001b[0;34m\u001b[0m\u001b[0m\n\u001b[0m\u001b[1;32m   1720\u001b[0m         \u001b[0;32mexcept\u001b[0m \u001b[0mStopIteration\u001b[0m\u001b[0;34m:\u001b[0m\u001b[0;34m\u001b[0m\u001b[0m\n\u001b[1;32m   1721\u001b[0m             \u001b[0;32mif\u001b[0m \u001b[0mself\u001b[0m\u001b[0;34m.\u001b[0m\u001b[0m_first_chunk\u001b[0m\u001b[0;34m:\u001b[0m\u001b[0;34m\u001b[0m\u001b[0m\n",
      "\u001b[0;32mpandas/_libs/parsers.pyx\u001b[0m in \u001b[0;36mpandas._libs.parsers.TextReader.read (pandas/_libs/parsers.c:10862)\u001b[0;34m()\u001b[0m\n",
      "\u001b[0;32mpandas/_libs/parsers.pyx\u001b[0m in \u001b[0;36mpandas._libs.parsers.TextReader._read_low_memory (pandas/_libs/parsers.c:11138)\u001b[0;34m()\u001b[0m\n",
      "\u001b[0;32mpandas/_libs/parsers.pyx\u001b[0m in \u001b[0;36mpandas._libs.parsers.TextReader._read_rows (pandas/_libs/parsers.c:12175)\u001b[0;34m()\u001b[0m\n",
      "\u001b[0;32mpandas/_libs/parsers.pyx\u001b[0m in \u001b[0;36mpandas._libs.parsers.TextReader._convert_column_data (pandas/_libs/parsers.c:14136)\u001b[0;34m()\u001b[0m\n",
      "\u001b[0;32mpandas/_libs/parsers.pyx\u001b[0m in \u001b[0;36mpandas._libs.parsers.TextReader._convert_tokens (pandas/_libs/parsers.c:14858)\u001b[0;34m()\u001b[0m\n",
      "\u001b[0;32mpandas/_libs/parsers.pyx\u001b[0m in \u001b[0;36mpandas._libs.parsers.TextReader._convert_with_dtype (pandas/_libs/parsers.c:15629)\u001b[0;34m()\u001b[0m\n",
      "\u001b[0;32m/Users/romeo/anaconda/envs/aging3/lib/python3.6/site-packages/pandas/core/dtypes/common.py\u001b[0m in \u001b[0;36mis_integer_dtype\u001b[0;34m(arr_or_dtype)\u001b[0m\n\u001b[1;32m    735\u001b[0m \u001b[0;34m\u001b[0m\u001b[0m\n\u001b[1;32m    736\u001b[0m \u001b[0;34m\u001b[0m\u001b[0m\n\u001b[0;32m--> 737\u001b[0;31m \u001b[0;32mdef\u001b[0m \u001b[0mis_integer_dtype\u001b[0m\u001b[0;34m(\u001b[0m\u001b[0marr_or_dtype\u001b[0m\u001b[0;34m)\u001b[0m\u001b[0;34m:\u001b[0m\u001b[0;34m\u001b[0m\u001b[0m\n\u001b[0m\u001b[1;32m    738\u001b[0m     \"\"\"\n\u001b[1;32m    739\u001b[0m     \u001b[0mCheck\u001b[0m \u001b[0mwhether\u001b[0m \u001b[0mthe\u001b[0m \u001b[0mprovided\u001b[0m \u001b[0marray\u001b[0m \u001b[0;32mor\u001b[0m \u001b[0mdtype\u001b[0m \u001b[0;32mis\u001b[0m \u001b[0mof\u001b[0m \u001b[0man\u001b[0m \u001b[0minteger\u001b[0m \u001b[0mdtype\u001b[0m\u001b[0;34m.\u001b[0m\u001b[0;34m\u001b[0m\u001b[0m\n",
      "\u001b[0;31mKeyboardInterrupt\u001b[0m: "
     ]
    }
   ],
   "source": [
    "df_path = pvalue_for(\"fripz\")\n",
    "df_path = pvalue_for(\"rawq\")\n",
    "df_path = pvalue_for(\"fripm\")"
   ]
  },
  {
   "cell_type": "code",
   "execution_count": 36,
   "metadata": {
    "ExecuteTime": {
     "end_time": "2018-01-25T14:26:21.999183Z",
     "start_time": "2018-01-25T14:26:21.911138Z"
    }
   },
   "outputs": [
    {
     "data": {
      "text/html": [
       "<div>\n",
       "<style>\n",
       "    .dataframe thead tr:only-child th {\n",
       "        text-align: right;\n",
       "    }\n",
       "\n",
       "    .dataframe thead th {\n",
       "        text-align: left;\n",
       "    }\n",
       "\n",
       "    .dataframe tbody tr th {\n",
       "        vertical-align: top;\n",
       "    }\n",
       "</style>\n",
       "<table border=\"1\" class=\"dataframe\">\n",
       "  <thead>\n",
       "    <tr style=\"text-align: right;\">\n",
       "      <th></th>\n",
       "      <th>file</th>\n",
       "      <th>normalization</th>\n",
       "      <th>pvalue</th>\n",
       "      <th>loci</th>\n",
       "      <th>pvalue_corr</th>\n",
       "    </tr>\n",
       "    <tr>\n",
       "      <th>modification</th>\n",
       "      <th></th>\n",
       "      <th></th>\n",
       "      <th></th>\n",
       "      <th></th>\n",
       "      <th></th>\n",
       "    </tr>\n",
       "  </thead>\n",
       "  <tbody>\n",
       "    <tr>\n",
       "      <th>H3K4me1</th>\n",
       "      <td>/mnt/stripe/bio/experiments/signal_experiments...</td>\n",
       "      <td>fripz</td>\n",
       "      <td>0.00001</td>\n",
       "      <td>diff_OD_YD_H3K4me1_zinbra_200_1.0E-4_10_both</td>\n",
       "      <td>0.003160</td>\n",
       "    </tr>\n",
       "    <tr>\n",
       "      <th>H3K4me1</th>\n",
       "      <td>/mnt/stripe/bio/experiments/signal_experiments...</td>\n",
       "      <td>fripz</td>\n",
       "      <td>0.00024</td>\n",
       "      <td>cpg_minavcov10_complex_4outliers.narrow.adjust...</td>\n",
       "      <td>0.037920</td>\n",
       "    </tr>\n",
       "    <tr>\n",
       "      <th>H3K4me1</th>\n",
       "      <td>/mnt/stripe/bio/experiments/signal_experiments...</td>\n",
       "      <td>fripz</td>\n",
       "      <td>0.00577</td>\n",
       "      <td>washu_german_rrbs_filtered_dmrs_all_10.hg19</td>\n",
       "      <td>0.432809</td>\n",
       "    </tr>\n",
       "    <tr>\n",
       "      <th>H3K4me1</th>\n",
       "      <td>/mnt/stripe/bio/experiments/signal_experiments...</td>\n",
       "      <td>fripz</td>\n",
       "      <td>0.00789</td>\n",
       "      <td>diffReps_H3K4me1_both</td>\n",
       "      <td>0.432809</td>\n",
       "    </tr>\n",
       "    <tr>\n",
       "      <th>H3K4me1</th>\n",
       "      <td>/mnt/stripe/bio/experiments/signal_experiments...</td>\n",
       "      <td>fripz</td>\n",
       "      <td>0.01151</td>\n",
       "      <td>diffReps_H3K4me1_young</td>\n",
       "      <td>0.432809</td>\n",
       "    </tr>\n",
       "    <tr>\n",
       "      <th>H3K4me1</th>\n",
       "      <td>/mnt/stripe/bio/experiments/signal_experiments...</td>\n",
       "      <td>fripz</td>\n",
       "      <td>0.01771</td>\n",
       "      <td>cd14_tf_PU.1-IL4_GSM1681426_hg19_q0.05_narrow</td>\n",
       "      <td>0.432809</td>\n",
       "    </tr>\n",
       "    <tr>\n",
       "      <th>H3K4me1</th>\n",
       "      <td>/mnt/stripe/bio/experiments/signal_experiments...</td>\n",
       "      <td>fripz</td>\n",
       "      <td>0.02201</td>\n",
       "      <td>diffReps_broad_input_H3K4me1_both</td>\n",
       "      <td>0.432809</td>\n",
       "    </tr>\n",
       "    <tr>\n",
       "      <th>H3K4me1</th>\n",
       "      <td>/mnt/stripe/bio/experiments/signal_experiments...</td>\n",
       "      <td>fripz</td>\n",
       "      <td>0.03708</td>\n",
       "      <td>cd14v2_chromhmm18.hg19.4_TssFlnkD</td>\n",
       "      <td>0.432809</td>\n",
       "    </tr>\n",
       "    <tr>\n",
       "      <th>H3K4me1</th>\n",
       "      <td>/mnt/stripe/bio/experiments/signal_experiments...</td>\n",
       "      <td>fripz</td>\n",
       "      <td>0.03924</td>\n",
       "      <td>repeats_hg19_Satellite</td>\n",
       "      <td>0.432809</td>\n",
       "    </tr>\n",
       "    <tr>\n",
       "      <th>H3K4me1</th>\n",
       "      <td>/mnt/stripe/bio/experiments/signal_experiments...</td>\n",
       "      <td>fripz</td>\n",
       "      <td>0.04159</td>\n",
       "      <td>cd14_chromhmm18.hg19.4_TssFlnkD</td>\n",
       "      <td>0.432809</td>\n",
       "    </tr>\n",
       "  </tbody>\n",
       "</table>\n",
       "</div>"
      ],
      "text/plain": [
       "                                                           file normalization  \\\n",
       "modification                                                                    \n",
       "H3K4me1       /mnt/stripe/bio/experiments/signal_experiments...         fripz   \n",
       "H3K4me1       /mnt/stripe/bio/experiments/signal_experiments...         fripz   \n",
       "H3K4me1       /mnt/stripe/bio/experiments/signal_experiments...         fripz   \n",
       "H3K4me1       /mnt/stripe/bio/experiments/signal_experiments...         fripz   \n",
       "H3K4me1       /mnt/stripe/bio/experiments/signal_experiments...         fripz   \n",
       "H3K4me1       /mnt/stripe/bio/experiments/signal_experiments...         fripz   \n",
       "H3K4me1       /mnt/stripe/bio/experiments/signal_experiments...         fripz   \n",
       "H3K4me1       /mnt/stripe/bio/experiments/signal_experiments...         fripz   \n",
       "H3K4me1       /mnt/stripe/bio/experiments/signal_experiments...         fripz   \n",
       "H3K4me1       /mnt/stripe/bio/experiments/signal_experiments...         fripz   \n",
       "\n",
       "               pvalue                                               loci  \\\n",
       "modification                                                               \n",
       "H3K4me1       0.00001       diff_OD_YD_H3K4me1_zinbra_200_1.0E-4_10_both   \n",
       "H3K4me1       0.00024  cpg_minavcov10_complex_4outliers.narrow.adjust...   \n",
       "H3K4me1       0.00577        washu_german_rrbs_filtered_dmrs_all_10.hg19   \n",
       "H3K4me1       0.00789                              diffReps_H3K4me1_both   \n",
       "H3K4me1       0.01151                             diffReps_H3K4me1_young   \n",
       "H3K4me1       0.01771      cd14_tf_PU.1-IL4_GSM1681426_hg19_q0.05_narrow   \n",
       "H3K4me1       0.02201                  diffReps_broad_input_H3K4me1_both   \n",
       "H3K4me1       0.03708                  cd14v2_chromhmm18.hg19.4_TssFlnkD   \n",
       "H3K4me1       0.03924                             repeats_hg19_Satellite   \n",
       "H3K4me1       0.04159                    cd14_chromhmm18.hg19.4_TssFlnkD   \n",
       "\n",
       "              pvalue_corr  \n",
       "modification               \n",
       "H3K4me1          0.003160  \n",
       "H3K4me1          0.037920  \n",
       "H3K4me1          0.432809  \n",
       "H3K4me1          0.432809  \n",
       "H3K4me1          0.432809  \n",
       "H3K4me1          0.432809  \n",
       "H3K4me1          0.432809  \n",
       "H3K4me1          0.432809  \n",
       "H3K4me1          0.432809  \n",
       "H3K4me1          0.432809  "
      ]
     },
     "execution_count": 36,
     "metadata": {},
     "output_type": "execute_result"
    }
   ],
   "source": [
    "df = pd.DataFrame.from_csv(\"/mnt/stripe/bio/experiments/signal_experiments/H3K4me1/report.permutation_pvalue.csv\")\n",
    "# normalization = \"fripm\"\n",
    "normalization = \"fripz\"\n",
    "# normalization = \"rawq\"\n",
    "# normalization = \"scoresz\"\n",
    "df = df[df.normalization == normalization]\n",
    "df[\"loci\"] = [Path(f).name for f in df[\"file\"]]\n",
    "\n",
    "from statsmodels.stats.multitest import multipletests\n",
    "_reject, pvalues_corrected, *_ = multipletests(\n",
    "    pvals=df[\"pvalue\"],\n",
    "    # fdr_bh, holm-sidak, bonferroni\n",
    "    alpha=0.05, method=\"fdr_bh\"\n",
    ")\n",
    "df[\"pvalue_corr\"] = pvalues_corrected\n",
    "df.sort_values(by=\"pvalue_corr\")\n",
    "df.head(10)"
   ]
  },
  {
   "cell_type": "code",
   "execution_count": null,
   "metadata": {
    "collapsed": true
   },
   "outputs": [],
   "source": []
  }
 ],
 "metadata": {
  "kernelspec": {
   "display_name": "Python 3",
   "language": "python",
   "name": "python3"
  },
  "language_info": {
   "codemirror_mode": {
    "name": "ipython",
    "version": 3
   },
   "file_extension": ".py",
   "mimetype": "text/x-python",
   "name": "python",
   "nbconvert_exporter": "python",
   "pygments_lexer": "ipython3",
   "version": "3.6.1"
  },
  "toc": {
   "nav_menu": {},
   "number_sections": true,
   "sideBar": true,
   "skip_h1_title": false,
   "toc_cell": false,
   "toc_position": {},
   "toc_section_display": "block",
   "toc_window_display": false
  },
  "varInspector": {
   "cols": {
    "lenName": 16,
    "lenType": 16,
    "lenVar": 40
   },
   "kernels_config": {
    "python": {
     "delete_cmd_postfix": "",
     "delete_cmd_prefix": "del ",
     "library": "var_list.py",
     "varRefreshCmd": "print(var_dic_list())"
    },
    "r": {
     "delete_cmd_postfix": ") ",
     "delete_cmd_prefix": "rm(",
     "library": "var_list.r",
     "varRefreshCmd": "cat(var_dic_list()) "
    }
   },
   "types_to_exclude": [
    "module",
    "function",
    "builtin_function_or_method",
    "instance",
    "_Feature"
   ],
   "window_display": false
  }
 },
 "nbformat": 4,
 "nbformat_minor": 2
}
