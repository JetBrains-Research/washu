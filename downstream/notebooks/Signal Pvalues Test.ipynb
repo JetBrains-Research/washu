{
 "cells": [
  {
   "cell_type": "code",
   "execution_count": null,
   "metadata": {
    "ExecuteTime": {
     "end_time": "2018-02-12T14:57:31.433161Z",
     "start_time": "2018-02-12T14:57:29.855455Z"
    }
   },
   "outputs": [],
   "source": [
    "%matplotlib inline\n",
    "import matplotlib.pyplot as plt\n",
    "\n",
    "from pathlib import Path\n",
    "import pandas as pd\n",
    "import numpy as np\n",
    "import math\n",
    "\n",
    "import seaborn as sns\n",
    "\n",
    "from downstream.signals.signal_r2_permutation_test import collect_paths\n",
    "from downstream.signals.signal_pca_fit_error_pvalue_permutation_test import process"
   ]
  },
  {
   "cell_type": "code",
   "execution_count": null,
   "metadata": {
    "ExecuteTime": {
     "end_time": "2018-02-12T14:58:05.216104Z",
     "start_time": "2018-02-12T14:58:05.212035Z"
    },
    "collapsed": true
   },
   "outputs": [],
   "source": [
    "threads = 8\n",
    "simulations = 5000 #100000"
   ]
  },
  {
   "cell_type": "code",
   "execution_count": null,
   "metadata": {
    "ExecuteTime": {
     "end_time": "2018-02-12T14:57:32.575062Z",
     "start_time": "2018-02-12T14:57:32.552440Z"
    },
    "collapsed": true
   },
   "outputs": [],
   "source": [
    "def pvalue_for(normalization, signals_root, simulations, threads):\n",
    "    output_path = signals_root / \"validate.{}.pvalue.{}.csv\".format(normalization, simulations)\n",
    "    print(\"Results file:\", str(output_path), \"[exists]\" if output_path.exists() else \"[not exists]\")\n",
    "\n",
    "    if not output_path.exists():\n",
    "        print(\"  calculate:\", str(output_path.name))\n",
    "\n",
    "        # Collect files:\n",
    "        paths_filter = \"_{}.tsv\".format(normalization)\n",
    "        all_paths = collect_paths(signals_root)\n",
    "        #datatypes = [\"H3K4me1\", \"H3K4me3\", \"H3K27ac\", \"H3K36me3\", \"H3K27me3\", \"meth\"]\n",
    "        paths = [p for p in all_paths if paths_filter in p.name]\n",
    "        print(\"Selected Paths: \", len(paths), \"of\", len(all_paths))\n",
    "\n",
    "        # Calc pvalues:\n",
    "        process(paths, str(output_path), seed=100, simulations=simulations, threads=threads, fdr=True)\n",
    "        \n",
    "    return output_path"
   ]
  },
  {
   "cell_type": "code",
   "execution_count": null,
   "metadata": {
    "ExecuteTime": {
     "end_time": "2018-02-12T14:57:34.132516Z",
     "start_time": "2018-02-12T14:57:34.104938Z"
    },
    "collapsed": true
   },
   "outputs": [],
   "source": [
    "def fdr_control(normalization, signals_root, fdr=0.05,  simulations = 10000, threads = 4):\n",
    "    df_path = pvalue_for(normalization, signals_root, simulations, threads)\n",
    "    df = pd.DataFrame.from_csv(df_path, index_col=None)\n",
    "    df[\"loci\"] = [Path(f).name for f in df.file]\n",
    "    df[\"rnd_better_errors\"] = np.round(simulations * df.pvalue) - 1\n",
    "    df[\"expected_errors\"] = len(df) * df.pvalue\n",
    "    print(\"First pvalue failed FDR control:\")\n",
    "    print(*list(zip(df.columns, df.iloc[next(i for i, t in enumerate(df.pvalue_corr >= fdr) if t),:])),\n",
    "         sep=\"\\n\")\n",
    "    \n",
    "    fdf = df[df.pvalue_corr < fdr].drop(\"file\", axis=1)\n",
    "    print()\n",
    "    print(\"Loci number:\", len(df))\n",
    "    print(\"Passes FDR control:\", len(fdf))\n",
    "    print(\"Expected FP\", len(fdf) * fdr)\n",
    "    \n",
    "    return  fdf, df, df_path"
   ]
  },
  {
   "cell_type": "markdown",
   "metadata": {},
   "source": [
    "# Histone Modifications"
   ]
  },
  {
   "cell_type": "code",
   "execution_count": null,
   "metadata": {
    "ExecuteTime": {
     "end_time": "2018-02-12T14:57:47.539692Z",
     "start_time": "2018-02-12T14:57:47.536247Z"
    },
    "collapsed": true
   },
   "outputs": [],
   "source": [
    "signals_root = Path(\"/mnt/stripe/bio/experiments/signal_experiment\")"
   ]
  },
  {
   "cell_type": "code",
   "execution_count": null,
   "metadata": {
    "ExecuteTime": {
     "end_time": "2018-02-12T14:58:22.388824Z",
     "start_time": "2018-02-12T14:58:14.712712Z"
    },
    "scrolled": true
   },
   "outputs": [],
   "source": [
    "fdr_control(\"rawq\", signals_root, simulations = simulations, threads = threads)[0]"
   ]
  },
  {
   "cell_type": "code",
   "execution_count": null,
   "metadata": {
    "ExecuteTime": {
     "end_time": "2018-01-30T08:46:38.228131Z",
     "start_time": "2018-01-30T08:46:38.099098Z"
    }
   },
   "outputs": [],
   "source": [
    "fdr_control(\"fripz\", signals_root, simulations = simulations, threads = threads)[0]"
   ]
  },
  {
   "cell_type": "code",
   "execution_count": null,
   "metadata": {
    "ExecuteTime": {
     "end_time": "2018-02-12T14:58:51.668285Z",
     "start_time": "2018-02-12T14:58:51.418463Z"
    }
   },
   "outputs": [],
   "source": [
    "fdr_control(\"fripm\", signals_root, simulations = simulations, threads = threads)[0]"
   ]
  },
  {
   "cell_type": "code",
   "execution_count": null,
   "metadata": {
    "ExecuteTime": {
     "end_time": "2018-02-12T14:59:00.869884Z",
     "start_time": "2018-02-12T14:59:00.833846Z"
    }
   },
   "outputs": [],
   "source": [
    "fdr_control(\"manorm\", signals_root, simulations = simulations, threads = threads)[0]"
   ]
  },
  {
   "cell_type": "code",
   "execution_count": null,
   "metadata": {
    "ExecuteTime": {
     "end_time": "2018-02-12T14:59:19.076516Z",
     "start_time": "2018-02-12T14:59:18.855954Z"
    }
   },
   "outputs": [],
   "source": [
    "fdr_control(\"diffbind_tmm_minus_full\", signals_root, simulations = simulations, threads = threads)[0]"
   ]
  },
  {
   "cell_type": "code",
   "execution_count": null,
   "metadata": {
    "ExecuteTime": {
     "end_time": "2018-02-12T14:59:47.762772Z",
     "start_time": "2018-02-12T14:59:47.546015Z"
    }
   },
   "outputs": [],
   "source": [
    "fdr_control(\"diffbind_tmm_reads_effective_cpm\", signals_root, simulations = simulations, threads = threads)[0]"
   ]
  },
  {
   "cell_type": "markdown",
   "metadata": {},
   "source": [
    "# Input"
   ]
  },
  {
   "cell_type": "code",
   "execution_count": null,
   "metadata": {
    "ExecuteTime": {
     "end_time": "2018-01-30T08:46:45.402818Z",
     "start_time": "2018-01-30T08:46:45.399163Z"
    },
    "collapsed": true
   },
   "outputs": [],
   "source": [
    "input_signals_root = Path(\"/mnt/stripe/bio/experiments/signal_input/input_unique_tags_bws\")"
   ]
  },
  {
   "cell_type": "code",
   "execution_count": null,
   "metadata": {
    "ExecuteTime": {
     "end_time": "2018-01-30T08:46:48.183284Z",
     "start_time": "2018-01-30T08:46:48.125208Z"
    }
   },
   "outputs": [],
   "source": [
    "norm = \"rawq\"\n",
    "fdf, df, df_patj = fdr_control(norm, input_signals_root, simulations = simulations, threads = threads)\n",
    "df.drop(\"file\", axis=1).head()"
   ]
  },
  {
   "cell_type": "code",
   "execution_count": null,
   "metadata": {
    "ExecuteTime": {
     "end_time": "2018-01-30T08:46:51.811298Z",
     "start_time": "2018-01-30T08:46:51.700630Z"
    }
   },
   "outputs": [],
   "source": [
    "norm = \"rawz\"\n",
    "fdf, df, df_path = fdr_control(norm, input_signals_root, simulations = simulations, threads = threads)\n",
    "df[\"loci\"] = [Path(f).name for f in df.file]\n",
    "df.drop(\"file\", axis=1).head()"
   ]
  },
  {
   "cell_type": "markdown",
   "metadata": {
    "collapsed": true
   },
   "source": [
    "# H3K27me3 + DiffBind scores options"
   ]
  },
  {
   "cell_type": "code",
   "execution_count": null,
   "metadata": {
    "ExecuteTime": {
     "end_time": "2018-02-01T15:49:43.221510Z",
     "start_time": "2018-02-01T15:49:43.217708Z"
    },
    "collapsed": true
   },
   "outputs": [],
   "source": [
    "signals_root = Path(\"/mnt/stripe/bio/experiments/k27me3@dmrs\")"
   ]
  },
  {
   "cell_type": "code",
   "execution_count": null,
   "metadata": {
    "ExecuteTime": {
     "end_time": "2018-02-01T15:49:43.475521Z",
     "start_time": "2018-02-01T15:49:43.436740Z"
    }
   },
   "outputs": [],
   "source": [
    "csv_paths = [p for p in signals_root.glob(\"k*_counts.csv\")]\n",
    "[p.name for p in csv_paths]"
   ]
  },
  {
   "cell_type": "code",
   "execution_count": null,
   "metadata": {
    "ExecuteTime": {
     "end_time": "2018-02-01T15:49:44.205696Z",
     "start_time": "2018-02-01T15:49:44.194377Z"
    },
    "collapsed": true
   },
   "outputs": [],
   "source": [
    "def pvalue_for_csv_paths(paths, signals_root, simulations, threads):\n",
    "    output_path = signals_root / \"validate.pvalue.{}.csv\".format(simulations)\n",
    "    print(\"Results file:\", str(output_path), \"[exists]\" if output_path.exists() else \"[not exists]\")\n",
    "\n",
    "    if not output_path.exists():\n",
    "        print(\"  calculate:\", str(output_path.name))\n",
    "\n",
    "        # Calc pvalues:\n",
    "        process(paths, str(output_path), seed=100, simulations=simulations, threads=threads, fdr=True)\n",
    "        \n",
    "    return output_path"
   ]
  },
  {
   "cell_type": "code",
   "execution_count": null,
   "metadata": {
    "ExecuteTime": {
     "end_time": "2018-02-01T15:51:02.896792Z",
     "start_time": "2018-02-01T15:51:02.891532Z"
    }
   },
   "outputs": [],
   "source": [
    "df_path = pvalue_for_csv_paths(csv_paths, signals_root, simulations, threads)"
   ]
  },
  {
   "cell_type": "code",
   "execution_count": null,
   "metadata": {
    "ExecuteTime": {
     "end_time": "2018-02-01T15:50:19.307707Z",
     "start_time": "2018-02-01T15:50:19.171869Z"
    },
    "collapsed": true
   },
   "outputs": [],
   "source": [
    "#! rm /mnt/stripe/bio/experiments/k27me3@dmrs/validate.pvalue.100001.csv"
   ]
  },
  {
   "cell_type": "code",
   "execution_count": null,
   "metadata": {
    "ExecuteTime": {
     "end_time": "2018-02-01T15:54:09.168618Z",
     "start_time": "2018-02-01T15:54:09.141040Z"
    }
   },
   "outputs": [],
   "source": [
    "df = pd.DataFrame.from_csv(df_path, index_col=None).drop (\"file\", axis=1)\n",
    "df.loc[:, \"modification\"] = \"H3K27me3\"\n",
    "df.normalization = [l.replace(\"k27me3@dmrs_\", \"\") for l in df.normalization]\n",
    "df"
   ]
  },
  {
   "cell_type": "code",
   "execution_count": null,
   "metadata": {
    "ExecuteTime": {
     "end_time": "2018-02-01T15:56:58.719161Z",
     "start_time": "2018-02-01T15:56:58.690990Z"
    }
   },
   "outputs": [],
   "source": [
    "for i, r in df.iterrows():\n",
    "    print(\"[{}] {}: {}\".format(r.error, r.normalization, r.pvalue))"
   ]
  },
  {
   "cell_type": "code",
   "execution_count": null,
   "metadata": {
    "collapsed": true
   },
   "outputs": [],
   "source": []
  }
 ],
 "metadata": {
  "kernelspec": {
   "display_name": "Python 3",
   "language": "python",
   "name": "python3"
  },
  "language_info": {
   "codemirror_mode": {
    "name": "ipython",
    "version": 3
   },
   "file_extension": ".py",
   "mimetype": "text/x-python",
   "name": "python",
   "nbconvert_exporter": "python",
   "pygments_lexer": "ipython3",
   "version": "3.6.1"
  },
  "toc": {
   "nav_menu": {},
   "number_sections": true,
   "sideBar": true,
   "skip_h1_title": false,
   "toc_cell": false,
   "toc_position": {},
   "toc_section_display": "block",
   "toc_window_display": true
  },
  "varInspector": {
   "cols": {
    "lenName": 16,
    "lenType": 16,
    "lenVar": 40
   },
   "kernels_config": {
    "python": {
     "delete_cmd_postfix": "",
     "delete_cmd_prefix": "del ",
     "library": "var_list.py",
     "varRefreshCmd": "print(var_dic_list())"
    },
    "r": {
     "delete_cmd_postfix": ") ",
     "delete_cmd_prefix": "rm(",
     "library": "var_list.r",
     "varRefreshCmd": "cat(var_dic_list()) "
    }
   },
   "types_to_exclude": [
    "module",
    "function",
    "builtin_function_or_method",
    "instance",
    "_Feature"
   ],
   "window_display": false
  }
 },
 "nbformat": 4,
 "nbformat_minor": 2
}
